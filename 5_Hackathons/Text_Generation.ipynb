{
 "cells": [
  {
   "cell_type": "markdown",
   "id": "8645d52a",
   "metadata": {},
   "source": [
    "# Ein einfacher Textgenerator\n",
    "Der Code stammt von Usman Malik und ist unter https://stackabuse.com/python-for-nlp-developing-an-automatic-text-filler-using-n-grams/ beschrieben"
   ]
  },
  {
   "cell_type": "code",
   "execution_count": 31,
   "id": "7c7340ed-9f29-4bb5-bfd7-694ab46fb502",
   "metadata": {},
   "outputs": [],
   "source": [
    "import random\n",
    "import nltk\n",
    "from tqdm import tqdm"
   ]
  },
  {
   "cell_type": "markdown",
   "id": "e657faed",
   "metadata": {},
   "source": [
    "## Korpus einlesen und auf Lower Case stellen"
   ]
  },
  {
   "cell_type": "code",
   "execution_count": 32,
   "id": "e859df1e-60b0-41ac-a957-5fe0b09ce7ef",
   "metadata": {},
   "outputs": [],
   "source": [
    "german_sentences = \"\"\n",
    "with open(\"/Users/Yannick/Desktop/deu_news_2022_1M-sentences.txt\") as read_file:\n",
    "    for line in read_file:\n",
    "        german_sentences += line.split(\"\\t\")[1].strip().lower() + \" \""
   ]
  },
  {
   "cell_type": "markdown",
   "id": "942306a6",
   "metadata": {},
   "source": [
    "## Ngramme berechnen"
   ]
  },
  {
   "cell_type": "code",
   "execution_count": 37,
   "id": "b72421af-306c-4ba5-9d19-8b2c08584eeb",
   "metadata": {},
   "outputs": [],
   "source": [
    "words_tokens = nltk.word_tokenize(german_sentences, language=\"german\")"
   ]
  },
  {
   "cell_type": "code",
   "execution_count": 38,
   "id": "b0de1cc4-7cdd-4be6-828f-7e59cd3032c8",
   "metadata": {},
   "outputs": [
    {
     "data": {
      "text/plain": [
       "17713275"
      ]
     },
     "execution_count": 38,
     "metadata": {},
     "output_type": "execute_result"
    }
   ],
   "source": [
    "len(words_tokens)"
   ]
  },
  {
   "cell_type": "code",
   "execution_count": 83,
   "id": "e639a506-a3fd-4414-b8e4-75b52d67493d",
   "metadata": {},
   "outputs": [
    {
     "name": "stderr",
     "output_type": "stream",
     "text": [
      "100%|███████| 17713271/17713271 [00:39<00:00, 452535.52it/s]\n"
     ]
    }
   ],
   "source": [
    "ngrams = {}\n",
    "words = 4\n",
    "\n",
    "for i in tqdm(range(len(words_tokens)-words)):\n",
    "    seq = ' '.join(words_tokens[i:i+words])\n",
    "    if seq not in ngrams.keys():\n",
    "        ngrams[seq] = []\n",
    "    ngrams[seq].append(words_tokens[i+words])"
   ]
  },
  {
   "cell_type": "code",
   "execution_count": 58,
   "id": "d5846a8f-5093-4f62-a14e-8cdd599579ed",
   "metadata": {},
   "outputs": [],
   "source": [
    "ngrams_sorted = sorted(ngrams.items(), key = lambda x: len(x[1]), reverse=True)"
   ]
  },
  {
   "cell_type": "code",
   "execution_count": null,
   "id": "c69fd6f5-c3a6-484b-94a3-48670aef820e",
   "metadata": {},
   "outputs": [],
   "source": [
    "for i in range(2):\n",
    "    print(ngrams_sorted[i], \"\\n\")"
   ]
  },
  {
   "cell_type": "code",
   "execution_count": 74,
   "id": "22f12555-16ce-4264-845a-2ec93db1528f",
   "metadata": {},
   "outputs": [
    {
     "data": {
      "text/plain": [
       "['borrell', '.', 'der', ',', ',', ',', ',']"
      ]
     },
     "execution_count": 74,
     "metadata": {},
     "output_type": "execute_result"
    }
   ],
   "source": [
    "ngrams[\"am montag sagte\"]"
   ]
  },
  {
   "cell_type": "markdown",
   "id": "1db7dabe",
   "metadata": {},
   "source": [
    "## Text generieren und ausgeben"
   ]
  },
  {
   "cell_type": "code",
   "execution_count": 92,
   "id": "420ab1c5-9d3e-4b70-8730-d88d57e4dbf6",
   "metadata": {},
   "outputs": [
    {
     "name": "stdout",
     "output_type": "stream",
     "text": [
      ". es sollte nicht sein , dass man gezwungen sei , einige produkte zu entsorgen , so die schweden im rahmen der bilanzvorlage für das dritte quartal präsentieren . die finanzdirektion will jedoch die pferde nicht scheu machen und betont , für die ausschüttungen sei der jahresabschluss mit stichtag 31.\n"
     ]
    }
   ],
   "source": [
    "curr_sequence = \". es sollte nicht\"\n",
    "output = curr_sequence\n",
    "for i in range(300):\n",
    "    if curr_sequence not in ngrams.keys():\n",
    "        break\n",
    "    possible_words = ngrams[curr_sequence]\n",
    "    next_word = possible_words[random.randrange(len(possible_words))]\n",
    "    output += ' ' + next_word\n",
    "    seq_words = nltk.word_tokenize(output)\n",
    "    curr_sequence = ' '.join(seq_words[len(seq_words)-words:len(seq_words)])\n",
    "print(output)"
   ]
  },
  {
   "cell_type": "code",
   "execution_count": null,
   "id": "0bc27c36",
   "metadata": {},
   "outputs": [],
   "source": []
  }
 ],
 "metadata": {
  "kernelspec": {
   "display_name": "Python 3 (ipykernel)",
   "language": "python",
   "name": "python3"
  },
  "language_info": {
   "codemirror_mode": {
    "name": "ipython",
    "version": 3
   },
   "file_extension": ".py",
   "mimetype": "text/x-python",
   "name": "python",
   "nbconvert_exporter": "python",
   "pygments_lexer": "ipython3",
   "version": "3.10.8"
  }
 },
 "nbformat": 4,
 "nbformat_minor": 5
}
