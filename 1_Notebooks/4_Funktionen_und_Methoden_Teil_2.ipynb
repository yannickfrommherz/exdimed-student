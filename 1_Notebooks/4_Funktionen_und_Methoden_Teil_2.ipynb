{
 "cells": [
  {
   "cell_type": "markdown",
   "id": "b740ca68-45a1-41f0-b216-1c25aa4e072c",
   "metadata": {
    "deletable": false,
    "editable": false
   },
   "source": [
    "# Funktionen und Methoden Teil 2\n",
    "\n",
    "Willkommen zurück! Auch in diesem Notebook geht es um Funktionen und Methoden. Konkret lernst Du, wie Du Funktionen selbst definieren kannst und was Module sind. Wie versprochen erwartet Dich als Erstes aber unser Anwendungsfall - das Errechnen von Schlüsselwörtern in den Koalitionsverträgen.\n",
    "\n",
    "\n",
    "##  🔧 Anwendungsfall: Errechnen von Schlüsselwörtern\n",
    "Gegeben sind die Koalitionsverträge von 2018 und 2021 in ```kv18``` bzw. ```kv21```. Zusätzlich ist ```stopwords``` gegeben, eine Liste mit sog. Stoppwörtern, also hochfrequenten Wörtern wie *und*, *der*, *die*, *das* etc., die wir von der Berechnung von Schlüsselwörtern ausschließen wollen. \n",
    "\n",
    "Bereinige sämtliche Wörter und entfern alle Stoppwörter. Errechne anschließend für jeden Wort*type* (vgl. Notebook \"Datentypen\"), wie oft er vorkommt und speicher diese paarweise Information in einem geeigneten Objekt ab. Sortier dieses Objekt in absteigender Reihenfolge und lass Dir die zehn häufigsten Schlüsselwörter ausgeben. Wiederhol diese Schritte für den zweiten Text, um die Schlüsselwörter vergleichen zu können. \n",
    "\n",
    "Du kannst Dich entscheiden, ob Du die Aufgabe von hier an selbst lösen möchtest, oder, alternativ, Schritt für Schritt zur Lösung geleitet werden willst. Die Aufgabe ist dann bereits in sinnvolle Schritte heruntergebrochen, die einzelnen Schritte musst Du aber immer noch selbst lösen. Am Ende kannst Du alle Schritte zu einem Skript zusammenfügen. \n",
    "\n",
    "Wenn Du es selbst probieren willst, füg Deinen Code direkt nach der Aufgabenbeschreibung ein. Die Schritt-für-Schritt-Anleitung folgt im Anschluss. \n",
    "\n",
    "***"
   ]
  },
  {
   "cell_type": "code",
   "execution_count": null,
   "id": "d3f78287-3777-4e76-9f2d-0b22904b570a",
   "metadata": {},
   "outputs": [],
   "source": [
    "#In diese Zelle kannst Du den Code zur Übung schreiben.\n",
    "\n",
    "with open(\"../3_Dateien/Koalitionsvertraege/koalitionsvertrag_2018.txt\", encoding=\"utf-8\") as f:\n",
    "    kv18 = f.read()\n",
    "    \n",
    "with open(\"../3_Dateien/Koalitionsvertraege/koalitionsvertrag_2021.txt\", encoding=\"utf-8\") as g:\n",
    "    kv21 = g.read()\n",
    "    \n",
    "stopwords = []\n",
    "\n",
    "with open(\"../3_Dateien/Koalitionsvertraege/stopwords-de.txt\", encoding=\"utf-8\") as h:\n",
    "    for line in h:\n",
    "        stopwords.append(line.rstrip())\n",
    "\n",
    "\n",
    "\n",
    "\n",
    "\n",
    "\n",
    "\n",
    "\n",
    "\n",
    "\n",
    "\n",
    "\n",
    "\n",
    "\n",
    "\n",
    "\n",
    "\n",
    "\n",
    "\n",
    "\n"
   ]
  },
  {
   "cell_type": "markdown",
   "id": "9c1776df-f52a-47a9-9f32-5a04dda9b73f",
   "metadata": {
    "deletable": false,
    "editable": false
   },
   "source": [
    "*** \n",
    "\n",
    "**Schritt-für-Schritt-Anleitung**\n",
    "\n",
    "1) Lad die drei Dateien in den Arbeitsspeicher, indem Du folgenden Code ausführst."
   ]
  },
  {
   "cell_type": "code",
   "execution_count": null,
   "id": "814b9fd3-3d11-4c41-bec6-244a49ea1569",
   "metadata": {
    "tags": []
   },
   "outputs": [],
   "source": [
    "with open(\"../3_Dateien/Koalitionsvertraege/koalitionsvertrag_2018.txt\", encoding=\"utf-8\") as f:\n",
    "    kv18 = f.read()\n",
    "    \n",
    "with open(\"../3_Dateien/Koalitionsvertraege/koalitionsvertrag_2021.txt\", encoding=\"utf-8\") as g:\n",
    "    kv21 = g.read()\n",
    "    \n",
    "stopwords = []\n",
    "\n",
    "with open(\"../3_Dateien/Koalitionsvertraege/stopwords-de.txt\", encoding=\"utf-8\") as h:\n",
    "    for line in h:\n",
    "        stopwords.append(line.rstrip())"
   ]
  },
  {
   "cell_type": "markdown",
   "id": "c0f13b30-368e-49ef-9fba-ed3ec643d685",
   "metadata": {
    "deletable": false,
    "editable": false
   },
   "source": [
    "Im Folgenden arbeiten wir erst einmal mit ```kv18```, derselbe Code lässt sich anschließend auch auf ```kv21``` anwenden. Als erstes wollen wir von *einem* langen string mit dem ganzen Koalitionsvertrag zu einer Liste mit Wörtern kommen.\n",
    "\n",
    "2) Tokenisier ```kv18``` und lass Dir zum Überprüfen eine Schnittmenge davon ausgeben, z.&nbsp;B. alle Wörter vom hundertsten bis zum hundertzwanzigsten.\n",
    "\n",
    "<details>\n",
    "  <summary>💡 Tipp </summary>\n",
    "    <br><i>Tokenisieren</i> bedeutet, den Koalitionsvertrag bei jedem Leerzeichen zu teilen und ihn so in eine Liste mit Wörtern zu überführen.\n",
    "</details>"
   ]
  },
  {
   "cell_type": "code",
   "execution_count": null,
   "id": "ead03834-8f30-48ce-8bd5-63c8f1ef3502",
   "metadata": {
    "tags": []
   },
   "outputs": [],
   "source": [
    "#In diese Zelle kannst Du den Code zur Aufgabe schreiben.\n",
    "\n",
    "\n"
   ]
  },
  {
   "cell_type": "markdown",
   "id": "5ddd4a13-ade6-456a-9270-dfd91308b9b9",
   "metadata": {
    "deletable": false,
    "editable": false
   },
   "source": [
    "Wie Du weißt (und vermutlich auch anhand der ausgegebenen Wörter sehen kannst), müssen wir die Wörter nun bereinigen, um sie anschließend \"fair\" auszählen zu können: \n",
    "\n",
    "3) Änder sämtliche Wörter in Kleinbuchstaben und entfern alle Satz- und Sonderzeichen an den Wortenden (hier ist ein iterativer Ansatz nötig, indem Du Dir das Resultat mehrfach ausgeben lässt [trial and error!] und schaust, welche weiteren Zeichen entfernt werden müssen, bis alle weg sind). Überprüf anschließend für jedes bereinigte Wort, ob es in ```stopwords``` ist. Wenn ja, überspring es, wenn nein, häng es einer Liste namens ```preprocessed_words``` an.\n",
    "\n",
    "<details>\n",
    "  <summary>💡 Tipp </summary>\n",
    "    <br>Wenn Du die Wörter kleinschreibst sowie Satz- und Sonderzeichen entfernst, musst Du darauf achten, die bereinigten Wörter jeweils in einer neuen Variable zu speichern. Da strings unveränderlich sind (vgl. Notebook \"Datentypen\"), verändern string-Methoden nämlich nicht das ursprüngliche Objekt.\n",
    "</details>"
   ]
  },
  {
   "cell_type": "code",
   "execution_count": null,
   "id": "0730f77c-8efe-4807-96aa-4528a6a4a6b5",
   "metadata": {
    "tags": []
   },
   "outputs": [],
   "source": [
    "#In diese Zelle kannst Du den Code zur Aufgabe schreiben.\n",
    "\n"
   ]
  },
  {
   "cell_type": "markdown",
   "id": "b0817159-7ed6-4bf2-bf59-09005e2c476b",
   "metadata": {
    "deletable": false,
    "editable": false
   },
   "source": [
    "Um die Häufigkeit pro Worttype ausrechnen zu können, müssen wir erst einmal wissen, welche Worttypes in ```preprocessed_words``` überhaupt vorkommen. \n",
    "\n",
    "4) Verwend den Casting-Operator eines hierfür geeigneten Datentyps (vgl. Notebook \"Datentypen\"), um nur die einzigartigen Elemente zu erhalten. Weis das Ergebnis einer Variable namens ```types``` zu."
   ]
  },
  {
   "cell_type": "code",
   "execution_count": null,
   "id": "0d1fd820-e504-4e90-b801-b8d9a1d48e60",
   "metadata": {},
   "outputs": [],
   "source": [
    "#In diese Zelle kannst Du den Code zur Aufgabe schreiben.\n",
    "\n",
    "\n"
   ]
  },
  {
   "cell_type": "markdown",
   "id": "e42a2498-405e-4f13-9141-6f8a3d1d3a66",
   "metadata": {
    "deletable": false,
    "editable": false
   },
   "source": [
    "Gut. Jetzt haben wir ein Set an Types. Für jeden Type können wir nun ausrechnen, wie oft er in ```preprocessed_words``` vorkommt. Dadurch erhalten wir für jeden Type eine Zahl. Diese paarweise Information wollen wir in einem geeigneten Format, konkret einem dictionary, abspeichern. \n",
    "\n",
    "5) Initialisier ein leeres dictionary names ```freq_dict```.\n",
    "6) Iterier über ```types```.\n",
    "7) Schaff für jeden Type ein Schlüssel-Werte-Paar mit dem Type als Schlüssel und dem Vorkommen des jeweiligen Types in ```preprocessed_words``` als Wert. Wie man Schlüssel-Werte-Paare in einem dictionary schafft, haben wir oben gelernt (```dict[\"key\"] = \"value\"```). Denk daran, dass anstelle von Objekten, hier strings, immer auch Variablen stehen können.\n",
    "\n",
    "<details>\n",
    "    <summary>💡 Tipp</summary>\n",
    "    <br>Zum Auszählen der Häufigkeiten kannst Du eine aus dem Notebook \"Funktionen und Methoden Teil 1\" bekannte string-Methode nutzen.\n",
    "</details>"
   ]
  },
  {
   "cell_type": "code",
   "execution_count": null,
   "id": "a4426db8-868e-461d-b62b-570b748c5317",
   "metadata": {},
   "outputs": [],
   "source": [
    "#In diese Zelle kannst Du den Code zur Aufgabe schreiben.\n",
    "\n",
    "\n"
   ]
  },
  {
   "cell_type": "markdown",
   "id": "bda5c6f5-af6e-4fae-9845-c631016bcdb1",
   "metadata": {
    "deletable": false,
    "editable": false
   },
   "source": [
    "Die Schlüssel-Werte-Paare in ```freq_dict``` sind noch ungeordnet. \n",
    "\n",
    "8) Verwend eine Dir bekannte Funktion, um eine nach Häufigkeit (Werten) sortierte Liste zu erstellen und weis diese der Variablen ```freq_sorted``` zu."
   ]
  },
  {
   "cell_type": "code",
   "execution_count": null,
   "id": "d595e980-4281-4094-91c7-d79fdf925f60",
   "metadata": {},
   "outputs": [],
   "source": [
    "#In diese Zelle kannst Du den Code zur Aufgabe schreiben.\n",
    "\n",
    "\n"
   ]
  },
  {
   "cell_type": "markdown",
   "id": "ea0edb90-3203-45c1-9132-084e157cb181",
   "metadata": {
    "deletable": false,
    "editable": false
   },
   "source": [
    "Wunderbar! Schauen wir uns die zehn häufigsten Wörter an:\n",
    "\n",
    "9) Nutz eine Kontrollstruktur in Kombination mit der ```range```-Funktion (vgl. Notebook \"Kontrollstrukturen\"), um Dir die ersten zehn Type-Vorkommen-Paare ausgeben zu lassen. "
   ]
  },
  {
   "cell_type": "code",
   "execution_count": null,
   "id": "1abdfad1-6afe-4963-b448-3e4e1f8de182",
   "metadata": {},
   "outputs": [],
   "source": [
    "#In diese Zelle kannst Du den Code zur Aufgabe schreiben.\n",
    "\n",
    "\n"
   ]
  },
  {
   "cell_type": "markdown",
   "id": "185840e2-f2d0-485a-b002-3f8c694861df",
   "metadata": {
    "deletable": false,
    "editable": false
   },
   "source": [
    "Füg unten sämtliche Codeteile in der richtigen Reihenfolge zusammen. \n",
    "\n",
    "10) Verwend Kommentare (```#```, ```\"\"\"...\"\"\"```), um jeden einzelnen Schritt zu dokumentieren (als Programmierer:innen denken  wir direkt nach dem Fertigschreiben eines Codes oft, dass dieser selbsterklärend sei, i. d. R. versteht man nach einiger Zeit aber nicht mal seinen eigenen Code auf Anhieb. Mach es Dir also zur Gewohnheit, Deine Codes stets ausführlich zu dokumentieren)."
   ]
  },
  {
   "cell_type": "code",
   "execution_count": null,
   "id": "6e710380-c3f4-4fd9-9d62-33c76c6554e2",
   "metadata": {},
   "outputs": [],
   "source": [
    "#In diese Zelle kannst Du den Code zur Aufgabe schreiben.\n",
    "\n",
    "\n"
   ]
  },
  {
   "cell_type": "markdown",
   "id": "18228586-0aa1-486d-8e4f-05adfa4dbbba",
   "metadata": {
    "deletable": false,
    "editable": false
   },
   "source": [
    "***\n",
    "\n",
    "Um Schlüsselwörter für ```kv21``` auszurechnen, könntest Du nun einfach ```kv18``` durch ```kv21``` im ```split```-Befehl ersetzen. Alternativ könntest Du den Code auch einfach noch einmal für ```kv21``` angepasst darunter kopieren. Beide Varianten sind aber nicht sonderlich elegant. Sie erfordern entweder manuelles Ändern einer Variablen oder sind unnötig lang. Und stell Dir vor, Du müsstest Schlüsselwörter für alle Koalitionsverträge seit 1945 ausrechnen... 😱\n",
    "\n",
    "Hier haben wir es also mit Code zu tun, den wir mehr als einmal ausführen wollen. Ein klassischer Fall für *Code Reuse*, und konkreter: für unsere erste eigene Funktion. "
   ]
  },
  {
   "cell_type": "markdown",
   "id": "9d5551b6-76b0-4f3c-9ffb-aaeee271e671",
   "metadata": {
    "deletable": false,
    "editable": false
   },
   "source": [
    "## Funktionen selbst definieren\n",
    "\n",
    "Funktionen selbst zu definieren lohnt sich immer dann, wenn wir (fast) den gleichen Code für strukturell ähnliche Objekte mehrfach ausführen müssen (und nicht bereits eine eingebaute bzw. über ein Modul importierbare Funktion/Methode dafür besteht, vgl. unten). \n",
    "\n",
    "Wie bei Kontrollstrukturen verwenden wir Variablen im Code einer Funktionsdefinition. Anstatt ```kv18``` werden wir also einen Platzhalter, z.&nbsp;B. namens ```text``` in den Code schreiben (```text``` ist keine schlechte Idee, denn tatsächlich lässt sich unser Code ja nicht nur auf Koalitionsverträge anwenden, sondern auf strings jeglicher Art). Bei jedem Funktionsaufruf übergeben wir unserer Funktion ein Objekt, das bei der Variablen ```text``` im Funktionscode eingesetzt werden soll. Damit unterscheidet sich unsere Funktion in keiner Weise von eingebauten Funktionen wie ```print``` oder ```len```, denen wir ja auch in Klammern ein Objekt übergeben. \n",
    "\n",
    "Um nun eine Funktion zu definieren, brauchen wir das ```def```-Statement mit folgender Syntax:\n",
    "\n",
    "```def name(argument):```\n",
    "\n",
    "Bei ```name``` setzen wir einen beliebigen Funktionsnamen ein, den wir später beim Funktionsaufruf verwenden. Bei ```argument``` definieren wir, was der Funktion übergeben werden muss bzw. kann, wenn sie aufgerufen wird. In unserem Fall wollen wir jeweils nur einen Koalitionsvertrag übergeben. Wir nennen unser Argument ```text```. Der Name des Arguments definiert gleichzeitig den Namen der betreffenden Variablen im Code. Überall wo ```text``` im Funktionscode steht, wird das eingesetzt, was der Funktion für dieses Argument übergeben wird.\n",
    "\n",
    "Abgeschlossen wird das ```def```-Statement von einem Doppelpunkt. Unter dem Doppelpunkt eingerückt folgt nun der Code, wobei wir wie gesagt das hardgecodete ```kv18``` durch die Variable ```text``` ersetzen. Im Folgenden siehst Du die Musterlösung zur obigen Aufgabe, verwandelt in eine Funktion:"
   ]
  },
  {
   "cell_type": "code",
   "execution_count": null,
   "id": "5347259e-d962-4b84-b1fb-baa102a30efb",
   "metadata": {},
   "outputs": [],
   "source": [
    "def get_freqs(text):\n",
    "    \n",
    "    stopwords = []\n",
    "        \n",
    "    with open(\"../3_Dateien/Koalitionsvertraege/stopwords-de.txt\", encoding=\"utf-8\") as h:\n",
    "        for line in h:\n",
    "            stopwords.append(line.rstrip())\n",
    "    \n",
    "    words = text.split()\n",
    "\n",
    "    preprocessed_words = []\n",
    "\n",
    "    for word in words:\n",
    "        word = word.lower() \n",
    "        word = word.strip(\".,():\")\n",
    "        if word in stopwords:\n",
    "            continue\n",
    "        preprocessed_words.append(word)\n",
    "\n",
    "    types = set(preprocessed_words)\n",
    "\n",
    "    freq_dict = {} \n",
    "\n",
    "    for type_ in types:\n",
    "        freq_dict[type_] = preprocessed_words.count(type_)\n",
    "\n",
    "    freq_sorted = sorted(freq_dict.items(), key = lambda x: x[1], reverse=True)\n",
    "\n",
    "    for i in range(10):\n",
    "        print(freq_sorted[i][0], \"kommt\", freq_sorted[i][1], \"oft vor.\")"
   ]
  },
  {
   "cell_type": "markdown",
   "id": "b3d21895-4b94-4c89-843a-e9a2831decd4",
   "metadata": {
    "deletable": false,
    "editable": false
   },
   "source": [
    "Wenn Du diese Zelle ausführst, passiert vordergründig nichts. Im Hintergrund allerdings wurde die Funktion definiert und wir können sie nun über die uns vertraute Syntax für beide Koalitionsverträge aufrufen (die Ausführung kann einige Sekunden dauern, Python hat ja einiges auszurechnen)."
   ]
  },
  {
   "cell_type": "code",
   "execution_count": null,
   "id": "c19a7371-b1e6-47dc-bb38-f35e4e91a4e8",
   "metadata": {},
   "outputs": [],
   "source": [
    "get_freqs(kv18)\n",
    "print(\"\\n\")\n",
    "get_freqs(kv21)"
   ]
  },
  {
   "cell_type": "markdown",
   "id": "ec81b623-305a-4fb2-bb7c-df5bda86fe0b",
   "metadata": {
    "deletable": false,
    "editable": false
   },
   "source": [
    "Interessanterweise sind die Schlüsselwörter ziemlich ähnlich, trotz der Tatsache, dass sie von unterschiedlichen Parteien kommen. Vielleicht gibt es so was wie genrespezifische Wörter bei Koalitionsverträgen?\n",
    "\n",
    "Wir haben in dieser Zelle übrigens keine ```print```-Befehle benutzt, denn die sind bereits im Funktionscode. \n",
    "\n",
    "Wenn wir mit den errechneten Frequenzlisten weiterarbeiten wollen (anstatt bloß die zehn häufigsten Wörter zu erhalten), müssen wir den Funktionscode noch einmal leicht anpassen. Konkret streichen wir sämtliche ```print```-Befehle und fügen stattdessen ein ```return```-Statement am Ende ein. Dieses benutzt man immer, wenn man will, dass eine Funktion etwas zurückgibt. Die eingebaute Funktion ```sorted``` tut dies zum Beispiel: Sie gibt eine sortierte Liste zurück. Diese sortierte Liste haben wir oben jeweils direkt einer neuen Variable zugewiesen. Gleiches tun wir unten im Anschluss an den modifizierten Code:"
   ]
  },
  {
   "cell_type": "code",
   "execution_count": null,
   "id": "d0bc551f-2639-4211-a9a4-036a629ac1a6",
   "metadata": {},
   "outputs": [],
   "source": [
    "def get_freqs(text):\n",
    "        \n",
    "    stopwords = []\n",
    "    \n",
    "    with open(\"../3_Dateien/Koalitionsvertraege/stopwords-de.txt\", encoding=\"utf-8\") as h:\n",
    "        for line in h:\n",
    "            stopwords.append(line.rstrip())\n",
    "    \n",
    "    words = text.split()\n",
    "\n",
    "    preprocessed_words = []\n",
    "\n",
    "    for word in words:\n",
    "        word = word.lower() \n",
    "        word = word.strip(\".,():\")\n",
    "        if word in stopwords:\n",
    "            continue\n",
    "        preprocessed_words.append(word)\n",
    "\n",
    "    types = set(preprocessed_words)\n",
    "\n",
    "    freq_dict = {} \n",
    "\n",
    "    for type_ in types:\n",
    "        freq_dict[type_] = preprocessed_words.count(type_)\n",
    "\n",
    "    freq_sorted = sorted(freq_dict.items(), key = lambda x: x[1], reverse=True)\n",
    "\n",
    "    return freq_sorted"
   ]
  },
  {
   "cell_type": "code",
   "execution_count": null,
   "id": "66e15aa0-a4e4-40c4-8c0b-38027e2fb0de",
   "metadata": {},
   "outputs": [],
   "source": [
    "keywords_kv18 = get_freqs(kv18)\n",
    "keywords_kv21 = get_freqs(kv21)"
   ]
  },
  {
   "cell_type": "markdown",
   "id": "f4a18e71-dc32-457b-8ae4-0180e456c611",
   "metadata": {
    "deletable": false,
    "editable": false
   },
   "source": [
    "Nun wird mit den beiden Variablen ```keywords_kv18``` und ```keywords_kv21``` eine sortierte Frequenzliste für den jeweiligen Koalitionsvertrag referenziert. Mit einer ```for```-Schleife in Kombination mit ```range``` können wir uns jetzt die zehn häufigsten Wörter sogar parallel für die beiden Koalitionsverträge ausgeben lassen:"
   ]
  },
  {
   "cell_type": "code",
   "execution_count": null,
   "id": "4db28efd-41ad-4205-a971-b8753ee75626",
   "metadata": {},
   "outputs": [],
   "source": [
    "for i in range(10):\n",
    "    \n",
    "    #Die Ausgabe wird mittels sog. f-strings in zwei Spalten formatiert, die wir uns im Notebook 'Input und Output Teil 2' genauer anschauen.\n",
    "    print(\"KV18:\", f\"{keywords_kv18[i][0]:20}\", \"KV21:\", keywords_kv21[i][0])"
   ]
  },
  {
   "cell_type": "markdown",
   "id": "da0777b6-26d3-4802-851b-0e43f8f88e33",
   "metadata": {
    "deletable": false,
    "editable": false
   },
   "source": [
    "Probier Deine Funktion gerne an einem anderen Text aus. Du kannst dazu eine neue ```.txt```-Datei in den Arbeitsspeicher laden (indem Du den Dateipfad zum Koalitionsvertrag im Einlese-Befehl von oben durch den Pfad zur neuen Datei ersetzt, alle Details zum Input von Dateien im zweiteiligen Notebook \"Input und Output\") oder alternativ den Text als string einer Variable zuweisen und diese dann ```get_freqs``` übergeben.\n",
    "\n",
    "Wie wir bereits bei Funktionen der Grundausstattung (etwa ```sorted```) gesehen haben und unten bei einer modifizierten Version von ```get_freqs``` sehen werden, ist es möglich, mehrere obligatorische und auch optionale Argumente bei einer Funktion zu definieren. Optional bedeutet, dass es einen Standardwert gibt, mit dem die Funktion rechnet, wenn ihr kein Wert für dieses Argument übergeben wird. Die einzelnen Argumente werden im ```def```-Statement kommasepariert. Beim Funktionsaufruf muss die Reihenfolge der zu übergebenden Argumente der Reihenfolge in der Funktionsdefinition entsprechen. \n",
    "\n",
    "***\n",
    "\n",
    "✏️ **Übung 1:** Definier eine Funktion ```sum_div```, die drei Argumente nimmt. Das erste soll mit dem zweiten addiert werden. Das Ergebnis davon soll durch das dritte Argument geteilt werden. Dieses Ergebnis soll zurückgegeben werden. Entfern anschließend den Hashtag vor der bereits existierenden Code-Zeile. Wenn Du ```True``` erhältst, hast Du alles richtig gemacht!\n",
    "\n",
    "<details>\n",
    "  <summary>💡 Tipp </summary>\n",
    "    <br>Vergiss nicht, ein Statement in die Funktion einzubauen, das dafür sorgt, dass die Funktion den errechneten Wert zurückgibt.\n",
    "</details>\n"
   ]
  },
  {
   "cell_type": "code",
   "execution_count": null,
   "id": "d88753c7-58c1-4122-8061-e961cd130029",
   "metadata": {},
   "outputs": [],
   "source": [
    "#In diese Zelle kannst Du den Code zur Übung schreiben.\n",
    "\n",
    "\n",
    "#sum_div(2,3,2) == 2.5"
   ]
  },
  {
   "cell_type": "markdown",
   "id": "545863e4-66f5-40d3-a7f7-65ee3d72788c",
   "metadata": {
    "deletable": false,
    "editable": false
   },
   "source": [
    "***\n",
    "\n",
    "Abschließend schauen wir uns Module an. Da noch einmal einiges an Informationen auf Dich zukommt, lohnt es sich, mit einem \"frischen Kopf\" an diesen letzten Teil des Notebooks heranzugehen."
   ]
  },
  {
   "cell_type": "markdown",
   "id": "6f643db1-08a8-45c5-9ad8-25c76d6503f5",
   "metadata": {
    "deletable": false,
    "editable": false
   },
   "source": [
    "## Module\n",
    "\n",
    "Bis zu diesem Punkt haben wir mit Funktionen/Methoden aus der Grundausstattung von Python gearbeitet. Diese haben zweifelsohne einiges drauf. Dennoch kommt man als Programmier:in bald an einen Punkt, an dem sich bestimmte Anwendungsfälle effizienter lösen lassen, wenn man über die Funktionen/Methoden der Grundausstattung hinaus anwendungsspezifischeren Code verwendet. Für viele Anwendungsfelder – etwa für den Umgang mit Text, zum Scrapen von Webseiten oder zur Visualisierung von Daten – gibt es sog. *Module* (oder *Packages* bzw. *Bibliotheken*, siehe Bemerkung zum Schluss), mit denen wir diese spezifischen Probleme wesentlich effizienter angehen können. \n",
    "\n",
    "Solche Module stammen entweder von Python selbst oder von Entwickler:innen aus der Python-Community. Mit Modulen von Python sind Module gemeint, die Teil der sog. *Standardbibliothek* sind, nicht aber der Grundausstattung. In der Praxis bedeutet das Folgendes: Wenn wir Python installieren, werden die Module der Standardbibliothek automatisch mitinstalliert. Sobald wir ein solches Modul in unserem Code verwenden wollen, müssen wir es jedoch importieren, da es nicht zur Grundausstattung gehört. Module von anderen Entwickler:innen müssen wir immer zuerst (zusätzlich zu Python) installieren, bevor wir sie importieren und verwenden können. \n",
    "\n",
    "Ein Modul an sich ist ganz simpel aufgebaut: Es handelt sich schlicht um eine Python-Datei mit dem Dateisuffix \".py\", die Code enthält. Machen wir es konkret, und zwar vorerst an einem eigenen Modul. Denn auch wir können unsere eigenen Module erstellen. \n",
    "\n",
    "Der Code der Schlüsselwortfunktion von oben befindet sich bereits als Modul mit dem Namen ```keywords``` im Verzeichnis \"3_Dateien/Module/\". Öffne die Datei und schau Dir den Code an. Wie Du sehen wirst, gibt es einen Unterschied zum Code von oben: Die Funktion erwartet neben ```text``` auch ```stopwords``` als zweites Argument. ```text``` soll weiterhin als string übergeben werden, ```stopwords``` hingegen als Liste. Mit der Ausklammerung der Stoppwortdatei aus dem Funktionscode im Modul wird Letzteres überall einsetzbar. Der Pfad zur Stoppwortdatei ändert sich nämlich in Abhängigkeit des Speicherorts des Moduls. Dieses Problem umgehen wir, indem wir die Stoppwörter beim Funktionsaufruf übergeben. Diese Abstraktion macht es uns auch möglich, bei Bedarf andere Stoppwortlisten zu verwenden. Im Notebook \"Input und Output Teil 1\" lernen wir mehr über Dateipfade. Erst einmal ist nur wichtig, dass die Funktion im Modul neu auch Stoppwörter als zweites Argument erwartet.\n",
    "\n",
    "Bevor wir unser Modul importieren, laden wir uns die Koalitionstexte sowie die Stoppwörter zur Sicherheit noch einmal in den Arbeitsspeicher. Führ dazu die folgende Zelle aus."
   ]
  },
  {
   "cell_type": "code",
   "execution_count": null,
   "id": "25353d1a-8098-4fa0-866a-59076a10acd8",
   "metadata": {},
   "outputs": [],
   "source": [
    "with open(\"../3_Dateien/Koalitionsvertraege/koalitionsvertrag_2018.txt\", encoding=\"utf-8\") as f:\n",
    "    kv18 = f.read()\n",
    "    \n",
    "with open(\"../3_Dateien/Koalitionsvertraege/koalitionsvertrag_2021.txt\", encoding=\"utf-8\") as g:\n",
    "    kv21 = g.read()\n",
    "    \n",
    "stopwords_list = []\n",
    "with open(\"../3_Dateien/Koalitionsvertraege/stopwords-de.txt\", encoding=\"utf-8\") as h:\n",
    "    for line in h:\n",
    "        stopwords_list.append(line.rstrip())\n",
    "\n",
    "\"\"\"Diese beiden Zeilen kannst Du ignorieren (sie sind nötig, da sich das anschließend zu importierende Modul \n",
    "in einem anderen Verzeichnis als das Notebook befindet; ironischerweise importieren wir für diese \n",
    "Operation auch ein Modul, nämlich 'sys')\"\"\"\n",
    "import sys\n",
    "sys.path.append(\"../3_Dateien/Module\")"
   ]
  },
  {
   "cell_type": "markdown",
   "id": "2df9c5f5-811d-46c9-ab0f-205751648741",
   "metadata": {
    "deletable": false,
    "editable": false
   },
   "source": [
    "Anstatt nun den Code aus der Moduldatei händisch in unseren Code hineinzukopieren, können wir ihn über folgenden simplen Befehl *importieren*:"
   ]
  },
  {
   "cell_type": "code",
   "execution_count": null,
   "id": "e7f83c9f-032f-487d-95c9-db1995de8153",
   "metadata": {},
   "outputs": [],
   "source": [
    "from keywords import get_freqs"
   ]
  },
  {
   "cell_type": "markdown",
   "id": "a42fc41c-3a42-439d-bcea-022761877424",
   "metadata": {
    "deletable": false,
    "editable": false
   },
   "source": [
    "Nach ```from``` geben wir den Namen des Moduls (d. h. der \".py\"-Datei, aber ohne Suffix) an, gefolgt von ```import``` und dem Namen der zur importierenden Funktion. \n",
    "\n",
    "Indem wir hier eine spezifische Funktion importieren, etablieren wir ```get_freqs``` im sog. *Namespace* von Python. Der Namespace umfasst alle Namen, die Python in der aktuellen Sitzung kennt und zuordnen kann. Neben den vordefinierten Namen wie z.&nbsp;B. ```len``` für die entsprechende Funktion sind dies alle Namen, die wir selbst im Laufe einer Sitzung einführen, etwa als Variablennamen, um irgendein Objekt zu referenzieren, oder, um eine Funktion zu bezeichnen. ```get_freqs``` wird hier also unter diesem Namen eingeführt und wenn wir fortan ```get_freqs``` aufrufen, weiß Python, worauf wir uns beziehen. \n",
    "\n",
    "Dadurch gibt es dann auch keinen syntaktischen Unterschied zwischen dem Aufruf einer importierten Funktion und einer aus der Grundausstattung:"
   ]
  },
  {
   "cell_type": "code",
   "execution_count": null,
   "id": "444b593d-0935-40a0-ba03-8b3967f9392d",
   "metadata": {},
   "outputs": [],
   "source": [
    "top_ten = get_freqs(kv18, stopwords_list)[0:10] #Hier weisen wir die zehn häufigsten Schlüsselwörter direkt einer Variable zu.\n",
    "print(top_ten)"
   ]
  },
  {
   "cell_type": "markdown",
   "id": "83d7af03-b052-44e0-bff8-69d5242817d5",
   "metadata": {
    "deletable": false,
    "editable": false
   },
   "source": [
    "Wie erwähnt, müssen wir hier im Unterschied zu oben ```get_freqs``` zusätzlich zu ```kv18``` (für das Argument ```text```) auch ```stopwords_list``` (für ```stopwords```) übergeben. \n",
    "\n",
    "Welche Argumente unsere Funktion erwartet und was sie im Gegenzug zurückgibt, können wir uns übrigens über das ```__doc__```-Attribut ausgeben lassen. Dazu hängt man einen Punkt, zwei Unterstriche, dann \"doc\" und noch einmal zwei Unterstriche an den Funktionsnamen an:"
   ]
  },
  {
   "cell_type": "code",
   "execution_count": null,
   "id": "33a47b5a-115a-4b55-abec-4bffe2a58c9b",
   "metadata": {},
   "outputs": [],
   "source": [
    "print(get_freqs.__doc__)"
   ]
  },
  {
   "cell_type": "markdown",
   "id": "5fac1d96-0aa0-4543-95bd-899da6b2efed",
   "metadata": {
    "deletable": false,
    "editable": false
   },
   "source": [
    "Dies ist ein sog. *docstring*. Praktisch handelt es sich schlicht um den string, der direkt im Anschluss an das ```def```-Statement der Funktion steht (dieser string ist Dir sicherlich in der Moduldatei aufgefallen). Wenn Du fortan eigene Funktionen schreibst, lohnt es sich, auf diese Weise einen kurzen docstring einzufügen. Funktionen von Python und solche anderer Entwickler:innen verfügen in aller Regel über einen docstring, der Dir bei Bedarf kurz und knapp erläutert, wozu die Funktion dient. Wie im Notebook \"Einführung\" erwähnt, ist Codedokumentation über Kommentare äußerst wichtig. Docstrings erfüllen den gleichen Zweck, mit dem zusätzlichen Vorteil, dass wir nicht in den Code reinschauen müssen, sondern die wichtigsten Informationen bequem über das ```__doc__```-Attribut abrufen können.\n",
    "\n",
    "Zurück zum Import von Modulen: Folgender Code tut genau das gleiche wie oben, aber mit dem Unterschied, dass wir hier nur unser Modul importieren, nicht aber eine spezifische Funktion. "
   ]
  },
  {
   "cell_type": "code",
   "execution_count": null,
   "id": "6eb52ba4-28b9-468d-878b-7dfdd075dd9e",
   "metadata": {},
   "outputs": [],
   "source": [
    "import keywords\n",
    "\n",
    "top_ten = keywords.get_freqs(kv18, stopwords_list)[0:10]\n",
    "\n",
    "print(top_ten)"
   ]
  },
  {
   "cell_type": "markdown",
   "id": "0352ba2c-166a-499e-82da-9c61ea317391",
   "metadata": {
    "deletable": false,
    "editable": false
   },
   "source": [
    "Wenn wir so vorgehen, wird ```get_freqs``` nicht im Namespace etabliert. Deswegen müssen wir beim Funktionsaufruf erst den Modulnamen gefolgt von einem Punkt angeben. Nur so weiß Python, wo sich die Funktion befindet, auf die wir uns beziehen (es handelt sich also um eine Art *Adresse* zur Funktion). Der Punkt zwischen Modul- und Funktionsnamen könnte den Eindruck erwecken, dass es sich bei ```get_freqs``` um eine Methode handelt (s.&nbsp;o.), das ist aber natürlich nicht der Fall.\n",
    "\n",
    "Um die obige Syntax zu vereinfachen, können wir dem Modul beim Import übrigens auch einen Namen geben:"
   ]
  },
  {
   "cell_type": "code",
   "execution_count": null,
   "id": "3468a16d-173d-44e3-a576-14ea6a7810ac",
   "metadata": {},
   "outputs": [],
   "source": [
    "import keywords as kw\n",
    "\n",
    "bottom_ten = kw.get_freqs(kv18, stopwords_list)[-11:-1]\n",
    "\n",
    "print(bottom_ten)"
   ]
  },
  {
   "cell_type": "markdown",
   "id": "05c0bf18-d1d4-4ccc-b962-ade0967a985e",
   "metadata": {
    "deletable": false,
    "editable": false
   },
   "source": [
    "Wenn Du in Zukunft Schlüsselwörter ausrechnen willst, kannst Du ganz einfach unser selbst geschriebenes Modul ```keywords``` importieren. Das ```import```-Statement funktioniert problemlos, wenn sich die entsprechende \".py\"-Datei im selben Verzeichnis wie das Python-Skript, in das Du das Modul importieren willst, befindet. \n",
    "\n",
    "Um weitere eigene Module zu erstellen, musst Du lediglich fertigen Code (i. d. R. eine oder mehrere Funktionen) in eine leere Datei packen und diese mit dem Suffix \".py\" abspeichern. Der Texteditor [Sublime Text](https://www.sublimetext.com), der auf macOS, Windows und Linux läuft, empfiehlt sich hierfür.\n",
    "\n",
    "Nun haben wir gesehen, dass das Speichern und Importieren eines eigenen Moduls wirklich simpel ist. Bei längerem Code lohnt sich das sog. *Modularisieren*, also das Aufteilen und Auslagern des Codes in sinnvollen Einheiten als Module, um diese dann, wo benötigt, zu importieren. Am Anfang einer Programmierkarriere ist das aber noch nicht relevant. Viel wichtiger als eigene Module sind im Moment noch die oben angesprochenen Module aus der Standardbibliothek von Python bzw. der Community für spezifische Anwendungsfelder. Ab dem zweiteiligen Notebook \"Input und Output\" werden wir immer mehr von solchen Modulen Gebrauch machen.\n",
    "\n",
    "Wie wir unten am Beispiel des ```random```-Moduls zur Generierung zufälliger Zahlen sehen, werden solche Module gleich importiert wie unser eigenes Modul oben:"
   ]
  },
  {
   "cell_type": "code",
   "execution_count": null,
   "id": "b9396f1f-d6bd-4aba-bc5a-b0149ecf477c",
   "metadata": {},
   "outputs": [],
   "source": [
    "#Import des ganzen Moduls und Aufruf der Funktion mittels Voranstellen des Modulnamens\n",
    "\"\"\"\n",
    "import random\n",
    "\n",
    "random_numbers = []\n",
    "\n",
    "for i in range(10):\n",
    "    random_numbers.append(random.randint(0,100))\n",
    "\n",
    "print(random_numbers)\"\"\"\n",
    "\n",
    "#Import einer spezifischen Funktion aus dem Modul\n",
    "from random import randint\n",
    "\n",
    "random_numbers = []\n",
    "\n",
    "for i in range(10):\n",
    "    random_numbers.append(randint(0,100))\n",
    "\n",
    "print(random_numbers)"
   ]
  },
  {
   "cell_type": "markdown",
   "id": "dea13e44-1b5c-40b1-a913-208eea2ecf20",
   "metadata": {
    "deletable": false,
    "editable": false
   },
   "source": [
    "Die Funktion ```randint``` des Moduls ```random``` generiert zufällige Zahlen (integer) innerhalb des angegebenen Bereichs (0-99). Entsprechend schaut ```random_numbers``` bei jeder Ausführung der Zelle anders aus. Bei ```random``` handelt es sich übrigens um ein Modul aus der [Standardbibliothek](https://docs.python.org/3/library/) von Python. \n",
    "\n",
    "Abschließend noch ein paar Worte zur Terminologie: Neben *Modulen* hört man oft auch die Begriffe *Package* und *Bibliothek* (engl. *library*). Die Begriffe werden gerne vermischt, was nicht weiter schlimm ist. Falls Dich die Unterschiede interessieren: Wenn mehrere *Module* zusammengefasst werden, entsteht ein *Package* (praktisch handelt es sich um nichts anderes als ein Verzeichnis, das mehrere Module beinhaltet). Genau wie man eine Funktion aus einem Modul importieren kann, kann man ein spezifisches Modul innerhalb eines Packages importieren: ```from package import module```. *Bibliotheken* wiederum umfassen mehrere Packages und Module. "
   ]
  },
  {
   "cell_type": "markdown",
   "id": "7a9aaa52-cd97-4e52-9bc6-d01f5b6f9a54",
   "metadata": {
    "deletable": false,
    "editable": false
   },
   "source": [
    "***\n",
    "\n",
    "✏️ **Übung 2:** Importier die Funktion ```sample``` des ```random```-Moduls. ```sample``` generiert eine zufällige Auswahl von Elementen, z.&nbsp;B. zehn zufällige Elemente aus einer Grundgesamtheit mit allen Elementen. Die Funktion erwartet als erstes Argument die Grundgesamtheit in Form einer Liste und als zweites eine Ganzzahl, mit der die Anzahl der zufällig auszuwählenden Elemente definiert wird. Die Grundgesamtheit in dieser Übung ist das ```participants_pool``` von der Übung von oben bzw. aus dem Notebook \"Kontrollstrukturen\". Die Anzahl der zufällig auszuwählenden Elemente beträgt in diesem Fall vier. Wir wollen also zufällige Spielzusammensetzungen mit jeweils vier Teilnehmer:innen erhalten.\n",
    "\n",
    "Deine Aufgabe besteht nun darin, so viele zufällige Spielzusammensetzungen zu genererieren, bis eine Zusammensetzung doppelt vorkommt. Verwend dazu eine passende Kontrollstruktur, die Deinen Code so oft wiederholt, bis die Bedingung, dass eine zufällige Zusammensetzung bereits einmal zuvor generiert wurde, zutrifft. In diesem Fall soll die Iteration abbrechen und die Anzahl der notwendigen Wiederholungen bis zur identischen Zusammensetzung ausgegeben werden. \n",
    "\n",
    "Beachte, dass es für diese Anzahl der notwendigen Wiederholungen keine richtige Antwort gibt, da es in der Natur der zufälligen Auswahl liegt, dass es manchmal etwas mehr und manchmal etwas weniger Wiederholungen braucht.\n",
    "\n",
    "<details>\n",
    "  <summary>💡 Tipp </summary>\n",
    "    <br>Um die Anzahl der Kombinationen zu zählen, empfiehlt es sich, eine Zählervariable zu definieren und diese bei jeder Iteration um eins zu erhöhen.\n",
    "</details>\n",
    "<br>\n",
    "<details>\n",
    "  <summary>📌 Herausforderung zur Übung </summary>\n",
    "    <br>Verpack Deinen gesamten Code in eine (andere) Kontrollstruktur, die Deinen Code, sagen wir, 1000 Mal wiederholt. Bei jeder Wiederholung soll die notwendige Anzahl, bis zwei Zusammensetzungen doppelt vorkommen, auf einer Liste gespeichert werden. Berechne zum Schluss den Mittelwert dieser Liste, indem Du mittels der Funktion <code>sum</code> alle Werte auf der Liste addierst und die Summe durch die Länge der Liste dividierst. Bei wiederholter Ausführung dieses Codes sollten die Mittelwerte nur noch geringfügig schwanken.\n",
    "</details>\n",
    "\n"
   ]
  },
  {
   "cell_type": "code",
   "execution_count": null,
   "id": "30d97b38-08a2-4197-8b3f-0e3c115470b6",
   "metadata": {},
   "outputs": [],
   "source": [
    "#In diese Zelle kannst Du den Code zur Übung schreiben.\n",
    "\n",
    "participants_pool = [\"Max\", \"Moritz\", \"Janine\", \"Hussein\", \"Fritz\", \"Mia\", \"Marianne\", \"Dolores\", \"Yin\", \"Margareth\", \"Benni\"]\n",
    "\n",
    "\n"
   ]
  },
  {
   "cell_type": "markdown",
   "id": "bf581c8b-ad96-4fe5-8921-8e96b2469c4e",
   "metadata": {
    "deletable": false,
    "editable": false
   },
   "source": [
    "Damit sind wir am Ende des Notebooks angelangt. 🎉\n",
    "<br><br>\n",
    "***\n",
    "<table>\n",
    "      <tr>\n",
    "        <td>\n",
    "            <img src=\"../3_Dateien/Lizenz/CC-BY-SA.png\" width=\"400\">\n",
    "        </td> \n",
    "        <td>\n",
    "            <p>Dieses Notebook sowie sämtliche weiteren <a href=\"https://github.com/yannickfrommherz/exdimed-student/tree/main\">Materialien zum Programmierenlernen für Geistes- und Sozialwissenschaftler:innen</a> sind im Rahmen des Projekts <i>Experimentierraum Digitale Medienkompetenz</i> als Teil von <a href=\"https://tu-dresden.de/gsw/virtuos/\">virTUos</a> entstanden. Erstellt wurden sie von Yannick Frommherz unter Mitarbeit von Anne Josephine Matz. Sie stehen als Open Educational Resource nach <a href=\"https://creativecommons.org/licenses/by-sa/4.0/\">CC BY SA</a> zur freien Verfügung. Für Feedback und bei Fragen nutz bitte das <a href=\"https://forms.gle/VsYJgy4bZTSqKioA7\">Kontaktformular</a>.\n",
    "        </td>\n",
    "      </tr>\n",
    "</table>"
   ]
  }
 ],
 "metadata": {
  "kernelspec": {
   "display_name": "Python 3 (ipykernel)",
   "language": "python",
   "name": "python3"
  },
  "language_info": {
   "codemirror_mode": {
    "name": "ipython",
    "version": 3
   },
   "file_extension": ".py",
   "mimetype": "text/x-python",
   "name": "python",
   "nbconvert_exporter": "python",
   "pygments_lexer": "ipython3",
   "version": "3.11.5"
  }
 },
 "nbformat": 4,
 "nbformat_minor": 5
}