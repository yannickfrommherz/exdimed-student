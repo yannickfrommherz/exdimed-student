{
 "cells": [
  {
   "cell_type": "markdown",
   "id": "11819c4e-ef79-4abc-b274-b35a7a99131d",
   "metadata": {
    "deletable": false,
    "editable": false
   },
   "source": [
    "<details>\n",
    "<summary>Klick hier, um den Tipp anzuzeigen</summary>\n",
    "\n",
    "Hier ist der versteckte Inhalt.\n",
    "</details>\n"
   ]
  },
  {
   "cell_type": "code",
   "execution_count": null,
   "id": "80bd738e-70fe-4d7a-87c6-ba9dfebed9be",
   "metadata": {},
   "outputs": [],
   "source": []
  }
 ],
 "metadata": {
  "kernelspec": {
   "display_name": "Python 3 (ipykernel)",
   "language": "python",
   "name": "python3"
  },
  "language_info": {
   "codemirror_mode": {
    "name": "ipython",
    "version": 3
   },
   "file_extension": ".py",
   "mimetype": "text/x-python",
   "name": "python",
   "nbconvert_exporter": "python",
   "pygments_lexer": "ipython3",
   "version": "3.11.5"
  }
 },
 "nbformat": 4,
 "nbformat_minor": 5
}