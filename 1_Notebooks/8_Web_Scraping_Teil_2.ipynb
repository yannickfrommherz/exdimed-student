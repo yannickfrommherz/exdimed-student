{
 "cells": [
  {
   "cell_type": "markdown",
   "id": "cefd49df-ee28-40b8-9b0a-92f8b62a95d4",
   "metadata": {
    "deletable": false,
    "editable": false
   },
   "source": [
    "# Web Scraping Teil 2\n",
    "\n",
    "Willkommen zurück! \n",
    "\n",
    "Wir machen direkt weiter mit ein paar Informationen zu verantwortungsvollem Scrapen. Darauf folgt der bereits angeteaserte Anwendungsfall: Wir scrapen den Faust I. Das Notebook endet mit einem Exkurs zu der HTML-verwandten Auszeichnungssprache *XML*, die besonders in den Digital Humanities gerne verwendet wird, um Daten zu speichern und zu teilen.\n",
    "\n",
    "Zunächst führen wir diese Zelle aus:"
   ]
  },
  {
   "cell_type": "code",
   "execution_count": null,
   "id": "603df306-b6a2-4bfd-badc-e028a6fb4340",
   "metadata": {},
   "outputs": [],
   "source": [
    "import requests\n",
    "from bs4 import BeautifulSoup\n",
    "headers = {'User-Agent': 'Mozilla/5.0 (Windows NT 10.0; Win64; x64) AppleWebKit/537.36 (KHTML, like Gecko) Chrome/97.0.4692.99 Safari/537.36'}"
   ]
  },
  {
   "cell_type": "markdown",
   "id": "eec52cd5-cc2c-4b5f-b933-83676a418d12",
   "metadata": {
    "deletable": false,
    "editable": false
   },
   "source": [
    "## Recht und Ethik\n",
    "\n",
    "Rechtlich gesehen ist Web Scraping zu Forschungszwecken vollkommen legal ([EU-Gesetz dazu](https://eur-lex.europa.eu/legal-content/DE/TXT/PDF/?uri=CELEX:32019L0790)). Wir müssen dabei lediglich beachten, dass wir nur öffentlich zugängliche Daten scrapen – die hier erlernten Methoden gestatten uns aber ohnehin nur das. Wenn wir unsere gescrapten Daten weiterveröffentlichen, etwa in einem Paper, dann müssen wir außerdem bedenken, personenbezogene Daten zu anonymisieren. \n",
    "\n",
    "Bei der Ethik wiederum geht es nicht darum, was legal ist, sondern darum, was nach gesundem Menschenverstand in Ordnung ist. Webseiten werden ja auf Servern betrieben, die für eine bestimmte Auslastung (also eine bestimmte Anzahl an Anfragen pro Zeiteinheit) ausgelegt sind. Wenn Server überlastet werden, haben nicht nur wir ein Problem, sondern auch andere Leute, die die Webseite aufrufen möchten. Verantwortungsvolles Web Scraping bedeutet folglich, nur so viele Anfragen an den Server zu schicken, wie nötig. \n",
    "\n",
    "Die Aufteilung von Abruf- und Extraktionsschritt in verschiedene Zellen eines Jupyter Notebooks ist eine Maßnahme, die verhindert, dass wir den Server selbst dann belasten, wenn wir den Abrufschritt längst absolviert haben. Wenn wir im Abrufschritt an sich eine hohe Anzahl an Quelltexten herunterladen wollen, können wir außerdem einen Timer einbauen, der zwischen den einzelnen Anfragen eine kurze Pause einlegt. Dazu benutzen wir das Modul `time`, das zur Grundausstattung von Python gehört und folglich nicht erst installiert werden muss:"
   ]
  },
  {
   "cell_type": "code",
   "execution_count": null,
   "id": "49e1835d-6aae-4bc1-85bd-8169c8f6d179",
   "metadata": {},
   "outputs": [],
   "source": [
    "import time\n",
    "\n",
    "links = [\"https://de.wikipedia.org/wiki/Althochdeutsche_Sprache\",\n",
    "         \"https://de.wikipedia.org/wiki/Mittelhochdeutsche_Sprache\",\n",
    "         \"https://de.wikipedia.org/wiki/Frühneuhochdeutsche_Sprache\"]\n",
    "\n",
    "source_codes = []  \n",
    "\n",
    "for link in links:\n",
    "    \n",
    "    response = requests.get(link, timeout=5, headers=headers)\n",
    "    source_codes.append(response.text)\n",
    "    \n",
    "    print(f\"Fertig abgerufen: {link}. Nun wird kurz pausiert.\") #Zur besseren Nachvollziehbarkeit des Prozesses\n",
    "    \n",
    "    #Der Funktion 'sleep' übergeben wir, wie viele Sekunden pausiert werden soll\n",
    "    time.sleep(5)"
   ]
  },
  {
   "cell_type": "markdown",
   "id": "d87f8f69-b91e-461f-aa9a-291dc2cd163d",
   "metadata": {
    "deletable": false,
    "editable": false
   },
   "source": [
    "Manchmal übertreiben wir es mit den Anfragen aus Versehen trotzdem und wir werden vom Server blockiert. In anderen Fällen wiederum werden wir selbst bei verantwortungsvollem Web Scraping blockiert, da der Server Anti-Scraping-Mechanismen implementiert hat und unsere Anfrage als automatisiert erkannt wurde. Eine Blockierung kann sich verschiedentlich äußern, u.&nbsp;a. in den HTTP-Statuscodes 403 (\"Forbidden\") bzw. 429 (\"Too many requests\").\n",
    "\n",
    "Beim Abrufen einer hohen Anzahl an Quelltexten lohnt es sich also zusätzlich zur Pausierung einen Mechanismus zur Kontrolle der Statuscodes einzubauen:"
   ]
  },
  {
   "cell_type": "code",
   "execution_count": null,
   "id": "f4635a72-5bb6-4a71-9b36-3ff398c1ef29",
   "metadata": {},
   "outputs": [],
   "source": [
    "links = [\"https://de.wikipedia.org/wiki/Althochdeutsche_Sprache\",\n",
    "         \"https://de.wikipedia.org/wiki/Mittelhochdeutsche_Sprache\",\n",
    "         \"https://de.wikipedia.org/Dieser_Link_funktioniert_nicht\",\n",
    "         \"https://de.wikipedia.org/wiki/Frühneuhochdeutsche_Sprache\"]\n",
    "\n",
    "source_codes = []  \n",
    "\n",
    "for link in links:\n",
    "    \n",
    "    response = requests.get(link, timeout=5, headers=headers)\n",
    "    \n",
    "    #Kontrolle des Statuscodes mithilfe eines in 'requests' eingebauten Mechanismus\n",
    "    if not response.status_code == requests.codes.ok:\n",
    "        print(\"Statuscode nicht ok!\")\n",
    "        break\n",
    "        \n",
    "    source_codes.append(response.text)\n",
    "\n",
    "    print(f\"Fertig abgerufen: {link}. Nun wird kurz pausiert.\") #Zur besseren Nachvollziehbarkeit des Prozesses\n",
    "    \n",
    "    #Der Funktion 'sleep' übergeben wir, wie viele Sekunden pausiert werden soll (hier fünf Sekunden)\n",
    "    time.sleep(5)"
   ]
  },
  {
   "cell_type": "markdown",
   "id": "89b35a23-fb7c-48d0-a918-142d53a2ac2d",
   "metadata": {
    "deletable": false,
    "editable": false
   },
   "source": [
    "Die Abrufschleife bricht ab, sobald der Statuscode auf einen Fehler hindeutet. Hier trifft das beim dritten Link zu. Nicht, weil wir blockiert worden wäre, sondern weil der Link schlicht nicht existiert (Statuscode 404). \n",
    "\n",
    "Die bereits erfolgreich abgerufenen Quelltexte bleiben uns dank diesem Code aber erhalten:"
   ]
  },
  {
   "cell_type": "code",
   "execution_count": null,
   "id": "e93e639d-4383-4d9e-ae7e-377a34c7e6dc",
   "metadata": {},
   "outputs": [],
   "source": [
    "len(source_codes)"
   ]
  },
  {
   "cell_type": "markdown",
   "id": "073b42ea-5474-4054-9c5a-73a7b3e14588",
   "metadata": {
    "deletable": false,
    "editable": false
   },
   "source": [
    "Für den Fall, dass Du mal blockiert wirst, kannst Du versuchen, andere oder weitere Parameter in `headers` zu spezifizieren oder ggf. sogar zwischen unterschiedlichen `headers` zu rotieren. Dadurch sieht es so aus, als kämen die Anfragen von unterschiedlichen Browsern. Eine weitere Möglichkeit besteht darin, über einen VPN oder sog. *Proxies* Deine IP-Adresse zu ändern bzw. ebenfalls zwischen verschiedenen IP-Adressen zu rotieren. Informier Dich bei Bedarf im Internet zu diesen Methoden sowie in der [Dokumentation](https://requests.readthedocs.io/en/latest/user/advanced/#proxies) von `requests`.\n",
    "\n",
    "Wenden wir uns dem Anwendungsfall zu:"
   ]
  },
  {
   "cell_type": "markdown",
   "id": "b79c8644-795e-48d4-ac01-725efdc96187",
   "metadata": {
    "deletable": false,
    "editable": false
   },
   "source": [
    "***\n",
    "\n",
    "## 🔧 Anwendungsfall: Den Faust I scrapen 🎭\n",
    "\n",
    "Nun wollen wir den kompletten *Faust I* von [Projekt Gutenberg](https://www.projekt-gutenberg.org/goethe/faust1/chap002.html) scrapen und in einer Textdatei in folgendem Format abspeichern (der Auszug entstammt der Szene [*Nacht*](https://www.projekt-gutenberg.org/goethe/faust1/chap004.html)):\n",
    "\n",
    "    Geist\n",
    "\n",
    "        Wer ruft mir?\n",
    "\n",
    "    Faust\n",
    "\n",
    "        Schreckliches Gesicht!\n",
    "\n",
    "    Geist\n",
    "\n",
    "        Du hast mich mächtig angezogen,\n",
    "        An meiner Sphäre lang gesogen,\n",
    "        Und nun –\n",
    "\n",
    "    Faust\n",
    "\n",
    "        Weh! ich ertrag dich nicht!\n",
    "        \n",
    "Du kannst nun entweder den Anwendungsfall ohne weitere Anleitung in Angriff nehmen. An der ein oder anderen Stelle wirst Du vermutlich nach Lösungen im Internet suchen müssen. Da dies außerhalb dieser Lernumgebung ohnehin häufig vorkommen wird, stellt dies eine gute Übungsgelegenheit dafür dar. Andererseits steht Dir im Anschluss an die beiden Code-Zellen eine Schritt-für-Schritt-Anleitung zur Verfügung, die Dich durch den Anwendungsfall lotst. \n",
    "\n",
    "In jedem Fall: viel Erfolg! 🙌"
   ]
  },
  {
   "cell_type": "code",
   "execution_count": null,
   "id": "8d7324ce-c36c-4585-adb3-7e109bfc169e",
   "metadata": {},
   "outputs": [],
   "source": [
    "#In diese Zelle kannst Du den Code für den Abrufschritt schreiben.\n",
    "#Führe diese Zelle nur so oft wie nötig aus, um den Server nicht unnötig zu belasten!\n",
    "\n",
    "\n",
    "\n",
    "\n",
    "\n",
    "\n",
    "\n",
    "\n",
    "\n",
    "\n",
    "\n",
    "\n",
    "\n",
    "\n",
    "\n",
    "\n",
    "\n",
    "\n",
    "\n"
   ]
  },
  {
   "cell_type": "code",
   "execution_count": null,
   "id": "81a98632-4378-4377-b1c7-fb87c3c82141",
   "metadata": {},
   "outputs": [],
   "source": [
    "#In diese Zelle kannst Du den Code für den Extraktionsschritt schreiben.\n",
    "\n",
    "\n",
    "\n",
    "\n",
    "\n",
    "\n",
    "\n",
    "\n",
    "\n",
    "\n",
    "\n",
    "\n",
    "\n",
    "\n",
    "\n",
    "\n",
    "\n",
    "\n",
    "\n"
   ]
  },
  {
   "cell_type": "markdown",
   "id": "069f8011-c494-4978-9ebd-dff90191ee57",
   "metadata": {
    "deletable": false,
    "editable": false
   },
   "source": [
    "*** \n",
    "\n",
    "**Schritt-für-Schritt-Anleitung**\n",
    "\n",
    "<u>Abruf</u>\n",
    "\n",
    "1. Schau Dir die [erste Seite](https://www.projekt-gutenberg.org/goethe/faust1/chap002.html) des Werks auf www.projekt-gutenberg.org im Browser an und untersuch den ihr zugrundeliegenden Quelltext. Find so heraus, wie Du an die Links zu den folgenden Seiten kommst, damit Du auch diese scrapen kannst."
   ]
  },
  {
   "cell_type": "markdown",
   "id": "510c9225-1bff-4eb7-9b90-0bb0446674f1",
   "metadata": {
    "deletable": false,
    "editable": false
   },
   "source": [
    "2. Wie Du im Quelltext der ersten Seite erkennen kannst, verbirgt sich hinter der Schaltfläche \"Weiter\" nur jeweils die Linkendung, die um einen Stammlink ergänzt werden muss. \n",
    "    \n",
    "    Definier den Stammlink in `base_link` sowie die Linkendung für die erste Seite in `link_ending`. Konkatenier die beiden strings zu `link` und lass Dir diesen ausgeben. Er sollte Dich zur ersten Seite des Werks führen."
   ]
  },
  {
   "cell_type": "code",
   "execution_count": null,
   "id": "ed3ca101-bb7e-41e4-a289-4365dd65655a",
   "metadata": {},
   "outputs": [],
   "source": [
    "base_link = \"\"\n",
    "link_ending = \"\"\n",
    "\n"
   ]
  },
  {
   "cell_type": "markdown",
   "id": "aef22b15-ad08-4cd6-b884-c94d17f927b1",
   "metadata": {
    "deletable": false,
    "editable": false
   },
   "source": [
    "3. Überleg Dir nun, mithilfe welcher Kontrollstruktur Du ausgehend von der ersten Seite nacheinander alle Seiten scrapen kannst, bis es keine weitere Seite mehr gibt. Welche weitere Kontrollstruktur kannst Du verwenden, um das Scraping in diesem Fall zu beenden? "
   ]
  },
  {
   "cell_type": "markdown",
   "id": "20910911-73bb-43ee-a2fb-5e87f51c5ae9",
   "metadata": {
    "deletable": false,
    "editable": false
   },
   "source": [
    "4. Um von einer Seite zur nächsten zu gelangen, müssen wir ja jeweils den Link darauf aus der aktuellen Seite extrahieren. Definier dafür einen regulären Ausdruck, der den Link hinter der Schaltfläche \"Weiter\" matcht. Falls Du noch nicht mit regulären Ausdrücken vertraut bist, dann kopier den Code für diesen Schritt aus der Lösung.\n",
    "\n",
    "    <details>\n",
    "      <summary>💡 Tipp </summary>\n",
    "      <br>Lass Deinen regulären Ausdruck ruhig mehr als nur den eigentlichen Link matchen, also auch Zeichen davor bzw. danach im Quelltext. So stellst Du einfach sicher, dass nur der gewünschte Link gematcht wird. Bau aber mithilfe von runden Klammern eine Gruppe ein, die nur den Link umfasst (vgl. Notebook \"Reguläre Ausdrücke\"). So kannst Du anschließend einfach auf den relevanten Teil des matches zugreifen.\n",
    "    </details>\n",
    "    <br>"
   ]
  },
  {
   "cell_type": "code",
   "execution_count": null,
   "id": "331f5eac-fbff-4bf0-96cc-5873520ff4b0",
   "metadata": {},
   "outputs": [],
   "source": [
    "regex = r\"\""
   ]
  },
  {
   "cell_type": "markdown",
   "id": "a283adfa-4a4d-4822-b9d1-f3470b2006d0",
   "metadata": {
    "deletable": false,
    "editable": false
   },
   "source": [
    "5. Setz nun Deine Erkenntnisse aus Schritt 3 in Code um: \n",
    "    \n",
    "    A. Schreib eine Schleife (erste Kontrollstruktur), die wiederholt wird, bis sie auf ein `break`-Statement trifft. \n",
    "    \n",
    "    B. Verwend das `request`-Modul, um die Seite zum aktuellen `link` abzurufen (`link` entspricht ja zumindest am Anfang der ersten Seite, s.&nbsp;o.). Speichere das Response-Objekt in `current_page`.\n",
    "    \n",
    "    C. Da `requests` automatisch von einem falschen Encoding ausgeht (weswegen etwa Umlaute falsch dekodiert würden), müssen wir das Encoding korrigieren: `current_page.encoding = \"UTF-8\"`.\n",
    "    \n",
    "    D. Häng den eigentlichen Quelltext in `current_page` einer zuvor definierten Liste `all_pages` an, die sämtliche Quelltexte umfassen soll.\n",
    "    \n",
    "    E. Such den Quelltext nach `regex` ab. Verwend dazu die Funktion `search` des Moduls `re` (schau auch hier in der Lösung nach, wenn Du mit regulären Ausdrücken noch nicht vertraut bist).\n",
    "    <details>\n",
    "      <summary>💡 Tipp </summary>\n",
    "      <br>Vergiss nicht, <code>re</code> erst zu importieren.<br>\n",
    "    </details>\n",
    "    <br>\n",
    "    \n",
    "    F. Überprüf nun mithilfe der zweiten Kontrollstruktur, ob ein match vorliegt. Wenn ja, überschreib `link`, indem Du den match, also die neue Linkendung, an `base_link` anhängst. Nun kann die nächste Seite gescrapt werden. Liegt kein match (mehr) vor, soll die Schleife abgebrochen werden.    \n",
    "    <details>\n",
    "      <summary>💡 Tipp </summary>\n",
    "      <br>Die zum matchen benutzten Funktion <code>search</code> gibt ja ein sog. match-Objekt zurück, bestehend aus dem ersten gefundenen match und dessen Position im abgesuchten string. Nun sind wir nicht am match als Ganzes interessiert, sondern nur an der Gruppe mit der Linkendung. Wend die Methode <code>group</code> auf das match-Objekt an und übergib ihr in Klammern eine Eins, um direkt auf die erste (und einzige) Gruppe zuzugreifen (vgl. Notebook \"Reguläre Ausdrücke\").\n",
    "    <br>\n",
    "    </details>\n",
    "    <br>"
   ]
  },
  {
   "cell_type": "code",
   "execution_count": null,
   "id": "fa64276d-5b78-4312-aa21-682dd43235c2",
   "metadata": {},
   "outputs": [],
   "source": [
    "\n",
    "\n",
    "\n",
    "\n",
    "\n",
    "\n",
    "\n",
    "\n",
    "\n",
    "\n",
    "\n"
   ]
  },
  {
   "cell_type": "markdown",
   "id": "b7c0ed38-7022-4c50-a0e6-360da3866f7b",
   "metadata": {
    "deletable": false,
    "editable": false
   },
   "source": [
    "<u>Extraktion</u>\n",
    "\n",
    "6. Nun haben wir alle Quelltexte gescrapt und es geht ans Extrahieren der relevanten Daten. Wir schreiben zunächst Code, um alle Strophen sowie die Figuren aus einem *einzelnen* Quelltext zu extrahieren. Anschließend bauen wir diesen Code in eine Schleife, der über *sämtliche* Quelltexte iteriert und nach und nach das gesamte Werk extrahiert.\n",
    "\n",
    "    Analysier als Erstes die Quelltexte eingehend, entweder im Browser, in Sublime Text oder indem Du sie Dir mithilfe von `prettify` von BeautifulSoup ausgeben lässt. Welche Elemente mit welchen Tags und ggf. welchen Attributen beinhalten die Strophen und Figuren?"
   ]
  },
  {
   "cell_type": "markdown",
   "id": "b360c273-db14-4ea4-83bb-89761465af70",
   "metadata": {
    "deletable": false,
    "editable": false
   },
   "source": [
    "7. Verwend BeautifulSoup, um den ersten Quelltext zu parsen. Schaff ein Objekt `body`, das nur noch das `<body>`-Element beinhaltet."
   ]
  },
  {
   "cell_type": "markdown",
   "id": "5f88718a-67c2-45ce-9951-176254f283ff",
   "metadata": {
    "deletable": false,
    "editable": false
   },
   "source": [
    "8. Iterier mithilfe von `find_all` über alle Elemente desjenigen Tags, das sowohl Strophen als auch Figuren umfasst. \n",
    "\n",
    "    Überprüf für jedes Element erstens, ob sich darin untergeordnet dasjenige Element befindet, das die Figuren enthält. Wenn ja, extrahier es und weis es `speaker` zu. Bereinige `speaker` von überflüssigen Zeichen und lass es Dir ausgeben.\n",
    "\n",
    "    <details>\n",
    "      <summary>💡 Tipp</summary>\n",
    "      <br>Es ist wichtig, dass Du zunächst mithilfe einer <code>if</code>-Bedingung überprüfst, ob ein solches Element gefunden werden kann, bevor Du auf dessen Inhalt zugreifst. Existiert das Element nämlich nicht, würde der Zugriff eine Fehlermeldung auslösen.\n",
    "    </details>\n",
    "    <br>\n",
    "    \n",
    "    Überprüf zweitens, ob das Element andernfalls über dasjenige Attribut verfügt, das sämtliche Elemente, die Strophen beinhalten, miteinander teilen. Wenn ja, extrahier es, unterteil es in Verse und weis diese `lines` zu. Lass Dir `lines` schön formatiert ausgeben.\n",
    "    \n",
    "    <details>\n",
    "      <summary>💡 Tipp</summary>\n",
    "      <br>Verwend die <code>get</code>-Methode, um zu überprüfen, ob das gewünschte Attribut dem gesuchten Wert entspricht. Find außerdem heraus, ob der Wert des Attributs wirklich als string zurückgegeben wird. \n",
    "    </details>\n",
    "    <br>\n",
    "    \n",
    "    ⚠️ Achtung: Manche Strophen beinhalten auch Regieanweisungen in einem untergeordneten `<span>`-Element. Bau folgenden Code an der richtigen Stelle ein, um diese `<span>`-Elemente aus den Strophen zu entfernen:\n",
    "    \n",
    "    `if line.span:`\n",
    "     <br>&nbsp;&nbsp;&nbsp;&nbsp;&nbsp;&nbsp;&nbsp;&nbsp;`line.span.decompose()`\n",
    "    \n",
    "    Wir überprüfen damit erst, ob die entsprechende Strophe ein `<span>`-Element enthält und wenn ja, entfernen wir es aus ihr mithilfe der `decompose`-Methode."
   ]
  },
  {
   "cell_type": "code",
   "execution_count": null,
   "id": "4d3b2aaf-ebe6-404b-b3f2-3065938559e6",
   "metadata": {},
   "outputs": [],
   "source": [
    "\n",
    "\n",
    "\n",
    "\n",
    "\n",
    "\n",
    "\n",
    "\n",
    "\n",
    "\n",
    "\n"
   ]
  },
  {
   "cell_type": "markdown",
   "id": "0333832a-c31a-4d8b-aa91-d26342b6ba64",
   "metadata": {
    "deletable": false,
    "editable": false
   },
   "source": [
    "9. Modifizier den Code aus Schritt 8 derart, dass Du die relevanten Daten nicht nur aus *einem* Quelltext extrahierst, sondern aus *allen* auf `all_pages`. Pass ihn außerdem so an, dass Dir Figuren und Strophen nicht ausgegeben werden, sondern dass diese in eine externe Datei geschrieben werden. \n",
    "\n",
    "    <details>\n",
    "          <summary>💡 Tipp</summary>\n",
    "          <br>Beachte, dass die <code>print</code>-Funktion automatisch einen Zeilenumbruch im Anschluss an das Ausgegebene anfügt. Beim Schreiben in externe Dateien musst Du diesen Zeilenumbruch manuell hinzufügen. \n",
    "        </details>\n",
    "        <br>"
   ]
  },
  {
   "cell_type": "code",
   "execution_count": null,
   "id": "f400c1e1-b7fc-4d0b-89a3-316c959f6806",
   "metadata": {},
   "outputs": [],
   "source": [
    "\n",
    "\n",
    "\n",
    "\n",
    "\n",
    "\n",
    "\n",
    "\n",
    "\n",
    "\n",
    "\n"
   ]
  },
  {
   "cell_type": "markdown",
   "id": "2744a175-b1e6-4b10-a280-cd22b7b7b3df",
   "metadata": {
    "deletable": false,
    "editable": false
   },
   "source": [
    "Tolle Arbeit! 🎉\n",
    "\n",
    "***"
   ]
  },
  {
   "cell_type": "markdown",
   "id": "350c7bc8-11b2-474d-88ec-7518e5f2d0cf",
   "metadata": {
    "deletable": false,
    "editable": false
   },
   "source": [
    "Zu guter Letzt werfen wir noch einen Blick auf die HTML-verwandte Auszeichnungssprache XML. Während HTML primär dazu verwendet wird, Texte und Daten *zwecks der Darstellung* zu strukturieren (bzw. *auszuzeichnen*), wird XML vorwiegend dazu benutzt, Texte und Daten *zwecks der Speicherung* zu gliedern. "
   ]
  },
  {
   "cell_type": "markdown",
   "id": "844bac21-cc7e-42b9-ad54-6283e66da5ea",
   "metadata": {
    "deletable": false,
    "editable": false
   },
   "source": [
    "## Exkurs: XML\n",
    "\n",
    "Ein XML-Dokument (kurz für *E<u>x</u>tensible <u>M</u>arkup <u>L</u>anguage*) ist im Wesentlich gleich strukturiert wie ein in HTML verfasstes: Verschiedene **Elemente** sind in einem Stammbaum **hierarchisch** angeordnet. Die Elemente sind wiederum durch **Tags** sowie optional **Attribute** charakterisiert. \n",
    "\n",
    "Folgende Zelle enthält ein Beispiel für XML-Code. Die erste Zeile deklariert den Dokumenttyp – das kennen wir auch von HTML-Code. Es folgt ein Verzeichnis (`<verzeichnis>`), dessen Inhalt neben einem `<titel>`-Element zwei `<eintrag>`-Elemente umfasst. Jedes `<eintrag>`-Element verfügt über ein `id`-Attribut sowie drei Kinder mit Textinhalt, nämlich `<stichwort>`, `<abkuerzung>` und `<zweck>`. Die Einrückungen dienen auch hier nur der Lesbarkeit."
   ]
  },
  {
   "cell_type": "raw",
   "id": "c16af275-ea78-47e2-a754-08628a7f7024",
   "metadata": {},
   "source": [
    "<?xml version=\"1.0\" encoding=\"UTF-8\"?> \n",
    "<verzeichnis>\n",
    "    <titel>Auszeichnungssprachen</titel>\n",
    "    <eintrag id=\"1\">\n",
    "        <stichwort>Hypertext Markup Language</stichwort>\n",
    "        <abkuerzung>HTML</abkuerzung>\n",
    "        <zweck>Grafische Darstellung</zweck>\n",
    "    </eintrag>\n",
    "    <eintrag id=\"2\">\n",
    "        <stichwort>Extended Markup Language</stichwort>\n",
    "        <abkuerzung>XML</abkuerzung>\n",
    "        <zweck>Datenspeicherung</zweck>\n",
    "    </eintrag>\n",
    "</verzeichnis>"
   ]
  },
  {
   "cell_type": "markdown",
   "id": "3c12df13-ea74-41f9-9a22-75d0ae47dee4",
   "metadata": {
    "deletable": false,
    "editable": false
   },
   "source": [
    "An diesem Beispiel lässt sich bereits der wichtigste Unterschied zwischen XML und HTML erkennen: Die Namen der Tags sind nicht vorgegeben, sondern können frei gewählt werden (u.&nbsp;a. daher kommt die Bezeichnung *extensible*, also \"erweiterbar\"). \n",
    "\n",
    "Arbeiten wir ganz praktisch mit einem XML-Dokument! Konkret schauen wir uns ein sog. *Plenarprotokoll* des Deutschen Bundestags an, und zwar das vom 10. April 2024. Darin befinden sich sämtliche Äußerungen der Abgeordneten, die an diesem Tag im Parlament gemacht wurden, stenografisch protokolliert. Ein solches Protokoll im XML-Format können wir für sämtliche Sitzungen des Bundestags [hier](https://www.bundestag.de/services/opendata) herunterladen. \n",
    "\n",
    "### XML parsen\n",
    "\n",
    "Das ausgewählte Protokoll befindet sich bereits in \"3_Dateien/XML\". Wie bis anhin gilt: Öffne die Datei am besten parallel zu diesem Notebook in Sublime Text. So fällt es Dir leichter, die folgenden Überlegungen im Code nachzuvollziehen.\n",
    "\n",
    "<details>\n",
    "<summary>💡 Tipp</summary>\n",
    "<br>Benutz das im GIF unten gezeigte, praktische Feature, um Elemente ein- und auszuklappen. Dadurch siehst Du schnell, in welcher Beziehung die einzelnen Elemente zueinander stehen. Dieses Feature funktioniert übrigens auch bei HTML-Code.<br><br>\n",
    "    <img src=\"../3_Dateien/Grafiken_und_Videos/einklappen.gif\" width=\"600\">\n",
    "</details>\n",
    "<br>"
   ]
  },
  {
   "cell_type": "markdown",
   "id": "3cfbfee4-ccee-4d60-8c0f-0847b2a2e6f4",
   "metadata": {
    "deletable": false,
    "editable": false
   },
   "source": [
    "Um die Datei hier einzulesen, importieren wir das Modul `xml` (bzw. einen spezifischen Teil davon). `xml` gehört bei Python zur Grundausstattung."
   ]
  },
  {
   "cell_type": "code",
   "execution_count": null,
   "id": "ce0db2d7-f2f2-4f5d-a6db-d95ec8fcc521",
   "metadata": {},
   "outputs": [],
   "source": [
    "import xml.etree.ElementTree as ET #Wir weisen dem Modul(teil) den Kurznamen 'ET' zu, was der Konvention entspricht."
   ]
  },
  {
   "cell_type": "markdown",
   "id": "6b2b3fbd-3cca-4103-a87f-69618b97e447",
   "metadata": {
    "deletable": false,
    "editable": false
   },
   "source": [
    "⚠️ Achtung: Viele der folgenden Techniken des Moduls `xml` ähneln jenen von `BeautifulSoup` für HTML-Code. Bei den meisten gibt es aber kleine, teils sehr bedeutsame Unterschiede in der Implementierung. Ein Beispiel: Die Methoden `find` und `find_all` (`BeautifulSoup`) bzw. `findall` (`xml`) dienen bei beiden Modulen der Suche nach dem ersten resp. allen Elementen, die bestimmte Kriterien erfüllen. Während jedoch `BeautifulSoup` sog. *rekursiv*  sucht, also in sämtlichen untergeordneten Elementen (und den Elementen, die diesen untergeordnet sind, etc.), beschränkt sich `xml` auf das Element, auf das wir die Methode anwenden. Für die rekursive Suche hält das Modul stattdessen die Methode `iter` bereit (s.&nbsp;u.). Behalt die Tatsache, dass es sich um zwei verschiedene Module, denen unterschiedlicher Code zugrunde liegt, einfach im Hinterkopf. Wo relevant, wird in den folgenden Code-Zellen auf Pendants bei `BeautifulSoup` verwiesen.\n",
    "\n",
    "Um nun das Protokoll zu laden und gleich zu parsen, verwenden wir bei `xml` die `parse`-Funktion. Anschließend müssen wir noch das oberste Element, also den Stamm bzw. die Wurzel, über die Methode `getroot` extrahieren:"
   ]
  },
  {
   "cell_type": "code",
   "execution_count": null,
   "id": "a3ff5aba-17fb-4737-89b7-e8ec4efc170a",
   "metadata": {},
   "outputs": [],
   "source": [
    "tree = ET.parse(\"../3_Dateien/XML/plenarprotokoll.xml\")\n",
    "root = tree.getroot() "
   ]
  },
  {
   "cell_type": "markdown",
   "id": "9a69878e-a8ab-4bb6-a492-f716311b2430",
   "metadata": {
    "deletable": false,
    "editable": false
   },
   "source": [
    "Was könnte sich in `root` nun befinden? Schau dazu im Dokument bei Sublime Text nach.\n",
    "\n",
    "Genau, das gesamte oberste Element unseres XML-Dokuments, also dasjenige mit dem Tag `<dbtplenarprotokoll>`. Das können wir folgendemaßen überprüfen:"
   ]
  },
  {
   "cell_type": "code",
   "execution_count": null,
   "id": "7eb92269-ee11-429f-b212-6d33b91f61ed",
   "metadata": {},
   "outputs": [],
   "source": [
    "root.tag #'tag' entspricht bei 'BeautifulSoup' dem 'name'-Attribut."
   ]
  },
  {
   "cell_type": "markdown",
   "id": "fa5ec469-25af-4534-9c0d-76815e6714ae",
   "metadata": {
    "deletable": false,
    "editable": false
   },
   "source": [
    "Wie Du im Dokument sehen kannst, verfügt dieses Element über diverse Attribute. Diese können wir uns wie folgt ausgeben lassen:"
   ]
  },
  {
   "cell_type": "code",
   "execution_count": null,
   "id": "ef6cd368-49d9-4e72-b3b4-97a65d930f5f",
   "metadata": {},
   "outputs": [],
   "source": [
    "root.attrib #'attrib' entspricht bei 'BeautifulSoup' dem 'attrs'-Attribut."
   ]
  },
  {
   "cell_type": "markdown",
   "id": "2e6652e6-2a34-4b14-ad80-f0943422dd3a",
   "metadata": {
    "deletable": false,
    "editable": false
   },
   "source": [
    "Einzelne Werte zu bestimmten Attributen (bzw. Schlüsseln) können wir so extrahieren:"
   ]
  },
  {
   "cell_type": "code",
   "execution_count": null,
   "id": "d9480558-7896-4877-a7fa-f3a41b9ff336",
   "metadata": {},
   "outputs": [],
   "source": [
    "root.get(\"sitzung-datum\") #Gleichnamige Methode wie bei 'BeautifulSoup'"
   ]
  },
  {
   "cell_type": "markdown",
   "id": "b73ec5d6-5695-4e7f-9918-ea83238faed0",
   "metadata": {
    "deletable": false,
    "editable": false
   },
   "source": [
    "Um sämtliche Elemente mit einem bestimmten Tag **rekursiv** zu extrahieren, benutzen wir bei `xml` wie erwähnt die `iter`-Methode, am besten direkt in eine Schleife eingebaut."
   ]
  },
  {
   "cell_type": "code",
   "execution_count": null,
   "id": "ef3aba45-e6f5-4b11-b38c-5c29c032bbc1",
   "metadata": {
    "tags": []
   },
   "outputs": [],
   "source": [
    "for item in root.iter(\"tagesordnungspunkt\"):\n",
    "    print(item.tag, item.attrib)"
   ]
  },
  {
   "cell_type": "markdown",
   "id": "13c584a9-2291-4137-8bf2-64b86909af7d",
   "metadata": {
    "deletable": false,
    "editable": false
   },
   "source": [
    "Am 10. April 2024 wurden also insgesamt sieben Tagesordnungspunkte abgehandelt. \n",
    "\n",
    "Angenommen wir sind nur an den \"echten\" Tagesordnungspunkten und nicht an den \"Zusatzpunkten\" interessiert, so können wir zusätzlich zum Tag nach dem Attribut `top-id` filtern. `iter` – ebenso wie die nicht-rekursiven Methoden `find` und `findall` – akzeptiert allerdings maximal ein Tag als Suchkriterium und keine Liste oder Kombination von Tags und Attributen. Stattdessen müssen wir zu einer `if`-Bedingung greifen:"
   ]
  },
  {
   "cell_type": "code",
   "execution_count": null,
   "id": "0f933e05-7dbf-4ac3-aa4a-808611f42d28",
   "metadata": {},
   "outputs": [],
   "source": [
    "for item in root.iter(\"tagesordnungspunkt\"):\n",
    "    #Überprüfung, ob der Wert des Attributs bzw. des Schlüssels \"top-id\", der ja ein string ist, mit \"T\" beginnt\n",
    "    if item.get(\"top-id\").startswith(\"T\"):\n",
    "        print(item.tag, item.attrib)"
   ]
  },
  {
   "cell_type": "markdown",
   "id": "9de65507-09b8-4bb7-b9b0-c5d8064b433e",
   "metadata": {
    "deletable": false,
    "editable": false
   },
   "source": [
    "Klappt hervorragend!\n",
    "\n",
    "Nun wollen wir uns auf die Äußerungen der Abgeordneten im Protokoll konzentrieren. Wie ein Blick in das XML-Dokument verrät, befinden sich diese in Elementen mit dem Tag `<rede>` bzw. diesem untergeordnet in `<p>`-Elementen. In der folgenden Zelle verwenden wir wieder `iter` – zweimal hintereinander geschaltet – und extrahieren den in den `<p>`-Elementen befindlichen Textinhalt über das `text`-Attribut. Die `if.paragraph.text`-Bedingung ist nötig, da gewisse `<p>`-Elemente leer sind und `None` zurückgeben würden."
   ]
  },
  {
   "cell_type": "code",
   "execution_count": null,
   "id": "d3b4efc0-f29b-4d37-9c58-e9dceec1858e",
   "metadata": {
    "scrolled": true,
    "tags": []
   },
   "outputs": [],
   "source": [
    "for speech in root.iter(\"rede\"):\n",
    "    for paragraph in speech.iter(\"p\"):\n",
    "        if paragraph.text:\n",
    "            print(paragraph.text.strip(), end=\" \") #'text' heißt gleich bei 'BeautifulSoup'\n",
    "    print(\"\\n\") #Einfügen eines Zeilenumbruchs nach jeder Rede"
   ]
  },
  {
   "cell_type": "markdown",
   "id": "8aae79e1-c822-49c7-b161-2250edfca988",
   "metadata": {
    "deletable": false,
    "editable": false
   },
   "source": [
    "Das scheint ganz gut zu klappen. \n",
    "\n",
    "Überprüfen wir aber zur Sicherheit, ob wir auch wirklich nur das Gewünschte extrahiert haben, also die Äußerungen der Abgeordneten (bzw. die *True Positives*, vgl. \"Die Wahrheitsmatrix\" in Notebook \"Input und Output Teil 1\"). Beim Lesen der ersten Rede von Annalena Baerbock irritiert der Schluss (alles nach \"Vielen Dank\"). Dieser wurde, wie ein Blick in das XML-Dokument zeigt, denn auch gar nicht von der Rednerin selbst gesprochen, sondern von der Parlamentspräsidentin Bärbel Bas. Einziger Hinweis ist ein dem fraglichen `<p>`-Element vorgeschobenes `<name>`-Element. Tatsächlich finden sich solche Äußerungen der Parlamentspräsidentin (und später im Protokoll ihres Vize-Präsidenten Wolfgang Kubicki) am Ende der meisten `<rede>`-Elemente – jeweils mit vorgeschobenem `<name>`-Element. Diese gehören natürlich nicht zur Äußerung des/der Abgeordneten der anderen `<p>`-Elemente unter `<rede>` und sollten somit nicht extrahiert werden.\n",
    "\n",
    "Idealerweise ließen sich die `<p>`-Elemente, die wirklich zur Äußerung des/der Abgeordneten gehören von jenen, die von jemand anderem geäußert werden, über unterschiedliche Tags voneinander abgrenzen. Bei Zwischenrufen ist dies der Fall, sind diese doch in `<kommentar>`-Elementen statt in `<p>`-Elementen gespeichert. Alternativ hätten `<p>`-Elemente, die nicht von dem/der betreffenden Abgeordneten stammen, über Attribute charakterisiert werden können. Doch auch das ist nicht der Fall, wie ein Abgleich mit dem Dokument zeigt. \n",
    "\n",
    "Wenn wir nicht über Tags bzw. Attribute gehen können, bleibt der Weg über die Reihenfolge der Elemente – wie erwähnt befinden sich die eingeschobenen Äußerungen der Parlamentspräsidentin meist am Ende eines `<rede>`-Elements. Wir können den Code also derart anpassen, dass wir statt bloß über `<p>`-Elemente über alle Kinder jedes `<rede>`-Elements iterieren. Dafür können wir `speech` wie ein gewöhnliches iterierbares Objekt behandeln, das uns nach und nach seine Kinder zurückgibt. Entscheidenderweise brechen wir die Schleife ab, sobald wir auf ein Kind mit `<name>`-Tag treffen:"
   ]
  },
  {
   "cell_type": "code",
   "execution_count": null,
   "id": "d726b98f-c9ee-4870-887b-f3b6508219fb",
   "metadata": {
    "scrolled": true,
    "tags": []
   },
   "outputs": [],
   "source": [
    "for speech in root.iter(\"rede\"):\n",
    "    for element in speech:\n",
    "        if element.tag == \"name\":\n",
    "            break\n",
    "        elif element.tag == \"p\" and element.text:\n",
    "            print(element.text.strip(), end=\" \") #Inkl. Bereinigung von leading/trailing whitespace\n",
    "    print(\"\\n\") #Einfügen eines Zeilenumbruchs nach jeder Rede"
   ]
  },
  {
   "cell_type": "markdown",
   "id": "028df087-7933-4b86-a529-1e19de5a9e4e",
   "metadata": {
    "deletable": false,
    "editable": false
   },
   "source": [
    "Das klappt, wie wir etwa am Ende der ersten Rede erkennen können. \n",
    "\n",
    "Wie gewohnt müssen wir uns an dieser Stelle aber versichern, dass wir nicht \"übers Ziel hinausgeschossen\" sind und Äußerungen, die tatsächlich der/die jeweilige Abgeordnete gemacht hat, miteliminiert haben, weil ein `<name>`-Element noch vor dem Ende der Rede auftritt (etwa eine zwischenzeitliche Ordnungsbemerkung der Parlamentspräsidentin). Tatsächlich gibt es wenige solche Fälle, etwa in Zeile 2357.\n",
    "\n",
    "Dieses Beispiel veranschaulicht zweierlei: Einerseits unterstreicht es, wie wichtig die vertiefte und repetitive Auseinandersetzung mit Daten ist. Andererseits zeigt es, dass eine einfache Programmierlösung manchmal schlicht nicht existiert. Sicherlich könnten wir weitere Bedingungen aufstellen, um die Extraktion zu perfektionieren. Je mehr es sich jedoch um Sonderfälle handelt, desto mehr sinkt der Nutzen einer maschinellen Herangehensweise. Abhängig vom Forschungsinteresse könnte man sich die verbleibenden *edge cases*  zur manuellen Entscheidung ausgeben lassen. Insbesondere bei quantitativen Vorhaben wäre aber auch ein gewisses Maß an Imperfektion der extrahierten Daten vertretbar.\n",
    "\n",
    "Nun üben wir die Extraktion von Daten in XML-Dokumenten, wobei wir in Kauf nehmen, dass wir die Äußerungen von Abgeordneten nicht ganz fehlerfrei extrahieren können."
   ]
  },
  {
   "cell_type": "markdown",
   "id": "3031db01-e51f-4239-9562-d39b450e1893",
   "metadata": {
    "deletable": false,
    "editable": false
   },
   "source": [
    "***\n",
    "\n",
    "✏️ **Übung 1:** Pass obigen Extraktionscode so an, dass vor jeder Äußerung der Name des/der jeweiligen Abgeordneten ausgegeben wird. \n",
    "\n",
    "<details>\n",
    "<summary>💡 Tipp</summary>\n",
    "<br>Setz den Namen am besten aus Vor- und Nachnamen zusammen. Bedenk außerdem, dass nur eine Methode bei <code>xml</code> rekursiv sucht.<br><br>\n",
    "</details>\n",
    "<br>"
   ]
  },
  {
   "cell_type": "code",
   "execution_count": null,
   "id": "2a5e9263-bab8-4294-86f6-89b14feaf35a",
   "metadata": {
    "scrolled": true,
    "tags": []
   },
   "outputs": [],
   "source": [
    "#In diese Zelle kannst Du den Code zur Übung schreiben.\n",
    "\n",
    "\n"
   ]
  },
  {
   "cell_type": "markdown",
   "id": "a759b070-45be-434e-9265-717e0aeb0c61",
   "metadata": {
    "deletable": false,
    "editable": false
   },
   "source": [
    "***\n",
    "\n",
    "✏️ **Übung 2:** Neben den Reden bzw. Äußerungen der Abgeordneten, die gerade das Rederecht besitzen, enthält das Protokoll auch verbale Zwischenrufe sowie Anmerkungen über Beifall, Lachen etc. Diese Informationen sind in Elementen mit dem Tag `<kommentar>` enthalten. Extrahier sie für alle Reden, für die mindestens ein `<kommentar>`-Element protokolliert wurde. Lass sie Dir zusammen mit dem Namen des/der Abgeordneten ausgeben, der/die eigentlich gerade am sprechen ist.\n"
   ]
  },
  {
   "cell_type": "code",
   "execution_count": null,
   "id": "c0f3147e-0cd1-4328-9e43-3941157fd7b5",
   "metadata": {},
   "outputs": [],
   "source": [
    "#In diese Zelle kannst Du den Code zur Übung schreiben.\n",
    "\n",
    "\n"
   ]
  },
  {
   "cell_type": "markdown",
   "id": "e18e13d8-37dc-4a28-852c-fe48dd7a357b",
   "metadata": {
    "deletable": false,
    "editable": false
   },
   "source": [
    "***\n",
    "\n",
    "Sehr gut! \n",
    "\n",
    "Zum Abschluss lernen wir noch, wie wir selbst XML-Dokumente schreiben können. Wir exerzieren dies am Beispiel der in Übung 1 extrahierten Daten durch und speichern alle Äußerungen inklusive der Information, von wem sie stammen, in einer Datei im XML-Format.\n",
    "\n",
    "### XML schreiben\n",
    "\n",
    "Der erste Schritt beim Erstellen eines XML-Dokuments besteht darin, das oberste Element in der Hierarchie zu initialisieren und ihm einen Namen zuzuweisen. Wir nennen es schlicht `corpus` und weisen es einer gleichnamigen Variablen zu:"
   ]
  },
  {
   "cell_type": "code",
   "execution_count": null,
   "id": "2a6e0ab0-1fae-4e2d-8260-a4d0f9bb6880",
   "metadata": {},
   "outputs": [],
   "source": [
    "corpus = ET.Element(\"corpus\")"
   ]
  },
  {
   "cell_type": "markdown",
   "id": "96016995-f006-4975-b9bf-024b39ab8ffc",
   "metadata": {
    "deletable": false,
    "editable": false
   },
   "source": [
    "Angenommen wir fertigen so ein Dokument für mehrere Sitzungen des Bundestags an, so macht es Sinn, Informationen etwa zum Datum der gegebenen Sitzung als Attribute des `corpus`-Elements zu speichern – wie das im originalen Plenarprotokoll auch getan wurde. Attribute *setzen* wir mit der `set`-Methode:"
   ]
  },
  {
   "cell_type": "code",
   "execution_count": null,
   "id": "b28ba0fc-eef6-481b-b63d-2121ae45a7b5",
   "metadata": {},
   "outputs": [],
   "source": [
    "corpus.set(\"date\", \"10.04.2024\") #Beachte, dass Schlüssel und Wert kommasepariert sind."
   ]
  },
  {
   "cell_type": "markdown",
   "id": "849e6168-3612-494b-8e1b-bf6eca8af055",
   "metadata": {
    "deletable": false,
    "editable": false
   },
   "source": [
    "Die extrahierten Äußerungen bestehen ja typischerweise aus mehreren Paragraphen. Diese wollen wir nun pro Äußerung in je einem eigenen, `corpus` untergeordneten Element speichern. Das Schaffen dieser \"Kinder\" können wir direkt in die in Übung 1 verwendete Extraktionsschleife integrieren. Anstatt uns die extrahierten Daten per `print` auszugeben, speichern wir sie in einem `xml`-Element. \n",
    "\n",
    "Lies die beiden Kommentare im folgenden Code, um zu verstehen, wie Elemente in einem XML-Stammbaum angelegt werden:"
   ]
  },
  {
   "cell_type": "code",
   "execution_count": null,
   "id": "1515de6a-315a-49fa-89ca-c20d5c331ca7",
   "metadata": {
    "scrolled": true,
    "tags": []
   },
   "outputs": [],
   "source": [
    "for speech in root.iter(\"rede\"):\n",
    "\n",
    "    name = list(speech.iter(\"vorname\"))[0].text\n",
    "    surname = list(speech.iter(\"nachname\"))[0].text\n",
    "    \n",
    "    \"\"\"Für jede Äußerung schaffen wir ein Element namens 'statement' (zweites Argument der 'SubElement'-Funktion), \n",
    "    das dem 'corpus'-Element untergeordnet sein soll  (erstes Argument). 'statement' soll jeweils über ein Attribut\n",
    "    namens 'speaker' verfügen, dessen Wert der zusammengesetzte Name des/der Abgeordneten ist (Achtung: das Schlüssel-\n",
    "    Werte-Paar wird hier, anders als oben, wie bei einem dictionary geschaffen).\"\"\"\n",
    "    statement = ET.SubElement(corpus, \"statement\", {\"speaker\": name + \" \" + surname})\n",
    "    \n",
    "    for element in speech:\n",
    "        if element.tag == \"name\":\n",
    "            break\n",
    "        elif element.tag == \"p\" and element.text:\n",
    "            \n",
    "            \"\"\"Für jeden Paragraphen der jeweiligen Äußerung schaffen wir mithilfe derselben 'SubElement'-Funktion \n",
    "            ein Element namens 'p' (zweites Argument), das dem jeweiligen 'statement'-Element untergeordnet sein soll \n",
    "            (erstes Argument). Anschließend weisen wir 'p' Textinhalt über das Attribut 'text' zu.\"\"\"\n",
    "            paragraph = ET.SubElement(statement, \"p\")\n",
    "            paragraph.text = element.text.strip()           "
   ]
  },
  {
   "cell_type": "markdown",
   "id": "d343489d-3784-407a-8bd5-c9ce724ac29e",
   "metadata": {
    "deletable": false,
    "editable": false
   },
   "source": [
    "Bevor wir dieses XML-Objekt extern speichern, überprüfen wir, ob alles geklappt hat. Hierfür lohnt es sich, Einrückungen entsprechend der Hierarchie einzufügen. Das können wir wie folgt mit einem weiteren Teil von `xml` erledigen (`minidom`):"
   ]
  },
  {
   "cell_type": "code",
   "execution_count": null,
   "id": "805975af-9459-4332-bc14-732cc0833f79",
   "metadata": {
    "scrolled": true,
    "tags": []
   },
   "outputs": [],
   "source": [
    "from xml.dom import minidom\n",
    "\n",
    "pretty_corpus = minidom.parseString(ET.tostring(corpus)).toprettyxml(indent=\"  \")\n",
    "\n",
    "print(pretty_corpus)"
   ]
  },
  {
   "cell_type": "markdown",
   "id": "9be04699-370f-49d7-9912-6742f1f9115d",
   "metadata": {
    "deletable": false,
    "editable": false
   },
   "source": [
    "Schaut gut aus. \n",
    "\n",
    "Nun können wir das schön formatierte `pretty_corpus` wie gewohnt extern speichern:"
   ]
  },
  {
   "cell_type": "code",
   "execution_count": null,
   "id": "15cefbb9-4f04-4ed8-a231-b5a29ca47be3",
   "metadata": {},
   "outputs": [],
   "source": [
    "with open(\"../3_Dateien/Output/aeusserungen_im_bundestag.xml\", \"w\", encoding=\"utf-8\") as write_file:\n",
    "    write_file.write(pretty_corpus)"
   ]
  },
  {
   "cell_type": "markdown",
   "id": "74c6c5d1-d19f-40c0-9239-d93944a81b00",
   "metadata": {
    "deletable": false,
    "editable": false
   },
   "source": [
    "Überprüf, ob das funktioniert hat, indem Du die neu geschaffene Datei mit Sublime Text öffnest. \n",
    "\n",
    "Bemerkung am Rande: Für die Datenspeicherung sind die eingefügten Einrückungen natürlich unnötig. Manchmal öffnen wir XML-Dokumente aber eben auch mit grafischen Programmen wie Sublime Text. Ohne Einrückungen wäre das gesamte XML-Dokument auf eine einzigen, langen Zeile geschrieben worden, was für das menschliche Auge denkbar schwierig zu lesen ist.\n",
    "\n",
    "Abschließend üben wir das Schreiben von XML und machen uns ein paar konzeptionelle Gedanken zu verschiedenen Speicherformaten."
   ]
  },
  {
   "cell_type": "markdown",
   "id": "2e38d947-55d0-480d-ace2-186dd6be8c38",
   "metadata": {
    "deletable": false,
    "editable": false
   },
   "source": [
    "*** \n",
    "\n",
    "✏️ **Übung 3:** Im Anwendungsfall haben wir sämtliche Strophen von Faust I in einer externen Textdatei gespeichert. Diese verfügt (idealerweise) über eine interne Struktur. In der Musterlösung wurde etwa mit Tabstopps und Zeilenumbrüchen gearbeitet, um einzelne Strophen bzw. die zugehörigen Figuren voneinander abzugrenzen. Diese Struktur kommt uns spätestens dann zu Gute, wenn wir die Daten für irgendeine Form von Auswertung mit Python wieder einlesen. \n",
    "\n",
    "Um unseren Anwendungsfall zu \"professionalisieren\", ist es nun Deine Aufgabe, den Faust I in einem XML-Dokument zu speichern, also in einem Format, dessen \"Aufgabe\" es ist, Daten ordentlich zu strukturieren. Kopier dazu den Code vom Extraktionsschritt des Anwendungsfalls in die folgende Zelle. Pass ihn anschließend so an, dass die Daten dynamisch in ein XML-Dokument statt in eine Textdatei geschrieben werden.\n",
    "\n",
    "Als kleiner Bonus, der überprüft, ob bei der Speicherung alles geklappt hat, vor allem aber die Nützlichkeit strukturierter Daten aufzeigt, kannst Du Dir anschließend über die bereits gegebene Code-Zelle einfach alle Verse des berühmten Teufels aus dem Faust ausgeben lassen. Wenn nötig, pass den Dateipfad bzw. die Tags und Attribute Deiner Namensgebung an.\n",
    "\n",
    "<details><summary>📌 Herausforderung </summary>\n",
    "<br>Extrahier zusätzlich den Titel jeder Szene und speicher diese Information jeweils an der richtigen Position in der Hierarchie des zu schaffenden XML-Dokuments.\n",
    "</details>\n",
    "<br>"
   ]
  },
  {
   "cell_type": "code",
   "execution_count": null,
   "id": "5fe9d51f-f0d0-4267-85d5-4d46aa0341e8",
   "metadata": {},
   "outputs": [],
   "source": [
    "#In diese Zelle kannst Du den Code zur Übung schreiben.\n",
    "\n",
    "\n"
   ]
  },
  {
   "cell_type": "code",
   "execution_count": null,
   "id": "f5198bd8-0383-4c1b-ad56-c0d5f9073d5e",
   "metadata": {
    "scrolled": true,
    "tags": []
   },
   "outputs": [],
   "source": [
    "#Bonus: Ausgabe aller Verse von Mephisto(pheles)\n",
    "root = ET.parse(\"../3_Dateien/Output/faust_1.xml\").getroot()\n",
    "\n",
    "for character in root.iter(\"character\"):\n",
    "    if not character.get(\"name\") == \"Mephistopheles\":\n",
    "        continue\n",
    "    for line in character.iter(\"line\"):\n",
    "        print(line.text)"
   ]
  },
  {
   "cell_type": "markdown",
   "id": "ac3efc0f-0cf1-4fec-ac20-c33b5274c011",
   "metadata": {
    "deletable": false,
    "editable": false
   },
   "source": [
    "***\n",
    "\n",
    "✏️ **Übung 4:** XML ist wie gesagt ein beliebtes Format, um Daten zu speichern und zu teilen. Neben XML arbeiten wir beim Programmieren auch oft mit csv-Dateien (vgl. Notebooks \"Input und Output\" sowie \"Datenanalyse\"). Welchen Vorteil hat XML im Gegensatz zu csv?\n",
    "\n",
    "<details>\n",
    "<summary>💡 Tipp</summary>\n",
    "<br>Analysier dazu folgenden Screenshot einer XML- bzw. csv-Datei, die fast die gleichen Daten beinhalten.\n",
    "    <br><br>\n",
    "    <img src=\"../3_Dateien/Grafiken_und_Videos/vergleich_xml_html.png\">\n",
    "    <br><br>\n",
    "</details>"
   ]
  },
  {
   "cell_type": "markdown",
   "id": "fcd370d4-fbd9-4d0f-8f53-c24a663a220e",
   "metadata": {
    "deletable": false,
    "editable": false
   },
   "source": [
    "***\n",
    "\n",
    "Wirklich gute Arbeit! \n",
    "\n",
    "Damit sind wir am Ende des Notebooks angelangt. 🎉"
   ]
  },
  {
   "cell_type": "markdown",
   "id": "d75fa4cc-609f-4ce3-b21b-a2ee97a5b370",
   "metadata": {
    "deletable": false,
    "editable": false
   },
   "source": [
    "<br><br>\n",
    "***\n",
    "<table>\n",
    "      <tr>\n",
    "        <td>\n",
    "            <img src=\"../3_Dateien/Lizenz/CC-BY-SA.png\" width=\"400\">\n",
    "        </td> \n",
    "        <td>\n",
    "            <p>Dieses Notebook sowie sämtliche weiteren <a href=\"https://github.com/yannickfrommherz/exdimed-student/tree/main\">Materialien zum Programmierenlernen für Geistes- und Sozialwissenschaftler:innen</a> sind im Rahmen des Projekts <i>Experimentierraum Digitale Medienkompetenz</i> als Teil von <a href=\"https://tu-dresden.de/gsw/virtuos/\">virTUos</a> entstanden. Erstellt wurden sie von Yannick Frommherz unter Mitarbeit von Anne Josephine Matz. Sie stehen als Open Educational Resource nach <a href=\"https://creativecommons.org/licenses/by-sa/4.0/\">CC BY SA</a> zur freien Verfügung. Für Feedback und bei Fragen nutz bitte das <a href=\"https://forms.gle/VsYJgy4bZTSqKioA7\">Kontaktformular</a>.\n",
    "        </td>\n",
    "      </tr>\n",
    "</table>"
   ]
  }
 ],
 "metadata": {
  "kernelspec": {
   "display_name": "Python 3 (ipykernel)",
   "language": "python",
   "name": "python3"
  },
  "language_info": {
   "codemirror_mode": {
    "name": "ipython",
    "version": 3
   },
   "file_extension": ".py",
   "mimetype": "text/x-python",
   "name": "python",
   "nbconvert_exporter": "python",
   "pygments_lexer": "ipython3",
   "version": "3.11.5"
  }
 },
 "nbformat": 4,
 "nbformat_minor": 5
}