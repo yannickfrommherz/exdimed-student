{
 "cells": [
  {
   "cell_type": "markdown",
   "id": "948be796-6ec9-4128-bde3-8cf5d536a7ac",
   "metadata": {
    "deletable": false,
    "editable": false
   },
   "source": [
    "# Datentypen\n",
    "\n",
    "Im Notebook \"Einführung\" haben wir gelernt, dass sämtliche Datenpunkte in Python *Objekte* sind. Wie bereits erwähnt, hat jedes Objekt einen *Datentyp*. Zwei Datentypen sind uns schon begegnet:\n",
    "\n",
    "- Zeichenketten, in Python ```string``` genannt (Kurzform: ```str```) \n",
    "- Ganzzahlen, in Python ```integer``` genannt (Kurzform: ```int```) \n",
    "\n",
    "Diese beiden und weitere wichtige Datentypen sowie ihre Eigenschaften lernen wir in diesem Notebook kennen. Die meisten Datentypen in Python haben eine Entsprechung in unserem alltäglichen (nicht-computationellen) Leben, sie werden Dir also vermutlich nicht besonders abwegig vorkommen. Was wir jedoch lernen müssen, ist, welche Konventionen für die einzelnen Datentypen bei Python gelten – also etwa, wie sie syntaktisch eingeführt werden müssen oder was man mit ihnen (nicht) machen kann. \n",
    "\n",
    "In diesem Notebook kommt noch einmal einiges an Theorie auf Dich zu, danach wird es jedoch angewandter. Dieses Notebook ist auch als Nachschlageort gedacht, wo Du alles Relevante zu Datentypen findest. Viele Fehler beim Programmieren fußen auf einem fehlenden Verständnis von Datentypen. Dem möchten wir hiermit vorbeugen, und wenn es doch zu Fehlern kommt (und das wird es sehr oft 😅), kannst Du hier nachschlagen.\n",
    "\n",
    "## Zeichenketten / strings\n",
    "\n",
    "Zeichenketten sind, wie es der Name sagt, grundlegend Ketten von Zeichen, also etwa Wörter, Sätze oder ganze Texte. Sie werden stets umrahmt von Anführungszeichen, also ```\"...\"```oder ```'...'``` (beide Varianten sind in Ordnung, solange sie konsistent genutzt werden):"
   ]
  },
  {
   "cell_type": "code",
   "execution_count": null,
   "id": "1ba3ff9f-e7c7-4391-8443-a794f30ceb81",
   "metadata": {
    "tags": []
   },
   "outputs": [],
   "source": [
    "string1 = \"Dies ist ein Satz bestehend aus acht 'Wörtern'.\" #Die jeweils anderen Anführungszeichen können im string vorkommen.\n",
    "string2 = \"Dies\"\n",
    "string3 = \"D\"\n",
    "string4 =  \"\" #Strings können auch leer sein, was bei der Ausgabe nicht sichtbar wird, aber es kommt auch keine Fehlermeldung.\n",
    "string5 = \"Dieser string \\\n",
    "wiederum verteilt sich auf \\\n",
    "drei Zeilen.\" #Mittels backslash (\"\\\") können wir einen string auch auf mehrere Zeilen verteilen.\n",
    "\n",
    "print(string1, string2, string3, string4, string5)"
   ]
  },
  {
   "cell_type": "markdown",
   "id": "fbae0682-169d-4cd8-ac9d-d77975d37604",
   "metadata": {
    "deletable": false,
    "editable": false
   },
   "source": [
    "## Ganzzahlen / integer\n",
    "\n",
    "Ganzzahlen sind schlicht ganze Zahlen, also Zahlen ohne Nachkommastellen. Wie wir bereits gesehen haben, bedarf es **keiner** Anführungs- oder sonstiger Zeichen bei der Verwendung von Ganzzahlen. Im Gegenteil: Eine Ganzzahl umrahmt von Anführungszeichen interpretiert Python als string (vgl. die letzte Übung im Notebook \"Einführung\"). \n",
    "\n",
    "## Dezimalzahlen / float\n",
    "\n",
    "Neben Ganzzahlen gibt es auch Dezimalzahlen, die in Python ```float``` heißen. Wichtig: Das Dezimalzeichen ist ein **Punkt** ```.```"
   ]
  },
  {
   "cell_type": "code",
   "execution_count": null,
   "id": "2c09f484-009e-4104-a3ac-7b544f85eda7",
   "metadata": {
    "tags": []
   },
   "outputs": [],
   "source": [
    "int_number = 20\n",
    "float_number = 20.1\n",
    "print(int_number, \"ist ein Objekt vom Datentyp 'integer' und\", float_number, \"ein Objekt vom Datentyp 'float'.\")"
   ]
  },
  {
   "cell_type": "markdown",
   "id": "f5d568eb-b6e3-4c73-aadc-df451c644e0e",
   "metadata": {
    "deletable": false,
    "editable": false
   },
   "source": [
    "## Listen / list\n",
    "\n",
    "Ein weiterer äußerst nützlicher Datentyp in Python sind Listen, genannnt ```list```, die wir im Alltag z. B. in Form von To-Do-Listen oder Einkaufslisten kennen. Nachfolgend ein Beispiel für eine Liste mit allen Wochentagen:"
   ]
  },
  {
   "cell_type": "code",
   "execution_count": null,
   "id": "4a665890-3a34-4037-81d2-9856e302c9aa",
   "metadata": {
    "tags": []
   },
   "outputs": [],
   "source": [
    "days = [\"Montag\", \"Dienstag\", \"Mittwoch\", \"Donnerstag\", \"Freitag\", \"Samstag\", \"Sonntag\"]"
   ]
  },
  {
   "cell_type": "markdown",
   "id": "75b1f988-c099-44b1-87ab-e439bb415b7d",
   "metadata": {
    "deletable": false,
    "editable": false
   },
   "source": [
    "Listen sind ganz einfach eine Ansammlung an einzelnen Objekten in einer bestimmten Reihenfolge. Abgegrenzt werden Listen durch **eckige Klammern**. Die einzelnen *Elemente* einer Listen werden durch **Kommata** voneinander separiert und können Objekte jeglichen Datentyps sein:"
   ]
  },
  {
   "cell_type": "code",
   "execution_count": null,
   "id": "046af792-61a6-4ed7-b846-86100eba0be7",
   "metadata": {
    "tags": []
   },
   "outputs": [],
   "source": [
    "wild_mix = [\"Montag\", 1, 20.0, {\"Friday\": \"Freitag\", \"Saturday\": [\"Samstag\", \"Sonnabend\"]}]"
   ]
  },
  {
   "cell_type": "markdown",
   "id": "33730f0c-3a3d-45bc-bdcb-f1d68af62979",
   "metadata": {
    "deletable": false,
    "editable": false
   },
   "source": [
    "Hier ist das erste Element ein ```string```, das zweite ein ```integer```, das dritte ein ```float``` und das vierte (abgegrenzt durch die geschweiften Klammern) ein sog. ```dictionary```, dazu gleich mehr.\n",
    "\n",
    "***\n",
    "✏️ **Übung 1:** Erstell eine Liste mit allen Monaten des Jahres, allerdings gruppiert nach meteorologischen Jahreszeiten, also *März, April, Mai* zusammen in einer Liste für Frühlingsmonate, etc. Am Ende solltest Du also vier Listen für die vier Jahreszeiten haben, die wiederum Elemente einer einzigen Liste sind. Eine Variable namens ```seasons``` soll auf diese Liste zeigen."
   ]
  },
  {
   "cell_type": "code",
   "execution_count": null,
   "id": "443358b0-46ee-44d5-91b9-de8407e998c2",
   "metadata": {},
   "outputs": [],
   "source": [
    "#In diese Zelle kannst Du den Code zur Übung schreiben.\n",
    "\n",
    "\n"
   ]
  },
  {
   "cell_type": "markdown",
   "id": "74fb0c86-ff5d-4866-9e87-37032185a009",
   "metadata": {
    "deletable": false,
    "editable": false
   },
   "source": [
    "***\n",
    "\n",
    "Angenommen Du hast mit den Frühlingsmonaten angefangen, sollte Dir der nächste ```print```-Befehl die Sommermonate zurückgeben. Die hier verwendete Technik nennt sich *Indexing*. Kurz formuliert erlaubt sie es uns, auf einzelne Element einer Liste über ihren *Index* zuzugreifen, wobei wir bei **null** zu zählen beginnen. Der Index ```0``` gibt uns also das erste Element zurück, der Index ```1``` das zweite, etc. Um sicherzustellen, dass sich der Befehl ausführen lässt, definieren wir erst noch einmal die Liste `seasons`:"
   ]
  },
  {
   "cell_type": "code",
   "execution_count": null,
   "id": "442ed9fa-d316-45dd-92ae-11bc894ccfef",
   "metadata": {},
   "outputs": [],
   "source": [
    "seasons = [['März', 'April', 'Mai'], ['Juni', 'Juli', 'August'], ['September', 'Oktober', 'November'], ['Dezember', 'Januar', 'Februar']]\n",
    "print(seasons[1])"
   ]
  },
  {
   "cell_type": "markdown",
   "id": "2a30cab8-a786-4215-a75f-979ef8159603",
   "metadata": {
    "deletable": false,
    "editable": false
   },
   "source": [
    "Indexing schauen wir uns weiter unten im Detail an. Weitere sog. *Methoden* zum Bearbeiten von Listen lernen wir im Notebook \"Funktionen und Methoden\" kennen.\n",
    "\n",
    "## Dictionaries\n",
    "\n",
    "Das vierte Element in ```wild_mix``` oben ist also ein Objekt des Datentyps ```dictionary```, kurz ```dict```. Dictionaries funktionieren wie Wörterbücher im alltäglichen Leben. Sie bestehen aus Schlüsseln, in Python *key* genannt, und zugehörigen Werten, in Python *value* genannt. Zusammen ergeben Schlüssel und Wert sog. *Schlüssel-Werte-Paare* (engl. *key-value pairs*). Ein Schlüssel entspricht dem Suchbegriff, den wir in einem Sprachwörterbuch nachschlagen. Der zugehörige Wert entspricht dem Eintrag, den wir beim betreffenden Suchbegriff vorfinden. \n",
    "\n",
    "Ein dictionary wird von **geschweiften Klammern** umrahmt. Zwischen Schlüssel und Wert befindet sich ein **Doppelpunkt** und zwischen den einzelnen Schlüssel-Werte-Paaren jeweils ein **Komma**:"
   ]
  },
  {
   "cell_type": "code",
   "execution_count": null,
   "id": "98338cb2-57a9-4cdf-9cf0-830e80ea2c19",
   "metadata": {
    "tags": []
   },
   "outputs": [],
   "source": [
    "dictionary = {\"key1\": \"value1\", \"key2\": \"value2\", \"key3\": \"value3\"}"
   ]
  },
  {
   "cell_type": "markdown",
   "id": "e706d8a7-2165-4b6f-b36c-903243663b16",
   "metadata": {
    "deletable": false,
    "editable": false
   },
   "source": [
    "Jeder Schlüssel darf nur ein einziges Mal vorkommen. Typischerweise sind Schlüssel Zeichenketten (aber Objekte anderer sog. *unveränderlicher Datentypen* funktionieren auch; zur (Un)veränderlichkeit von Objekten bald mehr). Werte können theoretisch jeden Datentyp annehmen (bei ```wild_mix``` etwa eine Liste zum Schlüssel \"Saturday\") und dürfen auch mehrfach im selben dictionary vorkommen.\n",
    "\n",
    "***\n",
    "\n",
    "✏️ **Übung 2:** Bau auf der Jahreszeitenliste der vorherigen Übung auf und erstell ein dictionary mit den Jahreszeiten als Schlüssel und einer Liste mit den jeweiligen drei Monaten als Werte. Verwend wieder (d. h. *überschreib*) die Variable ```seasons```, um das dictionary zu referenzieren. Pass auf, dass Du jeweils die richtigen Klammern verwendest."
   ]
  },
  {
   "cell_type": "code",
   "execution_count": null,
   "id": "c4a8e28c-87ef-4330-b1e5-dd5e1bc54f77",
   "metadata": {},
   "outputs": [],
   "source": [
    "#In diese Zelle kannst Du den Code zur Übung schreiben.\n",
    "\n",
    "\n"
   ]
  },
  {
   "cell_type": "markdown",
   "id": "fa1d18d8-49dd-47d5-ae46-97680bb7f506",
   "metadata": {
    "deletable": false,
    "editable": false
   },
   "source": [
    "***\n",
    "\n",
    "Wenn Du alles richtig gemacht hast, kannst Du anschließend \"key\" durch einen beliebigen Schlüssel (z. B. \"Sommer\") in folgender Syntax einsetzen:\n",
    "\n",
    "`season[\"key\"]`\n",
    "\n",
    "Probier es in der Code-Zelle oben aus.\n",
    "\n",
    "Dadurch greifst Du nicht auf das *n*-te Element eines dictionaries zu, wie beim Indexing für Listen (das ginge auch nicht, da dictionaries im Gegensatz zu Listen keine Reihenfolge \"abspeichern\"; dazu mehr unter \"Sequentialität\" unten). Stattdessen \"sprichst\" Du einen bestimmten Wert über den zugehörigen Schlüssel \"an\". Weitere Methoden, um mit dictionaries zu arbeiten, lernen wir ebenfalls im Notebook \"Funktionen und Methoden\"."
   ]
  },
  {
   "cell_type": "markdown",
   "id": "502016fe-ec34-4c42-9b85-848205629ea5",
   "metadata": {
    "deletable": false,
    "editable": false
   },
   "source": [
    "## Mengen / set\n",
    "\n",
    "Um den nächsten Datentyp, die Menge, in Python ```set``` genannt, einzuführen, stellen wir uns vor, wir hätten einen Satz *tokenisiert*, also in einzelne Wörter zerlegt und dabei eine Liste mit Wörtern zurückbekommen. Führ die Zelle unten aus, um ```tokens``` zu initialisieren:"
   ]
  },
  {
   "cell_type": "code",
   "execution_count": null,
   "id": "c501feff-4003-4a35-8bdd-f56578d60ca0",
   "metadata": {
    "tags": []
   },
   "outputs": [],
   "source": [
    "tokens = [\"Vor\", \"dem\", \"Eingang\", \"zur\", \"Bank\", \"stand\", \"eine\", \"Bank\", \"aus\", \"Holz.\"]"
   ]
  },
  {
   "cell_type": "markdown",
   "id": "db7cf21a-ccfc-4ef0-a678-2b140cb97257",
   "metadata": {
    "deletable": false,
    "editable": false
   },
   "source": [
    "Diese Liste besteht aus zehn Tokens, was wir auch über die ```len```-Funktion herausfinden können:"
   ]
  },
  {
   "cell_type": "code",
   "execution_count": null,
   "id": "bd6ecb54-b4c1-4f80-a834-ba227636cb4e",
   "metadata": {
    "tags": []
   },
   "outputs": [],
   "source": [
    "print(len(tokens))"
   ]
  },
  {
   "cell_type": "markdown",
   "id": "6fc03ea8-33fc-456b-b112-9f48813873b7",
   "metadata": {
    "deletable": false,
    "editable": false
   },
   "source": [
    "Die ```len```-Funktion gibt uns bei einer Liste die Anzahl der Elemente in ihr zurück.\n",
    "\n",
    "Doch wie viele sog. *Types*, also nicht einzelne Wortvorkommnisse (Tokens), sondern einzigartige Worttypen, kommen in der Liste vor? Hier kommt ```set``` ins Spiel. Sets sind wie in der Mathematik Mengen, in denen einzelne Elemente nur **einmal** vorkommen dürfen. Wie folgt können wir in Python eine Liste mit Tokens zu einem ```set``` mit Types konvertieren (und damit die wiederholten Elemente [hier das sog. *Homonym* \"Bank\"] loswerden):"
   ]
  },
  {
   "cell_type": "code",
   "execution_count": null,
   "id": "d6ff881a-0bc2-4edc-b77d-c6ed0041fb3c",
   "metadata": {
    "tags": []
   },
   "outputs": [],
   "source": [
    "types = set(tokens)\n",
    "print(types)"
   ]
  },
  {
   "cell_type": "markdown",
   "id": "3b1b5f61-7ff7-44ea-a197-4307f92b3e91",
   "metadata": {
    "deletable": false,
    "editable": false
   },
   "source": [
    "Die Ausgabe zeigt, dass ```set```-Objekte wie dictionaries von **geschweiften Klammern** umrahmt werden. Die einzelnen Elemente sind ebenfalls **kommasepariert**. Der **fehlende Doppelpunkt** zwischen Schlüssel-Werte-Paaren unterscheidet ```set```- von ```dict```-Objekten syntaktisch.\n",
    "\n",
    "Die ```len```-Funktion lässt sich auch auf Objekte des Datentyps ```set``` anwenden:"
   ]
  },
  {
   "cell_type": "code",
   "execution_count": null,
   "id": "f6c4603e-0dee-4668-a107-3d313f785ac4",
   "metadata": {
    "tags": []
   },
   "outputs": [],
   "source": [
    "print(len(types))"
   ]
  },
  {
   "cell_type": "markdown",
   "id": "9acb8b80-9e09-4667-9b9d-a23ebfb591bb",
   "metadata": {
    "deletable": false,
    "editable": false
   },
   "source": [
    "Unser Satz beinhält also zehn Tokens und neun Types. Der Datentyp ```set``` bietet sich immer dann an, wenn wir nicht an der Häufigkeit von Elementen interessiert sind, sondern nur an deren bloßem Vorkommen. \n",
    "\n",
    "***\n",
    "\n",
    "✏️ **Übung 3:** Stell Dir vor, Du und Dein:e Partner:in haben, ohne Euch zu verständigen, jeweils eine Einkaufsliste angefertigt. Zwischen den Einkaufslisten gibt es viele Übereinstimmungen, z. B. habt ihr beide \"Hafermilch\" aufgeschrieben. Andere Lebensmittel finden sich nur auf jeweils einer der beiden Listen. Definier zwei Listen mit teils gleichen, teils unterschiedlichen Lebensmitteln und versuch anschließend, eine Einkaufsliste daraus zu machen, die keine Lebensmittel doppelt enthält. Euch fehlt zwar Hafermilch, aber ihr braucht nicht die doppelte Menge, nur weil beide \"Hafermilch\" aufgeschrieben haben. Lass Dir dann die fertige Einkaufsliste ausgeben.\n",
    "\n",
    "💡 Tipp: Ein Operator, den wir bereits im Notebook \"Einführung\" verwendet haben, lässt sich auch hier einsetzen."
   ]
  },
  {
   "cell_type": "code",
   "execution_count": null,
   "id": "d03d8f4c-7cc9-4153-985a-4f7d5dfa5a1d",
   "metadata": {
    "tags": []
   },
   "outputs": [],
   "source": [
    "#In diese Zelle kannst Du den Code zur Übung schreiben.\n",
    "\n",
    "\n"
   ]
  },
  {
   "cell_type": "markdown",
   "id": "ab095c72-5c4b-4dc0-a624-e93f780aa8b4",
   "metadata": {
    "deletable": false,
    "editable": false
   },
   "source": [
    "*** \n",
    "\n",
    "## Tupel / tuple"
   ]
  },
  {
   "cell_type": "markdown",
   "id": "ad84ff48-d013-4d50-8f75-02df210f3be1",
   "metadata": {
    "deletable": false,
    "editable": false
   },
   "source": [
    "Neben ```list```, ```dict``` und ```set``` gibt es noch einen vierten Datentyp bei Python, der in sich mehrere Objekte enthält: ```tuple```. Tupel sind wie Listen, mit einem einzigen Unterschied: Sie sind unveränderlich, was kurz formuliert bedeutet, dass sie einmal initialisiert ihren Wert, also die Elemente in ihnen, nicht mehr ändern können (wie gesagt, später mehr zur (Un-)veränderlichkeit von Objekten). Tupel werden durch **runde Klammern** definiert und die einzelnen Elemente in ihnen sind **kommasepariert**:"
   ]
  },
  {
   "cell_type": "code",
   "execution_count": null,
   "id": "8185122c-7682-43f8-93a8-ab942ed778c6",
   "metadata": {
    "tags": []
   },
   "outputs": [],
   "source": [
    "tuple1 = (\"Dieser\", \"Objektbehälter\", \"soll\", \"nicht\", \"verändert\", \"werden.\") #\"tuple\" ist sog. Schlüsselwort in Python, daher die \"1\" im Variablennamen (vgl. Notebook \"Einführung\")\n",
    "print(tuple1)"
   ]
  },
  {
   "cell_type": "markdown",
   "id": "eaa2cbe2-3908-48d8-9214-8f3545abc4f9",
   "metadata": {
    "deletable": false,
    "editable": false
   },
   "source": [
    "Tupel sind im Gegensatz zu Listen praktisch, wenn man mehrere Objekte als Schlüssel in einem dictionary verwenden will. Wie erwähnt können nur unveränderliche Objekte dictionary-Schlüssel sein. Ein Beispiel wäre folgendes dictionary bestehend aus Koordinaten und natürlichsprachlichen Labels:"
   ]
  },
  {
   "cell_type": "code",
   "execution_count": null,
   "id": "76521394-db01-473e-a5b0-0d242ce37139",
   "metadata": {
    "tags": []
   },
   "outputs": [],
   "source": [
    "points_of_interest = {(51.040826668678115, 13.73129036811354): \"Dresden Hauptbahnhof\", \n",
    "                      (51.34433624581525, 12.381138184500644): \"Leipzig Hauptbahnhof\",\n",
    "                      (50.83919457580515, 12.93033045450444): \"Chemnitz Hauptbahnhof\"}"
   ]
  },
  {
   "cell_type": "markdown",
   "id": "ac94bc04-a63f-489c-ace5-af2875ef9a90",
   "metadata": {
    "deletable": false,
    "editable": false
   },
   "source": [
    "Angenommen wir würden eine kryptische Nachricht mit Koordinaten für einen geheimen Treffpunkt erhalten, könnten wir in diesem dictionary nachschauen, ob die Koordinaten mit einem Label assoziiert sind, das uns mehr sagt:"
   ]
  },
  {
   "cell_type": "code",
   "execution_count": null,
   "id": "7354763c-29a0-4994-8aeb-cd5e25bf5fe8",
   "metadata": {
    "tags": []
   },
   "outputs": [],
   "source": [
    "meeting_location = (51.040826668678115, 13.73129036811354)\n",
    "print(\"Der geheime Treffpunkt ist:\", points_of_interest[meeting_location])"
   ]
  },
  {
   "cell_type": "markdown",
   "id": "a77866ff-8531-4f05-8ca8-b78bf7a90ae6",
   "metadata": {
    "deletable": false,
    "editable": false
   },
   "source": [
    "Wie Listen können Tupel Objekte jeglichen Datentyps enthalten.\n",
    "\n",
    "## Boolsche Werte / Boolean values\n",
    "\n",
    "Als letzten wichtigen Datentyp lernen wir Boolsche Werte kennen. Sie werden in Python mit ```bool``` abgekürzt. Um genau zu sein, hatten Boolsche Werte bereits einen kleinen Gastauftritt im Notebook \"Einführung\". Es gibt genau zwei Boolsche Werte: ```True``` und ```False``` (beachte die Großschreibung!), also \"wahr\" und \"falsch\". \n",
    "\n",
    "Wie erwähnt gibt es in Python keine Mehrdeutigkeit und genau das können wir uns zunutze machen, wenn wir den Ablauf unseres Codes steuern wollen. Zum Beispiel bei Ausdrücken mit Vergleichoperatoren (vgl. Notebook \"Einführung\"), die immer nur entweder ```True``` oder ```False``` ergeben können. Gepaart mit den Kontrollstrukturen *bedingte Anweisungen* (\"wenn dieser Ausdruck ```True``` ergibt, dann mache x, sonst y\") und *Schleifen* (\"solange diese Bedingung ```True``` ergibt, mache x\"), die wir bereits gestreift haben und bald im Notebook \"Kontrollstrukturen\" eingehend kennenlernen, können wir unseren Code kontrollieren. \n",
    "\n",
    "Bei der Übung zu den Einrückungen im Notebook \"Einführung\" haben wir das schon angewendet. Hier ein leicht erweiterter Code, bei dem Du die Details noch nicht verstehen musst."
   ]
  },
  {
   "cell_type": "code",
   "execution_count": null,
   "id": "1367f337-9aa9-48bd-9e6f-6ba9a59e63b7",
   "metadata": {},
   "outputs": [],
   "source": [
    "alphabet = \"abcabcabc\"\n",
    "\n",
    "\"\"\"Hier geht Python Buchstabe für Buchstabe durch 'alphabet' und solange es Buchstaben in 'alphabet' gibt, \n",
    "wird der darunter eingerückte Codeblock ausgeführt.\"\"\"\n",
    "for character in alphabet:\n",
    "    \n",
    "    \"\"\"Bei jedem Buchstaben wird überprüft, ob diese Bedingung 'True' ergibt, \n",
    "    wenn ja, wird der darunter eingerückte Codeblock ausgeführt...\"\"\" \n",
    "    if character == \"a\":\n",
    "        print(character, \"is 'a'\")\n",
    "        \n",
    "    #...wenn nein, wird der hierunter eingerückte Codeblock ausgeführt.\n",
    "    else:\n",
    "        print(character, \"is not 'a'\")"
   ]
  },
  {
   "cell_type": "markdown",
   "id": "cad50682-0e11-4bf9-b07b-6828c2e3eaea",
   "metadata": {
    "deletable": false,
    "editable": false
   },
   "source": [
    "Damit haben wir die wichtigsten Datentypen in Python kennengelernt 😄. <br>\n",
    "\n",
    "## Datentyp überprüfen\n",
    "\n",
    "Um herauszufinden, welchen Datentyp ein Objekt hat, können wir die ```type```-Funktion benutzen:"
   ]
  },
  {
   "cell_type": "code",
   "execution_count": null,
   "id": "d64ad285-9c92-4265-85b3-1855c13e49a8",
   "metadata": {
    "tags": []
   },
   "outputs": [],
   "source": [
    "#Auch \"string\", \"float\" etc. sind Schlüsselwörter in Python, daher das vorangestellte \"a_\" im Variablennamen.\n",
    "a_string = \"Dies ist eine Zeichenkette.\"\n",
    "an_integer= 20\n",
    "a_float = 20.3\n",
    "a_list = [a_string, an_integer, a_float]\n",
    "a_dict = {a_string: a_list, an_integer: a_float}\n",
    "a_set = {\"Äpfel\", \"Birnen\", \"Hafermilch\", \"Schokokekse\"}\n",
    "a_tuple = (a_set, a_dict, a_list)\n",
    "a_bool = True\n",
    "\n",
    "#Bei print können wir auch einen \"sep\"-Parameter angeben, der definiert, wie die einzelnen Objekte in der Ausgabe konkateniert werden sollen.\n",
    "print(type(a_string), type(an_integer), type(a_float), type(a_list),\n",
    "      type(a_dict), type(a_set), type(a_tuple), type(a_bool), sep=\"\\n\")"
   ]
  },
  {
   "cell_type": "markdown",
   "id": "21c7e2b8-66f2-4e1a-9b9c-951e862f89aa",
   "metadata": {
    "deletable": false,
    "editable": false
   },
   "source": [
    "Streng genommen sind Datentypen sog. *Klassen* in Python, daher die Bezeichnung `class` in der Ausgabe. Klassen können wir selbst auch definieren, d. h. wir könnten auch unsere eigenen Datentypen entwerfen. Das ist aber fortgeschritten und wir werden Klassen in den folgenden Notebooks höchstens am Rande begegnen. \n",
    "\n",
    "Den Datentyp zu überprüfen macht dann Sinn, wenn wir uns bei einer Variable nicht (mehr) sicher sind, was für ein Objekt durch sie referenziert wird. Viele Funktionen und Methoden (dazu mehr im Notebook \"Funktionen und Methoden\") lassen sich nur auf bestimmte Datentypen anwenden, wie Du selbst sehen kannst, indem Du die bereits eingeführte ```len```-Funktion auf Objekte verschiedener Datentypen anwendest. Entfern die Hashtags im untenstehenden Codeblock, um die einzelnen ```print```-Befehle auszuführen. <br>\n",
    "\n",
    "💡 Tipp: Die Fehlermeldung ```TypeError``` kriegen wir zurück, wenn wir eine Operation auf einen Datentyp anwenden wollen, der nicht dafür vorgesehen ist. Sobald Python die Fehlermeldung ausgibt, stoppt die Ausführung des Programmcodes. Um die nachfolgenden `print`-Befehle ausführen zu können, solltest du die problematischen Zeilen durch einen Hashtag *auskommentieren* (dies macht man sich z. B. auch beim *Debugging* zunutze, also wenn sich ein Fehler (*Bug*) eingeschlichen hat und der dafür verantwortliche Codeteil gesucht wird)."
   ]
  },
  {
   "cell_type": "code",
   "execution_count": null,
   "id": "359cc754-ee83-400f-8483-3d2c43fe50ae",
   "metadata": {
    "tags": []
   },
   "outputs": [],
   "source": [
    "print(len(a_string))\n",
    "print(len(an_integer))\n",
    "#print(len(a_float))\n",
    "#print(len(a_list))\n",
    "#print(len(a_dict))\n",
    "#print(len(a_set))\n",
    "#print(len(a_tuple))\n",
    "#print(len(a_bool))"
   ]
  },
  {
   "cell_type": "markdown",
   "id": "2806ce82-fe13-4c7e-b1c2-bc56b578144d",
   "metadata": {
    "deletable": false,
    "editable": false
   },
   "source": [
    "## Datentyp ändern / Casting\n",
    "\n",
    "Selbstverständlich ist es auch möglich, Objekte von einem Datentyp in einen anderen zu konvertieren, dies nennt sich *Casting*. Oben haben wir bereits eine Liste in ein ```set``` gecastet. Für jeden eingebauten Datentyp gibt es eine entsprechende Casting-Funktion mit folgender Syntax am Beispiel von ```set```: \n",
    "<br>\n",
    "<br> \n",
    "```set(object)```\n",
    "<br>\n",
    "<br> \n",
    "Ersetz ```set``` durch den jeweiligen Kurznamen des gewünschten Datentyps und ```object``` durch das zu konvertierende Objekt. Hier einige Beispiele anhand der oben initialisierten Objekte:"
   ]
  },
  {
   "cell_type": "code",
   "execution_count": null,
   "id": "714cc5b7-9139-48ee-af19-aae745e4b6a6",
   "metadata": {
    "tags": []
   },
   "outputs": [],
   "source": [
    "integer_from_float = int(a_float) #Die Dezimalzahl wird ganz einfach gerundet.\n",
    "print(integer_from_float, \"ist vom Typ\", type(integer_from_float), \"\\n\")\n",
    "\n",
    "string_from_integer = str(integer_from_float)\n",
    "print(string_from_integer, \"ist vom Typ\", type(string_from_integer), \"\\n\") #Beachte: JupyterLab umrahmt strings in der Ausgabe nicht mit Anführungszeichen.\n",
    "\n",
    "tuple_from_list = tuple(a_list)\n",
    "print(tuple_from_list, \"ist vom Typ\", type(tuple_from_list), \"\\n\")\n",
    "\n",
    "#Interessantes Verhalten beim Casten eines strings in eine Liste (das hat mit der Sequentialität von strings zu tun, siehe unten)\n",
    "list_from_string = list(a_string) \n",
    "print(list_from_string, \"ist vom Typ\", type(list_from_string), \"\\n\")"
   ]
  },
  {
   "cell_type": "markdown",
   "id": "6d394f49-ae51-452d-9f7d-73b3b67f941e",
   "metadata": {
    "deletable": false,
    "editable": false
   },
   "source": [
    "Abschließend lernen wir drei grundlegende Eigenschaften von Datentypen kennen: *Sequentialität*, *Iterierbarkeit* und *Veränderlichkeit*. Die letzte Eigenschaft ist schon fortgeschritteneres Wissen, es schadet aber nicht, schon einmal davon gehört zu haben."
   ]
  },
  {
   "cell_type": "markdown",
   "id": "d2001edb-983b-43fc-ab04-20aaa0034171",
   "metadata": {
    "deletable": false,
    "editable": false
   },
   "source": [
    "## 1. Sequentialität\n",
    "\n",
    "Datentypen unterscheiden sich erstens hinsichtlich ihrer *Sequentialität* (engl. *sequentiality*). Sequentielle Objekte \"speichern\" die in ihnen enthaltenen Elemente in einer bestimmten Reihenfolge \"ab\". Als Metapher kann man sich eine einseitig bebaute Straße vorstellen, entlang welcher einzelne Häuser mit einer jeweils eigenen Hausnummer (1, 2, 3, 4 usw.) stehen. Das Haus mit der Hausnummer 3 steht immer am gleichen Ort in der Straße zwischen den Häusern 2 und 4. \n",
    "\n",
    "Zu den sequentiellen Datentypen gehören: \n",
    "\n",
    "```list```, ```tuple```, ```str```\n",
    "\n",
    "Bei ```str```-Objekten sind mit den einzelnen Elementen die einzelnen Zeichen, die den string konstituieren, gemeint.\n",
    "\n",
    "Man könnte annehmen, dass ```dict```- und ```set```-Objekte ebenfalls sequentielle Objekte sind. Sie \"speichern\" die in ihnen enthaltenen Schlüssel-Werte-Paare bzw. Elemente aber **nicht** in einer bestimmten Reihenfolge (Sequenz) \"ab\" und zählen von daher nicht zu den sequentiellen Datentypen. \n",
    "\n",
    "Auf alle sequentiellen Objekte können zwei sehr hilfreiche Techniken angewandt werden: *Indexing* und *Slicing*.\n",
    "\n",
    "### Indexing\n",
    "\n",
    "Bei Indexing \"sprechen\" wir ein bestimmtes Element innerhalb der Sequenz \"an\". Das ist praktisch, wenn wir nur an einem bestimmten Element und nicht an der ganzen Sequenz interessiert sind. Bei der Liste ```seasons``` von oben etwa haben wir uns nur die Sommermonate ausgeben lassen – vielleicht um uns zu vergewissern, welche Monate nach meteorologischen Kriterien zum Sommer gehören? \n",
    "\n",
    "Oft verwenden wir Indexing auch, um *nach und nach* ein einzelnes Element in der Sequenz \"anzusprechen\", zum Beispiel *jedes* einzelne (das entspräche dann einer vollständigen Iteration, vgl. \"Iterierbarkeit\" unten), oder aber nur jedes *x*-te. Auf unsere Straßenmetapher umgemünzt wäre das ein Szenario, wo wir von Haus zu Haus gehen und etwa einen Flyer in *jeden* Briefkasten werfen (vollständige Iteration) oder aber nur in *jeden zweiten* im Abschnitt der Hausnummern 26-37, vielleicht, weil wir bereits wissen, dass die anderen Häuser keine Werbung wünschen. Im ersten Fall gehen wir erst zum Haus Nummer 1, dann zur Nummer 2 etc.; im zweiten Fall erst zum Haus Nummer 26, dann zur Nummer 28, etc., bis wir mit Haus Nummer 36 abschließen. \n",
    "\n",
    "Für dieses \"Nacheinander-Ansprechen\" von bestimmten Elementen (in bestimmten Abschnitten) verwendet man Schleifen, die wir uns bald im Notebook \"Kontrollstrukturen\" anschauen. Für den Moment lernen wir, wie man mit Indexing ein einzelnes Element \"ansprechen\" kann und behalten im Hinterkopf, dass Indexing eingebaut in Schleifen eine mächtige Technik darstellt. \n",
    "\n",
    "Bei Listen haben wir wie gesagt schon kurz gesehen, wie Indexing funktioniert. Hier kommt das gleiche Beispiel noch einmal, ergänzt um Beispiele für strings und Tupel:"
   ]
  },
  {
   "cell_type": "code",
   "execution_count": null,
   "id": "da5ed07b-d928-4646-a698-e0a94e57c576",
   "metadata": {},
   "outputs": [],
   "source": [
    "seasons = [[\"März\", \"April\", \"Mai\"], \n",
    "           [\"Juni\", \"Juli\", \"August\"], \n",
    "           [\"September\", \"Oktober\", \"November\"], \n",
    "           [\"Dezember\"], \"Januar\", \"Februar\"]\n",
    "\n",
    "print(seasons[0])\n",
    "\n",
    "string = \"Zeichenkette\"\n",
    "\n",
    "print(string[1])\n",
    "\n",
    "a_tuple = (0, 1, 2)\n",
    "\n",
    "print(a_tuple[2])"
   ]
  },
  {
   "cell_type": "markdown",
   "id": "b17a7a93-edf7-434c-88d4-57b40b85845e",
   "metadata": {
    "deletable": false,
    "editable": false
   },
   "source": [
    "Um auf ein Element auf der Liste/im Tupel bzw. ein Zeichen in einem string zuzugreifen, setzt man den entsprechenden Index (sozusagen die Hausnummer) in **eckige Klammern** direkt nach dem Objekt bzw. der auf das Objekt zeigenden Variable. Die Indizes beginnen bei **null** (was unsere Straßenmetapher zugegebenermaßen leicht strapaziert). Neben den positiven Indizes gibt es auch negative, die hilfreich sind, um Elemente vom Ende des Objekts her zu indizieren. Hier ein Überblick über die positiven und negativen Indizes für die Elemente auf ```my_list```:\n",
    "\n",
    "- ```my_list  = [  1, 2, 3, 4, 5, 6, 7, 8, 9,10]```\n",
    "- ```index_p  =    0, 1, 2, 3, 4, 5, 6, 7, 8, 9 ``` (positive Indizes)\n",
    "- ```index_n  =  -10,-9,-8,-7,-6,-5,-4,-3,-2,-1 ``` (negative Indizes)\n",
    "\n",
    "Das erste Element in ```my_list```, also `1`, hat den positiven Index ```0``` sowie den negativen Index ```-10``` und so weiter. Es spielt keine Rolle, ob wir positive oder negative Indizes verwenden. Folgender Code gibt also das gleiche Element zurück:"
   ]
  },
  {
   "cell_type": "code",
   "execution_count": null,
   "id": "60ef81f6-7e9f-4309-bff9-106c608900ab",
   "metadata": {},
   "outputs": [],
   "source": [
    "my_list = [1, 2, 3, 4, 5, 6, 7, 8, 9, 10]\n",
    "print(my_list[-1], my_list[9])"
   ]
  },
  {
   "cell_type": "markdown",
   "id": "8ad44f80-28e0-46fe-bee0-ec6e3d856536",
   "metadata": {
    "deletable": false,
    "editable": false
   },
   "source": [
    "Sinnvoller ist es in diesem Fall jedoch, den negativen Index zu verwenden, da wir andernfalls wissen müssen, wie lang die Liste ist (nämlich zehn Elemente lang) und anschließend noch eins davon abziehen müssen (da die Indizes ja bei null beginnen), um den höchsten positiven Index `9` für das letzte Listenelement zu kennen.\n",
    "\n",
    "Wenn ein sequentielles Objekt ein zweites sequentielles Objekt beinhält, können wir mit **doppeltem** Indexing auf das gewünschte Element im zweiten sequentiellen Objekt zugreifen:"
   ]
  },
  {
   "cell_type": "code",
   "execution_count": null,
   "id": "25c4e591-b1bd-44da-9f07-df414c00a223",
   "metadata": {},
   "outputs": [],
   "source": [
    "my_list = [\"Wort\", [\"Liste\", \"mit\", \"Wörtern\"]]\n",
    "print(my_list[1][1])"
   ]
  },
  {
   "cell_type": "markdown",
   "id": "fe924bff-a155-440a-be5b-fa31043abf8b",
   "metadata": {
    "deletable": false,
    "editable": false
   },
   "source": [
    "Befindet sich innerhalb des zweiten sequentiellen Objekts ein drittes, kann man ein bestimmtes Element innerhalb des dritten Objekts mit einer dritten eckigen Klammer \"ansprechen\", etc. (tatsächlich ist dies hier der Fall, denn \"mit\" ist als string ja auch ein sequentielles Objekt; versuch gerne, Dir nur das \"m\" mittels Indexing ausgeben zu lassen).\n",
    "\n",
    "***\n",
    "\n",
    "✏️ **Übung 4:** Kombinier Indexing mit einer weiteren bereits erlernten Technik, um aus den einzelnen Elementen in ```list_of_words1``` und  ```list_of_words2``` sowie aus ```conjunction``` einen string zu generieren, der natürlichsprachlich Sinn macht. Denk dabei auch an Leerschläge zwischen den einzelnen Wörtern. Definier für den fertigen string eine neue Variable und lass sie Dir am Ende ausgeben."
   ]
  },
  {
   "cell_type": "code",
   "execution_count": null,
   "id": "c3b202f1-7d36-41c4-8b86-d0279ce37802",
   "metadata": {},
   "outputs": [],
   "source": [
    "#In diese Zelle kannst Du den Code zur Übung schreiben.\n",
    "\n",
    "list_of_words1 = [\"Satz\", \"daraus\", \"Mach\", \"bitte\", \"sinnvollen\", \"einen\"]\n",
    "conjunction = \"und\"\n",
    "list_of_words2 = [\"Ende\", \"ausgeben.\", \"lass\", \"am\", \"Dir\", \"ihn\"]\n"
   ]
  },
  {
   "cell_type": "markdown",
   "id": "2a1ab40c-b52c-4f27-a2ff-c631cc652ca3",
   "metadata": {
    "deletable": false,
    "editable": false
   },
   "source": [
    "***\n",
    "### Slicing \n",
    "\n",
    "Mit **Slicing** (übersetzt so viel wie *Herausschneiden*) können wir nicht nur ein einzelnes Element in einem sequentiellen Objekt \"ansprechen\", sondern **mehrere aufeinanderfolgende**. Dabei können wir definieren, bei welchem Index in der Sequenz wir anfangen wollen (```start``` in der Syntax unten), wo wir aufhören wollen (```end```) sowie einen Schrittparameter festlegen, falls wir jeweils *n* Elemente überspringen wollen (```step```). Die Syntax sieht wie folgt aus: \n",
    "\n",
    "```my_list[start:end:step]```\n",
    "\n",
    "Beachte den **Doppelpunkt** zwischen den einzelnen Parametern.\n",
    "\n",
    "Folgendes gilt es zu beachten: \n",
    "\n",
    "- Der ```end```-Index ist nicht-inklusive, d. h. das betreffende Element wird nicht mehr mit \"herausgeschnitten\".\n",
    "- Wird für ```start``` oder ```end``` kein Index angegeben, so wird standardmäßig vom ersten bzw. bis (und, in diesem Falle, mit) dem letzten Element gesclict (siehe Beispiele unten).\n",
    "- Der ```step```-Parameter ist optional, Standard ist ein Schritt von `1`, also *ein* Element nach dem anderen wird angesprochen und keines übersprungen.\n",
    "\n",
    "Weiter illustrieren folgende Beispiele, wie Slicing funktioniert:"
   ]
  },
  {
   "cell_type": "code",
   "execution_count": null,
   "id": "ef54aeb7-842b-429d-a2b0-d95af39385d2",
   "metadata": {},
   "outputs": [],
   "source": [
    "my_list = [1, 2, 3, 4, 5, 6, 7, 8, 9, 10]\n",
    "\n",
    "print(my_list[:]) #Gibt alle Elemente zurück (so macht Slicing wenig Sinn)\n",
    "print(my_list[0:4]) #Gibt [1, 2, 3, 4] zurück\n",
    "print(my_list[1:]) #Gibt [2, 3, 4, 5, 6, 7, 8, 9, 10] zurück, also vom Element mit Index 1 bis und mit letztem Element\n",
    "print(my_list[:-1]) #Gibt [1, 2, 3, 4, 5, 6, 7, 8, 9] zurück, also alle Element außer dasjenige mit letztem Index\n",
    "print(my_list[2:-1:2]) #Gibt [3, 5, 7, 9] zurück, der step (2) überspringt jeweils ein Element, step kann auch negativ sein, aber dann müssen start und end auch umgekehrt werden\n",
    "print(my_list[::-1]) #Kehrt Liste mittels Slicing um"
   ]
  },
  {
   "cell_type": "markdown",
   "id": "6fc9a182-1319-4080-9e66-3072a1d1f56c",
   "metadata": {
    "deletable": false,
    "editable": false
   },
   "source": [
    "Um nochmals kurz die Straßenmetapher von oben aufzugreifen: Sind wir innerhalb unserer Straße mit den Hausnummern 1-50 (Indizes 0-49) nur an den Häusern 26, 28, 30, 32, 34 und 36 interessiert, da nur dort Werbung akzeptiert wird, können wir die Straße mittels Slicing auf unsere Zwecke \"zuschneiden\":"
   ]
  },
  {
   "cell_type": "code",
   "execution_count": null,
   "id": "743ef313-6e46-49df-8268-f357371778c0",
   "metadata": {},
   "outputs": [],
   "source": [
    "street = [1,2,3,4,5,6,7,8,9,10,11,12,13,14,15,16,17,18,19,20,21,22,23,24,25,26,27,28,29,30,31,32,33,34,35,36,37,38,39,40,41,42,43,44,45,46,47,48,49,50]\n",
    "#street = list(range(1,51)) #Dieser viel kürzere Befehl mit der range-Funktion weist 'street' eine identische Liste zu (vgl. Notebook \"Kontrollstrukturen\").\n",
    "accepts_advertising = street[25:36:2]\n",
    "print(accepts_advertising)"
   ]
  },
  {
   "cell_type": "markdown",
   "id": "8069a46b-1bb5-42c9-95d5-5ec62e50e7e3",
   "metadata": {
    "deletable": false,
    "editable": false
   },
   "source": [
    "***\n",
    "\n",
    "✏️ **Übung 5:** Die Wörter in ```words_for_sentence``` ergeben in der abgespeicherten Reihenfolge keinen sinnvollen Satz. Überleg Dir erst, in welcher Reihenfolge die Wörter einen Sinn machen, und dann, wie Du mithilfe von Slicing (und nicht Indexing! 😉) die Wörter in die richtige Reihenfolge bringen kannst. \n",
    "\n",
    "Um von einer Liste zu einem string zu kommen, funktioniert der ```str```-Castingoperator leider nicht. Verwend stattdessen die bereits etwas fortgeschrittenere Technik ```join```, die folgende Syntax aufweist: \n",
    "\n",
    "```\" \".join(list)``` \n",
    "\n",
    "```join``` konkateniert hier jedes Element in ```list``` mit einem Leerschlag dazwischen (also mit dem, was innerhalb der Anführungszeichen vor dem Punkt angegeben ist).\n",
    "\n",
    "Zur Veranschaulichung von ```join``` folgt ein Beispiel: \n",
    "\n",
    "```sentence = \" \".join([\"Mach\", \"einen\", \"Satz\", \"aus\", \"mir.\"])```\n",
    "\n",
    "In die runden Klammern von ```join``` setzen wir eine Liste. ```join``` verbindet nun alle Elemente dieser Liste durch einen Leerschlag zu insgesamt einer Zeichenkette. Diese wird ```sentence``` zugewiesen. ```sentence``` referenziert also den string \"Mach einen Satz aus mir.\"\n",
    "\n",
    "💡 Tipp: Erstell erst eine neue Liste mit den Wörtern des ersten Satzteils, dann eine Liste mit den Wörtern des zweiten Satzteils und verbind dann die beiden Listen zu einer Liste, in der alle Wörter in der richtigen Reihenfolge stehen. Wend nun ```join``` wie oben gezeigt an, um daraus einen string zu schaffen."
   ]
  },
  {
   "cell_type": "code",
   "execution_count": null,
   "id": "fa99d71a-6c68-43dd-8f71-e316730adf05",
   "metadata": {},
   "outputs": [],
   "source": [
    "#In diese Zelle kannst Du den Code zur Übung schreiben.\n",
    "words_for_sentence = [\"Füge\", \"Satz\", \"bitte\", \"zusammen\", \"diesen\", \".\"]\n",
    "\n",
    "\n"
   ]
  },
  {
   "cell_type": "markdown",
   "id": "77baf4fa-18af-45ef-b854-e1b65485da30",
   "metadata": {
    "deletable": false,
    "editable": false
   },
   "source": [
    "Mit ```join``` haben wir unsere erste sog. *Methode* kennengelernt. Zusammen mit *Funktionen* (von denen wir u. a. schon ```print```, ```len```, ```type``` und die Castingfunktionen kennen) machen sie Programmieren sehr effizient, denn sie sind im Grunde nichts anderes als vordefinierter Code, den wir mithilfe simpler Syntax benutzen können, anstatt ihn selbst schreiben zu müssen. Das Notebook \"Funktionen und Methoden\" widmet sich ihnen im Detail.\n",
    "\n",
    "***\n",
    "\n",
    "## 2. Iterierbarkeit\n",
    "\n",
    "Datentypen unterscheiden sich zweitens hinsichtlich ihrer *Iterierbarkeit* (engl. *iterability*). Iterierbare Objekte sind Objekte, die die in ihnen enthaltenen Elemente einzeln ausgeben können. Dazu zählen folgende Datentypen:\n",
    "\n",
    "```str```, ```list```, ```tuple```, ```dict```, ```set```\n",
    "\n",
    "Bei ```list```, ```tuple```, ```set``` und ```dict``` sind mit den einzelnen Elementen natürlich die Elemente auf der Liste, im Tupel, im Set bzw. Schlüssel-Werte-Paare im dictionary gemeint (wobei bei dictionaries auch nur auf die Schlüssel oder nur auf die Werte einzeln zugegriffen werden kann, wie wir im Notebook \"Funktionen und Methoden\" lernen werden). Bei ```str```-Objekten sind wie schon beim Thema \"Sequentialität\" die einzelnen Zeichen gemeint.\n",
    "\n",
    "Um die einzelnen Elemente eines iterierbaren Objekts nacheinander auszugeben, wird eine ```for```-Schleife benutzt, der wir schon verschiedentlich begegnet sind und die im Notebook \"Kontrollstrukturen\" im Detail besprochen wird. Hier noch einmal ein Ausblick auf eine ```for```-Schleife zum Iterieren über eine Liste:"
   ]
  },
  {
   "cell_type": "code",
   "execution_count": null,
   "id": "0237aad4-7f46-4e0c-bcb6-27f6fc0e5fce",
   "metadata": {},
   "outputs": [],
   "source": [
    "days = [\"Montag\", \"Dienstag\", \"Mittwoch\", \"Donnerstag\", \"Freitag\", \"Samstag\", \"Sonntag\"]\n",
    "\n",
    "for day in days:\n",
    "    print(day)"
   ]
  },
  {
   "cell_type": "markdown",
   "id": "1c8c98be-1c60-4f96-a411-e8a1dd96728d",
   "metadata": {
    "deletable": false,
    "editable": false
   },
   "source": [
    "Die Iteration hört dann auf, wenn das Objekt aufgebraucht (engl. *exhausted*) ist.\n",
    "\n",
    "***\n",
    "\n",
    "✏️ **Übung 6:** Orientier Dich an dem Beispiel oben und benutz eine ```for```-Schleife, um über die Liste ```wild_mix``` von oben zu iterieren (stell zuvor sicher, dass die Variable noch initialisiert ist, indem Du die entsprechende Zelle noch einmal ausführst). Lass Dir für jedes Element den Datentyp ausgeben. \n",
    "\n",
    "💡 Tipp: Zwischen ```for``` und ```in``` kannst Du irgendeinen Variablennamen verwenden. Im obigen Beispiel ist ```day``` intuitiv verständlich, Du könntest aber theoretisch irgendeine andere Variable wählen (*theoretisch*, denn auch diese Variable soll nach Möglichkeit sprechend sein, vgl. Notebook \"Einführung\"). Wichtig ist in jedem Fall, dass Du im Anweisungskörper die entsprechende Variable wiederverwendest (siehe \"day\" im ```print```-Befehl oben)."
   ]
  },
  {
   "cell_type": "code",
   "execution_count": null,
   "id": "80b1254c-d6fc-4450-b2d2-ec4906a684a6",
   "metadata": {},
   "outputs": [],
   "source": [
    "#In diese Zelle kannst Du den Code zur Übung schreiben.\n",
    "\n",
    "\n"
   ]
  },
  {
   "cell_type": "markdown",
   "id": "82c6791b-438e-45ec-a8d8-cf8189d3a823",
   "metadata": {
    "deletable": false,
    "editable": false
   },
   "source": [
    "***\n",
    "\n",
    "## 3. Veränderlichkeit (fortgeschritten)\n",
    "\n",
    "Drittens unterscheiden sich Datentypen hinsichtlich ihrer *Veränderlichtkeit* (engl. *mutability*). Das haben wir bereits im Zusammenhang mit den dictionaries angeschnitten. \n",
    "\n",
    "### Unveränderliche Datentypen\n",
    "\n",
    "Zu den *unveränderlichen Datentypen* (engl. *immutable data types*) gehören:\n",
    "\n",
    "```str```, ```int```, ```float```, ```tuple```, ```bool```\n",
    "\n",
    "Unveränderliche Objekte können ihren Wert nicht ändern. Bei einem string oder Tupel etwa ist es also nicht möglich, weitere Zeichen bzw. Elemente anzuhängen, Zeichen/Elemente auszutauschen oder zu entfernen. Das ist nicht wirklich offensichtlich, denn wenn man versucht, einen string zu verlängern (mittels ```string += \"verlängerung\"```), erhält man keine Fehlermeldung. Das liegt daran, dass Python im Hintergrund einfach ein **neues** Objekt schafft. Das alte Objekt verliert seine Referenz und *verwaist*. \n",
    "\n",
    "### Veränderliche Datentypen\n",
    "\n",
    "Zu den *veränderlichen Datentypen* (engl. *mutable data types*) gehören: \n",
    "\n",
    "```list```, ```dict```, ```set```\n",
    "\n",
    "Veränderliche Objekte können ihren Wert ändern. Es ist also möglich, weitere Elemente anzuhängen, auszutauschen oder zu entfernen. Wendet man also den ```+=```-Operator auf eine Liste an, so handelt es sich nachher immer noch um das **gleiche** Objekt.\n",
    "\n",
    "### Exkurs zur Identität von Objekten\n",
    "\n",
    "Die ```id```-Funktion, die die einzigartige \"Adresse\" eines Objekts im Arbeitsspeicher zurückgibt, macht dieses unterschiedliche Verhalten bei unveränderlichen vs. veränderlichen Objekten sichtbar:"
   ]
  },
  {
   "cell_type": "code",
   "execution_count": null,
   "id": "bcfbc78c-fcc3-4d84-80e8-acd3903fba7e",
   "metadata": {
    "tags": []
   },
   "outputs": [],
   "source": [
    "#Unveränderlich Datentyp\n",
    "string = \"Hallo\"\n",
    "id_before_change_str = id(string)\n",
    "string += \" Welt\"\n",
    "id_after_change_str = id(string)\n",
    "\n",
    "print(\"Das string-Objekt ist immer noch das gleiche:\", id_before_change_str == id_after_change_str, \"\\n→\", \n",
    "     \"denn\", id_before_change_str, \"ist ungleich\", id_after_change_str)\n",
    "\n",
    "#Veränderlicher Datentyp\n",
    "a_list = [\"Hallo\"]\n",
    "id_before_change_list = id(a_list)\n",
    "a_list += [\"Welt\"]\n",
    "id_after_change_list = id(a_list)\n",
    "\n",
    "print(\"Das list-Objekt ist immer noch das gleiche:\", id_before_change_list == id_after_change_list, \"\\n→\",\n",
    "     \"denn\", id_before_change_list, \"ist gleich\", id_after_change_list)"
   ]
  },
  {
   "cell_type": "markdown",
   "id": "39ef0196-f027-46cf-8054-c02340bce154",
   "metadata": {
    "deletable": false,
    "editable": false
   },
   "source": [
    "Führt man eine zweite Variable ein, um auf ein bereits referenziertes veränderliches Objekt zu zeigen, so zeigen beide Variablen auf dasselbe Objekt. Wird das Objekt verändert, egal über welche Variable, so zeigt sich die Veränderung auch beim Aufruf über die andere Variable. Konkret:"
   ]
  },
  {
   "cell_type": "code",
   "execution_count": null,
   "id": "3383c19a-fc9e-4ec2-b384-86eba19a4098",
   "metadata": {},
   "outputs": [],
   "source": [
    "list1 = [0,1,2]\n",
    "list2 = list1\n",
    "list2.append(3) #Die Listenmethode 'append' hängt das Element in Klammern der Liste vor dem Punkt an (vgl. Notebook \"Funktionen und Methoden\").\n",
    "print(list1) #Gibt [0,1,2,3] zurück"
   ]
  },
  {
   "cell_type": "markdown",
   "id": "775f9c30-ca3d-4037-a0bb-d90e1817bc7d",
   "metadata": {
    "deletable": false,
    "editable": false
   },
   "source": [
    "Auch die ```id```-Funktion bestätigt hier natürlich, dass es sich um dasselbe Objekt handelt (anders wäre auch nicht zu erklären, warum die Ausgabe von ```list1``` die Veränderung am durch ```list2``` referenzierten Objekt wiedergibt):"
   ]
  },
  {
   "cell_type": "code",
   "execution_count": null,
   "id": "7ff401af-301a-4b9c-a1cb-1ed25319e3d3",
   "metadata": {},
   "outputs": [],
   "source": [
    "print(id(list1) == id(list2))\n",
    "\n",
    "#Das is-Statement erfüllt die gleiche Aufgabe:\n",
    "print(list1 is list2)"
   ]
  },
  {
   "cell_type": "markdown",
   "id": "944d0b41-63cc-4e76-8863-847e07c31e05",
   "metadata": {
    "deletable": false,
    "editable": false
   },
   "source": [
    "Die ```id```-Funktion (bzw. das ```is```-Statement) ist übrigens nicht dasselbe wie der ```==```-Vergleichsoperator. Dieser vergleicht lediglich die Werte zweier Objekte, nicht aber, ob es sich im Kern um dasselbe Objekt mit derselben ID handelt. \n",
    "\n",
    "Folgendes Beispiel illustriert dies:"
   ]
  },
  {
   "cell_type": "code",
   "execution_count": null,
   "id": "1bace188-9667-4b9c-bcbc-7234a4cc7c54",
   "metadata": {},
   "outputs": [],
   "source": [
    "new_list1 = [1,2,3]\n",
    "new_list2 = [1,2,3]\n",
    "\n",
    "print(\"Dieselben Werte:\", new_list1 == new_list2)\n",
    "print(\"Dieselbe ID:\", id(new_list1) == id(new_list2))"
   ]
  },
  {
   "cell_type": "markdown",
   "id": "50d9aef8-db57-46e1-bf39-c84633584352",
   "metadata": {
    "deletable": false,
    "editable": false
   },
   "source": [
    "Im ersten Fall vergleichen wir die Werte der beiden Listen und das ergibt ```True```. Im zweiten Fall schauen wir, ob es sich auch um dasselbe Objekt handelt und dies ergibt ```False```. Der Grund dafür: Python erstellt beim Initialisieren einer Variable i. d. R. jeweils ein neues Objekt (selbst wenn ein Objekt mit denselben Werten bereits im Arbeitsspeicher existiert) und so wurden auch hier zwei Objekte erstellt (es gibt wenige Ausnahmen bei kleinen Ganzzahlen und strings ohne Sonderzeichen, die trotz getrennt initialisierter Variablen auf das gleiche Objekt zeigen). \n",
    "\n",
    "Den Unterschied zwischen ```id(object1) == id(object2)```/```object1 is object2``` und ```object1 == object2``` gibt es auch im Deutschen: Im ersten Fall handelt es sich um dasselbe Objekt, im zweiten Fall nur um das gleiche Objekt. Du hast vielleicht die gleichen Schuhe wie Dein:e Freund:in, aber wohl nicht dieselben. Im Deutschen ist das aber kaum so eineindeutig wie bei Python. 😅\n",
    "\n",
    "Wenn ```a is b``` gilt, dann gilt natürlich immer auch ```a == b```, aber nicht unbedingt umgekehrt."
   ]
  },
  {
   "cell_type": "markdown",
   "id": "ebea080e-3f08-421b-98d2-ee93b7769dfc",
   "metadata": {
    "deletable": false,
    "editable": false
   },
   "source": [
    "Das war's zum Thema Datentypen. Im Ordner \"2_Cheat_Sheets\" gibt es übrigens eine Übersicht über alle Datentypen, die wir hier kennengelernt haben – inklusive ihrer Kurzform, Syntax und ihren Eigenschaften."
   ]
  }
 ],
 "metadata": {
  "kernelspec": {
   "display_name": "Python 3 (ipykernel)",
   "language": "python",
   "name": "python3"
  },
  "language_info": {
   "codemirror_mode": {
    "name": "ipython",
    "version": 3
   },
   "file_extension": ".py",
   "mimetype": "text/x-python",
   "name": "python",
   "nbconvert_exporter": "python",
   "pygments_lexer": "ipython3",
   "version": "3.10.7"
  }
 },
 "nbformat": 4,
 "nbformat_minor": 5
}