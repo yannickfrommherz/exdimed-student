{
 "cells": [
  {
   "cell_type": "markdown",
   "id": "fdb3037c-8767-44ef-aae9-400481268459",
   "metadata": {
    "deletable": false,
    "editable": false
   },
   "source": [
    "# Einführung\n",
    "\n",
    "Dies ist unser erstes Notebook. Hier lernen wir ganz grundsätzliche Dinge übers Programmieren und die Programmiersprache **Python**. Zuerst beantworten wir die Frage, warum Programmierkenntnisse überhaupt sinnvoll sind: <br>\n",
    "\n",
    "**Programmieren lohnt sich immer dann, wenn wir es mit repetitiven Aufgaben zu tun haben, die eine gewisse Regelhaftigkeit aufweisen.**\n",
    "\n",
    "Machen wir's konkret: Stell Dir vor, Du möchtest für ein Forschungsprojekt Bildunterschriften von sämtlichen Artikeln auf ZEIT Online im Jahr 2023 sammeln. Du müsstest jeden einzelnen Artikel im Browser aufrufen und die paar Wörter unter den (oftmals mehreren) Bildern in einem Artikel markieren,  kopieren und, sagen wir, in eine Excel-Tabelle einfügen. Damit nicht genug: Du müsstest jeweils auch noch den Artikellink, -titel und das Publikationsdatum ablegen. Das würde Ewigkeiten in Anspruch nehmen! 🤯\n",
    "\n",
    "Da es sich aber um eine repetitive, regelhafte Aufgabe handelt (also ein sehr ähnlicher Ablauf stets wiederholt wird), ist dies ein Paradebeispiel dafür, wie wir uns das Leben mit Programmierkenntnissen leichter machen können. Gewiss, wenn Du das erste Mal einen Web Scraping-Code schreibst – so nennt sich diese Herangehensweise –, dann wird das auch einige Stunden oder Tage dauern. Aber selbst das steht in keinem Verhältnis zur Zeit, die Du bei einer manuellen Bewältigung dieser Aufgabe benötigen würdest. Und beim nächsten Mal codest Du dann auch bereits schneller! 😎\n",
    "\n",
    "Hier noch ein paar weitere Beispiele für repetitive, regelhafte Aufgaben, bei denen Du von Programmierkenntnissen profitieren wirst:\n",
    "\n",
    "- Aufbereiten und Bearbeiten von Daten, z.&nbsp;B. alle Wörter in einem bestimmten Text sollen großgeschrieben werden\n",
    "- Anreichern von Daten, z.&nbsp;B. alle Eigennamen in einem Text sollen getaggt werden, je nachdem, ob es sich um eine Person, einen Ort oder eine Institution handelt\n",
    "- Filtern von Daten, z.&nbsp;B. alle Bilder, die einen R-Mittelwert (im RGB-Farbraum) von über 150 aufweisen\n",
    "- Auswerten von Daten, z.&nbsp;B. Zählen des Vorkommens bestimmter Formulierungen in einem Text, Errechnen von Schlüsselwörtern für einen Text\n",
    "\n",
    "Darüber hinaus lassen sich Daten mithilfe von Programmierkenntnissen auch sehr gut statistisch auswerten sowie visualisieren. All diese Techniken werden wir im Verlauf des Kurses kennenlernen.\n",
    "\n",
    "Python ist nun eine formale Sprache, mit der wir programmieren können. Sie hat eine *Syntax*, ähnlich wie auch natürliche Sprachen (z.&nbsp;B. Deutsch), die wir lernen und befolgen müssen, um *Programme* in ihr schreiben zu können. Programme, die wir in Python schreiben, enthalten *Code*. Etwas grob formuliert weist dieser Code den Computer an, was er zu tun hat. "
   ]
  },
  {
   "cell_type": "markdown",
   "id": "9663acb7-9a52-46d5-a6c6-0fa269aca31c",
   "metadata": {
    "deletable": false,
    "editable": false
   },
   "source": [
    "## Von oben nach unten\n",
    "\n",
    "Wenn wir ein Programm *ausführen*, dann werden unsere Anweisungen **von oben nach unten** durchgegangen. Hier ein Beispiel. Führe den Code aus, indem Du in die Zelle klickst und dann ```Shift + Enter``` drückst:"
   ]
  },
  {
   "cell_type": "code",
   "execution_count": null,
   "id": "3881f253-3bb9-4262-91be-37b50a53ba72",
   "metadata": {
    "tags": []
   },
   "outputs": [],
   "source": [
    "print(\"Zuerst das,\")\n",
    "print(\"dann das\")\n",
    "print(\"und am Ende das.\")"
   ]
  },
  {
   "cell_type": "markdown",
   "id": "b83cb86c-109e-4c7c-beda-a3687c89d571",
   "metadata": {
    "deletable": false,
    "editable": false
   },
   "source": [
    "Hier weisen wir Python an, nacheinander (von oben nach unten) einen Satz *auszugeben*. Dazu nutzen wir die ```print```-Funktion, die Python befiehlt, das, was in Klammern steht, auszugeben. Von ihr werden wir ganz oft Gebrauch machen, denn sie erlaubt es uns, Resultate unseres Codes anzuschauen sowie ganz generell zu überprüfen, ob Python das tut, was wir wollen. Python tut immer, was wir schreiben (im Gegensatz zu natürlichen Sprachen gibt es keine Mehrdeutigkeit), aber sehr oft schreiben wir schlicht nicht, was wir eigentlich wollen. 😅\n",
    "\n",
    "## Objekte\n",
    "\n",
    "Das elementarste aller Konzepte in Python ist dasjenige des *Objekts*. Jeder Datenpunkt, mit dem wir in Python arbeiten, ist ein Objekt. Das klingt etwas abstrakt und oft sprechen wir gar nicht von \"Objekten\", sondern eher von \"Zeichenketten\" oder \"Listen\". Was wir damit meinen, ist ein *Objekt* des Datentyps Zeichenkette bzw. Liste. Die drei Sätze, die wir uns oben mittels ```print``` ausgeben lassen haben, sind etwa Objekte des Typs Zeichenkette. Es gibt noch weitere wichtige Datentypen mit jeweils unterschiedlichen Eigenschaften, die wir im Detail im Notebook \"Datentypen\" kennenlernen. Fürs Erste reicht es, dass wir ganz grob wissen, was ein Objekt ist.\n",
    "\n",
    "## Variablen\n",
    "\n",
    "Im obigen Beispiel haben wir der ```print```-Funktion eine Zeichenkette Wort für Wort *übergeben* (umrahmt von Anführungszeichen, was Pflicht ist bei diesem Datentyp – dazu aber bald mehr). Stattdessen könnten wir auch Variablen benutzen, ein sehr wichtiges Konzept beim Programmieren. Das sieht dann folgendermaßen aus. Führe auch hier die Zelle aus, um Dich selbst vom Code zu überzeugen (das gilt für alle kommenden Code-Zellen)."
   ]
  },
  {
   "cell_type": "code",
   "execution_count": null,
   "id": "d60f6684-1a0c-4af2-b58e-78cda0dcbda0",
   "metadata": {
    "tags": []
   },
   "outputs": [],
   "source": [
    "print_out = \"Das hier wollen wir ausgeben.\"\n",
    "print(print_out)"
   ]
  },
  {
   "cell_type": "markdown",
   "id": "d2c1cadc-8492-42c7-a181-63e92a229e68",
   "metadata": {
    "deletable": false,
    "editable": false
   },
   "source": [
    "Variablen zeigen auf (oder: *referenzieren*) ein beliebiges Objekt, hier eine Zeichenkette. Sobald wir ein Objekt **mehr als einmal** in unserem Code verwenden, lohnt sich die Einführung einer Variable, die wir dann fortan stellvertretend für das Objekt benutzen können. Dadurch müssen wir das Objekt, hier die doch recht lange Zeichenkette, nicht bei jeder weiteren Verwendung ausschreiben. Überall, wo in Python ein Objekt stehen kann, kann auch eine Variable stehen (lies diesen Satz noch einmal, er ist sehr wichtig!).\n",
    "\n",
    "Variablen müssen *zugewiesen* (oder: *initialisiert*) werden. Wie oben ersichtlich, geben wir zur Zuweisung einer Variable links einen Namen an. Es folgt ein ```=```-Zeichen und rechts davon, was die Variable referenzieren soll. Handelt es sich um eine Zeichenkette, so verwenden wir, wie bereits gesagt, Anführungszeichen (doppelte und einfache sind in Ordnung, solange sie konsistent genutzt werden). Zahlen hingegen können wir einfach so hinschreiben:"
   ]
  },
  {
   "cell_type": "code",
   "execution_count": null,
   "id": "cc6069aa-90f6-4ab8-bb2b-75c8492571f1",
   "metadata": {
    "tags": []
   },
   "outputs": [],
   "source": [
    "number = 8\n",
    "print(number)"
   ]
  },
  {
   "cell_type": "markdown",
   "id": "9c08a7a4-63b6-4eeb-8285-3b5c6f4f0975",
   "metadata": {
    "deletable": false,
    "editable": false
   },
   "source": [
    "Variablennamen dürfen Buchstaben und Zahlen (zusammen sog. *alphanumerische Zeichen*) sowie Unterstriche enthalten, müssen aber mit einem Buchstaben oder einem Unterstrich beginnen. Sie dürfen nicht gleichlautend mit sog. *Python-Schlüsselwörtern* sein, also Begriffen, die in Python bereits eine Bedeutung haben (etwa ```print```; alle Schlüsselwörter kann man sich über ```help(\"keywords\")``` ausgeben lassen). Letztlich sind Variablen *case-sensitive*, d. h. Groß- und Kleinschreibung spielen eine Rolle. Folgendes funktioniert also nicht: "
   ]
  },
  {
   "cell_type": "code",
   "execution_count": null,
   "id": "c1dbd429-6dcd-4eb7-a08f-3a504eed6dca",
   "metadata": {
    "tags": []
   },
   "outputs": [],
   "source": [
    "print(Print_out)"
   ]
  },
  {
   "cell_type": "markdown",
   "id": "cddf56e8-51d0-47ad-9a01-86cd03587b02",
   "metadata": {
    "deletable": false,
    "editable": false
   },
   "source": [
    "Hier sehen wir eine Fehlermeldung, von denen uns noch ganz viele begegnen werden. Erstens sehen wir, über welche Zeile Python gestolpert ist. Da es hier nur eine Zeile gibt, steht hinter dem ```–––>``` eine ```1```. Bei längeren Codes ist diese Angabe aber natürlich hilfreicher. Zweitens steht zuunterst jeweils ein (teils nützlicher, teils kryptischer) Hinweis darauf, was schief gelaufen ist. Dieser ```NameError``` bedeutet, dass Python die Variable ```Print_out``` nicht kennt. Durch Korrigieren des Variablennamens sollte der Befehl klappen (probier's aus!), unter der Voraussetzung, dass die Code-Zelle oben bereits einmal ausgeführt wurde, d. h. die Variable ```print_out``` mit kleinem \"p\" *initialisiert* ist.\n",
    "\n",
    "Noch eine letzte, dafür umso zentralere Bemerkung zu Variablennamen: Sie sollten **möglichst sprechend** sein, d. h. es sollte direkt aus ihnen hervorgehen, was durch sie referenziert wird. Um dies zu veranschaulichen, vergleiche folgende zwei Codes, die beide den Body-Mass-Index errechnen:"
   ]
  },
  {
   "cell_type": "code",
   "execution_count": null,
   "id": "cfb31127-3e7e-4e44-be96-0e4f7bad9ae5",
   "metadata": {
    "tags": []
   },
   "outputs": [],
   "source": [
    "#Nichtssagende Variablen\n",
    "x = 65\n",
    "y = 1.70\n",
    "\n",
    "bmi = x/(y*y)\n",
    "\n",
    "print(bmi)\n",
    "\n",
    "#Sprechende Variablen\n",
    "weight_kg = 65\n",
    "height_m = 1.70\n",
    "\n",
    "bmi = weight_kg/(height_m*height_m)\n",
    "\n",
    "print(bmi)"
   ]
  },
  {
   "cell_type": "markdown",
   "id": "a7f9dda1-5698-4c61-af26-804b1867efc5",
   "metadata": {
    "deletable": false,
    "editable": false
   },
   "source": [
    "Das Ergebnis ist natürlich dasselbe. Bei so einem kurzen Code könnte man argumentieren, dass einfach ersichtlich ist, was mit ```x``` und ```y``` gemeint ist. Bei längeren Codes, wo wir die gleichen Variablen immer wieder einsetzen (und genau aus diesem Grund verwenden wir ja erst Variablen), verliert man aber schnell den Überblick. Wollen wir zum Beispiel an späterer Stelle den sog. Area Mass Index ausrechnen, ein anderes anthropometrisches Maß, zeigt sich bereits, wie sinnvoll sprechende Variablen sind:"
   ]
  },
  {
   "cell_type": "code",
   "execution_count": null,
   "id": "1d8498b4-5974-42bc-827f-201d132e5311",
   "metadata": {
    "tags": []
   },
   "outputs": [],
   "source": [
    "ami_f = (0.865 * (weight_kg/(height_m*height_m)))+18.56 #Zusatz '_f' aufgrund separater AMI-Formeln für Frauen und Männer\n",
    "print(ami_f)"
   ]
  },
  {
   "cell_type": "markdown",
   "id": "887c1013-8971-4953-b6eb-a38e075f167e",
   "metadata": {
    "deletable": false,
    "editable": false
   },
   "source": [
    "Um die Formel zu verstehen, hilft es ungemein, wenn die einzelnen Variablen sich durch ihren Namen \"selbst erklären\". Generell helfen sprechende Variablen *Dir*, den Überblick zu behalten, und erst recht *anderen*, die Deinen Code nachvollziehen sollen.\n",
    "\n",
    "In diesen Notebooks werden übrigens durchgängig englischsprachige Variablennamen benutzt, das ist aber natürlich kein Muss. Wenn wir schon bei Englisch sind: Bei allen wichtigen Konzepten wird in diesen Notebooks jeweils auch der englische Name eingeführt. Dies machen wir so, da Englisch in der Programmiercommunity die *Lingua Franca* ist. Wenn man sich mal mit einer Frage an die Community wenden oder ein Problem googeln will, so hat man am ehesten Erfolg, wenn man dies auf Englisch tut (das Thema \"Hilfe holen\" wird auch noch einmal im Notebook \"Kontrollstrukturen\" angesprochen)."
   ]
  },
  {
   "cell_type": "markdown",
   "id": "2bee7a9f-235b-406c-9370-d0a7409ae905",
   "metadata": {
    "deletable": false,
    "editable": false
   },
   "source": [
    "## Operatoren\n",
    "\n",
    "Mit ```=``` haben wir schon einen *Operator* kennengelernt. Er gehört zu den *Zuweisungsoperatoren*, von denen wir gleich noch mehr kennenlernen. Erst schauen wir uns *arithmetische Operatoren* an, die wir bereits aus der Mathematik kennen:\n",
    "\n",
    "- ```+``` für Addition\n",
    "- ```-``` für Subtraktion\n",
    "- ```*``` für Multiplikation\n",
    "- ```/``` für Division\n",
    "- ```**``` fürs Potenzieren (z.&nbsp;B. 2<sup>3</sup> bzw. ausgeschrieben: 2 hoch 3)\n",
    "\n",
    "Der folgende Code illustriert, dass es wirklich keine Rolle spielt, ob wir direkt mit Objekten (hier Zahlen) oder mit stellvertretenden Variablen rechnen:"
   ]
  },
  {
   "cell_type": "code",
   "execution_count": null,
   "id": "24867430-d42a-4971-9ca5-a0368d4a2bc4",
   "metadata": {
    "tags": []
   },
   "outputs": [],
   "source": [
    "number1 = 8\n",
    "number2 = 9\n",
    "\n",
    "#Objekte und Variablen sind austauschbar.\n",
    "print(8 + 9)\n",
    "print(number1 + 9)\n",
    "print(number1 + number2)\n",
    "\n",
    "#Ein anderer Weg\n",
    "total = number1 + number2\n",
    "print(total)"
   ]
  },
  {
   "cell_type": "markdown",
   "id": "da35392e-64d6-462c-809b-3a68ae976cf9",
   "metadata": {
    "deletable": false,
    "editable": false
   },
   "source": [
    "Zuunterst sehen wir außerdem, dass auf der rechten Seite einer Variablenzuweisung nicht bloß ein Objekt stehen kann, sondern auch ein sog. *komplexer Ausdruck* wie eine Addition. Dies trifft übrigens überall in Python zu: Wo ein einzelnes Objekt stehen kann, kann auch ein Ausdruck stehen (der, wenn ausgerechnet, ja wieder *einen* Wert annimmt).\n",
    "\n",
    "***\n",
    "\n",
    "✏️ **Übung 1:** Definier zwei numerische Variablen sowie eine dritte, die die erste Variable von der zweiten subtrahiert. Lass Dir anschließend diese dritte Variable multipliziert mit sich selbst ausgeben."
   ]
  },
  {
   "cell_type": "code",
   "execution_count": null,
   "id": "930382be-7b63-4567-9f3c-46f1d452e61e",
   "metadata": {},
   "outputs": [],
   "source": [
    "#In diese Zelle kannst Du den Code zur Übung schreiben.\n",
    "\n",
    "\n"
   ]
  },
  {
   "cell_type": "markdown",
   "id": "44c62084-8a1d-433c-9de0-abffedefe24c",
   "metadata": {
    "deletable": false,
    "editable": false
   },
   "source": [
    "***\n",
    "\n",
    "Übrigens, wie bereits im Einführungsvideo erwähnt, musst Du einmal definierte Variablen nicht immer bis zum letzten Buchstaben ausschreiben, sondern kannst Dir das Leben mit der **Autovervollständigungsfunktion** erleichtern. Schreibe die ersten paar Zeichen und drücke dann ```tab```. Kommt nur noch eine Vervollständigung in Frage, wird die Variable automatisch fertig geschrieben. Kommen mehrere Vervollständigungen in Frage, kannst Du aus einem Dropdown-Menü die richtige wählen. Nutze dazu auch ```tab``` oder die Pfeiltasten. \n",
    "\n",
    "Die Autovervollständigung funktioniert nicht nur bei selbst definierten Namen, sondern auch bei solchen, die in Python bereits eine Bedeutung haben, z.&nbsp;B. bei ```print```. Probier's aus, z.&nbsp;B. in Deiner eigenen neuen Code-Zelle, die Du über das `+`-Symbol in der Kopfleiste hinzufügst. "
   ]
  },
  {
   "cell_type": "markdown",
   "id": "6759a094-a84d-4cdb-b2e0-2b801646e9c9",
   "metadata": {
    "deletable": false,
    "editable": false
   },
   "source": [
    "Zurück zu den Operatoren: *Erweiterte Zuweisungsoperatoren* kombinieren nun den Zuweisungsoperator ```=``` mit den arithmetischen Operatoren. Damit können wir den nachfolgend oberen Code wie unten gezeigt vereinfachen:"
   ]
  },
  {
   "cell_type": "code",
   "execution_count": null,
   "id": "e0fa883a-f3f9-4029-8e0d-bb6c2a3b2cc3",
   "metadata": {
    "tags": []
   },
   "outputs": [],
   "source": [
    "#Komplizierte Herangehensweise\n",
    "number = 8\n",
    "number = number + 7 #'number' wird in dieser Anweisung überschrieben.\n",
    "print(number)\n",
    "\n",
    "#Simple Herangehensweise mithilfe erweiterter Zuweisung\n",
    "number = 8\n",
    "number += 7\n",
    "print(number)"
   ]
  },
  {
   "cell_type": "markdown",
   "id": "defc0b50-d5ec-479c-a1be-853e5dd5865c",
   "metadata": {
    "deletable": false,
    "editable": false
   },
   "source": [
    "Bei dieser erweiterten Zuweisung mittels ```+=``` wird das Objekt, auf das die Variable ```number``` zeigt, also die Zahl ```8```, mit der Zahl rechts des Operators verrechnet. Die erweiterte Zuweisung gibt es auch für Subtraktion, Multiplikation und Divison: ```-=```, ```*=```, ```/=```. Diese Syntax solltest Du Dir merken, Du wirst sie später noch oft in Deinem Code nutzen.\n",
    "\n",
    "***\n",
    "\n",
    "✏️ **Übung 2:** Überleg Dir einen kurzen Satz und definiere eine Variable für jedes einzelne Wort, denk dabei an die Anführungszeichen. Mit welchem Operator kannst Du die einzelnen Wörter wieder zu einem Satz zusammenfügen? Verwend eine weitere Variable für den ganzen Satz und lass sie Dir am Ende ausgeben. Stell sicher, dass sich Leerschläge zwischen den einzelnen Wörtern befinden.\n",
    "\n",
    "<details>\n",
    "  <summary>💡 Tipp </summary>\n",
    "  <br>Ein Leerschlag ist ein Zeichen wie jeder Buchstabe, jede Zahl und jedes Sonderzeichen und muss ebenfalls von Anführungszeichen umrahmt werden:  <code>\" \"</code>.\n",
    "</details>"
   ]
  },
  {
   "cell_type": "code",
   "execution_count": null,
   "id": "bbcfb583-31fc-49cd-92f7-c4e52e4331c7",
   "metadata": {
    "tags": []
   },
   "outputs": [],
   "source": [
    "#In diese Zelle kannst Du den Code zur Übung schreiben.\n",
    "\n",
    "\n"
   ]
  },
  {
   "cell_type": "markdown",
   "id": "a32acd07-7483-4654-b4f1-9003cb4cf2a9",
   "metadata": {
    "deletable": false,
    "editable": false
   },
   "source": [
    "***"
   ]
  },
  {
   "cell_type": "markdown",
   "id": "bfa3483a-5095-4072-9b71-137b910a75fc",
   "metadata": {
    "deletable": false,
    "editable": false
   },
   "source": [
    "Was Du eben gemacht hast, wird *Konkatenation* (dt. *Verkettung*) genannt. Der ```+```-Operator, den Du vermutlich benutzt hast, hat also abhängig davon, ob es sich um den Datentypen Zahlen oder Zeichenketten handelt, eine andere Funktion (Addition bzw. Konkatenation). \n",
    "\n",
    "Nun war es Deine Aufgabe, für den konkatenierten Satz eine neue Variable einzuführen und diese anschließend auszugeben. Die ```print```-Funktion ermöglicht es aber auch, mehrere Objekte direkt bei der Ausgabe zu konkatenieren:"
   ]
  },
  {
   "cell_type": "code",
   "execution_count": null,
   "id": "2e374e75-727b-4136-b8c0-11d8c72ee576",
   "metadata": {
    "tags": []
   },
   "outputs": [],
   "source": [
    "a, b, c, d, e = \"Am\", \"Anfang\", \"war\", \"das\", \"Wort.\"\n",
    "print(a, b, c, d, e)"
   ]
  },
  {
   "cell_type": "markdown",
   "id": "58d7e980-85f0-482f-8f58-5185d32854d5",
   "metadata": {
    "deletable": false,
    "editable": false
   },
   "source": [
    "Wir lernen zwei Sachen hier: \n",
    "- Wir können kommasepariert mehrere Variablen auf einmal zuweisen (wobei die Anzahl an Variablennamen und zuzuweisenden Objekten natürlich gleich sein muss).\n",
    "- Die ```print```-Funktion konkateniert die einzelnen *Argumente*, die wir ihr übergeben, automatisch mit einem Leerschlag dazwischen (im Notebook \"Input und Output Teil 2\" besprechen wir die ```print```-Funktion im Detail).\n",
    "\n",
    "***\n",
    "\n",
    "✏️ **Übung 3:** Für einen Kalender möchtest Du alle sieben Wochentage 52 Mal ausdrucken, für jede Woche des Jahres einmal. Das Ergebnis soll also wie folgt aussehen:\n",
    "\n",
    "Mo </br>\n",
    "Di </br>\n",
    "Mi </br>\n",
    "Do </br>\n",
    "Fr </br>\n",
    "Sa </br>\n",
    "So </br>\n",
    "Mo </br>\n",
    "Di </br>\n",
    "\n",
    "und so weiter, bis die zweiundfünfzigste Woche mit \"So\" aufhört (unser Jahr hat der Einfachheit halber nur 364 Tage (52*7)). \n",
    "\n",
    "Definier erst eine Variable mit allen Wochentagen hintereinander (einfach eine Zeichenkette), wobei Du zwischen die Tage jeweils einen Zeilenumbruch mittels ```\\n``` schreibst. Dadurch wird jeder Tag bei der Ausgabe auf einer eigenen Zeile ausgegeben. \n",
    "\n",
    "Überleg Dir nun, mithilfe welchen Operators Du Dir diese Variable 52 Mal ausgeben lassen kannst."
   ]
  },
  {
   "cell_type": "code",
   "execution_count": null,
   "id": "44aafb40-a006-4742-97b7-95259d5fdb8a",
   "metadata": {
    "tags": []
   },
   "outputs": [],
   "source": [
    "#In diese Zelle kannst Du den Code zur Übung schreiben.\n",
    "\n",
    "\n"
   ]
  },
  {
   "cell_type": "markdown",
   "id": "338fd94d-fcb8-43c5-a59e-537a23d435bb",
   "metadata": {
    "deletable": false,
    "editable": false
   },
   "source": [
    "***\n",
    "\n",
    "Was Du hier gemacht hast, nennt sich *Replikation* und es zeigt sich, dass auch hier der ```*```-Operator unterschliedlich funktioniert, je nachdem, ob in einem Ausdruck nur Zahlen, eine Zeichenkette und/oder eine Zahl verwendet werden (schau gerne nach was passiert, wenn Du versuchst, zwei Zeichenketten miteinander zu multiplizieren). \n",
    "\n",
    "Schon hier sehen wir: Manuelles copy-pasting hätte länger gedauert und Du hättest genau mitzählen müssen, um auch wirklich 52 Mal zu kopieren. Nun haben wir eine statische Zeichenkette repliziert, bald lernen wir auch, wie sich die Zeichenkette bei jeder Wiederholung dynamisch anpassen lässt. So, dass wir z.&nbsp;B. jeweils das Datum mitausgeben können: \"Samstag, 1. Januar 2022, Sonntag, 2. Januar 2022, ...\". \n",
    "\n",
    "Nun schneiden wir noch eine weitere Art von Operatoren an: *Vergleichsoperatoren*. Vergleichoperatoren vergleichen den Wert zweier Objekte und schauen, ob der erste Wert\n",
    "\n",
    "- gleich: ```==```\n",
    "- ungleich: ```!=```\n",
    "- größer als: ```>```\n",
    "- kleiner als: ```<```\n",
    "- größer gleich: ```>=```\n",
    "- kleiner gleich: ```<=```\n",
    "\n",
    "dem zweiten Wert ist. Ergebnis ist immer ```True``` oder ```False``` (sog. *Boolsche* Werte, bald mehr dazu), also wahr oder falsch.\n",
    "\n",
    "Konkret:"
   ]
  },
  {
   "cell_type": "code",
   "execution_count": null,
   "id": "53a90697-27e4-488b-b10d-b3d00bb1d27f",
   "metadata": {
    "tags": []
   },
   "outputs": [],
   "source": [
    "small = 1\n",
    "large = 999\n",
    "print(small < large)"
   ]
  },
  {
   "cell_type": "markdown",
   "id": "46e4f93b-1b86-4403-8c6c-737f6dd6d78b",
   "metadata": {
    "deletable": false,
    "editable": false
   },
   "source": [
    "***\n",
    "\n",
    "✏️ **Übung 4:** Bei Variablennamen haben wir ja schon gelernt, dass diese case-sensitive sind. Find nun heraus, ob dies auch bei Zeichenketten der Fall ist, indem Du zwei Variablen mit zwei Zeichenketten definierst, die sich nur in punkto Groß-/Kleinschreibung unterscheiden. Lass Dir anschließend ausgeben, ob die Werte der beiden Variablen für Python gleich sind oder nicht."
   ]
  },
  {
   "cell_type": "code",
   "execution_count": null,
   "id": "66c2ca3a-b4ae-4a06-b579-862f8fef6033",
   "metadata": {
    "tags": []
   },
   "outputs": [],
   "source": [
    "#In diese Zelle kannst Du den Code zur Übung schreiben.\n",
    "\n",
    "\n"
   ]
  },
  {
   "cell_type": "markdown",
   "id": "e789819c-79ee-4273-a821-a6e4ca2a2ed9",
   "metadata": {
    "deletable": false,
    "editable": false
   },
   "source": [
    "***\n",
    "\n",
    "## Einrückungen\n",
    "\n",
    "Ein weiteres grundlegendes Konzept bei Python sind sog. *Einrückungen* (engl. *indentations*). Indem wir bestimmte Teile unseres Codes einrücken (also von der standardmäßigen Linksbündigkeit nach rechts rücken), geben wir Python eine Handlungsanweisung, die den Teil des Codes betrifft, der eingerückt ist. Unten sehen wir zwei Beispiele für solche Einrückungen, einmal eine ```for```-Schleife (zur sog. *Iteration*) und eine bedingte Anweisung mit ```if``` – zwei sog. *Kontrollstrukturen*, die wir im gleichnamigen Notebook genauer kennenlernen."
   ]
  },
  {
   "cell_type": "code",
   "execution_count": null,
   "id": "ee3e3e5f-6e7e-48d9-b2c5-1881bd30e09d",
   "metadata": {
    "tags": []
   },
   "outputs": [],
   "source": [
    "alphabet = \"abc\"\n",
    "\n",
    "#Hier geben wir jeden einzelnen Buchstaben in 'alphabet' nacheinander einzeln aus.\n",
    "for character in alphabet:\n",
    "    print(character)\n",
    "\n",
    "#Hier überprüfen wir, ob 'alphabet' gleich ist mit 'abc' und wenn ja, wird der eingerückte 'print'-Befehl ausgeführt.\n",
    "if alphabet == \"abc\":\n",
    "    print(alphabet, \"ist gleich abc\")"
   ]
  },
  {
   "cell_type": "markdown",
   "id": "5d37e951-9e08-4a82-ba74-6704ff2b555a",
   "metadata": {
    "deletable": false,
    "editable": false
   },
   "source": [
    "Die nicht eingerückte Zeile wird *Anweisungskopf* genannt, sie endet **immer** mit einem Doppelpunkt. Die Zeilen darunter heißen *Anweisungskörper*, sie müssen **eingerückt** werden.\n",
    "\n",
    "Ganz wichtig: Wir müssen immer konsistent einrücken. Grundsätzlich kann man selbst festlegen, ob man stets um einen, vier oder sonst eine beliebige Anzahl an Leerschlägen einrücken will. Standard ist jedoch, mittels der Tabulatortaste ```tab``` einzurücken, was vier Leerschlägen entspricht. Bei inkonsistenter Einrückung liegt ein Syntaxfehler vor und der Code crasht. Die meisten Editoren wie etwa JupyterLab und Visual Studio Code helfen einem beim konsistenten Einrücken, etwa indem nach dem Schreiben eines Anweisungskopfs (inkl. Doppelpunkt) beim Drücken von ```Enter``` (für einen Zeilenumbruch) automatisch um ein Tab eingerückt wird, sowie indem inkonsistente Einrückungen farblich hervorgehoben werden (probier's aus, indem Du oben um nur drei Leerschläge einrückst).\n",
    "\n",
    "***\n",
    "\n",
    "✏️ **Übung 5:** In einem eingerückten Anweisungskörper kann sich wiederum eine Anweisung befinden (und im zugehörigen Anweisungskörper wiederum die nächste Anweisung etc.). Dafür wird einfach jeweils um ein weiteres ```tab``` eingerückt. Auch wenn wir die beiden Kontrollstrukturen ```for``` und ```if``` noch nicht eingeführt haben: Versuch den obigen Code so anzupassen, dass bei jedem ```character``` in ```alphabet``` überprüft wird, ob es sich um ein \"a\" handelt. Nur falls diese Bedingung zutrifft, soll der jeweilige ```character``` mittels der ```print```-Funktion ausgegeben werden. Wenn Du den Code richtig schreibst,  sollte Dir also ein einziges \"a\" ausgegeben werden."
   ]
  },
  {
   "cell_type": "code",
   "execution_count": null,
   "id": "111a2027-4075-4cf1-a19b-97d5afae089b",
   "metadata": {
    "tags": []
   },
   "outputs": [],
   "source": [
    "#In diese Zelle kannst Du den Code zur Übung schreiben.\n",
    "\n",
    "\n"
   ]
  },
  {
   "cell_type": "markdown",
   "id": "782580be-1cd8-4534-b930-26666892c77b",
   "metadata": {
    "deletable": false,
    "editable": false
   },
   "source": [
    "***\n",
    "\n",
    "## Kommentare\n",
    "\n",
    "Schauen wir noch kurz das Konzept der Kommentare an, das sich bereits in viele der obigen Codes eingeschlichen hat. \n",
    "\n",
    "Kommentare sind Teile des Codes, die für uns als Codeschreibende und -lesende von Interesse sind, Python jedoch überliest sie komplett. Kommentare werden einerseits dazu verwendet, Codeteile zu erläutern (für einen selbst oder andere in einem kollaborativen Projekt), wobei die Devise lautet: **besser zu viel erklären, als zu wenig**. Man selbst und andere werden es einem später danken. Das sog. *Eagleson's Law* beschreibt, dass Code von einem selbst nach sechs Monaten genau so gut von jemand anderem stammen könnte, so wenig nachvollziehbar findet man ihn auf den ersten Blick. In Wahrheit handelt es sich vermutlich um weniger als sechs Monate (vgl. [Passig/Jander 2013](https://learning.oreilly.com/library/view/weniger-schlecht-programmieren/9783955615697/?ar)).\n",
    "\n",
    "Andererseits werden Kommentare dazu verwendet, bestimmte Teile des Codes zwischenzeitlich \"auszuschalten\", d. h. Python übergeht diese Teile dann einfach. Das ist z.&nbsp;B. beim *Debugging* nützlich, also wenn sich ein Fehler (*Bug*) eingeschlichen hat und es darum geht herauszufinden, welcher Codeteil den Fehler verursacht. Code temporär \"auszuschalten/auszukommentieren\" wird *comment out* genannt.\n",
    "\n",
    "Kommentare, die nur eine Zeile umfassen, werden mit einem Hashtag ```#``` begonnen. Für mehrzeilige Kommentare werden drei Anführungszeichen, ```\"\"\"Kommentar\"\"\"``` bzw. ```'''Kommentar'''```, verwendet (das jeweils andere Anführungszeichen kann dann auch im Kommentar verwendet werden):"
   ]
  },
  {
   "cell_type": "code",
   "execution_count": null,
   "id": "bda2c930-6661-4fff-a77c-54736461e463",
   "metadata": {
    "tags": []
   },
   "outputs": [],
   "source": [
    "#Dies ist ein einzeiliger Kommentar.\n",
    "alphabet = \"abc\" #Kommentare können auch in der gleichen Zeile wie Code stehen (sog. 'in-line comment').\n",
    "\n",
    "'''hier haben  \n",
    "wir einen\n",
    "\"langen\"\n",
    "Kommentar''' #Jupyter gibt diesen Kommentar beim Ausführen verwirrenderweise aus, da JuypterLab stets die letzte Zeile ausgibt (und alles, was innerhalb dreifacher Anführungszeichen steht als eine Zeile auffasst). "
   ]
  },
  {
   "cell_type": "markdown",
   "id": "b46a825e-916d-42bd-87c5-b47511e97ae0",
   "metadata": {
    "deletable": false,
    "editable": false
   },
   "source": [
    "Rückblickend auf das, was wir im Video über algorithmisches Denken gelernt haben, empfiehlt es sich übrigens, das grobe \"Code-Gerüst\" (also die einzelnen Schritte, die zur Lösung eines Problems führen sollen) erst einmal in Form von Kommentaren festzuhalten. Dadurch verliert man sich nicht gleich in der Umsetzung eines einzelnen Schrittes, sondern investiert aktiv Zeit in einen durchdachten Code-Aufbau. 💡"
   ]
  },
  {
   "cell_type": "markdown",
   "id": "fa08df59-c941-4350-a108-59f988455409",
   "metadata": {
    "deletable": false,
    "editable": false
   },
   "source": [
    "***\n",
    "\n",
    "✏️ **Übung 6:** Definier zwei Variablen, eine Zeichenkette (z.&nbsp;B. \"Boeing\") und eine Zahl (z.&nbsp;B. 747). Führ nun eine dritte Variable ein, die die beiden Objekte miteinander konkateniert (also \"Boeing 747\"). Funktioniert das mithilfe des ```+```-Operators? Wenn nein, lies die Fehlermeldung und überleg Dir, wie Du den Code dennoch zum Laufen bringen könntest."
   ]
  },
  {
   "cell_type": "code",
   "execution_count": null,
   "id": "7fd92b3c-e85b-4a8f-a706-c09ef52b32bc",
   "metadata": {
    "tags": []
   },
   "outputs": [],
   "source": [
    "#In diese Zelle kannst Du den Code zur Übung schreiben.\n",
    "\n",
    "\n",
    "\n"
   ]
  },
  {
   "cell_type": "markdown",
   "id": "45ce85ef-5a05-4ccf-945a-4664b43514aa",
   "metadata": {
    "deletable": false,
    "editable": false
   },
   "source": [
    "***\n",
    "\n",
    "<br>"
   ]
  }
 ],
 "metadata": {
  "kernelspec": {
   "display_name": "Python 3 (ipykernel)",
   "language": "python",
   "name": "python3"
  },
  "language_info": {
   "codemirror_mode": {
    "name": "ipython",
    "version": 3
   },
   "file_extension": ".py",
   "mimetype": "text/x-python",
   "name": "python",
   "nbconvert_exporter": "python",
   "pygments_lexer": "ipython3",
   "version": "3.11.5"
  }
 },
 "nbformat": 4,
 "nbformat_minor": 5
}