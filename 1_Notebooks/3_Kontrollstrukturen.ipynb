{
 "cells": [
  {
   "cell_type": "markdown",
   "id": "47473441-9305-4992-a1fa-fe08638655b9",
   "metadata": {
    "deletable": false,
    "editable": false
   },
   "source": [
    "# Kontrollstrukturen\n",
    "\n",
    "Bislang haben wir mit Code gearbeitet, der Zeile für Zeile von oben bis unten ausgeführt wird. Wirklich spannend wird es jetzt, da wir lernen, wie wir den Ablauf des Codes derart *kontrollieren* können, dass gewisse Codeteile nur unter bestimmten Bedingungen ausgeführt oder aber gewisse Teile eine bestimmte Anzahl an Malen wiederholt ausgeführt werden. Dazu gibt es *Kontroll*strukturen in Python und zwar zwei verschiedene: Bedingte Anweisungen (auch \"Fallunterscheidungen\" und engl. *conditionals* genannt) und Schleifen (engl. *loops*). Beiden sind wir auf dem Weg hierhin schon ein paar Mal begegnet.\n",
    "\n",
    "Im Falle von *bedingten* Anweisungen werden Codeblöcke nur unter bestimmten *Bedingungen* ausgeführt, bei Schleifen hingegen werden Codeblöcke solange wiederholt ausgeführt, wie eine bestimmte Bedingung zutrifft. Wie bei Python üblich, steuern Einrückungen, welcher Teil des Codes von einer solchen Struktur kontrolliert wird. \n",
    "\n",
    "Im Zusammenhang mit Bedingungen sind die beiden Boolschen Werte ```True``` und ```False``` relevant: Trifft die Bedingung, die die Ausführung eines Codeblocks kontrolliert, zu, dann nimmt sie den Boolschen Wert ```True``` an und der darunter eingerückte Anweisungskörper wird ausgeführt. Trifft die Bedingung nicht zu, dann nimmt sie den Boolschen Wert ```False``` an und der darunter eingerückte Anweisungskörper wird nicht ausgeführt, d. h. Python springt direkt zur Zeile nach der Einrückung und macht dort weiter. \n",
    "\n",
    "## Rekapitulation Operatoren\n",
    "\n",
    "Die Bedingungen ihrerseits werden mithilfe von Vergleichsoperatoren und logischen Operatoren definiert. Erstere rekapitulieren wir noch einmal kurz, bevor wir letztere kennenlernen.\n",
    "\n",
    "### Vergleichsoperatoren\n",
    "\n",
    "Ein Vergleichsoperator vergleicht den Wert, der links vom Operator steht, mit dem Wert zu seiner Rechten. Ergebnis ist immer ein Boolscher Wert, entweder ```True``` oder ```False```.\n",
    "\n",
    "- ```==```: ist gleich\n",
    "- ```!=```: ist ungleich\n",
    "- ```<```:  kleiner\n",
    "- ```>```:  größer \n",
    "- ```<=```: kleiner gleich\n",
    "- ```>=```: größer gleich\n",
    "\n",
    "Damit können wir z.&nbsp;B. überprüfen, ob 20 kleiner 100 ist. Da dies zutrifft, erhalten wir ```True``` zurück. "
   ]
  },
  {
   "cell_type": "code",
   "execution_count": null,
   "id": "d9f3773b-c7eb-4a84-967b-6eb4d7025844",
   "metadata": {
    "tags": []
   },
   "outputs": [],
   "source": [
    "print(20 < 100)"
   ]
  },
  {
   "cell_type": "markdown",
   "id": "7be6e18e-a86d-4d45-a44b-05030e5417ea",
   "metadata": {
    "deletable": false,
    "editable": false
   },
   "source": [
    "### Logische Operatoren\n",
    "\n",
    "Logische Operatoren ermöglichen es nun, Vergleiche miteinander zu verknüpfen. Das sieht dann z.&nbsp;B. so aus:"
   ]
  },
  {
   "cell_type": "code",
   "execution_count": null,
   "id": "2d7cb992-bc84-4ff1-80e8-e02629db6149",
   "metadata": {
    "tags": []
   },
   "outputs": [],
   "source": [
    "small = 20\n",
    "big = 100\n",
    "\n",
    "print(small < big and big > small)"
   ]
  },
  {
   "cell_type": "markdown",
   "id": "3997987b-5b27-4006-aea6-31a30233de0b",
   "metadata": {
    "deletable": false,
    "editable": false
   },
   "source": [
    "Hier werden zwei Vergleiche durch den logischen Operator ```and``` verknüpft. Python rechnet erst die beiden einzelnen Vergleiche aus, die in beiden Fällen ```True``` ergeben (```small``` ist kleiner als ```big``` und das Umgekehrte ist ebenfalls wahr). Danach rechnet es die Verknüpfung aus. Bei ```and``` kommt ```True``` raus, einzig wenn **alle** miteinander verknüpften Vergleiche einzeln auch ```True``` ergeben. \n",
    "\n",
    "Daneben gibt es den logischen Operator ```or```, der ```True``` immer dann ergibt, wenn **mindestens einer** der miteinander verknüpften Vergleiche einzeln ```True``` ergibt:"
   ]
  },
  {
   "cell_type": "code",
   "execution_count": null,
   "id": "d6c6b15f-b343-4529-95c8-fdf2a9dedee6",
   "metadata": {
    "tags": []
   },
   "outputs": [],
   "source": [
    "print(small == big or big > small)"
   ]
  },
  {
   "cell_type": "markdown",
   "id": "64a86d93-8861-4a98-b3d0-7a4de89384d6",
   "metadata": {
    "deletable": false,
    "editable": false
   },
   "source": [
    "Der erste Vergleich ergibt natürlich ```False```, denn die Werte von ```small``` und ```big``` sind nicht gleich. Der zweite Vergleich ergibt immer noch ```True```, weswegen die Verknüpfung durch ```or``` ebenfalls ```True``` ergibt. \n",
    "\n",
    "Daraus ergibt sich folgende Wahrheitstabelle für die Verknüpfung zweier Vergleiche (es können aber beliebig viele Vergleiche miteinander verknüpft werden). ```x``` und ```y``` stehen jeweils für einen ausgerechneten Vergleich:\n",
    "\n",
    "| x     | y     | x and y | x or y |\n",
    "|-------|-------|---------|--------|\n",
    "| True  | True  | True    | True   |\n",
    "| True  | False | False   | True   |\n",
    "| False | True  | False   | True   |\n",
    "| False | False | False   | False  |\n",
    "\n",
    "Wann immer Du Dir unsicher bist, wie ```and``` und ```or``` funktionieren, kannst Du in dieser Tabelle nachschauen.\n",
    "\n",
    "Darüber hinaus gibt es noch den logischen Operator ```not```, der ganz einfach den ihm folgenden   Ausdruck negiert, etwa:"
   ]
  },
  {
   "cell_type": "code",
   "execution_count": null,
   "id": "e888b89e-7f87-4812-8a10-b93622fc5a6a",
   "metadata": {
    "tags": []
   },
   "outputs": [],
   "source": [
    "print(not small > big)"
   ]
  },
  {
   "cell_type": "markdown",
   "id": "c2c2e851-b71f-4570-b572-654909012d94",
   "metadata": {
    "deletable": false,
    "editable": false
   },
   "source": [
    "Dies ergibt ```True```, denn ```small``` ist *nicht* größer als ```big```. ```not``` mag in diesem Beispiel wenig hilfreich erscheinen, im Zusammenhang mit bedingten Anweisungen, die wir nachher kennenlernen, kann ```not``` aber sehr praktisch sein. \n",
    "\n",
    "***\n",
    "\n",
    "## 🔧 Anwendungsfall: Einen Kalender erstellen\n",
    "\n",
    "Erinnerst Du Dich an die Übung im Notebook \"Einführung\", wo wir die sieben Wochentage für alle 52 Wochen ausgegeben haben? Viel praktischer wäre es, wenn wir zusätzlich auch den Tag und Monat für jedes Datum ausgeben lassen könnten, also etwa so:  \n",
    "\n",
    "```Samstag, 1. Januar 2022``` <br>\n",
    "```Sonntag, 2. Januar 2022``` <br>\n",
    "```Montag, 3. Januar 2022``` <br>\n",
    "\n",
    "Dazu müssen wir die Ausgabe dynamisch kontrollieren und mit welchen Techniken das möglich ist, lernen wir in diesem Notebook. Überleg Dir schon an dieser Stelle, wie Du das Problem angehen könntest, sodass Du im Folgenden auf mögliche Lösungswege aufmerksam wirst. 💡\n",
    "\n",
    "***\n",
    "\n",
    "## Bedingte Anweisungen\n",
    "\n",
    "Wir widmen uns als Erstes den bedingten Anweisungen und definieren dafür einen simplen string. Führ wie immer die Zelle aus, um ```sentence``` zu initialisieren."
   ]
  },
  {
   "cell_type": "code",
   "execution_count": null,
   "id": "21d7e3c8-3087-4312-b36e-032791920ec7",
   "metadata": {
    "tags": []
   },
   "outputs": [],
   "source": [
    "sentence = \"Der morgige Tag wird schön.\""
   ]
  },
  {
   "cell_type": "markdown",
   "id": "8b254bd5-4694-4f2b-a67a-91df26d53b4f",
   "metadata": {
    "deletable": false,
    "editable": false
   },
   "source": [
    "Eine bedingte Anweisung wird mit ```if``` eingeleitet, z.&nbsp;B.:"
   ]
  },
  {
   "cell_type": "code",
   "execution_count": null,
   "id": "bd319f3f-8783-4bb4-8380-d0b31f095de1",
   "metadata": {
    "tags": []
   },
   "outputs": [],
   "source": [
    "if sentence.startswith(\"Der\"):\n",
    "    print(\"Der Satz fängt mit einem Artikel im Maskulinum an.\")"
   ]
  },
  {
   "cell_type": "markdown",
   "id": "f7bf3560-4877-4c16-8bab-a85a913bc435",
   "metadata": {
    "deletable": false,
    "editable": false
   },
   "source": [
    "Natürlichsprachlich formuliert liest sich der obige Code: \"Wenn der Satz mit 'Der' anfängt, dann geben wir '...' zurück.\" \n",
    "\n",
    "Übrigens haben wir gerade eine sog. *string-Methode* kennengelernt, nämlich ```startswith```, die überprüft, ob ein string (hier: ```sentence```) mit der in der Klammer definierten Zeichenkette beginnt. Diese und andere Methoden besprechen wir im Detail im zweiteiligen Notebook \"Funktionen und Methoden\".\n",
    "\n",
    "Wie gesagt, bei bedingten Anweisungen geht es immer um ```True``` oder ```False```. Die obige Bedingung ist eigentlich abgekürzt formuliert. Ausformuliert lautet sie:"
   ]
  },
  {
   "cell_type": "code",
   "execution_count": null,
   "id": "712d0515-9569-4c62-be2e-48d1000e3232",
   "metadata": {
    "tags": []
   },
   "outputs": [],
   "source": [
    "if sentence.startswith(\"Der\") == True:\n",
    "    print(\"Der Satz fängt mit einem Artikel im Maskulinum an.\")"
   ]
  },
  {
   "cell_type": "markdown",
   "id": "1fb3fc24-cf96-45ec-a486-ae24e9b0c2d0",
   "metadata": {
    "deletable": false,
    "editable": false
   },
   "source": [
    "Nur wenn die angegebene Bedingung zutrifft (also den Wert ```True``` annimmt), wird der im Anweisungskörper geschriebene Code ausgeführt. In der Praxis verwendet man stets die Abkürzung, die, wie oben gezeigt, auch natürlichsprachlich intuitiv Sinn ergibt.\n",
    "\n",
    "Nun ändern wir den Satz (genauer gesagt: Wir referenzieren mit der Variablen ```sentence``` ein neues Objekt, das alte Objekt verliert seine Referenz):"
   ]
  },
  {
   "cell_type": "code",
   "execution_count": null,
   "id": "f841718d-656b-41ed-a7a0-923698876a44",
   "metadata": {
    "tags": []
   },
   "outputs": [],
   "source": [
    "sentence = \"Die morgige Nacht wird schön.\""
   ]
  },
  {
   "cell_type": "markdown",
   "id": "64ab35b4-24ff-4f64-872a-853ac4caaca1",
   "metadata": {
    "deletable": false,
    "editable": false
   },
   "source": [
    "Verwenden wir nun die gleiche bedingte Anweisung, so geschieht nichts, denn sie ergibt ```False``` und folglich wird die Anweisung im Körper nicht ausgeführt. Wir brauchen also eine zweite Bedingung zusätzlich zur ersten, die wir beibehalten möchten:"
   ]
  },
  {
   "cell_type": "code",
   "execution_count": null,
   "id": "3449047a-26fe-467c-aaa4-7b7f668be8b7",
   "metadata": {
    "tags": []
   },
   "outputs": [],
   "source": [
    "if sentence.startswith(\"Der\"):\n",
    "    print(\"Der Satz fängt mit einem Artikel im Maskulinum an.\")\n",
    "if sentence.startswith(\"Die\"):\n",
    "    print(\"Der Satz fängt mit einem Artikel im Femininum an.\")"
   ]
  },
  {
   "cell_type": "markdown",
   "id": "eecc19fe-71cd-4a5e-97d9-3f3d1f53e6a0",
   "metadata": {
    "deletable": false,
    "editable": false
   },
   "source": [
    "Was wir hier gemacht haben, ist allerdings ineffizient, denn angenommen, der Satz würde immer noch mit \"Der\" anfangen, dann träfe die erste Bedingung zu. Python würde nichtsdestotrotz im Anschluss die zweite Bedingung prüfen, die aber nicht mehr zutreffen kann. Anstatt eines zweiten ```if```-Statements können wir das Statement ```elif``` (kurz für *else if*) benutzen, das die Bedingung nur prüft, *falls nicht* bereits die Bedingung davor zutraf:"
   ]
  },
  {
   "cell_type": "code",
   "execution_count": null,
   "id": "fa283ba4-ff91-4671-ac54-767ac551d99d",
   "metadata": {
    "tags": []
   },
   "outputs": [],
   "source": [
    "if sentence.startswith(\"Der\"):\n",
    "    print(\"Der Satz fängt mit einem Artikel im Maskulinum an.\")\n",
    "elif sentence.startswith(\"Die\"):\n",
    "    print(\"Der Satz fängt mit einem Artikel im Femininum an.\")"
   ]
  },
  {
   "cell_type": "markdown",
   "id": "60635690-fddc-4321-83cc-1443d3be8a9e",
   "metadata": {
    "deletable": false,
    "editable": false
   },
   "source": [
    "Um das dritte und letzte Statement für bedingte Anweisungen, ```else```, einzuführen, verändern wir den Satz noch einmal:"
   ]
  },
  {
   "cell_type": "code",
   "execution_count": null,
   "id": "4b6edbf3-dfb8-445a-af9c-d6e401daf1a6",
   "metadata": {
    "tags": []
   },
   "outputs": [],
   "source": [
    "sentence = \"Das morgige Wetter wird schön.\""
   ]
  },
  {
   "cell_type": "markdown",
   "id": "c1542451-780f-47ff-9199-a8ebd2bd3f22",
   "metadata": {
    "deletable": false,
    "editable": false
   },
   "source": [
    "Unter ```else``` fällt alles, das keine der vorangehenden Bedingungen erfüllt, sprich die Anweisung unter ```else``` wird ausgeführt, wenn alle vorherigen bedingten Anweisungen ```False``` ergaben:"
   ]
  },
  {
   "cell_type": "code",
   "execution_count": null,
   "id": "6540a19b-c15a-43e9-b8df-d6a6efade224",
   "metadata": {
    "tags": []
   },
   "outputs": [],
   "source": [
    "if sentence.startswith(\"Der\"):\n",
    "    print(\"Der Satz fängt mit einem Artikel im Maskulinum an.\")\n",
    "elif sentence.startswith(\"Die\"):\n",
    "    print(\"Der Satz fängt mit einem Artikel im Femininum an.\")\n",
    "else: \n",
    "    print(\"Der Satz fängt mit einem Artikel im Neutrum an.\")"
   ]
  },
  {
   "cell_type": "markdown",
   "id": "dbafdb58-95bc-4f8c-a0c9-8cc6ed9e2133",
   "metadata": {
    "deletable": false,
    "editable": false
   },
   "source": [
    "Diese Verkettung von Bedingungen kann nun beliebig erweitert werden, z.&nbsp;B. wie folgt:"
   ]
  },
  {
   "cell_type": "code",
   "execution_count": null,
   "id": "a5fa09f0-7e08-498a-ad8c-0d016bf40d38",
   "metadata": {
    "tags": []
   },
   "outputs": [],
   "source": [
    "sentence = \"Ein morgiger Tag wird schön.\"\n",
    "\n",
    "if sentence.startswith(\"Der\"):\n",
    "    print(\"Der Satz fängt mit einem Artikel im Maskulinum an.\")\n",
    "elif sentence.startswith(\"Die\"):\n",
    "    print(\"Der Satz fängt mit einem Artikel im Femininum an.\")\n",
    "elif sentence.startswith(\"Das\"):\n",
    "    print(\"Der Satz fängt mit einem Artikel im Neutrum an.\")\n",
    "else:\n",
    "    print(\"Damit bin ich überfordert.\")"
   ]
  },
  {
   "cell_type": "markdown",
   "id": "9ded59b4-e4d0-4667-bd31-0e8e4287056c",
   "metadata": {
    "deletable": false,
    "editable": false
   },
   "source": [
    "Wichtig: Es wird immer nur einer der Codeblöcke ausgeführt: Sobald entweder das erste ```if```-Statement oder eines der folgenden ```elif```-Statements ```True``` ergibt, wird der darunter eingerückte Codeblock ausgeführt und alle weiteren ```elif```-Statements sowie das finale ```else```-Statement werden gar nicht mehr *evaluiert*. Nur wenn keines der Statements vor dem finalen ```else```-Statement zutrifft, wird der darunter eingerückte Codeblock ausgeführt.\n",
    "\n",
    "***\n",
    "\n",
    "✏️ **Übung 1:** Simplifizier den folgenden Code auf zwei verschiedene Arten, einmal unter Einsatz des logischen Operators ```and```, einmal mithilfe von ```or```. Das Resultat Deiner Simplifizierung sollte sein, dass der Code nur noch um eine Ebene eingerückt ist. "
   ]
  },
  {
   "cell_type": "code",
   "execution_count": null,
   "id": "19891435-3e3b-44eb-a4b0-4e7f06526f2d",
   "metadata": {
    "tags": []
   },
   "outputs": [],
   "source": [
    "#In diese Zelle kannst Du den Code zur Übung schreiben.\n",
    "\n",
    "age = 28\n",
    "\n",
    "if age > 18:\n",
    "    if age <= 65:\n",
    "        print(\"Mensch arbeitet vermutlich\")\n",
    "else: \n",
    "    print(\"Mensch arbeitet vermutlich nicht\")"
   ]
  },
  {
   "cell_type": "markdown",
   "id": "f3c0ffd8-de4f-49cd-b69c-465ff702cf9e",
   "metadata": {
    "deletable": false,
    "editable": false
   },
   "source": [
    "***\n",
    "\n",
    "✏️ **Übung 2:** Mit ```height``` soll die Körpergröße eines erwachsenen Menschen in Zentimetern referenziert werden. Schreib einen Code, der je nachdem, wie groß ```height``` ist, auf sehr brachiale Art über die Körpergröße Folgendes verlauten lässt:\n",
    "\n",
    "- ```\"Ein großer Mensch\"```, wenn ```height``` größer als 180cm ist\n",
    "- ```\"Ein durchschnittlich großer Mensch\"```, wenn ```height``` zwischen 170cm und 180cm ist\n",
    "- ```\"Ein kleiner Mensch\"```, wenn ```height``` kleiner als 170cm ist\n",
    "\n",
    "Der Code soll zudem überprüfen, ob die Zahl in ```height``` sinnvoll ist. Sie muss dafür mindestens dreistellig sein, darf aber auch nicht mehr als 200 betragen. Ist dies nicht der Fall, soll eine Fehlermeldung zurückgegeben werden. \n",
    "\n",
    "Wenn Du fertig bist, probier Deinen Code aus, indem Du verschiedene Werte bei ```height``` einsetzt. "
   ]
  },
  {
   "cell_type": "code",
   "execution_count": null,
   "id": "a30fa712-445f-4d2f-889a-9958528779af",
   "metadata": {
    "tags": []
   },
   "outputs": [],
   "source": [
    "#In diese Zelle kannst Du den Code zur Übung schreiben.\n",
    "height = 182\n",
    "\n",
    "\n"
   ]
  },
  {
   "cell_type": "markdown",
   "id": "f0f8d3eb-d94e-4be5-b238-44b4bb75eb60",
   "metadata": {
    "deletable": false,
    "editable": false
   },
   "source": [
    "***\n",
    "\n",
    "In der letzten Übung ist Dir vermutlich bewusst geworden, dass die Reihenfolge, in der bedingte Anweisungen formuliert werden, sehr zentral ist. In der Musterlösung haben wir uns den Umstand zunutze gemacht, dass immer nur eine Bedingung innerhalb einer Sequenz von ```if-elif-else```-Statements wahr sein kann (alles andere wäre ja auch un*logisch*). Entsprechend mussten wir in der zweiten bedingten Anweisung (```elif height >= 170:```) nicht mehr überprüfen, ob ```height``` nicht bloß größer gleich 170, **sondern auch kleiner 180** ist. Letztere Teilbedingung für den Fall \"durchschnittlich groß\" zu überprüfen war überflüssig, denn sie kann gar nicht mehr wahr sein (wäre sie wahr, so hätte die erste bedingte Anweisung ```True``` ergeben und Python wäre nie zur zweiten bedingten Anweisung vorgedrungen). Diese Logik trifft natürlich auch umgekehrt zu, falls Du in Deiner Lösung die Bedingungen von unten her überprüft hast.\n",
    "\n",
    "Nun wissen wir alles Relevante über bedingte Anweisungen. Kommen wir zu den Schleifen.\n",
    "\n",
    "## Schleifen (Loops)\n",
    "\n",
    "Es gibt zwei Arten von Schleifen in Python:\n",
    "\n",
    "- ```for```-Schleifen (engl. *for-loops*)\n",
    "- ```while```-Schleifen (engl. *while-loops*)\n",
    "\n",
    "### ```for```-Schleifen\n",
    "\n",
    "```for```-Schleifen werden zum Ausgeben der einzelnen Elemente eines iterierbaren Objekts benutzt (vgl. \"Iterierbarkeit\" im Notebook \"Datentypen\"). Ein Element nach dem anderen wird einzeln ausgegeben, bis das Objekt aufgebraucht (engl. *exhausted*) ist. Die Syntax lautet:\n",
    "\n",
    "```for element in iterable_object:```\n",
    "\n",
    "```element``` ist wie bereits erwähnt eine Variable für das einzelne Element bei der Iteration über ```iterable_object``` und kann beliebig (aber bitte sprechend) benannt werden. Diese Variable wird dann im Anweisungskörper wiederverwendet, etwa um die Elemente nacheinander auszugeben (Beispiel für Liste unten), eine Bedingung an ihnen zu überprüfen (Beispiel für dictionary unten) oder um sie zu manipulieren (siehe zweiteiliges Notebook \"Funktionen und Methoden\").\n",
    "\n",
    "Unten finden sich Beispiele für ```for```-Schleifen über Listen, dictionaries und strings:"
   ]
  },
  {
   "cell_type": "code",
   "execution_count": null,
   "id": "8a220b04-ed59-4318-a14b-2627921cf56d",
   "metadata": {
    "tags": []
   },
   "outputs": [],
   "source": [
    "days = [\"Montag\", \"Dienstag\", \"Mittwoch\", \"Donnerstag\", \"Freitag\", \"Samstag\", \"Sonntag\"]\n",
    "capitals = {\"Deutschland\": \"Berlin\", \"Österreich\": \"Wien\", \"Schweiz\": \"Bern\"}\n",
    "alphabet = \"abcdefghijklmnopqrstuvwxyz\"\n",
    "\n",
    "for day in days:\n",
    "    print(day)\n",
    "print(\"\\n\")\n",
    "\n",
    "#Wie genau die Iteration bei dictionaries funktioniert, lernen wir im Notebook \"Funktionen und Methoden Teil 1\".\n",
    "for key, value in capitals.items(): \n",
    "    print(value, \"ist die Hauptstadt des folgenden Landes:\", key)\n",
    "    if value == \"Bern\":\n",
    "        print(\"(Nicht ganz wahr, die Schweiz hat de jure keine Hauptstadt, vgl. https://de.wikipedia.org/wiki/Schweiz)\")\n",
    "print(\"\\n\")   \n",
    "\n",
    "i = 1\n",
    "for letter in alphabet:\n",
    "    print(\"Der Buchstabe\", i, \"im deutschen Alphabet ist:\", letter)\n",
    "    i += 1"
   ]
  },
  {
   "cell_type": "markdown",
   "id": "a053e2f0-c9c0-4406-9258-12c3dbc52fe1",
   "metadata": {
    "deletable": false,
    "editable": false
   },
   "source": [
    "Im letzten Beispiel haben wir außerhalb der Schleife einen sog. Zähler (```i```) definiert, der bei jeder Iteration um eins erhöht wird. Den Zähler selbst haben wir dann im ```print```-Statement eingesetzt.\n",
    "\n",
    "Zu diesem Zweck können wir auch die ```range```-Funktion benutzen, sie hat folgende Syntax:\n",
    "\n",
    "```range(start, end, step)```\n",
    "\n",
    "Die ```range```-Funktion ermöglicht es, von der als ```start``` angegebenen Zahl zur (aber **nicht inklusive** der) als ```end``` angegebenen Zahl zu iterieren, optional mit einem Schritt (```step```) > `1` (Standardwert ist eins), z.&nbsp;B. `2`, wobei dann von ```start``` aus jede zweite Zahl übersprungen wird. In unserem Beispiel wird ```i``` in jedem Durchgang um eins erhöht, ausgehend von null und bis und mit 25 (da ```end``` nicht inklusive ist!):"
   ]
  },
  {
   "cell_type": "code",
   "execution_count": null,
   "id": "da5f5e6b-3386-4878-9a8e-16540489b71b",
   "metadata": {
    "tags": []
   },
   "outputs": [],
   "source": [
    "for i in range(0,26,1):\n",
    "    print(\"Der Buchstabe\", i+1, \"im deutschen Alphabet ist:\", alphabet[i])"
   ]
  },
  {
   "cell_type": "markdown",
   "id": "509896ec-5441-434c-be0f-40ee24e31643",
   "metadata": {
    "deletable": false,
    "editable": false
   },
   "source": [
    "Achtung: Wir iterieren nun nicht mehr wie oben über die Zeichenkette ```alphabet``` direkt, deshalb müssen wir im Schleifenkörper den jeweiligen Buchstaben in ```alphabet``` über Indexing \"ansprechen\". Da Indizes bei null beginnen, iterieren wir über eine ```range```  von null bis 25 anstatt von eins bis 26. Für die natürlichsprachliche Zahl im ```print```-Befehl erhöhen wir ```i``` um eins (schließlich gibt es keinen nullten Buchstaben).\n",
    "\n",
    "Null für ```start``` sowie eins für ```step``` sind übrigens die Standardwerte bei der ```range```-Funktion, d. h. es reicht, ```end``` zu definieren:"
   ]
  },
  {
   "cell_type": "code",
   "execution_count": null,
   "id": "4e733d61-6004-43b6-91a6-bf7639f02aa5",
   "metadata": {
    "tags": []
   },
   "outputs": [],
   "source": [
    "for i in range(26):\n",
    "    print(\"Der Buchstabe\", i+1, \"im deutschen Alphabet ist:\", alphabet[i])"
   ]
  },
  {
   "cell_type": "markdown",
   "id": "8d5dbdad-0eaa-403d-aa73-231719104949",
   "metadata": {
    "deletable": false,
    "editable": false
   },
   "source": [
    "Weiter ist es reine Konvention, ```i``` als Variable bei ```range```-Funktionen in ```for```-Schleifen zu benutzen, es ist aber kein syntaktisches Muss.\n",
    "\n",
    "Zur Veranschaulichung des ```step```-Parameters geben wir unten nur jeweils den dritten Buchstaben aus. Außerdem ersetzen wir den ```end```-Parameter durch die Länge von ```alphabet```:"
   ]
  },
  {
   "cell_type": "code",
   "execution_count": null,
   "id": "626f3ec4-d0cf-470d-9c74-4f28de3c39f1",
   "metadata": {
    "tags": []
   },
   "outputs": [],
   "source": [
    "for i in range(0, len(alphabet), 3):\n",
    "    print(alphabet[i])"
   ]
  },
  {
   "cell_type": "markdown",
   "id": "118a362a-0314-42f2-bedc-d4eda657e74b",
   "metadata": {
    "deletable": false,
    "editable": false
   },
   "source": [
    "In diesem Beispiel ist uns natürlich klar, dass das deutsche Alphabet 26 Buchstaben hat, in anderen Fällen ist uns die Länge eines Objekts aber vielleicht nicht bekannt. Aber selbst hier macht es Sinn, die Zahl 26 nicht zu \"hardcoden\", es könnte ja sein, dass wir die Variable ```alphabet``` überschreiben und \"ä, ö, ü\" anhängen. Ganz grundsätzlich sollte man **so wenig wie möglich hardcoden**, um den Code robust gegenüber späteren Veränderungen zu machen. \n",
    "\n",
    "Die Verwendung der ```range```-Funktion innerhalb einer ```for```-Schleife macht verglichen mit der direkten Iteration über ein Objekt immer dann Sinn, wenn wir nur über bestimmte Elemente iterieren wollen (durch Modifikation von ```start```, ```end``` und ```step```) sowie, wenn wir innerhalb des Schleifenkörpers zusätzlich einen Zähler einsetzen wollen (etwa in den ```print```-Befehlen oben).\n",
    "***\n",
    "\n",
    "✏️ **Übung 3:** Im Isländischen setzen sich Nachnamen aus dem Vornamen eines Elternteils (traditionell, aber nicht immer, des Vaters) und der binären Bezeichnung \"son\" bzw. \"dottir\" zusammen (i.&nbsp;d.&nbsp;R. mit Genitiv-S dazwischen). \"Johannsdottir\" ist also z.&nbsp;B. die Tochter von Johann. Lass Dir für jeden Namen auf ```surnames``` ausgeben, ob es sich um eine Person vermutlich isländischer Abstammung handelt, oder nicht. Wenn ja, lass Dir zudem ausgeben, ob es sich aufgrund des Nachnamens um eine Frau oder einen Mann handelt. \n",
    "\n",
    "In der Ausgabe sollte der betreffende Name vorkommen, also z.&nbsp;B. für einen nicht-isländischen Namen: <br> \n",
    "```Mensch Müller kommt vermutlich nicht aus Island.```. \n",
    "\n",
    "💡 Tipp: In der bedingten Anweisung kannst Du das Pendant zum bereits bekannten ```startswith```, nämlich ```endswith```, benutzen, das für einen string überprüft, ob er mit der in Klammern angegebenen Zeichenkette endet oder nicht. ```\"string\".endswith(\"g\")``` überprüft etwa, ob `string` mit \"g\" endet. Wie immer kannst Du anstatt der Zeichenketten auch Variablen verwenden, die einen string referenzieren."
   ]
  },
  {
   "cell_type": "code",
   "execution_count": null,
   "id": "5d950dd9-f574-4a4c-987a-ac083c28310d",
   "metadata": {
    "tags": []
   },
   "outputs": [],
   "source": [
    "#In diese Zelle kannst Du den Code zur Übung schreiben.\n",
    "\n",
    "surnames = [\"Jonsdottir\", \"Müller\", \"Johannsson\", \"Einarsdottir\", \"Fischer\", \"Suarez\", \"Johannsdottir\"]\n",
    "\n",
    "\n"
   ]
  },
  {
   "cell_type": "markdown",
   "id": "abef2b7d-6a97-42f2-9197-b86ae8152d8b",
   "metadata": {
    "deletable": false,
    "editable": false
   },
   "source": [
    "***\n",
    "\n",
    "### Exkurs: Trial-and-error-Coding\n",
    "\n",
    "Unsere Codes werden zunehmend komplexer: In der letzten Übung hast Du etwa eine Schleife sowie mehrere bedingte Anweisungen verwendet. Wie wir ganz am Anfang im Video zu algorithmischem Denken gelernt haben, ist es wichtig, sich stets zu überlegen, in welche einzelnen Schritte ein Problem zerlegt werden kann, bevor man loslegt. Die Bedeutung dieser Herangehensweise nimmt mit zunehmender Komplexität der Aufgaben natürlich zu. \n",
    "\n",
    "Die einzelnen Schritte jedoch löst man dann meistens durch *trial and error*. Oft hat man eine Idee, wie man einen Schritt lösen kann, probiert es aus und schaut dann, ob der Code das tut, was man erwartet. Manchmal klappt's, manchmal nicht. \n",
    "\n",
    "Konkret heißt das für Dich: Führ Deinen Code immer wieder aus, lass Dir einzelne Zwischenschritte über ```print``` ausgeben und taste Dich so (Zwischen-)Schritt für (Zwischen-)Schritt an die Lösung heran.\n",
    "\n",
    "Führ die folgende Zelle aus, um ein Video zum Trial-and-error-Coding einzubetten oder schau Dir das [Video](https://www.youtube.com/watch?v=cP7Jwe7HO10) bei YouTube an."
   ]
  },
  {
   "cell_type": "code",
   "execution_count": null,
   "id": "5f09e2ea-4835-4cd5-a9b1-a0bcf05f0552",
   "metadata": {
    "tags": [
     "hide-input"
    ]
   },
   "outputs": [],
   "source": [
    "#Führ diese Zelle aus, um das Video einzubetten.\n",
    "from IPython.display import YouTubeVideo\n",
    "YouTubeVideo('cP7Jwe7HO10')"
   ]
  },
  {
   "cell_type": "code",
   "execution_count": null,
   "id": "c6788748-7dfc-46ee-bc93-9705ea42669a",
   "metadata": {
    "tags": []
   },
   "outputs": [],
   "source": [
    "#Der Code aus dem Video\n",
    "customers = {\"corporate\": [{\"Benzo Corp.\": {\"address\": \"Hampton Drive\", \"phone\": 9332783746, \"contact\": [\"Smith, Adrian\", \"Gullivan, Jane\"]}},\n",
    "                           {\"Solar Ltd.\": {\"address\": None, \"phone\": 3947473847, \"contact\": [\"Bergh, Donald\", \"Merriot, Barbara\"]}},\n",
    "                           {\"Zoalie Corp.\": {\"address\": \"Hampton Drive\", \"phone\": 9338473849, \"contact\": [\"Fink, Hugh\"]}}], \n",
    "             \"public\":    [{\"Alazona State Agency\": {\"address\": \"Main Road\", \"phone\": 8374829383, \"contact\": None}},\n",
    "                           {\"South Kentucky Gov.\": {\"address\": \"Union Square\", \"phone\": 8374837282, \"contact\": [\"Ferguson, Mary\", \"Lewinsky, Robert\", \"Pitt, Margareth\"]}}],\n",
    "             \"private\":   [{\"Berghain, Anne\": {\"address\": \"Milton Road\", \"phone\": 9334828189}}]} \n",
    "\n",
    "customers_local = []\n",
    "\n",
    "for key, value in customers.items():\n",
    "    #print(key, value, \"\\n\")\n",
    "    \n",
    "    for customer in customers[key]:\n",
    "        #print(customer)\n",
    "        \n",
    "        for name, metadata in customer.items():\n",
    "            #print(metadata[\"phone\"], \"\\n\")\n",
    "            \n",
    "            if str(metadata[\"phone\"]).startswith(\"933\"):\n",
    "                #print(metadata[\"phone\"])\n",
    "                \n",
    "                customers_local.append(name)\n",
    "                \n",
    "print(customers_local)"
   ]
  },
  {
   "cell_type": "markdown",
   "id": "eeae35ea-8cfe-4f2c-aaba-e4ac075f8754",
   "metadata": {
    "deletable": false,
    "editable": false
   },
   "source": [
    "### ```while```-Schleifen\n",
    "\n",
    "Neben ```for```-Schleifen gibt es ```while```-Schleifen. Sie führen den in ihrem Anweisungskörper definierten Codeblock solange aus, wie die im Anweisungskopf definierte Bedingung zutrifft. Um dies zu veranschaulichen, bemühen wir noch einmal das Alphabetbeispiel mit dem Zähler von oben:"
   ]
  },
  {
   "cell_type": "code",
   "execution_count": null,
   "id": "51730104-4f9e-4b3d-bba5-2a219e27d7d9",
   "metadata": {
    "tags": []
   },
   "outputs": [],
   "source": [
    "i = 0\n",
    "while i < len(alphabet):\n",
    "    print(\"Der Buchstabe\", i+1, \"im deutschen Alphabet ist:\", alphabet[i])\n",
    "    i += 1"
   ]
  },
  {
   "cell_type": "markdown",
   "id": "002e807f-9799-4642-91e3-9723c553a338",
   "metadata": {
    "deletable": false,
    "editable": false
   },
   "source": [
    "Die Verwendung von ```while``` mit einem Zähler ist eine von zwei gängigen Verwendungsweisen von ```while```-Schleifen. Wir benutzen sie, wenn wir von vornherein wissen, wann die Schleife nicht mehr ausgeführt werden soll (in diesem Beispiel, wenn ```i``` gleich mit der Länge von ```alphabet``` ist). \n",
    "\n",
    "Es gibt aber auch Situationen, in denen wir nicht von Anfang an wissen, wie oft eine Schleife wiederholt werden soll. Ein Beispiel wäre ein Ratespiel mit User:innen-Input, das so oft wiederholt werden soll, bis die Antwort erraten wurde. Für User:innen-Input gibt es die ```input```-Funktion, die wir im Code unten einfach mal benutzen, ohne sie im Detail einzuführen.\n",
    "\n",
    "Diese Schleife soll grundsätzlich unendlich oft wiederholt werden. Theoretisch ist es ja möglich, dass unendlich oft falsch geraten wird. Dafür schreiben wir im Schleifenkopf ```while True```, eigentlich eine Kurzform für ```while True == True```, was also immer zutrifft und die Schleife endlos laufen lässt. \n",
    "\n",
    "Nun brauchen wir zusätzlich das Statement ```break```, das wir innerhalb des Schleifenkörpers platzieren können. Sobald Python zu diesem Statement gelangt, wird die Schleife abgebrochen (in unserem Beispiel, sobald der User bzw. die Userin richtig rät). Das sieht dann wie im folgenden Code aus. \n",
    "\n",
    "Die User:innenrolle übernimmst übrigens Du, wenn Du diese Zelle ausführst. 😉 Deine Antwort kannst Du direkt unter der ausgegebenen Frage eingeben und mit ```Enter``` abschicken. Eventuell musst Du erst ins Antwortfeld unter der Frage klicken, sodass der Cursor blinkt."
   ]
  },
  {
   "cell_type": "code",
   "execution_count": null,
   "id": "73646b56-fd20-4540-a4fe-9308114bef02",
   "metadata": {
    "tags": [
     "\"hide-output\""
    ]
   },
   "outputs": [],
   "source": [
    "while True:\n",
    "    \n",
    "    x = int(input(\"Wie viele Arme hat ein Oktopus? Gib bitte eine Zahl an.\\n\")) \n",
    "    \n",
    "    if x < 8:\n",
    "        print(\"Falsch, es sind mehr.\")\n",
    "    elif x == 8: \n",
    "        print(\"Ganz richtig!\")\n",
    "        break\n",
    "    else:\n",
    "        print(\"Nein, das sind zu viele.\")"
   ]
  },
  {
   "cell_type": "markdown",
   "id": "a190d6d7-c013-4481-b856-f690c4c741fa",
   "metadata": {
    "deletable": false,
    "editable": false
   },
   "source": [
    "Wie Du siehst, geht das Ratespiel endlos weiter, solange Du falsch rätst und hört sofort auf, wenn Du die richtige Zahl eingegeben hast. Ersteres hat auch zur Folge, dass Du keine andere Code-Zelle in diesem Notebook ausführen kannst, bis Du richtig rätst und damit die Ausführung der Zelle beendest. Wenn Du dennoch versuchst, gleichzeitig eine andere Code-Zelle auszuführen, kommt die Fehlermeldung: ```Cell not executed due to pending input```.\n",
    "\n",
    "Neben ```break``` gibt es auch ```continue```, das nicht gleich die gesamte Schleife abbricht, sondern nur den einzelnen Durchlauf. Python kehrt damit zum Schleifenkopf zurück und prüft bei `while`-Schleifen, ob die darin definierte Bedingung noch zutrifft. In `for`-Schleifen eingebaut entfaltet `continue` das gleiche Verhalten, mit dem Unterschied, dass Python im Schleifenkopf überprüft, ob das Objekt, über das iteriert wird, aufgebraucht ist. Wenn nein, folgt der nächste Durchlauf; wenn ja, endet die Schleife. \n",
    "\n",
    "Der folgende, etwas komplexere Code veranschaulicht dieses Verhalten. Stellen wir uns vor, wir haben ein Gesellschaftsspiel, an dem mindestens vier Leute teilnehmen müssen. Es können aber unbegrenzt viele Leute teilnehmen. Wir haben einen Pool mit Leuten, die sich nach und nach zum Mitspielen bereit erklären  (```participants_pool```). Erst tritt Max ins Spiel ein, danach Moritz, es folgt Janine, etc. Der Code wird unten im Detail erläutert."
   ]
  },
  {
   "cell_type": "code",
   "execution_count": null,
   "id": "18ed481d-a59a-4486-aa5b-dadb5fce7c0d",
   "metadata": {},
   "outputs": [],
   "source": [
    "participants_pool = [\"Max\", \"Moritz\", \"Janine\", \"Hussein\", \"Fritz\", \"Mia\", \"Marianne\", \"Dolores\"]\n",
    "\n",
    "participants_game = []\n",
    "\n",
    "for name in participants_pool:\n",
    "    if len(participants_game) < 3:\n",
    "        participants_game.append(name)\n",
    "        print(\"Noch nicht genügend Teilnehmer:innen, wir brauchen noch\", 4-len(participants_game), \"😬\")\n",
    "        \n",
    "        #Zur Überprüfung der aktuellen Teilnehmer:innenliste\n",
    "        print(\"Aktuell auf der Liste:\", participants_game, \"\\n\")\n",
    "        \n",
    "        continue\n",
    "        \n",
    "    participants_game.append(name)\n",
    "    print(\"Das Spiel läuft 😍\")\n",
    "    \n",
    "    #Zur Überprüfung der aktuellen Teilnehmer:innenliste\n",
    "    print(\"Aktuell auf der Liste:\", participants_game, \"\\n\")"
   ]
  },
  {
   "cell_type": "markdown",
   "id": "57de16b3-adde-45f3-bade-649e5dde78cf",
   "metadata": {
    "deletable": false,
    "editable": false
   },
   "source": [
    "Tritt ein:e Spieler:in bei, kommt diese Person auf die Liste ```participants_game```. Dies geschieht mithilfe der ```append```-Methode, die einer Liste ein neues Element anhängt (mehr dazu im Notebook \"Funktionen und Methoden Teil 1\"). Da das Spiel aber erst bei vier Teilnehmer:innen losgehen kann, müssen wir bei jeder Iteration anfangs überprüfen, wieviele Leute bereits dabei sind (daher das ```if```-Statement).\n",
    "\n",
    "Sind es weniger als drei, hängen wir den neuen Namen an ```participants_game``` an, gehen aber mithilfe von ```continue``` direkt zum nächsten Durchlauf, denn das Spiel kann ja aufgrund zu weniger Teilnehmer:innen nicht laufen. \n",
    "\n",
    "Beim dritten Durchlauf will nun Janine beitreten. Mit Max und Moritz sind vor ihrem Beitritt zwei Leute auf der Liste, daher wird die Bedingung noch erfüllt: Janine tritt innerhalb des Anweisungskörpers bei und Python geht wegen des ```continue```-Statements wieder direkt zum nächsten Durchlauf. Nun kommt Hussein und da bereits drei Leute auf der Liste sind, wird die Bedingung nicht mehr erfüllt. Python überspringt also den eingerückten Code und macht direkt nach der Einrückung weiter. Dort tritt Hussein dem Spiel bei. Nun läuft das Spiel.\n",
    "\n",
    "***\n",
    "\n",
    "✏️ **Übung 4:** In der Zelle unten steht noch einmal der gleiche Code. Modifizier ihn derart, dass bei sechs Teilnehmer:innen Schluss ist. Die Iteration soll abbrechen. Vorher wollen wir aber darüber informiert werden, dass das Spiel bereits voll besetzt ist sowie darüber, wer daran teilnimmt."
   ]
  },
  {
   "cell_type": "code",
   "execution_count": null,
   "id": "550ed806-5a81-4e91-825b-e947373a96bc",
   "metadata": {
    "tags": []
   },
   "outputs": [],
   "source": [
    "#In diese Zelle kannst Du den Code zur Übung schreiben.\n",
    "\n",
    "participants_pool = [\"Max\", \"Moritz\", \"Janine\", \"Hussein\", \"Fritz\", \"Mia\", \"Marianne\", \"Dolores\"]\n",
    "\n",
    "participants_game = []\n",
    "\n",
    "for name in participants_pool:\n",
    "    if len(participants_game) < 3:\n",
    "        participants_game.append(name)\n",
    "        print(\"Noch nicht genügend Teilnehmer:innen, wir brauchen noch\", 4-len(participants_game), \"😬\")\n",
    "        \n",
    "        #Zur Überprüfung der aktuellen Teilnehmer:innenliste\n",
    "        print(\"Aktuell auf der Liste:\", participants_game, \"\\n\")\n",
    "        \n",
    "        continue\n",
    "        \n",
    "    participants_game.append(name)\n",
    "    print(\"Das Spiel läuft 😍\")\n",
    "    \n",
    "    #Zur Überprüfung der aktuellen Teilnehmer:innenliste\n",
    "    print(\"Aktuell auf der Liste:\", participants_game, \"\\n\")\n",
    "    "
   ]
  },
  {
   "cell_type": "markdown",
   "id": "e2644f53-29c0-472b-abab-ba004736403a",
   "metadata": {
    "deletable": false,
    "editable": false
   },
   "source": [
    "***\n",
    "\n",
    "Kommen wir zu unserem Anwendungsfall, dem Erstellen eines Kalenders, zurück. Mit dem erlernten Wissen über bedingte Anweisungen und Schleifen solltest Du nun in der Lage sein, aus dem extrem simplen, statischen Wochentage-Kalender aus dem Notebook \"Einführung\" einen dynamischen Kalender inklusive Tag und Monat zu kreieren. \n",
    "\n",
    "***\n",
    "\n",
    "## 🔧 Anwendungsfall: Einen Kalender erstellen\n",
    " \n",
    "Deine Aufgabe ist es also, 365 vollständige Daten vom Format \"Wochentag, Tag. Monat Jahr\" auszugeben:\n",
    "\n",
    "```Samstag, 1. Januar 2022``` <br>\n",
    "```Sonntag, 2. Januar 2022``` <br>\n",
    "```Montag, 3. Januar 2022``` <br>\n",
    "\n",
    "Als Ausgangspunkt stehen Dir ein dictionary mit allen Monaten und der jeweiligen Anzahl Tage als Schlüssel-Werte-Paare und ebenfalls eine Liste mit allen Wochentagen zur Verfügung. Wie Du über Listen iterierst, weißt Du ja bereits. Zum Iterieren über dictionaries kannst Du wie oben im Video die ```items```-Methode verwenden (mehr dazu im Notebook \"Funktionen und Methoden Teil 1\"), sie steht Dir ebenfalls bereits im Code zur Verfügung. Die Variablen ```month``` und ```days``` stehen dabei stellvertretend für den Schlüssel (Monatsnamen) und Wert (Anzahl Tage) des jeweiligen Schlüssel-Werte-Paars im dictionary. Nutz diese Variablen im Schleifenkörper, um auf den jeweiligen Schlüssel bzw. Wert zuzugreifen.\n",
    "\n",
    "Hinweis: Diese Übung ist durchaus komplex. Überleg Dir deshalb erst, in welche kleineren Schritte Du die Aufgabe zerlegen kannst und vergewisser Dich dann bei jedem (Zwischen-)Schritt, dass Dein Code das tut, was er soll (trial and error!).\n",
    "\n",
    "Letzte Bemerkung: ```pass``` steht als Platzhalter für Deinen Code da. Ein leerer Anweisungskörper erzeugt bei Python nämlich eine Fehlermeldung. Ersetz ```pass``` durch Deinen Code."
   ]
  },
  {
   "cell_type": "code",
   "execution_count": null,
   "id": "7314a6d7-8cd3-45a6-a015-d3d98ad7a534",
   "metadata": {
    "tags": []
   },
   "outputs": [],
   "source": [
    "#In diese Zelle kannst Du den Code zur Übung schreiben.\n",
    "\n",
    "months = {\"Januar\": 31, \"Februar\": 28, \"März\": 31, \"April\": 30, \"Mai\": 31, \"Juni\": 30, \"Juli\": 31, \"August\": 31, \"September\": 30, \"Oktober\": 31, \"November\": 30, \"Dezember\": 31}\n",
    "weekdays = [\"Montag\", \"Dienstag\", \"Mittwoch\", \"Donnerstag\", \"Freitag\", \"Samstag\", \"Sonntag\"]\n",
    "\n",
    "j = 5\n",
    "for month, days in months.items():\n",
    "    pass"
   ]
  },
  {
   "cell_type": "markdown",
   "id": "c5d8a3ac-951c-48a7-a398-3b0a33a6daf5",
   "metadata": {
    "deletable": false,
    "editable": false
   },
   "source": [
    "***\n",
    "\n",
    "Abschließend noch ein paar Tipps, wo Du Hilfe findest, wenn Du mal bei einem Programmierproblem nicht weiterkommst. \n",
    "\n",
    "## Exkurs: Hilfe holen\n",
    "\n",
    "Bis zu diesem Punkt im Notebook bist Du sicherlich auf das ein oder andere Problem gestoßen, das Du nicht selbst lösen konntest. Vermutlich hast Du in diesen Fällen Hilfe bei Google gesucht. Das ist genau die richtige Strategie, denn in den seltensten Fällen bist Du mit Deinem Programmierproblem alleine. Ein sehr beliebtes Forum für Fragen rund um Python, das zumeist auch das erste Suchergebnis bei Google ist, heißt [Stack Overflow](https://stackoverflow.com/questions/tagged/python). \n",
    "\n",
    "Angenommen Du stündest vor der Herausforderung, Duplikate aus einer Liste zu entfernen und kämst nicht weiter, so würdest Du über die Suchanfrage \"remove duplicates in lists\" (oder so ähnlich) zu diesem [Beitrag](https://stackoverflow.com/questions/7961363/removing-duplicates-in-lists) gelangen. Die Frage des Nutzers steht auch im Screenshot unten:"
   ]
  },
  {
   "cell_type": "markdown",
   "id": "b3b3fa89-34aa-4981-915e-11a0078e2e06",
   "metadata": {
    "deletable": false,
    "editable": false
   },
   "source": [
    "<img src=\"../3_Dateien/Grafiken_und_Videos/Stack_Overflow1.png\">"
   ]
  },
  {
   "cell_type": "markdown",
   "id": "2ca2c7d5-10e8-4ab2-bd38-e188a1bce703",
   "metadata": {
    "deletable": false,
    "editable": false
   },
   "source": [
    "Fragen bei Stack Overflow bestehen i.&nbsp;d.&nbsp;R. aus einer Erklärung des Problems sowie Codeausschnitten und ggf. Output (z.&nbsp;B. eine Fehlermeldung). Hier handelt es sich jedoch um eine einfache Frage, die aber sehr viele Programmierer:innen als nützlich (bzw. gut recherchiert und klar formuliert) bewertet haben, was wir an den 1297 sog. *Upvotes* erkennen. \n",
    "\n",
    "Insgesamt 57 Antworten wurden gegeben, wobei wir uns auch hier an den Upvotes orientieren können. Die nützlichste Antwort mit 2053 Upvotes erklärt, wie im nächsten Screenshot ersichtlich, dass der Nutzer für sein Problem ```set``` benutzen kann (vgl. Notebook \"Datentypen\"). Das grüne Häkchen bedeutet zudem, dass der Fragesteller diese Antwort als beste ausgewählt hat.  "
   ]
  },
  {
   "cell_type": "markdown",
   "id": "2a234408-076a-4b74-a09f-f341d307573d",
   "metadata": {
    "deletable": false,
    "editable": false
   },
   "source": [
    "<img src=\"../3_Dateien/Grafiken_und_Videos/Stack_Overflow2.png\">"
   ]
  },
  {
   "cell_type": "markdown",
   "id": "b63d6724-2fdc-488d-9672-1901652d6cb6",
   "metadata": {
    "deletable": false,
    "editable": false
   },
   "source": [
    "Wenn Du den Link zum Beitrag öffnest, siehst Du, dass die Erklärung noch weiter geht. Unter der Antwort gibt es zudem Kommentare auf die Antwort, die z. T. auch sehr nützlich sind. \n",
    "\n",
    "Um relevante Lösungen für Dein Programmierproblem zu erhalten, lohnt es sich, **auf Englisch** zu suchen. Wie im Notebook \"Einführung\" erwähnt, ist Englisch die Lingua Franca unter Programmierer:innen. Formulierungen mit *how to...* (*how to remove duplicates in list*) oder eine Aneinanderreihung von Schlüsselwörtern (*remove duplicates list python*) sind empfehlenswert. Bei Fehlermeldungen kannst Du auch einfach die Meldung copy-pasten und danach suchen.\n",
    "\n",
    "Wie gesagt, in den allermeisten Fällen hatten andere vor Dir bereits dasselbe Problem und es gibt schon einen, oft sogar mehrere Beiträge dazu. Solltest Du nach eingehender (!) Recherche aber keinen relevanten Beitrag für Dein Problem gefunden haben, kannst Du natürlich eine eigene Frage bei Stack Overflow stellen. [Hier](https://stackoverflow.com/help/how-to-ask) findest Du Tipps, wie Du Deine Frage formulierst, damit Du möglichst rasch eine sinnvolle Antwort erhältst (und nicht zuweilen patzig auf Duplikatbeiträge oder andere Regelmissachtungen hingewiesen wirst).\n",
    "\n",
    "Neben dem Frage-Antwort-basierten Forum Stack Overflow gibt es natürlich die [offizielle Dokumentation von Python](https://docs.python.org/3/index.html). Insbesondere das [Tutorial](https://docs.python.org/3/tutorial/) ist empfehlenswert. Es deckt sämtliche wichtigen Themen ab und ist (im Gegensatz zum Community-betriebenen Stack Overflow und erst recht anderen Google-Suchergebnissen, etwa den oft inakkuraten Webseiten w3schools oder geeksforgeeks) garantiert korrekt."
   ]
  },
  {
   "cell_type": "markdown",
   "id": "dc9738d0-9288-4ee5-ab1c-ca12d4acfbe9",
   "metadata": {
    "deletable": false,
    "editable": false
   },
   "source": [
    "***\n",
    "\n",
    "Wunderbar! Damit sind wir am Ende dieses Notebooks."
   ]
  }
 ],
 "metadata": {
  "kernelspec": {
   "display_name": "Python 3 (ipykernel)",
   "language": "python",
   "name": "python3"
  },
  "language_info": {
   "codemirror_mode": {
    "name": "ipython",
    "version": 3
   },
   "file_extension": ".py",
   "mimetype": "text/x-python",
   "name": "python",
   "nbconvert_exporter": "python",
   "pygments_lexer": "ipython3",
   "version": "3.11.5"
  }
 },
 "nbformat": 4,
 "nbformat_minor": 5
}