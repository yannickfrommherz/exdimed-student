{
 "cells": [
  {
   "cell_type": "markdown",
   "id": "6b495fad-f81e-4870-b739-e19837b8801c",
   "metadata": {
    "deletable": false,
    "editable": false
   },
   "source": [
    "# Input und Output Teil 2 (Lösungen)\n",
    "\n",
    "☝️ Beachte: Es gibt beim Programmieren fast immer verschiedene Lösungswege. Deine Lösung mag anders aussehen, aber dennoch zum gewünschten Resultat führen. Das richtige Resultat ist das Wichtigste. "
   ]
  },
  {
   "cell_type": "markdown",
   "id": "18afcdd3-7c2b-4e5a-84a3-1e214ce0e614",
   "metadata": {
    "deletable": false,
    "editable": false
   },
   "source": [
    "***\n",
    "\n",
    "✏️ **Lösung 1:** Find heraus, wie viele der 100 flächengrößten Gemeinden zu jedem der 16 Bundesländer gehören. Du kannst direkt mit ```biggest_municipalities``` weiterarbeiten. Dir steht ein dictionary mit Bundesländern zur Verfügung. Ziel ist es, den Wert (jetzt noch null für alle Bundesländer) für jedes Bundesland korrekt zu berechnen."
   ]
  },
  {
   "cell_type": "code",
   "execution_count": null,
   "id": "07a055a3-024b-4dd3-bcce-a10c36d2bc09",
   "metadata": {
    "tags": []
   },
   "outputs": [],
   "source": [
    "#Da es sich hier um ein anderes Skript handelt, muss die Datei hier erst eingelesen werden.\n",
    "import csv\n",
    "\n",
    "#Achtung: anderer Pfad als im Notebook, da das Lösungsnotebook in einem anderen Verzeichnis liegt\n",
    "with open(\"../../3_Dateien/Tabellarische_Daten/Liste_der_flächengrössten_Gemeinden_Deutschlands.csv\", encoding=\"utf-8\") as read_file:\n",
    "    \n",
    "    data = csv.reader(read_file, delimiter=\";\")\n",
    "    \n",
    "    biggest_municipalities = []\n",
    "    \n",
    "    for row in data:\n",
    "        biggest_municipalities.append(row)\n",
    "\n",
    "federal_states = {'Baden-Württemberg': 0, 'Bayern': 0, 'Berlin': 0, 'Brandenburg': 0, 'Bremen': 0, 'Hamburg': 0, 'Hessen': 0, \n",
    "                'Mecklenburg-Vorpommern': 0, 'Niedersachsen': 0, 'Nordrhein-Westfalen': 0, 'Rheinland-Pfalz': 0, 'Saarland': 0, \n",
    "                'Sachsen': 0, 'Sachsen-Anhalt': 0, 'Schleswig-Holstein': 0, 'Thüringen': 0}\n",
    "\n",
    "for i in range(len(biggest_municipalities)):\n",
    "    for state in federal_states.keys():\n",
    "        if biggest_municipalities[i][4] == state:\n",
    "            federal_states[state] += 1\n",
    "\n",
    "for state, number in federal_states.items():\n",
    "    print(state, number)"
   ]
  },
  {
   "cell_type": "markdown",
   "id": "f68b7130-728e-4ae5-8fcc-cf312b0beb74",
   "metadata": {
    "deletable": false,
    "editable": false
   },
   "source": [
    "🔧 **Anwendungsfall (Lösung):** Deine Aufgabe ist es also, ein kleines interaktives Programm zu schreiben, mit dessen Hilfe eine Benutzerin schlaue Gedanken protokollieren kann. Konkret müssen folgende Schritte umgesetzt werden:\n",
    "\n",
    "1. Die Benutzerin wird gegrüßt und ihr wird erklärt, welche Funktionen das Programm ihr bietet.\n",
    "2. Die Benutzerin wird aufgefordert, anzugeben, in welchem Dokument sie ihre(n) Gedanke(n) festhalten will. Handelt es sich um ein noch nicht existierendes Dokument, so wird es für sie geschaffen. Existiert das Dokument bereits, so soll(en) ihr(e) Gedanke(n) an dessen Ende gehängt werden.\n",
    "3. Die Benutzerin wird aufgefordert, ihren Gedanken einzugeben.\n",
    "4. Der Gedanke wird in das gewählte Dokument geschrieben.\n",
    "5. Die Benutzerin wird zur Entscheidung aufgefordert, ob sie einen weiteren Gedanken im selben Dokument festhalten oder das Programm verlassen will.\n",
    "    1. Will die Benutzerin einen weiteren Gedanken festhalten, so soll das Programm zu Schritt 3 zurückspringen.\n",
    "    2. Will die Benutzerin das Programm verlassen, so soll sie verabschiedet werden."
   ]
  },
  {
   "cell_type": "code",
   "execution_count": null,
   "id": "7696ec3e-2f2e-42a2-8e42-32a18d323c89",
   "metadata": {
    "tags": []
   },
   "outputs": [],
   "source": [
    "#Achtung: anderer Pfad als im Notebook, da das Lösungsnotebook in einem anderen Verzeichnis liegt\n",
    "path = \"../../3_Dateien/Output/\"\n",
    "\n",
    "first_time = True\n",
    "\n",
    "while True:\n",
    "    \n",
    "    if first_time == True:\n",
    "        file_name = input(\"\"\"Hallo! Bitte gib den Namen der Datei an, in der Du Deinen Gedanken festhalten willst.\\n\\nSollte die Datei noch nicht existieren, lege ich sie für Dich an.\\n\\nAn das Dateisuffix musst Du nicht denken.\\n\\n⇥\"\"\")\n",
    "        \n",
    "    with open(path + file_name + \".txt\", \"a\", encoding=\"utf-8\") as write_file:\n",
    "        \n",
    "        thought = input(\"\\nWunderbar. Welchen Gedanken möchtest Du festhalten?\\n\\n⇥\")\n",
    "        \n",
    "        write_file.write(thought + \"\\n\")\n",
    "        \n",
    "    print(\"\\nToller Gedanke!\\n\")\n",
    "    \n",
    "    repeat = input(\"Möchtest Du einen weiteren Gedanken in der gleichen Datei festhalten? Dann drück 'Y'. Wenn nicht, drück eine beliebige andere Taste.\\n\\n⇥\")\n",
    "    \n",
    "    first_time = False\n",
    "    \n",
    "    if repeat != \"Y\":\n",
    "        print(\"\\nSuper, hab noch einen schönen Tag!\")\n",
    "        break"
   ]
  },
  {
   "cell_type": "markdown",
   "id": "d717a97b-6900-432f-901e-dea5dbf5a02b",
   "metadata": {
    "deletable": false,
    "editable": false
   },
   "source": [
    "***\n",
    "\n",
    "✏️ **Lösung 2:** In ```shopping_list``` finden sich Schlüssel-Werte-Paare bestehend aus Lebensmitteln und dem jeweiligen Preis. Deine Aufgabe ist es, die Ausgabe mithilfe von f-strings wie im folgenden Screenshot gezeigt auszugeben.\n",
    "\n",
    "Hinweis 1: Einen digit space kannst Du nicht nur für Zahlen, sondern für Objekte jeglichen Datentyps festlegen. Der digit space für die Spalte \"Product\" soll 25 Stellen betragen, derjenige für \"Price\" fünf.\n",
    "\n",
    "Hinweis 2: Wie erwähnt werden Zahlen innerhalb des digit space standardmäßig rechtsbündig ausgerichtet. Strings werden hingegen innerhalb des digit space standardmäßig linksbündig ausgerichtet (Tabellenkalkulationsprogramme legen das gleiche Verhalten an den Tag, wie Dir vielleicht schon aufgefallen ist). Um die Darstellung im Screenshot umzusetzen, musst Du Dich folglich nicht um das Alignment kümmern, da es dem Standard entspricht."
   ]
  },
  {
   "cell_type": "code",
   "execution_count": null,
   "id": "718a9d4e-163d-43e5-822a-14bd03132de3",
   "metadata": {},
   "outputs": [],
   "source": [
    "shopping_list = {\"Apple\": 0.77, \"Banana\": 1.23, \"Oat Milk\": 1.944, \"Olive Oil Extra Vergine\": 11.17}\n",
    "\n",
    "print(f\"{'Product':25} {'Price':5}\")\n",
    "\n",
    "for key, value in shopping_list.items():\n",
    "    \n",
    "    \"\"\"'key' erhält einen digit space von 20 Stellen, die linksbündig befüllt werden (da es sich um strings handelt);\n",
    "    'value' erhält einen digit space von fünf Stellen, die rechtsbündig befüllt werden (da es sich um Zahlen handelt);\n",
    "    'value' wird auf zwei Dezimalstellen gerundet als float ausgegeben.\"\"\"\n",
    "    print(f\"{key:25} {value:5.2f}\")"
   ]
  }
 ],
 "metadata": {
  "kernelspec": {
   "display_name": "Python 3 (ipykernel)",
   "language": "python",
   "name": "python3"
  },
  "language_info": {
   "codemirror_mode": {
    "name": "ipython",
    "version": 3
   },
   "file_extension": ".py",
   "mimetype": "text/x-python",
   "name": "python",
   "nbconvert_exporter": "python",
   "pygments_lexer": "ipython3",
   "version": "3.10.7"
  }
 },
 "nbformat": 4,
 "nbformat_minor": 5
}