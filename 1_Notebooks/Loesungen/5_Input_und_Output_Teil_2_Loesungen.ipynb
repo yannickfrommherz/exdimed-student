{
 "cells": [
  {
   "cell_type": "markdown",
   "id": "6b495fad-f81e-4870-b739-e19837b8801c",
   "metadata": {
    "deletable": false,
    "editable": false
   },
   "source": [
    "# Input und Output Teil 2 (Lösungen)\n",
    "\n",
    "☝️ Beachte: Es gibt beim Programmieren fast immer verschiedene Lösungswege. Deine Lösung mag anders aussehen, aber dennoch zum gewünschten Resultat führen. Das richtige Resultat ist das Wichtigste. "
   ]
  },
  {
   "cell_type": "markdown",
   "id": "18afcdd3-7c2b-4e5a-84a3-1e214ce0e614",
   "metadata": {
    "deletable": false,
    "editable": false
   },
   "source": [
    "***\n",
    "\n",
    "✏️ **Übung 1:** Find heraus, wie viele der 100 flächengrößten Gemeinden zu jedem der 16 Bundesländer gehören. Du kannst direkt mit ```biggest_municipalities``` weiterarbeiten. Dir steht ein dictionary mit Bundesländern zur Verfügung. Ziel ist es, den Wert (jetzt noch null für alle Bundesländer) für jedes Bundesland korrekt zu berechnen."
   ]
  },
  {
   "cell_type": "code",
   "execution_count": null,
   "id": "07a055a3-024b-4dd3-bcce-a10c36d2bc09",
   "metadata": {
    "tags": []
   },
   "outputs": [],
   "source": [
    "#Da es sich um ein anderes Notebook handelt, müssen wir das 'csv'-Modul auch hier importieren sowie 'biggest_municipalities' erst schaffen\n",
    "import csv\n",
    "\n",
    "#Achtung: anderer Pfad als im Notebook, da das Lösungsnotebook in einem anderen Verzeichnis liegt\n",
    "with open(\"../../3_Dateien/Tabellarische_Daten/Liste_der_flaechengroessten_Gemeinden_Deutschlands.csv\", encoding=\"utf-8\") as read_file:\n",
    "    \n",
    "    #Erklärung dieses Codes siehe Notebook \"Input und Output Teil 2\" unter \"Das 'csv'-Modul\"\n",
    "    data = csv.reader(read_file, delimiter=\";\")\n",
    "    \n",
    "    biggest_municipalities = []\n",
    "    \n",
    "    for row in data:\n",
    "        biggest_municipalities.append(row)\n",
    "\n",
    "federal_states = {'Baden-Württemberg': 0, 'Bayern': 0, 'Berlin': 0, 'Brandenburg': 0, 'Bremen': 0, 'Hamburg': 0, 'Hessen': 0, \n",
    "                'Mecklenburg-Vorpommern': 0, 'Niedersachsen': 0, 'Nordrhein-Westfalen': 0, 'Rheinland-Pfalz': 0, 'Saarland': 0, \n",
    "                'Sachsen': 0, 'Sachsen-Anhalt': 0, 'Schleswig-Holstein': 0, 'Thüringen': 0}\n",
    "\n",
    "#Hier startet der eigentliche Lösungscode\n",
    "#Iteration über 'biggest_municipalities' mittels der 'range'-Funktion und 'i' als Zählervariable\n",
    "for i in range(len(biggest_municipalities)):\n",
    "    for state in federal_states.keys(): #Iterieren über die Schlüssel in 'federal_states'\n",
    "        \"\"\"Überprüfen, ob das jeweilige Bundesland ('state') dem Bundesland der jeweiligen (mittels 'i' indizierten)\n",
    "        Gemeinde auf 'biggest_municipalities' entspricht (das Bundeland ist das fünfte Element in der Liste pro Gemeinde)\"\"\"\n",
    "        if biggest_municipalities[i][4] == state: \n",
    "            federal_states[state] += 1 #Wenn das zutrifft, wird der zum Bundesland zugehörige Wert im dictionary um eins erhöht.\n",
    "\n",
    "for state, number in federal_states.items(): #Ausgabe der Ergebnisse durch Iterieren über das dictionary\n",
    "    print(state, number)"
   ]
  },
  {
   "cell_type": "markdown",
   "id": "f68b7130-728e-4ae5-8fcc-cf312b0beb74",
   "metadata": {
    "deletable": false,
    "editable": false
   },
   "source": [
    "***\n",
    "\n",
    "🔧 **Anwendungsfall:** Deine Aufgabe ist es also, ein kleines interaktives Programm zu schreiben, mit dessen Hilfe eine Benutzerin schlaue Gedanken protokollieren kann. Konkret müssen folgende Schritte umgesetzt werden:\n",
    "\n",
    "1. Die Benutzerin wird gegrüßt und ihr wird erklärt, welche Funktionen das Programm ihr bietet.\n",
    "2. Die Benutzerin wird aufgefordert, anzugeben, in welchem Dokument sie ihre(n) Gedanke(n) festhalten will. Handelt es sich um ein noch nicht existierendes Dokument, so wird es für sie geschaffen. Existiert das Dokument bereits, so soll(en) ihr(e) Gedanke(n) an dessen Ende gehängt werden.\n",
    "3. Die Benutzerin wird aufgefordert, ihren Gedanken einzugeben.\n",
    "4. Der Gedanke wird in das gewählte Dokument geschrieben.\n",
    "5. Die Benutzerin wird zur Entscheidung aufgefordert, ob sie einen weiteren Gedanken im selben Dokument festhalten oder das Programm verlassen will.\n",
    "    1. Will die Benutzerin einen weiteren Gedanken festhalten, so soll das Programm zu Schritt 3 zurückspringen.\n",
    "    2. Will die Benutzerin das Programm verlassen, so soll sie verabschiedet werden."
   ]
  },
  {
   "cell_type": "code",
   "execution_count": null,
   "id": "7696ec3e-2f2e-42a2-8e42-32a18d323c89",
   "metadata": {
    "tags": []
   },
   "outputs": [],
   "source": [
    "#Achtung: anderer Pfad als im Notebook, da das Lösungsnotebook in einem anderen Verzeichnis liegt\n",
    "path = \"../../3_Dateien/Output/\"\n",
    "\n",
    "first_time = True #Initiieren der Variable mit dem boolschen Wert 'True'\n",
    "\n",
    "while True: \n",
    "    \n",
    "    if first_time == True: #Solange 'first_time' den Wert 'True' hat....\n",
    "        #...wird der folgende Output erzeugt, welcher zur Eingabe eines Dateinamens auffordert. Der Dateiname wird in einer Variable gespeichert.\n",
    "        file_name = input(\"\"\"Hallo! Bitte gib den Namen der Datei an, in der Du Deinen Gedanken festhalten willst.\\n\\nSollte die Datei noch nicht existieren, lege ich sie für Dich an.\\n\\nAn das Dateisuffix musst Du nicht denken.\\n\\n⇥\"\"\")\n",
    "    \n",
    "    #Öffnen/Anlegen der Datei: Wenn diese bereits existiert, wird sie durch \"a\" erweitert, wenn nicht, wird sie neu angelegt.\n",
    "    with open(path + file_name + \".txt\", \"a\", encoding=\"utf-8\") as write_file:\n",
    "        \n",
    "        #Aufforderung, einen Gedanken einzugeben. Auch dieser wird in einer Variablen gespeichert.\n",
    "        thought = input(\"\\nWunderbar. Welchen Gedanken möchtest Du festhalten?\\n\\n⇥\")\n",
    "        \n",
    "        #Der in der Variable gespeicherte Gedanke wird in die geöffnete Datei geschrieben und von einem Zeilenumbruch abgeschlossen.\n",
    "        write_file.write(thought + \"\\n\")\n",
    "    \n",
    "    print(\"\\nToller Gedanke!\\n\")\n",
    "    \n",
    "    #Aufforderung, für einen weiteren Gedanken ein 'Y' einzugeben oder eine andere Taste zu drücken. Der Input wird wieder in einer Variablen gespeichert.\n",
    "    repeat = input(\"Möchtest Du einen weiteren Gedanken in der gleichen Datei festhalten? Dann drück 'Y'. Wenn nicht, drück eine beliebige andere Taste.\\n\\n⇥\")\n",
    "    \n",
    "    #Die Variable 'first_time' wird mit dem boolschen Wert 'False' überschrieben. Somit wird die erste if-Bedingung nicht mehr erfüllt.\n",
    "    first_time = False\n",
    "    \n",
    "    if repeat != \"Y\": #Wenn der Inhalt der Variable ungleich einem \"Y\" ist,...\n",
    "        print(\"\\nSuper, hab noch einen schönen Tag!\") #wird User:in verabschiedet...\n",
    "        break #...und die Schleife abgebrochen\n",
    "        \n",
    "        #Andernfalls folgt der nächste Durchlauf (jedoch ohne Begrüssung und Instruktion, da 'first_time' mittlerweile 'False' ist)"
   ]
  },
  {
   "cell_type": "markdown",
   "id": "d717a97b-6900-432f-901e-dea5dbf5a02b",
   "metadata": {
    "deletable": false,
    "editable": false
   },
   "source": [
    "***\n",
    "\n",
    "✏️ **Übung 2:** In ```shopping_list``` finden sich Schlüssel-Werte-Paare bestehend aus Lebensmitteln und dem jeweiligen Preis. Deine Aufgabe ist es, die Ausgabe mithilfe von f-strings wie im folgenden Screenshot gezeigt auszugeben. Einen digit space kannst Du nicht nur für Zahlen, sondern für Objekte jeglichen Datentyps festlegen. Der digit space für die Spalte \"Product\" soll 25 Stellen betragen, derjenige für \"Price\" fünf.\n"
   ]
  },
  {
   "cell_type": "code",
   "execution_count": null,
   "id": "718a9d4e-163d-43e5-822a-14bd03132de3",
   "metadata": {},
   "outputs": [],
   "source": [
    "shopping_list = {\"Apple\": 0.77, \"Banana\": 1.23, \"Oat Milk\": 1.944, \"Olive Oil Extra Vergine\": 11.17}\n",
    "\n",
    "print(f\"{'Product':25} {'Price':5}\") #Festlegen des digit space und printen der beiden Kategorien \"Product\" und \"Price\"\n",
    "\n",
    "#Iteration über das dictionary, wobei wir auf die jeweiligen Schlüssel und Werte über zwei verschiedene Variablen zugreifen können\n",
    "for key, value in shopping_list.items():\n",
    "    \n",
    "    \"\"\"'key' erhält einen digit space von 25 Stellen, die linksbündig befüllt werden (da es sich um strings handelt);\n",
    "    'value' erhält einen digit space von fünf Stellen, die rechtsbündig befüllt werden (da es sich um Zahlen handelt);\n",
    "    'value' wird auf zwei Dezimalstellen gerundet als float ausgegeben. Nacheinander werden die Elemente des dictionary so\n",
    "    ausgegeben.\"\"\"\n",
    "    print(f\"{key:25} {value:5.2f}\")"
   ]
  },
  {
   "cell_type": "markdown",
   "id": "af2513e1-e6f7-4ac2-b19c-aaefbb657a75",
   "metadata": {
    "deletable": false,
    "editable": false
   },
   "source": [
    "\n",
    "***\n",
    "<table>\n",
    "      <tr>\n",
    "        <td>\n",
    "            <img src=\"../../3_Dateien/Lizenz/CC-BY-SA.png\" width=\"400\">\n",
    "        </td> \n",
    "        <td>\n",
    "            <p>Dieses Notebook sowie sämtliche weiteren <a href=\"https://github.com/yannickfrommherz/exdimed-student/tree/main\">Materialien zum Programmierenlernen für Geistes- und Sozialwissenschaftler:innen</a> sind im Rahmen des Projekts <i>Experimentierraum Digitale Medienkompetenz</i> als Teil von <a href=\"https://tu-dresden.de/gsw/virtuos/\">virTUos</a> entstanden. Erstellt wurden sie von Yannick Frommherz unter Mitarbeit von Anne Josephine Matz. Sie stehen als Open Educational Resource nach <a href=\"https://creativecommons.org/licenses/by-sa/4.0/\">CC BY SA</a> zur freien Verfügung. Für Feedback und bei Fragen nutz bitte das <a href=\"https://forms.gle/VsYJgy4bZTSqKioA7\">Kontaktformular</a>.\n",
    "        </td>\n",
    "      </tr>\n",
    "</table>"
   ]
  }
 ],
 "metadata": {
  "kernelspec": {
   "display_name": "Python 3 (ipykernel)",
   "language": "python",
   "name": "python3"
  },
  "language_info": {
   "codemirror_mode": {
    "name": "ipython",
    "version": 3
   },
   "file_extension": ".py",
   "mimetype": "text/x-python",
   "name": "python",
   "nbconvert_exporter": "python",
   "pygments_lexer": "ipython3",
   "version": "3.11.5"
  }
 },
 "nbformat": 4,
 "nbformat_minor": 5
}