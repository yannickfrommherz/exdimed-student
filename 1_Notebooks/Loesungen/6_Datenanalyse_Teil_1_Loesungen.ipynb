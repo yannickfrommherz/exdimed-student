{
 "cells": [
  {
   "cell_type": "markdown",
   "id": "d1d9baad-a423-4ae2-a7bf-d2b73f848ffc",
   "metadata": {
    "deletable": false,
    "editable": false
   },
   "source": [
    "# Datenanalyse Teil 1 (Lösungen)\n",
    "\n",
    "☝️ Beachte: Es gibt beim Programmieren fast immer verschiedene Lösungswege. Deine Lösung mag anders aussehen, aber dennoch zum gewünschten Resultat führen. Das richtige Resultat ist das Wichtigste. \n",
    "\n",
    "⚠️ Führ folgenden Code aus, bevor Du einzelne Lösungen ausführst. Im Lehrnotebook sortieren wir das DataFrame zu einem bestimmten Zeitpunkt. Diese Sortierung nehmen wir im Lösungsnotebook nicht vor, weswegen die Reihenfolge der Zeilen ab einem gewissen Punkt abweicht. Dies ist nicht weiter schlimm und wird bloß erwähnt, dass Du Dich nicht wunderst, warum die Daten zwischen den beiden Notebooks vermeintlich anders ausschauen."
   ]
  },
  {
   "cell_type": "code",
   "execution_count": null,
   "id": "9c9e03a4-b7bb-400b-b101-383ef481d5d5",
   "metadata": {
    "tags": []
   },
   "outputs": [],
   "source": [
    "import pandas as pd\n",
    "\n",
    "#Achtung: anderer Pfad als im Notebook, da das Lösungsnotebook in einem anderen Verzeichnis liegt \n",
    "with open(\"../../3_Dateien/Songkorpus/songkorpus_token.tsv\") as f:\n",
    "    songkorpus = pd.read_csv(f, sep=\"\\t\")\n",
    "\n",
    "#Umbenennen der Spalten\n",
    "songkorpus.columns = [\"Token\", \"Jahr\", \"Häufigkeit\"]\n",
    "\n",
    "tokens = songkorpus[\"Token\"] #Speichern der Werte aus der Spalte 'Token' als Series in der Variable 'tokens'\n",
    "\n",
    "decades = [] #Initialisieren einer leeren Liste, an die unten die Jahrzehnte angehängt werden\n",
    "\n",
    "for year in (songkorpus[\"Jahr\"]): #Iterieren über die Werte der Spalte 'Jahr'\n",
    "    decade = str(year)[:-1] + \"0\" #Herausslicen der ersten drei Zahlen und ergänzen um eine Null am Ende\n",
    "    decades.append(decade) #Anhängen an die Liste 'decades'\n",
    "    \n",
    "songkorpus[\"Jahrzehnt\"] = decades #Schaffen einer neuen Spalte 'Jahrzehnt', welche mit den Werten aus der Liste 'decades' befüllt wird\n",
    "original_len = len(songkorpus) #Speichern der Originallänge des DataFrame, da später noch einmal benötigt"
   ]
  },
  {
   "cell_type": "markdown",
   "id": "0b22170b-c5be-4da7-91d7-ce4381124664",
   "metadata": {
    "deletable": false,
    "editable": false
   },
   "source": [
    "*** \n",
    "\n",
    "✏️ **Lösung 1:** Erstell eine weitere Series, die nur das 100.000te, 200.000te und 300.000te Token der Series ```tokens``` beinhaltet. "
   ]
  },
  {
   "cell_type": "code",
   "execution_count": null,
   "id": "59fcc6a6-ad19-48f9-ae3b-22227cb7c32d",
   "metadata": {
    "tags": []
   },
   "outputs": [],
   "source": [
    "print(tokens[[100000,200000,300000]]) #Alternative 1: Liste an Indizes (beachte die inneren eckigen Klammern!)\n",
    "print(tokens[100000::100000]) #Alternative 2: Slicing mit Start-Index 100000 und Step 100000, vgl. Notebook \"Datentypen\""
   ]
  },
  {
   "cell_type": "markdown",
   "id": "e9f5b42a-3e16-43c2-be74-4ac38f3b8987",
   "metadata": {
    "deletable": false,
    "editable": false
   },
   "source": [
    "*** \n",
    "\n",
    "✏️ **Lösung 2:** \n",
    "\n",
    "1. Lies die Datei ```songkorpus_tokens.tsv``` abermals ein und übergib beim Erstellen des DataFrame zusätzlich den Parameter ```index_col=0```. Dadurch wird die erste Spalte (mit dem Index ```0```), also diejenige mit den Tokens, zur sog. *Index-Spalte*. Jede Zeile hat nun statt eines numerischen Index einen Namen, nämlich das jeweilige Token. Weis das DataFrame der Variablen ```songkorpus_labelled_rows``` zu. \n",
    "2. Benenn die Spalten wie bei ```songkorpus``` um. Falls Du hier eine Fehlermeldung kriegst, lies sie aufmerksam und pass Deinen Code entsprechend an.\n",
    "3. Überleg Dir, was die Tatsache, dass wir nun Tokens als Zeilennamen verwenden, zur Konsequenz hat. Experimentier dazu gerne mit dem DataFrame herum und greif auf verschiedene Zeilen über Namen zu. "
   ]
  },
  {
   "cell_type": "code",
   "execution_count": null,
   "id": "e344fa88-b369-4be1-881c-c5ff50787505",
   "metadata": {
    "tags": []
   },
   "outputs": [],
   "source": [
    "#Achtung: anderer Pfad als im Notebook, da das Lösungsnotebook in einem anderen Verzeichnis liegt \n",
    "songkorpus_labelled_rows = pd.read_csv(\"../../3_Dateien/Songkorpus/songkorpus_token.tsv\", sep=\"\\t\", index_col=0) \n",
    "#Der Parameter 'index_col=0' sorgt dafür, dass die erste Spalte zur Index-Spalte wird.\n",
    "\n",
    "#Vergeben von Spaltenbezeichnungen. Beachte: Es müssen nur zwei Spaltentitel vergeben werden, da die erste Spalte als Indexspalte keinen Titel bekommt.\n",
    "songkorpus_labelled_rows.columns = [\"Jahr\", \"Häufigkeit\"] \n",
    "\n",
    "#Zu 3.: Zeilennamen können mehrfach vorkommen, beispielsweise \"wir\":\n",
    "songkorpus_labelled_rows[songkorpus_labelled_rows.index == \"wir\"].head()"
   ]
  },
  {
   "cell_type": "markdown",
   "id": "832e86b4-202f-42fc-9010-fc64aafec336",
   "metadata": {
    "deletable": false,
    "editable": false
   },
   "source": [
    "***\n",
    "\n",
    "✏️ **Lösung 3:** Setz die Tatsache, dass Zeilennamen mehrfach vorkommen dürfen, produktiv ein und find heraus, wie oft \"Dresden\" in ```songkorpus_labelled_rows``` vorkommt, indem Du die Häufigkeiten in allen Jahren, in denen das Wort gesungen wird, zusammenzählst."
   ]
  },
  {
   "cell_type": "code",
   "execution_count": null,
   "id": "b6de3f1d-17ec-4ba7-a4b9-5cf9af7fe7b5",
   "metadata": {
    "tags": []
   },
   "outputs": [],
   "source": [
    "dresden = songkorpus_labelled_rows.loc[\"Dresden\"] #Erst greifen wir auf alle Zeilen zu, die \"Dresden\" als Label haben und weisen das Resultat der Variablen 'dresden' zu\n",
    "occurrences_per_year = dresden[\"Häufigkeit\"] #Anschließend greifen wir auf die Spalte \"Häufigkeit\" im Sub-DataFrame 'dresden' zu und weisen die resultierende Series der Variablen 'occurrences_per_year' zu\n",
    "\n",
    "#Drei Alternativen ab hier:\n",
    "\n",
    "#1. for-Loop\n",
    "total = 0 #Definieren einer Zählervariable\n",
    "for year in occurrences_per_year: #Nun iterieren wir über 'occurrences_per_year' wie bei einer Liste.\n",
    "    total += year #Erhöhen der Zählvariable 'total' um den jeweiligen Zeilenwert\n",
    "print(total)\n",
    "\n",
    "#2. 'sum'-Funktion\n",
    "print(sum(occurrences_per_year))\n",
    "\n",
    "#3. 'sum'-Methode von pandas\n",
    "print(occurrences_per_year.sum())"
   ]
  },
  {
   "cell_type": "markdown",
   "id": "e711ea39-898d-4ae4-904d-18baca47f0ad",
   "metadata": {
    "deletable": false,
    "editable": false
   },
   "source": [
    "***\n",
    "\n",
    "✏️ **Lösung 4:** Füg ```songkorpus``` eine weitere Spalte mit dem Namen \"Länge\" hinzu, in der die Anzahl an Buchstaben je Token steht."
   ]
  },
  {
   "cell_type": "code",
   "execution_count": null,
   "id": "8d50a8d7-ab0b-46bd-bd3b-273ab8ee4769",
   "metadata": {
    "tags": []
   },
   "outputs": [],
   "source": [
    "lengths = [] #Initialisieren einer leeren Liste, an die unten die Tokenlängen gehängt werden\n",
    "\n",
    "for token in songkorpus[\"Token\"]: #Iterieren über die Spalte 'Token'\n",
    "    length = len(str(token)) #Casten in string ist nötig, da manche Tokens Zahlen sind und Zahlen keine Länge haben, vgl. Notebook \"Datentypen\"\n",
    "    lengths.append(length) #Anhängen der Zahlenwerte an die Liste 'lengths'\n",
    "    \n",
    "songkorpus[\"Länge\"] = lengths #Schaffen einer neuen Spalte, welcher die Werte aus 'lengths' übergeben werden\n",
    "\n",
    "songkorpus.head() #Ausgeben der ersten fünf Zeilen zur Kontrolle"
   ]
  },
  {
   "cell_type": "markdown",
   "id": "6683ed31-2a41-4d3c-8001-dcc6af6ec194",
   "metadata": {
    "deletable": false,
    "editable": false
   },
   "source": [
    "***\n",
    "\n",
    "✏️ **Lösung 5:** Vereinfache den Code von oben, mit dessen Hilfe wir die Spalte \"Jahrzehnt\" hinzugefügt haben, indem Du ihn mittels List Comprehension (vgl. Notebook \"Funktionen und Methoden Teil 1\") auf eine einzige Zeile reduzierst. Hol den Abschnitt zu List Comprehensions nach, falls Du ihn damals ausgelassen hast, da er als fortgeschritten markiert war.\n"
   ]
  },
  {
   "cell_type": "code",
   "execution_count": null,
   "id": "1b035b44-6ad4-4224-837a-4feacd47b4da",
   "metadata": {
    "tags": []
   },
   "outputs": [],
   "source": [
    "#Slicing und Anhängen von null wird nacheinander auf jedes Element der Spalte 'Jahr' angewendet.\n",
    "#Die bei der List Comprehension errechneten Werte werden direkt genutzt, um eine Spalte 'Jahrzehnt' zu schaffen bzw. diese zu überschreiben.\n",
    "songkorpus[\"Jahrzehnt\"] = [str(year)[:-1] + \"0\" for year in songkorpus[\"Jahr\"]]\n",
    "\n",
    "songkorpus.head() #Ausgeben der ersten fünf Zeilen zur Kontrolle"
   ]
  },
  {
   "cell_type": "markdown",
   "id": "b11d1ac0-f71c-4606-b82c-1f68d673a736",
   "metadata": {
    "deletable": false,
    "editable": false
   },
   "source": [
    "*** \n",
    "\n",
    "✏️ **Lösung 6:** Führ die Zelle oben, in der wir ```songkorpus``` Zeilen mit Fantasiewörtern hinzugefügt haben, noch ein paar Mal aus, ohne darauf zu achten wie oft. Verwend nun ```drop``` in einer geeigneten Kontrollstruktur (vgl. Notebook \"Kontrollstrukturen\") sowie die anfangs eingeführte Variable ```original_len```, um die Fantasiewörter wieder zu entfernen und ```songkorpus```, was die Anzahl an Zeilen betrifft, wieder in seinen Originalzustand zu bringen. "
   ]
  },
  {
   "cell_type": "code",
   "execution_count": null,
   "id": "27d7d2bf-aedc-4559-b9de-802ebc57ded2",
   "metadata": {
    "tags": []
   },
   "outputs": [],
   "source": [
    "#Vorbereitung, die im Lehrnotebook nicht notwendig ist: \n",
    "#Wir fügen 'new_row', sagen wir, 17 Mal 'songkorpus' hinzu\n",
    "new_row = [\"Fantasiewort\", 2023, 800, 2020, 12]\n",
    "for i in range(17):\n",
    "    songkorpus.loc[len(songkorpus)] = new_row\n",
    "\n",
    "#Hier beginnt die Lösung:\n",
    "'''Was im Schleifenkörper steht, wird wiederholt ausgeführt, solange die Länge von 'songkorpus'\n",
    "größer als die ursprüngliche Länge ist, d. h. wir hören auf, wenn beide Werte gleich viel betragen.'''\n",
    "while len(songkorpus) > original_len:\n",
    "    #Als Index setzen wir die Länge von 'songkorpus' minus eins ein; minus eins, da Indizes bei null beginnen\n",
    "    songkorpus = songkorpus.drop(len(songkorpus)-1) #Überschreiben von 'songkorpus', alternativ 'inplace=True' spezifizieren\n",
    "\n",
    "#Hier überprüfen wir das Resultat\n",
    "songkorpus.tail()"
   ]
  },
  {
   "cell_type": "markdown",
   "id": "1656866b-407e-4065-8e22-4d4615b6ac52",
   "metadata": {
    "deletable": false,
    "editable": false
   },
   "source": [
    "*** \n",
    "\n",
    "✏️ **Lösung 7:** Mithilfe von ```describe``` haben wir oben herausgefunden, dass die durchschnittliche Wortlänge in ```songkorpus``` 6.88 Buchstaben beträgt. Die maximale Wortlänge beträgt hingegen sagenhafte 53 Buchstaben. Die Verteilung scheint alles andere als gleichmäßig zu sein, was wir auch an den sog. *Quartilen* 25% und 75% sehen (Quartile werden wie der Median berechnet, nur geht es nicht um den Mittelwert, sondern um die Werte nach einem Viertel bzw. drei Vierteln aller aufgereihten Werte). Find heraus, welche Wortlängen für jeweils mindestens 10 % aller Wörter gelten. Find ebenfalls heraus, welche Wortlängen für jeweils maximal 1 % aller Wörter gelten."
   ]
  },
  {
   "cell_type": "code",
   "execution_count": null,
   "id": "3a247969-c66f-4350-91b0-43568955a8ca",
   "metadata": {
    "tags": []
   },
   "outputs": [],
   "source": [
    "'''Aufrufen der Spalte 'Länge' und berechnen der Vorkommen pro (einzigartige) Länge.\n",
    "Mittels 'normalize=True' werden relative Häufigkeiten ermittelt. Die Ergebnisse liegen \n",
    "anschließend in der Series 'lengths' vor.'''  \n",
    "lengths = songkorpus[\"Länge\"].value_counts(normalize=True)\n",
    "\n",
    "#Als List Comprehension: Itierieren über eine Series funktioniert wie bei einem dictionary\n",
    "min_10_pc = [str(key) for key, value in lengths.items() if value > 0.1] #Casten des Schlüssels in einen string; wenn 'value' größer als 0,1 ist: abspeichern in einer Liste \n",
    "max_1_pc = [str(key) for key, value in lengths.items() if value < 0.01] #Analog zu oben, allerdings mit der Bedingung, dass 'value' nun kleiner als 0,01 sein muss\n",
    "\n",
    "#Als klassischer for-Loop\n",
    "min_10_pc = [] \n",
    "max_1_pc = []\n",
    "\n",
    "for key, value in lengths.items(): #Iteration über die Series wie bei einem dictionary \n",
    "    if value > 0.1:\n",
    "        min_10_pc.append(str(key))\n",
    "    elif value < 0.01:\n",
    "        max_1_pc.append(str(key))\n",
    "\n",
    "print(\"Mind. 10 %:\", \", \".join(sorted(min_10_pc)), \"\\nMax. 1 %:\", \", \".join(sorted(max_1_pc))) #Ausgabe der sortierten Ergebnisse"
   ]
  },
  {
   "cell_type": "markdown",
   "id": "41973d7c-514c-4e53-bfd4-baed558e640e",
   "metadata": {
    "deletable": false,
    "editable": false
   },
   "source": [
    "***\n",
    "\n"
   ]
  },
  {
   "cell_type": "markdown",
   "id": "4a832d86-43cb-4cfe-a116-910d0b5762d7",
   "metadata": {
    "deletable": false,
    "editable": false
   },
   "source": [
    "✏️ **Lösung 8:** Wir wissen bereits, wie viele Tokens in unserem DataFrame vorkommen, nämlich 386.510. Find heraus, wie viele einzigartige Tokens, also Types (vgl. Notebook \"Funktionen und Methoden Teil 2\") es gibt."
   ]
  },
  {
   "cell_type": "code",
   "execution_count": null,
   "id": "41fd12a9-ebc2-49b0-bbf7-091913dbb227",
   "metadata": {
    "tags": []
   },
   "outputs": [],
   "source": [
    "len(songkorpus[\"Token\"].unique()) #Anwenden der Methode 'unique' auf die Spalte \"Token\" und printen der Länge "
   ]
  },
  {
   "cell_type": "markdown",
   "id": "a3393570-afed-4a20-a591-d081a4452a6a",
   "metadata": {
    "deletable": false,
    "editable": false
   },
   "source": [
    "<br><br>\n",
    "***\n",
    "<table>\n",
    "      <tr>\n",
    "        <td>\n",
    "            <img src=\"../../3_Dateien/Lizenz/CC-BY-SA.png\" width=\"400\">\n",
    "        </td> \n",
    "        <td>\n",
    "            <p>Dieses Notebook sowie sämtliche weiteren <a href=\"https://github.com/yannickfrommherz/exdimed-student/tree/main\">Materialien zum Programmierenlernen für Geistes- und Sozialwissenschaftler:innen</a> sind im Rahmen des Projekts <i>Experimentierraum Digitale Medienkompetenz</i> als Teil von <a href=\"https://tu-dresden.de/gsw/virtuos/\">virTUos</a> entstanden. Erstellt wurden sie von Yannick Frommherz unter Mitarbeit von Anne Josephine Matz. Sie stehen als Open Educational Resource nach <a href=\"https://creativecommons.org/licenses/by-sa/4.0/\">CC BY SA</a> zur freien Verfügung.\n",
    "        </td>\n",
    "      </tr>\n",
    "</table>"
   ]
  }
 ],
 "metadata": {
  "kernelspec": {
   "display_name": "Python 3 (ipykernel)",
   "language": "python",
   "name": "python3"
  },
  "language_info": {
   "codemirror_mode": {
    "name": "ipython",
    "version": 3
   },
   "file_extension": ".py",
   "mimetype": "text/x-python",
   "name": "python",
   "nbconvert_exporter": "python",
   "pygments_lexer": "ipython3",
   "version": "3.11.5"
  }
 },
 "nbformat": 4,
 "nbformat_minor": 5
}