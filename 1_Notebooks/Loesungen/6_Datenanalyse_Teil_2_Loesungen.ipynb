{
 "cells": [
  {
   "cell_type": "markdown",
   "id": "d1d9baad-a423-4ae2-a7bf-d2b73f848ffc",
   "metadata": {
    "deletable": false,
    "editable": false
   },
   "source": [
    "# Datenanalyse Teil 2 (Lösungen)\n",
    "\n",
    "☝️ Beachte: Es gibt beim Programmieren fast immer verschiedene Lösungswege. Deine Lösung mag anders aussehen, aber dennoch zum gewünschten Resultat führen. Das richtige Resultat ist das Wichtigste. \n",
    "\n",
    "⚠️ Führ folgenden Code aus, bevor Du einzelne Lösungen ausführst. Im Notebook \"Datenanalyse\" sortieren wir das DataFrame zu einem bestimmten Zeitpunkt. Diese Sortierung nehmen wir im Lösungsnotebook nicht vor, weswegen die Reihenfolge der Zeilen ab einem gewissen Punkt abweicht. Dies ist nicht weiter schlimm und wird bloß erwähnt, dass Du Dich nicht wunderst, warum die Daten zwischen den beiden Notebooks vermeintlich anders ausschauen."
   ]
  },
  {
   "cell_type": "code",
   "execution_count": null,
   "id": "c67d253a-0a7f-483d-8ce1-6b9deff56d7d",
   "metadata": {
    "tags": []
   },
   "outputs": [],
   "source": [
    "import pandas as pd\n",
    "\n",
    "#Achtung: anderer Pfad als im Notebook, da das Lösungsnotebook in einem anderen Verzeichnis liegt \n",
    "songkorpus = pd.read_csv(\"../../3_Dateien/Songkorpus/songkorpus_token.tsv\", sep=\"\\t\", encoding =\"utf-8\")\n",
    "    \n",
    "#Umbenennen der Spalten\n",
    "songkorpus.columns = [\"Token\", \"Jahr\", \"Häufigkeit\"]\n",
    "\n",
    "#Anfügen einer Spalte für das Jahrzehnt (hier mittels List Comprehension)\n",
    "songkorpus[\"Jahrzehnt\"] = [str(year)[:-1] + \"0\" for year in songkorpus[\"Jahr\"]]\n",
    "\n",
    "#Anfügen einer Spalte für die Länge der Tokens (hier mittels List Comprehension)\n",
    "songkorpus[\"Länge\"] = [len(str(token)) for token in songkorpus[\"Token\"]]"
   ]
  },
  {
   "cell_type": "markdown",
   "id": "ee7a9597-6f3e-47f1-9630-cdd1f25a32d3",
   "metadata": {
    "deletable": false,
    "editable": false
   },
   "source": [
    "\n",
    "✏️ **Lösung 1:** Erstell ein Sub-DataFrame, das nur Tokens beinhaltet, die mindestens 20 Zeichen lang sind."
   ]
  },
  {
   "cell_type": "code",
   "execution_count": null,
   "id": "9fe22d34-73ee-43a6-9023-6373280b5b22",
   "metadata": {
    "tags": []
   },
   "outputs": [],
   "source": [
    "#Wir erstellen ein neues DataFrame 'long_words', das nur die Zeilen aus dem DataFrame 'songkorpus' enthält, bei denen der Wert in der Spalte 'Länge' größer oder gleich 20 ist.\n",
    "long_words = songkorpus[songkorpus[\"Länge\"] >= 20]\n",
    "long_words"
   ]
  },
  {
   "cell_type": "markdown",
   "id": "a662233c-4cb7-4ada-a27a-2ea3a752d705",
   "metadata": {
    "deletable": false,
    "editable": false
   },
   "source": [
    "***\n",
    "\n",
    "✏️ **Lösung 2:** Erstell das gleiche Sub-DataFrame wie in Übung 1 (also eines, das nur Tokens beinhaltet, die mindestes 20 Zeichen lang sind), allerdings ohne dabei die Spalte \"Länge\" zu bemühen. Du kannst dazu eine Methode verwenden, die auch bei normalen strings funktioniert. Stell sicher, dass die Ergebnisse der beiden Übungen identisch sind."
   ]
  },
  {
   "cell_type": "code",
   "execution_count": null,
   "id": "6e1a05b6-06df-463b-b2ab-e74ee9b922fb",
   "metadata": {
    "tags": []
   },
   "outputs": [],
   "source": [
    "#Anwendung der Methode 'len' (Wichtig: 'str' muss vorangestellt werden) auf die Spalte 'Token'\n",
    "long_words_2 = songkorpus[songkorpus[\"Token\"].str.len() >= 20]\n",
    "\n",
    "#Überprüfen, ob die beiden Ergebnisse identisch sind:\n",
    "\n",
    "#Unsichere Methode, da ja in den Zeilen andere Werte stehen könnten:\n",
    "print(len(long_words_2) == len(long_words), \"\\n\")\n",
    "\n",
    "#Sichere Methode, da wir erst sämtliche Werte vergleichen und dann 'True' bzw. 'False' auszählen\n",
    "same_values = long_words_2 == long_words\n",
    "print(same_values.value_counts(), \"\\n\") #Es kommt nur jeweils 'True' vor, also sind die beiden Ergebnisse identisch\n",
    "\n",
    "#'Pandas' bietet dafür auch eine Methode, nämlich 'equals()':\n",
    "long_words_2.equals(long_words)"
   ]
  },
  {
   "cell_type": "markdown",
   "id": "bbb2a2f4-d8dd-4ef1-997a-17b3d8e47982",
   "metadata": {
    "deletable": false,
    "editable": false
   },
   "source": [
    "*** \n",
    "\n",
    "✏️ **Lösung 3:** Oben haben wir die Spalte \"Jahrzehnt\" basierend auf den Jahreszahlen mithilfe eines ```for```-Loops geschaffen. Geh abermals von der Spalte \"Jahr\" aus, um eine neue Spalte \"Jahrzehnt_ohne_Loop\" zu schaffen, allerdings – wie der Name verrät – ohne dafür einen Loop, auch nicht in Form einer List Comprehension, zu benutzen. Mit anderen Worten: Du sollst ```pandas```-Syntax dafür einsetzen. Wenn Dein Code stimmt, ergibt die bereits geschriebene (derzeit auskommentierte) Zeile ```True```."
   ]
  },
  {
   "cell_type": "code",
   "execution_count": null,
   "id": "fbf80545-8682-4dc3-b8a7-57391a94234f",
   "metadata": {
    "tags": []
   },
   "outputs": [],
   "source": [
    "#Wir greifen auf die Spalte 'Jahr' zu und wenden auf diese mehrere Methoden an:\n",
    "songkorpus[\"Jahrzehnt_ohne_Loop\"] = songkorpus[\"Jahr\"].astype(str).str.slice(0,-1) + \"0\"\n",
    "#Erklärungen zu den verwendeten Methoden:\n",
    "#'astype' casted in einen string\n",
    "#'slice' (mit vorangestelltem 'str') übergeben wir den Start- und Endindex (Achtung: runde Klammern), slicen also vom ersten Element bis zum vorletzten\n",
    "#anschließend fügen wir eine null an.\n",
    "\n",
    "#Nutzung der Methode 'equals', um die beiden Spalten zu vergleichen\n",
    "print(songkorpus[\"Jahrzehnt\"].equals(songkorpus[\"Jahrzehnt_ohne_Loop\"]))\n",
    "\n",
    "songkorpus"
   ]
  },
  {
   "cell_type": "markdown",
   "id": "6b83523d-d26d-41b3-9912-171f2a17a742",
   "metadata": {
    "deletable": false,
    "editable": false
   },
   "source": [
    "***\n",
    "\n",
    "✏️ **Lösung 4:** Bearbeite die Werte in der Spalte \"Token\" so, dass jedes Wort, das aus genau fünf Buchstaben besteht, großgeschrieben wird. Einfach weil wir's können! 😉"
   ]
  },
  {
   "cell_type": "code",
   "execution_count": null,
   "id": "1c91fd0f-cb8d-45a1-8735-d4f90cf9da17",
   "metadata": {
    "tags": []
   },
   "outputs": [],
   "source": [
    "#Importieren von 'numpy'\n",
    "import numpy as np \n",
    "\n",
    "songkorpus[\"Token\"] = np.where(songkorpus[\"Länge\"] == 5, songkorpus[\"Token\"].str.upper(), songkorpus[\"Token\"])\n",
    "'''Erklärung: 'np.where' fordert drei Argumente. Zuerst eine Bedingung, als zweites eine Anweisung, die ausgeführt wird, \n",
    "wenn die Bedingung wahr ist und als drittes eine Anweisung, die ausgeführt wird, wenn die Bedingung falsch ist.\n",
    "\n",
    "Konkret: Wenn der jeweilige Wert der Spalte 'Länge' fünf ist, wird die als zweites Argument übergebene Anweisung ausgeführt: \n",
    "Das Element in der Spalte 'Token' wird großgeschrieben. Wenn nicht, wird die als drittes Argument übergebene Anweisung\n",
    "ausgeführt: Das Element in der Spalte 'Token' wird unverändert gelassen.'''\n",
    "\n",
    "songkorpus"
   ]
  },
  {
   "cell_type": "markdown",
   "id": "974a5c7a-6992-446b-8ea8-20fdb7191a2a",
   "metadata": {
    "deletable": false,
    "editable": false
   },
   "source": [
    "***\n",
    "\n",
    "✏️ **Lösung 5:** Caste sämtliche Werte in `songkorpus` in strings."
   ]
  },
  {
   "cell_type": "code",
   "execution_count": null,
   "id": "c630dc78-259c-486f-b224-6f60b0d0e97a",
   "metadata": {
    "tags": []
   },
   "outputs": [],
   "source": [
    "#'applymap' wendet die in Klammern übergegebene Funktion auf das gesamte DataFrame an\n",
    "songkorpus = songkorpus.applymap(str) #'str' ist ja auch eine Funktion!\n",
    "\n",
    "#Alternative\n",
    "#songkorpus = songkorpus.astype(str)\n",
    "print(type(songkorpus.loc[0][\"Jahrzehnt_ohne_Loop\"])) #Überprüfung an einem bestimmten Wert"
   ]
  },
  {
   "cell_type": "markdown",
   "id": "3591d9ad-95c9-4b8c-8b12-ca5008c8b441",
   "metadata": {
    "deletable": false,
    "editable": false
   },
   "source": [
    "***\n",
    "\n",
    "🔧 **Anwendungsfall (komplette Lösung):** "
   ]
  },
  {
   "cell_type": "code",
   "execution_count": null,
   "id": "3a576e9d-8c61-423a-9bc0-a9f065d42869",
   "metadata": {
    "tags": []
   },
   "outputs": [],
   "source": [
    "#Achtung: anderer Pfad als im Notebook, da das Lösungsnotebook in einem anderen Verzeichnis liegt \n",
    "songkorpus = pd.read_csv(\"../../3_Dateien/Songkorpus/songkorpus_token.tsv\", sep=\"\\t\") \n",
    "    \n",
    "songkorpus.columns = [\"Token\", \"Jahr\", \"Häufigkeit\"] #Spalten umbenennen\n",
    "\n",
    "#Neue Spalte für relative Häufigkeiten schaffen, indem absolute Häufigkeiten durch aufsummierte Häufigkeit pro Jahr geteilt werden (genaue Erklärung s. Schritt-für-Schritt-Anleitung)\n",
    "total_freq_per_year = songkorpus.groupby([\"Jahr\"])[\"Häufigkeit\"].sum()\n",
    "songkorpus[\"Relative Häufigkeit\"] = songkorpus[\"Häufigkeit\"] / songkorpus[\"Jahr\"].replace(total_freq_per_year) \n",
    "\n",
    "import matplotlib.pyplot as plt\n",
    "\n",
    "#Abfragen der zu plottenden Wörter\n",
    "words = input(\"Welche Wörter sollen geplotted werden? Bsp.: 'ich, du'.\").split(\",\")\n",
    "words = [word.strip() for word in words] #Entfernen von etwaigem whitespace bei den zu plottenden Wörtern\n",
    "\n",
    "#Iterieren über die zu plottenden Wörter\n",
    "for word in words:\n",
    "    #Schaffen eines Sub-DataFrame über Filter\n",
    "    word_df = songkorpus[songkorpus[\"Token\"] == word]\n",
    "    #Sortieren des Sub-DataFrame nach der Spalte \"Jahr\" und Zurücksetzen des Index\n",
    "    word_df = word_df.sort_values(by=\"Jahr\", ascending=True).reset_index()\n",
    "    #Definieren von x und y, \"Jahr\" soll auf x-Achse geplotted werden, \"Relative Häufigkeit\" auf y-Achse\n",
    "    x = word_df[\"Jahr\"]\n",
    "    y = word_df[\"Relative Häufigkeit\"]\n",
    "    #Eigentliches Plotten\n",
    "    plt.plot(x, y, 'o-')\n",
    "\n",
    "#Zusätzliches Verfeinern und Beschriften des Plots\n",
    "plt.title(f\"Wortverlaufskurve für {', '.join([word for word in words])}\")\n",
    "plt.xlabel(\"Jahr\")\n",
    "plt.ylabel(\"Relative Häufigkeit\")\n",
    "plt.xlim(1967, 2023)\n",
    "plt.legend(words, loc=\"best\")"
   ]
  },
  {
   "cell_type": "markdown",
   "id": "2cdae0a9-9d27-45e2-ae07-877661ded407",
   "metadata": {
    "deletable": false,
    "editable": false
   },
   "source": [
    "***\n",
    "\n",
    "🔧 **Anwendungsfall (Schritt-für-Schritt-Lösung):**\n",
    "\n",
    "1. Um sicherzugehen, dass wir wirklich mit den originalen Daten arbeiten, lies die Datei \"songkorpus_token.tsv\" abermals ein. "
   ]
  },
  {
   "cell_type": "code",
   "execution_count": null,
   "id": "f35473fc-a5b8-4173-9cbe-bfa26af959ee",
   "metadata": {
    "tags": []
   },
   "outputs": [],
   "source": [
    "#Achtung: anderer Pfad als im Notebook, da das Lösungsnotebook in einem anderen Verzeichnis liegt \n",
    "songkorpus = pd.read_csv(\"../../3_Dateien/Songkorpus/songkorpus_token.tsv\", sep=\"\\t\") "
   ]
  },
  {
   "cell_type": "markdown",
   "id": "19782675-b5ab-406c-8a2d-f0fbf9eacc0f",
   "metadata": {
    "deletable": false,
    "editable": false
   },
   "source": [
    "2. Benenn die Spalten in \"Token\", \"Jahr\" und \"Häufigkeit\" um."
   ]
  },
  {
   "cell_type": "code",
   "execution_count": null,
   "id": "a0922a06-746f-4e51-a4d6-fa61bb19d5ba",
   "metadata": {
    "tags": []
   },
   "outputs": [],
   "source": [
    "songkorpus.columns = [\"Token\", \"Jahr\", \"Häufigkeit\"]"
   ]
  },
  {
   "cell_type": "markdown",
   "id": "00b19ede-8004-4a11-97ac-d4e587ad538b",
   "metadata": {
    "deletable": false,
    "editable": false
   },
   "source": [
    "3. Im DataFrame verfügen wir bislang nur über absolute Häufigkeiten. Um die Werte zwischen einzelnen Jahren besser vergleichbar zu machen, wollen wir aber relative Häufigkeiten für die Visualisierung verwenden. Schaff dazu eine Spalte \"Relative Häufigkeit\", die für jedes Token vermerkt, wie häufig es in Relation zur Summe aller Häufigkeiten aller Tokens im gegebenen Jahr vorkommt. Für diese Berechnung brauchst Du jeweils zwei Werte: erstens die absolute Häufigkeit (bereits in der Spalte \"Häufigkeit\") und zweitens die Summe aller Häufigkeiten aller Tokens im gegebenen Jahr.\n"
   ]
  },
  {
   "cell_type": "code",
   "execution_count": null,
   "id": "0ebb5eaf-6eac-48fc-9e2d-f87a0826f639",
   "metadata": {
    "tags": []
   },
   "outputs": [],
   "source": [
    "total_freq_per_year = songkorpus.groupby([\"Jahr\"])[\"Häufigkeit\"].sum()\n",
    "songkorpus[\"Relative Häufigkeit\"] = songkorpus[\"Häufigkeit\"] / songkorpus[\"Jahr\"].replace(total_freq_per_year) "
   ]
  },
  {
   "cell_type": "markdown",
   "id": "2211267b-7aed-42f1-9bcb-cb1ddd96bd66",
   "metadata": {
    "deletable": false,
    "editable": false
   },
   "source": [
    "4. Installier ggf. ```matplotlib``` über das Terminal oder die Eingabeaufforderung und importier anschließend ```matplotlib.pyplot as plt``` (wieder so eine gängige Abkürzung). ```matplotlib``` ist die Bibliothek, die wir zum Visualisieren unserer Daten verwenden. Mithilfe der Funktion ```plot(x, y)``` (denk an den Modulnamen davor) können wir einfach Grafiken produzieren. ```x``` ist dabei eine Liste oder Series an Werten, die auf der x-Achse abgebildet werden sollen und ```y``` eine Liste oder Series derjenigen Werte, die auf der y-Achse dargestellt werden sollen. ```x``` und ```y``` müssen gleich lange sein. Konkret wird der erste Punkt in der Grafik bei den Koordinaten ```x[0]``` und ```y[0]``` eingezeichnet, der zweite bei ```x[1]``` und ```y[1]```, etc. Standardmäßig werden die einzelnen Punkte wie oben zu einem Graphen verbunden. Schau in den Beispieldarstellungen oben, welche Werte wir entlang der x-Achse bzw. entlang der y-Achsen plotten wollen. "
   ]
  },
  {
   "cell_type": "code",
   "execution_count": null,
   "id": "875a38b3-d30f-4a1c-a127-ed6986cf36dd",
   "metadata": {
    "tags": []
   },
   "outputs": [],
   "source": [
    "#'pip(3) install matplotlib' zur Installation von 'matplotlib' via Terminal/Eingabeaufforderung\n",
    "\n",
    "import matplotlib.pyplot as plt"
   ]
  },
  {
   "cell_type": "markdown",
   "id": "3f529adc-9163-441d-825d-d0bba10f69e4",
   "metadata": {
    "deletable": false,
    "editable": false
   },
   "source": [
    "5. Definier eine Liste an Wörtern, die Du visualisieren möchtest. Diesen Schritt kannst Du auch interaktiv umsetzen, sodass Du bei jeder Ausführung aufgefordert wirst, Wörter zur Visualisierung anzugeben."
   ]
  },
  {
   "cell_type": "code",
   "execution_count": null,
   "id": "49fe4a08-d194-41db-83b1-87b83e2934a9",
   "metadata": {
    "tags": []
   },
   "outputs": [],
   "source": [
    "#Statische Definition\n",
    "words = [\"ich\", \"du\", \"er\", \"sie\"]\n",
    "\n",
    "#Interaktive Abfrage\n",
    "#words = input(\"Welche Wörter sollen geplotted werden? Bsp.: 'ich, du'.\").split(\",\")\n",
    "#words = [word.strip() for word in words] #Entfernen von etwaigem whitespace bei den zu plottenden Wörtern"
   ]
  },
  {
   "cell_type": "markdown",
   "id": "4367f496-5520-4002-98c7-7e50f828d11d",
   "metadata": {
    "deletable": false,
    "editable": false
   },
   "source": [
    "6. Plotte nun nacheinander eine Verlaufskurve für jedes Wort auf der Liste. Geh dazu für jedes Wort wie folgt vor:\n",
    "    - Schaff ein Sub-DataFrame, in dem in der Spalte \"Token\" nur das gegebene Wort steht.\n",
    "    - Sortier das Sub-DataFrame aufsteigend nach der Spalte \"Jahr\" und setz den Index anschließend zurück.\n",
    "    - Übergib der ```plot```-Funktion die relevanten Spalten des Sub-DataFrame an Stelle von ```x``` und ```y```. Übergib als drittes Argument den string \"o-\", der den Stil des Graphen (Linie mit Punkten) definiert."
   ]
  },
  {
   "cell_type": "code",
   "execution_count": null,
   "id": "b99b0e1a-04c7-4d63-889f-b03feef27dde",
   "metadata": {
    "tags": []
   },
   "outputs": [],
   "source": [
    "#Iterieren über die zu plottenden Wörter\n",
    "for word in words:\n",
    "    #Schaffen eines Sub-DataFrame über Filter\n",
    "    word_df = songkorpus[songkorpus[\"Token\"] == word]\n",
    "    #Sortieren des Sub-DataFrame nach der Spalte \"Jahr\" und Zurücksetzen des Index\n",
    "    word_df = word_df.sort_values(by=\"Jahr\", ascending=True).reset_index()\n",
    "    #Definieren von x und y, \"Jahr\" soll auf x-Achse geplotted werden, \"Relative Häufigkeit\" auf y-Achse\n",
    "    x = word_df[\"Jahr\"]\n",
    "    y = word_df[\"Relative Häufigkeit\"]\n",
    "    #Eigentliches Plotten\n",
    "    plt.plot(x, y, 'o-')\n",
    "\n",
    "#Zusätzliches Verfeinern und Beschriften des Plots (Schritt 7)\n",
    "plt.title(f\"Wortverlaufskurve für {', '.join([word for word in words])}\")\n",
    "plt.xlabel(\"Jahr\")\n",
    "plt.ylabel(\"Relative Häufigkeit\")\n",
    "plt.xlim(1967, 2023)\n",
    "plt.legend(words, loc=\"best\")"
   ]
  },
  {
   "cell_type": "markdown",
   "id": "acd5f761-79ee-41ba-9ab7-a136be56a7db",
   "metadata": {
    "deletable": false,
    "editable": false
   },
   "source": [
    "7. Nachdem Du alle Wörter der Liste entsprechend geplotted hast, kannst Du **in derselben Zelle** (aber unter dem Code aus Schritt 6) folgende Funktionen verwenden, um den Plot zu verfeinern:\n",
    "    - ```title```, um einen Titel zu setzen.\n",
    "    - ```xlabel``` und  ```ylabel```, um die Achsen zu beschriften.\n",
    "    - ```xlim```, um der x-Achse Grenzen zu setzen, z.&nbsp;B. von 1969 bis 2022 (dies vereinheitlicht die Plots, da diese sonst automatisch an den Wertebereich der zu plottenden Wörter angepasst wird und der Plot dadurch mitunter anders beschnitten sein kann).\n",
    "    - ```legend```, um eine Legende einzufügen, indem Du der Funktion die Liste mit Wörtern übergibst"
   ]
  },
  {
   "cell_type": "markdown",
   "id": "9695a15a-a2cf-46d2-a1e6-8d10f3764b54",
   "metadata": {
    "deletable": false,
    "editable": false
   },
   "source": [
    "\n",
    "***\n",
    "<table>\n",
    "      <tr>\n",
    "        <td>\n",
    "            <img src=\"../../3_Dateien/Lizenz/CC-BY-SA.png\" width=\"400\">\n",
    "        </td> \n",
    "        <td>\n",
    "            <p>Dieses Notebook sowie sämtliche weiteren <a href=\"https://github.com/yannickfrommherz/exdimed-student/tree/main\">Materialien zum Programmierenlernen für Geistes- und Sozialwissenschaftler:innen</a> sind im Rahmen des Projekts <i>Experimentierraum Digitale Medienkompetenz</i> als Teil von <a href=\"https://tu-dresden.de/gsw/virtuos/\">virTUos</a> entstanden. Erstellt wurden sie von Yannick Frommherz unter Mitarbeit von Anne Josephine Matz. Sie stehen als Open Educational Resource nach <a href=\"https://creativecommons.org/licenses/by-sa/4.0/\">CC BY SA</a> zur freien Verfügung. Für Feedback und bei Fragen nutz bitte das <a href=\"https://forms.gle/VsYJgy4bZTSqKioA7\">Kontaktformular</a>.\n",
    "        </td>\n",
    "      </tr>\n",
    "</table>"
   ]
  }
 ],
 "metadata": {
  "kernelspec": {
   "display_name": "Python 3 (ipykernel)",
   "language": "python",
   "name": "python3"
  },
  "language_info": {
   "codemirror_mode": {
    "name": "ipython",
    "version": 3
   },
   "file_extension": ".py",
   "mimetype": "text/x-python",
   "name": "python",
   "nbconvert_exporter": "python",
   "pygments_lexer": "ipython3",
   "version": "3.11.5"
  }
 },
 "nbformat": 4,
 "nbformat_minor": 5
}