{
 "cells": [
  {
   "cell_type": "markdown",
   "id": "bf494735-4bdf-4927-984c-22e829fe2eab",
   "metadata": {
    "deletable": false,
    "editable": false
   },
   "source": [
    "# Datentypen (Lösungen)\n",
    "\n",
    "☝️ Beachte: Es gibt beim Programmieren fast immer verschiedene Lösungswege. Deine Lösung mag anders aussehen, aber dennoch zum gewünschten Resultat führen. Das richtige Resultat ist das Wichtigste. "
   ]
  },
  {
   "cell_type": "markdown",
   "id": "cb1f6e19-c436-4714-b847-7e6d7c6367c3",
   "metadata": {
    "deletable": false,
    "editable": false
   },
   "source": [
    "✏️ **Lösung 1:** Erstell eine Liste mit allen Monaten des Jahres, allerdings gruppiert nach meteorologischen Jahreszeiten, also *März, April, Mai* zusammen in einer Liste für Frühlingsmonate, etc. Am Ende solltest Du also vier Listen für die vier Jahreszeiten haben, die wiederum Elemente einer einzigen Liste sind. Eine Variable namens ```seasons``` soll auf diese Liste zeigen."
   ]
  },
  {
   "cell_type": "code",
   "execution_count": null,
   "id": "f8df4765-4309-4e4a-999a-d94160a6ec4b",
   "metadata": {
    "tags": []
   },
   "outputs": [],
   "source": [
    "#Erstellen von vier Listen, je eine pro Jahreszeit\n",
    "spring = [\"März\", \"April\", \"Mai\"]\n",
    "summer = [\"Juni\", \"Juli\", \"August\"]\n",
    "fall = [\"September\", \"Oktober\", \"November\"]\n",
    "winter = [\"Dezember\", \"Januar\", \"Februar\"]\n",
    "\n",
    "seasons = [spring, summer, fall, winter] #Definieren einer neuen Liste, welche die vier zuvor erstellten Listen als Elemente beinhaltet\n",
    "print(seasons)"
   ]
  },
  {
   "cell_type": "markdown",
   "id": "a9dbd361-8943-4333-a9d5-17595de1dcb3",
   "metadata": {
    "deletable": false,
    "editable": false
   },
   "source": [
    "***\n",
    "✏️ **Lösung 2:** Bau auf der Jahreszeitenliste der vorherigen Übung auf und erstell ein dictionary mit den Jahreszeiten als Schlüssel und einer Liste mit den jeweiligen drei Monaten als Werte. Verwend wieder (d. h. *überschreib*) die Variable ```seasons```, um das dictionary zu referenzieren. Pass auf, dass Du jeweils die richtigen Klammern verwendest."
   ]
  },
  {
   "cell_type": "code",
   "execution_count": null,
   "id": "6852a912-64eb-4b59-9995-083e452ce725",
   "metadata": {
    "tags": []
   },
   "outputs": [],
   "source": [
    "#Erstellen eines dictionary, das für jeden der vier Schlüssel die jeweilige, oben definierte Liste als Wert enthält\n",
    "seasons = {\"spring\": spring, \"summer\": summer, \"fall\": fall, \"winter\": winter}\n",
    "print(seasons[\"spring\"]) #Ausgabe der Liste der Frühlingsmonate, indem der Schlüssel 'spring' vom dictionary angesprochen wird"
   ]
  },
  {
   "cell_type": "markdown",
   "id": "0c42dc48-9181-46ae-bd83-a05849b974be",
   "metadata": {
    "deletable": false,
    "editable": false
   },
   "source": [
    "***\n",
    "\n",
    "✏️ **Lösung 3:** Stell Dir vor, Du und Dein:e Partner:in haben, ohne Euch zu verständigen, jeweils eine Einkaufsliste angefertigt. Zwischen den Einkaufslisten gibt es viele Übereinstimmungen, z.&nbsp;B. habt ihr beide \"Hafermilch\" aufgeschrieben. Andere Lebensmittel finden sich nur auf jeweils einer der beiden Listen. Definier zwei Listen mit teils gleichen, teils unterschiedlichen Lebensmitteln und versuch anschließend, eine Einkaufsliste daraus zu machen, die keine Lebensmittel doppelt enthält. Euch fehlt zwar Hafermilch, aber ihr braucht nicht die doppelte Menge, nur weil beide \"Hafermilch\" aufgeschrieben haben. Lass Dir dann die fertige Einkaufsliste ausgeben."
   ]
  },
  {
   "cell_type": "code",
   "execution_count": null,
   "id": "8670da8c-b902-498b-8a5b-3db176f20053",
   "metadata": {
    "tags": []
   },
   "outputs": [],
   "source": [
    "hislist = [\"Pasta\", \"Hafermilch\", \"Marmelade\", \"Brötchen\"]\n",
    "herlist = [\"Brokkoli\", \"Hafermilch\", \"Brot\", \"Marmelade\"]\n",
    "\n",
    "theirlist = hislist + herlist #Zusammenfügen der beiden Listen mit dem +-Operator\n",
    "theirset = set(theirlist) #Casten in eine Menge, sodass keine Elemente doppelt vorkommen \n",
    "print(theirset) #Ausgabe der Menge (deshalb steht der Output in geschweiften Klammern)\n",
    "\n",
    "#Auch möglich ohne Anlegen einer dritten Liste:\n",
    "#theirset = set(hislist + herlist)\n",
    "#print(theirset)"
   ]
  },
  {
   "cell_type": "markdown",
   "id": "8e48c1b3-bd51-4d5d-96c9-100db02c09e6",
   "metadata": {
    "deletable": false,
    "editable": false
   },
   "source": [
    "***\n",
    "✏️ **Lösung 4:** Kombinier Indexing mit einer weiteren bereits erlernten Technik, um aus den einzelnen Elementen in ```list_of_words1``` und  ```list_of_words2``` sowie aus ```conjunction``` einen string zu generieren, der natürlichsprachlich Sinn macht. Denk dabei auch an Leerschläge zwischen den einzelnen Wörtern. Definier für den fertigen string eine neue Variable und lass sie Dir am Ende ausgeben."
   ]
  },
  {
   "cell_type": "code",
   "execution_count": null,
   "id": "6b2cf7f0-54d2-49aa-b100-10b5eb876cea",
   "metadata": {
    "tags": []
   },
   "outputs": [],
   "source": [
    "list_of_words1 = [\"Satz\", \"daraus\", \"Mach\", \"bitte\", \"sinnvollen\", \"einen\"]\n",
    "conjunction = \"und\"\n",
    "list_of_words2 = [\"Ende\", \"ausgeben.\", \"lass\", \"am\", \"Dir\", \"ihn\"]\n",
    "\n",
    "\"\"\"Elemente der drei Listen werden mittels Indexing in die richtige Reihenfolge gebracht. Beachte: Das erste Listenelement\n",
    "besitzt immer den Index [0]. Negatives Indexing ist außerdem sehr effektiv, um auf die hinteren Listenelemente zuzugreifen.\"\"\"\n",
    "meaningful = list_of_words1[2] + \" \" + list_of_words1[3] + \" \" + list_of_words1[-1] + \" \" + list_of_words1[-2] + \" \" + list_of_words1[0] + \" \" + list_of_words1[1] + \" \" + conjunction + \" \" + list_of_words2[2] + \" \" + list_of_words2[-1] + \" \" + list_of_words2[-2] + \" \" + list_of_words2[3] + \" \" + list_of_words2[0] + \" \" + list_of_words2[1]\n",
    "print(meaningful)"
   ]
  },
  {
   "cell_type": "markdown",
   "id": "ba4f653d-36fc-4e23-b1e4-d96cfac14c84",
   "metadata": {
    "deletable": false,
    "editable": false
   },
   "source": [
    "***\n",
    "\n",
    "✏️ **Lösung 5:** Die Wörter in ```words_for_sentence``` ergeben in der abgespeicherten Reihenfolge keinen sinnvollen Satz. Überleg Dir erst, in welcher Reihenfolge die Wörter einen Sinn machen, und dann, wie Du mithilfe von Slicing (und nicht Indexing! 😉) die Wörter in die richtige Reihenfolge bringen kannst. \n",
    "\n",
    "Um von einer Liste zu einem string zu kommen, funktioniert der ```str```-Castingoperator leider nicht. Verwend stattdessen die bereits etwas fortgeschrittenere Technik ```join```, die folgende Syntax aufweist: \n",
    "\n",
    "```\" \".join(list)``` \n",
    "\n",
    "```join``` konkateniert hier jedes Element in ```list``` mit einem Leerschlag dazwischen (also mit dem, was innerhalb der Anführungszeichen vor dem Punkt angegeben ist).\n",
    "\n",
    "Zur Veranschaulichung von ```join``` folgt ein Beispiel: \n",
    "\n",
    "```sentence = \" \".join([\"Mach\", \"einen\", \"Satz\", \"aus\", \"mir.\"])```\n",
    "\n",
    "In die runden Klammern von ```join``` setzen wir eine Liste. ```join``` verbindet nun alle Elemente dieser Liste durch einen Leerschlag zu insgesamt einer Zeichenkette. Diese wird ```sentence``` zugewiesen. ```sentence``` referenziert also den string \"Mach einen Satz aus mir.\""
   ]
  },
  {
   "cell_type": "code",
   "execution_count": null,
   "id": "773343d8-d6c9-4896-88d5-228f30a6bb35",
   "metadata": {
    "tags": []
   },
   "outputs": [],
   "source": [
    "words_for_sentence = [\"Füge\", \"Satz\", \"bitte\", \"zusammen\", \"diesen\", \".\"]\n",
    "wordlist = words_for_sentence[::2] + words_for_sentence[1::2] #Slicing mit step=2, aber mit jeweils unterschiedlichen Startindizes\n",
    "sentence = \" \".join(wordlist) #'join' konkateniert die einzelnen Elemente auf 'wordlist' mit einem Leerschlag dazwischen\n",
    "print(sentence)"
   ]
  },
  {
   "cell_type": "markdown",
   "id": "cf774c57-000f-4722-a340-15ccd2b0721f",
   "metadata": {
    "deletable": false,
    "editable": false
   },
   "source": [
    "***\n",
    "\n",
    "✏️ **Lösung 6:** Orientier Dich an dem Beispiel oben und benutz eine ```for```-Schleife, um über die Liste ```wild_mix``` von oben zu iterieren (stell zuvor sicher, dass die Variable noch initialisiert ist, indem Du die entsprechende Zelle noch einmal ausführst). Lass Dir für jedes Element den Datentyp ausgeben. "
   ]
  },
  {
   "cell_type": "code",
   "execution_count": null,
   "id": "8db57b05-8eef-4625-a671-86bf8746bc4d",
   "metadata": {},
   "outputs": [],
   "source": [
    "wild_mix = [\"Montag\", 1, 20.0, {\"Friday\": \"Freitag\", \"Saturday\": [\"Samstag\", \"Sonnabend\"]}]\n",
    "\n",
    "for element in wild_mix: #Iterieren über jedes einzele Element der Liste 'wild_mix' (mehr dazu im Notebook \"Kontrollstrukturen\")\n",
    "    print(type(element)) #Ausgabe des Datentyps für jedes Element \n",
    "\n",
    "\"\"\"Hinweis: Das dictionary wird bei der Interation nicht weiter \"auseinandergenommen\", da es sich als Ganzes um nur ein \n",
    "Element der Liste handelt, welches mit geschweiften Klammern beginnt und endet.\"\"\""
   ]
  },
  {
   "cell_type": "markdown",
   "id": "24598b25-bacc-4e3f-a8ab-512922f4ea55",
   "metadata": {
    "deletable": false,
    "editable": false
   },
   "source": [
    "\n",
    "***\n",
    "<table>\n",
    "      <tr>\n",
    "        <td>\n",
    "            <img src=\"../../3_Dateien/Lizenz/CC-BY-SA.png\" width=\"400\">\n",
    "        </td> \n",
    "        <td>\n",
    "            <p>Dieses Notebook sowie sämtliche weiteren <a href=\"https://github.com/yannickfrommherz/exdimed-student/tree/main\">Materialien zum Programmierenlernen für Geistes- und Sozialwissenschaftler:innen</a> sind im Rahmen des Projekts <i>Experimentierraum Digitale Medienkompetenz</i> als Teil von <a href=\"https://tu-dresden.de/gsw/virtuos/\">virTUos</a> entstanden. Erstellt wurden sie von Yannick Frommherz unter Mitarbeit von Anne Josephine Matz. Sie stehen als Open Educational Resource nach <a href=\"https://creativecommons.org/licenses/by-sa/4.0/\">CC BY SA</a> zur freien Verfügung. Für Feedback und bei Fragen nutz bitte das <a href=\"https://forms.gle/VsYJgy4bZTSqKioA7\">Kontaktformular</a>.\n",
    "        </td>\n",
    "      </tr>\n",
    "</table>"
   ]
  }
 ],
 "metadata": {
  "kernelspec": {
   "display_name": "Python 3 (ipykernel)",
   "language": "python",
   "name": "python3"
  },
  "language_info": {
   "codemirror_mode": {
    "name": "ipython",
    "version": 3
   },
   "file_extension": ".py",
   "mimetype": "text/x-python",
   "name": "python",
   "nbconvert_exporter": "python",
   "pygments_lexer": "ipython3",
   "version": "3.11.5"
  }
 },
 "nbformat": 4,
 "nbformat_minor": 5
}