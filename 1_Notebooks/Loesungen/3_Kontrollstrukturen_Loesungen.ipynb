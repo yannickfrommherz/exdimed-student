{
 "cells": [
  {
   "cell_type": "markdown",
   "id": "267695f0-a378-4e67-80cc-ad3955154892",
   "metadata": {
    "deletable": false,
    "editable": false
   },
   "source": [
    "# Kontrollstrukturen (Lösungen)\n",
    "\n",
    "☝️ Beachte: Es gibt beim Programmieren fast immer verschiedene Lösungswege. Deine Lösung mag anders aussehen, aber dennoch zum gewünschten Resultat führen. Das richtige Resultat ist das Wichtigste. "
   ]
  },
  {
   "cell_type": "markdown",
   "id": "321ab6a3-f254-4e16-9878-d624a1c1aeeb",
   "metadata": {
    "deletable": false,
    "editable": false
   },
   "source": [
    "✏️ **Lösung 1:** Simplifizier den folgenden Code auf zwei verschiedene Arten, einmal unter Einsatz des logischen Operators ```and```, einmal mithilfe von ```or```. Das Resultat Deiner Simplifizierung sollte sein, dass der Code nur noch um eine Ebene eingerückt ist. "
   ]
  },
  {
   "cell_type": "code",
   "execution_count": null,
   "id": "794747b5-b534-4d61-8ed7-0f633a943338",
   "metadata": {},
   "outputs": [],
   "source": [
    "#Lösungsweg mit \"and\"\n",
    "age = 28\n",
    "\n",
    "if age > 18 and age <= 65:\n",
    "    print(\"Mensch arbeitet vermutlich\")\n",
    "else: \n",
    "    print(\"Mensch arbeitet vermutlich nicht\")\n",
    "    \n",
    "#Lösungsweg mit \"or\"\n",
    "#Beachte \"kleiner gleich\" statt \"kleiner\" bzw. \"größer\" statt \"größer gleich\" verglichen mit oben\n",
    "if age <= 18 or age > 65:\n",
    "    print(\"Mensch arbeitet vermutlich nicht\")\n",
    "else:\n",
    "    print(\"Mensch arbeitet vermutlich\")"
   ]
  },
  {
   "cell_type": "markdown",
   "id": "c5fcabd6-57bd-489d-b3a4-be781ff7919f",
   "metadata": {
    "deletable": false,
    "editable": false
   },
   "source": [
    "***\n",
    "\n",
    "✏️ **Lösung 2:** Mit ```height``` soll die Körpergröße eines erwachsenen Menschen in Zentimetern referenziert werden. Schreib einen Code, der je nachdem, wie groß ```height``` ist, auf sehr brachiale Art über die Körpergröße Folgendes verlauten lässt:\n",
    "\n",
    "- ```\"Ein großer Mensch\"```, wenn ```height``` größer als 180cm ist\n",
    "- ```\"Ein durchschnittlich großer Mensch\"```, wenn ```height``` zwischen 170cm und 180cm ist\n",
    "- ```\"Ein kleiner Mensch\"```, wenn ```height``` kleiner als 170cm ist\n",
    "\n",
    "Der Code soll zudem überprüfen, ob die Zahl in ```height``` sinnvoll ist. Sie muss dafür mindestens dreistellig sein, darf aber auch nicht mehr als 200 betragen. Ist dies nicht der Fall, soll eine Fehlermeldung zurückgegeben werden. \n",
    "\n",
    "Wenn Du fertig bist, probier Deinen Code aus, indem Du verschiedene Werte bei ```height``` einsetzt. "
   ]
  },
  {
   "cell_type": "code",
   "execution_count": null,
   "id": "6a3749ff-a7ef-4011-b0ae-f9b09647245e",
   "metadata": {},
   "outputs": [],
   "source": [
    "height = 182\n",
    "\n",
    "if height > 99 and height < 200:\n",
    "    #Wir beginnen von oben und überprüfen, ob 'height' größer als 180 ist.\n",
    "    if height > 180:\n",
    "        print(\"groß\")\n",
    "    #Wenn nicht, reicht die Überprüfung, ob 'height' größer gleich 170 ist (wenn 'height' größer als 180 wäre, wäre es bereits durch if-Statement oben \"abgefangen\" worden).\n",
    "    elif height >= 170:\n",
    "        print(\"durchschnittlich\")\n",
    "    #In allen anderen Fällen muss \"klein\" eintreten ('height' größer als 180 oder größer gleich 170 wäre ja bereits \"abgefangen\" worden).\n",
    "    else:\n",
    "        print(\"klein\")\n",
    "else:\n",
    "    print(\"Tut mir leid, damit kann ich nicht umgehen.\")"
   ]
  },
  {
   "cell_type": "markdown",
   "id": "1ceae836-ada9-4111-8347-09d90229f979",
   "metadata": {
    "deletable": false,
    "editable": false
   },
   "source": [
    "***\n",
    "\n",
    "✏️ **Lösung 3:** Im Isländischen setzen sich Nachnamen aus dem Vornamen eines Elternteils (traditionell, aber nicht immer, des Vaters) und der binären Bezeichnung \"son\" bzw. \"dottir\" zusammen (i.&nbsp;d.&nbsp;R. mit Genitiv-S dazwischen). \"Johannsdottir\" ist also z.&nbsp;B. die Tochter von Johann. Lass Dir für jeden Namen auf ```surnames``` ausgeben, ob es sich um eine Person vermutlich isländischer Abstammung handelt, oder nicht. Wenn ja, lass Dir zudem ausgeben, ob es sich aufgrund des Nachnamens um eine Frau oder einen Mann handelt. \n",
    "\n",
    "In der Ausgabe sollte der betreffende Name vorkommen, also z.&nbsp;B. für einen nicht-isländischen Namen: <br> \n",
    "```Mensch Müller kommt vermutlich nicht aus Island.```."
   ]
  },
  {
   "cell_type": "code",
   "execution_count": null,
   "id": "d69eb263-9f6c-4998-870d-dbe849ea87f5",
   "metadata": {},
   "outputs": [],
   "source": [
    "surnames = [\"Jonsdottir\", \"Müller\", \"Johannsson\", \"Einarsdottir\", \"Fischer\", \"Suarez\", \"Johannsdottir\"]\n",
    "\n",
    "for name in surnames:\n",
    "    if name.endswith(\"dottir\") or name.endswith(\"sson\"):\n",
    "        if name.endswith(\"dottir\"):\n",
    "            print(\"Frau\", name, \"ist vermutlich eine Frau aus Island.\")\n",
    "        else:\n",
    "            print(\"Herr\", name, \"ist vermutlich ein Mann aus Island.\")\n",
    "    else:\n",
    "        print(\"Mensch\", name, \"kommt vermutlich nicht aus Island.\")"
   ]
  },
  {
   "cell_type": "markdown",
   "id": "c926f782-c9b8-4d24-a68c-8197b6c42e29",
   "metadata": {
    "deletable": false,
    "editable": false
   },
   "source": [
    "***\n",
    "\n",
    "✏️ **Lösung 4:** In der Zelle unten steht noch einmal der gleiche Code. Modifizier ihn derart, dass bei sechs Teilnehmer:innen Schluss ist. Die Iteration soll abbrechen. Vorher wollen wir aber darüber informiert werden, dass das Spiel bereits voll besetzt ist sowie darüber, wer daran teilnimmt."
   ]
  },
  {
   "cell_type": "code",
   "execution_count": null,
   "id": "e7c89587-61c7-4528-b65e-b47cc8e2ac30",
   "metadata": {},
   "outputs": [],
   "source": [
    "#In diese Zelle kannst Du den Code zur Übung schreiben.\n",
    "\n",
    "participants_pool = [\"Max\", \"Moritz\", \"Janine\", \"Hussein\", \"Fritz\", \"Mia\", \"Marianne\", \"Dolores\"]\n",
    "\n",
    "participants_game = []\n",
    "\n",
    "for name in participants_pool:\n",
    "    if len(participants_game) < 3:\n",
    "        participants_game.append(name)\n",
    "        print(\"Noch nicht genügend Teilnehmer:innen, wir brauchen noch\", 4-len(participants_game), \"😬\")\n",
    "        \n",
    "        #Zur Überprüfung der aktuellen Teilnehmer:innenliste\n",
    "        print(\"Aktuell auf der Liste:\", participants_game, \"\\n\")\n",
    "        \n",
    "        continue\n",
    "    \n",
    "    elif len(participants_game) >= 6:\n",
    "        print(\"Leider ist das Spiel voll. 🥲\")\n",
    "        print(\"Aktuelle Teilnehmer:innen: \", participants_game)\n",
    "        break\n",
    "        \n",
    "    participants_game.append(name)\n",
    "    print(\"Das Spiel läuft 😍\")\n",
    "    \n",
    "    #Zur Überprüfung der aktuellen Teilnehmer:innenliste\n",
    "    print(\"Aktuell auf der Liste:\", participants_game, \"\\n\")"
   ]
  },
  {
   "cell_type": "markdown",
   "id": "eaf5f1d1-ac0d-4221-ae97-da9972ace55b",
   "metadata": {
    "deletable": false,
    "editable": false
   },
   "source": [
    "***\n",
    "\n",
    "🔧 **Anwendungsfall (Lösung):** Deine Aufgabe ist es also, 365 vollständige Daten vom Format \"Wochentag, Tag. Monat Jahr\" auszugeben:\n",
    "\n",
    "```Samstag, 1. Januar 2022``` <br>\n",
    "```Sonntag, 2. Januar 2022``` <br>\n",
    "```Montag, 3. Januar 2022``` <br>\n",
    "\n",
    "Als Ausgangspunkt stehen Dir ein dictionary mit allen Monaten und der jeweiligen Anzahl Tage als Schlüssel-Werte-Paare und ebenfalls eine Liste mit allen Wochentagen zur Verfügung. Wie Du über Listen iterierst, weißt Du ja bereits. Zum Iterieren über dictionaries kannst Du wie oben im Video die ```items```-Methode verwenden (mehr dazu im Notebook \"Funktionen und Methoden Teil 1\"), sie steht Dir ebenfalls bereits im Code zur Verfügung. Die Variablen ```month``` und ```days``` stehen dabei stellvertretend für den Schlüssel (Monatsnamen) und Wert (Anzahl Tage) des jeweiligen Schlüssel-Werte-Paars im dictionary. Nutz diese Variablen im Schleifenkörper, um auf den jeweiligen Schlüssel bzw. Wert zuzugreifen."
   ]
  },
  {
   "cell_type": "code",
   "execution_count": null,
   "id": "01575db2-fca4-44be-a650-b7dbef4e38bd",
   "metadata": {},
   "outputs": [],
   "source": [
    "months = {\"Januar\": 31, \"Februar\": 28, \"März\": 31, \"April\": 30, \"Mai\": 31, \"Juni\": 30, \"Juli\": 31, \"August\": 31, \"September\": 30, \"Oktober\": 31, \"November\": 30, \"Dezember\": 31}\n",
    "weekdays = [\"Montag\", \"Dienstag\", \"Mittwoch\", \"Donnerstag\", \"Freitag\", \"Samstag\", \"Sonntag\"]\n",
    "\n",
    "\n",
    "j = 5\n",
    "for month, days in months.items():\n",
    "    for i in range(days):\n",
    "        print(weekdays[j], \", \", i+1, \". \", month, sep=\"\")\n",
    "        j += 1\n",
    "        if j == 7:\n",
    "            j = 0"
   ]
  }
 ],
 "metadata": {
  "kernelspec": {
   "display_name": "Python 3 (ipykernel)",
   "language": "python",
   "name": "python3"
  },
  "language_info": {
   "codemirror_mode": {
    "name": "ipython",
    "version": 3
   },
   "file_extension": ".py",
   "mimetype": "text/x-python",
   "name": "python",
   "nbconvert_exporter": "python",
   "pygments_lexer": "ipython3",
   "version": "3.11.5"
  }
 },
 "nbformat": 4,
 "nbformat_minor": 5
}