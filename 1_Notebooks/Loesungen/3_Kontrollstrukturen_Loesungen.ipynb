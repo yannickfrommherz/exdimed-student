{
 "cells": [
  {
   "cell_type": "markdown",
   "id": "267695f0-a378-4e67-80cc-ad3955154892",
   "metadata": {
    "deletable": false,
    "editable": false
   },
   "source": [
    "# Kontrollstrukturen (Lösungen)\n",
    "\n",
    "☝️ Beachte: es gibt beim Programmieren fast immer verschiedene Lösungswege. Deine Lösung mag anders aussehen, aber dennoch zum gewünschten Resultat führen. Das richtige Resultat ist das Wichtigste. "
   ]
  },
  {
   "cell_type": "markdown",
   "id": "321ab6a3-f254-4e16-9878-d624a1c1aeeb",
   "metadata": {
    "deletable": false,
    "editable": false
   },
   "source": [
    "✏️ **Lösung 1:** Simplifiziere den folgenden Code auf zwei verschiedene Arten, einmal unter Einsatz des logischen Operators ```and```, einmal mithilfe von ```or```. Das Resultat Deiner Simplifizierung sollte sein, dass der Code nur noch um eine Ebene eingerückt ist. "
   ]
  },
  {
   "cell_type": "code",
   "execution_count": null,
   "id": "794747b5-b534-4d61-8ed7-0f633a943338",
   "metadata": {},
   "outputs": [],
   "source": [
    "#Lösungsweg mit \"and\"\n",
    "age = 28\n",
    "\n",
    "if age > 18 and age <= 65:\n",
    "    print(\"Mensch arbeitet vermutlich\")\n",
    "else: \n",
    "    print(\"Mensch arbeitet vermutlich nicht\")\n",
    "    \n",
    "#Lösungsweg mit \"or\"\n",
    "#beachte \"kleiner gleich\" statt \"kleiner\" bzw. \"größer\" statt \"größer gleich\" verglichen mit oben\n",
    "if age <= 18 or age > 65:\n",
    "    print(\"Mensch arbeitet vermutlich nicht\")\n",
    "else:\n",
    "    print(\"Mensch arbeitet vermutlich\")"
   ]
  },
  {
   "cell_type": "markdown",
   "id": "c5fcabd6-57bd-489d-b3a4-be781ff7919f",
   "metadata": {
    "deletable": false,
    "editable": false
   },
   "source": [
    "***\n",
    "\n",
    "✏️ **Lösung 2:** Mit ```größe``` soll die Körpergröße eines erwachsenen Menschen in Zentimetern referenziert werden. Schreibe einen Code, der je nach dem, wie groß ```größe``` ist, auf sehr brachiale Art über die Körpergröße Folgendes verlauten lässt:\n",
    "\n",
    "- ```\"Ein großer Mensch\"```, wenn ```größe``` größer als 180cm ist\n",
    "- ```\"Ein durchschnittlich großer Mensch\"```, wenn ```größe``` zwischen 170cm und 180cm ist\n",
    "- ```\"Ein kleiner Mensch\"```, wenn ```größe``` kleiner als 170cm ist\n",
    "\n",
    "Der Code soll zudem überprüfen, ob die Zahl in ```größe``` sinnvoll ist. Sie muss dafür mindestens dreistellig sein, darf aber auch nicht mehr als 200 betragen. Ist dies nicht der Fall, soll eine Fehlermeldung zurückgegeben werden. \n",
    "\n",
    "Wenn Du fertig bist, probiere Deinen Code aus, indem Du verschiedene Werte bei ```größe``` einsetzt."
   ]
  },
  {
   "cell_type": "code",
   "execution_count": null,
   "id": "6a3749ff-a7ef-4011-b0ae-f9b09647245e",
   "metadata": {},
   "outputs": [],
   "source": [
    "größe = 182\n",
    "\n",
    "if größe > 99 and größe < 200:\n",
    "    #wir beginnen von oben und überprüfen, ob größe größer als 180 ist\n",
    "    if größe > 180:\n",
    "        print(\"groß\")\n",
    "    #wenn nicht, reicht es zu überprüfen, ob \"größe\" größer gleich 170 ist (eine größe größer als 180 wäre ja bereits durch das if-Statement oben \"abgefangen\" worden)\n",
    "    elif größe >= 170:\n",
    "        print(\"durchschnittlich\")\n",
    "    #wenn nicht, wissen wir, dass immer der Fall \"klein\" eintreten muss (eine größe größer als 180 oder größer gleich 170 wäre ja bereits \"abgefangen\" worden)\n",
    "    else:\n",
    "        print(\"klein\")\n",
    "else:\n",
    "    print(\"Tut mir leid, damit kann ich nicht umgehen\")"
   ]
  },
  {
   "cell_type": "markdown",
   "id": "1ceae836-ada9-4111-8347-09d90229f979",
   "metadata": {
    "deletable": false,
    "editable": false
   },
   "source": [
    "***\n",
    "\n",
    "✏️ **Lösung 3:** Im Isländischen setzen sich Nachnamen aus dem Vornamen eines Elternteils (traditionell, aber nicht immer, des Vaters) und der binären Bezeichnung \"son\" bzw. \"dottir\" zusammen (i.d.R. mit Genitiv-s dazwischen). \"Johannsdottir\" ist also z.B. die Tochter von Johann. Lasse Dir für jeden Namen auf ```surnames``` ausgeben, ob es sich um eine Person vermutlich isländischer Abstammung handelt, oder nicht. Wenn ja, lasse Dir zudem ausgeben, ob es sich aufgrund des Nachnamens um eine Frau oder einen Mann handelt. \n",
    "\n",
    "In der Ausgabe sollte der betreffende Name vorkommen, also z.B. für einen nicht-isländischen Namen: ```Mensch Müller kommt vermutlich nicht aus Island```. \n",
    "\n",
    "In der bedingten Anweisung kannst Du das Pendant zum bereits bekannten ```startswith```, nämlich ```endswith``` benutzen, das für einen string überprüft, ob er mit der in Klammern angegebenen Zeichenkette endet oder nicht. ```\"string\".endswith(\"g\")``` überprüft etwa, ob \"string\" mit \"g\" endet. Wie immer kannst Du anstatt der Zeichenketten auch Variablen verwenden, die einen string referenzieren."
   ]
  },
  {
   "cell_type": "code",
   "execution_count": null,
   "id": "d69eb263-9f6c-4998-870d-dbe849ea87f5",
   "metadata": {},
   "outputs": [],
   "source": [
    "surnames = [\"Jonsdottir\", \"Müller\", \"Johannsson\", \"Einarsdottir\", \"Fischer\", \"Suarez\", \"Johannsdottir\"]\n",
    "\n",
    "for name in surnames:\n",
    "    if name.endswith(\"dottir\") or name.endswith(\"sson\"):\n",
    "        if name.endswith(\"dottir\"):\n",
    "            print(\"Frau\", name, \"ist vermutlich eine Frau aus Island\")\n",
    "        else:\n",
    "            print(\"Herr\", name, \"ist vermutlich ein Mann aus Island\")\n",
    "    else:\n",
    "        print(\"Mensch\", name, \"kommt vermutlich nicht aus Island\")"
   ]
  },
  {
   "cell_type": "markdown",
   "id": "c926f782-c9b8-4d24-a68c-8197b6c42e29",
   "metadata": {
    "deletable": false,
    "editable": false
   },
   "source": [
    "***\n",
    "\n",
    "✏️ **Lösung 4:** In der Zelle unten steht noch einmal der gleiche Code. Modifiziere ihn derart, dass bei sechs Teilnehmer:innen Schluss ist. Die Iteration soll abbrechen. Vorher wollen wir aber darüber informiert werden, dass das Spiel bereits voll besetzt ist sowie darüber, wer daran teilnimmt.\n"
   ]
  },
  {
   "cell_type": "code",
   "execution_count": null,
   "id": "e7c89587-61c7-4528-b65e-b47cc8e2ac30",
   "metadata": {},
   "outputs": [],
   "source": [
    "# In diese Zelle kannst Du den Code zur Übung schreiben.\n",
    "\n",
    "participants_pool = [\"Max\", \"Moritz\", \"Janine\", \"Hussein\", \"Fritz\", \"Mia\", \"Marianne\", \"Dolores\"]\n",
    "\n",
    "participants_game = []\n",
    "\n",
    "for name in participants_pool:\n",
    "    if len(participants_game) < 3:\n",
    "        participants_game.append(name)\n",
    "        print(\"Noch nicht genügend Teilnehmer:innen, wir brauchen noch\", 4-len(participants_game), \"😬\")\n",
    "        \n",
    "        #zur Überprüfung der aktuellen Teilnehmer:innenliste\n",
    "        print(\"Aktuell auf der Liste:\", participants_game, \"\\n\")\n",
    "        \n",
    "        continue\n",
    "    \n",
    "    elif len(participants_game) >= 6:\n",
    "        print(\"Leider ist das Spiel voll 🥲\")\n",
    "        print(\"Aktuelle Teilnehmer:innen: \", participants_game)\n",
    "        break\n",
    "        \n",
    "    participants_game.append(name)\n",
    "    print(\"Das Spiel läuft 😍\")\n",
    "    \n",
    "    #zur Überprüfung der aktuellen Teilnehmer:innenliste\n",
    "    print(\"Aktuell auf der Liste:\", participants_game, \"\\n\")"
   ]
  },
  {
   "cell_type": "markdown",
   "id": "eaf5f1d1-ac0d-4221-ae97-da9972ace55b",
   "metadata": {
    "deletable": false,
    "editable": false
   },
   "source": [
    "***\n",
    "\n",
    "🔧 **Anwendungsfall (Lösung):** Deine Aufgabe ist es also, 365 vollständige Daten vom Format \"Wochentag, Tag. Monat Jahr\" auszugeben:\n",
    "\n",
    "```Samstag, 1. Januar 2022``` <br>\n",
    "```Sonntag, 2. Januar 2022``` <br>\n",
    "```Montag, 3. Januar 2022``` <br>\n",
    "\n",
    "Als Ausgangspunkt stehen Dir ein dictionary mit allen Monaten und der jeweiligen Anzahl Tage als Schlüssel-Werte-Paare und ebenfalls eine Liste mit allen Wochentagen zur Verfügung. Wie Du über Listen iterierst, weißt Du ja bereits. Zum Iterieren über dictionaries kannst Du wie oben im Video die ```items```-Methode verwenden (mehr dazu im nächsten Notebook), sie steht Dir ebenfalls bereits im Code zur Verfügung. Die Variablen ```month``` und ```days``` stehen dabei stellvertretend für den Schlüssel (Monatsnamen) und Wert (Anzahl Tage) des jeweiligen Schlüssel-Werte-Paars im dictionary. Verwende diese Variablen im Schleifenkörper, um auf den jeweiligen Schlüssel bzw. Wert zuzugreifen.\n",
    "\n",
    "Diese Übung ist durchaus komplex. Überlege Dir deshalb erst, in welche kleineren Schritte Du die Aufgabe zerlegen kannst und vergewissere Dich dann bei jedem (Zwischen-)Schritt, dass Dein Code das tut, was er soll (trial and error!).\n",
    "\n",
    "Letzte Bemerkung: ```pass``` steht als Platzhalter für Deinen Code da. Ein leerer Anweisungskörper erzeugt bei Python nämlich eine Fehlermeldung. Ersetze ```pass``` durch Deinen Code."
   ]
  },
  {
   "cell_type": "code",
   "execution_count": null,
   "id": "01575db2-fca4-44be-a650-b7dbef4e38bd",
   "metadata": {},
   "outputs": [],
   "source": [
    "months = {\"Januar\": 31, \"Februar\": 28, \"März\": 31, \"April\": 30, \"Mai\": 31, \"Juni\": 30, \"Juli\": 31, \"August\": 31, \"September\": 30, \"Oktober\": 31, \"November\": 30, \"Dezember\": 31}\n",
    "weekdays = [\"Montag\", \"Dienstag\", \"Mittwoch\", \"Donnerstag\", \"Freitag\", \"Samstag\", \"Sonntag\"]\n",
    "\n",
    "\n",
    "j = 5\n",
    "for month, days in months.items():\n",
    "    for i in range(days):\n",
    "        print(weekdays[j], \", \", i+1, \". \", month, sep=\"\")\n",
    "        j += 1\n",
    "        if j == 7:\n",
    "            j = 0\n",
    "\n",
    "print(count)"
   ]
  },
  {
   "cell_type": "code",
   "execution_count": null,
   "id": "2139c132-3f1e-4ee6-8e98-8cda15985fae",
   "metadata": {},
   "outputs": [],
   "source": [
    "print(\"a\", \"b\", \"c\", sep=\"...\")"
   ]
  },
  {
   "cell_type": "code",
   "execution_count": null,
   "id": "7620b170-3cf3-47bc-b111-6044fc203d9d",
   "metadata": {},
   "outputs": [],
   "source": []
  }
 ],
 "metadata": {
  "kernelspec": {
   "display_name": "Python 3 (ipykernel)",
   "language": "python",
   "name": "python3"
  },
  "language_info": {
   "codemirror_mode": {
    "name": "ipython",
    "version": 3
   },
   "file_extension": ".py",
   "mimetype": "text/x-python",
   "name": "python",
   "nbconvert_exporter": "python",
   "pygments_lexer": "ipython3",
   "version": "3.10.7"
  }
 },
 "nbformat": 4,
 "nbformat_minor": 5
}