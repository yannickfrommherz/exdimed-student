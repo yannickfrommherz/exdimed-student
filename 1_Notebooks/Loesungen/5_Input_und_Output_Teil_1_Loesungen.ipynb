{
 "cells": [
  {
   "cell_type": "markdown",
   "id": "6b495fad-f81e-4870-b739-e19837b8801c",
   "metadata": {
    "deletable": false,
    "editable": false
   },
   "source": [
    "# Input und Output Teil 1 (Lösungen)\n",
    "\n",
    "☝️ Beachte: Es gibt beim Programmieren fast immer verschiedene Lösungswege. Deine Lösung mag anders aussehen, aber dennoch zum gewünschten Resultat führen. Das richtige Resultat ist das Wichtigste. "
   ]
  },
  {
   "cell_type": "markdown",
   "id": "34ed0e08-fbe4-4518-afca-084b462136a9",
   "metadata": {
    "deletable": false,
    "editable": false
   },
   "source": [
    "✏️ **Lösung 1:** Navigier in Deinem Dateimanager zu fünf beliebigen Dateien in fünf verschiedenen Verzeichnissen. Kopier die absoluten Dateipfade wie oben beschrieben und weis je einen Dateipfad einer der folgenden Variablen zu (innerhalb der Anführungszeichen).\n",
    "\n",
    "*Keine Lösung*\n",
    "\n",
    "***"
   ]
  },
  {
   "cell_type": "markdown",
   "id": "ba0acc27-1ebc-412f-a6ad-ef758c4c5d62",
   "metadata": {
    "deletable": false,
    "editable": false
   },
   "source": [
    "✏️ **Lösung 2:** Das aktuelle Arbeitsverzeichnis auf einem Windows-Rechner sei \"C:\\Users\\Name\\Documents\\Project\\Folder\". Du möchtest auf eine Datei zugreifen, die folgenden absoluten Dateipfad besitzt: \"C:\\Users\\Name\\Documents\\Resources\\file.csv\". Mithilfe welchen relativen Pfads können wir in Python auf \"file.csv\" zugreifen?"
   ]
  },
  {
   "cell_type": "code",
   "execution_count": null,
   "id": "37a20dfc-8616-493c-8712-ca9d1e37c4f6",
   "metadata": {
    "tags": []
   },
   "outputs": [],
   "source": [
    "relative_path = \"../../Resources/file.csv\" #Mit Schrägstrichen auf allen Betriebssystemen (r\"\\..\\..\\Resources\\file.csv\" würde bei Windows aber auch funktionieren)"
   ]
  },
  {
   "cell_type": "markdown",
   "id": "b7dfec52-89fe-41bd-9bd0-68f191df5650",
   "metadata": {
    "deletable": false,
    "editable": false
   },
   "source": [
    "***\n",
    "\n",
    "✏️ **Lösung 3:** Lies den ersten Aufzug aus Lessings [*Nathan der Weise*](https://www.projekt-gutenberg.org/lessing/nathan/chap002.html) ein. Die Datei befindet sich im Unterverzeichnis \"Nathan_der_Weise\" im Dateienordner. Find heraus, welche der Figuren des Stücks (bereitgestellt in ```characters```) am häufigsten erwähnt wird (wir unterscheiden nicht zwischen Erwähnungen in Redebeiträgen und sonst wo im Text, z.&nbsp;B. in der Sprecherkennzeichung).\n",
    "\n",
    "Um Deine Fertigkeiten aus dem Notebook \"Funktionen und Methoden Teil 1\" gleich wieder einzusetzen, könntest Du dazu auch eine sortierte Frequenzliste mit allen Figuren und ihren jeweiligen Erwähnungshäufigkeiten erstellen."
   ]
  },
  {
   "cell_type": "code",
   "execution_count": null,
   "id": "b5dc25a4-febb-442e-bdcb-84fd857f4292",
   "metadata": {
    "tags": []
   },
   "outputs": [],
   "source": [
    "characters = [\"Sultan Saladin\", \"Sittah\", \"Nathan\", \"Recha\", \"Daja\", \"Tempelherr\", \"Derwisch\", \"Patriarch von Jerusalem\", \"Klosterbruder\", \"Emir\"] \n",
    "\n",
    "#Achtung: anderer Pfad als im Notebook, da das Lösungsnotebook in einem anderen Verzeichnis liegt\n",
    "with open(\"../../3_Dateien/Nathan_der_Weise/Nathan_der_Weise_Aufzug_1.txt\", encoding=\"utf-8\") as read_file:\n",
    "    nathan_der_weise = read_file.read()\n",
    "\n",
    "freq_dict = {} #Initialisieren eines leeren dictionary, an das unten Name-Vorkommen-Paare gehängt werden\n",
    "\n",
    "#Definieren von Schlüssel-Wert-Paaren: der Schlüssel ist der Name, der Wert die Anzahl an Vorkommen des Namens (ausgezählt mit 'count')\n",
    "for name in characters:\n",
    "    freq_dict[name] = nathan_der_weise.count(name)\n",
    "\n",
    "#Sortierung in absteigender Reihenfolge als Liste \n",
    "freq_list = sorted(freq_dict.items(), key = lambda x: x[1], reverse=True) #Hinweis: die Schlüssel-Wert-Paare werden als Tupel in der Liste gespeichert\n",
    "\n",
    "#Da die Schlüssel-Wert-Paare nun paarweise als Tupel in der Liste vorliegen, können wir über die Liste iterieren... \n",
    "for name in freq_list:\n",
    "    #...und mittels Indexing (null für Name, eins für Vorkommen) auf die Elemente zugreifen\n",
    "    print(name[0], name[1]) "
   ]
  },
  {
   "cell_type": "markdown",
   "id": "57b97010-3bd6-432e-8574-b957a92bbb68",
   "metadata": {
    "deletable": false,
    "editable": false
   },
   "source": [
    "***\n",
    "\n",
    "✏️ **Lösung 4:** Im Gegensatz zu *Miss Sara Sampson* ist *Nathan der Weise* etwas anders formatiert, z.&nbsp;B. verteilen sich Redebeiträge z.&nbsp;T. über mehrere Zeilen. \n",
    "\n",
    "Lies den ersten Aufzug aus *Nathan der Weise* abermals ein. Schau Dir die Formatierung des Textes genau an, um ein strukturelles Merkmal zu finden, anhand dessen Du eine Liste mit zusammengehörigen Redebeiträgen und Metakommentaren erstellen kannst. Ein über mehrere Zeilen verteilter Redebeitrag oder Metakommentar soll jeweils in ein Element einfließen. \n",
    "\n",
    "Bereinige anschließend die Liste von allem, was kein Redebeitrag darstellt. Auch hierfür musst Du Dir die Liste gut anschauen, um ein strukturelles Merkmal zu identifizieren, anhand dessen Du die \"Spreu vom Weizen\" trennen kannst. Sollte sich ein Metakommentar innerhalb eines Redebeitrags befinden, kannst Du dies ignorieren. Stell durch einen iterativen Ansatz sicher, dass Du am Ende wirklich alle Redebeiträge und nur Redebeiträge auf der Liste hast (also die *true positives*).\n",
    "\n",
    "Dir steht wiederum eine Liste mit Figuren zur Verfügung."
   ]
  },
  {
   "cell_type": "code",
   "execution_count": null,
   "id": "695def1a-baee-4f20-8ee4-8dd20e472fe4",
   "metadata": {
    "tags": []
   },
   "outputs": [],
   "source": [
    "characters = [\"Sultan Saladin\", \"Sittah\", \"Nathan\", \"Recha\", \"Daja\", \"Tempelherr\", \"Derwisch\", \"Patriarch von Jerusalem\", \"Klosterbruder\", \"Emir\"] \n",
    "\n",
    "#Achtung: anderer Pfad als im Notebook, da das Lösungsnotebook in einem anderen Verzeichnis liegt\n",
    "with open(\"../../3_Dateien/Nathan_der_Weise/Nathan_der_Weise_Aufzug_1.txt\", encoding=\"utf-8\") as read_file:\n",
    "    nathan_der_weise = read_file.read()\n",
    "\n",
    "belongs_together = nathan_der_weise.split(\"\\n\\n\") #Splitten bei doppelten Zeilenumbrüchen\n",
    "\n",
    "actual_turns = [] #Initialisieren einer leeren Liste, an die unten die zusammengehörigen Redebeiträge gehängt werden\n",
    "\n",
    "#Iteration über 'belongs_together'\n",
    "for element in belongs_together:\n",
    "    #Iteration über sämtliche Charakteren\n",
    "    for character in characters:\n",
    "        if element.startswith(character + \".\"): #Wenn ein Element der Liste 'belongs_together' mit dem jeweiligen Namen und einem Punkt dahinter beginnt...\n",
    "            actual_turns.append(element) #... wird es der Liste 'actual_turns' angefügt.\n",
    "\n",
    "#Ausgeben der ersten fünf Ergebnisse\n",
    "for i in range(5):\n",
    "    print(actual_turns[i], \"\\n\")"
   ]
  },
  {
   "cell_type": "markdown",
   "id": "ca993ecf-baa0-426d-b872-9e39b01f604f",
   "metadata": {
    "deletable": false,
    "editable": false
   },
   "source": [
    "***\n",
    "\n",
    "✏️ **Lösung 5:** Bisher haben wir nur mit dem ersten Aufzug aus *Miss Sara Sampson* gearbeitet. Das Trauerspiel besteht aber aus fünf Aufzügen, die sich allesamt im gleichen Verzeichnis wie der erste Aufzug befinden. \n",
    "\n",
    "Öffne eine neue Textdatei mit dem Namen \"Miss_Sara_Sampson_komplett.txt\" im Verzeichnis \"Output\" und schreib alle fünf Aufzüge in der richtigen Reihenfolge in diese Datei.\n",
    "\n",
    "Anstatt jede Datei über ihren Pfad einzeln zu öffnen, kannst Du die oben bereits vorgestellte ```listdir```-Funktion des ```os```-Moduls verwenden. Als Argument übergibst Du ihr den Pfad zum betreffenden Verzeichnis. Du kriegst eine Liste mit den darin befindlichen Dateien und Unterverzeichnissen (jeweils als string) zurück. Über diese Liste kannst Du dann wie gewohnt iterieren."
   ]
  },
  {
   "cell_type": "code",
   "execution_count": null,
   "id": "6ccf2508-e6ad-48f6-be9d-4f2833394456",
   "metadata": {
    "tags": []
   },
   "outputs": [],
   "source": [
    "import os\n",
    "\n",
    "#Achtung: andere Pfade als im Notebook, da das Lösungsnotebook in einem anderen Verzeichnis liegt\n",
    "#Speichern der Pfade in Variablen:\n",
    "input_path = \"../../3_Dateien/Miss_Sara_Sampson/\"\n",
    "output_file = \"../../3_Dateien/Output/Miss_Sara_Sampson_komplett.txt\"\n",
    "\n",
    "#Öffnen der neuen Datei, in welche die fünf Aufzüge geschrieben werden sollen, im Schreibmodus \"w\"\n",
    "with open(output_file, \"w\", encoding=\"utf-8\") as write_file:\n",
    "    \n",
    "    #Iterieren über die sortierten Input-Dateien, damit sie anschließend in der richtigen Reihenfolge in 'write_file' geschrieben werden\n",
    "    for file in sorted(os.listdir(input_path)): \n",
    "        \n",
    "        #Mit dieser Bedingung überspringen wir etwaige (z. T. im Dateimanager unsichtbare) Dateien.\n",
    "        if file.startswith(\"Miss\"):\n",
    "            \n",
    "            #Öffnen der jeweiligen Datei\n",
    "            with open(input_path + file, encoding=\"utf-8\") as read_file:\n",
    "                #Schreiben in neue Datei\n",
    "                write_file.write(read_file.read())\n",
    "            \n",
    "            #Nach jedem Durchlauf wird zusätzlich ein doppelter Zeilenumbruch in 'write_file' geschrieben, um die Aufzüge strukturell voneinander abzugrenzen. \n",
    "            write_file.write(\"\\n\\n\")"
   ]
  }
 ],
 "metadata": {
  "kernelspec": {
   "display_name": "Python 3 (ipykernel)",
   "language": "python",
   "name": "python3"
  },
  "language_info": {
   "codemirror_mode": {
    "name": "ipython",
    "version": 3
   },
   "file_extension": ".py",
   "mimetype": "text/x-python",
   "name": "python",
   "nbconvert_exporter": "python",
   "pygments_lexer": "ipython3",
   "version": "3.11.5"
  }
 },
 "nbformat": 4,
 "nbformat_minor": 5
}