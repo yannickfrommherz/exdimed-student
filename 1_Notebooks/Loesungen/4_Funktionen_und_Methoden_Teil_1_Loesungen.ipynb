{
 "cells": [
  {
   "cell_type": "markdown",
   "id": "2227f2ff-2d6b-48e7-9303-ebc3da329b43",
   "metadata": {
    "deletable": false,
    "editable": false
   },
   "source": [
    "# Funktionen und Methoden Teil 1 (Lösungen)\n",
    "\n",
    "☝️ Beachte: Es gibt beim Programmieren fast immer verschiedene Lösungswege. Deine Lösung mag anders aussehen, aber dennoch zum gewünschten Resultat führen. Das richtige Resultat ist das Wichtigste. "
   ]
  },
  {
   "cell_type": "markdown",
   "id": "fe27ec99-e26f-4a22-8ce0-de32f7a7b657",
   "metadata": {
    "deletable": false,
    "editable": false
   },
   "source": [
    "✏️ **Übung 1:** Find heraus, welcher der beiden Koalitionsverträge länger ist."
   ]
  },
  {
   "cell_type": "code",
   "execution_count": null,
   "id": "b4deb21f-fb2f-45fc-adce-36fe6d822918",
   "metadata": {
    "tags": []
   },
   "outputs": [],
   "source": [
    "#Achtung: anderere Pfade als im Notebook, da das Lösungsnotebook in einem anderen Verzeichnis liegt\n",
    "\n",
    "#Einlesen der Dateien (dazu mehr im Notebook \"Input und Output Teil 1\" \n",
    "#Die zwei Punkte im Pfadnamen bedeuten \"eine Ebene zurück im Pfad\".\n",
    "with open(\"../../3_Dateien/Koalitionsvertraege/koalitionsvertrag_2018.txt\", encoding=\"utf-8\") as f:\n",
    "    kv18 = f.read()\n",
    "    \n",
    "with open(\"../../3_Dateien/Koalitionsvertraege/koalitionsvertrag_2021.txt\", encoding=\"utf-8\") as g:\n",
    "    kv21 = g.read()\n",
    "\n",
    "    \n",
    "if len(kv18) > len(kv21): #Wenn Vertrag von 2018 länger ist als von 2021, wird Folgendes ausgegeben:\n",
    "    print(\"Der Koalitionsvertrag von 2018 ist länger.\")\n",
    "else: #Sonst wird folgender string ausgegeben:\n",
    "    print(\"Koalitionsvertrag von 2021 ist länger.\")"
   ]
  },
  {
   "cell_type": "markdown",
   "id": "48d2729f-efed-4ebf-b603-c653ccaf7d51",
   "metadata": {
    "deletable": false,
    "editable": false
   },
   "source": [
    "*** \n",
    "\n",
    "✏️ **Übung 2:** Die unten bereitgestellte Liste ```buzzwords``` enthält heuristisch zusammengetragene Schlagwörter aus der Politik – erweiter die Liste gerne um eigene Begriffe, die Dich interessieren. Um einen ersten inhaltlichen Eindruck der Koalitionsverträge zu bekommen, wollen wir herausfinden, wie oft diese Begriffe in ihnen vorkommen und wie sich ihre Frequenz zwischen den Texten entwickelt. Zu diesem Zweck können wir ```count``` für strings verwenden (```kv18``` und ```kv21``` sind ja wie gesagt string-Objekte). ```count``` erlaubt es uns, das Vorkommen einer bestimmten Zeichenkette innerhalb einer anderen Zeichenkette auszuzählen. ```count``` hat folgende Syntax:\n",
    "\n",
    "```python\n",
    "string.count(\"to_be_counted\")\n",
    "```\n",
    "So erzeugt\n",
    "```python\n",
    "\"Schifffahrtsgesellschaft\".count(\"f\")\n",
    "``` \n",
    "vier als Output.\n",
    "\n",
    "Was bei einem Wort funktioniert, geht auch bei langen strings wie bei unseren Koalitionsverträgen.\n",
    "\n",
    "Berechne nun, wie oft jeder Begriff  auf ```buzzwords``` in den beiden Verträgen vorkommt und verwend einen geeigneten Datentyp, um Deine Ergebnisse (separat für jeden Vertrag) abzuspeichern. Lass Dir anschließend für jeden Begriff die beiden Frequenzen sowie einen Trend über die Zeit (z.&nbsp;B. mittels der Emojis 📈, 📉, 🟰) ausgeben. Das Ergebnis für \"Corona\" sollte z.&nbsp;B. so aussehen:\n",
    "\n",
    "<img src=\"../../3_Dateien/Grafiken_und_Videos/Frequenz_Corona.png\"/>"
   ]
  },
  {
   "cell_type": "code",
   "execution_count": null,
   "id": "cb2baf35-86e3-44ff-b172-cca20979826b",
   "metadata": {
    "tags": []
   },
   "outputs": [],
   "source": [
    "buzzwords = [\"Sozial\", \"Klima\", \"Europa\", \"Verkehr\", \"Landwirtschaft\", \"Umwelt\", \"Corona\"]\n",
    "\n",
    "#Initiieren zweier leerer dictionaries \n",
    "count18 = {} \n",
    "count21 = {}\n",
    "\n",
    "#Iterieren über die Element von 'buzzwords'\n",
    "for word in buzzwords:\n",
    "    \"\"\"Zählen der Vorkommen des jeweiligen Wortes in beiden Verträgen \n",
    "    und Abspeichern der Ergebnisse im dictionary als Schlüssel-Werte-Paar (hier: Wort-Vorkommen-Paar)\"\"\"\n",
    "    count18[word] = kv18.count(word) \n",
    "    count21[word] = kv21.count(word)\n",
    "\n",
    "#Erneutes Iterieren über die Liste\n",
    "for word in buzzwords:\n",
    "    \n",
    "    #Vergleich der Vorkommenshäufigkeit des Wortes in beiden Verträgen und Abspeichern in der Variable 'trend'\n",
    "    if count18[word] > count21[word]:\n",
    "        trend = \"📉\"\n",
    "    elif count18[word] < count21[word]:\n",
    "        trend = \"📈\"\n",
    "    else:\n",
    "        trend = \"🟰\"\n",
    "    \n",
    "    #Ausgabe der Ergebnisse (wie im Bild oben gefordert) am Ende jeden Durchlaufs\n",
    "    print(\"word: \", word)\n",
    "    print(\"2018: \", count18[word])\n",
    "    print(\"2021: \", count21[word])\n",
    "    print(\"trend:\", trend, \"\\n\")"
   ]
  },
  {
   "cell_type": "markdown",
   "id": "abc21d37-904a-4dda-9557-5ddc8f096c3a",
   "metadata": {
    "deletable": false,
    "editable": false
   },
   "source": [
    "***\n",
    "✏️ **Übung 3:** Die beiden Koalitionsverträge stammen von unterschiedlichen Parteien (CDU, CSU, SPD bzw. SPD, Grüne, FDP). Find heraus, welche beiden Parteien es mit ihrem Kurznamen in beide Verträge geschafft haben. Stell sicher, dass die Zelle mit dem Dateiinput oben ausgeführt ist, damit die Variablen ```kv18``` und ```kv21``` mit dem jeweiligen Text initialisiert sind."
   ]
  },
  {
   "cell_type": "code",
   "execution_count": null,
   "id": "e378dff8-1105-4b41-98ff-5a89a45ff15c",
   "metadata": {
    "tags": []
   },
   "outputs": [],
   "source": [
    "parties = [\"CDU\", \"CSU\", \"SPD\", \"Grüne\", \"FDP\"] #Definieren einer Liste mit den Kurznamen der Parteien\n",
    "\n",
    "#Iterieren über die Parteinamen\n",
    "for party in parties:\n",
    "    #Prüfen, ob der gegebene Parteiname in beiden Verträgen vorkommt, indem die beiden separaten Statements durch 'and' verknüpft werden\n",
    "    if party in kv18 and party in kv21:\n",
    "        print(party)"
   ]
  },
  {
   "cell_type": "markdown",
   "id": "18e102cc-b155-4e16-a523-4dfbafaa649d",
   "metadata": {
    "deletable": false,
    "editable": false
   },
   "source": [
    "***\n",
    "\n",
    "✏️ **Übung 4:** Anstelle von whitespace, das standardmäßig als Trennzeichen von ```split``` verwendet wird (und deswegen auch nicht angegeben werden muss), können wir strings auch bei anderen Trennzeichen aufsplitten. Dazu geben wir das gewünschte Trennzeichen in den Klammern an, etwa ```\".\"```, wenn wir einen string in Sätze aufsplitten wollen. \n",
    "\n",
    "Bring die Geschichte, die in ```sentence``` in komischer Reihenfolge erzählt wird, in die richtige Reihenfolge. Das Resultat sollte ein string mit drei richtig geordneten Sätzen sein. "
   ]
  },
  {
   "cell_type": "code",
   "execution_count": null,
   "id": "ba7629a4-e059-4ad3-9f26-1628dc85b5b6",
   "metadata": {
    "tags": []
   },
   "outputs": [],
   "source": [
    "sentence = \"\"\"Die beiden verliebten sich ineinander. Und wenn sie nicht gestorben sind, kann's sein dass, sie sich heute noch küssen.Es waren einmal ein Hase und ein Fuchs.\"\"\"\n",
    "\n",
    "sentences = sentence.split(\".\") #Splitten des string beim Punkt\n",
    "newtext = sentences[2] + \". \" + sentences[0] + \".\" + sentences[1] #Konkatenieren der Sätze in der richtigen Reihenfolge mithilfe von Indexing und speichern in einer neuen Variable\n",
    "newtext #Ausgabe des neuen string (hier ohne 'print', da JupyterLab die letzte Zeile des Codeblocks standardmäßig ausgibt)"
   ]
  },
  {
   "cell_type": "markdown",
   "id": "2f0c264c-8f07-456f-bfd7-dd9368deaf86",
   "metadata": {
    "deletable": false,
    "editable": false
   },
   "source": [
    "***\n",
    "✏️ **Übung 5:** Verwend ```str```-Methoden, um aus ```names``` eine Liste mit Namen wie folgt zu kreieren: \n",
    "```python\n",
    "['Martin Berger', 'Kirsten Hauser', 'Michaela Kircher', 'Fritz Hofer']\n",
    "```\n",
    "Die Namen sollen vollkommen von leading und trailing whitespace bereingt und mit korrekter Groß-/Kleinschreibung vorliegen. "
   ]
  },
  {
   "cell_type": "code",
   "execution_count": null,
   "id": "09c10ae0-e575-4913-9502-7768a886fe12",
   "metadata": {
    "editable": true,
    "slideshow": {
     "slide_type": ""
    },
    "tags": []
   },
   "outputs": [],
   "source": [
    "names = \"Name: Martin Berger name: Kirsten Hauser NAME: Michaela Kircher nAME: Fritz Hofer\"\n",
    "\n",
    "#Entfernen von \"Name: \" am Anfang des string\n",
    "names = names.lstrip(\"Name: \") \n",
    "\n",
    "#Kleinschreiben aller Zeichen im string und Auftrennen des string an \" name: \"\n",
    "#Die Elemente, die durch 'split' entstehen, werden automatisch in eine Liste geschrieben.\n",
    "names_list = names.lower().split(\" name: \")\n",
    "\n",
    "names_list_title = [] #Anlegen einer leeren Liste\n",
    "for name in names_list: #Iteration über 'names_list' mittels for-Schleife\n",
    "    names_list_title.append(name.title()) #'append' hängt jedes Element der Iteration an die Liste an, durch 'title' wird zuvor jeder erste Buchstabe großgeschrieben\n",
    "print(names_list_title)\n",
    "\n",
    "#Alternative Lösung\n",
    "names = \"Name: Martin Berger name: Kirsten Hauser NAME: Michaela Kircher nAME: Fritz Hofer\"\n",
    "names = names.lstrip(\"Name: \") #Wegstrippen von \"Name: \" am Anfang des string\n",
    "names = names.replace(\"name\", \"Name\").replace(\"NAME\", \"Name\").replace(\"nAME\", \"Name\") #'replace' ersetzt die als erstes Argument übergebene Zeichenkette durch die als zweites Argument übergebene in 'names' \n",
    "single_names = names.split(\" Name: \") #Splitten von 'names' bei \" Name: \" (da ja nun einheitlich)\n",
    "print(single_names)"
   ]
  },
  {
   "cell_type": "markdown",
   "id": "50aa45e8-b1c7-4d2e-b5b3-2a178cbc498e",
   "metadata": {
    "deletable": false,
    "editable": false
   },
   "source": [
    "***\n",
    "✏️ **Lösung 6:** Modifizier den Code nun derart, dass bei sechs Teilnehmer:innen diejenige Person aus dem Spiel \"gekickt\" wird, die bereits am längsten daran teilnimmt (bzw. sich bereits am längsten auf der Teilnehmer:innenliste befindet). Im gleichen Zug soll die nächste Person aus ```participants_pool``` ins Spiel gelassen werden. Wie beim letzten Mal auch, möchten wir bei jeder Iteration informiert werden, wer gerade im Spiel ist."
   ]
  },
  {
   "cell_type": "code",
   "execution_count": null,
   "id": "5ebe5df0-4200-45e8-8638-a7fbcc5638bc",
   "metadata": {
    "tags": []
   },
   "outputs": [],
   "source": [
    "#In diese Zelle kannst Du den Code zur Übung schreiben.\n",
    "\n",
    "participants_pool = [\"Max\", \"Moritz\", \"Janine\", \"Hussein\", \"Fritz\", \"Mia\", \"Marianne\", \"Dolores\", \"Yin\", \"Margareth\", \"Benni\"]\n",
    "\n",
    "participants_game = []\n",
    "\n",
    "min_participants = 4 #Festlegen einer Mindestzahl an Teilnehmer:innen\n",
    "max_participants = 6 #Festlegen einer maximalen Teilnehmer:innenzahl\n",
    "\n",
    "for name in participants_pool:\n",
    "    if len(participants_game) < min_participants-1:\n",
    "        participants_game.append(name)\n",
    "        print(\"Noch nicht genügend Teilnehmer:innen, wir brauchen noch\", 4-len(participants_game), \"😬\")\n",
    "        \n",
    "        #Zur Überprüfung der aktuellen Teilnehmer:innenliste\n",
    "        print(\"Aktuell auf der Liste:\", participants_game, \"\\n\")\n",
    "        continue\n",
    "    \n",
    "    #Neuer Code-Abschnitt\n",
    "    elif len(participants_game) == max_participants: #Überprüfen, ob die maximale Teilnehmer:innenzahl erreicht ist\n",
    "        print(\"Leider muss uns nun\", participants_game[0], \"verlassen\") #Ausgabe, wer als Erstes in der Liste steht und das Spiel somit verlassen muss\n",
    "        participants_game.pop(0) #Entfernen des ersten Teilnehmenden (mit dem Index null)\n",
    "        \n",
    "    participants_game.append(name)\n",
    "    print(\"Das Spiel läuft 😍\")\n",
    "    \n",
    "    #Zur Überprüfung der aktuellen Teilnehmer:innenliste\n",
    "    print(\"Aktuell auf der Liste:\", participants_game, \"\\n\")"
   ]
  },
  {
   "cell_type": "markdown",
   "id": "0a007432-612e-4b1b-9c7a-6c71d5418238",
   "metadata": {
    "deletable": false,
    "editable": false
   },
   "source": [
    "*** \n",
    "\n",
    "✏️ **Übung 7:** Deine Aufgabe ist es nun, ein Skript zu schreiben, das den oben im Beispiel verwendeten Satz nimmt und die darin vorkommenden Wort-Bigramme auf der Liste ```all_ngrams``` speichert. Neben ```all_ngrams``` wirst Du als Zwischenschritt beim Zusammentragen der Wort-Bigramme eine zweite Liste namens ```current_ngrams``` brauchen. Beide Listen sind bereits im Code gegeben und werden leer initialisiert. \n",
    "\n",
    "Wie erwähnt ist dieses Problem dem obigen im Gesellschaftsspiel-Skript sehr ähnlich. Denk daran, so wenig wie möglich zu hardcoden. Konkret: Definier, wo möglich, Variablen, sodass Dein Skript problemlos auch für andere Sätze oder zum Errechnen von Tri-, Quadrigrammen etc. benutzt werden kann. "
   ]
  },
  {
   "cell_type": "code",
   "execution_count": null,
   "id": "839f55b1-e5bb-4561-822d-170809d163c8",
   "metadata": {
    "tags": []
   },
   "outputs": [],
   "source": [
    "sentence = \"Ich gehe am Abend noch spazieren.\"\n",
    "\n",
    "#Initiieren zweier leerer Listen...\n",
    "all_ngrams = [] #...eine, in die alle gefundenen n-Gramme gespeichert werden\n",
    "current_ngram = [] #...und eine, in der jeweils nur das beim jeweiligen Durchlauf gefundene n-Gramm gespeichert wird\n",
    "\n",
    "words = sentence.split() #Splitten des Satzes (hier standardmäßig bei whitespace-Zeichen)\n",
    "n = 2 #Zwei, da Bigramme ermittelt werden sollen\n",
    "\n",
    "#Iteration über 'words'\n",
    "for word in words:\n",
    "    #Überprüfen, ob 'current_ngram' weniger als 'n' Elemente umfasst\n",
    "    if len(current_ngram) < n:\n",
    "        current_ngram.append(word) #Anhängen des jeweiligen Worts an 'current_ngram'\n",
    "        \"\"\"Da wir an Bigrammen interessiert sind, und 'len(current_ngram)' zumindest vor 'append' noch < 2 war \n",
    "        (also noch keine zwei Wörter auf der Liste waren), überspringen wir den \n",
    "        Rest dieses Durchlaufs mithilfe von 'continue'\"\"\"\n",
    "        continue \n",
    "    \n",
    "    all_ngrams.append(\" \".join(current_ngram)) #Hier hängen wir das Bigramm an die Liste aller Bigramme.\n",
    "\n",
    "    current_ngram.pop(0) #Hier entfernen wir das erste Wort im Bigramm auf der Liste des gegenwärtigen Bigramms...\n",
    "    \n",
    "    \"\"\"...und hängen sogleich das nächste Wort an die Liste des gegenwärtigen Bigramms, wodurch wir wieder ein Bigramm erhalten, \n",
    "    welches zu Beginn der nächsten Iteration an die Liste aller Bigramme angehängt werden wird.\"\"\"\n",
    "    current_ngram.append(word)\n",
    "\n",
    "\"\"\"Nach der letzten Iteration der for-Schleife müssen wir noch das letzte Bigramm an die Liste aller Bigramme anhängen, da\n",
    "es sonst verloren geht (es würde ja erst zu Beginn der nächsten Iteration angehängt, nur gibt es keine nächste Iteration).\"\"\"\n",
    "all_ngrams.append(\" \".join(current_ngram)) \n",
    "\n",
    "print(all_ngrams)"
   ]
  },
  {
   "cell_type": "markdown",
   "id": "10fea8d0-99f5-42b7-be9c-2fa0a8043cca",
   "metadata": {
    "deletable": false,
    "editable": false
   },
   "source": [
    "***\n",
    "\n",
    "✏️ **Übung 8:** ```temperatures``` ist eine Liste mit unterschiedlichen Messtemperaturen in Grad Celsius. Sie beinhaltet positive und negative Werte sowie fehlende Werte, die mit \"NA\" gekennzeichnet sind (für *not available*, etwa weil das Thermometer ausfiel). Erstell nun mittels List Comprehension folgende neuen Listen. Überleg Dir jeweils genau, an welcher Stelle in der List Comprehension Du die bedingte Anweisung einbauen musst.   \n",
    "\n",
    "1. ```temperatures_preprocessed``` soll eine Liste referenzieren, die nur numerische Werte enthält.\n",
    "\n",
    "Erstell ausgehend von ```temperatures_preprocessed``` diese zwei weiteren Listen:\n",
    "\n",
    "2. ```positives_replaced``` soll eine Liste referenzieren, auf der sämtliche positiven Werte durch 0.0 ersetzt werden.\n",
    "3. ```only_positives``` soll eine Liste referenzieren, die nur positive Werte beinhaltet."
   ]
  },
  {
   "cell_type": "code",
   "execution_count": null,
   "id": "f15b0153-e3b8-4367-a2a8-ab373d52a414",
   "metadata": {
    "tags": []
   },
   "outputs": [],
   "source": [
    "temperatures = [18.6, 23.4, \"NA\", 12.2, -3.1, 33.7, -10.9, -17.8, \"NA\", 7.0, 9.1, -0.2, 0.0, 8.6, \"NA\", \"NA\", 39.4, -29.8]\n",
    "\n",
    "#Vorbereitung der Daten: Es werden nur die Werte in 'temperatures_preprocessed' geschrieben, welche nicht den Wert \"NA\" besitzen.\n",
    "temperatures_preprocessed = [value for value in temperatures if value != \"NA\"]\n",
    "\n",
    "#Alternativer Code zur Vorbereitung der Daten über den Datentyp\n",
    "#temperatures_preprocessed = [value for value in temperatures if type(value) == float]\n",
    "\n",
    "print(\"Temperaturen ohne fehlende Werte:\", temperatures_preprocessed)\n",
    "\n",
    "#Ersetzen aller positiven Werte (value > 0) durch 0.0 mittels List Comprehension\n",
    "positives_replaced = [0.0 if value > 0 else value for value in temperatures_preprocessed]\n",
    "print(\"Positive Messwerte genullt:\", positives_replaced)\n",
    "\n",
    "#Hier werden durch die List Comprehension nur Werte in die Liste 'only_positives' geschrieben, deren Wert über null liegt\n",
    "only_positives = [value for value in temperatures_preprocessed if value > 0]\n",
    "print(\"Nur positive Messwerte:\", only_positives)"
   ]
  },
  {
   "cell_type": "markdown",
   "id": "cd5db20a-8014-4fb1-83a1-4c43ccc671d3",
   "metadata": {
    "deletable": false,
    "editable": false
   },
   "source": [
    "***\n",
    "\n",
    "✏️ **Übung 9:** Sortier  das dictionary ```federal_states``` alphabetisch nach den Hauptstädten. Nutz dazu die Funktion (!) <code>sorted</code> und schau selbstständig im Internet nach ihrer Syntax. Das Resultat sollte eine Liste mit Tupeln bestehend aus Bundesland und Hauptstadt sein."
   ]
  },
  {
   "cell_type": "code",
   "execution_count": null,
   "id": "dd2aaa39-ed29-4c2f-8b73-755551110ef6",
   "metadata": {
    "tags": []
   },
   "outputs": [],
   "source": [
    "federal_states = {'Vorarlberg': 'Bregenz', 'Tirol': 'Innsbruck', 'Kärnten': 'Klagenfurt', 'Steiermark': 'Graz', 'Wien': 'Wien', 'Niederösterreich': 'Sankt Pölten', 'Oberösterreich': 'Linz', 'Salzburg': 'Salzburg', 'Burgenland': 'Eisenstadt'}\n",
    "\n",
    "#Sortieren des dictionary in aufsteigender Reihenfolge nach den Werten (denn: null für Sortierung nach Schlüsseln, bei eins nach Werten)\n",
    "federal_states_sorted = sorted(federal_states.items(), key=lambda x: x[1]) \n",
    "print(federal_states_sorted)"
   ]
  },
  {
   "cell_type": "markdown",
   "id": "963cdef7-d7b4-44a3-953c-3e9d846b2ff5",
   "metadata": {
    "deletable": false,
    "editable": false
   },
   "source": [
    "\n",
    "***\n",
    "<table>\n",
    "      <tr>\n",
    "        <td>\n",
    "            <img src=\"../../3_Dateien/Lizenz/CC-BY-SA.png\" width=\"400\">\n",
    "        </td> \n",
    "        <td>\n",
    "            <p>Dieses Notebook sowie sämtliche weiteren <a href=\"https://github.com/yannickfrommherz/exdimed-student/tree/main\">Materialien zum Programmierenlernen für Geistes- und Sozialwissenschaftler:innen</a> sind im Rahmen des Projekts <i>Experimentierraum Digitale Medienkompetenz</i> als Teil von <a href=\"https://tu-dresden.de/gsw/virtuos/\">virTUos</a> entstanden. Erstellt wurden sie von Yannick Frommherz unter Mitarbeit von Anne Josephine Matz. Sie stehen als Open Educational Resource nach <a href=\"https://creativecommons.org/licenses/by-sa/4.0/\">CC BY SA</a> zur freien Verfügung. Für Feedback und bei Fragen nutz bitte das <a href=\"https://forms.gle/VsYJgy4bZTSqKioA7\">Kontaktformular</a>.\n",
    "        </td>\n",
    "      </tr>\n",
    "</table>"
   ]
  }
 ],
 "metadata": {
  "kernelspec": {
   "display_name": "Python 3 (ipykernel)",
   "language": "python",
   "name": "python3"
  },
  "language_info": {
   "codemirror_mode": {
    "name": "ipython",
    "version": 3
   },
   "file_extension": ".py",
   "mimetype": "text/x-python",
   "name": "python",
   "nbconvert_exporter": "python",
   "pygments_lexer": "ipython3",
   "version": "3.11.5"
  }
 },
 "nbformat": 4,
 "nbformat_minor": 5
}