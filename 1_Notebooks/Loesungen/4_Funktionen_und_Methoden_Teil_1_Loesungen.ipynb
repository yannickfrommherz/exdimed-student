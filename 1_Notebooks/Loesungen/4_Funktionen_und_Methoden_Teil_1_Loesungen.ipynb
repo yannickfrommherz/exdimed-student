{
 "cells": [
  {
   "cell_type": "markdown",
   "id": "2227f2ff-2d6b-48e7-9303-ebc3da329b43",
   "metadata": {
    "deletable": false,
    "editable": false
   },
   "source": [
    "# Funktionen und Methoden Teil 1 (Lösungen)\n",
    "\n",
    "☝️ Beachte: Es gibt beim Programmieren fast immer verschiedene Lösungswege. Deine Lösung mag anders aussehen, aber dennoch zum gewünschten Resultat führen. Das richtige Resultat ist das Wichtigste. "
   ]
  },
  {
   "cell_type": "markdown",
   "id": "fe27ec99-e26f-4a22-8ce0-de32f7a7b657",
   "metadata": {
    "deletable": false,
    "editable": false
   },
   "source": [
    "✏️ **Lösung 1:** Find heraus, welcher der beiden Koalitionsverträge länger ist."
   ]
  },
  {
   "cell_type": "code",
   "execution_count": null,
   "id": "b4deb21f-fb2f-45fc-adce-36fe6d822918",
   "metadata": {
    "tags": []
   },
   "outputs": [],
   "source": [
    "#Achtung: anderere Pfade als im Notebook, da das Lösungsnotebook in einem anderen Verzeichnis liegt\n",
    "#Die zwei Punkte im Pfadnamen bedeuten \"eine Ebene zurück im Pfad\".\n",
    "with open(\"../../3_Dateien/Koalitionsvertraege/koalitionsvertrag_2018.txt\", encoding=\"utf-8\") as f:\n",
    "    kv18 = f.read()\n",
    "    \n",
    "with open(\"../../3_Dateien/Koalitionsvertraege/koalitionsvertrag_2021.txt\", encoding=\"utf-8\") as g:\n",
    "    kv21 = g.read()\n",
    "    \n",
    "if len(kv18) > len(kv21):\n",
    "    print(\"Der Koalitionsvertrag von 2018 ist länger.\")\n",
    "else:\n",
    "    print(\"Koalitionsvertrag von 2021 ist länger.\")"
   ]
  },
  {
   "cell_type": "markdown",
   "id": "48d2729f-efed-4ebf-b603-c653ccaf7d51",
   "metadata": {
    "deletable": false,
    "editable": false
   },
   "source": [
    "*** \n",
    "\n",
    "✏️ **Lösung 2:** Die unten bereitgestellte Liste ```buzzwords``` enthält heuristisch zusammengetragene Schlagwörter aus der Politik – erweiter die Liste gerne um eigene Begriffe, die Dich interessieren. Um einen ersten inhaltlichen Eindruck der Koalitionsverträge zu bekommen, wollen wir herausfinden, wie oft diese Begriffe in ihnen vorkommen und wie sich ihre Frequenz zwischen den Texten entwickelt. Zu diesem Zweck können wir ```count``` für strings verwenden (```kv18``` und ```kv21``` sind ja wie gesagt string-Objekte). ```count``` erlaubt es uns, das Vorkommen einer bestimmten Zeichenkette innerhalb einer anderen Zeichenkette auszuzählen. ```count``` hat folgende Syntax:\n",
    "\n",
    "```string.count(\"to_be_counted\")```\n",
    "\n",
    "```\"Schifffahrtsgesellschaft\".count(\"f\")``` ergäbe etwa vier.\n",
    "\n",
    "Was bei einem Wort funktioniert, geht auch bei langen strings wie bei unseren Koalitionsverträgen.\n",
    "\n",
    "Berechne nun, wie oft jeder Begriff  auf ```buzzwords``` in den beiden Verträgen vorkommt und verwend einen geeigneten Datentyp, um Deine Ergebnisse (separat für jeden Vertrag) abzuspeichern. Lass Dir anschließend für jeden Begriff die beiden Frequenzen sowie einen Trend über die Zeit (z.&nbsp;B. mittels der Emojis 📈, 📉, 🟰) ausgeben. Das Ergebnis für \"Corona\" sollte z.&nbsp;B. so aussehen:\n",
    "\n",
    "<img src=\"../../3_Dateien/Grafiken_und_Videos/Frequenz_Corona.png\"/>"
   ]
  },
  {
   "cell_type": "code",
   "execution_count": null,
   "id": "cb2baf35-86e3-44ff-b172-cca20979826b",
   "metadata": {
    "tags": []
   },
   "outputs": [],
   "source": [
    "buzzwords = [\"Sozial\", \"Klima\", \"Europa\", \"Verkehr\", \"Landwirtschaft\", \"Umwelt\", \"Corona\"]\n",
    "\n",
    "count18 = {}\n",
    "count21 = {}\n",
    "\n",
    "for word in buzzwords:\n",
    "    count18[word] = kv18.count(word)\n",
    "    count21[word] = kv21.count(word)\n",
    "\n",
    "for word in buzzwords:\n",
    "    \n",
    "    if count18[word] > count21[word]:\n",
    "        trend = \"📉\"\n",
    "    elif count18[word] < count21[word]:\n",
    "        trend = \"📈\"\n",
    "    else:\n",
    "        trend = \"🟰\"\n",
    "        \n",
    "    print(\"word: \", word)\n",
    "    print(\"2018: \", count18[word])\n",
    "    print(\"2021: \", count21[word])\n",
    "    print(\"trend:\", trend, \"\\n\")"
   ]
  },
  {
   "cell_type": "markdown",
   "id": "abc21d37-904a-4dda-9557-5ddc8f096c3a",
   "metadata": {
    "deletable": false,
    "editable": false
   },
   "source": [
    "***\n",
    "✏️ **Lösung 3:** Die beiden Koalitionsverträge stammen von unterschiedlichen Parteien (CDU, CSU, SPD bzw. SPD, Grüne, FDP). Find heraus, welche beiden Parteien es mit ihrem Kurznamen in beide Verträge geschafft haben. Stell sicher, dass die Zelle mit dem Dateiinput oben ausgeführt ist, damit die Variablen ```kv18``` und ```kv21``` mit dem jeweiligen Text initialisiert sind."
   ]
  },
  {
   "cell_type": "code",
   "execution_count": null,
   "id": "e378dff8-1105-4b41-98ff-5a89a45ff15c",
   "metadata": {
    "tags": []
   },
   "outputs": [],
   "source": [
    "parties = [\"CDU\", \"CSU\", \"SPD\", \"Grüne\", \"FDP\"]\n",
    "for party in parties:\n",
    "    if party in kv18 and party in kv21:\n",
    "        print(party)"
   ]
  },
  {
   "cell_type": "markdown",
   "id": "18e102cc-b155-4e16-a523-4dfbafaa649d",
   "metadata": {
    "deletable": false,
    "editable": false
   },
   "source": [
    "***\n",
    "\n",
    "✏️ **Lösung 4:** Anstelle von whitespace, das standardmäßig als Trennzeichen von ```split``` verwendet wird (und deswegen auch nicht angegeben werden muss), können wir strings auch bei anderen Trennzeichen aufsplitten. Dazu geben wir das gewünschte Trennzeichen in den Klammern an, etwa ```\".\"```, wenn wir einen string in Sätze aufsplitten wollen. \n",
    "\n",
    "Bring die Geschichte, die in ```sentence``` in komischer Reihenfolge erzählt wird, in die richtige Reihenfolge. Das Resultat sollte ein string mit drei richtig geordneten Sätzen sein. "
   ]
  },
  {
   "cell_type": "code",
   "execution_count": null,
   "id": "ba7629a4-e059-4ad3-9f26-1628dc85b5b6",
   "metadata": {
    "tags": []
   },
   "outputs": [],
   "source": [
    "sentence = \"\"\"Die beiden verliebten sich ineinander. Und wenn sie nicht gestorben sind, kann's sein dass, sie sich heute noch küssen.Es waren einmal ein Hase und ein Fuchs.\"\"\"\n",
    "\n",
    "sentences = sentence.split(\".\")\n",
    "newtext = sentences[2] + \". \" + sentences[0] + \".\" + sentences[1]\n",
    "newtext"
   ]
  },
  {
   "cell_type": "markdown",
   "id": "fea51ae7-121f-4692-a515-2ac2347bbc8a",
   "metadata": {
    "deletable": false,
    "editable": false
   },
   "source": [
    "***\n",
    "\n",
    "✏️ **Lösung 5:** Selbstverständlich kann man das Vorkommen eines Wortes auf einer Liste auszählen lassen (das lernen wir bei den Methoden für Listen). Hier wollen wir aber die oben bereits kennengelernte ```count```-Methode für strings noch einmal anwenden. Dazu müssen wir die Listenelemente wieder zu einem string konkatenieren. Verwend eine Dir bereits bekannte ```str```-Methode, um aus ```words``` wieder einen string zu kreieren. Eine Variable namens ```sentence_again``` soll auf diesen string zeigen. \n",
    "\n",
    "Benutz anschließend die ```count```-Methode, um \"gesagt\" in ```sentence_again``` zu zählen. Das Resultat sollte natürlich zwei sein."
   ]
  },
  {
   "cell_type": "code",
   "execution_count": null,
   "id": "00cbee9a-6777-4712-8aa9-887ec4dd0b2a",
   "metadata": {
    "tags": []
   },
   "outputs": [],
   "source": [
    "words = ['gesagt', 'ist', 'gesagt']\n",
    "sentence_again = \" \".join(words)\n",
    "sentence_again.count(\"gesagt\")"
   ]
  },
  {
   "cell_type": "markdown",
   "id": "2f0c264c-8f07-456f-bfd7-dd9368deaf86",
   "metadata": {
    "deletable": false,
    "editable": false
   },
   "source": [
    "***\n",
    "✏️ **Lösung 6:** Verwend ```str```-Methoden, um aus ```names``` eine Liste mit Namen wie folgt zu kreieren: ```['Martin Berger', 'Kirsten Hauser', 'Michaela Kircher', 'Fritz Hofer']```. Die Namen sollen vollkommen von leading und trailing whitespace bereingt und mit korrekter Groß-/Kleinschreibung vorliegen. "
   ]
  },
  {
   "cell_type": "code",
   "execution_count": null,
   "id": "09c10ae0-e575-4913-9502-7768a886fe12",
   "metadata": {
    "tags": []
   },
   "outputs": [],
   "source": [
    "names = \"Name: Martin Berger name: Kirsten Hauser NAME: Michaela Kircher nAME: Fritz Hofer\"\n",
    "names = names.lstrip(\"Name: \")\n",
    "names_list = names.lower().split(\" name: \")\n",
    "names_list_title = []\n",
    "for name in names_list:\n",
    "    names_list_title.append(name.title())\n",
    "print(names_list_title)\n",
    "\n",
    "#Alternative Lösung\n",
    "names = \"Name: Martin Berger name: Kirsten Hauser NAME: Michaela Kircher nAME: Fritz Hofer\"\n",
    "names = names.lstrip(\"Name: \")\n",
    "names = names.replace(\"name\", \"Name\").replace(\"NAME\", \"Name\").replace(\"nAME\", \"Name\")\n",
    "single_names = names.split(\" Name: \")\n",
    "print(single_names)"
   ]
  },
  {
   "cell_type": "markdown",
   "id": "50aa45e8-b1c7-4d2e-b5b3-2a178cbc498e",
   "metadata": {
    "deletable": false,
    "editable": false
   },
   "source": [
    "***\n",
    "✏️ **Lösung 7:** Modifizier den Code nun derart, dass bei sechs Teilnehmer:innen diejenige Person aus dem Spiel \"gekickt\" wird, die bereits am längsten daran teilnimmt (bzw. sich bereits am längsten auf der Teilnehmer:innenliste befindet). Im gleichen Zug soll die nächste Person aus ```participants_pool``` ins Spiel gelassen werden. Wie beim letzten Mal auch, möchten wir bei jeder Iteration informiert werden, wer gerade im Spiel ist."
   ]
  },
  {
   "cell_type": "code",
   "execution_count": null,
   "id": "5ebe5df0-4200-45e8-8638-a7fbcc5638bc",
   "metadata": {
    "tags": []
   },
   "outputs": [],
   "source": [
    "#In diese Zelle kannst Du den Code zur Übung schreiben.\n",
    "\n",
    "participants_pool = [\"Max\", \"Moritz\", \"Janine\", \"Hussein\", \"Fritz\", \"Mia\", \"Marianne\", \"Dolores\", \"Yin\", \"Margareth\", \"Benni\"]\n",
    "\n",
    "participants_game = []\n",
    "\n",
    "min_participants = 4\n",
    "max_participants = 6\n",
    "\n",
    "for name in participants_pool:\n",
    "    if len(participants_game) < min_participants-1:\n",
    "        participants_game.append(name)\n",
    "        print(\"Noch nicht genügend Teilnehmer:innen, wir brauchen noch\", 4-len(participants_game), \"😬\")\n",
    "        \n",
    "        #Zur Überprüfung der aktuellen Teilnehmer:innenliste\n",
    "        print(\"Aktuell auf der Liste:\", participants_game, \"\\n\")\n",
    "        continue\n",
    "        \n",
    "    elif len(participants_game) >= max_participants:\n",
    "        print(\"Leider muss uns nun\", participants_game[0], \"verlassen\")\n",
    "        participants_game.pop(0)\n",
    "        \n",
    "    participants_game.append(name)\n",
    "    print(\"Das Spiel läuft 😍\")\n",
    "    \n",
    "    #Zur Überprüfung der aktuellen Teilnehmer:innenliste\n",
    "    print(\"Aktuell auf der Liste:\", participants_game, \"\\n\")"
   ]
  },
  {
   "cell_type": "markdown",
   "id": "0a007432-612e-4b1b-9c7a-6c71d5418238",
   "metadata": {
    "deletable": false,
    "editable": false
   },
   "source": [
    "*** \n",
    "\n",
    "✏️ **Lösung 8:** Deine Aufgabe ist es nun, ein Skript zu schreiben, das den oben im Beispiel verwendeten Satz nimmt und die darin vorkommenden Wort-Bigramme auf der Liste ```all_ngrams``` speichert. Neben ```all_ngrams``` wirst Du als Zwischenschritt beim Zusammentragen der Wort-Bigramme eine zweite Liste namens ```current_ngrams``` brauchen. Beide Listen sind bereits im Code gegeben und werden leer initialisiert. \n",
    "\n",
    "Wie erwähnt ist dieses Problem dem obigen im Gesellschaftsspiel-Skript sehr ähnlich. Denk daran, so wenig wie möglich zu hardcoden. Konkret: Definier, wo möglich, Variablen, sodass Dein Skript problemlos auch für andere Sätze oder zum Errechnen von Tri-, Quadrigrammen etc. benutzt werden kann. "
   ]
  },
  {
   "cell_type": "code",
   "execution_count": null,
   "id": "839f55b1-e5bb-4561-822d-170809d163c8",
   "metadata": {
    "tags": []
   },
   "outputs": [],
   "source": [
    "sentence = \"Ich gehe am Abend noch spazieren.\"\n",
    "\n",
    "all_ngrams = []\n",
    "current_ngram = []\n",
    "\n",
    "words = sentence.split()\n",
    "n = 2\n",
    "\n",
    "for word in words:\n",
    "    if len(current_ngram) < n:\n",
    "        current_ngram.append(word)\n",
    "        \"\"\"Da wir an Bigrammen interessiert sind, und 'len(current_ngram)' noch < 2 ist \n",
    "        (also noch keine zwei Wörter auf der Liste sind), überspringen wir den \n",
    "        Rest dieser Iteration mithilfe von 'continue'\"\"\"\n",
    "        continue \n",
    "    \n",
    "    \"\"\"Hier hängen wir das Bigramm an die Liste aller Bigramme.\"\"\"\n",
    "    all_ngrams.append(\" \".join(current_ngram))\n",
    "\n",
    "    \"\"\"Hier entfernen wir das erste Wort im Bigramm auf der Liste des gegenwärtigen Bigramms...\"\"\"\n",
    "    current_ngram.pop(0)\n",
    "    \n",
    "    \"\"\"...und hängen sogleich das nächste Wort an die Liste des gegenwärtigen Bigramms, wodurch wir wieder ein Bigramm erhalten, \n",
    "    welches zu Beginn der nächsten Iteration an die Liste aller Bigramme angehängt werden wird.\"\"\"\n",
    "    current_ngram.append(word)\n",
    "\n",
    "\"\"\"Nach der letzten Iteration der for-Schleife müssen wir noch das letzte Bigramm an die Liste aller Bigramme anhängen, da\n",
    "es sonst verloren geht (es würde ja erst zu Beginn der nächsten Iteration angehängt, nur gibt es keine nächste Iteration).\"\"\"\n",
    "all_ngrams.append(\" \".join(current_ngram)) \n",
    "\n",
    "print(all_ngrams)"
   ]
  },
  {
   "cell_type": "markdown",
   "id": "459fb2a5-909e-4665-9b38-6671bdec5e6a",
   "metadata": {
    "deletable": false,
    "editable": false
   },
   "source": [
    "***\n",
    "\n",
    "✏️ **Lösung 9:** Erinnerst Du Dich an die Übung mit den beiden Einkaufslisten, die zu einer zusammengeführt werden sollten, aus dem Notebook \"Datentypen\"? Damals haben wir mithilfe von ```set``` sichergestellt, dass keine doppelten Elemente auf der zusammengeführten Einkaufsliste vorkommen. In dieser Übung wollen wir es etwas manueller machen (zu Übungszwecken sehen wir vom oben verkündeten Code-Reuse-Mantra ab). Iterier über eine der beiden Listen und füg der anderen Liste sämtliche Lebensmittel an, sofern sie nicht bereits auf dieser anderen Liste stehen. Lass Dir anschließend die andere Liste ausgeben. Diese sollte dann einer zusammengeführten Liste entsprechen."
   ]
  },
  {
   "cell_type": "code",
   "execution_count": null,
   "id": "4cc2ef7f-fa58-412e-b2b9-abbf4ef6dafc",
   "metadata": {
    "tags": []
   },
   "outputs": [],
   "source": [
    "my_shopping_list = [\"Brot\", \"Orangen\", \"Feldsalat\", \"Hafermilch\"]\n",
    "partner_shopping_list = [\"Hafermilch\", \"Kekse\", \"Mehl\", \"Brot\"]\n",
    "\n",
    "for item in partner_shopping_list:\n",
    "    if item not in my_shopping_list:\n",
    "        my_shopping_list.append(item)\n",
    "\n",
    "print(my_shopping_list)"
   ]
  },
  {
   "cell_type": "markdown",
   "id": "10fea8d0-99f5-42b7-be9c-2fa0a8043cca",
   "metadata": {
    "deletable": false,
    "editable": false
   },
   "source": [
    "***\n",
    "\n",
    "✏️ **Lösung 10:** ```temperatures``` ist eine Liste mit unterschiedlichen Messtemperaturen in Grad Celsius. Sie beinhaltet positive und negative Werte sowie fehlende Werte, die mit \"NA\" gekennzeichnet sind (für *not available*, etwa weil das Thermometer ausfiel). Erstell nun mittels List Comprehension folgende neuen Listen. Überleg Dir jeweils genau, an welcher Stelle in der List Comprehension Du die bedingte Anweisung einbauen musst.   \n",
    "\n",
    "1. ```temperatures_preprocessed``` soll eine Liste referenzieren, die nur numerische Werte enthält.\n",
    "\n",
    "Erstell ausgehend von ```temperatures_preprocessed``` diese zwei weiteren Listen:\n",
    "\n",
    "2. ```positives_replaced``` soll eine Liste referenzieren, auf der sämtliche positiven Werte durch 0.0 ersetzt werden.\n",
    "3. ```only_positives``` soll eine Liste referenzieren, die nur positive Werte beinhaltet."
   ]
  },
  {
   "cell_type": "code",
   "execution_count": null,
   "id": "f15b0153-e3b8-4367-a2a8-ab373d52a414",
   "metadata": {
    "tags": []
   },
   "outputs": [],
   "source": [
    "temperatures = [18.6, 23.4, \"NA\", 12.2, -3.1, 33.7, -10.9, -17.8, \"NA\", 7.0, 9.1, -0.2, 0.0, 8.6, \"NA\", \"NA\", 39.4, -29.8]\n",
    "\n",
    "temperatures_preprocessed = [value for value in temperatures if value != \"NA\"]\n",
    "\n",
    "#Alternativer Code\n",
    "#temperatures_preprocessed = [value for value in temperatures if type(value) == float]\n",
    "\n",
    "print(\"Temperaturen ohne fehlende Werte:\", temperatures_preprocessed)\n",
    "\n",
    "positives_replaced = [0.0 if value > 0 else value for value in temperatures_preprocessed]\n",
    "\n",
    "print(\"Positive Messwerte genullt:\", positives_replaced)\n",
    "\n",
    "only_positives = [value for value in temperatures_preprocessed if value > 0]\n",
    "\n",
    "print(\"Nur positive Messwerte:\", only_positives)"
   ]
  },
  {
   "cell_type": "markdown",
   "id": "cd5db20a-8014-4fb1-83a1-4c43ccc671d3",
   "metadata": {
    "deletable": false,
    "editable": false
   },
   "source": [
    "***\n",
    "\n",
    "✏️ **Lösung 11:** Eine Funktion zum Sortieren von dictionaries kennst Du bereits von oben. Sortier ```federal_states``` alphabetisch nach ihren Hauptstädten. Das Resultat sollte eine Liste mit Tupeln bestehend aus Bundesland und Hauptstadt sein."
   ]
  },
  {
   "cell_type": "code",
   "execution_count": null,
   "id": "dd2aaa39-ed29-4c2f-8b73-755551110ef6",
   "metadata": {
    "tags": []
   },
   "outputs": [],
   "source": [
    "federal_states = {'Vorarlberg': 'Bregenz', 'Tirol': 'Innsbruck', 'Kärnten': 'Klagenfurt', 'Steiermark': 'Graz', 'Wien': 'Wien', 'Niederösterreich': 'Sankt Pölten', 'Oberösterreich': 'Linz', 'Salzburg': 'Salzburg', 'Burgenland': 'Eisenstadt'}\n",
    "\n",
    "federal_states_sorted = sorted(federal_states.items(), key=lambda x: x[1])\n",
    "print(federal_states_sorted)"
   ]
  }
 ],
 "metadata": {
  "kernelspec": {
   "display_name": "Python 3 (ipykernel)",
   "language": "python",
   "name": "python3"
  },
  "language_info": {
   "codemirror_mode": {
    "name": "ipython",
    "version": 3
   },
   "file_extension": ".py",
   "mimetype": "text/x-python",
   "name": "python",
   "nbconvert_exporter": "python",
   "pygments_lexer": "ipython3",
   "version": "3.11.5"
  }
 },
 "nbformat": 4,
 "nbformat_minor": 5
}