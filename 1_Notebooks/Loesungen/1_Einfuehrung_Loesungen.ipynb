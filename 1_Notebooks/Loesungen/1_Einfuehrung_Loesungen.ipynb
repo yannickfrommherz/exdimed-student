{
 "cells": [
  {
   "cell_type": "markdown",
   "id": "4c4d5b4e-ee3c-40a5-ad4b-0173181fe634",
   "metadata": {
    "deletable": false,
    "editable": false
   },
   "source": [
    "# Einführung (Lösungen)\n",
    "\n",
    "☝️ Beachte: Es gibt beim Programmieren fast immer verschiedene Lösungswege. Deine Lösung mag anders aussehen, aber dennoch zum gewünschten Resultat führen. Das richtige Resultat ist das Wichtigste. "
   ]
  },
  {
   "cell_type": "markdown",
   "id": "e0f77400-79fa-412a-9d8a-4078fc429f82",
   "metadata": {
    "deletable": false,
    "editable": false
   },
   "source": [
    "✏️ **Lösung 1:** Definier zwei numerische Variablen sowie eine dritte, die die erste Variable von der zweiten subtrahiert. Lass Dir anschließend diese dritte Variable multipliziert mit sich selbst ausgeben."
   ]
  },
  {
   "cell_type": "code",
   "execution_count": null,
   "id": "879a10a9-de07-446d-ae52-9952a4a7da80",
   "metadata": {},
   "outputs": [],
   "source": [
    "nr1 = 9\n",
    "nr2 = 2\n",
    "nr3 = nr2 - nr1\n",
    "print(nr3 * nr3)"
   ]
  },
  {
   "cell_type": "markdown",
   "id": "f2d3b234-f0c5-4a22-b863-dfcbf457ed67",
   "metadata": {
    "deletable": false,
    "editable": false
   },
   "source": [
    "***\n",
    "\n",
    "✏️ **Lösung 2:** Überleg Dir einen kurzen Satz und definiere eine Variable für jedes einzelne Wort, denk dabei an die Anführungszeichen. Mit welchem Operator kannst Du die einzelnen Wörter wieder zu einem Satz zusammenfügen? Verwend eine weitere Variable für den ganzen Satz und lass sie Dir am Ende ausgeben. Stell sicher, dass sich Leerschläge zwischen den einzelnen Wörtern befinden."
   ]
  },
  {
   "cell_type": "code",
   "execution_count": null,
   "id": "b8c125a9-2a0d-4993-bdd8-a5fc2ccf0de2",
   "metadata": {},
   "outputs": [],
   "source": [
    "word1 = \"Ich\"\n",
    "word2 = \"bin\"\n",
    "word3 = \"Programmierer\"\n",
    "whitespace = \" \"\n",
    "sentence = word1 + whitespace + word2 + whitespace + word3\n",
    "print(sentence)"
   ]
  },
  {
   "cell_type": "markdown",
   "id": "aa714390-315c-4a6f-8918-00fa9623a2e0",
   "metadata": {
    "deletable": false,
    "editable": false
   },
   "source": [
    "***\n",
    "\n",
    "✏️ **Lösung 3:** Für einen Kalender möchtest Du alle sieben Wochentage 52 Mal ausdrucken, für jede Woche des Jahres einmal. Das Ergebnis soll also wie folgt aussehen:\n",
    "\n",
    "Mo </br>\n",
    "Di </br>\n",
    "Mi </br>\n",
    "Do </br>\n",
    "Fr </br>\n",
    "Sa </br>\n",
    "So </br>\n",
    "Mo </br>\n",
    "Di </br>\n",
    "\n",
    "und so weiter, bis die zweiundfünfzigste Woche mit \"So\" aufhört (unser Jahr hat der Einfachheit halber nur 364 Tage (52*7)). \n",
    "\n",
    "Definier erst eine Variable mit allen Wochentagen hintereinander (einfach eine Zeichenkette), wobei Du zwischen die Tage jeweils einen Zeilenumbruch mittels ```\\n``` schreibst. Dadurch wird jeder Tag bei der Ausgabe auf einer eigenen Zeile ausgegeben. \n",
    "\n",
    "Überleg Dir nun, mithilfe welchen Operators Du Dir diese Variable 52 Mal ausgeben lassen kannst."
   ]
  },
  {
   "cell_type": "code",
   "execution_count": null,
   "id": "9f48ee92-5706-4bb3-94ad-dc880561f03f",
   "metadata": {},
   "outputs": [],
   "source": [
    "#Bedenke, dass auch nach \"So\" ein Zeilenumbruch eingefügt werden muss.\n",
    "days = \"Mo\\nDi\\nMi\\nDo\\nFr\\nSa\\nSo\\n\"\n",
    "print(days * 52)"
   ]
  },
  {
   "cell_type": "markdown",
   "id": "8b66c0f6-2ffc-4fe4-ac9b-dc9e5a5619e1",
   "metadata": {
    "deletable": false,
    "editable": false
   },
   "source": [
    "***\n",
    "\n",
    "✏️ **Lösung 4:** Bei Variablennamen haben wir ja schon gelernt, dass diese case-sensitive sind. Find nun heraus, ob dies auch bei Zeichenketten der Fall ist, indem Du zwei Variablen mit zwei Zeichenketten definierst, die sich nur in punkto Groß-/Kleinschreibung unterscheiden. Lass Dir anschließend ausgeben, ob die Werte der beiden Variablen für Python gleich sind oder nicht."
   ]
  },
  {
   "cell_type": "code",
   "execution_count": null,
   "id": "dde93a3c-2f14-4476-9ae6-d2b0d37e5a4b",
   "metadata": {},
   "outputs": [],
   "source": [
    "str1 = \"hallo\"\n",
    "str2 = \"HALLO\"\n",
    "print(str1 == str2)"
   ]
  },
  {
   "cell_type": "markdown",
   "id": "f716ebc2-26d5-486f-997d-b5190409ca9c",
   "metadata": {
    "deletable": false,
    "editable": false
   },
   "source": [
    "***\n",
    "\n",
    "✏️ **Lösung 5:** In einem eingerückten Anweisungskörper kann sich wiederum eine Anweisung befinden (und im zugehörigen Anweisungskörper wiederum die nächste Anweisung etc.). Dafür wird einfach jeweils um ein weiteres ```tab``` eingerückt. Auch wenn wir die beiden Kontrollstrukturen ```for``` und ```if``` noch nicht eingeführt haben: Versuch den obigen Code so anzupassen, dass bei jedem ```character``` in ```alphabet``` überprüft wird, ob es sich um ein \"a\" handelt. Nur falls diese Bedingung zutrifft, soll der jeweilige ```character``` mittels der ```print```-Funktion ausgegeben werden. Wenn Du den Code richtig schreibst,  sollte Dir also ein einziges \"a\" ausgegeben werden."
   ]
  },
  {
   "cell_type": "code",
   "execution_count": null,
   "id": "beb4039b-f23c-49da-b458-fbe811e08a20",
   "metadata": {},
   "outputs": [],
   "source": [
    "alphabet = \"abc\"\n",
    "\n",
    "for character in alphabet:\n",
    "    if character == \"a\":\n",
    "        print(character)"
   ]
  },
  {
   "cell_type": "markdown",
   "id": "5d108fca-bd26-4d6b-b4bd-ab1dab4d35c4",
   "metadata": {
    "deletable": false,
    "editable": false
   },
   "source": [
    "***\n",
    "\n",
    "✏️ **Lösung 6:** Definier zwei Variablen, eine Zeichenkette (z. B. \"Boeing\") und eine Zahl (z. B. 747). Führ nun eine dritte Variable ein, die die beiden Objekte miteinander konkateniert (also \"Boeing 747\"). Funktioniert das mithilfe des ```+```-Operators? Wenn nein, lies die Fehlermeldung und überleg Dir, wie Du den Code dennoch zum Laufen bringen könntest."
   ]
  },
  {
   "cell_type": "code",
   "execution_count": null,
   "id": "ffa960f3-447e-4c44-947f-85ca959bed8c",
   "metadata": {},
   "outputs": [],
   "source": [
    "word = \"Boeing\"\n",
    "number_as_string = \"747\"\n",
    "result = word + \" \" + number_as_string\n",
    "print(result)"
   ]
  }
 ],
 "metadata": {
  "kernelspec": {
   "display_name": "Python 3 (ipykernel)",
   "language": "python",
   "name": "python3"
  },
  "language_info": {
   "codemirror_mode": {
    "name": "ipython",
    "version": 3
   },
   "file_extension": ".py",
   "mimetype": "text/x-python",
   "name": "python",
   "nbconvert_exporter": "python",
   "pygments_lexer": "ipython3",
   "version": "3.10.7"
  }
 },
 "nbformat": 4,
 "nbformat_minor": 5
}