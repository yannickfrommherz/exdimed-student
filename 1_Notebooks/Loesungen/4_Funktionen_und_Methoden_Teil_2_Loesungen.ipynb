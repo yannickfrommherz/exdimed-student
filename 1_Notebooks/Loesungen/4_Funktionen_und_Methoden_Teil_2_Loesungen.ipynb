{
 "cells": [
  {
   "cell_type": "markdown",
   "id": "2227f2ff-2d6b-48e7-9303-ebc3da329b43",
   "metadata": {
    "deletable": false,
    "editable": false
   },
   "source": [
    "# Funktionen und Methoden Teil 2 (Lösungen)\n",
    "\n",
    "☝️ Beachte: Es gibt beim Programmieren fast immer verschiedene Lösungswege. Deine Lösung mag anders aussehen, aber dennoch zum gewünschten Resultat führen. Das richtige Resultat ist das Wichtigste. "
   ]
  },
  {
   "cell_type": "markdown",
   "id": "9acbbab8-c91a-4f52-89ba-b1ae8042a6d3",
   "metadata": {
    "deletable": false,
    "editable": false
   },
   "source": [
    "🔧 **Anwendungsfall (komplette Lösung):** Gegeben sind die Koalitionsverträge von 2018 und 2021 in Gegeben sind die Koalitionsverträge von 2018 und 2021 in ```kv18``` bzw. ```kv21```. Zusätzlich ist ```stopwords``` gegeben, eine Liste mit sog. Stoppwörtern, also hochfrequenten Wörtern wie *und*, *der*, *die*, *das* etc., die wir von der Berechnung von Schlüsselwörtern ausschließen wollen. \n",
    "\n",
    "Bereinige sämtliche Wörter und entfern alle Stoppwörter. Errechne anschließend für jeden Wort*type* (vgl. Notebook \"Datentypen\"), wie oft er vorkommt und speicher diese paarweise Information in einem geeigneten Objekt ab. Sortier dieses Objekt in absteigender Reihenfolge und lass Dir die zehn häufigsten Schlüsselwörter ausgeben. Wiederhol diese Schritte für den zweiten Text, um die Schlüsselwörter vergleichen zu können. "
   ]
  },
  {
   "cell_type": "code",
   "execution_count": null,
   "id": "521d92f8-56e1-4a7e-ba44-558b6a53f1f2",
   "metadata": {
    "tags": []
   },
   "outputs": [],
   "source": [
    "#Lösung für kv18 \n",
    "\n",
    "#Achtung: anderere Pfade als im Notebook, da das Lösungsnotebook in einem anderen Verzeichnis liegt\n",
    "#Die zwei Punkte im Pfadnamen bedeuten \"eine Ebene zurück im Pfad\".\n",
    "with open(\"../../3_Dateien/Koalitionsvertraege/koalitionsvertrag_2018.txt\", encoding=\"utf-8\") as f:\n",
    "    kv18 = f.read()\n",
    "    \n",
    "with open(\"../../3_Dateien/Koalitionsvertraege/koalitionsvertrag_2021.txt\", encoding=\"utf-8\") as g:\n",
    "    kv21 = g.read()\n",
    "    \n",
    "stopwords = [] #Initialisieren einer leeren Liste, an die unten die Stoppwörter gehängt werden\n",
    "\n",
    "with open(\"../../3_Dateien/Koalitionsvertraege/stopwords-de.txt\", encoding=\"utf-8\") as h:\n",
    "    for line in h: #Zeile für Zeile werden Stoppwörter ...\n",
    "        stopwords.append(line.rstrip()) #...rechtsseitig von whitespace-Zeichen bereinigt und der Liste 'stopwords' angefügt\n",
    "    \n",
    "words = kv18.split() #Splitten bei whitespace-Zeichen - dadurch erhalten wir eine Liste mit einzelnen Wörtern\n",
    "\n",
    "preprocessed_words = [] #Initiieren einer leeren Liste, an die unten die bereinigten Wörter gehängt werden\n",
    "\n",
    "#Iteration über die einzelnen Wörter\n",
    "for word in words:\n",
    "    word = word.lower() #Kleinschreibung des jeweiligen Worts zur besseren Weiterverarbeitung und Datenauswertung\n",
    "    word = word.strip(\".,():\") #Bereinigen des Worts durch Entfernen der in Klammern festgelegten Zeichen an Wortanfang und -ende\n",
    "    \n",
    "    if word in stopwords: #Wenn das Wort in der Liste 'stopwords' vorkommt... \n",
    "        continue #...überspringen wir den Rest des aktuellen Durchlaufs\n",
    "    \n",
    "    #Wenn das Wort dagegen nicht in 'stopwords' vorkommt, also die if-Bedingung nicht erfüllt wurde, wird das Wort der Liste angehängt.\n",
    "    preprocessed_words.append(word)\n",
    "\n",
    "types = set(preprocessed_words) #Erstellen einer Menge, damit keine Elemente doppelt vorhanden sind\n",
    "\n",
    "freq_dict = {} #Initiieren eines leeren dictionary, an die unten Wort-Vorkommen-Paare gehängt werden\n",
    "\n",
    "#Iterieren über die Menge 'types'\n",
    "#Der Unterstrich nach 'type' dient der Unterscheidung zum Python-Schlüsselwort 'type'.\n",
    "for type_ in types:\n",
    "    freq_dict[type_] = preprocessed_words.count(type_) #Schlüssel im dictionary ist 'type_', der Wert die Vorkommenshäufigkeit von 'type_' in 'preprocessed_words'\n",
    "\n",
    "freq_sorted = sorted(freq_dict.items(), key = lambda x: x[1], reverse=True) #Sortieren in absteigender Reihenfolge mit 'reverse=True'\n",
    "\n",
    "#Ausgabe der zehn häufigsten Wörter\n",
    "for i in range(10): #'range'-Funktion führt Schleife insgesamt zehn Mal aus\n",
    "    print(freq_sorted[i][0], \"kommt\", freq_sorted[i][1], \"oft vor.\")"
   ]
  },
  {
   "cell_type": "markdown",
   "id": "4a252147-80d0-4121-b424-1412a02f8ddc",
   "metadata": {
    "deletable": false,
    "editable": false
   },
   "source": [
    "***\n",
    "\n",
    "🔧 **Anwendungsfall (Schritt-für-Schritt-Lösung):**\n",
    "\n",
    "1. Schritt (bereits gegeben):"
   ]
  },
  {
   "cell_type": "code",
   "execution_count": null,
   "id": "a76765c0-2741-4ab4-bdd9-6bb38d0c4245",
   "metadata": {
    "tags": []
   },
   "outputs": [],
   "source": [
    "with open(\"../../3_Dateien/Koalitionsvertraege/koalitionsvertrag_2018.txt\", encoding=\"utf-8\") as f:\n",
    "    kv18 = f.read()\n",
    "    \n",
    "with open(\"../../3_Dateien/Koalitionsvertraege/koalitionsvertrag_2021.txt\", encoding=\"utf-8\") as g:\n",
    "    kv21 = g.read()\n",
    "    \n",
    "stopwords = [] #Initialisieren einer leeren Liste, an die unten die Stoppwörter angehängt werden\n",
    "\n",
    "with open(\"../../3_Dateien/Koalitionsvertraege/stopwords-de.txt\", encoding=\"utf-8\") as h:\n",
    "    for line in h: #Zeile für Zeile werden Stoppwörter ...\n",
    "        stopwords.append(line.rstrip()) #...rechtsseitig von whitespace-Zeichen bereinigt und der Liste 'stopwords' angefügt"
   ]
  },
  {
   "cell_type": "markdown",
   "id": "d7a2937c-e18c-4b35-9821-04b0ca8dc639",
   "metadata": {
    "deletable": false,
    "editable": false
   },
   "source": [
    "2. Schritt:"
   ]
  },
  {
   "cell_type": "code",
   "execution_count": null,
   "id": "3a5b58b7-c8b5-450a-bdc9-0ad352f3adba",
   "metadata": {
    "tags": []
   },
   "outputs": [],
   "source": [
    "words = kv18.split() #Splitten bei whitespace-Zeichen - dadurch erhalten wir eine Liste mit einzelnen Wörtern\n",
    "print(words[99:119]) #Ausgeben einiger Listenelemente zum Prüfen, ob Splitten erfolgreich war"
   ]
  },
  {
   "cell_type": "markdown",
   "id": "b5f98852-42f4-4bb2-a81c-e45450d67ef4",
   "metadata": {
    "deletable": false,
    "editable": false
   },
   "source": [
    "3. Schritt:"
   ]
  },
  {
   "cell_type": "code",
   "execution_count": null,
   "id": "b444840e-a1ba-4692-9947-5695c4617161",
   "metadata": {
    "tags": []
   },
   "outputs": [],
   "source": [
    "preprocessed_words = [] #Initiieren einer leeren Liste, an die unten die bereinigten Wörter gehängt werden\n",
    "\n",
    "#Iteration über die einzelnen Wörter\n",
    "for word in words:\n",
    "    word = word.lower() #Kleinschreibung des jeweiligen Worts zur besseren Weiterverarbeitung und Datenauswertung\n",
    "    word = word.strip(\".,():\") #Bereinigen des Worts durch Entfernen der in Klammern festgelegten Zeichen an Wortanfang und -ende\n",
    "    \n",
    "    if word in stopwords: #Wenn das Wort in der Liste 'stopwords' vorkommt... \n",
    "        continue #...überspringen wir den Rest des aktuellen Durchlaufs\n",
    "    \n",
    "    #Wenn das Wort dagegen nicht in 'stopwords' vorkommt, also die if-Bedingung nicht erfüllt wurde, wird das Wort der Liste angehängt.\n",
    "    preprocessed_words.append(word)\n",
    "    \n",
    "print(preprocessed_words[99:119])"
   ]
  },
  {
   "cell_type": "markdown",
   "id": "fe93b45f-237f-4ebd-855e-af6bd062389f",
   "metadata": {
    "deletable": false,
    "editable": false
   },
   "source": [
    "4. Schritt:"
   ]
  },
  {
   "cell_type": "code",
   "execution_count": null,
   "id": "9a3e7745-85c0-43f0-9a77-4ddce8e13a6a",
   "metadata": {
    "tags": []
   },
   "outputs": [],
   "source": [
    "types = set(preprocessed_words) #Erstellen einer Menge, damit keine Elemente doppelt vorhanden sind"
   ]
  },
  {
   "cell_type": "markdown",
   "id": "4c71eb81-5f9f-44fd-99a2-b935f97dab4e",
   "metadata": {
    "deletable": false,
    "editable": false
   },
   "source": [
    "5., 6. und 7. Schritt:"
   ]
  },
  {
   "cell_type": "code",
   "execution_count": null,
   "id": "e0c6c1bb-5377-4b62-bb5f-11c9ebd2509b",
   "metadata": {
    "tags": []
   },
   "outputs": [],
   "source": [
    "freq_dict = {} #Initiieren eines leeren dictionary, an die unten Wort-Vorkommen-Paare gehängt werden\n",
    "\n",
    "#Iterieren über die Menge 'types'\n",
    "#Der Unterstrich nach 'type' dient der Unterscheidung zum Python-Schlüsselwort 'type'.\n",
    "for type_ in types:\n",
    "    freq_dict[type_] = preprocessed_words.count(type_) #Schlüssel im dictionary ist 'type_', der Wert die Vorkommenshäufigkeit von 'type_' in 'preprocessed_words'"
   ]
  },
  {
   "cell_type": "markdown",
   "id": "3675fa43-88db-4c21-85f1-433d93a7271d",
   "metadata": {
    "deletable": false,
    "editable": false
   },
   "source": [
    "8. Schritt:"
   ]
  },
  {
   "cell_type": "code",
   "execution_count": null,
   "id": "9bb837ed-d10a-4470-abf0-eddc97103c73",
   "metadata": {
    "tags": []
   },
   "outputs": [],
   "source": [
    "freq_sorted = sorted(freq_dict.items(), key = lambda x: x[1], reverse=True) #Sortieren in absteigender Reihenfolge mit 'reverse=True'"
   ]
  },
  {
   "cell_type": "markdown",
   "id": "0c7cfad2-20e9-4dc0-9758-0307566ef9b2",
   "metadata": {
    "deletable": false,
    "editable": false
   },
   "source": [
    "9. Schritt:"
   ]
  },
  {
   "cell_type": "code",
   "execution_count": null,
   "id": "91878c94-6474-4640-9d44-1a2f4c690edf",
   "metadata": {
    "tags": []
   },
   "outputs": [],
   "source": [
    "#Ausgabe der zehn häufigsten Wörter\n",
    "for i in range(10): #'range'-Funktion führt Schleife insgesamt zehn Mal aus\n",
    "    print(freq_sorted[i][0], \"kommt\", freq_sorted[i][1], \"oft vor.\")"
   ]
  },
  {
   "cell_type": "markdown",
   "id": "fd47bfbe-2bc3-460a-90eb-e89b824b183b",
   "metadata": {
    "deletable": false,
    "editable": false
   },
   "source": [
    "10. Schritt: siehe komplette Lösung oben. "
   ]
  },
  {
   "cell_type": "markdown",
   "id": "405de54a-aab4-4fd1-af9d-67af83958dd0",
   "metadata": {
    "deletable": false,
    "editable": false
   },
   "source": [
    "***\n",
    "\n",
    "✏️ **Lösung 1:** Definier eine Funktion ```sum_div```, die drei Argumente nimmt. Das erste soll mit dem zweiten addiert werden. Das Ergebnis davon soll durch das dritte Argument geteilt werden. Dieses Ergebnis soll zurückgegeben werden. Entfern anschließend den Hashtag vor der bereits existierenden Code-Zeile. Wenn Du ```True``` erhältst, hast Du alles richtig gemacht!"
   ]
  },
  {
   "cell_type": "code",
   "execution_count": null,
   "id": "23a1dc97-30c0-47a3-941c-2dd1e599f5ae",
   "metadata": {
    "tags": []
   },
   "outputs": [],
   "source": [
    "#Definieren einer Funktion 'sum_div', welcher drei Argumente ('a,b,c') übergeben werden müssen\n",
    "def sum_div(a,b,c): \n",
    "    return (a+b)/c #Hier wird definiert, was mit 'a', 'b' und 'c' gemacht werden soll. Das Ergebnis wird durch 'return' zurückgegeben.\n",
    "\n",
    "sum_div(2,3,2) == 2.5 #Überprüfung ob der durch 'sum_div' errechnete Wert 2.5 enspricht"
   ]
  },
  {
   "cell_type": "markdown",
   "id": "879567c4-3aaf-4e5b-84dc-006cbbb7fd9c",
   "metadata": {
    "deletable": false,
    "editable": false
   },
   "source": [
    "***\n",
    "✏️ **Lösung 2:** Importier die Funktion ```sample``` des ```random```-Moduls. ```sample``` generiert eine zufällige Auswahl von Elementen, z.&nbsp;B. zehn zufällige Elemente aus einer Grundgesamtheit mit allen Elementen. Die Funktion erwartet als erstes Argument die Grundgesamtheit in Form einer Liste und als zweites eine Ganzzahl, mit der die Anzahl der zufällig auszuwählenden Elemente definiert wird. Die Grundgesamtheit in dieser Übung ist das ```participants_pool``` von der Übung von oben bzw. aus dem Notebook \"Kontrollstrukturen\". Die Anzahl der zufällig auszuwählenden Elemente beträgt in diesem Fall vier. Wir wollen also zufällige Spielzusammensetzungen mit jeweils vier Teilnehmer:innen erhalten.\n",
    "\n",
    "Deine Aufgabe besteht nun darin, so viele zufällige Spielzusammensetzungen zu genererieren, bis eine Zusammensetzung doppelt vorkommt. Verwend dazu eine passende Kontrollstruktur, die Deinen Code so oft wiederholt, bis die Bedingung, dass eine zufällige Zusammensetzung bereits einmal zuvor generiert wurde, zutrifft. In diesem Fall soll die Iteration abbrechen und die Anzahl der notwendigen Wiederholungen bis zur identischen Zusammensetzung ausgegeben werden. \n",
    "\n",
    "Beachte, dass es für diese Anzahl der notwendigen Wiederholungen keine richtige Antwort gibt, da es in der Natur der zufälligen Auswahl liegt, dass es manchmal etwas mehr und manchmal etwas weniger Wiederholungen braucht.\n",
    "\n",
    "📌 Herausforderung: Verpack Deinen gesamten Code in eine (andere) Kontrollstruktur, die Deinen Code, sagen wir, 1000 Mal wiederholt. Bei jeder Wiederholung soll die notwendige Anzahl, bis zwei Zusammensetzungen doppelt vorkommen, auf einer Liste gespeichert werden. Berechne zum Schluss den Mittelwert dieser Liste, indem Du mittels der Funktion ```sum``` alle Werte auf der Liste addierst und die Summe durch die Länge der Liste dividierst. Bei wiederholter Ausführung dieses Codes sollten die Mittelwerte nur noch geringfügig schwanken."
   ]
  },
  {
   "cell_type": "code",
   "execution_count": null,
   "id": "b1b396a3-371b-4902-9d18-df585af6058b",
   "metadata": {
    "tags": []
   },
   "outputs": [],
   "source": [
    "from random import sample #Importieren der Funktion 'sample' aus dem Modul 'random'\n",
    "\n",
    "participants_pool = [\"Max\", \"Moritz\", \"Janine\", \"Hussein\", \"Fritz\", \"Mia\", \"Marianne\", \"Dolores\", \"Yin\", \"Margareth\", \"Benni\"]\n",
    "\n",
    "count = 0 #Zählervariable mit null initiieren\n",
    "\n",
    "all_compositions = [] #Definieren einer leeren Liste für die Kombinationen\n",
    "\n",
    "#Starten einer Schleife, die solange ausgeführt wird, bis die Abbruchbedingung erfüllt ist\n",
    "while True:\n",
    "    \n",
    "    current_composition = sample(participants_pool, 4) #Zufällige Kombination mit vier Teilnehmer:innen aus der Liste\n",
    "    \n",
    "    if current_composition in all_compositions: #Wenn die aktuelle Kombination bereits in der Liste vorhanden ist...\n",
    "        print(count) #...wird der Wert für 'count' ausgegeben...\n",
    "        break #...und die Schleife abgebrochen\n",
    "    \n",
    "    all_compositions.append(current_composition) #Anfügen der aktuellen Kombination an die Liste aller Kombinationen\n",
    "    \n",
    "    count += 1 #Erhöhen der Zählervariable um eins\n",
    "    \n",
    "#Herausforderung\n",
    "all_counts = [] #Initiieren einer Liste, in der die Anzahl der Kombinationen gezählt wird, bis eine Zusammensetzung doppelt vorkommt\n",
    "\n",
    "for i in range(1000): #Ausführung der Schleife durch 'range'-Funktion 1000 Mal\n",
    "    \n",
    "    count = 0 #Zählervariable bekommt den Wert null zugewiesen\n",
    "\n",
    "    all_compositions = [] #Initiieren einer leeren Liste für die Kombinationen\n",
    "    \n",
    "    #Starten einer Schleife, die solange ausgeführt wird, bis die Abbruchbedingung erfüllt ist\n",
    "    while True:\n",
    "\n",
    "        current_composition = sample(participants_pool, 4) #Zufällige Kombination mit vier Teilnehmer:innen aus der Liste\n",
    "\n",
    "        if current_composition in all_compositions: #Wenn die aktuelle Kombination bereits in der Liste vorhanden ist...\n",
    "            break #...wird die Schleife abgebrochen\n",
    "\n",
    "        all_compositions.append(current_composition) #Anfügen der aktuellen Kombination an die Liste aller Kombinationen\n",
    "        \n",
    "        count += 1 #Erhöhen der Zählervariable um eins\n",
    "    \n",
    "    all_counts.append(count) #Anfügen der Zahl an die Liste 'all_counts'\n",
    "\n",
    "print(sum(all_counts)/len(all_counts)) #Berechnung des Mittelwertes"
   ]
  }
 ],
 "metadata": {
  "kernelspec": {
   "display_name": "Python 3 (ipykernel)",
   "language": "python",
   "name": "python3"
  },
  "language_info": {
   "codemirror_mode": {
    "name": "ipython",
    "version": 3
   },
   "file_extension": ".py",
   "mimetype": "text/x-python",
   "name": "python",
   "nbconvert_exporter": "python",
   "pygments_lexer": "ipython3",
   "version": "3.11.5"
  }
 },
 "nbformat": 4,
 "nbformat_minor": 5
}