{
 "cells": [
  {
   "cell_type": "markdown",
   "id": "62004d4d-da15-463e-8e1b-b6d96a0c9540",
   "metadata": {
    "deletable": false,
    "editable": false
   },
   "source": [
    "# Input und Output Teil 2\n",
    "\n",
    "Willkommen zurück! Auch in diesem Notebook geht es um Input und Output. Zunächst lernst Du, wie Du bei Python mit tabellarischen Dateien arbeiten kannst. Anschließend erfährst Du, wie sich mittels User:innen-Input der Ablauf eines laufenden Programms kontrollieren lässt. Abschließend gehen wir detailliert auf die ```print```-Funktion ein. Wie versprochen erwartet Dich wieder ein Anwendungsfall - das Programmieren des Gedankenprotokollanten. Viel Erfolg!"
   ]
  },
  {
   "cell_type": "markdown",
   "id": "d9ca1f9f-af27-4f9c-8cae-8052a634de6c",
   "metadata": {
    "deletable": false,
    "editable": false
   },
   "source": [
    "\n",
    "## Tabellarische Dateien\n",
    "\n",
    "Tabellarische Dateien kennst Du von Microsoft Excel (oder vergleichbaren Programmen). An der Benutzeroberfläche sind sie in Spalten und Zeilen organisiert, wie wir hier am Beispiel einer Tabelle über die [zehn flächengrößten Gemeinden Deutschlands](https://de.wikipedia.org/wiki/Liste_der_flächengrößten_Gemeinden_Deutschlands) sehen:"
   ]
  },
  {
   "cell_type": "markdown",
   "id": "d69f539e-3f85-43e3-a0c0-3dc18dd26a27",
   "metadata": {
    "deletable": false,
    "editable": false
   },
   "source": [
    "<img src=\"../3_Dateien/Grafiken_und_Videos/Flaechengroesste_Gemeinden_Tabelle.png\">"
   ]
  },
  {
   "cell_type": "markdown",
   "id": "93057ab1-23fb-448d-bbb7-ceba19d35909",
   "metadata": {
    "deletable": false,
    "editable": false
   },
   "source": [
    "Der einzige strukturelle Unterschied zu Textdateien ist, dass es neben Zeilen auch eine zweite Strukturdimension gibt, nämlich die Spalten. \n",
    "\n",
    "\"Hinter den Kulissen\" werden die einzelnen Spalten durch ein Trennzeichen (verwirrenderweise teils *separator*, teils *delimiter* auf Englisch) strukturiert. Bei dieser Datei sind dies Semikola (Strichpunkte), wie wir hier sehen:"
   ]
  },
  {
   "cell_type": "markdown",
   "id": "a570e232-3e56-4e36-b771-a423dc126d29",
   "metadata": {
    "deletable": false,
    "editable": false
   },
   "source": [
    "<img src=\"../3_Dateien/Grafiken_und_Videos/Flaechengroesste_Gemeinden_roh.png\">"
   ]
  },
  {
   "cell_type": "markdown",
   "id": "5d8e4443-a103-4f02-b3ff-b4801414e373",
   "metadata": {
    "deletable": false,
    "editable": false
   },
   "source": [
    "Die Zeilen wiederum werden wie bei Textdateien durch Zeilenumbrüche strukturiert, wobei die dafür zuständigen Zeichen im Screenshot oben einmal mehr nicht sichtbar sind.\n",
    "\n",
    "Wenn wir tabellarische Dateien einlesen, müssen wir wissen, mithilfe welchen Trennzeichens sie auf der Spaltenebene strukturiert sind, damit die Daten einer Zeile an den richtigen Orten in Spalten unterteilt werden. Neben Semikola (```\";\"```) sind Kommata (```\",\"```) oder Tabs (```\"\\t\"```) übliche Trennzeichen. Wenn, wie oben, Semikola das Trennzeichen sind, können die anderen üblichen Trennzeichen ohne Weiteres zwischen den Semikola vorkommen (siehe z.&nbsp;B. die Kommata in den Flächenangaben). Auch beim Schreiben von tabellarischen Dateien müssen bzw. können wir spezifizieren, welches Trennzeichen verwendet werden soll.\n",
    "\n",
    "Zur Arbeit mit tabellarischen Daten (sowie generell für fortgeschrittene Datenanalyse) gibt es die Bibliothek ```pandas```, der das zweiteilige Notebook \"Datenanalyse\" gewidmet ist. Hier schauen wir uns das ```csv```-Modul an, das sich für den einfachen Umgang mit tabellarischen Daten eignet."
   ]
  },
  {
   "cell_type": "markdown",
   "id": "a246eebc-d917-4029-acff-c51466ce56a1",
   "metadata": {
    "deletable": false,
    "editable": false
   },
   "source": [
    "### Das ```csv```-Modul\n",
    "\n",
    "Wie üblich importieren wir das ```csv```-Modul zu Beginn. Ebenfalls setzen wir stets ```csv.``` vor den Namen von Funktionen aus diesem Modul (vgl. oben zum ```os```-Modul).\n",
    "\n",
    "Die Datei mit den flächengrößten Gemeinden lesen wir natürlich auch mittels ```open```, eingebettet in ein ```with```-Statement, ein. Das ```read_file``` übergeben wir zusammen mit dem korrekten Trennzeichen (```delimiter=\";\"```) der ```reader```-Funktion (beachte die \"agentive\" Benennung von Funktionen im ```csv```-Modul). Standardtrennzeichen ist übrigens das Komma (der Name des Moduls ist nämlich eine Abkürzung für *comma-separated values*), das wie immer nicht angegeben werden muss. \n",
    "\n",
    "Die ```reader```-Funktion gibt uns nun nicht ein gewöhnliches Python-Objekt zurück (etwa einen string oder eine Liste wie beim Textinput), sondern ein ```_csv.reader object```, das wir mit ```data``` referenzieren. Über dieses ```_csv.reader object``` können wir wie gewohnt iterieren und die einzelnen Zeilen einer Liste anhängen. Wir müssen das innerhalb der Einrückung machen, da  das ```_csv.reader object``` zusammen mit ```read_file``` wieder geschlossen wird, sobald wir die Einrückung verlassen:"
   ]
  },
  {
   "cell_type": "code",
   "execution_count": null,
   "id": "893250f8-9731-437c-a630-fb41971a2cd7",
   "metadata": {},
   "outputs": [],
   "source": [
    "import csv\n",
    "\n",
    "with open(\"../3_Dateien/Tabellarische_Daten/Liste_der_flaechengroessten_Gemeinden_Deutschlands.csv\", encoding=\"utf-8\") as read_file:\n",
    "    \n",
    "    data = csv.reader(read_file, delimiter=\";\")\n",
    "    biggest_municipalities = []\n",
    "    \n",
    "    for row in data:\n",
    "        biggest_municipalities.append(row)\n",
    "\n",
    "for i in range(6):\n",
    "    print(biggest_municipalities[i])"
   ]
  },
  {
   "cell_type": "markdown",
   "id": "86ae7218-eb63-4a85-929b-b0f940317a26",
   "metadata": {
    "deletable": false,
    "editable": false
   },
   "source": [
    "***\n",
    "\n",
    "✏️ **Übung 1:** Find heraus, wie viele der 100 flächengrößten Gemeinden zu jedem der 16 Bundesländer gehören. Du kannst direkt mit ```biggest_municipalities``` weiterarbeiten. Dir steht ein dictionary mit Bundesländern zur Verfügung. Ziel ist es, den Wert (jetzt noch null für alle Bundesländer) für jedes Bundesland korrekt zu berechnen."
   ]
  },
  {
   "cell_type": "code",
   "execution_count": null,
   "id": "6ff8da10-6370-41f1-830f-1c6572feab11",
   "metadata": {},
   "outputs": [],
   "source": [
    "#In diese Zelle kannst Du den Code zur Übung schreiben.\n",
    "\n",
    "federal_states = {'Baden-Württemberg': 0, 'Bayern': 0, 'Berlin': 0, 'Brandenburg': 0, 'Bremen': 0, 'Hamburg': 0, 'Hessen': 0, \n",
    "                'Mecklenburg-Vorpommern': 0, 'Niedersachsen': 0, 'Nordrhein-Westfalen': 0, 'Rheinland-Pfalz': 0, 'Saarland': 0, \n",
    "                'Sachsen': 0, 'Sachsen-Anhalt': 0, 'Schleswig-Holstein': 0, 'Thüringen': 0}\n"
   ]
  },
  {
   "cell_type": "markdown",
   "id": "db9849b1-0b59-4fc1-8fc3-18ff2f24a34f",
   "metadata": {
    "deletable": false,
    "editable": false
   },
   "source": [
    "***\n",
    "\n",
    "Sehr gut – in Brandenburg befinden sich also die meisten der 100 flächengrößten Gemeinden Deutschlands.\n",
    "\n",
    "Das dictionary ```federal_states``` wollen wir nun als Tabelle extern speichern. Die Tabelle wird ganz einfach aus zwei Spalten sowie 17 Zeilen (eine Zeile mit Spaltenüberschriften + 16 Bundesländer) bestehen. \n",
    "\n",
    "Der Output von tabellarischen Dateien funktioniert wie gewohnt in einem ```with```-Statement über die ```open```-Funktion mit dem Parameter ```\"w\"```. Nun kommt das Pendant zu ```reader```, nämlich ```writer```, zum Einsatz, dies jedoch auf ziemlich unintuitive Art. Wenn es Dich interessiert, wird im Folgenden erklärt, was da genau geschieht. Andernfalls ist es auch in Ordnung, die Syntax unten einfach zu copy-pasten, wann immer Du tabellarische Daten schreiben musst.\n",
    "\n",
    "1. Wir initialisieren ein ```_csv.writer object```, indem wir der ```writer```-Funktion die zu beschreibende Datei (```write_file```) als Argument übergeben. Das ```_csv.writer object``` weisen wir der Variable ```federal_states_writer``` zu. Was wir nun in dieses Objekt reinschreiben, landet am Schluss in der externen Datei.\n",
    "2. Wir wenden die Methode ```writerow``` auf das ```_csv.writer object``` an, um unsere Daten Zeile für Zeile zu schreiben:\n",
    "    - Wir schreiben die Spaltenüberschriften (```header```) in die erste Zeile.\n",
    "    - Wir iterieren danach über ```federal_states``` und schreiben Zeile für Zeile in ```federal_states_writer```."
   ]
  },
  {
   "cell_type": "code",
   "execution_count": null,
   "id": "69998139-ff99-4a03-ac0e-fd4dc6eebcb7",
   "metadata": {},
   "outputs": [],
   "source": [
    "#Damit wir auf dem gleichen Stand sind, wird das dictionary mit den korrekten Werten pro Schlüssel hier noch einmal initialisiert.\n",
    "federal_states = {'Baden-Württemberg': 1, 'Bayern': 5, 'Berlin': 1, 'Brandenburg': 30, 'Bremen': 1, 'Hamburg': 1, 'Hessen': 2, \n",
    "                  'Mecklenburg-Vorpommern': 0, 'Niedersachsen': 15, 'Nordrhein-Westfalen': 13, 'Rheinland-Pfalz': 0, \n",
    "                  'Saarland': 0, 'Sachsen': 5, 'Sachsen-Anhalt': 24, 'Schleswig-Holstein': 1, 'Thüringen': 1}\n",
    "\n",
    "with open(\"../3_Dateien/Output/Anzahl_der_groessten_Gemeinden_pro_Bundesland.csv\", \"w\", encoding=\"utf-8\") as write_file:\n",
    "    \n",
    "    federal_states_writer = csv.writer(write_file, delimiter=\";\")\n",
    "    \n",
    "    header = [\"Bundesland\", \"Anzahl der 100 flächengrößten Gemeinden\"]\n",
    "    \n",
    "    federal_states_writer.writerow(header)\n",
    "    \n",
    "    for row in federal_states.items():\n",
    "        federal_states_writer.writerow(row)"
   ]
  },
  {
   "cell_type": "markdown",
   "id": "c43b95b6-7a76-409a-95fd-d9636ddf55c9",
   "metadata": {
    "deletable": false,
    "editable": false
   },
   "source": [
    "Nun kennen wir die zwei grundlegenden Techniken zum Input bzw. Output von tabellarischen Dateien.\n",
    "\n",
    "## User:innen-Input für interaktive Programme\n",
    "\n",
    "Wie wir bereits im Notebook \"Kontrollstrukturen\" gesehen haben, ist es ganz einfach, User:innen-Input in Programme einzubauen. Wir verwenden dafür die ```input```-Funktion und übergeben ihr einen sog. *prompt* als string. Dieser *prompt* ist die Aufforderung, die der Benutzerin angezeigt wird, sobald Python die Code-Zeile mit der ```input```-Funktion erreicht. Das, was die Benutzerin nun eingibt (und durch Drücken von ```Enter``` \"abschickt\"), weisen wir direkt einer Variablen zu. \n",
    "\n",
    "Python interpretiert den Input standardmäßig als string. Wenn wir z.&nbsp;B. eine Ganzzahl erwarten (und der anschließende Code darauf ausgerichtet ist), müssen wir den Input vor der Variablenzuweisung entsprechend casten (s.&nbsp;u.).\n",
    "\n",
    "Führ die folgende Zelle aus und agier im Anschluss als Benutzer:in. Eventuell musst Du erst ins Antwortfeld unter der Frage klicken, sodass der Cursor blinkt."
   ]
  },
  {
   "cell_type": "code",
   "execution_count": null,
   "id": "d5873de6-cae0-41ae-869b-2ceeddbf0f98",
   "metadata": {},
   "outputs": [],
   "source": [
    "name = input(\"Wie heißt Du?\\n\")\n",
    "\n",
    "#Handelt es sich um einen anderen Datentyp als string, muss der Input gecastet werden.\n",
    "age = int(input(\"Und wie alt bist Du?\\n\"))\n",
    "\n",
    "#Ohne Casting würde diese bedingte Anweisung fehlschlagen, da strings nicht größer gleich 18 sein können.\n",
    "if age >= 18:\n",
    "    print(\"Freut mich, \", name, \". Du darfst natürlich in den Club! 🎉\", sep=\"\")\n",
    "else:\n",
    "    print(\"Freut mich, \", name, \". Du darfst leider nicht in den Club! 😢\", sep=\"\")"
   ]
  },
  {
   "cell_type": "markdown",
   "id": "57370110-6f27-47ed-a179-abd48106e502",
   "metadata": {
    "deletable": false,
    "editable": false
   },
   "source": [
    "Solltest Du im Folgenden beim Ausführen einer Code-Zelle auf die Fehlermeldung ```Cell not executed due to pending input``` stoßen, lies im Notebook \"Kontrollstrukturen\" nach, woran das liegt.\n",
    "\n",
    "Das ist auch schon alles, das wir über User:innen-Input wissen müssen. \n",
    "\n",
    "Nun können wir uns unserem Anwendungsfall zuwenden."
   ]
  },
  {
   "cell_type": "markdown",
   "id": "e9247c66-41b6-4620-99a2-1a99f7d9b704",
   "metadata": {
    "deletable": false,
    "editable": false
   },
   "source": [
    "***\n",
    "\n",
    "## 🔧 Anwendungsfall: Einen Gedankenprotokollanten programmieren \n",
    "\n",
    "Deine Aufgabe ist es also, ein kleines interaktives Programm zu schreiben, mit dessen Hilfe eine Benutzerin schlaue Gedanken protokollieren kann. Hier folgt nochmal das gleiche Video vom Anfang:"
   ]
  },
  {
   "cell_type": "code",
   "execution_count": null,
   "id": "45576f25-b5fc-4f5e-a2fc-cf6bea21dd5c",
   "metadata": {},
   "outputs": [],
   "source": [
    "#Führ diese Zelle aus, um das Video einzubetten.\n",
    "from IPython.display import YouTubeVideo\n",
    "YouTubeVideo('RlshSCCX55E')"
   ]
  },
  {
   "cell_type": "markdown",
   "id": "9d0f154b-c247-443f-8460-ecd9076ee90f",
   "metadata": {
    "deletable": false,
    "editable": false
   },
   "source": [
    "Ergänzend zu diesem Video siehst Du unten eine Liste an einfachen Schritten, die – korrekt implementiert – die Aufgabe lösen und das im Video gezeigte Endprodukt verwirklichen. Diese einzelnen Schritte entsprechen dem zweiten Punkt beim algorithmischen Denken (nach der initialen Problemanalyse und vor der konkreten Implementierung).\n",
    "\n",
    "Überleg Dir für jeden einzelnen Schritt, wie Du ihn konkret implementieren kannst, d.&nbsp;h. welche Funktionen oder Methoden sowie Kontrollstrukturen Du dafür benötigst. Schreib zu jedem Punkt alle Techniken auf, mithilfe welcher Du den jeweiligen Punkt konkret in Code umsetzen kannst (z. B. als Kommentare in die Code-Zelle). Ignorier dabei erst einmal, wie und in welcher Reihenfolge Du die Schritte anschließend miteinander verbindest:\n",
    "\n",
    "1. Die Benutzerin wird gegrüßt und ihr wird erklärt, welche Funktionen das Programm ihr bietet.\n",
    "2. Die Benutzerin wird aufgefordert, anzugeben, in welchem Dokument sie ihre(n) Gedanke(n) festhalten will. Handelt es sich um ein noch nicht existierendes Dokument, so wird es für sie geschaffen. Existiert das Dokument bereits, so soll(en) ihr(e) Gedanke(n) an dessen Ende gehängt werden.\n",
    "3. Die Benutzerin wird aufgefordert, ihren Gedanken einzugeben.\n",
    "4. Der Gedanke wird in das gewählte Dokument geschrieben.\n",
    "5. Die Benutzerin wird zur Entscheidung aufgefordert, ob sie einen weiteren Gedanken im selben Dokument festhalten oder das Programm verlassen will.\n",
    "    1. Will die Benutzerin einen weiteren Gedanken festhalten, so soll das Programm zu Schritt 3 zurückspringen.\n",
    "    2. Will die Benutzerin das Programm verlassen, so soll sie verabschiedet werden.\n",
    "\n",
    "Du kannst nun wählen, ob Du von hier aus selbst weiter machen willst. Der nächste Arbeitsschritt besteht natürlich darin, die einzelnen Techniken *in der richtigen Reihenfolge* in Code zu implementieren. Verwend dafür die folgende Code-Zelle. Sollte Dir nicht zu allen fünf Schritten eine mögliche Technik einfallen, so findest Du nach der Code-Zelle mögliche Implementierungslösungen für jeden einzelnen Schritt."
   ]
  },
  {
   "cell_type": "code",
   "execution_count": null,
   "id": "7282ec1e-0fef-49ab-b3a8-69e23d0b2901",
   "metadata": {},
   "outputs": [],
   "source": [
    "# In diese Zelle kannst Du den Code zur Übung schreiben.\n",
    "\n",
    "\n",
    "\n",
    "\n",
    "\n",
    "\n",
    "\n",
    "\n",
    "\n",
    "\n",
    "\n",
    "\n",
    "\n",
    "\n",
    "\n",
    "\n",
    "\n",
    "\n",
    "\n",
    "\n"
   ]
  },
  {
   "cell_type": "markdown",
   "id": "263bbf9f-6880-4227-9060-65c4172da8a3",
   "metadata": {
    "deletable": false,
    "editable": false
   },
   "source": [
    "Hier erfährst Du, wie die einzelnen Schritte implementiert werden können. Klick dazu auf den jeweiligen Schritt, für den Du weitere Tipps brauchst.\n",
    "\n",
    "<details>\n",
    "<summary> 1. Die Benutzerin wird gegrüßt und ihr wird erklärt, welche Funktionen das Programm ihr bietet. </summary>\n",
    "<ul>\n",
    "<li> <code>print(\"Gruß\")</code> bietet sich an, um die Benutzerin initial zu grüßen.</li>\n",
    "<li> Alternativ könnte man den Gruß auch in den <code>input</code>-<i>prompt</i> von Schritt 2 integrieren (<code>input(\"Gruß + prompt\")</code>; so wurde das im Video umgesetzt), an der Benutzeroberfläche sind beide Alternativen gleichwertig. </li>\n",
    "<li> Wie stellen wir sicher, dass der Gruß nur wirklich am Anfang angezeigt wird, und nicht noch einmal, wenn die Benutzerin einen weiteren Gedanken festhalten will (vgl. Schritt 5.A.)? Wir führen eine Variable <code>first_time</code> ein und setzen sie ganz am Anfang auf <code>True</code> (<code>first_time = True</code>); das <code>print(\"Gruß\")</code>-Statement bzw. das kombinierte <code>input(\"Gruß + prompt\")</code>-Statement führen wir nur aus, wenn <code>first_time</code> <code>True</code> ist (<code>if first_time == True</code>); nach dem ersten Durchlauf setzen wir <code>first_time</code> auf <code>False</code> (<code>first_time = False</code>), der Gruß wird somit nicht mehr ausgegeben.</li>\n",
    "</ul>\n",
    "</details>\n",
    "\n",
    "<br>\n",
    "\n",
    "<details>\n",
    "<summary> 2. Die Benutzerin wird aufgefordert, anzugeben, in welchem Dokument sie ihre(n) Gedanke(n) festhalten will. Handelt es sich um ein noch nicht existierendes Dokument, so wird es für sie geschaffen. Existiert das Dokument bereits, so soll(en) ihr(e) Gedanke(n) an dessen Ende gehängt werden. </summary>\n",
    "<ul>\n",
    "<li> Den Namen des gewünschten Dokuments fragen wir über <code>input(prompt)</code> ab (ggf. mit dem Gruß davor, s. o.), das Resultat weisen wir einer Variablen namens <code>file_name</code> zu. </li>\n",
    "<li> Wie unter 1. erwähnt, soll dieser <code>input</code>-Befehl nur bedingt ausgeführt werden, nämlich nur, wenn <code>first_time</code> <code>True</code> ist (<code>if first_time == True</code>). </li>\n",
    "<li> Das gewünschte Dokument öffnen wir in einem <code>with</code>-Statement mittels <code>open</code> im <i>append</i>-Modus (<code>\"a\"</code> ) und <code>\"encoding=utf-8\"</code>. Der <i>append</i>-Modus schafft das gewünschte Dokument, sollte es noch nicht existieren. Wenn es bereits existiert, wird der neue Inhalt an das gewünschte Dokument angehängt. Wichtig: Als Pfad übergeben wir der <code>open</code>-Funktion einen konkatenierten string bestehend aus dem Pfad zum Verzeichnis (das kannst Du selbst auswählen), dem <code>file_name</code> sowie dem Suffix \".txt\". Das geöffnete Dokument weisen wir wie üblich einer Variablen zu: <code>as write_file</code>.</li>\n",
    "</ul>\n",
    "</details>\n",
    " \n",
    "<br>\n",
    "   \n",
    "<details>\n",
    "<summary> 3. Die Benutzerin wird aufgefordert, ihren Gedanken einzugeben. </summary>\n",
    "<ul>\n",
    "<li> Dafür verwenden wir wieder die <code>input</code>-Funktion und weisen das Resultat der Variablen <code>thought</code> zu. Es spielt keine Rolle, ob wir dies vor oder eingerückt unter dem <code>with</code>-Statement (s. o.) tun.</li>\n",
    "</ul>\n",
    "</details>\n",
    "\n",
    "<br>\n",
    "\n",
    "<details>\n",
    "<summary> 4. Der Gedanke wird in das gewählte Dokument geschrieben. </summary>\n",
    "<ul>\n",
    "<li> Eingerückt unter dem <code>with</code>-Statement wenden wir die <code>write</code>-Methode auf <code>write_file</code> an, in die Klammern setzen wir <code>thought</code> sowie einen finalen Zeilenumbruch. <code>thought</code> wird jetzt also auf eine eigene Zeile in <code>write_file</code> geschrieben. Durch das Verlassen der Einrückung des <code>with</code>-Statements wird das Dokument mit der neuen Zeile gespeichert und geschlossen.</li>\n",
    "</ul>\n",
    "</details>\n",
    "   \n",
    "<br>\n",
    "\n",
    "<details>\n",
    "<summary> 5. Die Benutzerin wird zur Entscheidung aufgefordert, ob sie einen weiteren Gedanken im selben Dokument festhalten oder das Programm verlassen will. </summary>\n",
    "<ul>\n",
    "<li> Hier kommt noch einmal <code>input</code> zum Einsatz. Da die Benutzerin ihre Entscheidung nicht über eine binäre \"Ja/Nein\"-Taste mitteilen kann, empfiehlt es sich, sie zur Eingabe eines \"Y\" (oder sonst eines bestimmten Buchstaben) aufzufordern, sollte sie noch einen weiteren Gedanken festhalten wollen. Andernfalls soll sie irgendeine andere Eingabe tätigen. Ihre Eingabe weisen wir der Variablen <code>repeat</code> zu. </li>\n",
    "<li> Spätestens an dieser Stelle fällt uns auf, dass wir den gesamten vorherigen Code in eine Schleife einbauen müssen. Nämlich in eine (potentielle) Endlosschleife, die nur dann abgebrochen wird, wenn sich die Benutzerin dazu entscheidet, <i>keinen</i> weiteren Gedanken festzuhalten (vgl. Schritt 5.B.). Dafür verwenden wir <code>while True</code> (vgl. Notebook \"Kontrollstrukturen\"), eine Schleife, die sich unendlich wiederholt, es sei denn, Python trifft auf ein <code>break</code>-Statement. </li>\n",
    "<li> Am Ende des Codeblocks innerhalb der <code>while</code>-Schleife müssen wir also prüfen, ob <code>repeat</code> \"Y\" (oder einem anderen festgelegten Zeichen) entspricht und abhängig davon die Schleife abbrechen (<code>break</code>) oder nicht.</li>\n",
    "    <br>\n",
    "A. Will die Benutzerin einen weiteren Gedanken festhalten, so soll das Programm zu Schritt 3 zurückspringen: <br>\n",
    "    In diesem Fall müssen wir nichts weiter machen, die Schleife läuft ja von allein weiter. Einzig wichtig ist, dass der Gruß sowie die Aufforderung nach dem Namen des gewünschten Dokuments (Schritt 1 und 2) nicht wiederholt werden, indem wir hier <code>first_time = False</code> setzen.\n",
    "        <br><br>\n",
    "B. Will die Benutzerin das Programm verlassen, so soll sie verabschiedet werden: <br>\n",
    "    Entspricht <code>repeat</code> nicht \"Y\" (<code>if repeat != \"Y\"</code>), dann verabschieden wir uns von der Benutzerin über eine <code>print</code>-Ausgabe und brechen die Endlossschleife ab (<code>break</code>). \n",
    "\n",
    "</ul>\n",
    "</details>\n",
    "<br>\n",
    "Solltest Du den Anwendungsfall nicht bereits gelöst haben, versuch es mithilfe all dieser Techniken in der Code-Zelle oben.\n",
    "\n",
    "***\n",
    "\n",
    "Damit sind wir in der Lage, unsere Python-Programme über User:innen-Input interaktiv zu gestalten. 😎\n",
    "\n",
    "Abschließend schauen wir uns noch die vermutlich am häufigsten benutzte Funktion, nämlich ```print```, genauer an."
   ]
  },
  {
   "cell_type": "markdown",
   "id": "67170ad0-0ca4-4e7e-a81b-b0b32e27e109",
   "metadata": {
    "deletable": false,
    "editable": false
   },
   "source": [
    "## Die ```print```-Funktion im Detail\n",
    "\n",
    "```print``` gibt bekanntlich null, ein oder mehrere Objekte als string aus:"
   ]
  },
  {
   "cell_type": "code",
   "execution_count": null,
   "id": "25567b98-0f76-45a1-8b51-5b947e272fd2",
   "metadata": {},
   "outputs": [],
   "source": [
    "number = 5\n",
    "\n",
    "print() #'print' ohne Argument gibt einfach eine leere Zeile aus\n",
    "print(\"Hier wird ein Objekt ausgegeben.\")\n",
    "print(\"Hier werden zwei Objekte\", \"ausgegeben.\")\n",
    "print(\"Hier\", \"werden\", number, \"Objekte\", \"ausgegeben.\")"
   ]
  },
  {
   "cell_type": "markdown",
   "id": "5a32e5f5-fcce-497b-ab3b-55034912e34f",
   "metadata": {
    "deletable": false,
    "editable": false
   },
   "source": [
    "Am dritten und vierten Beispiel sehen wir, dass ```print``` die einzelnen Objekte mit einem Leerschlag dazwischen konkateniert. Verantwortlich dafür ist der ```sep```-Parameter, der standardmäßig einem Leerschlag entspricht, aber natürlich anders spezifiziert werden kann:"
   ]
  },
  {
   "cell_type": "code",
   "execution_count": null,
   "id": "e1c8254c-47c9-42b0-ad5f-9e8a07a98206",
   "metadata": {},
   "outputs": [],
   "source": [
    "print(\"Leer\", \"schlag\", sep=\"\")\n",
    "print(13, 10, 1988, sep=\".\", end=\" / \") #Deutsche Schreibweise\n",
    "print(10, 13, 1988, sep=\"-\") #US-amerikanische Schreibweise"
   ]
  },
  {
   "cell_type": "markdown",
   "id": "81a80b5f-ea08-4959-96ea-397bf3be6ee6",
   "metadata": {
    "deletable": false,
    "editable": false
   },
   "source": [
    "Im zweiten Beispiel haben wir zudem einen ```end```-Parameter spezifiziert. Überleg Dir für einen Augenblick, was hier der Standardwert sein könnte.\n",
    "\n",
    "Genau, ein Zeilenumbruch.\n",
    "\n",
    "Der letzte optionale Parameter der ```print```-Funktion heißt ```file```. Statt das/die übergegebe(n) Argument(e) standardmäßig im Outputfeld auszugeben, können wir den Output in eine externe Datei *umleiten*. Wichtig dabei ist, dass die Datei geöffnet ist:"
   ]
  },
  {
   "cell_type": "code",
   "execution_count": null,
   "id": "1c558d0f-5c49-44a5-8471-f93cde488b34",
   "metadata": {},
   "outputs": [],
   "source": [
    "with open(\"../3_Dateien/Output/print_file.txt\", \"a\", encoding=\"utf-8\") as write_file:\n",
    "    print(\"So können wir in eine externe Datei schreiben.\", file=write_file)\n",
    "    \n",
    "    #Dabei besteht übrigens kein Unterschied zur oben kennengelernten 'write'-Methode\n",
    "    #write_file.write(\"So können wir in eine externe Datei schreiben.\")"
   ]
  },
  {
   "cell_type": "markdown",
   "id": "f7d36280-05a1-428a-8877-79bca9069874",
   "metadata": {
    "deletable": false,
    "editable": false
   },
   "source": [
    "Wenn Du diese Zelle mehrfach ausführst, schreibst Du jedes Mal eine weitere Zelle in die externe Datei. Dies liegt natürlich am *append*-Modus.\n",
    "\n",
    "### f-strings\n",
    "\n",
    "Im Zusammenhang mit ```print``` sind auch die sog. *f-strings* (abgekürzt für *formatted string literals*) zu erwähnen. Gleich wie ```print``` (für die Ausgabe) und die Zeichenketten-Konkatenation mithilfe von ```+``` (vgl. Notebook \"Einführung\") können wir f-strings dazu nutzen, beliebig viele Werte zu einem string zusammenzusetzen. Das sieht syntaktisch so aus:"
   ]
  },
  {
   "cell_type": "code",
   "execution_count": null,
   "id": "62d44ccb-655e-4b22-9adb-4781c5186796",
   "metadata": {},
   "outputs": [],
   "source": [
    "letter = \"f\"\n",
    "sentence = f\"Ein f-string beginnt mit einem kleinen '{letter}' oder großen '{letter.upper()}'.\"\n",
    "print(sentence)"
   ]
  },
  {
   "cell_type": "markdown",
   "id": "df9e111d-a6c8-4cb8-ad93-bf2419e025eb",
   "metadata": {
    "deletable": false,
    "editable": false
   },
   "source": [
    "Steht ein \"f\"/\"F\" vor dem öffnenden Anführungszeichen eines string, können wir beliebig viele Werte, jeweils umrahmt von geschweiften Klammern, *in* den string reinpacken. Der Wert kann dabei direkt von einer Variablen kommen (oben ```letter```) oder das Ergebnis eines komplexen Ausdrucks sein (oben bei ```letter.upper()```).  \n",
    "\n",
    "Als Erinnerung (vom Notebook \"Einführung\"): Ein komplexer Ausdruck wie eine arithmetische Operation (```2*3```), eine Funktion (```sorted``` oder ```len```), eine Methode (s.&nbsp;o.), ein Werteabruf in einem dictionary (```dictionary[key]```) etc. gibt immer *einen* Wert zurück (```6``` beim Beispiel für die arithmetische Operation). Genau dieser Wert wird dann an der Stelle der geschweiften Klammern im string eingesetzt.\n",
    "\n",
    "Derselben Logik entsprechend lassen sich auch bedingte Anweisungen in einen f-string integrieren. Folgenden Code kennen wir bereits von oben. Dank f-strings ist er nun aber wesentlich kürzer:"
   ]
  },
  {
   "cell_type": "code",
   "execution_count": null,
   "id": "97838f2f-8484-4503-9ccb-45ca8f4b7fbc",
   "metadata": {
    "tags": [
     "\"hide-output\""
    ]
   },
   "outputs": [],
   "source": [
    "name = input(\"Wie heißt Du?\")\n",
    "age = int(input(\"Und wie alt bist Du?\"))\n",
    "\n",
    "print(f\"Freut mich, {name}. Du darfst {'leider nicht' if age < 18 else 'natürlich'} in den Club.\")"
   ]
  },
  {
   "cell_type": "markdown",
   "id": "553aa7d8-4181-4d06-9d26-dd910a87f640",
   "metadata": {
    "deletable": false,
    "editable": false
   },
   "source": [
    "Spannender als das Einbauen von Werten in strings sind aber die durch f-strings entstehenden, unzähligen Möglichkeiten, diese Werte zu *formatieren*. Im Folgenden wollen wir uns auf die zwei wichtigsten Formatiermöglichkeiten konzentrieren. Weitere findest Du im Cheat Sheet zu f-strings.\n",
    "\n",
    "1. Nachkommastellen: Besonders praktisch ist die Möglichkeit, die Anzahl an Nachkommastellen bei Dezimalzahlen festzulegen:"
   ]
  },
  {
   "cell_type": "code",
   "execution_count": null,
   "id": "2165a5d3-6854-4a03-89fc-bfb55442d5c4",
   "metadata": {},
   "outputs": [],
   "source": [
    "value = 23.238457584\n",
    "\n",
    "#Hier runden wir 'value' auf zwei Nachkommastellen\n",
    "print(f\"Zahl mit nur zwei Nachkommastellen: {value:.2f}\") "
   ]
  },
  {
   "cell_type": "markdown",
   "id": "af97daa7-f330-4976-852a-3347c2df6d3a",
   "metadata": {
    "deletable": false,
    "editable": false
   },
   "source": [
    "Egal wie ein Wert formatiert werden soll, die Formatierung wird durch einen Doppelpunkt nach dem Wert eingeleitet. \n",
    "\n",
    "Danach wird spezifiziert, wie der Wert formatiert werden soll: ```.2``` definiert im Beispiel oben, dass ```value``` auf zwei Nachkommastellen gekürzt werden soll, das ```f``` definiert, als welcher Datentyp der formatierte Wert ausgegeben werden soll (hier als Dezimalzahl, wobei das *f* von der englischen Bezeichnung *float* herrührt).\n",
    "\n",
    "2. Ausrichten von Zahlen: Ebenso praktisch ist es, mehrere Zahlen, die aus einer unterschiedlichen Anzahl an Ziffern bestehen, einheitlich untereinander auszurichten:"
   ]
  },
  {
   "cell_type": "code",
   "execution_count": null,
   "id": "19faca96-e81c-4036-bd1d-8bbdf15fc3c3",
   "metadata": {},
   "outputs": [],
   "source": [
    "value1 = 1\n",
    "value2 = 123\n",
    "print(f\"Schön ausgerichtete Zahl: {value1:3} (ohne 'Auffüllung')\")\n",
    "print(f\"Schön ausgerichtete Zahl: {value1:03} (mit Nullen 'aufgefüllt')\")\n",
    "print(f\"Schön ausgerichtete Zahl: {value2:3} (keine 'Auffüllung', da dreiziffrig)\")"
   ]
  },
  {
   "cell_type": "markdown",
   "id": "845e80ea-aaa7-40f2-80ae-67c88176d484",
   "metadata": {
    "deletable": false,
    "editable": false
   },
   "source": [
    "Hier definieren wir nach dem Doppelpunkt einen sog. *digit space*, also die Anzahl an Stellen, die zur Ausgabe verwendet werden soll. In den Beispielen oben wird der digit space als aus drei Stellen bestehend definiert. Optional können wir davor angeben, ob etwaige leere Stellen (da die Zahl aus weniger Ziffern als Stellen des digit space besteht) mit Nullen \"aufgefüllt\" werden sollen (engl.: *zero padding*). Zahlen, die aus weniger Ziffern als der digit space bestehen und nicht zero-gepaddet werden, werden rechtsbündig ausgegeben. Wie Du diese Ausrichtung innerhalb des vorgegebenen digit space ändern kannst (engl.: *alignment*), findest Du im Cheat Sheet.\n",
    "\n",
    "Digit space und Nachkommastellen können natürlich auch zusammen definiert werden, die syntaktische Reihenfolge sieht dann so aus (die Leerschläge dienen nur der besseren Lesbarkeit und müssen im Code entfernt werden!):\n",
    "\n",
    "```f\"{value: (zero_padding) digit_space . decimals type}```\n",
    "\n",
    "Genau diese Kombination aus digit space und Nachkommastellen kannst Du nun in der letzten Übung einsetzen."
   ]
  },
  {
   "cell_type": "markdown",
   "id": "9c9ea053-0013-4862-a35d-1c9ff7d3546d",
   "metadata": {
    "deletable": false,
    "editable": false
   },
   "source": [
    "***\n",
    "\n",
    "✏️ **Übung 2:** In ```shopping_list``` finden sich Schlüssel-Werte-Paare bestehend aus Lebensmitteln und dem jeweiligen Preis. Deine Aufgabe ist es, die Ausgabe mithilfe von f-strings wie im folgenden Screenshot gezeigt auszugeben. Einen digit space kannst Du nicht nur für Zahlen, sondern für Objekte jeglichen Datentyps festlegen. Der digit space für die Spalte \"Product\" soll 25 Stellen betragen, derjenige für \"Price\" fünf."
   ]
  },
  {
   "cell_type": "markdown",
   "id": "7bb84f01-623f-409b-b465-070a8f91993a",
   "metadata": {
    "deletable": false,
    "editable": false
   },
   "source": [
    "<img src=\"../3_Dateien/Grafiken_und_Videos/Einkaufskorb.png\">"
   ]
  },
  {
   "cell_type": "markdown",
   "id": "c3ac740b-4456-4c4e-b946-d0b25a4e7c54",
   "metadata": {
    "deletable": false,
    "editable": false
   },
   "source": [
    "<details>\n",
    "  <summary>💡 Tipp</summary>\n",
    "  <br>Wie erwähnt werden Zahlen innerhalb des digit space standardmäßig rechtsbündig ausgerichtet. Strings werden hingegen innerhalb des digit space standardmäßig linksbündig ausgerichtet (Tabellenkalkulationsprogramme legen das gleiche Verhalten an den Tag, wie Dir vielleicht schon aufgefallen ist). Um die Darstellung im Screenshot umzusetzen, musst Du Dich folglich nicht um das Alignment kümmern, da es dem Standard entspricht.\n",
    "</details>\n"
   ]
  },
  {
   "cell_type": "code",
   "execution_count": null,
   "id": "7c01afab-0c57-44f1-8d63-721ee75c06ae",
   "metadata": {
    "tags": []
   },
   "outputs": [],
   "source": [
    "#In diese Zelle kannst Du den Code zur Übung schreiben.\n",
    "\n",
    "shopping_list = {\"Apple\": 0.77, \"Banana\": 1.23, \"Oat Milk\": 1.944, \"Olive Oil Extra Vergine\": 11.17}\n",
    "\n",
    "\n"
   ]
  },
  {
   "cell_type": "markdown",
   "id": "872a5d71-785c-41a0-ab2d-159f80e4d0ae",
   "metadata": {
    "deletable": false,
    "editable": false
   },
   "source": [
    "***\n",
    "\n",
    "Damit wissen wir alles Wichtige rund um In- und Output von Daten. Gute Arbeit!"
   ]
  }
 ],
 "metadata": {
  "kernelspec": {
   "display_name": "Python 3 (ipykernel)",
   "language": "python",
   "name": "python3"
  },
  "language_info": {
   "codemirror_mode": {
    "name": "ipython",
    "version": 3
   },
   "file_extension": ".py",
   "mimetype": "text/x-python",
   "name": "python",
   "nbconvert_exporter": "python",
   "pygments_lexer": "ipython3",
   "version": "3.11.5"
  }
 },
 "nbformat": 4,
 "nbformat_minor": 5
}