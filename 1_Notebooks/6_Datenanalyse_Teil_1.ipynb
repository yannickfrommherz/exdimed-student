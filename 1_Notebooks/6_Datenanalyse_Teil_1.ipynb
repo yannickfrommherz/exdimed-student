{
 "cells": [
  {
   "cell_type": "markdown",
   "id": "419114ff-f17c-45bb-8178-753282c0e39a",
   "metadata": {
    "deletable": false,
    "editable": false
   },
   "source": [
    "# Datenanalyse Teil 1\n",
    "\n",
    "In diesem zweiteiligen Notebook lernen wir, wie wir in Python große Mengen strukturierter Daten, allen voran Daten in Form von Tabellen, verarbeiten und analysieren können. \n",
    "\n",
    "Im Notebook \"Input und Output Teil 2\" haben wir mit folgender Tabelle gearbeitet:\n",
    "\n",
    "<img src=\"../3_Dateien/Grafiken_und_Videos/Flaechengroesste_Gemeinden_Tabelle.png\">\n",
    "\n",
    "Wir haben unter Zuhilfenahme des ```csv```-Moduls unseren eigenen Code geschrieben, um auszurechnen, wie viele der 100 flächengrößten Gemeinden sich in jedem der sechzehn Bundesländer befinden. In diesem Notebook lernen wir die sehr viel leistungsstärkere Bibliothek *pandas* kennen, die uns diese Rechnung im Handumdrehen liefern kann. Pandas kann aber viel mehr, wie wir gleich sehen werden.\n",
    "\n",
    "Zu Beginn müssen wir pandas natürlich importieren. Folgendes Statement importiert die Bibliothek und verleiht ihr den Namen ```pd```. Diese Abkürzung ist eine Konvention."
   ]
  },
  {
   "cell_type": "code",
   "execution_count": null,
   "id": "15a68f01-688c-4605-bd5e-175caa212b93",
   "metadata": {
    "tags": []
   },
   "outputs": [],
   "source": [
    "import pandas as pd"
   ]
  },
  {
   "cell_type": "markdown",
   "id": "72803703-42be-459b-94f2-12a8ee10cfe5",
   "metadata": {
    "deletable": false,
    "editable": false
   },
   "source": [
    "Solltest Du einen ```ModuleNotFoundError``` erhalten, musst Du ```pandas``` erst über die Command Line installieren. Öffne dazu das Terminal (macOS/Linux) bzw. die Eingabeaufforderung (Windows) in einem neuen Fenster, gib ```pip3 install pandas``` ein und drück auf Enter. Sobald der Prozess abgeschlossen ist, sollte der Import oben klappen.\n",
    "Um pandas kennenzulernen, wollen wir mit einem großen Datensatz arbeiten, nämlich dem [Songkorpus](https://songkorpus.de/index.html). Das Songkorpus beinhaltet Lieder von bekannten deutschen Künstler:innen, u.&nbsp;a. von Udo Lindenberg und Fettes Brot und umspannt die Jahre 1969-2022. Öffentlich herunterladbar sind unter anderem Worthäufigkeiten pro Jahr und zwar als Tabelle (auf der Webseite selbst finden sich weitere spannende Daten und Analysen). Jedes Wort, das in einem oder mehreren Songs in einem bestimmten Jahr vorkommt, steht in einer eigenen Zeile, zusammen mit dem entsprechenden Jahr und der Häufigkeit, mit der es in diesem Jahr bei allen Künstler:innen auftritt (s.&nbsp;u.). Insgesamt handelt es sich um über 380.000 Wörter. Solch eine tabellarische Datei, zumal derart groß, ist prädestiniert dazu, mit pandas verarbeitet zu werden.\n",
    "\n",
    "## Input\n",
    "\n",
    "In der folgenden Zelle öffnen wir die Datei, die sich bereits in \"3_Dateien/Songkorpus\" befindet, und lesen sie mit der pandas-Funktion ```read_csv``` ein, die neben dem Dateipfad u.&nbsp;a. auch das Trennzeichen (```sep```, in diesem Fall der Tabulator \"\\t\") als Argument nimmt:"
   ]
  },
  {
   "cell_type": "code",
   "execution_count": null,
   "id": "bbb01128-867f-4e72-8264-16e6ca07ce57",
   "metadata": {
    "tags": []
   },
   "outputs": [],
   "source": [
    "#Vor 'read_csv' steht wie gewohnt der Modulname, damit Python weiß, wo sich die Funktion befindet\n",
    "songkorpus = pd.read_csv(\"../3_Dateien/Songkorpus/songkorpus_token.tsv\", sep=\"\\t\", encoding=\"uft-8\") "
   ]
  },
  {
   "cell_type": "markdown",
   "id": "c49e8f3f-2a7a-41af-bdc4-2e63a530fea1",
   "metadata": {
    "deletable": false,
    "editable": false
   },
   "source": [
    "Neben ```read_csv``` für Dateien mit Trennzeichen bietet pandas u.&nbsp;a. auch Funktionen für XML (```read_xml```), JSON (```read_json```)  und Excel-Dateien (```read_excel```) an. Ebenfalls kann man je nach Daten weitere Parameter spezifizieren, u.&nbsp;a. ```na_filter```, um zu definieren, wie mit fehlenden Werten (sog. *NaN-Werten*) umgegangen werden soll. \n",
    "\n",
    "*Bemerkung am Rande: Fehlende Werte führen immer wieder zu Problemen bei der Arbeit mit pandas. Deswegen solltest Du Dich beim Einlesen Deiner eigenen Daten stets fragen, ob bestimmte Werte darin fehlen könnten und wenn ja, wie Du damit umgehen möchtest. Pandas bietet neben ```na_filter``` nützliche Methoden wie ```isna```, ```dropna``` und ```fillna``` für den Umgang mit fehlenden Werten (mehr Infos [hier](https://pandas.pydata.org/docs/user_guide/missing_data.html)). Im Folgenden gehen wir aber nicht darauf ein, im Songkorpus fehlen schlicht keine Werte.*\n",
    "\n",
    "Die Lesemethode überführt unsere Daten in jedem Fall in ein sog. *DataFrame*:"
   ]
  },
  {
   "cell_type": "code",
   "execution_count": null,
   "id": "e5bdaa92-9dd4-43ff-9ef8-5e6916b8a0f5",
   "metadata": {
    "tags": []
   },
   "outputs": [],
   "source": [
    "print(type(songkorpus))"
   ]
  },
  {
   "cell_type": "markdown",
   "id": "4cc6ac71-11dc-4118-a0e4-97e6517bb1bb",
   "metadata": {
    "deletable": false,
    "editable": false
   },
   "source": [
    "DataFrames sind ein eigener Datentyp von pandas, auf den wir eine Vielzahl nützlicher Operationen anwenden können, etwa um einen Überblick über die Daten zu bekommen."
   ]
  },
  {
   "cell_type": "markdown",
   "id": "6e1a8f43-ba1b-475f-ba01-f9167491f898",
   "metadata": {
    "deletable": false,
    "editable": false
   },
   "source": [
    "## Überblick bekommen\n",
    "\n",
    "Hier bietet sich insbesondere die Methode ```head``` an, die standardmäßig die ersten fünf Zeilen (also den \"Kopf\") des DataFrame ausgibt: "
   ]
  },
  {
   "cell_type": "code",
   "execution_count": null,
   "id": "ddc99c07-ede3-4c0d-b990-8f5cc66ecb3e",
   "metadata": {
    "tags": []
   },
   "outputs": [],
   "source": [
    "songkorpus.head() #'head' nimmt optional eine Ganzzahl als Argument, die definiert, wie viele der ersten Zeilen ausgegeben werden sollen"
   ]
  },
  {
   "cell_type": "markdown",
   "id": "fa0db8fe-8856-4374-b1b7-fa6e954e0f07",
   "metadata": {
    "deletable": false,
    "editable": false
   },
   "source": [
    "Eher komische Wörter in der Spalte \"CO_TOKEN\". Wie wir an Spalte \"CO_COUNT\" erkennen können, kamen sie aber auch nur jeweils einmal (im in \"CO_YEAR\" angegebenen Jahr) vor.\n",
    "\n",
    "Das Gegenstück zu ```head``` ist ```tail``` (also der \"Schwanz\"), wodurch wir die letzten fünf Zeilen des DataFrame erhalten:"
   ]
  },
  {
   "cell_type": "code",
   "execution_count": null,
   "id": "9a34ae6b-082a-46f3-a319-f6ac3ae75c49",
   "metadata": {},
   "outputs": [],
   "source": [
    "songkorpus.tail() #Auch 'tail' nimmt optional eine Ganzzahl als Argument, die definiert, wie viele der letzten Zeilen ausgegeben werden sollen"
   ]
  },
  {
   "cell_type": "markdown",
   "id": "88785171-847b-49ba-b653-f411a47d4489",
   "metadata": {
    "deletable": false,
    "editable": false
   },
   "source": [
    "Die Ausgabe sieht übrigens anders aus, wenn wir einen ```print```-Befehl verwenden, anstatt dass Jupyter schlicht die letzte Zeile ausgibt (probier's aus!). Mit dem ```print```-Befehl verschwindet die angenehme Formatierung.\n",
    "\n",
    "Mithilfe von ```shape```, ```columns``` und ```index``` können wir außerdem in Erfahrung bringen, welches Format (```shape```), d.&nbsp;h. wie viele Spalten und Zeilen das DataFrame hat, sowie wie Spalten (```columns```) und Zeilen (```index```) benannt sind.\n",
    "\n",
    "⚠️ Achtung: Es handelt sich dabei um sog. Attribute des DataFrame, die wir uns vereinfacht gesagt als Eigenschaften des DataFrame vorstellen können. Um auf ein Attribut eines Objekts zuzugreifen, hängt man den Namen des Attributs wie bei Methoden nach einem Punkt an das betreffende Objekt, schließt aber nicht mit Klammern ab:"
   ]
  },
  {
   "cell_type": "code",
   "execution_count": null,
   "id": "17bae015-15ed-4991-aa7f-d0336b7ca309",
   "metadata": {
    "tags": []
   },
   "outputs": [],
   "source": [
    "print(songkorpus.shape, songkorpus.columns, songkorpus.index, sep=\"\\n\")\n",
    "original_len = len(songkorpus)"
   ]
  },
  {
   "cell_type": "markdown",
   "id": "f77a64b1-6a33-4ec7-ae82-53b651b016aa",
   "metadata": {
    "deletable": false,
    "editable": false
   },
   "source": [
    "Unser DataFrame besteht also aus 386.510 Zeilen und drei Spalten. Die Anzahl an Zeilen, also die Länge des DataFrame, speichern wir in einer separaten Variablen ab, wir werden sie später noch brauchen.\n",
    "\n",
    "Die Spaltennamen sind \"CO_TOKEN\", \"CO_YEAR\" und \"CO_COUNT\" und die Zeilen sind mit Indizes von null (inklusive) bis 386510 (exklusive) durchnummeriert. \n",
    "\n",
    "Die etwas kryptischen Spaltennamen können wir ändern, indem wir das Attribut ```columns``` unseres DataFrame ganz einfach mit einer Liste an neuen Spaltennamen überschreiben:"
   ]
  },
  {
   "cell_type": "code",
   "execution_count": null,
   "id": "5a70052e-6a8f-4904-97ea-920003824ec0",
   "metadata": {
    "tags": []
   },
   "outputs": [],
   "source": [
    "songkorpus.columns = [\"Wort\", \"Jahr\", \"Häufigkeit\"]\n",
    "print(songkorpus.columns)"
   ]
  },
  {
   "cell_type": "markdown",
   "id": "5750a6ff-0a95-4f79-849c-88e2c12c575f",
   "metadata": {
    "deletable": false,
    "editable": false
   },
   "source": [
    "Die Länge der Liste muss natürlich der Anzahl an Spalten entsprechen. \n",
    "\n",
    "Um eine spezifische Spalte zu überschreiben, können wir die ```rename```-Methode verwenden, derer wir ein dictionary mit Schlüssel-Werte-Paaren ({\"jetziger Name\": \"neuer Name\"}) übergeben. Im Allgemeinen haben wir beim Bearbeiten eines DataFrame zwei Möglichkeiten, um die Bearbeitung wirksam zu machen: \n",
    "\n",
    "1) Wir können immer das alte DataFrame mit der bearbeiteten Version überschreiben. So haben wir das auch in der Zelle oben gehandhabt. \n",
    "2) Bei der Bearbeitung mithilfe einer Methode, hier ```rename```, können wir auch den Parameter ```inplace=True``` spezifizieren, um die Bearbeitung \"an Ort und Stelle\" vorzunehmen. \n",
    "\n",
    "In der nächsten Zelle sehen wir beide Alternativen. Im Folgenden beschränken wir uns aber auf die erste Möglichkeit, da diese auch abseits von Methoden funktioniert."
   ]
  },
  {
   "cell_type": "code",
   "execution_count": null,
   "id": "eb24bb83-3868-4010-a155-c2b2fb3bd73e",
   "metadata": {
    "tags": []
   },
   "outputs": [],
   "source": [
    "songkorpus = songkorpus.rename(columns={\"Wort\": \"Token\"}) #1. Möglichkeit: Überschreiben\n",
    "songkorpus.rename(columns={\"Wort\": \"Token\"}, inplace=True) #2. Möglichkeit: Bearbeiten \"inplace\"/\"an Ort und Stelle\"\n",
    "songkorpus.head()"
   ]
  },
  {
   "cell_type": "markdown",
   "id": "012bca9e-25f1-4fe4-ad84-3b20b71f136c",
   "metadata": {
    "deletable": false,
    "editable": false
   },
   "source": [
    "Zuallererst wollen wir einen detailierten Blick auf Spalten und Zeilen werfen, aus denen ein DataFrame ja besteht.\n",
    "\n",
    "## Auf Spalten zugreifen"
   ]
  },
  {
   "cell_type": "markdown",
   "id": "bf30c95b-d6f6-4352-9724-57a9015371b8",
   "metadata": {
    "deletable": false,
    "editable": false
   },
   "source": [
    "Wenn wir an einer bestimmten Spalte eines DataFrame interessiert sind, können wir auf diese mit der gleichen Syntax wie bei dictionaries zugreifen:"
   ]
  },
  {
   "cell_type": "code",
   "execution_count": null,
   "id": "220c3906-9941-4ce5-8e43-3b7de4b58b08",
   "metadata": {
    "tags": []
   },
   "outputs": [],
   "source": [
    "songkorpus[\"Token\"]"
   ]
  },
  {
   "cell_type": "markdown",
   "id": "41f55e2b-8722-4c15-91b3-02abc71da9a0",
   "metadata": {
    "deletable": false,
    "editable": false
   },
   "source": [
    "An dieser Stelle ist es natürlich wichtig, dass die Spalte aktuell wirklich \"Token\" und nicht mehr \"CO_TOKEN\" oder \"Wort\" heißt. Dies würde, wie bei inexistenten Schlüsseln in einem dictionary auch, zu einem ```KeyError``` führen.\n",
    "\n",
    "Weiter funktioniert für den Spaltenzugriff auch die sog. dot-Notation nach dem Schema ```DataFrame.column```:"
   ]
  },
  {
   "cell_type": "code",
   "execution_count": null,
   "id": "bdd34cea-ad82-4c02-9ac5-21c78a7340fb",
   "metadata": {
    "tags": []
   },
   "outputs": [],
   "source": [
    "songkorpus.Token #Beachte, dass hierfür der Spaltenname nicht als string, also ohne Anführungszeichen, angehängt wird!"
   ]
  },
  {
   "cell_type": "markdown",
   "id": "43d5169b-3ec0-4e4e-8d7b-94634ad0247e",
   "metadata": {
    "deletable": false,
    "editable": false
   },
   "source": [
    "Die dot-Notation erfüllt (fast immer) die gleiche Funktion wie die Zugriffsweise über eckige Klammern, auf die wir uns fortan beschränken. \n",
    "\n",
    "In jedem Fall entspricht das, was wir dabei zurückerhalten, dem zweiten wichtigen Datentyp von pandas neben *DataFrame*, nämlich einer sog. *Series*:"
   ]
  },
  {
   "cell_type": "code",
   "execution_count": null,
   "id": "398e0325-7aa6-4037-b3b6-4a174c66f4ca",
   "metadata": {},
   "outputs": [],
   "source": [
    "tokens = songkorpus[\"Token\"]\n",
    "print(type(tokens))"
   ]
  },
  {
   "cell_type": "markdown",
   "id": "5ae55036-bab7-4d12-acc4-c71a4bbd4af3",
   "metadata": {
    "deletable": false,
    "editable": false
   },
   "source": [
    "Series kann man mit Listen vergleichen. Sie sind im Gegensatz zu DataFrames nicht zweidimensional (Spalten und Zeilen), sondern eindimensional. Viele Listen-Operationen wie z.&nbsp;B. Indexing und Slicing funktionieren bei Series gleichermaßen:"
   ]
  },
  {
   "cell_type": "code",
   "execution_count": null,
   "id": "590b8fab-77c5-4a70-b16e-6e68c8ec2c88",
   "metadata": {},
   "outputs": [],
   "source": [
    "print(tokens[10000], \"\\n\") #Indexing\n",
    "print(tokens[9999:10002]) #Slicing"
   ]
  },
  {
   "cell_type": "markdown",
   "id": "f7914210-b059-4a90-b63d-e54ab273b8bd",
   "metadata": {
    "deletable": false,
    "editable": false
   },
   "source": [
    "***\n",
    "\n",
    "✏️ **Übung 1:** Erstell eine weitere Series, die nur das 100.000te, 200.000te und 300.000te Token der Series ```tokens``` beinhaltet. "
   ]
  },
  {
   "cell_type": "code",
   "execution_count": null,
   "id": "35d0bdfc-209a-4bb8-ac2d-ca90416c2862",
   "metadata": {},
   "outputs": [],
   "source": [
    "#In diese Zelle kannst Du den Code zur Übung schreiben.\n",
    "\n",
    "\n"
   ]
  },
  {
   "cell_type": "markdown",
   "id": "d0d7edeb-a4e1-4a04-8d45-65a176251db0",
   "metadata": {
    "deletable": false,
    "editable": false
   },
   "source": [
    "***\n",
    "\n",
    "Anstatt *eines* Spaltennamens können wir auch eine Liste an Spaltennamen übergeben, um auf mehrere Spalten gleichzeitig zuzugreifen:"
   ]
  },
  {
   "cell_type": "code",
   "execution_count": null,
   "id": "a3f7faaf-5382-42d9-a1c0-f0b900b7db18",
   "metadata": {
    "tags": []
   },
   "outputs": [],
   "source": [
    "two_columns = songkorpus[[\"Token\", \"Jahr\"]].head() #Beachte die inneren eckigen Klammern für die Liste!\n",
    "two_columns"
   ]
  },
  {
   "cell_type": "markdown",
   "id": "b0efb9c9-d7f2-4930-9ebf-ac32b7f00bf9",
   "metadata": {
    "deletable": false,
    "editable": false
   },
   "source": [
    "Überleg Dir kurz, was für ein Datentyp ```two_columns``` hat. \n",
    "\n",
    "Genau: Nun haben wir nicht mehr nur eine Spalte, in der Zeilenwert um Zeilenwert in einer Dimension gespeichert ist, sondern zwei Spalten. ```two_columns``` ist also immer noch ein zweidimensionales Objekt, sprich ein DataFrame:"
   ]
  },
  {
   "cell_type": "code",
   "execution_count": null,
   "id": "5d8f478e-4d27-4646-ad0d-dd0166ee0980",
   "metadata": {
    "tags": []
   },
   "outputs": [],
   "source": [
    "print(type(two_columns))"
   ]
  },
  {
   "cell_type": "markdown",
   "id": "948c96de-e05a-4450-83e0-aa7f7df05d78",
   "metadata": {
    "deletable": false,
    "editable": false
   },
   "source": [
    "Nun wissen wir, wie wir auf Spalten zugreifen können. \n",
    "\n",
    "## Auf Zeilen zugreifen\n",
    "\n",
    "Um auf Zeilen zuzugreifen, hängen wir ```.loc[index]``` an das DataFrame an und übergeben den Index der gewünschten Zeile anstelle von ```index```:"
   ]
  },
  {
   "cell_type": "code",
   "execution_count": null,
   "id": "711ff79e-2f89-4101-a5d8-e44d211f77dc",
   "metadata": {},
   "outputs": [],
   "source": [
    "songkorpus.loc[777]"
   ]
  },
  {
   "cell_type": "markdown",
   "id": "48b20e21-1b6d-4fc7-8a4a-e5715816a76c",
   "metadata": {
    "deletable": false,
    "editable": false
   },
   "source": [
    "Verwend stets diese Syntax, um auf Zeilen zuzugreifen. \n",
    "\n",
    "Anfänger:innen versuchen oft, die Syntax ```DataFrame[index]``` zu verwenden. Das führt aber zu einem ```KeyError```, denn diese Syntax ist dem Spaltenzugriff vorbehalten (sollte der übergebene ```index``` zufälligerweise auch ein Spaltenname sein, erhalten wir keinen ```KeyError```, aber die Ausgabe entspricht dann auch der jeweiligen Spalte, und nicht der gewünschten Zeile).\n",
    "\n",
    "Da wir bloß auf eine einzige Zeile zugreifen, in der Spaltenwert um Spaltenwert in einer Dimension gespeichert ist, liegt wieder der Datentyp Series vor:"
   ]
  },
  {
   "cell_type": "code",
   "execution_count": null,
   "id": "4e5e8ed9-b5d5-47e6-840b-085c0c5e707f",
   "metadata": {
    "tags": []
   },
   "outputs": [],
   "source": [
    "print(type(songkorpus.loc[777]))"
   ]
  },
  {
   "cell_type": "markdown",
   "id": "3747552f-fc21-47a3-aa59-9a06a6579033",
   "metadata": {
    "deletable": false,
    "editable": false
   },
   "source": [
    "Zur Verdeutlichung: Sowohl eine Sequenz von Werten einer Spalte als auch eine Sequenz von Werten einer Zeile entsprechen bei pandas einer Series. Entscheidend ist bloß, dass nur **eine einzige** Dimension vorliegt. Sobald ein Objekt sowohl mehrere Spalten als auch mehrere Zeilen umfasst, handelt es sich um ein DataFrame.\n",
    "\n",
    "Ein solches Objekt können wir auch über ```loc``` erhalten, indem wir auf mehrere Zeilen gleichzeitig zugreifen. Dies funktioniert wie bei dem Zugriff auf mehrere Spalten (s.&nbsp;o), indem wir mehrere Indizes als Liste übergeben."
   ]
  },
  {
   "cell_type": "code",
   "execution_count": null,
   "id": "5501ad3b-2a0a-4365-9322-0823c84886b7",
   "metadata": {
    "tags": []
   },
   "outputs": [],
   "source": [
    "print(type(songkorpus.loc[[777,888]])) #Beachte die inneren eckigen Klammern für die Liste!\n",
    "songkorpus.loc[[777,888]]"
   ]
  },
  {
   "cell_type": "markdown",
   "id": "abaf1ce2-bd71-4d66-8356-901e513f348f",
   "metadata": {
    "deletable": false,
    "editable": false
   },
   "source": [
    "Zudem können wir auf mehrere aufeinanderfolgende Zeilen zugreifen, indem wir dieselbe Syntax wie bei Slicing verwenden:"
   ]
  },
  {
   "cell_type": "code",
   "execution_count": null,
   "id": "495d18d8-52d3-424b-a948-dee7d11e720f",
   "metadata": {
    "tags": []
   },
   "outputs": [],
   "source": [
    "songkorpus.loc[777:780] #Keine inneren eckigen Klammern!"
   ]
  },
  {
   "cell_type": "markdown",
   "id": "c81758d0-b78e-4631-a23e-958a12934b3a",
   "metadata": {
    "deletable": false,
    "editable": false
   },
   "source": [
    "Im Gegensatz zu gewöhnlichem Slicing bei Listen wird der letzte Index bei pandas miteingerechnet (\"inklusiv\", vgl. Notebook \"Datentypen\").\n",
    "\n",
    "Abschließend sei erwähnt, dass Zeilen nicht zwingend mit *numerischen* Indizes durchnummeriert sein müssen. Zeilen können wie Spalten ebenfalls Namen haben. Dieses Szenario wollen wir in der nächsten Übung mit denselben Daten durchspielen.\n",
    "\n",
    "***\n",
    "\n",
    "✏️ **Übung 2:** \n",
    "\n",
    "1. Lies die Datei ```songkorpus_tokens.tsv``` abermals ein und übergib beim Erstellen des DataFrame zusätzlich den Parameter ```index_col=0```. Dadurch wird die erste Spalte (mit dem Index ```0```), also diejenige mit den Tokens, zur sog. *Index-Spalte*. Jede Zeile hat nun statt eines numerischen Index einen Namen, nämlich das jeweilige Token. Weis das DataFrame der Variablen ```songkorpus_labelled_rows``` zu. \n",
    "2. Benenn die Spalten wie bei ```songkorpus``` um. Falls Du hier eine Fehlermeldung kriegst, lies sie aufmerksam und pass Deinen Code entsprechend an.\n",
    "3. Überleg Dir, was die Tatsache, dass wir nun Tokens als Zeilennamen verwenden, zur Konsequenz hat. Experimentier dazu gerne mit dem DataFrame herum und greif auf verschiedene Zeilen über Namen zu. \n",
    "\n",
    "<details>\n",
    "<summary>💡 Tipp zu Schritt 1</summary>\n",
    "<br>Achte beim Einlesen darauf, das richtige Trennzeichen bei <code>sep</code> anzugeben.</details>\n",
    "<br>\n",
    "<details>\n",
    "<summary>💡 Tipp zu Schritt 3</summary>\n",
    "<br>Greif z. B. auf das Token \"wir\" in der Indexspalte zu und schau Dir das Ergebnis an.</details>\n"
   ]
  },
  {
   "cell_type": "code",
   "execution_count": null,
   "id": "59357c3f-8363-4c52-84f7-cb9a2aaf525a",
   "metadata": {},
   "outputs": [],
   "source": [
    "#In diese Zelle kannst Du den Code zur Übung schreiben. \n",
    "\n",
    "\n"
   ]
  },
  {
   "cell_type": "markdown",
   "id": "7c48667d-813e-4558-a989-6703ce3fe35a",
   "metadata": {
    "deletable": false,
    "editable": false
   },
   "source": [
    "***\n",
    "\n",
    "Im Gegensatz zu Spaltennamen (und Schlüsseln bei dictionaries) dürfen Zeilennamen mehrfach vorkommen. Der Zugriff auf eine oder mehrere Zeilen funktioniert ungeachtet dessen gleich wie bei DataFrames, die mit numerischen Indizes durchnummeriert sind, also mittels ```.loc[index]```.\n",
    "\n",
    "***\n",
    "\n",
    "✏️ **Übung 3:** Setz die Tatsache, dass Zeilennamen mehrfach vorkommen dürfen, produktiv ein und find heraus, wie oft \"Dresden\" in ```songkorpus_labelled_rows``` vorkommt, indem Du die Häufigkeiten in allen Jahren, in denen das Wort gesungen wird, zusammenzählst.\n",
    "\n",
    "<details>\n",
    "<summary>💡 Tipp </summary>\n",
    "<br> Der erste Schritt besteht darin, aus dem gesamten DataFrame <code>songkorpus_labelled_rows</code> ein kleineres, sog. <i>Sub-DataFrame</i> zu erstellen, das mit einer neuen Variablen referenziert wird. Der zweite Schritt besteht darin, eine Series aus diesem Sub-DataFrame \"herauszuschneiden\", die Du anschließend wie eine Liste behandeln kannst, um schließlich zur Anzahl der Nennungen von \"Dresden\" zu gelangen.</details>"
   ]
  },
  {
   "cell_type": "code",
   "execution_count": null,
   "id": "6c6a7819-4392-4fae-84fa-063b21e585f6",
   "metadata": {},
   "outputs": [],
   "source": [
    "#In diese Zelle kannst Du den Code zur Übung schreiben.\n",
    "\n",
    "\n"
   ]
  },
  {
   "cell_type": "markdown",
   "id": "7c5eaf89-0992-44d8-a073-e3a5a82a763f",
   "metadata": {
    "deletable": false,
    "editable": false
   },
   "source": [
    "***\n",
    "\n",
    "## Auf Spalten *und* Zeilen zugreifen"
   ]
  },
  {
   "cell_type": "markdown",
   "id": "8857bb4a-57e5-4bec-b0e8-810769dd8b82",
   "metadata": {
    "deletable": false,
    "editable": false
   },
   "source": [
    "```loc``` können wir ebenfalls verwenden, um gleichzeitig anzugeben, auf welche Spalte(n) und Zeile(n) wir bei einem DataFrame zugreifen möchten. Auf den Zeilenindex folgt nach einem Komma der gewünschte Spaltenname:"
   ]
  },
  {
   "cell_type": "code",
   "execution_count": null,
   "id": "c1cb0ad9-fca1-4291-ad1c-0754e8c94eea",
   "metadata": {},
   "outputs": [],
   "source": [
    "print(songkorpus.loc[10, \"Jahr\"])\n",
    "\n",
    "\"\"\"Randbemerkung: Auf die Spitze getrieben können wir mit '.loc' auch nur auf Spalten zugreifen, nämlich indem wir, \n",
    "wie bei Listen-Slicing auch möglich, durch Weglassen eines Start- und Endindex sämtliche Zeilen ansprechen, sprich so: \n",
    "songkorpus.loc[:, \"Jahr\"].\"\"\""
   ]
  },
  {
   "cell_type": "markdown",
   "id": "834c5d80-c3d2-4feb-bfdd-f029fe5d7c4b",
   "metadata": {
    "deletable": false,
    "editable": false
   },
   "source": [
    "Neben der Herangehensweise über ```loc``` besteht auch die Möglichkeit erst wie oben gelernt auf eine spezifische Spalte bzw. eine spezifische Zeile zuzugreifen, was in einer Series resultiert, und in dieser Series anschließend auf eine bestimmte Zeile bzw. eine bestimmte Spalte zuzugreifen (z.&nbsp;B. ```songkorpus[\"Token\"][22]```). Obige Syntax mit ```loc``` ist diesen sog. \"chained assignments\" (etwa: Kettenaufgabe) jedoch vorzuziehen.\n",
    "\n",
    "Wie immer können wir auch Listen übergeben, um auf mehrere Spalten und/oder mehrere Zeilen gleichzeitig zuzugreifen. Beim Zeilenzugriff funktioniert sowohl eine Liste einzelner Indizes..."
   ]
  },
  {
   "cell_type": "code",
   "execution_count": null,
   "id": "88f2f2ce-eb25-447a-8b76-a3cbb8d6a863",
   "metadata": {
    "tags": []
   },
   "outputs": [],
   "source": [
    "songkorpus.loc[[9999,10000], [\"Token\", \"Häufigkeit\"]]"
   ]
  },
  {
   "cell_type": "markdown",
   "id": "a945a57e-92aa-4184-b646-93703b423e53",
   "metadata": {
    "deletable": false,
    "editable": false
   },
   "source": [
    "...als auch die slicingähnliche Syntax für eine Sequenz an Zeilen:"
   ]
  },
  {
   "cell_type": "code",
   "execution_count": null,
   "id": "76c79387-86b1-445a-a2e3-0eda0c176ff7",
   "metadata": {
    "tags": []
   },
   "outputs": [],
   "source": [
    "songkorpus.loc[9999:10005, [\"Token\", \"Häufigkeit\"]] "
   ]
  },
  {
   "cell_type": "markdown",
   "id": "cb2c916d-efec-4002-a603-68a8c1bf4ed4",
   "metadata": {
    "deletable": false,
    "editable": false
   },
   "source": [
    "Nun wissen wir, wie wir auf beliebige (Kombinationen von) Spalte(n) und Zeile(n) zugreifen können. Als Nächstes möchten wir unseren Daten erweitern, indem wir eine Spalte hinzufügen:\n",
    "\n",
    "## Spalten hinzufügen\n",
    "\n",
    "Eine einzelne Spalte entspricht ja einer Series und Series wiederum kommen Listen sehr nahe. Deshalb können wir zur Definition einer neuen Spalte ganz einfach eine Liste übergeben, deren Länge natürlich der Anzahl der Zeilen des DataFrame entsprechen muss.\n",
    "\n",
    "Sagen wir, wir hätten gerne eine neue Spalte, in der das Jahrzehnt gespeichert wird, in der das jeweilige Token gesungen wurde. Die einzelnen Jahre haben wir schon, nun wollen wir aber jeweils zehn Jahre zu einem Jahrzehnt bündeln. \n",
    "\n",
    "Dazu können wir in gewohnter Python-Manier über die Spalte \"Jahr\" in ```songkorpus``` iterieren (auch bei der Iteration zieht die Analogie Series – Liste!), auf den jeweiligen Wert in der Spalte \"Jahr\" zugreifen, ihn in einen string casten und das Jahr reduziert auf das Jahrzehnt einer neuen Liste anhängen:"
   ]
  },
  {
   "cell_type": "code",
   "execution_count": null,
   "id": "de81e3a0-a93c-4102-9ae3-c12c446542de",
   "metadata": {
    "tags": []
   },
   "outputs": [],
   "source": [
    "decades = []\n",
    "for year in songkorpus[\"Jahr\"]:\n",
    "    \"\"\"Casten in einen string ist erforderlich, da sich Slicing nur auf sequentielle Objekte anwenden lässt \n",
    "    (Ganzzahlen gehören nicht dazu, vgl. Notebook \"Datentypen\") und nur strings miteinander konkateniert werden können.\"\"\"\n",
    "    decade = str(year)[:-1] + \"0\"\n",
    "    decades.append(decade)"
   ]
  },
  {
   "cell_type": "markdown",
   "id": "6b8d87a3-860b-41dd-9f40-db5f84853135",
   "metadata": {
    "deletable": false,
    "editable": false
   },
   "source": [
    "Anschließend müssen wir nur noch eine neue Spalte in ```songkorpus``` definieren und ihr die Liste ```decades``` zuweisen. Das Erstellen einer neuen Spalte erfolgt genau gleich wie das Definieren eines neuen Schlüssels bei einem dictionary:"
   ]
  },
  {
   "cell_type": "code",
   "execution_count": null,
   "id": "f0909205-f9c5-4bb8-bc8a-4a05fb11784a",
   "metadata": {
    "tags": []
   },
   "outputs": [],
   "source": [
    "songkorpus[\"Jahrzehnt\"] = decades\n",
    "songkorpus.head()"
   ]
  },
  {
   "cell_type": "markdown",
   "id": "46b89bee-73bd-4297-a4fc-e0e050493d38",
   "metadata": {
    "deletable": false,
    "editable": false
   },
   "source": [
    "Recht simpel.\n",
    "\n",
    "***\n",
    "\n",
    "✏️ **Übung 4:**\n",
    "\n",
    "Füg ```songkorpus``` eine weitere Spalte mit dem Namen \"Länge\" hinzu, in der die Anzahl an Buchstaben je Token steht.\n",
    "\n",
    "<details>\n",
    "<summary>💡 Tipp</summary>\n",
    "<br>Da manche Tokens Zahlen sind, kannst Du ihre Länge nicht einfach mit <code>len</code> auszählen. Überleg Dir, wie Du vorgehen kannst, um dennoch die Länge der Zahlen zu ermitteln.</details>"
   ]
  },
  {
   "cell_type": "code",
   "execution_count": null,
   "id": "436f3e5f-2572-4d46-abb9-6885bf501a74",
   "metadata": {
    "tags": []
   },
   "outputs": [],
   "source": [
    "#In diese Zelle kannst Du den Code zur Übung schreiben.\n",
    "\n",
    "\n"
   ]
  },
  {
   "cell_type": "markdown",
   "id": "46d12e2d-5c2c-4b69-b0e6-5ed59553ac00",
   "metadata": {
    "deletable": false,
    "editable": false
   },
   "source": [
    "***\n",
    "\n",
    "✏️ **Übung 5:** Vereinfache den Code von oben, mit dessen Hilfe wir die Spalte \"Jahrzehnt\" hinzugefügt haben, indem Du ihn mittels List Comprehension (vgl. Notebook \"Funktionen und Methoden Teil 1\") auf eine einzige Zeile reduzierst. Hol den Abschnitt zu List Comprehensions nach, falls Du ihn damals ausgelassen hast, da er als fortgeschritten markiert war.\n",
    "\n",
    "<details>\n",
    "<summary>💡 Tipp </summary>\n",
    "<br> <code>songkorpus</code> verfügt ja bereits über eine Spalte mit dem Namen \"Jahrzehnt\". Indem Du das Resultat Deiner List Comprehension <code>songkorpus[\"Jahrzehnt\"]</code> zuweist, überschreibst Du die befindliche Spalte ganz einfach.</details>\n"
   ]
  },
  {
   "cell_type": "code",
   "execution_count": null,
   "id": "c5180e14-e561-41bf-b47b-0e8d36529f09",
   "metadata": {},
   "outputs": [],
   "source": [
    "#In diese Zelle kannst Du den Code zur Übung schreiben.\n",
    "\n",
    "\n"
   ]
  },
  {
   "cell_type": "markdown",
   "id": "539f03ed-1b59-45f0-9501-6cc1b30bf745",
   "metadata": {
    "deletable": false,
    "editable": false
   },
   "source": [
    "***\n",
    "\n",
    "Sehr gut. Zusätzlich zum klassischen ```for```-Loop und der List Comprehension lernen wir weiter unten eine dritte, pandas-eigene Technik kennen, mit der wir den modifizierten Inhalt einer Spalte in eine andere schreiben können.\n",
    "\n",
    "Schauen wir uns nun an, wie wir Zeilen zu einem DataFrame hinzufügen können."
   ]
  },
  {
   "cell_type": "markdown",
   "id": "23bcf94c-a697-462f-8a1b-2347a2ccc899",
   "metadata": {
    "deletable": false,
    "editable": false
   },
   "source": [
    "## Zeilen hinzufügen\n",
    "\n",
    "Auch neue Zeilen können wir einem DataFrame als Liste hinzufügen. Die Länge der Liste muss wiederum der Anzahl an Spalten entsprechen.\n",
    "\n",
    "Dies ist bei ```new_row``` in der nächsten Zelle nur der Fall, wenn Du in der Übung oben eine fünfte Spalte namens \"Länge\" hinzugefügt hast. Um sicherzustellen, dass ```songkorpus``` im Weiteren alle notwendigen Spalten umfasst, fügt die erste Zeile die Spalte \"Länge\" mittels List Comprension hinzu (bzw. überschreibt eine bereits vorhandene)."
   ]
  },
  {
   "cell_type": "code",
   "execution_count": null,
   "id": "9b4d8e88-f2dc-4c92-b8b5-34196445447f",
   "metadata": {
    "tags": []
   },
   "outputs": [],
   "source": [
    "songkorpus[\"Länge\"] = [len(str(token)) for token in songkorpus[\"Token\"]]\n",
    "new_row = [\"Fantasiewort\", 2023, 800, 2020, 12]"
   ]
  },
  {
   "cell_type": "markdown",
   "id": "e1b1b443-a076-4b4c-9c29-fbe2d09b9329",
   "metadata": {
    "deletable": false,
    "editable": false
   },
   "source": [
    "```new_row``` können wir ```songkorpus``` nun unter Verwendung der bereits bekannten ```.loc[index]```-Syntax hinzufügen. Als ```index``` geben wir schlicht den letzten numerischen Index + eins an, was der Länge von ```songkorpus``` entspricht (die numerischen Indizes fangen ja bei null an):"
   ]
  },
  {
   "cell_type": "code",
   "execution_count": null,
   "id": "40c70490-83b2-4083-b98f-2c1e52fd6400",
   "metadata": {
    "tags": []
   },
   "outputs": [],
   "source": [
    "songkorpus.loc[len(songkorpus)] = new_row\n",
    "songkorpus.tail()"
   ]
  },
  {
   "cell_type": "markdown",
   "id": "88841556-dfc3-40fc-8aa8-4fcc4ab09f86",
   "metadata": {
    "deletable": false,
    "editable": false
   },
   "source": [
    "Wenn Du diese Zelle mehrfach ausführst, wird ```new_row``` jedes einzelne Mal hinzugefügt. Schließlich entspricht ```len(songkorpus)``` jedes Mal dem letzten numerischen Index + eins. \n",
    "\n",
    "Anstatt eine Zeile am Ende eines DataFrame hinzuzufügen, kannst Du die gleiche Syntax verwenden, um eine bestimmte, bereits existierende Zeile zu überschreiben. Das tun wir hier aber nicht, da wir mit den originalen Daten weiterarbeiten möchten. Entsprechend wollen wir die letzte(n) Zeile(n) mit Fantasiewörtern auch wieder entfernen.\n",
    "\n",
    "## Spalten und Zeilen entfernen\n",
    "\n",
    "Zu diesem Zweck gibt es die ```drop```-Methode, die wir sowohl zum Entfernen von Spalten als auch Zeilen benutzen können. Als erstes Argument übergeben wir ihr den Namen der zu entfernenden Spalte bzw. den numerischen Index (oder Namen, s.&nbsp;o.) der zu entfernenden Zeile. Um mehrere Spalten oder Zeilen zu entfernen, können jeweils auch Listen übergeben werden. Anschließend spezifizieren wir mithilfe des ```axis```-Parameters, ob es sich um eine Spalte oder eine Zeile handelt, die entfernt werden soll. ```axis=1``` steht für Spalten und ```axis=0``` für Zeilen (was der Standardwert ist und nicht zwingend angegeben werden muss). Die Syntax mit Standardwerten lautet also folgendermaßen:\n",
    "\n",
    "```DataFrame.drop(index_or_name, axis=0)```\n",
    "\n",
    "***\n",
    "\n",
    "✏️ **Übung 6:** Führ die Zelle oben, in der wir ```songkorpus``` Zeilen mit Fantasiewörtern hinzugefügt haben, noch ein paar Mal aus, ohne darauf zu achten wie oft. Verwend nun ```drop``` in einer geeigneten Kontrollstruktur (vgl. Notebook \"Kontrollstrukturen\") sowie die anfangs eingeführte Variable ```original_len```, um die Fantasiewörter wieder zu entfernen und ```songkorpus```, was die Anzahl an Zeilen betrifft, wieder in seinen Originalzustand zu bringen. \n",
    "\n",
    "<details>\n",
    "<summary>💡 Tipp </summary>\n",
    "<br>Als Kontrollstruktur bietet sich eine while-Schleife an, die Deinen Code zum Entfernen der Zeilen so lange ausführt, bis die Länge des DataFrame <code>original_len</code> erreicht.\n",
    "</details>"
   ]
  },
  {
   "cell_type": "code",
   "execution_count": null,
   "id": "25e66df2-a536-414e-a50c-1dbbc835148f",
   "metadata": {},
   "outputs": [],
   "source": [
    "#In diese Zelle kannst Du den Code zur Übung schreiben.\n",
    "\n",
    "\n"
   ]
  },
  {
   "cell_type": "markdown",
   "id": "1007a3a2-42ad-4324-bb09-280f80d6aa50",
   "metadata": {
    "deletable": false,
    "editable": false
   },
   "source": [
    "***\n",
    "\n",
    "Wunderbar! \n",
    "\n",
    "## Deskriptive Statistiken\n",
    "\n",
    "Einige der Spalten in ```songkorpus``` enthalten ja numerische Werte, konkret die Spalten \"Jahr\", \"Häufigkeit\" und \"Länge\" (die Werte in \"Jahrzehnt\" haben wir als string abgespeichert, s.&nbsp;o.). Numerischen Werten nähern wir uns am besten über deskriptive Statistiken, also etwa über Minimal- und Maximalwerte.\n",
    "\n",
    "Pandas bietet dafür eine Reihe nützlicher Methoden: Angewandt auf eine Spalte gibt ```min``` den kleinsten Wert darin zurück, ```max``` den größten, ```mean``` das arithmetische Mittel, ```median``` den Median und ```sum``` die Summe aller Werte. \n",
    "\n",
    "Bevor wir dies tun, stellen wir noch sicher, dass die oben hinzugefügten Zeilen auch wirklich nicht mehr vorhanden sind, schließlich soll das achthundertfach vorkommende \"Fantasiewort\" unsere Statistiken nicht verzerren. Anstatt die ```drop```-Methode von oben wählen wir hier einen anderen Weg, nämlich Slicing:"
   ]
  },
  {
   "cell_type": "code",
   "execution_count": null,
   "id": "2c9fdce4-ac4b-4c80-a0ac-515da5178f8a",
   "metadata": {
    "tags": []
   },
   "outputs": [],
   "source": [
    "songkorpus = songkorpus[:original_len]\n",
    "\n",
    "print(songkorpus[\"Häufigkeit\"].min())\n",
    "print(songkorpus[\"Häufigkeit\"].max())\n",
    "print(songkorpus[\"Häufigkeit\"].mean())\n",
    "print(songkorpus[\"Häufigkeit\"].median())\n",
    "print(songkorpus[\"Häufigkeit\"].sum())"
   ]
  },
  {
   "cell_type": "markdown",
   "id": "96489fbb-f633-4796-bacb-49157a8910b7",
   "metadata": {
    "deletable": false,
    "editable": false
   },
   "source": [
    "Wenig überraschend ist eins der kleinste Wert in der Spalte \"Häufigkeit\". Wörter, die gar nicht vorkommen, befinden sich ja nicht im Datensatz. \n",
    "\n",
    "Spannend ist jedoch, zu erfahren, dass das meistgesungene Token 2007 Mal in einen bestimmten Jahr vorkommt. Interessant ist auch, dass der Durchschnitt zwar bei fast sechs Nennungen liegt, mindestens die Hälfte aller Werte jedoch genau eins sind. Der Median ist ja der Wert, der genau in der Mitte aller \"aufgereihten\" Werte steht: links von ihm können also nur weitere Einsen stehen, in der Mitte steht selbst auch eine Eins. Diese Logik funktioniert natürlich nur, weil wir wissen, dass alle Werte in dieser Spalte Ganzzahlen sind.\n",
    "\n",
    "Einen kompakten Überblick über diese und ein paar weitere Statistiken liefert auch ```describe```:"
   ]
  },
  {
   "cell_type": "code",
   "execution_count": null,
   "id": "22b1a985-e045-49cd-96ce-8282783293c1",
   "metadata": {},
   "outputs": [],
   "source": [
    "songkorpus[\"Häufigkeit\"].describe()"
   ]
  },
  {
   "cell_type": "markdown",
   "id": "eb03ad88-c3df-4c7d-8b36-719a9de0b41a",
   "metadata": {
    "deletable": false,
    "editable": false
   },
   "source": [
    "Dabei lernen wir u.&nbsp;a., dass drei Viertel aller Tokens nur maximal drei Mal in einem bestimmten Jahr vorkommen.\n",
    "\n",
    "```describe``` lässt sich nicht nur auf eine Series, sondern auch auf ein DataFrame anwenden, wobei wir die Statistiken nur bei Spalten mit numerischen Werten zurückerhalten:"
   ]
  },
  {
   "cell_type": "code",
   "execution_count": null,
   "id": "4cc714a9-af4a-4a91-a2ff-fac3e40d827d",
   "metadata": {
    "tags": []
   },
   "outputs": [],
   "source": [
    "songkorpus.describe()"
   ]
  },
  {
   "cell_type": "markdown",
   "id": "8e5ace1a-785d-4369-ab6d-afb0a7819fdc",
   "metadata": {
    "deletable": false,
    "editable": false
   },
   "source": [
    "Sehr nützlich ist auch die ```value_counts```-Methode, die sämtliche Werte in einer Spalte auszählt und uns eine Art \"Frequenzwörterbuch\" zurückgibt. Die Methode liefert also genau das, was wir im Notebook \"Input und Output Teil 2\" manuell für die 100 flächengrößten Gemeinden Deutschlands errechnet haben:"
   ]
  },
  {
   "cell_type": "code",
   "execution_count": null,
   "id": "50125980-c033-4780-8cc3-4bb76fa43143",
   "metadata": {
    "tags": []
   },
   "outputs": [],
   "source": [
    "songkorpus[\"Jahrzehnt\"].value_counts()"
   ]
  },
  {
   "cell_type": "markdown",
   "id": "096bbcc3-c642-4858-bb59-4b536c0caee7",
   "metadata": {
    "deletable": false,
    "editable": false
   },
   "source": [
    "Die Zehnerjahre sind dieser Auswertung zufolge am häufigsten vertreten im ```songkorpus```. \n",
    "\n",
    "Da absolute Zahlen oft schwer miteinander zu vergleichen sind, bietet ```value_counts``` auch die Möglichkeit, die Werte zu *normalisieren*, d.&nbsp;h. *relativ* auszugeben. Dazu spezifizieren wir ganz einfach ```normalize=True```:"
   ]
  },
  {
   "cell_type": "code",
   "execution_count": null,
   "id": "e5386b40-a205-4b30-b6a2-ce8187d6d0cd",
   "metadata": {
    "tags": []
   },
   "outputs": [],
   "source": [
    "songkorpus[\"Jahrzehnt\"].value_counts(normalize=True)"
   ]
  },
  {
   "cell_type": "markdown",
   "id": "871fc0db-6b04-4751-a0f8-b910ff197c64",
   "metadata": {
    "deletable": false,
    "editable": false
   },
   "source": [
    "So lässt sich leicht ablesen, dass fast die Hälfte aller Tokens in ```songkorpus``` aus den Nuller- und Zehnerjahren stammen. Dieses Ungleichgewicht müssen wir bei künftigen Analysen im Hinterkopf behalten.\n",
    "\n",
    "***\n",
    "\n",
    "✏️ **Übung 7:** Mithilfe von ```describe``` haben wir oben herausgefunden, dass die durchschnittliche Wortlänge in ```songkorpus``` 6.88 Buchstaben beträgt. Die maximale Wortlänge beträgt hingegen sagenhafte 53 Buchstaben. Die Verteilung scheint alles andere als gleichmäßig zu sein, was wir auch an den sog. *Quartilen* 25% und 75% sehen (Quartile werden wie der Median berechnet, nur geht es nicht um den Mittelwert, sondern um die Werte nach einem Viertel bzw. drei Vierteln aller aufgereihten Werte). Find heraus, welche Wortlängen für jeweils mindestens 10 % aller Wörter gelten. Find ebenfalls heraus, welche Wortlängen für jeweils maximal 1 % aller Wörter gelten.\n",
    "\n",
    "<details>\n",
    "<summary>💡 Tipp </summary>\n",
    "<br>Einer von verschiedenen denkbaren Lösungswegen involviert die Tatsache, dass DataFrames und Series mit dictionaries verwandt sind und sich auch in ein solches casten lassen.</details>\n"
   ]
  },
  {
   "cell_type": "code",
   "execution_count": null,
   "id": "ae39edd4-5c88-4b54-94b1-8803dfcb811d",
   "metadata": {},
   "outputs": [],
   "source": [
    "#In diese Zelle kannst Du den Code zur Übung schreiben.\n",
    "\n",
    "\n"
   ]
  },
  {
   "cell_type": "markdown",
   "id": "0dc5955e-fad7-41b2-80ca-402d49662581",
   "metadata": {
    "deletable": false,
    "editable": false
   },
   "source": [
    "*** \n",
    "\n",
    "Zwei weitere hilfreiche Methoden sind ```nlargest``` und ```nsmallest```, die das DataFrame nach einer bestimmten Spalte (spezifiziert als zweites Argument) sortieren und die *n* (spezifiziert als erstes Argument) obersten bzw. untersten Zeilen ausgibt. Folgender Code liefert also die obersten zehn Zeilen eines nach der Spalte \"Häufigkeit\" absteigend sortierten DataFrame:"
   ]
  },
  {
   "cell_type": "code",
   "execution_count": null,
   "id": "980e342c-fc27-4dbd-b8dd-d73b4be4ce59",
   "metadata": {
    "tags": []
   },
   "outputs": [],
   "source": [
    "songkorpus.nlargest(10, \"Häufigkeit\")"
   ]
  },
  {
   "cell_type": "markdown",
   "id": "324d3440-94b9-4762-b2ba-88f3d723dc0f",
   "metadata": {
    "deletable": false,
    "editable": false
   },
   "source": [
    "Wasser auf die Mühlen der Selbstbezogenheitsthese! 😅\n",
    "\n",
    "Natürlich können wir ein DataFrame auch als Ganzes sortieren, anstatt bloß die *n* obersten bzw. untersten Zeilen zurückzukriegen."
   ]
  },
  {
   "cell_type": "markdown",
   "id": "5bf28cc2-2581-4795-a00d-002929e17b3c",
   "metadata": {
    "deletable": false,
    "editable": false
   },
   "source": [
    "## Werte sortieren\n",
    "\n",
    "Dazu benutzen wir die Methode ```sort_values```, der wir als erstes Argument die Spalte übergeben, anhand derer wir sortieren wollen, und als zweites Argument die Richtung der Sortierung, wobei ```ascending=True``` für aufsteigend (Standardwert) und ```ascending=False``` für absteigend steht.\n",
    "\n",
    "Folgender Code sortiert ```songkorpus``` aufsteigend nach der Spalte \"Jahr\":"
   ]
  },
  {
   "cell_type": "code",
   "execution_count": null,
   "id": "d358fb4c-6b84-4c72-adc5-ccbd8b98339c",
   "metadata": {
    "tags": []
   },
   "outputs": [],
   "source": [
    "songkorpus = songkorpus.sort_values(\"Jahr\", ascending=True)\n",
    "songkorpus.head()"
   ]
  },
  {
   "cell_type": "markdown",
   "id": "5d9f9b69-38fb-4bfd-a888-4665790b8976",
   "metadata": {
    "deletable": false,
    "editable": false
   },
   "source": [
    "Nach der Verwendung von ```sort_values``` lohnt es sich i.&nbsp;d.&nbsp;R., den Index des DataFrame, der ja durch die Sortierung ganz durcheinander geraten ist, zurückzusetzen. Dies können wir mithilfe von ```reset_index``` tun. Zusätzlich spezifizieren wir, dass der alte Index gelöscht werden soll (```drop=True```), andernfalls wird er in einer neuen Spalte gespeichert):"
   ]
  },
  {
   "cell_type": "code",
   "execution_count": null,
   "id": "c5a4de64-be0e-4c36-91a5-3195503f5fb4",
   "metadata": {
    "tags": []
   },
   "outputs": [],
   "source": [
    "songkorpus = songkorpus.reset_index(drop=True)\n",
    "songkorpus.head()"
   ]
  },
  {
   "cell_type": "markdown",
   "id": "deeb9b5f-cceb-4d53-b8b5-244d9b719cf8",
   "metadata": {
    "deletable": false,
    "editable": false
   },
   "source": [
    "Würden wir den Index nicht zurücksetzen, bekämen wir beim Zeilenzugriff über ```loc``` u.&nbsp;U. nicht die Ergebnisse zurück, die wir erwarten. Etwa erhielten wir über ```songkorpus.loc[0]``` nicht die erste Zeile des neuen DataFrame zurück, sondern die erste Zeile des alten, unsortierten DataFrame. Das liegt daran, dass Zeilen ihre Indizes bei der Sortierung standardmäßig behalten. Dieses Verhalten wird verständlicher, wenn Du Dir vorstellst, Du würdest ```songkorpus_labelled_rows``` sortieren (vgl. Übung 2). \n",
    "\n",
    "Wenn wir weder an der Häufigkeitsverteilung aller Werte in einer bestimmten Spalte (```value_counts```) noch an deren Reihenfolge (```nlargest```, ```nsmallest``` und ```sort_values```) interessiert sind, sondern an der bloßen Existenz eines Wertes (egal wie oft er auftritt), gibt es eine weitere praktische Methode.\n",
    "\n",
    "## Einzigartige Werte\n",
    "\n",
    "Nämlich ```unique```, das ähnlich wie die Python-Funktion ```set``` (vgl. Notebook \"Datentypen\") alle einzigartigen Werte in einer bestimmten Spalte zurückgibt:"
   ]
  },
  {
   "cell_type": "code",
   "execution_count": null,
   "id": "66bfab86-b49e-4d2c-bfba-ebc551019d83",
   "metadata": {},
   "outputs": [],
   "source": [
    "songkorpus[\"Jahr\"].unique()"
   ]
  },
  {
   "cell_type": "markdown",
   "id": "68bb0168-7550-4e4c-9e66-83b11b75b70f",
   "metadata": {
    "deletable": false,
    "editable": false
   },
   "source": [
    "***\n",
    "\n",
    "✏️ **Übung 8:** Wir wissen bereits, wie viele Tokens in unserem DataFrame vorkommen, nämlich 386.510. Find heraus, wie viele einzigartige Tokens, also Types (vgl. Notebook \"Funktionen und Methoden Teil 2\") es gibt."
   ]
  },
  {
   "cell_type": "code",
   "execution_count": null,
   "id": "3d3f90df-1ee0-446d-a810-291caaf8e3ef",
   "metadata": {},
   "outputs": [],
   "source": [
    "#In diese Zelle kannst Du den Code zur Übung schreiben.\n",
    "\n",
    "\n",
    "\n"
   ]
  },
  {
   "cell_type": "markdown",
   "id": "99544841-21d4-4427-8f8c-eb1753f5ef96",
   "metadata": {
    "deletable": false,
    "editable": false
   },
   "source": [
    "***\n",
    "\n",
    "Zuletzt ein Ausblick auf unseren Anwendungsfall, den wir im zweiten Teil des Notebooks \"Datenanalyse\" bearbeiten werden:\n",
    "\n",
    "\n",
    "## 🔧 Anwendungsfall: Wortverlaufskurven visualisieren 📈\n",
    "\n",
    "Wir wollen visualisieren, wie häufig beliebige Wörter in jedem Jahr im vom Songkorpus abgedeckten Zeitraum 1969-2022 vorkommen. Für die Begriffe \"ich\", \"du\", \"er\" und \"sie\" sieht das z.&nbsp;B. so aus:\n",
    "\n",
    "<img src=\"../3_Dateien/Grafiken_und_Videos/Wortverlaufskurve_Jahr.png\" width=\"700\">\n",
    "\n",
    "Rekapitulier Dein Wissen aus diesem Notebook nun noch einmal und überleg bereits jetzt, wie Du den Anwendungsfall angehen könntest. Gute Arbeit bis hierhin!"
   ]
  }
 ],
 "metadata": {
  "kernelspec": {
   "display_name": "Python 3 (ipykernel)",
   "language": "python",
   "name": "python3"
  },
  "language_info": {
   "codemirror_mode": {
    "name": "ipython",
    "version": 3
   },
   "file_extension": ".py",
   "mimetype": "text/x-python",
   "name": "python",
   "nbconvert_exporter": "python",
   "pygments_lexer": "ipython3",
   "version": "3.11.5"
  }
 },
 "nbformat": 4,
 "nbformat_minor": 5
}