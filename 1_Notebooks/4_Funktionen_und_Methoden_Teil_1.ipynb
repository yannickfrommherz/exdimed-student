{
 "cells": [
  {
   "cell_type": "markdown",
   "id": "671f992a-ca8c-4985-8020-424e2be8ce54",
   "metadata": {
    "deletable": false,
    "editable": false
   },
   "source": [
    "# Funktionen und Methoden Teil 1\n",
    "\n",
    "In diesem zweigeteilten Notebook geht es um Funktionen und Methoden. Im ersten Teil hier lernst Du das Prinzip des Code Reuse kennen sowie Funktionen und Methoden besonders wichtiger Datentypen. Im zweiten Teil kannst Du Dein Wissen an einem konkreten Anwendungsfall austesten. Außerdem erfährst Du, wie Du selbst Funktionen schreiben und von fertigem Code anderer Programmierer:innen in Form von Modulen profitieren kannst. Viel Erfolg! 😄\n",
    "\n",
    "## Code Reuse\n",
    "\n",
    "Die allermeisten Operationen, die wir beim Programmieren unternehmen, haben andere (und ab einem gewissen Zeitpunkt meist wir selbst auch) schon unzählige Male vorher ausgeführt. Wir stehen zwar erst am Anfang unserer Programmierer:innenkarriere, dennoch haben wir uns bereits mehrfach die Länge von einem Objekt (mithilfe der ```len```-Funktion) ausgeben lassen. Auch die```print```-Funktion haben wir schon viele Male genutzt. \n",
    "\n",
    "Ohne zu überlegen, haben wir vorgefertigte \"Bausteine\" von Python eingesetzt. Wenn man darüber nachdenkt, macht etwa die ```len```-Funktion nichts Außergewöhnliches. Wir könnten sie einfach nachbilden, indem wir zum Beispiel bei einem ```str```-Objekt über dessen einzelne Zeichen iterieren und bei jedem Zeichen einen Zähler um eins erhöhen. Der finale Stand des Zählers entspräche dann der Länge des string:"
   ]
  },
  {
   "cell_type": "code",
   "execution_count": null,
   "id": "2837878c-dba9-467b-828d-5d465ea910cb",
   "metadata": {
    "tags": []
   },
   "outputs": [],
   "source": [
    "string = \"testwort\"\n",
    "\n",
    "count = 0 #Vor der Schleife initialisieren wir die Zähler-Variable mit null.\n",
    "\n",
    "#Hier iterieren wir über die einzelnen Zeichen in 'string'.\n",
    "for character in string:\n",
    "    count += 1 #Bei jedem Zeichen erhöhen wir den Zähler um eins.\n",
    "    \n",
    "print(count) #Am Ende lassen wir uns den finalen Stand des Zählers ausgeben."
   ]
  },
  {
   "cell_type": "markdown",
   "id": "cdf92461-e8bd-4d17-ad9b-4cdf5e1f6866",
   "metadata": {
    "deletable": false,
    "editable": false
   },
   "source": [
    "Dieser Code sieht vergleichsweise simpel aus. Dennoch wäre es sehr mühselig, diese paar Zeilen jedes einzelne Mal schreiben zu müssen, wenn wir die Länge eines string herausfinden wollen. Wie wir wissen, ist das aber nicht nötig, denn es gibt eine vordefinierte *Funktion* bei Python, auf die wir für diese Art von Operation zurückgreifen können. \n",
    "\n",
    "Funktionen und Methoden sind im Grunde nichts anderes als Code, der eine öfter verwendete Operation (und sei sie noch so trivial) definiert. Um wiederverwendet werden zu können, sind Funktionen/Methoden abstrakt formuliert: Anstelle konkreter Objekte stehen in ihrem Code Variablen, die, wenn wir eine Funktion/Methode *aufrufen*, mit dem Objekt *ausgefüllt* werden, auf das wir die Funktion/Methode anwenden. Anders formuliert: Wenn wir ```len(string)``` ausführen, *übergeben* wir der ```len```-Funktion unseren string. Im Code der ```len```-Funktion gibt es eine Variable, an deren Stelle nun unser string eingesetzt wird. Der Code wird also spezifisch für unseren string ausgerechnet. \n",
    "\n",
    "Python liefert in seiner *Grundausstattung* jede Menge nützliche Funktionen und Methoden. Davon werden wir die wichtigsten in diesem Notebook anschauen. Da es aber Fälle gibt, wo wir die ersten sind, die eine bestimmte Operation **mehrfach** ausführen müssen, ist es in Python möglich, eigene Funktionen (und Methoden, aber das klammern wir aus) zu definieren. Das schauen wir uns ebenfalls an. Ganz oft sind wir aber nicht die ersten, die eine bestimmte Operation mehrfach benötigen. Dennoch liefert Python eine entsprechende Funktion/Methode nicht in der Grundausstattung mit, da ihr Anwendungsfeld zu spezifisch ist. Hier kommen sog. *Module* ins Spiel, die wir in Python *importieren* können. Durch solche Module kommen wir an unzählige weitere nützliche Funktionen/Methoden. Wie der Import von Modulen funktioniert, schauen wir uns ganz am Ende des Notebooks an.\n",
    "\n",
    "Wir lernen ja programmieren, weil wir damit gewisse Aufgaben effizienter ausführen können (oder sie gar erst in Angriff nehmen können, wie beim Web-Scraping-Beispiel im Notebook \"Einführung\"). Mit Funktionen, Methoden und Modulen können wir bereits geschriebenen Code (wieder)verwenden, weshalb man auch von *Code Reuse* spricht. Indem wir lernen, diese vorgefertigten Bausteine miteinander zu kombinieren, je nachdem, was wir mit unserem Code erreichen wollen, lernen wir (effizient) zu programmieren."
   ]
  },
  {
   "cell_type": "markdown",
   "id": "bbcf9788-ba1b-4383-8269-a15990bc9c0a",
   "metadata": {
    "deletable": false,
    "editable": false
   },
   "source": [
    "## Funktionen vs. Methoden\n",
    "\n",
    "Bevor wir uns konkrete Funktionen und Methoden anschauen, folgen ein paar grundsätzliche Bemerkungen. Funktionen haben stets folgende Syntax:\n",
    "\n",
    "```function(object)```\n",
    "\n",
    "Anstelle von *function* steht der Funktionsname, z.&nbsp;B. ```len``` und bei *object* wird der Funktion ein Objekt übergeben, etwa ein string. Wie wir bei der ```print```-Funktion gesehen haben, können bei einigen Funktionen kommasepariert auch mehrere Objekte angegeben werden. Weiter können je nach Funktion optional kommasepariert Parameter (also eine [von den Standardwerten abweichende] Spezifierung, wie die Funktion ausgeführt werden soll) angegeben werden (z.&nbsp;B. den ```sep```-Parameter bei der ```print```-Funktion, siehe Notebook \"Datentypen\").\n",
    "\n",
    "Methoden haben dagegen folgende Syntax:\n",
    "\n",
    "```object.method()```\n",
    "\n",
    "An erster Stelle steht das Objekt, auf das die Methode angewendet werden soll (etwa der string bei der ```startswith```-Methode vom Notebook \"Kontrollstrukturen\"). Nach einem Punkt (man spricht deswegen auch von *dot notation*) steht der Methodenname und direkt anschließend runde Klammern. Oft sind die Klammern leer, da keine (von den Standardwerten abweichenden) optionalen Parameter angegeben werden (können). Bei der ```startswith```-Methode wird aber z.&nbsp;B. ein weiterer string erwartet, bei dem überprüft werden soll, ob er am Anfang des ersten strings steht oder nicht (vgl. Notebook \"Kontrollstrukturen\" und unten).\n",
    "\n",
    "Abgesehen von der Syntax unterscheiden sich Funktionen und Methoden in einem wichtigen Punkt: Methoden sind immer **datentypspezifisch**. Eine Methode funktioniert immer nur für einen einzigen Datentyp (es sei denn, eine gleichnamige Methode mit gleicher Funktionsweise wurde für verschiedene Datentypen definiert). Deshalb schauen wir uns unten Methoden für die Datentypen ```str```, ```list``` und ```dict``` separat an. \n",
    "\n",
    "Funktionen hingegen sind **keinem** Datentyp zugeordnet, was aber nicht heißt, dass sie auf sämtliche Objekte angewendet werden können. Die ```len```-Funktion etwa funktioniert u.&nbsp;a. bei strings und Listen, nicht aber bei ```int```-Objekten (vgl. Notebook \"Datentypen\"), da in der Funktionsdefinition von ```len``` nicht festgelegt wurde, wie die Länge eines solchen Objekts berechnet werden soll (es wäre ja auch nicht sinnvoll).\n",
    "Wenngleich wir den Anwendungsfall erst im zweiten Teil in Angriff nehmen, folgt hier schon mal ein Vorausblick:"
   ]
  },
  {
   "cell_type": "markdown",
   "id": "1e5ed91f-66ce-45fc-bfcb-a6c4e01749a3",
   "metadata": {
    "deletable": false,
    "editable": false
   },
   "source": [
    "***\n",
    "\n",
    "##  🔧 Anwendungsfall: Errechnen von Schlüsselwörtern\n",
    "\n",
    "Stellen wir uns vor, wir haben einen langen Text und würden gerne wissen, welche Wörter darin besonders oft vorkommen, sog. *Schlüsselwörter*. Gehen wir noch einen Schritt weiter und stellen uns vor, wir hätten zwei Texte, die wir gerne im Hinblick auf Schlüsselwörter vergleichen wollen. Ein solcher Vergleich wäre z.&nbsp;B. bei Parteiprogrammen oder Koalitionsverträgen spannend, um zu sehen, worauf die jeweiligen Texte ihren Fokus legen und worin sie sich unterscheiden. Sagen wir, wir wollen die deutschen Koalitionsverträge von 2018 (CDU, CSU, SPD) und 2021 (SPD, Grüne, FDP) miteinander vergleichen. Die beiden Texte sind im Ordner \"3_Dateien\" gespeichert. Mit folgendem Code können wir sie in den Arbeitsspeicher laden und uns mittels Slicing jeweils die ersten 100 Zeichen ausgeben lassen."
   ]
  },
  {
   "cell_type": "code",
   "execution_count": null,
   "id": "2ccb1fca-16e4-4437-9961-4d65bd0f321e",
   "metadata": {
    "tags": []
   },
   "outputs": [],
   "source": [
    "with open(\"../3_Dateien/Koalitionsvertraege/koalitionsvertrag_2018.txt\", encoding=\"utf-8\") as f:\n",
    "    kv18 = f.read()\n",
    "    print(type(f))\n",
    "    \n",
    "with open(\"../3_Dateien/Koalitionsvertraege/koalitionsvertrag_2021.txt\", encoding=\"utf-8\") as g:\n",
    "    kv21 = g.read()\n",
    "\n",
    "print(\"2018:\\n\", kv18[0:100], \"\\n\")    \n",
    "print(\"2021:\\n\", kv21[0:100])"
   ]
  },
  {
   "cell_type": "markdown",
   "id": "30a71aef-2b04-447a-82e6-e902939b73ea",
   "metadata": {
    "deletable": false,
    "editable": false
   },
   "source": [
    "Wie genau der Input und Output von Dateien funktioniert, lernen wir im zweiteiligen Notebook \"Input und Output\". Grob gesagt übertragen wir den Inhalt der beiden Textdateien in string-Objekte. Das mit ```kv18``` referenzierte Objekt beinhaltet also den ganzen Koalitionsvertrag von 2018 als *einen* string, auf den wir problemlos Indexing/Slicing sowie andere uns bereits bekannte string-Operationen anwenden können. Das wollen wir gleich mal üben.\n",
    "\n",
    "***\n",
    "\n",
    "✏️ **Übung 1:** Find heraus, welcher der beiden Koalitionsverträge länger ist."
   ]
  },
  {
   "cell_type": "code",
   "execution_count": null,
   "id": "14fb9931-9d32-4245-bc51-9b0ce378987a",
   "metadata": {},
   "outputs": [],
   "source": [
    "#In diese Zelle kannst Du den Code zur Übung schreiben.\n",
    "\n",
    "\n"
   ]
  },
  {
   "cell_type": "markdown",
   "id": "6950f1bc-1aa5-49ba-8083-1e05454ec85a",
   "metadata": {
    "deletable": false,
    "editable": false
   },
   "source": [
    "***\n",
    "\n",
    "✏️ **Übung 2:** Die unten bereitgestellte Liste ```buzzwords``` enthält heuristisch zusammengetragene Schlagwörter aus der Politik – erweiter die Liste gerne um eigene Begriffe, die Dich interessieren. Um einen ersten inhaltlichen Eindruck der Koalitionsverträge zu bekommen, wollen wir herausfinden, wie oft diese Begriffe in ihnen vorkommen und wie sich ihre Frequenz zwischen den Texten entwickelt. Zu diesem Zweck können wir ```count``` für strings verwenden (```kv18``` und ```kv21``` sind ja wie gesagt string-Objekte). ```count``` erlaubt es uns, das Vorkommen einer bestimmten Zeichenkette innerhalb einer anderen Zeichenkette auszuzählen. ```count``` hat folgende Syntax:\n",
    "\n",
    "```string.count(\"to_be_counted\")```\n",
    "\n",
    "```\"Schifffahrtsgesellschaft\".count(\"f\")``` ergäbe etwa vier.\n",
    "\n",
    "Was bei einem Wort funktioniert, geht auch bei langen strings wie bei unseren Koalitionsverträgen.\n",
    "\n",
    "Berechne nun, wie oft jeder Begriff  auf ```buzzwords``` in den beiden Verträgen vorkommt und verwend einen geeigneten Datentyp, um Deine Ergebnisse (separat für jeden Vertrag) abzuspeichern. Lass Dir anschließend für jeden Begriff die beiden Frequenzen sowie einen Trend über die Zeit (z.&nbsp;B. mittels der Emojis 📈, 📉, 🟰) ausgeben. Das Ergebnis für \"Corona\" sollte z.&nbsp;B. so aussehen:\n",
    "\n",
    "<img src=\"../3_Dateien/Grafiken_und_Videos/Frequenz_Corona.png\">\n",
    "\n",
    "<details>\n",
    "  <summary>💡 Tipp 1 </summary>\n",
    "    <br>Zum Abspeichern der Häufigkeiten empfiehlt sich die Nutzung von zwei dictionaries (je eins pro Jahr).<br><br>\n",
    "</details>\n",
    "<details>\n",
    "  <summary>💡 Tipp 2 </summary>\n",
    "    <br>Um die Ausgabe zu erzeugen, kannst Du eine <code>if</code>-<code>elif</code>-<code>else</code>-Struktur nutzen.\n",
    "</details>"
   ]
  },
  {
   "cell_type": "code",
   "execution_count": null,
   "id": "906b979c-d53e-4a4f-9981-e1e751f23076",
   "metadata": {},
   "outputs": [],
   "source": [
    "#In diese Zelle kannst Du den Code zur Übung schreiben.\n",
    "\n",
    "buzzwords = [\"Sozial\", \"Klima\", \"Europa\", \"Verkehr\", \"Landwirtschaft\", \"Umwelt\", \"Corona\"]\n",
    "\n",
    "\n"
   ]
  },
  {
   "cell_type": "markdown",
   "id": "676a02e2-8afa-4fb1-b151-4e7af7085953",
   "metadata": {
    "deletable": false,
    "editable": false
   },
   "source": [
    "*** \n",
    "\n",
    "An der Syntax hast Du es vermutlich bereits erkannt: Bei ```count``` handelt es sich um die erste string-Methode, die wir in diesem Notebook kennenlernen.\n",
    "\n",
    "Wie wir sehen, unterscheidet sich die Frequenz der Schlagwörter markant. Im Vergleich zu 2018 scheint neben \"Corona\" insbesondere \"Klima\" an Bedeutung gewonnen zu haben. Alle andere Schlagwörter dagegen kommen seltener vor. Um diese \"impressionistischen\" Ergebnisse belastbar zu machen, müssten wir im nächsten Schritt natürlich auch die in Übung 1 festgestellten unterschiedlichen Textlängen berücksichtigen, schließlich sind absolute Frequenzen abhängig von der Gesamttextlänge.\n",
    "\n",
    "Dies war bereits ein kleiner Einblick in den Anwendungsfall im Notebook \"Funktionen und Methoden Teil 2\". Dort wollen wir einen Schritt weitergehen und für *jedes* einzelne Wort in den beiden Koalitionsverträgen herausfinden, wie oft es jeweils vorkommt. Anstatt Begriffe wie in Übung 2 als relevant vorauszusetzen, erhalten wir so induktiv einen fundierten Blick auf die Texte und finden vielleicht Wörter, mit deren Vorkommen wir nicht gerechnet hätten. Die ```count```-Methode wird auch da zum Einsatz kommen. Im Folgenden lernen wir alle weiteren wichtigen Funktionen und Methoden für die drei Datentypen ```str```, ```list``` und ```dict``` kennen, die es uns schließlich in Kombination ermöglichen, Schlüsselwörter für die Koalitionsverträge zu errechnen. \n",
    "\n",
    "***\n",
    "\n",
    "Eine Übersicht aller wichtigen Funktionen und Methoden findet sich in den jeweiligen Cheat Sheets im Ordner \"2_Cheat_Sheets\".\n",
    "\n",
    "## Operationen bei Zeichenketten / strings"
   ]
  },
  {
   "cell_type": "markdown",
   "id": "21a5abc0-1485-42f2-ba12-2fcd284d7bdd",
   "metadata": {
    "deletable": false,
    "editable": false
   },
   "source": [
    "Bei einem langen Text verliert man schnell den Überblick darüber, was beim Ausführen von Code genau geschieht. Deswegen wollen wir erst mit einem simplen string arbeiten, um die Funktionsweise der einzelnen Operationen genau zu verstehen. Das erlernte Wissen übertragen wir später einfach auf die beiden Koalitionstexte. Der Beispielstring lautet:"
   ]
  },
  {
   "cell_type": "code",
   "execution_count": null,
   "id": "eb8781ac-be9b-456f-9f5b-4c066147dc2c",
   "metadata": {
    "tags": []
   },
   "outputs": [],
   "source": [
    "sentence = \"Gesagt ist gesagt.\""
   ]
  },
  {
   "cell_type": "markdown",
   "id": "4fbbbbd5-4014-46d3-951c-f905e4b1e253",
   "metadata": {
    "deletable": false,
    "editable": false
   },
   "source": [
    "Auch wollen wir fürs Erste nur ein spezifisches Wort zählen, nämlich \"gesagt\". Wir wissen natürlich, dass \"gesagt\" in ```sentence``` vorkommt, hätten wir aber einen längeren Text, bei dem wir uns nicht sicher sind, ob ein bestimmtes Wort vorkommt, so könnten wird dies mit dem ```in```-Statement überprüfen:"
   ]
  },
  {
   "cell_type": "code",
   "execution_count": null,
   "id": "8e692c27-9c3d-4f1a-ac31-f9a35fc45eef",
   "metadata": {
    "tags": []
   },
   "outputs": [],
   "source": [
    "print(\"gesagt\" in sentence)"
   ]
  },
  {
   "cell_type": "markdown",
   "id": "0c2e19c3-a151-4fb1-bfe8-66d7ec0e4493",
   "metadata": {
    "deletable": false,
    "editable": false
   },
   "source": [
    "Dabei erhalten wir ganz einfach den Boolschen Wert ```True``` zurück. In Kombination mit dem logischen Operator ```not``` (vgl. Notebook \"Kontrollstrukturen\"), können wir auch das Gegenteil überprüfen und kriegen wieder einen Boolschen Wert zurück:"
   ]
  },
  {
   "cell_type": "code",
   "execution_count": null,
   "id": "509b88ea-0f9f-4348-8601-43dcffaa99ab",
   "metadata": {
    "tags": []
   },
   "outputs": [],
   "source": [
    "print(\"getan\" not in sentence)"
   ]
  },
  {
   "cell_type": "markdown",
   "id": "d961ed42-ea67-401d-a40a-9020cc5c172c",
   "metadata": {
    "deletable": false,
    "editable": false
   },
   "source": [
    "***\n",
    "\n",
    "✏️ **Übung 3:** Die beiden Koalitionsverträge stammen von unterschiedlichen Parteien (CDU, CSU, SPD bzw. SPD, Grüne, FDP). Find heraus, welche beiden Parteien es mit ihrem Kurznamen in beide Verträge geschafft haben. Stell sicher, dass die Zelle mit dem Dateiinput oben ausgeführt ist, damit die Variablen ```kv18``` und ```kv21``` mit dem jeweiligen Text initialisiert sind.\n",
    "\n",
    "<details>\n",
    "  <summary>💡 Tipp </summary>\n",
    "    <br>Zum Überprüfen, ob ein Wort in einem Text vorkommt, kannst Du folgenden Ausdruck verwenden: <code>if word in text</code>. Verwend einen logischen Operator (vgl. Notebook \"Kontrollstrukturen\"), um beide Texte in einer Codezeile auf das Vorkommen des jeweiligen Wortes zu prüfen. \n",
    "</details>"
   ]
  },
  {
   "cell_type": "code",
   "execution_count": null,
   "id": "7981b761-c368-4590-9a38-19ad4a743935",
   "metadata": {},
   "outputs": [],
   "source": [
    "#In diese Zelle kannst Du den Code zur Übung schreiben.\n",
    "\n",
    "\n"
   ]
  },
  {
   "cell_type": "markdown",
   "id": "aa71d64c-f4a6-45d2-90ce-1b871aa65e45",
   "metadata": {
    "deletable": false,
    "editable": false
   },
   "source": [
    "***\n",
    "\n",
    "Zurück zu unserem Anwendungsfall. Bei der Wortzählung soll Groß-/Kleinschreibung keine Rolle spielen (\"Gesagt\" und \"gesagt\" sollen also zusammengezählt werden). Zu diesem Zweck bietet es sich an, sämtliche Zeichen kleinzuschreiben. Dazu verwenden wir die ```lower```-Methode, die einen kompletten string in Kleinbuchstaben konvertiert."
   ]
  },
  {
   "cell_type": "code",
   "execution_count": null,
   "id": "bb274336-cebc-4a1a-a18a-3ba1db8c6204",
   "metadata": {
    "tags": []
   },
   "outputs": [],
   "source": [
    "sentence = sentence.lower()\n",
    "print(sentence)"
   ]
  },
  {
   "cell_type": "markdown",
   "id": "15902b8e-fe82-4366-85c6-78690291db6b",
   "metadata": {
    "deletable": false,
    "editable": false
   },
   "source": [
    "Das hat wunderbar geklappt. \n",
    "\n",
    "Als kleinen Einschub sehen wir in der nächsten Zelle mit ```lower``` verwandte Methoden, die allesamt mit Groß- bzw. Kleinschreibung zu tun haben:"
   ]
  },
  {
   "cell_type": "code",
   "execution_count": null,
   "id": "76d17267-c51f-4485-934a-455a5c592880",
   "metadata": {
    "tags": []
   },
   "outputs": [],
   "source": [
    "string = \"heute wird es schneien.\"\n",
    "\n",
    "uppercase = string.upper()\n",
    "print(\"Alles Großbuchstaben:\", uppercase, \"\\n\")\n",
    "\n",
    "capitalized = string.capitalize()\n",
    "print(\"Nur der Anfangsbuchstabe großgeschrieben:\", capitalized, \"\\n\")\n",
    "\n",
    "title = string[0:10].title() #Wir können die Methode auch nur auf einen Teil des string anwenden.\n",
    "print(\"Wie ein englischsprachiger Titel:\", title, \"\\n\")\n",
    "\n",
    "swapped = title.swapcase() #Zur besseren Veranschaulichung kehren wir den Titel um.\n",
    "print(\"Und den Titel umgekehrt:\", swapped)"
   ]
  },
  {
   "cell_type": "markdown",
   "id": "e2381dc3-2044-4218-acb7-3846fb4a6847",
   "metadata": {
    "deletable": false,
    "editable": false
   },
   "source": [
    "Als kurze Erinnerung: Strings sind unveränderlich (vgl. Notebook \"Datentypen\"). Deswegen weisen wir das Resultat einer auf einen string angewandten Methode jeweils einer neuen Variable zu (oder überschreiben die alte, wie oben bei ```lower```). Führ den Code unten aus, um Dich selbst davon zu überzeugen, dass das ```str```-Objekt zwar im ```print```-Befehl modifiziert ausgegeben wird, das Objekt an sich aber nicht geändert wird:"
   ]
  },
  {
   "cell_type": "code",
   "execution_count": null,
   "id": "4853a73d-6c39-48e3-a032-9f07489cd323",
   "metadata": {
    "tags": []
   },
   "outputs": [],
   "source": [
    "immutability = \"Testwort\"\n",
    "print(immutability.lower())\n",
    "print(immutability)"
   ]
  },
  {
   "cell_type": "markdown",
   "id": "d375cf38-73c5-433b-9557-3e1b7dfcaab5",
   "metadata": {
    "deletable": false,
    "editable": false
   },
   "source": [
    "Zurück zu unserem Anwendungsfall. Als nächstes wollen wir den Satz *tokenisieren*, also in einzelne Wörter unterteilen. Dafür gibt es die ```split```-Methode. Sie nimmt einen string und unterteilt ihn standardmäßig bei jedem whitespace-Zeichen (die wichtigsten darunter: Leerschläge: ```\" \"```, Zeilenumbrüche: ```\"\\n\"```, Tabulatoren: ```\"\\t\"```). Die Methode gibt eine Liste mit den unterteilten Einheiten (beim standardmäßigen whitespace: Wörtern) zurück:"
   ]
  },
  {
   "cell_type": "code",
   "execution_count": null,
   "id": "6b01e3a9-3a95-42a6-94e6-742abdaba46f",
   "metadata": {
    "tags": []
   },
   "outputs": [],
   "source": [
    "words = sentence.split()\n",
    "print(words)"
   ]
  },
  {
   "cell_type": "markdown",
   "id": "bab33d67-ffae-4749-82c1-9145a91b7d5c",
   "metadata": {
    "deletable": false,
    "editable": false
   },
   "source": [
    "Sehr gut!\n",
    "\n",
    "***\n",
    "\n",
    "✏️ **Übung 4:** Anstelle von whitespace, das standardmäßig als Trennzeichen von ```split``` verwendet wird (und deswegen auch nicht angegeben werden muss), können wir strings auch bei anderen Trennzeichen aufsplitten. Dazu geben wir das gewünschte Trennzeichen in den Klammern an, etwa ```\".\"```, wenn wir einen string in Sätze aufsplitten wollen. \n",
    "\n",
    "Bring die Geschichte, die in ```sentence``` in komischer Reihenfolge erzählt wird, in die richtige Reihenfolge. Das Resultat sollte ein string mit drei richtig geordneten Sätzen sein. \n",
    "\n",
    "<details>\n",
    "  <summary>💡 Tipp </summary>\n",
    "  <br>Kombinier <code>split</code>, Indexing und Konkatenation mithilfe des <code>+</code>-Operators (beide Techniken haben wir in den vorigen Notebooks kennengelernt).\n",
    "</details>"
   ]
  },
  {
   "cell_type": "code",
   "execution_count": null,
   "id": "75b582b8-5f76-4cc2-8a98-e7a9369b6822",
   "metadata": {
    "tags": []
   },
   "outputs": [],
   "source": [
    "#In diese Zelle kannst Du den Code zur Übung schreiben.\n",
    "\n",
    "sentence = \"\"\"Die beiden verliebten sich ineinander. \n",
    "Und wenn sie nicht gestorben sind, kann's sein, dass sie sich heute noch küssen.\n",
    "Es waren einmal ein Hase und ein Fuchs.\"\"\"\n"
   ]
  },
  {
   "cell_type": "markdown",
   "id": "d9741c53-89d6-4c78-820f-31beec0f5b1e",
   "metadata": {
    "deletable": false,
    "editable": false
   },
   "source": [
    "***\n",
    "\n",
    "Kehren wir zu unserem Anwendungsfall zurück. Bevor wir uns die Wortfrequenzen auszählen lassen können, haben wir noch ein Problem: Beim zweiten \"gesagt\" hängt am Ende ein Punkt dran, der nicht zum Wort gehört. Um diesen loszuwerden, können wir die ```strip```-Methode verwenden. Sie nimmt einen string und entfernt standardmäßig sämtliche whitespace-Zeichen am Anfang (leading) und Ende (trailing) eines string. Sie ermöglicht aber auch das Entfernen von benutzerdefinierten Zeichen. So können wir den Punkt beim dritten Element (mit dem Index ```2```!) auf der Liste ```words``` entfernen:"
   ]
  },
  {
   "cell_type": "code",
   "execution_count": null,
   "id": "a5d55d27-48ec-4d6a-b483-a01d74fac43b",
   "metadata": {
    "tags": []
   },
   "outputs": [],
   "source": [
    "words[2] = words[2].strip(\".\")\n",
    "print(words)"
   ]
  },
  {
   "cell_type": "markdown",
   "id": "e9e0e0df-ac08-4689-be81-96c231e6c2fb",
   "metadata": {
    "deletable": false,
    "editable": false
   },
   "source": [
    "Nun haben wir eine Liste mit bereinigten Wörtern. \n",
    "\n",
    "***\n",
    "\n",
    "✏️ **Übung 5:** Selbstverständlich kann man das Vorkommen eines Wortes auf einer Liste auszählen lassen (das lernen wir bei den Methoden für Listen). Hier wollen wir aber die oben bereits kennengelernte ```count```-Methode für strings noch einmal anwenden. Dazu müssen wir die Listenelemente wieder zu einem string konkatenieren. Verwend eine Dir bereits bekannte ```str```-Methode, um aus ```words``` wieder einen string zu kreieren. Eine Variable namens ```sentence_again``` soll auf diesen string zeigen. \n",
    "\n",
    "Benutz anschließend die ```count```-Methode, um \"gesagt\" in ```sentence_again``` zu zählen. Das Resultat sollte natürlich zwei sein.\n",
    "\n",
    "<details>\n",
    "  <summary>💡 Tipp </summary>\n",
    "  <br>Zum Konkatenieren der Listenelemente kannst Du die <code>join</code>-Methode nutzen (vgl. Notebook \"Datentypen\").\n",
    "</details>"
   ]
  },
  {
   "cell_type": "code",
   "execution_count": null,
   "id": "94382e06-63b3-4a04-8f31-be77206e20af",
   "metadata": {},
   "outputs": [],
   "source": [
    "#In diese Zelle kannst Du den Code zur Übung schreiben.\n",
    "\n",
    "\n"
   ]
  },
  {
   "cell_type": "markdown",
   "id": "6ae32995-9203-4944-9422-78189fc02600",
   "metadata": {
    "deletable": false,
    "editable": false
   },
   "source": [
    "***\n",
    "\n",
    "Nun haben wir einige ```str```-Methoden kennengelernt und uns die Frequenz eines einzelnen Wortes auf sehr rudimentäre Art auszählen lassen. In der Regel (und so auch bei unseren Koalitionsverträgen) haben wir es nicht mit so kurzen strings zu tun und wir wollen nicht bloß die Häufigkeit eines einzelnen Wortes erfahren, sondern sämtliche Wortfrequenzen ermitteln. Für ein Schlüsselwörter-Skript fehlen uns noch Kenntnisse im Umgang mit Listen und dictionaries, die wir gleich kennenlernen. Erst besprechen wir noch ein paar weitere ```str```-Methoden. \n",
    "\n",
    "Die bereits bekannte ```strip```-Methode gibt es auch in den Ausführungen ```rstrip``` und ```lstrip```, die whitespace-Zeichen (oder das/die benutzerdefinierte(n) Zeiche(n)) nur jeweils am Anfang (```lstrip```) bzw. am Ende (```rstrip```) entfernen:"
   ]
  },
  {
   "cell_type": "code",
   "execution_count": null,
   "id": "21719b21-b9b2-45e0-aea3-d62c931e8de6",
   "metadata": {
    "tags": []
   },
   "outputs": [],
   "source": [
    "sentence = \"...ganz viele komische Zeichen/%§..§//§§....\"\n",
    "print(\"Links entfernt:\", sentence.lstrip(\".\"), \"\\nRechts entfernt:\", sentence.rstrip(\".%§/\")) #Es können mehrere zu entfernende Zeichen spezifiziert werden."
   ]
  },
  {
   "cell_type": "markdown",
   "id": "f7833e10-187f-48c2-bae8-270c6ae1f0a3",
   "metadata": {
    "deletable": false,
    "editable": false
   },
   "source": [
    "Weiter gibt es die Methode ```find``` zum Finden bestimmter Zeichen(ketten) innerhalb eines string. Die Methode nimmt einen string sowie die zu findende Zeichenkette als Parameter und gibt den Index des ersten Zeichens des ersten Vorkommens der zu findenden Zeichenkette zurück."
   ]
  },
  {
   "cell_type": "code",
   "execution_count": null,
   "id": "bd0d159e-f608-40a7-a37c-63e7619454a7",
   "metadata": {
    "tags": []
   },
   "outputs": [],
   "source": [
    "sentence = \"Die Freiheit des einen ist die Freiheit des anderen.\"\n",
    "print(sentence.find(\"Freiheit\"))\n",
    "\n",
    "#Die 'find'-Methode im Einsatz als Indizes bei Indexing und Slicing\n",
    "print(sentence[sentence.find(\"Freiheit\"):sentence.find(\"anderen\")]) #Einsatz der durch 'find' zurückgegeben Indizes als Slicing-Indizes\n",
    "print(sentence[sentence.find(\"Freiheit\")+1:].find(\"Freiheit\")) #Finden des zweiten Vorkommens von \"Freiheit\", indem das erste Vorkommen \"weggeslict\" wird (der Index bezieht sich auf den geslicten Satz und nicht auf 'sentence'!)"
   ]
  },
  {
   "cell_type": "markdown",
   "id": "a5bd1760-3690-40d9-98e5-c83dfcf59aa0",
   "metadata": {
    "deletable": false,
    "editable": false
   },
   "source": [
    "Da die ```find```-Methode nur jeweils den Index des ersten Vorkommens einer Zeichenkette zurückgibt, ist sie von begrenztem Nutzen. Im Notebook \"Reguläre Ausdrücke\" lernen wir sinnvollere Funktionen/Methoden kennen, die Python nicht direkt mitliefert, sondern die erst importiert werden müssen.\n",
    "\n",
    "Neben dem Finden von bestimmten Zeichen(ketten), können wir auch substrings in strings ersetzen. Dies geht mit der ```replace```-Methode, die sogar zwei Parameter in Klammern verlangt: erstens den zu ersetzenden substring und zweitens den substring, der als Ersatz genommen werden soll:"
   ]
  },
  {
   "cell_type": "code",
   "execution_count": null,
   "id": "19bd2a73-d177-4b8d-a7f2-2b90bb896cc5",
   "metadata": {
    "tags": []
   },
   "outputs": [],
   "source": [
    "sentence = \"New York ist die Hauptstadt der USA.\"\n",
    "sentence = sentence.replace(\"New York\", \"Washington DC\")\n",
    "print(sentence)"
   ]
  },
  {
   "cell_type": "markdown",
   "id": "6b610b74-f244-4d1d-823d-7ddd67f6f93b",
   "metadata": {
    "deletable": false,
    "editable": false
   },
   "source": [
    "Würde \"New York\" mehrfach in ```sentence``` vorkommen, so würden **alle** Vorkommen durch \"Washington DC\" ersetzt werden. \n",
    "\n",
    "Den beiden letzten Methoden ```startswith``` und ```endswith``` sind wir schon im Notebook \"Kontrollstrukturen\" begegnet. Sie überprüfen, ob ein string mit einer bestimmten Zeichenkette beginnt oder endet und liefern Boolsche Werte zurück. Von daher kann man sie gut in bedingten Anweisungen einsetzen."
   ]
  },
  {
   "cell_type": "code",
   "execution_count": null,
   "id": "6b5c041e-ea26-4cae-8795-a754b216139a",
   "metadata": {
    "tags": []
   },
   "outputs": [],
   "source": [
    "sentence = \"Der frühe Vogel fängt den Wurm.\"\n",
    "print(sentence.startswith(\"Der\"))\n",
    "print(sentence.startswith((\"Der\", \"Die\", \"Das\"))) #Mehrere Zeichenketten können in einem Tupel angegeben werden, ergibt 'True' wenn eine der Zeichenketten am Anfang des Objekts steht\n",
    "print(sentence.endswith(\"Wurm\")) #Ergibt 'False', da danach noch ein Punkt folgt\n",
    "\n",
    "#Methoden können übrigens aneinandergehängt werden. Python wendet erst 'lower' an, dann 'startswith'; ohne 'lower' ergäbe dieses if-Statement 'False'\n",
    "if sentence.lower().startswith(\"der\"):\n",
    "    print(\"Der Satz fängt mit einem maskulinen Artikel an.\")"
   ]
  },
  {
   "cell_type": "markdown",
   "id": "9b601814-dc5d-4df7-895f-dd1c22beeed7",
   "metadata": {
    "deletable": false,
    "editable": false
   },
   "source": [
    "***\n",
    "\n",
    "✏️ **Übung 6:** Verwend ```str```-Methoden, um aus ```names``` eine Liste mit Namen wie folgt zu kreieren: ```['Martin Berger', 'Kirsten Hauser', 'Michaela Kircher', 'Fritz Hofer']```. Die Namen sollen vollkommen von leading und trailing whitespace bereingt und mit korrekter Groß-/Kleinschreibung vorliegen. \n",
    "\n",
    "<details>\n",
    "  <summary>💡 Tipp</summary>\n",
    "    <br>Diese Übung erfordert die Kombination mehrerer Methoden. Schau am besten noch einmal in den vorigen Abschnitten nach, welche Methoden sich hierfür anbieten. Du musst zunächst ein strukturelles Merkmal identifizieren, anhand dessen Du den string splitten kannst. Um Groß- und Kleinschreibung dabei ignorieren zu können, empfiehlt sich die Nutzung von <code>lower</code>.\n",
    "</details>"
   ]
  },
  {
   "cell_type": "code",
   "execution_count": null,
   "id": "7b6cdde0-365a-43d0-bbb5-a25b1e8921b1",
   "metadata": {},
   "outputs": [],
   "source": [
    "#In diese Zelle kannst Du den Code zur Übung schreiben.\n",
    "names = \"Name: Martin Berger name: Kirsten Hauser NAME: Michaela Kircher nAME: Fritz Hofer\"\n",
    "\n",
    "\n"
   ]
  },
  {
   "cell_type": "markdown",
   "id": "b62a3a3d-51ed-42c4-be8c-520a793ee3ed",
   "metadata": {
    "deletable": false,
    "editable": false
   },
   "source": [
    "***\n",
    "\n",
    "## Operationen bei Listen\n",
    "\n",
    "Machen wir weiter mit dem Datentyp ```list```. Oben hatten wir es ja kurzzeitig mit einer Liste zu tun, die wir dann aber pro forma wieder in einen string konvertiert haben. Wenn man Wörter in einem Text bereinigen will, etwa mit dem Ziel, Schlüsselwörter zu errechnen, ist es tatsächlich aber viel praktischer, mit einer Liste weiterzuarbeiten. Während ein string einfach *eine* lange Aneinanderkettung von Zeichen ist, liegen uns die Wörter auf einer Liste in *diskreten Einheiten* vor. Mittels Iteration können wir dann bestimmte Schritte des *preprocessing* (so nennt sich diese Technik) Wort für Wort vornehmen. \n",
    "\n",
    "Das typische Vorgehen beim preprocessing ist also \n",
    "\n",
    "1) einen string in eine Liste mit Wörtern unterteilen (```split```)\n",
    "2) über die Liste iterieren und preprocessing-Methoden (```lower```, ```strip``` sowie ggf. andere) Wort für Wort anwenden\n",
    "3) jedes bereinigte Wort an eine neue Liste anhängen (```append```)\n",
    "\n",
    "```append``` sind wir bereits im Notebook \"Kontrollstrukturen\" begegnet. Mithilfe dieser Listenmethode können wir ein Element an eine Liste anhängen. Der folgende Code vereint die bisher erlernten Schritte im Hinblick auf unseren Anwendungsfall. \n",
    "\n",
    "Wichtig: Die neue Liste mit den bereinigten Wörtern muss erst ins Leben gerufen werden, bevor wir Elemente an sie anhängen können. Das tun wir, indem wir die Variable ```preprocessed_words``` gleich zu Beginn mit einer leeren Liste initialisieren (mithilfe der entsprechenden Syntax, hier eben eckige Klammern, kann man auch leere Objekte anderer Datentypen initialisieren)."
   ]
  },
  {
   "cell_type": "code",
   "execution_count": null,
   "id": "954a155b-e966-447e-8607-f7ed45df8ebd",
   "metadata": {},
   "outputs": [],
   "source": [
    "sentence = \"Gesagt ist gesagt.\"\n",
    "words = sentence.split()\n",
    "\n",
    "preprocessed_words = []\n",
    "\n",
    "for word in words:\n",
    "    word = word.lower()\n",
    "    word = word.strip(\".\")\n",
    "    preprocessed_words.append(word)\n",
    "\n",
    "print(preprocessed_words)"
   ]
  },
  {
   "cell_type": "markdown",
   "id": "c6f02a4e-053b-4393-8a91-445732063810",
   "metadata": {
    "deletable": false,
    "editable": false
   },
   "source": [
    "Klappt ausgezeichnet.  \n",
    "\n",
    "Überleg Dir für einen Augenblick, warum wir bei den strings das Resultat der Methoden ```lower``` bzw. ```strip``` einer Variablen zuweisen (besser gesagt: die Variable ```word``` damit jeweils *überschreiben*). Das Resultat von ```append```, also die Liste mit dem neu angehängten Wort, weisen wir dagegen keiner Variablen zu. \n",
    "\n",
    "Genau, das liegt daran, dass string-Objekte unveränderlich und Listenobjekte veränderlich sind. Wollen wir mit einem veränderten string weiterarbeiten, müssen wir ihn einer Variablen zuweisen, denn das originale string-Objekt wird die Veränderung aufgrund seiner Unveränderlichkeit *nie* übernehmen. Listenobjekte hingegen können wir beliebig verändern, weswegen das Schaffen eines neuen bzw. Überschreiben eines alten Objekts (mittels Variablenzuweisung) nicht nötig ist. \n",
    "\n",
    "```append``` hängt ein Element immer am Ende einer Liste an. Daneben gibt es auch die Methode ```insert```, die es uns erlaubt, ein Element an einer bestimmten Position in der Liste, d. h. bei einem bestimmten Index, einzufügen:"
   ]
  },
  {
   "cell_type": "code",
   "execution_count": null,
   "id": "5a89c6cf-1c66-4176-86ac-3de7c4f2fff0",
   "metadata": {},
   "outputs": [],
   "source": [
    "preprocessed_words.insert(2, \"nicht\")\n",
    "print(preprocessed_words)"
   ]
  },
  {
   "cell_type": "markdown",
   "id": "3722090c-ec2a-4a4d-97ce-3c7ff632225e",
   "metadata": {
    "deletable": false,
    "editable": false
   },
   "source": [
    "Schau, was passiert, wenn Du diese Zelle mehrfach ausführst. \n",
    "\n",
    "Auch dieses Verhalten geht auf die Veränderlichkeit von Listen zurück. Nach erstmaligem Ausführen referenziert ```words``` folgende Liste ```['Gesagt', 'ist', 'nicht', 'gesagt.']``` im Arbeitsspeicher. Bei der nächsten Ausführung wird ```insert``` auf das nun veränderte ```words``` angewandt, etc. Dieser und der oben geschilderte Umstand sind fortgeschrittenes theoretisches Wissen, sie zeigen aber, dass die (Un)veränderlichkeit von Objekten durchaus einen Effekt haben kann. \n",
    "\n",
    "Es gibt noch eine dritte Methode, um eine Liste zu erweitern. Sie heißt ```extend``` und wird dann verwendet, wenn wir die Elemente eines iterierbaren Objekts einzeln an eine Liste anhängen wollen. Schau, was passiert, wenn Du den folgenden Code mit ```extend``` ausführst vs. was passiert, wenn Du stattdessen ```append``` verwendest. Der Unterschied ist subtil, aber durchaus bedeutend. Welche Methode macht hier mehr Sinn?"
   ]
  },
  {
   "cell_type": "code",
   "execution_count": null,
   "id": "d39bb5a8-afb0-46ba-95c4-7edf88a33b79",
   "metadata": {},
   "outputs": [],
   "source": [
    "shopping_list = [\"Bananen\", \"Orangen\", \"Kiwis\"]\n",
    "\n",
    "vegetables = [\"Gurke\", \"Tomate\", \"Avokado\"]\n",
    "\n",
    "shopping_list.extend(vegetables)\n",
    "#shopping_list.append(vegetables)\n",
    "print(shopping_list)"
   ]
  },
  {
   "cell_type": "markdown",
   "id": "e5c0cbac-8091-482a-800a-24dae0db3dc6",
   "metadata": {
    "deletable": false,
    "editable": false
   },
   "source": [
    "```append``` behandelt die Liste ```vegetables``` einfach als *ein* Element. Wir wollen aber keine Liste in der Liste, weswegen hier ```extend``` sinnvoller ist.\n",
    "\n",
    "Wie oben erwähnt kann man sich die Häufigkeit eines Worts (genauer gesagt: eines Elements) auf einer Liste auszählen lassen. Die ```count```-Methode für Listen hat den gleichen Namen und die gleiche Funktion wie bei strings:"
   ]
  },
  {
   "cell_type": "code",
   "execution_count": null,
   "id": "49fe5102-0976-460f-96d4-58ef3b7163a4",
   "metadata": {},
   "outputs": [],
   "source": [
    "print(preprocessed_words.count(\"gesagt\"))"
   ]
  },
  {
   "cell_type": "markdown",
   "id": "1ae8070b-1712-4edb-aba2-80c0ff0ea1cd",
   "metadata": {
    "deletable": false,
    "editable": false
   },
   "source": [
    "Auch diese Methode wird uns später beim Errechnen von Schlüsselwörtern für die Koalitionstexte helfen.\n",
    "\n",
    "Neben den Methoden zum Erweitern einer Liste gibt es natürlich auch solche zum Entfernen von Elementen auf einer Liste. Konkret folgende zwei: ```remove``` und ```pop```. ```remove``` entfernt das in Klammern angegebene Element auf einer Liste, allerdings nur das erste:"
   ]
  },
  {
   "cell_type": "code",
   "execution_count": null,
   "id": "8552ea9a-8e04-41ef-bf9b-91fdfeaae9dc",
   "metadata": {},
   "outputs": [],
   "source": [
    "cities = [\"Pretoria\", \"Buenos Aires\", \"Malaga\", \"Malaga\"]\n",
    "cities.remove(\"Malaga\")\n",
    "print(cities)"
   ]
  },
  {
   "cell_type": "markdown",
   "id": "65678fbd-8c23-4e78-b690-1fd02b22dddf",
   "metadata": {
    "deletable": false,
    "editable": false
   },
   "source": [
    "Bei ```pop``` dagegen geben wir nicht das zu entfernende Element an, sondern dessen Index. Geben wir keinen Index an, so wird standardmäßig das letzte Element auf der Liste (also dasjenige mit dem Index ```-1```) entfernt. Bevor ein Element aus der Liste entfernt wird, gibt ```pop``` das betreffende Element noch zurück. Um dies zu verstehen, führe die folgende Zelle solange aus, bis Du eine Fehlermeldung erhältst:"
   ]
  },
  {
   "cell_type": "code",
   "execution_count": null,
   "id": "c3d161c9-7e1a-4d19-9e47-a09ef1b7720a",
   "metadata": {},
   "outputs": [],
   "source": [
    "print(\"Das letzte Element der Liste wird nun entfernt:\", cities.pop())\n",
    "print(\"Die Liste beinhaltet nun noch:\", cities)"
   ]
  },
  {
   "cell_type": "markdown",
   "id": "22af5481-8f89-4a9b-b9fd-30799e0f90b7",
   "metadata": {
    "deletable": false,
    "editable": false
   },
   "source": [
    "Als erstes wird \"Malaga\" zurückgegeben und anschließend von der Liste entfernt, danach \"Buenos Aires\" und schließlich \"Pretoria\". Dann erhalten wir eine Fehlermeldung, denn Python kann natürlich kein \"letztes Element\" auf einer *leeren* Liste finden. ```pop``` ist immer dann interessant, wenn wir Elemente an einer bestimmten Position in der Liste entfernen wollen, unabhängig davon, um was für ein Element es sich handelt (da würden wir ```remove``` benutzen).\n",
    "\n",
    "Bemühen wir dafür noch mal das Gesellschaftsspiel-Skript aus dem Notebook \"Kontrollstrukturen\". In der Übung dazu hast Du ein Skript geschrieben, bei dem der Beitritt ins Spiel nicht mehr möglich ist (die Iteration wird mit ```break``` abgebrochen), sobald sechs Teilnehmer:innen im Spiel sind. In der Zelle unten steht die Musterlösung zu jener Aufgabe, neu mit einer längeren Liste an Spielanwärter:innen und einer nicht mehr hardgecodeten Mindest- und Maximalanzahl an Teilnehmer:innen.\n",
    "***\n",
    "\n",
    "✏️ **Übung 7:** Modifizier den Code nun derart, dass bei sechs Teilnehmer:innen diejenige Person aus dem Spiel \"gekickt\" wird, die bereits am längsten daran teilnimmt (bzw. sich bereits am längsten auf der Teilnehmer:innenliste befindet). Im gleichen Zug soll die nächste Person aus ```participants_pool``` ins Spiel gelassen werden. Wie beim letzten Mal auch, möchten wir bei jeder Iteration informiert werden, wer gerade im Spiel ist.\n",
    "\n",
    "<details>\n",
    "  <summary>💡 Tipp</summary>\n",
    "  <br>Um die Person, die am längsten dabei ist, zu entfernen, musst Du lediglich diejenige mit dem Index null auf der Teilnehmer:innenliste aus dem Spiel entfernen. Nutz dazu eine der oben erlernten Listen-Methoden.\n",
    "</details>"
   ]
  },
  {
   "cell_type": "code",
   "execution_count": null,
   "id": "735c03dd-58be-4ecd-be08-d967dbf2bf3a",
   "metadata": {
    "tags": []
   },
   "outputs": [],
   "source": [
    "#In diese Zelle kannst Du den Code zur Übung schreiben.\n",
    "\n",
    "participants_pool = [\"Max\", \"Moritz\", \"Janine\", \"Hussein\", \"Fritz\", \"Mia\", \"Marianne\", \"Dolores\", \"Yin\", \"Margareth\", \"Benni\"]\n",
    "\n",
    "participants_game = []\n",
    "\n",
    "min_participants = 4\n",
    "max_participants = 6\n",
    "\n",
    "for name in participants_pool:\n",
    "    if len(participants_game) < min_participants-1:\n",
    "        participants_game.append(name)\n",
    "        print(\"Noch nicht genügend Teilnehmer:innen, wir brauchen noch\", min_participants-len(participants_game), \"😬\")\n",
    "        \n",
    "        #Zur Überprüfung der aktuellen Teilnehmer:innenliste\n",
    "        print(\"Aktuell auf der Liste:\", participants_game, \"\\n\")\n",
    "        continue\n",
    "        \n",
    "    elif len(participants_game) == max_participants:\n",
    "        print(\"Leider ist das Spiel voll 🥲\")\n",
    "        print(\"Aktuelle Teilnehmer:innen: \", participants_game)\n",
    "        break\n",
    "\n",
    "        \n",
    "    participants_game.append(name)\n",
    "    print(\"Das Spiel läuft 😍\")\n",
    "    \n",
    "    #Zur Überprüfung der aktuellen Teilnehmer:innenliste\n",
    "    print(\"Aktuell auf der Liste:\", participants_game, \"\\n\")"
   ]
  },
  {
   "cell_type": "markdown",
   "id": "609bb497-d468-4369-b484-f6ba13a33a0b",
   "metadata": {
    "deletable": false,
    "editable": false
   },
   "source": [
    "*** \n",
    "\n",
    "Mit dem hier verwendeten Know-How können wir ohne allzu viele Modifikationen auch ein sog. n-gram-Skript schreiben. N-gramme sind u.&nbsp;a. in der Korpuslinguistik sehr beliebte Analyseeinheiten. Anstatt einzelne Wörter (oder andere Einheiten, siehe unten) zu betrachten, schaut man sich z.&nbsp;B. immer zwei aufeinanderfolgende Wörter an, oder aber drei aufeinanderfolgende, etc. Im ersten Fall spricht man von Wort-Bigrammen, im zweiten von Wort-Trigrammen. \n",
    "\n",
    "Der Satz \"Ich gehe am Abend noch spazieren.\" enthält also folgende Wort-Bigramme: \"Ich gehe\", \"gehe am\", \"am Abend\", \"Abend noch\", \"noch spazieren.\". Da Sprachproduktion in vielerlei Hinsicht regelhaft ist, kann man solche Wort-Bigramme u.&nbsp;a. heranziehen, um Texte in bestimmte Textsorten zu klassifizieren (der Annahme folgend, dass bestimmte Wort-Bigramme überdurchschnittlich häufig in bestimmten Textsorten auftreten) oder um Fragen der Autorschaft eines Textes zu klären (der Annahme folgend, dass bestimmte Wort-Bigramme von bestimmten Autor:innen überdurchschnittlich häufig verwendet werden). \n",
    "\n",
    "Allgemein formuliert erhalten wir n-gramme, indem wir einen Text (oder sonst eine sequentielle Datei) in kleinere Einheiten unterteilen (oftmals eben Wörter, aber auch Sätze, Phrasen oder Buchstaben etc. sind möglich) und dann *n* aufeinanderfolgende (also in der Sequenz konsekutiv auftretende) Einheiten als ein n-gram zusammenfassen. \n",
    "\n",
    "***\n",
    "\n",
    "✏️ **Übung 8:** Deine Aufgabe ist es nun, ein Skript zu schreiben, das den oben im Beispiel verwendeten Satz nimmt und die darin vorkommenden Wort-Bigramme auf der Liste ```all_ngrams``` speichert. Neben ```all_ngrams``` wirst Du als Zwischenschritt beim Zusammentragen der Wort-Bigramme eine zweite Liste namens ```current_ngrams``` brauchen. Beide Listen sind bereits im Code gegeben und werden leer initialisiert. \n",
    "\n",
    "Wie erwähnt ist dieses Problem dem obigen im Gesellschaftsspiel-Skript sehr ähnlich. Denk daran, so wenig wie möglich zu hardcoden. Konkret: Definier, wo möglich, Variablen, sodass Dein Skript problemlos auch für andere Sätze oder zum Errechnen von Tri-, Quadrigrammen etc. benutzt werden kann. \n",
    "\n",
    "<details>\n",
    "  <summary>💡 Tipp </summary>\n",
    "  <br>Du musst zunächst den Satz bei Leerzeichen splitten. Dann kannst Du über die dabei entstehenden Elemente iterieren und das erste Bigramm (also die ersten beiden Wörter) in der Liste  <code>current_ngrams</code> zusammenfügen. Weitere n-gramme errechnest Du, indem Du jeweils ein Wort auf der Liste <code>current_ngrams</code> entfernst und die Liste stattdessen um ein neues Wort erweiterst.\n",
    "</details>"
   ]
  },
  {
   "cell_type": "code",
   "execution_count": null,
   "id": "8be01ebf-c91b-4914-b42f-d1db57fde829",
   "metadata": {
    "tags": []
   },
   "outputs": [],
   "source": [
    "#In diese Zelle kannst Du den Code zur Übung schreiben.\n",
    "\n",
    "sentence = \"Ich gehe am Abend noch spazieren.\"\n",
    "\n",
    "all_ngrams = []\n",
    "current_ngram = []\n",
    "\n",
    "\n"
   ]
  },
  {
   "cell_type": "markdown",
   "id": "592ce804-6b70-455a-b7a2-c294eb7be362",
   "metadata": {
    "deletable": false,
    "editable": false
   },
   "source": [
    "***\n",
    "\n",
    "Sehr gut!\n",
    "\n",
    "Wie erwähnt gibt es immer mehrere, gleichwertige Lösungen für ein bestimmtes Programmierproblem. Um das zu exemplifizieren, findest Du in der folgenden Zelle *eine* weitere Methode zur Berechnung von n-grammen. Der Code ist ziemlich kompakt und wird im Anschluss an die Zelle erläutert. Versuch aber erst, ihn selbst nachzuvollziehen."
   ]
  },
  {
   "cell_type": "code",
   "execution_count": null,
   "id": "d7a66d33-c856-475e-aeb8-5c18e3be3066",
   "metadata": {},
   "outputs": [],
   "source": [
    "sentence = \"Ich gehe am Abend noch spazieren.\"\n",
    "words = sentence.split()\n",
    "n = 2\n",
    "\n",
    "ngrams = []\n",
    "\n",
    "for i in range(len(words)-n+1):\n",
    "    ngrams.append(\" \".join(words[i:i+n]))\n",
    "\n",
    "print(ngrams)"
   ]
  },
  {
   "cell_type": "markdown",
   "id": "d247fc2d-2725-4889-b6fb-e6f144622462",
   "metadata": {
    "deletable": false,
    "editable": false
   },
   "source": [
    "Die ersten paar Zeilen des Codes sind die gleichen wie in der ersten Variante. Der Unterschied spielt sich in der `for`-Schleife ab: In der ersten Variante wird grob formuliert in jeder Iteration ein neues n-gram (`current_ngram`) geschaffen, indem das bisher erste Wort vom letzten n-gram entfernt wird und ein neues hinten angehängt wird. Jedes n-gram wird dann `all_ngrams` angehängt. In der zweiten Variante hier \"schieben\" wir hingegen eine Art \"Fenster\" über `words`: Mittels Slicing schneiden wir uns eine neue Liste von der Länge `n` aus `words` heraus und rücken bei jeder Iteration den Start- und Endindex für das Slicing um eine Position vor. Die neue Liste fügen wir jeweils mit der uns aus dem Notebook \"Datentypen\" bekannten `join`-Methode zu einem string zusammen und hängen diesen als n-gram `ngrams` an. Das Resultat ist natürlich dasselbe wie bei der ersten Variante. "
   ]
  },
  {
   "cell_type": "markdown",
   "id": "73015204-fcb8-411b-a596-2553e560d2ae",
   "metadata": {
    "deletable": false,
    "editable": false
   },
   "source": [
    "Zurück zu den Operationen bei Listen: Wie bei strings mit der ```find```-Methode kann man auch in Listen nach einem bestimmten Element suchen und kriegt den Index (des ersten Vorkommens) zurück. Bei Listen nennt sich die entsprechende Methode allerdings ```index```:"
   ]
  },
  {
   "cell_type": "code",
   "execution_count": null,
   "id": "7b675221-290c-400d-a06f-bede6fbd5b26",
   "metadata": {},
   "outputs": [],
   "source": [
    "shopping_list = [\"Bananen\", \"Orangen\", \"Kiwis\"]\n",
    "print(shopping_list.index(\"Kiwis\"))"
   ]
  },
  {
   "cell_type": "markdown",
   "id": "97358002-c919-4e7a-96ae-5f73e6e390a2",
   "metadata": {
    "deletable": false,
    "editable": false
   },
   "source": [
    "Probier gerne aus, was passiert, wenn Du nach einem Element suchst, das nicht in der Liste enthalten ist. \n",
    "\n",
    "Um zu überprüfen, ob ein Element in einer Liste enthalten ist (und wenn nein, um einer Fehlermeldung vorzubeugen), kann man wie bei strings das ```in```-Statement einsetzen:"
   ]
  },
  {
   "cell_type": "code",
   "execution_count": null,
   "id": "4208e5f9-683f-4472-bb71-d971cc7fe0aa",
   "metadata": {},
   "outputs": [],
   "source": [
    "print(\"Erdbeeren\" in shopping_list)"
   ]
  },
  {
   "cell_type": "markdown",
   "id": "7b6e9947-5c66-4d76-8386-95d9f5023c42",
   "metadata": {
    "deletable": false,
    "editable": false
   },
   "source": [
    "***\n",
    "\n",
    "✏️ **Übung 9:** Erinnerst Du Dich an die Übung mit den beiden Einkaufslisten, die zu einer zusammengeführt werden sollten, aus dem Notebook \"Datentypen\"? Damals haben wir mithilfe von ```set``` sichergestellt, dass keine doppelten Elemente auf der zusammengeführten Einkaufsliste vorkommen. In dieser Übung wollen wir es etwas manueller machen (zu Übungszwecken sehen wir vom oben verkündeten Code-Reuse-Mantra ab). Iterier über eine der beiden Listen und füg der anderen Liste sämtliche Lebensmittel an, sofern sie nicht bereits auf dieser anderen Liste stehen. Lass Dir anschließend die andere Liste ausgeben. Diese sollte dann einer zusammengeführten Liste entsprechen.\n",
    "\n",
    "<details>\n",
    "  <summary>💡 Tipp </summary>\n",
    "    <br>Zum Überprüfen, ob ein Element auf der anderen Liste <b>nicht</b> vorkommt, kannst Du das Statement <code>if element not in list</code> verwenden.\n",
    "</details>"
   ]
  },
  {
   "cell_type": "code",
   "execution_count": null,
   "id": "8728303a-f0df-4e41-8d52-cb715c374117",
   "metadata": {},
   "outputs": [],
   "source": [
    "#In diese Zelle kannst Du den Code zur Übung schreiben.\n",
    "\n",
    "my_shopping_list = [\"Brot\", \"Orangen\", \"Feldsalat\", \"Hafermilch\"]\n",
    "partner_shopping_list = [\"Hafermilch\", \"Kekse\", \"Mehl\", \"Brot\"]\n",
    "\n",
    "\n"
   ]
  },
  {
   "cell_type": "markdown",
   "id": "ccd81492-b5d5-420c-9355-d6c3fb324a42",
   "metadata": {
    "deletable": false,
    "editable": false
   },
   "source": [
    "***\n",
    "\n",
    "Abschließend wollen wir zwei Listenmethoden anschauen, mit denen wir die Elemente auf einer Liste neu sortieren können: ```sort``` und ```reverse```. ```sort``` sortiert eine Liste standardmäßig in aufsteigender Reihenfolge. Folgende Beispiele mit Zahlen und strings veranschaulichen dies:"
   ]
  },
  {
   "cell_type": "code",
   "execution_count": null,
   "id": "647eb086-192d-4cd2-a202-dc516aafb158",
   "metadata": {},
   "outputs": [],
   "source": [
    "list_of_strings = [\"Beta\", \"Gamma\", \"Alpha\", \"Delta\"]\n",
    "list_of_numbers = [2,3,6,4,1,5]\n",
    "\n",
    "list_of_strings.sort()\n",
    "list_of_numbers.sort()\n",
    "\n",
    "print(list_of_strings, list_of_numbers)"
   ]
  },
  {
   "cell_type": "markdown",
   "id": "401efff2-3874-4b24-abee-7cdfd3cafe17",
   "metadata": {
    "deletable": false,
    "editable": false
   },
   "source": [
    "Handelt es sich bei den Listenelementen um strings, so wird alphabetisch sortiert (und nicht etwa nach dem griechischen Alphabet 😉). \n",
    "\n",
    "```sort``` nimmt optional Parameter. Zum Beispiel kann spezifiziert werden, dass in absteigender Reihenfolge sortiert werden soll:"
   ]
  },
  {
   "cell_type": "code",
   "execution_count": null,
   "id": "cec2f652-9961-43a4-bbc2-d682ca3a5fe1",
   "metadata": {},
   "outputs": [],
   "source": [
    "list_of_numbers.sort(reverse=True)\n",
    "print(list_of_numbers)"
   ]
  },
  {
   "cell_type": "markdown",
   "id": "7c79d6fa-5549-463c-aec4-089e3d14f5ed",
   "metadata": {
    "deletable": false,
    "editable": false
   },
   "source": [
    "Ebenso kann man mit dem ```key```-Parameter angeben, nach welchem benutzerdefinierten Kriterium sortiert werden soll. Wir könnten eine Liste von strings z.&nbsp;B. nach der Länge der strings sortieren. Dazu brauchen wir eine etwas komplizierte sog. `lambda`-Funktion (noch so ein griechischer Buchstabe...). Ohne die Details genauer zu erläutern: Der hier verwendete ```key```-Parameter geht Element (```x```) für Element auf der Liste durch, rechnet für jedes Element seine Länge aus und sortiert anschließend die Liste nach den jeweils errechneten Längen:"
   ]
  },
  {
   "cell_type": "code",
   "execution_count": null,
   "id": "1269202f-cc7e-46f0-9f27-85783f1cd144",
   "metadata": {},
   "outputs": [],
   "source": [
    "list_of_strings.sort(key=lambda x: len(x))\n",
    "print(list_of_strings)"
   ]
  },
  {
   "cell_type": "markdown",
   "id": "892e1a8f-b733-40aa-b5c8-bfd5ef50a55d",
   "metadata": {
    "deletable": false,
    "editable": false
   },
   "source": [
    "Wie wir sehen, wurde die Liste im zweiten Schritt wieder standardmäßig alphabetisch sortiert.\n",
    "\n",
    "Im Zusammenhang mit ```sort``` ist auch die Funktion (!) ```sorted``` interessant. ```sorted``` nimmt ein iterierbares Objekt (in Klammern, da eine Funktion!) und gibt eine sortierte Liste zurück. Die Funktion akzeptiert also Listen selbst, aber u.&nbsp;a. auch dictionaries oder strings:"
   ]
  },
  {
   "cell_type": "code",
   "execution_count": null,
   "id": "b385febf-7f16-4e25-86d4-6bc7822c163a",
   "metadata": {},
   "outputs": [],
   "source": [
    "a_list = [1.43, 1.44, 1.42, 1.41]\n",
    "dictionary = {\"haben\": 28, \"sein\": 35}\n",
    "string = \"abcDEF\"\n",
    "\n",
    "a_list_sorted = sorted(a_list)\n",
    "dictionary_sorted = sorted(dictionary.items(), key=lambda x: x[1], reverse=True)\n",
    "string_sorted = sorted(string)\n",
    "\n",
    "print(a_list_sorted, \"\\n\", dictionary_sorted, \"\\n\", string_sorted)\n",
    "print(type(dictionary_sorted))"
   ]
  },
  {
   "cell_type": "markdown",
   "id": "d73f6b3e-d219-4f02-b056-40b60558082c",
   "metadata": {
    "deletable": false,
    "editable": false
   },
   "source": [
    "In dieser Zelle lernen wir Folgendes:\n",
    "    \n",
    "- Auch ```sorted``` sortiert standardmäßig in aufsteigender Reihenfolge. Hier können wir ebenfalls ```reverse=True``` spezifizieren, um die absteigende Reihenfolge zu erhalten.\n",
    "- Bei strings wird jedes einzelne Zeichen als zu sortierendes Element behandelt.\n",
    "- Großbuchstaben stehen im Alphabet vor Kleinbuchstaben (das gilt übrigens auch für die Listenmethode ```sort```).\n",
    "- Der ```key```-Parameter kann ebenfalls benutzerdefiniert werden. Im Falle des dictionary geht Python Schlüssel-Werte-Paar (```x```) für Schlüssel-Werte-Paar durch, nimmt den Wert (```x[1]```; ```x[0]``` wäre der zugehörige Schlüssel) und sortiert nach den Werten. Zur verwendeten ```items```-Methode für dictionaries siehe unten.\n",
    "- Das Resultat von ```sorted``` weisen wir **immer** einer Variablen zu, unabhängig von der (Un)veränderlichkeit des betreffenden Objekts. Grund dafür ist, dass Funktionen, im Gegensatz zu Methoden, immer nur Werte zurückgeben, nie aber etwas an den ihnen übergebenen Objekten verändern. \n",
    "- Sortieren wir ein dictionary, so erhalten wir eine Liste zurück. Alles andere würde keinen Sinn ergeben, denn dictionaries \"speichern\" ihre Schlüssel-Werte-Paare nicht in einer bestimmten Reihenfolge \"ab\".\n",
    "\n",
    "Abschließend schauen wir uns noch ```reverse``` an. Wie der Name sagt, kehrt diese Methode ganz einfach die Reihenfolge einer Liste um:"
   ]
  },
  {
   "cell_type": "code",
   "execution_count": null,
   "id": "3e59a529-0a3f-4af4-b361-681efae49603",
   "metadata": {},
   "outputs": [],
   "source": [
    "list_of_letters = ['z', 'y', 'x', 'w', 'v', 'u', 't', 's', 'r', 'q', 'p', 'o', 'n', \n",
    "                   'm', 'l', 'k', 'j', 'i', 'h', 'g', 'f', 'e', 'd', 'c', 'b', 'a']\n",
    "\n",
    "list_of_letters.reverse()\n",
    "\n",
    "print(list_of_letters)"
   ]
  },
  {
   "cell_type": "markdown",
   "id": "4a1ec92b-f7d5-4367-a275-25c81c6e2210",
   "metadata": {
    "deletable": false,
    "editable": false
   },
   "source": [
    "In diesem Beispiel hätte `sort` natürlich den gleichen Effekt gehabt. Soviel zum Thema Listen. \n",
    "\n",
    "Bevor wir zu dictionaries übergehen, werfen wir noch einen Blick auf die Technik *List Comprehension*. Es handelt sich dabei um eine fortgeschrittene Technik, mit der Listen auf sehr elegante Weise erzeugt werden können. Alles, was wir gleich mithilfe einer List Comprehension angehen, kannst Du bereits mithilfe anderer Techniken lösen. Der Vorteil von List Comprehensions besteht darin, dass wir viele Schritte auf eine einzige Zeile Code komprimieren können. Ob Du zukünftig List Comprehension verwendest oder nicht, steht Dir frei. In jedem Fall macht es Sinn, dass Du die Technik gesehen hast und weißt, wozu sie eingesetzt wird.\n",
    "\n",
    "### Exkurs: List Comprehension\n",
    "\n",
    "Am Anfang des Abschnitts *Operationen bei Listen* (s.&nbsp;o.) haben wir die bis dahin erlernten Schritte des preprocessing wie folgt zusammengefasst:"
   ]
  },
  {
   "cell_type": "code",
   "execution_count": null,
   "id": "18f14a0a-116d-48d7-b313-599a773eaba6",
   "metadata": {},
   "outputs": [],
   "source": [
    "sentence = \"Gesagt ist gesagt.\"\n",
    "\n",
    "#Eigentlicher Code\n",
    "words = sentence.split()\n",
    "preprocessed_words = []\n",
    "for word in words:\n",
    "    word = word.lower()\n",
    "    word = word.strip(\".\")\n",
    "    preprocessed_words.append(word)\n",
    "\n",
    "print(preprocessed_words)"
   ]
  },
  {
   "cell_type": "markdown",
   "id": "534e57b2-828b-43b8-af60-f80709f446b1",
   "metadata": {
    "deletable": false,
    "editable": false
   },
   "source": [
    "Dieser Code eignet sich wunderbar, um aus einem string eine Liste mit bereinigten Wörtern zu erstellen. Er besteht aus sechs Zeilen Code und ließe sich zwar auf drei Zeilen komprimieren (probier's aus!), nicht jedoch auf eine einzige Zeile wie hier: "
   ]
  },
  {
   "cell_type": "code",
   "execution_count": null,
   "id": "ff0ac115-a61f-45b1-8d46-71bdd1c5913c",
   "metadata": {},
   "outputs": [],
   "source": [
    "preprocessed_words = [word.lower().strip(\".\") for word in sentence.split()]\n",
    "\n",
    "print(preprocessed_words)"
   ]
  },
  {
   "cell_type": "markdown",
   "id": "70dcb01e-8f31-4398-800e-e8abf83257b8",
   "metadata": {
    "deletable": false,
    "editable": false
   },
   "source": [
    "Das ist eine List Comprehension. Sie verpackt sämtliche Schritte von oben in *eine* Zeile Code. Das Resultat ist dasselbe. \n",
    "\n",
    "Knapp formuliert iterieren wir hier – wie bei einer ```for```-Schleife – Wort für Wort (```word[...] for word```) über eine Liste mit (noch unbereinigten) Wörtern (```sentence.split()```) und wenden die Methoden ```lower``` und ```strip``` auf jedes Wort an (Methoden können, wie bereits oben gezeigt, einfach aneinander gehängt werden). Das bereinigte Wort wird dann an eine neue Liste angehängt, die, sobald komplett, mit ```preprocessed_words``` referenziert wird. Dass die bereinigten Wörter nach und nach an diese neue Liste angehängt werden, geht nicht klar aus dem Code hervor (im Gegensatz zur langen Version oben, wo wir ein Wort nach dem anderen mittels ```append``` an die neue Liste anhängen). Die Kürze des Codes geht hier also auf Kosten der Verständlichkeit."
   ]
  },
  {
   "cell_type": "markdown",
   "id": "1ecb72a4-cf9a-4cd8-bda7-8cca0722933c",
   "metadata": {
    "deletable": false,
    "editable": false
   },
   "source": [
    "Schauen wir uns die einzelnen Bestandteile einer List Comprehension in ihrer grundlegenden Syntax an:\n",
    "\n",
    "```new_list = [expression for element in iterable]```\n",
    "\n",
    "Eine List Comprehension wird **immer** von eckigen Klammern umrahmt (die eckigen Klammern machen auch deutlich, dass das Resultat der List Comprehension stets eine Liste ist). Innerhalb der Klammern gibt es stets folgende drei Bestandteile:\n",
    "- ```iterable``` definiert das Objekt, über das wir iterieren.\n",
    "- ```element``` ist die Variable für das einzelne Element bei der Iteration über ```iterable``` (im Beispiel oben in der ersten Iteration \"Gesagt\", in der zweiten \"ist\", in der dritten \"gesagt.\"). Die Variable kann wie immer frei benannt werden.\n",
    "\n",
    "Bis hierhin entspricht die Syntax dem Anweisungskopf einer ```for```-Schleife. Was nun bei einer ```for```-Schleife im  Anweisungskörper steht (im Beispiel oben die Methoden ```lower```, ```strip``` und ```append```), wird bei einer List Comprehension in die ```expression``` verpackt:\n",
    "\n",
    "- ```expression``` definiert i. d. R. einen komplexen Ausdruck, der nach und nach auf jedes ```element``` angewandt wird (im Beispiel oben werden ```lower``` und ```strip``` auf jedes ```element``` angewandt). Zur Erinnerung: Ein komplexer Ausdruck ergibt, wenn ausgerechnet, immer einen Wert (vgl. Notebook \"Einführung\"). Genau dieser Wert wird an die durch die List Comprehension entstehende, neue Liste angehängt (```new_list```). Wie wir unten sehen werden, kann anstatt eines komplexen Ausdrucks auch nur die Variable ```element``` (ohne dass z.&nbsp;B. eine Methode angewandt würde) oder gar ein ganz anderes Objekt da stehen.\n",
    "\n",
    "Neben dem ```append```-Schritt fällt bei List Comprehensions auch das Initialisieren einer leeren Liste vor der ```for```-Schleife (an die innerhalb der Schleife dann die einzelnen bearbeiteten Elemente angehängt werden) weg. Man könnte sagen, dass wir uns bei List Comprehensions mehr darauf fokussieren können, *was* in der neuen Liste landen soll, anstatt uns damit zu beschäftigen, *wie* die neue Liste konstruiert wird (vgl. [realpython.com](https://realpython.com/list-comprehension-python/))"
   ]
  },
  {
   "cell_type": "markdown",
   "id": "46e9d929-5b58-4b5b-b777-a614c3826fd2",
   "metadata": {
    "deletable": false,
    "editable": false
   },
   "source": [
    "List Comprehensions können aber noch mehr. In Kombination mit bedingten Anweisungen können sie auf folgende zwei Arten noch gezielter eingesetzt werden:\n",
    "\n",
    "1) Wir können einen Filter auf das Objekt anwenden, über das wir iterieren (```iterable```). Wir definieren dazu eine bedingte Anweisung, die bei jedem ```element``` überprüft, ob die Bedingung zutrifft. Nur wenn die Bedingung zutrifft, wird ```expression``` auf ```element``` angewandt und der daraus resultierende Wert an die neue Liste angehängt. Die grundlegende Syntax wird dafür folgendermaßen erweitert:\n",
    "\n",
    "    ```new_list = [expression for element in iterable if condition]```\n",
    "\n",
    "Dies können wir z.&nbsp;B. benutzen, um aus einem string sämtliche kurzen Wörter herauszufiltern, hier am Beispiel des ersten Absatzes des ersten Artikels des deutschen Grundgesetzes:"
   ]
  },
  {
   "cell_type": "code",
   "execution_count": null,
   "id": "e2b013c2-e6da-4254-9fad-3e4f4751416e",
   "metadata": {},
   "outputs": [],
   "source": [
    "constitution = \"Die Würde des Menschen ist unantastbar. Sie zu achten und zu schützen ist Verpflichtung aller staatlichen Gewalt.\"\n",
    "\n",
    "short_words = [word for word in constitution.split() if len(word) < 4]\n",
    "print(short_words)"
   ]
  },
  {
   "cell_type": "markdown",
   "id": "1828f20e-e303-4498-9685-f37091487e8f",
   "metadata": {
    "deletable": false,
    "editable": false
   },
   "source": [
    "Wie oben erwähnt kann, wie hier, bei ```expression``` nur die Variable für ```element``` stehen. So verwenden wir die List Comprehension schlicht zum Erstellen einer gefilterten Liste, ohne dabei die Elemente, die es \"in die Liste schaffen\" zusätzlich zu modifizieren. \n",
    "\n",
    "Natürlich lässt sich das Filtern auch mit der Anwendung eines komplexen Ausdrucks kombinieren:"
   ]
  },
  {
   "cell_type": "code",
   "execution_count": null,
   "id": "3adffe51-b6a0-4101-916c-2e5f28d44a4a",
   "metadata": {},
   "outputs": [],
   "source": [
    "long_words = [word.strip(\".\") for word in constitution.split() if len(word) > 10]\n",
    "print(long_words)"
   ]
  },
  {
   "cell_type": "markdown",
   "id": "e4cdf69c-aaed-461a-ae02-def47da4e1ad",
   "metadata": {
    "deletable": false,
    "editable": false
   },
   "source": [
    "Hier entfernen wir mittels ```strip``` bei ```expression``` den Punkt am Ende von \"unantastbar.\".\n",
    "\n",
    "2) Wir können die Anwendung von ```expression``` an eine bedingte Anweisung knüpfen. Konkret können wir zwei verschiedene ```expressions``` definieren, die abhängig davon, ob die Bedingung auf das jeweilige ```element``` zutrifft, angewandt werden. Die grundlegende Syntax sieht so aus:\n",
    "\n",
    "    ```new_list = [expression1 if condition else expression2 for element in iterable]```\n",
    "\n",
    "Damit können wir z.&nbsp;B. die oben vorgestellte ```swapcase```-Methode nachprogrammieren:"
   ]
  },
  {
   "cell_type": "code",
   "execution_count": null,
   "id": "97ea1e8c-36b9-400e-bd43-940acbdb9ed9",
   "metadata": {},
   "outputs": [],
   "source": [
    "swapped_case_list = [letter.lower() if letter.isupper() else letter.upper() for letter in constitution]\n",
    "\n",
    "swapped_case_string = \"\".join(swapped_case_list)\n",
    "\n",
    "print(swapped_case_string)\n",
    "\n",
    "#Überprüfen, ob das Resultat dasselbe wie bei der 'swapcase'-Methode ist\n",
    "print(swapped_case_string == constitution.swapcase())"
   ]
  },
  {
   "cell_type": "markdown",
   "id": "c537b883-f392-41a0-a668-3cafee25357a",
   "metadata": {
    "deletable": false,
    "editable": false
   },
   "source": [
    "Bei jedem ```letter``` wird überprüft, ob es sich um einen Großbuchstaben handelt, und wenn ja, wird ```letter.lower()``` darauf angewandt (```expression1```), andernfalls ```letter.upper()``` (```expression2```). In jedem Fall wird der modifizierte Buchstabe an die neue Liste ```swapped_case_list``` angehängt. Mit ```join``` fügen wir die einzelnen Listenelemente wieder zu einem string zusammen.\n",
    "\n",
    "Die beiden Varianten der Einbindung von bedingten Anweisungen in List Comprehensions lassen sich auch miteinander kombinieren. Das führt jedoch zu ziemlich langen, schwierig zu lesenden Codezeilen, weswegen davon i. d. R. abgesehen wird."
   ]
  },
  {
   "cell_type": "markdown",
   "id": "deece023-abb7-4f60-8d49-af8d8f8ac536",
   "metadata": {
    "deletable": false,
    "editable": false
   },
   "source": [
    "***\n",
    "\n",
    "✏️ **Übung 10:** ```temperatures``` ist eine Liste mit unterschiedlichen Messtemperaturen in Grad Celsius. Sie beinhaltet positive und negative Werte sowie fehlende Werte, die mit \"NA\" gekennzeichnet sind (für *not available*, etwa weil das Thermometer ausfiel). Erstell nun mittels List Comprehension folgende neuen Listen. Überleg Dir jeweils genau, an welcher Stelle in der List Comprehension Du die bedingte Anweisung einbauen musst.   \n",
    "\n",
    "1. ```temperatures_preprocessed``` soll eine Liste referenzieren, die nur numerische Werte enthält.\n",
    "\n",
    "Erstell ausgehend von ```temperatures_preprocessed``` diese zwei weiteren Listen:\n",
    "\n",
    "2. ```positives_replaced``` soll eine Liste referenzieren, auf der sämtliche positiven Werte durch 0.0 ersetzt werden.\n",
    "3. ```only_positives``` soll eine Liste referenzieren, die nur positive Werte beinhaltet.\n",
    "\n",
    "<details>\n",
    "  <summary>💡 Tipp</summary>\n",
    "  <br>Nur numerische Werte bedeutet, dass Du in der List Comprehension alle Werte ausschließen musst, die den Wert \"NA\" haben. Nutz dazu einen Vergleichsoperator.\n",
    "</details>"
   ]
  },
  {
   "cell_type": "code",
   "execution_count": null,
   "id": "2177137c-5d4b-4b2c-bdb2-8553fed2632c",
   "metadata": {},
   "outputs": [],
   "source": [
    "#In diese Zelle kannst Du den Code zur Übung schreiben.\n",
    "\n",
    "temperatures = [18.6, 23.4, \"NA\", 12.2, -3.1, 33.7, -10.9, -17.8, \"NA\", 7.0, 9.1, -0.2, 0.0, 8.6, \"NA\", \"NA\", 39.4, -29.8]\n",
    "\n",
    "\n"
   ]
  },
  {
   "cell_type": "markdown",
   "id": "daf04959-1bfa-4a07-bef9-80baabd40849",
   "metadata": {
    "deletable": false,
    "editable": false
   },
   "source": [
    "***\n",
    "\n",
    "## Operationen bei dictionaries\n",
    "\n",
    "Um abschließend Operationen bei dictionaries kennenzulernen, verwenden wir folgendes dictionary mit österreichischen Bundesländern:"
   ]
  },
  {
   "cell_type": "code",
   "execution_count": null,
   "id": "bf8ba7c8-b356-4fc7-b2db-df2fbe50c988",
   "metadata": {},
   "outputs": [],
   "source": [
    "federal_states = {\"Vorarlberg\": \"Bregenz\", \"Tirol\": \"Innsbruck\", \"Kärnten\": \"Klagenfurt\",\n",
    "                \"Steiermark\": \"Graz\"}"
   ]
  },
  {
   "cell_type": "markdown",
   "id": "7fe1f7b5-d1fd-4289-8091-81579c683168",
   "metadata": {
    "deletable": false,
    "editable": false
   },
   "source": [
    "Um die Hauptstadt zu einem Bundesland zu erhalten, also den Wert zu einem Schlüssel, können wir, wie wir bereits gesehen haben, folgende Syntax verwenden:"
   ]
  },
  {
   "cell_type": "code",
   "execution_count": null,
   "id": "d9d4ed7c-7449-4c9f-8929-7e55d18951fb",
   "metadata": {},
   "outputs": [],
   "source": [
    "print(federal_states[\"Steiermark\"])"
   ]
  },
  {
   "cell_type": "markdown",
   "id": "62a46d67-47b1-4295-8b3b-e662409274c4",
   "metadata": {
    "deletable": false,
    "editable": false
   },
   "source": [
    "Was passiert, wenn wir den Wert zu einem Schlüssel erfragen, der nicht im dictionary ist?"
   ]
  },
  {
   "cell_type": "code",
   "execution_count": null,
   "id": "2e1e312b-1375-4064-962f-d8325033ee0e",
   "metadata": {},
   "outputs": [],
   "source": [
    "print(federal_states[\"Oberösterreich\"])"
   ]
  },
  {
   "cell_type": "markdown",
   "id": "ec7b3620-f126-4b05-9f41-31bfa43fa6f1",
   "metadata": {
    "deletable": false,
    "editable": false
   },
   "source": [
    "Sind wir uns nicht sicher, ob ein Schlüssel in einem dictionary existiert, bietet sich folgende dictionary-Methode an:"
   ]
  },
  {
   "cell_type": "code",
   "execution_count": null,
   "id": "68ef1c67-67c0-467f-8015-1d0539bb0857",
   "metadata": {},
   "outputs": [],
   "source": [
    "print(federal_states.get(\"Oberösterreich\", \"Schlüssel nicht vorhanden\"))"
   ]
  },
  {
   "cell_type": "markdown",
   "id": "7838636a-fb48-41b4-93c3-ceb521817f44",
   "metadata": {
    "deletable": false,
    "editable": false
   },
   "source": [
    "Der zweite Parameter ist optional. Geben wir nichts an, so erhalten wir im Falle eines inexistenten Schlüssels ```None``` zurück. Wie bei strings und Listen können wir die Existenz eines Schlüssels in einem dictionary auch mittels ```in``` überprüfen:"
   ]
  },
  {
   "cell_type": "code",
   "execution_count": null,
   "id": "d1b4d682-0bf7-435f-a582-ec6b3c453563",
   "metadata": {},
   "outputs": [],
   "source": [
    "print(\"Oberösterreich\" in federal_states)"
   ]
  },
  {
   "cell_type": "markdown",
   "id": "5d2d1a59-ae1c-4c15-b679-663945e1a1b3",
   "metadata": {
    "deletable": false,
    "editable": false
   },
   "source": [
    "Oberösterreich ist aber natürlich ein österreichisches Bundesland, wir sollten unser dictionary also erweitern. Ein neues Schlüssel-Werte-Paar kreieren wir ganz einfach wie folgt:"
   ]
  },
  {
   "cell_type": "code",
   "execution_count": null,
   "id": "abeca294-7f17-4405-b4a1-8071505a0599",
   "metadata": {},
   "outputs": [],
   "source": [
    "federal_states[\"Oberösterreich\"] = \"Linz\" #Definieren eines neuen Schlüssel-Werte-Paars\n",
    "print(federal_states[\"Oberösterreich\"]) #Überprüfen wir dies gleich"
   ]
  },
  {
   "cell_type": "markdown",
   "id": "950c20ac-374c-4b98-b249-6c39d3856314",
   "metadata": {
    "deletable": false,
    "editable": false
   },
   "source": [
    "Angenommen, ein Bundesland erhielte eine neue Hauptstadt, so könnten wir gleichermaßen ein bestehendes Schlüssel-Werte-Paar überschreiben (probier's aus!).\n",
    "\n",
    "Was machen wir, wenn z.&nbsp;B. Vorarlberg aus der Republik Österreich austritt? Dafür gibt es das ```del```-Statement, das eine gewöhnungsbedürftige Syntax aufweist:"
   ]
  },
  {
   "cell_type": "code",
   "execution_count": null,
   "id": "0aceacc1-233d-4052-a342-5761fbcf39e5",
   "metadata": {},
   "outputs": [],
   "source": [
    "del federal_states[\"Vorarlberg\"]\n",
    "print(federal_states)"
   ]
  },
  {
   "cell_type": "markdown",
   "id": "c102d283-6f19-411b-8a2c-b31101838fde",
   "metadata": {
    "deletable": false,
    "editable": false
   },
   "source": [
    "Genau wie bei Listen gibt es auch für dictionaries eine ```pop```-Methode, bei der allerdings nicht ein Index angegeben wird (dictionaries haben keine Reihenfolge!), sondern ein Schlüssel:"
   ]
  },
  {
   "cell_type": "code",
   "execution_count": null,
   "id": "e58eb78b-4549-42f6-bea0-88a4ac5f1bc6",
   "metadata": {},
   "outputs": [],
   "source": [
    "federal_states.pop(\"Oberösterreich\")"
   ]
  },
  {
   "cell_type": "markdown",
   "id": "c19ebfe6-6429-4ec8-84b7-939ab3112bb4",
   "metadata": {
    "deletable": false,
    "editable": false
   },
   "source": [
    "Wie Du siehst, gibt ```pop``` bei dictionaries ebenfalls den Wert zurück, bevor es das Schlüssel-Werte-Paar aus dem dictionary entfernt, wie sich wie folgt überprüfen lässt:"
   ]
  },
  {
   "cell_type": "code",
   "execution_count": null,
   "id": "941b88a4-0f92-4cd9-85af-1e30b7294a79",
   "metadata": {},
   "outputs": [],
   "source": [
    "print(federal_states)"
   ]
  },
  {
   "cell_type": "markdown",
   "id": "11f8b355-a954-4620-8258-54dfb263ad57",
   "metadata": {
    "deletable": false,
    "editable": false
   },
   "source": [
    "Was passiert, wenn Du den ```pop```-Befehl noch einmal ausführst? \n",
    "\n",
    "Dieses Verhalten liegt wiederum daran, dass dictionaries veränderlich sind (was wie bei Listen der Grund ist, warum wir das Resultat einer dictionary-Methode nicht einer neuen Variablen zuweisen). Wenn wir ein Schlüssel-Werte-Paar einmal entfernt haben, kann es nicht ein zweites Mal entfernt werden, denn es existiert ja nicht mehr. Solltest Du irgendwann auf Fehlermeldungen in diesem Abschnitt stoßen (abgesehen von den Stellen, an denen dies intendiert ist), dann liegt das wahrscheinlich daran, dass Du die Zellen nicht in der richtigen Reihenfolge maximal einmal ausgeführt hast. Du kannst dann einfach noch einmal dort starten, wo das problematische Objekt erstmals initialisiert wird.\n",
    "\n",
    "Unser Bundesländer-dictionary war von Anfang an nicht vollständig. Unten haben wir ein zweites dictionary, das die restlichen Bundesländer beinhaltet. Folgendermaßen können wir sie vereinen:"
   ]
  },
  {
   "cell_type": "code",
   "execution_count": null,
   "id": "3564749b-62a3-4852-ba90-9a60e058e59f",
   "metadata": {},
   "outputs": [],
   "source": [
    "federal_states = {\"Vorarlberg\": \"Bregenz\", \"Tirol\": \"Innsbruck\", \"Kärnten\": \"Klagenfurt\",\n",
    "                \"Steiermark\": \"Graz\"} #Sicherheitshalber initialisieren wir das dictionary noch einmal neu\n",
    "federal_states_completion = {\"Wien\": \"Wien\", \"Niederösterreich\": \"Sankt Pölten\",\n",
    "                               \"Oberösterreich\": \"Linz\", \"Salzburg\": \"Salzburg\", \"Burgenland\": \"Eisenstadt\"}\n",
    "\n",
    "federal_states.update(federal_states_completion)\n",
    "print(federal_states)"
   ]
  },
  {
   "cell_type": "markdown",
   "id": "4f68a5f6-763c-4e95-afb8-140e9630733c",
   "metadata": {
    "deletable": false,
    "editable": false
   },
   "source": [
    "Anstatt alle Schlüssel-Werte-Paare auf einmal zurückzubekommen, ist es wie bei Listen in der Regel sinnvoller, über ein dictionary zu iterieren und Schlüssel-Werte-Paare nacheinander einzeln zurückzukriegen. Dazu gibt es die bereits verwendete ```items```-Methode, die wir direkt im Schleifenkopf anwenden:"
   ]
  },
  {
   "cell_type": "code",
   "execution_count": null,
   "id": "7d37b88f-4c45-4f1c-97cd-475bacfdb750",
   "metadata": {},
   "outputs": [],
   "source": [
    "for state in federal_states.items():\n",
    "    print(state)"
   ]
  },
  {
   "cell_type": "markdown",
   "id": "3ddbd646-1633-4c28-baa7-49dc54ec16db",
   "metadata": {
    "deletable": false,
    "editable": false
   },
   "source": [
    "Wenn Du den Output genau anschaust, siehst Du, dass wir Tupel bestehend aus Schlüssel und Wert zurückbekommen. Wollen wir getrennt auf Schlüssel und Wert zugreifen, so können wir zwischen ```for``` und ```in``` auch zwei Variablen angeben:"
   ]
  },
  {
   "cell_type": "code",
   "execution_count": null,
   "id": "ca6d8915-3661-4d71-a98a-68d2f0edc4be",
   "metadata": {},
   "outputs": [],
   "source": [
    "for state, capital in federal_states.items():\n",
    "    print(capital, \"liegt in\", state)"
   ]
  },
  {
   "cell_type": "markdown",
   "id": "ca99ebbc-2373-4f76-8c04-78a3b5702514",
   "metadata": {
    "deletable": false,
    "editable": false
   },
   "source": [
    "Manchmal interessieren uns nur die Werte. Dann können wir stattdessen die ```values```-Methode benutzen:"
   ]
  },
  {
   "cell_type": "code",
   "execution_count": null,
   "id": "418427b8-2aab-4cd0-85a5-4fc187cf624b",
   "metadata": {},
   "outputs": [],
   "source": [
    "for capital in federal_states.values():\n",
    "    print(capital)"
   ]
  },
  {
   "cell_type": "markdown",
   "id": "924fef88-f8fe-4b85-97eb-08f24347a491",
   "metadata": {
    "deletable": false,
    "editable": false
   },
   "source": [
    "Sind wir stattdessen bloß an den Schlüsseln interessiert, so können wir entweder die ```keys```-Methode verwenden, oder – noch einfacher – über das dictionary selbst iterieren. Iteriert man nämlich ohne Methode über ein dictionary, so iteriert Python schlicht über die darin enthaltenen Schlüssel:"
   ]
  },
  {
   "cell_type": "code",
   "execution_count": null,
   "id": "5689f1ed-5df8-4f75-a0c0-e9c633017c01",
   "metadata": {},
   "outputs": [],
   "source": [
    "for state in federal_states.keys():\n",
    "    print(state)\n",
    "    \n",
    "print(\"\\nund das gleiche noch einmal:\\n\")\n",
    "    \n",
    "for state in federal_states:\n",
    "    print(state)"
   ]
  },
  {
   "cell_type": "markdown",
   "id": "303af548-3b6c-41dc-b5df-cd043796626d",
   "metadata": {
    "deletable": false,
    "editable": false
   },
   "source": [
    "***\n",
    "\n",
    "✏️ **Übung 11:** Eine Funktion zum Sortieren von dictionaries kennst Du bereits von oben. Sortier ```federal_states``` alphabetisch nach ihren Hauptstädten. Das Resultat sollte eine Liste mit Tupeln bestehend aus Bundesland und Hauptstadt sein.\n",
    "<details>\n",
    "  <summary>💡 Tipp</summary>\n",
    "  <br>In der Sortierfunktion kannst Du für den Zugriff auf die Schlüssel-Werte-Paare die <code>items</code>-Methode verwenden. Außerdem kommt ein griechischer Buchstabe in der Lösung vor.\n",
    "</details>"
   ]
  },
  {
   "cell_type": "code",
   "execution_count": null,
   "id": "4d85688d-ff0a-4064-a61d-737bfdb0fbed",
   "metadata": {},
   "outputs": [],
   "source": [
    "#In diese Zelle kannst Du den Code zur Übung schreiben.\n",
    "\n",
    "\n"
   ]
  },
  {
   "cell_type": "markdown",
   "id": "0634a7a8-bc51-4c21-af28-617ba4e88983",
   "metadata": {
    "deletable": false,
    "editable": false
   },
   "source": [
    "Wichtig ist, dass Du Dir merkst, dass wir stets die ```items```-Methode brauchen, wenn wir sowohl auf Schlüssel als auch auf Wert zugreifen wollen. Reichen die Schlüssel, so können wir direkt übers dictionary iterieren bzw. einer Funktion wie ```sorted``` das dictionary direkt übergeben.\n",
    "***\n",
    "\n",
    "Du hast nun verschiedene Funktionen und Methoden für die drei Datentypen strings, Listen und dictionaries kennengelernt. Dieses Wissen wird Dir im Anwendungsfall im zweiten Teil helfen. Deine Aufgabe wird wie angekündigt sein, für jedes einzelne Wort in den beiden Koalitionsverträgen herauszufinden, wie oft es jeweils vorkommt, um so Schlüsselwörter zu errechnen. Rekapitulier das Wissen aus diesem Notebook noch einmal und überleg Dir bereits jetzt, wie Du dabei vorgehen könntest. Details und eine Schritt-für-Schritt-Anleitung folgen im nächsten Notebook.\n",
    "Gute Arbeit bis hierhin!"
   ]
  }
 ],
 "metadata": {
  "kernelspec": {
   "display_name": "Python 3 (ipykernel)",
   "language": "python",
   "name": "python3"
  },
  "language_info": {
   "codemirror_mode": {
    "name": "ipython",
    "version": 3
   },
   "file_extension": ".py",
   "mimetype": "text/x-python",
   "name": "python",
   "nbconvert_exporter": "python",
   "pygments_lexer": "ipython3",
   "version": "3.11.5"
  }
 },
 "nbformat": 4,
 "nbformat_minor": 5
}