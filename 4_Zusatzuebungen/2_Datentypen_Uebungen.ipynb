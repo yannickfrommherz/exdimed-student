{
 "cells": [
  {
   "cell_type": "markdown",
   "id": "05e2c0b2-99be-469b-ad92-b0c9663b5d0e",
   "metadata": {
    "deletable": false,
    "editable": false
   },
   "source": [
    "# Zusatzübungen zum Notebook \"Datentypen\"\n",
    "\n",
    "Bemerkung: Einige der Übungen lassen sich elegant mit Kontrollstrukturen wie `for`-Schleifen und `if`-Statements lösen. Wenn Du diese schon beherrschst oder Dich herausfordern willst, benutz sie unbedingt. \n",
    "\n",
    "**Es ist aber auch vollkommen okay, damit noch abzuwarten**. Alle Übungen lassen sich auch ohne Kontrollstrukturen lösen und die Lösungen verwenden ebenfalls keine (außer bei expliziten Herausforderungen). Ohne Kontrollstrukturen musst Du z. T. ziemlich viel Code schreiben. Das ist aber eine sinnvolle Übung in korrekter Syntax. "
   ]
  },
  {
   "cell_type": "markdown",
   "id": "f71b5ec2-8430-4278-b0c6-2bc54281bc7a",
   "metadata": {
    "deletable": false,
    "editable": false
   },
   "source": [
    "\n",
    "✏️ **Übung 1:** Identifizier die Datentypen sämtlicher Objekte im verschachtelten Object `nested_object`.\n",
    "\n",
    "<details>\n",
    "    <summary>💡 Tipp </summary>\n",
    "    <br>Wenn Du Dir nicht sicher bist oder Deine Ergebnisse überprüfen willst, kannst Du eine weitere Code-Zelle darunter einfügen und die Funktion <code>type</code> nutzen, die Du bereits im Notebook \"Datentypen\" kennengelernt hast. Stell dabei sicher, dass Du das richtigte Listenelement \"ansprichst\": z. B. so: <code>type(nested_object[0])</code>\n",
    "</details>"
   ]
  },
  {
   "cell_type": "code",
   "execution_count": null,
   "id": "57d131be-caed-4702-97c9-a9f6f1103943",
   "metadata": {},
   "outputs": [],
   "source": [
    "nested_object = [\"He sings 'oh my God'\", None, (\"she\", \"sang\", 'oh', 'my', 'God'), {\"can\": [\"you\", \"believe\", \"it\"], \"me\": False}, 100.0]"
   ]
  },
  {
   "cell_type": "markdown",
   "id": "814735ca-3162-4014-82bf-642e8f3ebf89",
   "metadata": {
    "deletable": false,
    "editable": false
   },
   "source": [
    "***\n",
    "✏️ **Übung 2:** Find den/die Fehler in der folgenden Code-Zelle:"
   ]
  },
  {
   "cell_type": "code",
   "execution_count": null,
   "id": "1af75e5c-568b-4220-9880-3cc454c82e8f",
   "metadata": {
    "tags": []
   },
   "outputs": [],
   "source": [
    "summer = false\n",
    "if summer = true:\n",
    "   print \"It is hot!\""
   ]
  },
  {
   "cell_type": "markdown",
   "id": "06c32b84-2540-4242-aafc-8bae8fe91631",
   "metadata": {
    "deletable": false,
    "editable": false
   },
   "source": [
    "***\n",
    "✏️ **Übung 3:** Ermittle erstens, wie lang `longest_word` ist. Find zweitens **mithilfe von Python** heraus, welche fünf Buchstaben des deutschen Alphabets (ohne Umlaute) nicht in `longest_word` vorkommen. Den Abgleich zwischen allen einzigartigen Buchstaben in `longest_word` und dem deutschen Alphabet kannst Du händisch vornehmen.\n",
    "\n",
    "<details>\n",
    "    <summary>🦊 Herausforderung </summary>\n",
    "    <br>Benutz anstelle des händischen Abgleichs einen im Notebook \"Einführung\" kennengelernten, multifunktionalen Operator sowie <code>alphabet</code>, um herauszufinden, welche fünf Buchstaben des deutschen Alphabets nicht in <code>longest_word</code> vorkommen.\n",
    "</details>"
   ]
  },
  {
   "cell_type": "code",
   "execution_count": null,
   "id": "2fa9840a-4b46-4dd2-9b7f-f4744a34a3b9",
   "metadata": {
    "tags": []
   },
   "outputs": [],
   "source": [
    "#In diese Zelle kannst Du den Code zur Übung schreiben.\n",
    "\n",
    "longest_word = \"Donaudampfschifffahrtselektrizitätenhauptbetriebswerkbauunternehmenbeamtengesellschaft\"\n",
    "alphabet = \"abcdefghijklmnopqrstuvwxyz\""
   ]
  },
  {
   "cell_type": "markdown",
   "id": "83665d73-e812-4b9a-87e0-7428e3ddb51a",
   "metadata": {
    "deletable": false,
    "editable": false
   },
   "source": [
    "***\n",
    "✏️ **Übung 4:** Ein Supermarkt verkauft die in `products` gegebenen Produkte zu den gegebenen Preisen. Der Supermarkt will künftig keine Centbeträge mehr verrechnen und entscheidet sich dreisterweise dazu, alle Preise aufzurunden. Lass Dir die neuen Preise für alle Produkte ausrechnen. Was fällt Dir dabei auf?\n",
    "\n",
    "<details>\n",
    "    <summary>💡 Tipp </summary>\n",
    "    <br>\"Ausrechnen\" kannst Du die neuen Werte ganz einfach, indem Du sie in einen bestimmten Datentyp castest. Analysier genau, wie diese Umwandlung vonstatten geht und schreib den Code so, dass alle Werte auch wirklich aufgerundet werden.\n",
    "</details>"
   ]
  },
  {
   "cell_type": "code",
   "execution_count": null,
   "id": "5b41dd52-04b2-4bce-b445-0a60de7e56c5",
   "metadata": {
    "tags": []
   },
   "outputs": [],
   "source": [
    "#In diese Zelle kannst Du den Code zur Übung schreiben.\n",
    "\n",
    "products = {\"apple\": 0.89, \"pear\": 1.12, \"carrot\": 1.51, \"rocket\": 2.99, \"eggplant\": 4.02}"
   ]
  },
  {
   "cell_type": "markdown",
   "id": "fad88872-eaa5-458c-8412-c3d8bcac46ce",
   "metadata": {
    "deletable": false,
    "editable": false
   },
   "source": [
    "***\n",
    "✏️ **Übung 5:** Lass Dir das erste Element von `products` ausgeben. "
   ]
  },
  {
   "cell_type": "code",
   "execution_count": null,
   "id": "7c57c27e-f750-41b8-90b2-7b9f595378cc",
   "metadata": {
    "tags": []
   },
   "outputs": [],
   "source": [
    "#In diese Zelle kannst Du den Code zur Übung schreiben.\n"
   ]
  },
  {
   "cell_type": "markdown",
   "id": "e3614741-623b-4340-a8fa-817d08c17bba",
   "metadata": {
    "deletable": false,
    "editable": false
   },
   "source": [
    "***\n",
    "✏️ **Übung 6:** Ermittle für jede Webadresse in `newspapers` anhand ihrer [Top-Level-Domain](https://de.wikipedia.org/wiki/Top-Level-Domain), aus welchem Land die jeweilige Zeitung stammt. Lass Dir die Ergebnisse wie folgt formatiert ausgeben:\n",
    "\n",
    "    https://www.bild.de: Deutschland\n",
    "    https://www.nzz.ch: Schweiz\n",
    "    http://www.derstandard.at: Österreich\n",
    "    https://www.vaterland.li: Liechtenstein\n",
    "<details>\n",
    "    <summary>💡 Tipp </summary>\n",
    "    <br>Du kannst pro Webadresse einen <code>print</code>-Befehl benutzen. Verwend Indexing zum \"Ansprechen\" der jeweiligen Webadresse und Slicing, um auf die letzten beiden Buchstaben, also die Top-Level-Domain, zuzugreifen. Indem Du diese als Schlüssel beim dictionary einsetzt, erhältst Du das zugehörige Land.\n",
    "</details>\n",
    "<br>\n",
    "\n",
    "<details>\n",
    "    <summary>🦊 Herausforderung</summary>\n",
    "    <br>Verwend eine <code>for</code>-Schleife mit einem eingebauten <code>if</code>-Statement (dabei kannst Du dieselbe Struktur wie in der 5. Übung im Notebook \"Einführung\" verwenden), um herauszufinden, welche der Webadressen nicht sicher sind.\n",
    "</details>"
   ]
  },
  {
   "cell_type": "code",
   "execution_count": null,
   "id": "4087967d-e5b4-42d7-96d9-f80a1fd064aa",
   "metadata": {
    "tags": []
   },
   "outputs": [],
   "source": [
    "#In diese Zelle kannst Du den Code zur Übung schreiben.\n",
    "\n",
    "tld_countries = {\"li\": \"Liechtenstein\", \"ch\": \"Schweiz\", \"de\": \"Deutschland\", \"at\": \"Österreich\"}\n",
    "newspapers = [\"https://www.bild.de\", \"https://www.nzz.ch\", \"http://www.derstandard.at\", \"https://www.vaterland.li\"]"
   ]
  },
  {
   "cell_type": "markdown",
   "id": "27b00836-194d-45d8-a85c-754f4c473e5a",
   "metadata": {
    "deletable": false,
    "editable": false
   },
   "source": [
    "***\n",
    "✏️ **Übung 7:** Palindrome sind Wörter, die sich vorwärts wie rückwärts gleich schreiben. Lass Dir alle Wörter auf `palindromes` rückwärts ausgeben. \n",
    "\n",
    "Groß- und Kleinschreibung spielt bei Python ja eine Rolle. Überprüf mittels eines Vergleichsoperators bei allen Palindromen, ob sie auch im pythonischen Sinne Palindrome sind (also auch hinsichtlich der Groß- und Kleinschreibung rückwärts wie vorwärts gleich geschrieben werden). Lass Dir den Output für jedes Wort (genau!) wie folgt ausgeben:\n",
    "    \n",
    "    Neffen ist ein pythonisches Palindrom: Falsch\n",
    "        \n",
    "und so weiter.\n",
    "    \n",
    "<details>\n",
    "    <summary>💡 Tipp </summary>\n",
    "    <br>Da Python die Boolschen Werte \"True\" und \"False\" auf Englisch ausgibt, musst Du sie übersetzen. Du kannst dazu z. B. ein dictionary anlegen.\n",
    "</details>"
   ]
  },
  {
   "cell_type": "code",
   "execution_count": null,
   "id": "0a811f07-2344-49f1-875f-66f6037bfb37",
   "metadata": {
    "tags": []
   },
   "outputs": [],
   "source": [
    "#In diese Zelle kannst Du den Code zur Übung schreiben.\n",
    "\n",
    "palindromes = [\"Neffen\", \"Ebbe\", \"Madam\", \"hangnah\", \"Neozoen\", \"Rentner\"]"
   ]
  },
  {
   "cell_type": "markdown",
   "id": "b941632b-ad75-4126-8c9d-6f1cde4dd801",
   "metadata": {
    "deletable": false,
    "editable": false
   },
   "source": [
    "***\n",
    "✏️ **Übung 8 (fortgeschritten):** Der folgende Code verwendet die bereits angeteaserten Kontrollstrukturen sowie weitere, uns noch unbekannte Methoden. Versuch ihn dennoch zu verstehen. Dazu lohnt es sich, ihn zu verändern, `print`-Befehle einzubauen und ihn immer wieder auszuführen, um so die einzelnen Schritte zu verstehen. Kommentier den Code anschließend, damit ihn auch andere verstehen."
   ]
  },
  {
   "cell_type": "code",
   "execution_count": null,
   "id": "1caead94-518d-4a83-8f62-d2b026441a66",
   "metadata": {
    "tags": []
   },
   "outputs": [],
   "source": [
    "#In diese Zelle kannst Du den Code zur Übung schreiben.\n",
    "\n",
    "customers = {\"Petra\":  {\"tel\": 124039485, \"e-mail\": \"petra_bluemchen@hotmail.com\"},\n",
    "             \"Mads\":   {\"tel\": 399843632, \"e-mail\": \"mads1997@gmail.com\"},\n",
    "             \"Selima\": {\"tel\": 938489774, \"e-mail\": \"selima_berlin@web.de\"}, \n",
    "             \"Manni\":  {\"tel\": 938712023, \"e-mail\": \"manni234@web.de\"},\n",
    "             \"Gordon\": {\"tel\": 192738402, \"e-mail\": \"gordon_meister@gmx.de\"}}\n",
    "\n",
    "print(\"Kund:innen aus der Umgebung (erkennbar an der Vorwahl 938) sind:\\n\")\n",
    "for name, details in customers.items():\n",
    "    if str(details[\"tel\"])[0:3] == \"938\":\n",
    "        print(name, \"mit der Telefonnummer\", details[\"tel\"])"
   ]
  },
  {
   "cell_type": "markdown",
   "id": "5f795142-80dd-43ce-9218-2a1f643dc69a",
   "metadata": {
    "deletable": false,
    "editable": false
   },
   "source": [
    "***\n",
    "<table>\n",
    "      <tr>\n",
    "        <td>\n",
    "            <img src=\"../3_Dateien/Lizenz/CC-BY-SA.png\" width=\"400\">\n",
    "        </td> \n",
    "        <td>\n",
    "            <p>Dieses Notebook sowie sämtliche weiteren <a href=\"https://github.com/yannickfrommherz/exdimed-student/tree/main\">Materialien zum Programmierenlernen für Geistes- und Sozialwissenschaftler:innen</a> sind im Rahmen des Projekts <i>Experimentierraum Digitale Medienkompetenz</i> als Teil von <a href=\"https://tu-dresden.de/gsw/virtuos/\">virTUos</a> entstanden. Erstellt wurden sie von Yannick Frommherz unter Mitarbeit von Anne Josephine Matz. Sie stehen als Open Educational Resource nach <a href=\"https://creativecommons.org/licenses/by-sa/4.0/\">CC BY SA</a> zur freien Verfügung. Für Feedback und bei Fragen nutz bitte das <a href=\"https://forms.gle/VsYJgy4bZTSqKioA7\">Kontaktformular</a>.\n",
    "        </td>\n",
    "      </tr>\n",
    "</table>"
   ]
  }
 ],
 "metadata": {
  "kernelspec": {
   "display_name": "Python 3 (ipykernel)",
   "language": "python",
   "name": "python3"
  },
  "language_info": {
   "codemirror_mode": {
    "name": "ipython",
    "version": 3
   },
   "file_extension": ".py",
   "mimetype": "text/x-python",
   "name": "python",
   "nbconvert_exporter": "python",
   "pygments_lexer": "ipython3",
   "version": "3.11.5"
  }
 },
 "nbformat": 4,
 "nbformat_minor": 5
}