{
 "cells": [
  {
   "cell_type": "markdown",
   "id": "529c5026-557f-43cf-b616-a78a7574a34b",
   "metadata": {
    "deletable": false,
    "editable": false
   },
   "source": [
    "# Zusatzübungen zum Notebook \"Kontrollstukturen\""
   ]
  },
  {
   "cell_type": "markdown",
   "id": "11020840-284f-4100-a177-954949eb24ba",
   "metadata": {
    "deletable": false,
    "editable": false
   },
   "source": [
    "✏️ **Übung 1:** Schreib *eine* Code-Zeile, die folgende Bedingungen überprüft:\n",
    "\n",
    "- Berlin hat mehr Einwohner:innen als München.\n",
    "- In Hamburg wohnen entweder weniger Menschen als oder gleich viele wie in Berlin.\n",
    "- München ist Hamburg in Sachen Einwohnerzahl unterlegen.<br>\n",
    "\n",
    "<details>\n",
    "    <summary>💡 Tipp </summary>\n",
    "    <br>Nutz Vergleichsoperatoren in Kombination mit logischen Operatoren. Schau dazu ggf. noch einmal im Notebook \"Kontrollstrukturen\" nach.\n",
    "</details>\n",
    "<br>\n",
    "<details>\n",
    "    <summary>🦊 Herausforderung </summary>\n",
    "    <br>Überprüf zusätzlich im gleichen Statement, ob Berlin <i>nicht</i> kleiner als München ist, was die Einwohnerzahl anbelangt.\n",
    "</details>"
   ]
  },
  {
   "cell_type": "code",
   "execution_count": null,
   "id": "3ee1a493-4ff2-44d2-b0a5-2bade5c6d262",
   "metadata": {
    "tags": []
   },
   "outputs": [],
   "source": [
    "#In diese Zelle kannst Du den Code zur Übung schreiben.\n",
    "\n",
    "berlin = 3677472\n",
    "hamburg = 1853935\n",
    "muenchen = 1487708"
   ]
  },
  {
   "cell_type": "markdown",
   "id": "9b9e4b74-ec32-4498-acab-f56a3bc5b1a7",
   "metadata": {
    "deletable": false,
    "editable": false
   },
   "source": [
    "***\n",
    "✏️ **Übung 2:** Formulier den folgenden Code so konzis wie möglich in natürlicher Sprache:"
   ]
  },
  {
   "cell_type": "code",
   "execution_count": null,
   "id": "9ce361a3-cc1a-4220-9c66-3c32b46fbd0b",
   "metadata": {
    "tags": []
   },
   "outputs": [],
   "source": [
    "#In diese Zelle kannst Du den Code zur Übung schreiben.\n",
    "\n",
    "weekly_rain_chance_forecast = [0.2, 0.7, 0.8, 0.05, 0.95, 0.3, \"na\"]\n",
    "\n",
    "for daily_forecast in weekly_rain_chance_forecast:\n",
    "    if type(daily_forecast) != float:\n",
    "        print(\"No prognosis possible due to missing value.\")\n",
    "        continue\n",
    "    if daily_forecast < 0.5:\n",
    "        print(\"No need to carry an umbrella. 🌤️\")\n",
    "    else: \n",
    "        print(\"Carry an umbrella with you. ☔️\")"
   ]
  },
  {
   "cell_type": "markdown",
   "id": "c54e3242-fac2-4ed5-bd95-6f75aca110c8",
   "metadata": {
    "deletable": false,
    "editable": false
   },
   "source": [
    "***\n",
    "✏️ **Übung 3:** Mit `monthly_salary` soll das monatliche Einkommen einer bestimmten Person referenziert werden. Beträgt es 6000€ oder mehr, fällt es in die höchste Einkommensklasse. Bei einem Betrag von unter 2000€ handelt es sich um ein Einkommen in der tiefsten Einkommensklasse. Zwischen 2000€ und unter 3000€, 3000€ und unter 4500€ sowie 4500€ und unter 6000€ fällt es in die Einkommensklasse \"untere Mitte\", \"Mitte\" bzw. \"obere Mitte\". Formulier bedingte Anweisungen, die die entsprechende Einkommensklasse je nach Höhe von `monthly_salary` ausgeben.\n",
    "\n",
    "<details>\n",
    "    <summary>💡 Tipp </summary>\n",
    "    <br>Für diese Übung benötigst Du mehrere <code>elif</code>-Statements. Überleg Dir also, wie Du die Bedingungen sinnvoll aufeinander aufbauen lassen kannst.  \n",
    "</details>\n",
    "<br>\n",
    "<details>\n",
    "    <summary>🦊 Herausforderung </summary>\n",
    "    <br>Was passiert, wenn das Einkommen anstatt als Zahl z. B. so vorliegt: \"dreitausendsiebenhundert\"? Und was, wenn mit <code>monthly_salary</code> ein noch weniger sinnvolles Objekt referenziert wird, z. B. eine Liste? Verhinder in jedem Fall, dass es zu einer Fehlermeldung kommt.\n",
    "</details>"
   ]
  },
  {
   "cell_type": "code",
   "execution_count": null,
   "id": "314c7c45-e357-4ec7-918b-dd538565c5aa",
   "metadata": {
    "tags": []
   },
   "outputs": [],
   "source": [
    "#In diese Zelle kannst Du den Code zur Übung schreiben.\n",
    "\n",
    "monthly_salary = 3000\n",
    "\n"
   ]
  },
  {
   "cell_type": "markdown",
   "id": "fb93291b-fedf-4089-b70d-c133eb4125c7",
   "metadata": {
    "deletable": false,
    "editable": false
   },
   "source": [
    "***\n",
    "✏️ **Übung 4:** Erstell einen string aus den jeweils letzten Zeichen jeden Namens in `names` und lass ihn Dir ausgeben. \n",
    "\n",
    "<details>\n",
    "    <summary>💡 Tipp </summary>\n",
    "    <br>Initiier zunächst einen leeren string, z. B. so: <code>string = \"\"</code>. An diesen kannst Du die Zeichen nach und nach mittels erweiterter Zuweisung anfügen (vgl. Notebook \"Einführung\").\n",
    "</details>"
   ]
  },
  {
   "cell_type": "code",
   "execution_count": null,
   "id": "997e283b-29a0-42fe-ba29-cf900d98d3b1",
   "metadata": {
    "tags": []
   },
   "outputs": [],
   "source": [
    "#In diese Zelle kannst Du den Code zur Übung schreiben.\n",
    "\n",
    "names = [\"Hagen\", \"Lena\", \"Selim\", \"Brigitte\", \"Hermann\"]\n",
    "\n"
   ]
  },
  {
   "cell_type": "markdown",
   "id": "4f1f017f-834a-4507-b052-202836535a19",
   "metadata": {
    "deletable": false,
    "editable": false
   },
   "source": [
    "***\n",
    "✏️ **Übung 5:** Erstell abermals einen string bestehend aus ausgewählten Zeichen jeden Namens in `names`. Diesmal soll der erste Buchstabe für den neuen string der erste Buchstaben des ersten Namens sein, der zweite Buchstabe für den neuen string soll der zweite Buchstabe des zweiten Namens sein, etc. Welcher neue Name entsteht so?\n",
    "\n",
    "<details>\n",
    "    <summary>💡 Tipp </summary>\n",
    "    <br>Hierfür empfiehlt sich das Nutzen einer Zählervariable, die bei jedem Durchgang um eins erhöht wird.\n",
    "</details>\n",
    "<br>\n",
    "<details>\n",
    "    <summary>🦊 Herausforderung </summary>\n",
    "    <br>Nutz die <code>range</code>-Funktion zur Lösung der Übung (sofern Du dies nicht bereits getan hast).\n",
    "</details>"
   ]
  },
  {
   "cell_type": "code",
   "execution_count": null,
   "id": "c8fdfe97-edb7-446f-aabc-8772f487586f",
   "metadata": {
    "tags": []
   },
   "outputs": [],
   "source": [
    "#In diese Zelle kannst Du den Code zur Übung schreiben.\n",
    "\n",
    "names = [\"Hagen\", \"Lena\", \"Selim\", \"Brigitte\", \"Hermann\"]\n",
    "\n"
   ]
  },
  {
   "cell_type": "markdown",
   "id": "f1f1b2c4-8dd2-44f1-b0ee-6266cdf325e3",
   "metadata": {
    "deletable": false,
    "editable": false
   },
   "source": [
    "***\n",
    "✏️ **Übung 6:** Erstell einen weiteren string, indem Du bei jedem Namen auf `names` über die Buchstaben iterierst und jeweils das zweite, vierte, sechste, etc. Zeichen an den neuen string hängst. Der string beginnt also mit \"a\" und \"e\" aus \"Hagen\", gefolgt von \"e\" aus \"Lena\" etc. Diesmal entsteht kein sinnvolles neues Wort, geschweige denn ein Name. Vielleicht fällt Dir aber dennoch etwas zur allgemeinen Komposition von Namen auf.\n",
    "\n",
    "<details>\n",
    "    <summary>💡 Tipp </summary>\n",
    "    <br>Für diese Übung bietet sich die Nutzung der <code>range</code>-Funktion an. Bei dieser kannst Du als drittes Argument die \"Schrittweite\" spezifizieren.\n",
    "</details>"
   ]
  },
  {
   "cell_type": "code",
   "execution_count": null,
   "id": "5b39f83a-712d-42a8-a7a2-601cc21632b7",
   "metadata": {
    "tags": []
   },
   "outputs": [],
   "source": [
    "#In diese Zelle kannst Du den Code zur Übung schreiben.\n",
    "\n",
    "names = [\"Hagen\", \"Lena\", \"Selim\", \"Brigitte\", \"Hermann\"]\n",
    "\n"
   ]
  },
  {
   "cell_type": "markdown",
   "id": "942a8c45-0c35-41f7-830b-e093023c29db",
   "metadata": {
    "deletable": false,
    "editable": false
   },
   "source": [
    "***\n",
    "✏️ **Übung 7:** Wir wollen einen sehr simplen interaktiven Vokabeltrainer für Deutsch-Schwedisch programmieren. Das Programm soll eine Userin nach und nach alle gespeicherten Vokabeln abfragen, bis sie sämtliche korrekt vom Deutschen ins Schwedische übersetzt hat. Die Vokabeln inklusive Übersetzung stehen Dir bereits in `de_sv` zur Verfügung. Iteriere mit der ebenfalls bereits gegebenen `for`-Schleife über das dictionary. Vervollständige den Anweisungskörper, sodass die Userin bei jedem Wort (`word`) solange nach der Übersetzung (`translation`) gefragt wird, bis ihre Antwort korrekt ist. Der Dialog sollte wie folgt aussehen:\n",
    "\n",
    "<img src=\"../3_Dateien/Grafiken_und_Videos/de_sv.png\">\n",
    "\n",
    "Anschließend soll das nächste Wort abgefragt werden.\n",
    "    \n",
    "<details>\n",
    "    <summary>💡 Tipp 1 </summary>\n",
    "    <br>Um auch mit mehreren falschen Übersetzungen umgehen zu können, solltest Du eine <code>While True</code>-Schleife verwenden, die Du im Fall einer korrekten Übersetzung mithilfe von <code>break</code> abbrechen kannst.\n",
    "</details>\n",
    "<br>\n",
    "<details>\n",
    "    <summary>💡 Tipp 2 </summary>\n",
    "        <br>Um den Userinnen-Input entgegenzunehmen, nutz die <code>input</code>-Funktion. Speicher den Input zur Weiterverarbeitung in einer Variable. \n",
    "</details>"
   ]
  },
  {
   "cell_type": "code",
   "execution_count": null,
   "id": "cb229076-60f3-4a2e-b0ef-3c77be7b795c",
   "metadata": {
    "tags": []
   },
   "outputs": [],
   "source": [
    "#In diese Zelle kannst Du den Code zur Übung schreiben.\n",
    "\n",
    "de_sv = {\"ich\": \"jag\", \"aus\": \"från\", \"reisen\": \"resa\", \"gerne\": \"gärna\", \"nach\": \"till\", \"lieben\": \"älska\", \"woher\": \"varifrån\", \"kommen\": \"komma\", \"Deutschland\": \"Tyskland\", \"du\": \"du\", \"Schweden\": \"Sverige\", \"dich\": \"dig\", \"mich\": \"mig\", \"wir\": \"vi\"}\n",
    "\n",
    "for word, translation in de_sv.items():\n",
    "    pass #Entfern das 'pass'-Statement und füg Deinen Code ein.\n"
   ]
  },
  {
   "cell_type": "markdown",
   "id": "8c31b2b5-5aaa-43dc-ae8b-8c050ec7062a",
   "metadata": {
    "deletable": false,
    "editable": false
   },
   "source": [
    "***\n",
    "✏️ <b>Übung 8 (🦊 fortgeschritten, aufbauend auf Übung 7)</b>: Praktischer wäre es ja, wenn der Vokabeltrainer bei falsch übersetzten Wörtern die richtige Übersetzung ausgibt und diese Wörter dann später noch einmal abfragt. Korrekt übersetzte Wörter müssten dagegen weiterhin nur einmal abgefragt werden. Schreib den Code entsprechend so, dass jedes korrekt übersetzte Wort kein weiteres Mal abgefragt wird. Bei falsch übersetzten Wörtern soll hingegen die richtige Übersetzung angezeigt werden. Später, d. h. wenn alle (noch vorhandenen) Wörter abgefragt wurden, sollen abermals die in der letzten Iteration falsch übersetzten Wörter abgefragt werden, bis am Schluss jedes Wort einmal korrekt übersetzt wurde.<br>\n",
    "\n",
    "<details>\n",
    "    <summary>💡 Tipp 1</summary>\n",
    "    <br>Überleg Dir, wie Du die beiden Schleifentypen ineinander verschachteln musst, um die beschriebene Abfragelogik zu implementieren.\n",
    "</details>\n",
    "<br>\n",
    "<details>\n",
    "    <summary>💡 Tipp 2</summary>\n",
    "    <br>Um ein Schlüssel-Werte-Paar aus einem dictionary zu entfernen, kannst Du die <code>pop</code>-Methode mit folgender Syntax verwenden: <code>dictionary.pop(\"key\")</code>.\n",
    "</details>\n",
    "<br>\n",
    "<details>\n",
    "    <summary>🦊 Herausforderung</summary>\n",
    "    <br>Überleg Dir, wie Du den Vokabeltrainer zusätzlich verbessern könntest.\n",
    "</details>"
   ]
  },
  {
   "cell_type": "code",
   "execution_count": null,
   "id": "2d5c8ca0-7e39-4bb0-8329-d1bda527b2c3",
   "metadata": {
    "tags": []
   },
   "outputs": [],
   "source": [
    "#In diese Zelle kannst Du den Code zur Übung schreiben.\n",
    "\n",
    "de_sv = {\"ich\": \"jag\", \"aus\": \"från\", \"reisen\": \"resa\", \"gerne\": \"gärna\", \"nach\": \"till\", \"lieben\": \"älska\", \"woher\": \"varifrån\", \"kommen\": \"komma\", \"Deutschland\": \"Tyskland\", \"du\": \"du\", \"Schweden\": \"Sverige\", \"lieben\": \"älska\", \"dich\": \"dig\", \"mich\": \"mig\", \"wir\": \"vi\"}\n",
    "\n"
   ]
  },
  {
   "cell_type": "markdown",
   "id": "f19c6eb2-b599-4b50-97cb-fca72b1a257c",
   "metadata": {
    "deletable": false,
    "editable": false
   },
   "source": [
    "***\n",
    "✏️ **Übung 9:** Wenn Du zwei Vergleiche, die beide für sich ausgerechnet `False` ergeben, mithilfe von `or` verknüpfst, ergibt die Verknüpfung dann `True` oder `False`?"
   ]
  },
  {
   "cell_type": "markdown",
   "id": "ed4ab678-38dc-47a7-a4e7-4a9179f0ed06",
   "metadata": {
    "deletable": false,
    "editable": false
   },
   "source": [
    "***\n",
    "✏️ **Übung 10:** In Anlehnung an den Anwendungsfall im Notebook \"Kontrollstrukturen\", lass Dir sämtliche Viertelstunden eines kompletten Tages ausgeben, also:\n",
    "\n",
    "00:00<br>\n",
    "00:15<br>\n",
    "00:30<br>\n",
    "00:45<br>\n",
    "01:15<br>\n",
    "etc.\n",
    "    \n",
    "Achte darauf, dass die Ausgabe stets vierstellig ist.\n",
    "\n",
    "<details>\n",
    "    <summary>💡 Tipp 1</summary>\n",
    "    <br>Es empfiehlt sich, zunächst zwei Variablen mit der Maximallänge der Stunden bzw. Minuten zu definieren. So kannst Du den jeweiligen Wert mit dem Maximalwert abgleichen und wenn nötig zurücksetzen.\n",
    "</details>\n",
    "<br>\n",
    "<details>\n",
    "    <summary>💡 Tipp 2</summary>\n",
    "    <br>Um die einstelligen Stunden bzw. Minuten zweistellig auszugeben: Caste die betreffende Zahl in einen string und überprüf dessen Länge. Wenn diese eins beträgt, musst Du eine Null voranstellen.\n",
    "</details>"
   ]
  },
  {
   "cell_type": "code",
   "execution_count": null,
   "id": "6c384709-3093-4d13-81af-f46efe5e4035",
   "metadata": {
    "tags": []
   },
   "outputs": [],
   "source": [
    "#In diese Zelle kannst Du den Code zur Übung schreiben.\n",
    "\n"
   ]
  },
  {
   "cell_type": "markdown",
   "id": "a5072264-d0a7-44eb-ac38-458072af0bb3",
   "metadata": {
    "deletable": false,
    "editable": false
   },
   "source": [
    "***\n",
    "<table>\n",
    "      <tr>\n",
    "        <td>\n",
    "            <img src=\"../3_Dateien/Lizenz/CC-BY-SA.png\" width=\"400\">\n",
    "        </td> \n",
    "        <td>\n",
    "            <p>Dieses Notebook sowie sämtliche weiteren <a href=\"https://github.com/yannickfrommherz/exdimed-student/tree/main\">Materialien zum Programmierenlernen für Geistes- und Sozialwissenschaftler:innen</a> sind im Rahmen des Projekts <i>Experimentierraum Digitale Medienkompetenz</i> als Teil von <a href=\"https://tu-dresden.de/gsw/virtuos/\">virTUos</a> entstanden. Erstellt wurden sie von Yannick Frommherz unter Mitarbeit von Anne Josephine Matz. Sie stehen als Open Educational Resource nach <a href=\"https://creativecommons.org/licenses/by-sa/4.0/\">CC BY SA</a> zur freien Verfügung. Für Feedback und bei Fragen nutz bitte das <a href=\"https://forms.gle/VsYJgy4bZTSqKioA7\">Kontaktformular</a>.\n",
    "        </td>\n",
    "      </tr>\n",
    "</table>"
   ]
  }
 ],
 "metadata": {
  "kernelspec": {
   "display_name": "Python 3 (ipykernel)",
   "language": "python",
   "name": "python3"
  },
  "language_info": {
   "codemirror_mode": {
    "name": "ipython",
    "version": 3
   },
   "file_extension": ".py",
   "mimetype": "text/x-python",
   "name": "python",
   "nbconvert_exporter": "python",
   "pygments_lexer": "ipython3",
   "version": "3.11.5"
  }
 },
 "nbformat": 4,
 "nbformat_minor": 5
}