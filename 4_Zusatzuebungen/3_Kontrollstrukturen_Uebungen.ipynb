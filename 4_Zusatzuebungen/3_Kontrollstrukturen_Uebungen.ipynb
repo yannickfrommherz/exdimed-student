{
 "cells": [
  {
   "cell_type": "markdown",
   "id": "529c5026-557f-43cf-b616-a78a7574a34b",
   "metadata": {
    "deletable": false,
    "editable": false
   },
   "source": [
    "# Zusatzübungen zum Notebook \"Kontrollstukturen\""
   ]
  },
  {
   "cell_type": "markdown",
   "id": "ed478b84-e087-4773-a729-512565c49753",
   "metadata": {
    "deletable": false,
    "editable": false
   },
   "source": [
    "1. Schreib *eine* Code-Zeile, die folgende Bedingungen überprüft:\n",
    "\n",
    "    - Berlin hat mehr Einwohner:innen als München.\n",
    "    - In Hamburg wohnen entweder weniger Menschen als oder gleich viele wie in Berlin.\n",
    "    - München ist Hamburg in Sachen Einwohnerzahl unterlegen.<br><br>\n",
    "    \n",
    "    \n",
    "    📌 Herausforderung: Überprüf zusätzlich im gleichen Statement, ob Berlin *nicht* kleiner als München ist, was die Einwohnerzahl anbelangt."
   ]
  },
  {
   "cell_type": "code",
   "execution_count": null,
   "id": "3ee1a493-4ff2-44d2-b0a5-2bade5c6d262",
   "metadata": {
    "tags": []
   },
   "outputs": [],
   "source": [
    "berlin = 3677472\n",
    "hamburg = 1853935\n",
    "muenchen = 1487708"
   ]
  },
  {
   "cell_type": "markdown",
   "id": "9b9e4b74-ec32-4498-acab-f56a3bc5b1a7",
   "metadata": {
    "deletable": false,
    "editable": false
   },
   "source": [
    "2. Formulier den folgenden Code so konzis wie möglich in natürlicher Sprache:"
   ]
  },
  {
   "cell_type": "code",
   "execution_count": null,
   "id": "9ce361a3-cc1a-4220-9c66-3c32b46fbd0b",
   "metadata": {
    "tags": []
   },
   "outputs": [],
   "source": [
    "weekly_rain_chance_forecast = [0.2, 0.7, 0.8, 0.05, 0.95, 0.3, \"na\"]\n",
    "\n",
    "for daily_forecast in weekly_rain_chance_forecast:\n",
    "    if type(daily_forecast) != float:\n",
    "        print(\"No prognosis possible due to missing value.\")\n",
    "        continue\n",
    "    if daily_forecast < 0.5:\n",
    "        print(\"No need to carry an umbrella. 🌤️\")\n",
    "    else: \n",
    "        print(\"Carry an umbrella with you. ☔️\")"
   ]
  },
  {
   "cell_type": "markdown",
   "id": "c54e3242-fac2-4ed5-bd95-6f75aca110c8",
   "metadata": {
    "deletable": false,
    "editable": false
   },
   "source": [
    "3. Mit `monthly_salary` soll das monatliche Einkommen einer bestimmten Person referenziert werden. Beträgt es 6000€ oder mehr, fällt es in die höchste Einkommensklasse. Bei einem Betrag von unter 2000€ handelt es sich um ein Einkommen in der tiefsten Einkommensklasse. Zwischen 2000€ und unter 3000€, 3000€ und unter 4500€ sowie 4500€ und unter 6000€ fällt es in die Einkommensklasse \"untere Mitte\", \"Mitte\" bzw. \"obere Mitte\". Formulier bedingte Anweisungen, die die entsprechende Einkommensklasse je nach Höhe von `monthly_salary` ausgeben.\n",
    "\n",
    "    📌 Herausforderung: Was passiert, wenn das Einkommen anstatt als Zahl z.&nbsp;B. so vorliegt: \"dreitausendsiebenhundert\"? Und was, wenn mit `monthly_salary` ein noch weniger sinnvolles Objekt referenziert wird, z.&nbsp;B. eine Liste? Verhinder in jedem Fall, dass es zu einer Fehlermeldung kommt. "
   ]
  },
  {
   "cell_type": "code",
   "execution_count": null,
   "id": "314c7c45-e357-4ec7-918b-dd538565c5aa",
   "metadata": {
    "tags": []
   },
   "outputs": [],
   "source": [
    "monthly_salary = 3000\n",
    "\n"
   ]
  },
  {
   "cell_type": "markdown",
   "id": "fb93291b-fedf-4089-b70d-c133eb4125c7",
   "metadata": {
    "deletable": false,
    "editable": false
   },
   "source": [
    "4. Erstell einen string aus den jeweils letzten Zeichen jeden Namens in `names` und lass ihn Dir ausgeben. "
   ]
  },
  {
   "cell_type": "code",
   "execution_count": null,
   "id": "997e283b-29a0-42fe-ba29-cf900d98d3b1",
   "metadata": {
    "tags": []
   },
   "outputs": [],
   "source": [
    "names = [\"Hagen\", \"Lena\", \"Selim\", \"Brigitte\", \"Hermann\"]\n",
    "\n"
   ]
  },
  {
   "cell_type": "markdown",
   "id": "4f1f017f-834a-4507-b052-202836535a19",
   "metadata": {
    "deletable": false,
    "editable": false
   },
   "source": [
    "5. Erstell abermals einen string bestehend aus ausgewählten Zeichen jeden Namens in `names`. Diesmal soll der erste Buchstabe für den neuen string der erste Buchstaben des ersten Namens sein, der zweite Buchstabe für den neuen string soll der zweite Buchstabe des zweiten Namens sein, etc. Welcher neue Name entsteht so?\n",
    "\n",
    "    📌 Herausforderung: Nutz die `range`-Funktion zur Lösung der Übung (sofern Du es nicht bereits getan hast)."
   ]
  },
  {
   "cell_type": "code",
   "execution_count": null,
   "id": "c8fdfe97-edb7-446f-aabc-8772f487586f",
   "metadata": {
    "tags": []
   },
   "outputs": [],
   "source": [
    "names = [\"Hagen\", \"Lena\", \"Selim\", \"Brigitte\", \"Hermann\"]\n",
    "\n"
   ]
  },
  {
   "cell_type": "markdown",
   "id": "f1f1b2c4-8dd2-44f1-b0ee-6266cdf325e3",
   "metadata": {
    "deletable": false,
    "editable": false
   },
   "source": [
    "6. Erstell einen weiteren string, indem Du bei jedem Namen auf `names` über die Buchstaben iterierst und jeweils das zweite, vierte, sechste, etc. Zeichen an den neuen string hängst. Der string beginnt also mit \"a\" und \"e\" aus \"Hagen\", gefolgt von \"e\" aus \"Lena\" etc. Diesmal entsteht kein sinnvolles neues Wort, geschweige denn ein Name. Vielleicht fällt Dir aber dennoch etwas zur allgemeinen Komposition von Namen auf. "
   ]
  },
  {
   "cell_type": "code",
   "execution_count": null,
   "id": "5b39f83a-712d-42a8-a7a2-601cc21632b7",
   "metadata": {
    "tags": []
   },
   "outputs": [],
   "source": [
    "names = [\"Hagen\", \"Lena\", \"Selim\", \"Brigitte\", \"Hermann\"]\n",
    "\n"
   ]
  },
  {
   "cell_type": "markdown",
   "id": "942a8c45-0c35-41f7-830b-e093023c29db",
   "metadata": {
    "deletable": false,
    "editable": false
   },
   "source": [
    "7. Wir wollen einen sehr simplen interaktiven Vokabeltrainer für Deutsch-Schwedisch programmieren. Das Programm soll eine Userin nach und nach alle gespeicherten Vokabeln abfragen, bis sie sämtliche korrekt vom Deutschen ins Schwedische übersetzt hat. Die Vokabeln inklusive Übersetzung stehen Dir bereits in `de_sv` zur Verfügung. Iteriere mit der ebenfalls bereits gegebenen `for`-Schleife über das dictionary. Vervollständige den Anweisungskörper, sodass die Userin bei jedem Wort (`word`) solange nach der Übersetzung (`translation`) gefragt wird, bis ihre Antwort korrekt ist. Der Dialog sollte wie folgt aussehen:\n",
    "\n",
    "    <img src=\"../3_Dateien/Grafiken_und_Videos/de_sv.png\">\n",
    "\n",
    "    Anschließend soll das nächste Wort abgefragt werden."
   ]
  },
  {
   "cell_type": "code",
   "execution_count": null,
   "id": "cb229076-60f3-4a2e-b0ef-3c77be7b795c",
   "metadata": {
    "tags": []
   },
   "outputs": [],
   "source": [
    "de_sv = {\"ich\": \"jag\", \"aus\": \"från\", \"reisen\": \"resa\", \"gerne\": \"gärna\", \"nach\": \"till\", \"lieben\": \"älska\", \"woher\": \"varifrån\", \"kommen\": \"komma\", \"Deutschland\": \"Tyskland\", \"du\": \"du\", \"Schweden\": \"Sverige\", \"lieben\": \"älska\", \"dich\": \"dig\", \"mich\": \"mig\", \"wir\": \"vi\"}\n",
    "\n",
    "for word, translation in de_sv.items():\n",
    "    pass #Entfern das 'pass'-Statement und füg Deinen Code ein.\n"
   ]
  },
  {
   "cell_type": "markdown",
   "id": "8c31b2b5-5aaa-43dc-ae8b-8c050ec7062a",
   "metadata": {
    "deletable": false,
    "editable": false
   },
   "source": [
    "8. 📌 Herausforderung aufbauend auf Übung 7: Praktischer wäre es ja, wenn der Vokabeltrainer bei falsch übersetzten Wörtern die richtige Übersetzung ausgibt und diese Wörter dann später noch einmal abfragt. Korrekt übersetzte Wörter müssten dagegen weiterhin nur einmal abgefragt werden. Schreib den Code entsprechend so, dass jedes korrekt übersetzte Wort kein weiteres Mal abgefragt wird. Bei falsch übersetzten Wörtern soll hingegen die richtige Übersetzung angezeigt werden. Später, d. h. wenn alle (noch vorhandenen) Wörter abgefragt wurden, sollen abermals die in der letzten Iteration falsch übersetzten Wörter abgefragt werden, bis am Schluss jedes Wort einmal korrekt übersetzt wurde.<br><br>\n",
    "    💡 Tipp 1: Überleg Dir, wie Du die beiden Schleifentypen ineinander verschachteln musst, um die beschriebene Abfragelogik zu implementieren.<br><br>\n",
    "    💡 Tipp 2: Um ein Schlüssel-Werte-Paar aus einem dictionary zu entfernen, kannst Du die `pop`-Methode mit folgender Syntax verwenden: `dictionary.pop(\"key\")`.<br><br>\n",
    "    📌 Herausforderung zur Herausforderung: Überleg Dir, wie Du den Vokabeltrainer zusätzlich verbessern könntest."
   ]
  },
  {
   "cell_type": "code",
   "execution_count": null,
   "id": "2d5c8ca0-7e39-4bb0-8329-d1bda527b2c3",
   "metadata": {
    "tags": []
   },
   "outputs": [],
   "source": [
    "de_sv = {\"ich\": \"jag\", \"aus\": \"från\", \"reisen\": \"resa\", \"gerne\": \"gärna\", \"nach\": \"till\", \"lieben\": \"älska\", \"woher\": \"varifrån\", \"kommen\": \"komma\", \"Deutschland\": \"Tyskland\", \"du\": \"du\", \"Schweden\": \"Sverige\", \"lieben\": \"älska\", \"dich\": \"dig\", \"mich\": \"mig\", \"wir\": \"vi\"}\n",
    "\n"
   ]
  },
  {
   "cell_type": "markdown",
   "id": "f19c6eb2-b599-4b50-97cb-fca72b1a257c",
   "metadata": {
    "deletable": false,
    "editable": false
   },
   "source": [
    "9. Wenn Du zwei Vergleiche, die beide für sich ausgerechnet `False` ergeben, mithilfe von `or` verknüpfst, ergibt die Verknüpfung dann `True` oder `False`?"
   ]
  },
  {
   "cell_type": "markdown",
   "id": "ed4ab678-38dc-47a7-a4e7-4a9179f0ed06",
   "metadata": {
    "deletable": false,
    "editable": false
   },
   "source": [
    "10. In Anlehnung an den Anwendungsfall im Notebook \"Kontrollstrukturen\", lass Dir sämtliche Viertelstunden eines kompletten Tages ausgeben, also:\n",
    "\n",
    "    00:00<br>\n",
    "    00:15<br>\n",
    "    00:30<br>\n",
    "    00:45<br>\n",
    "    01:15<br>\n",
    "    etc.\n",
    "    \n",
    "    Achte darauf, dass die Ausgabe stets vierstellig ist."
   ]
  },
  {
   "cell_type": "code",
   "execution_count": null,
   "id": "6c384709-3093-4d13-81af-f46efe5e4035",
   "metadata": {
    "tags": []
   },
   "outputs": [],
   "source": [
    "#In diese Zelle kannst Du den Code zur Übung schreiben.\n",
    "\n"
   ]
  }
 ],
 "metadata": {
  "kernelspec": {
   "display_name": "Python 3 (ipykernel)",
   "language": "python",
   "name": "python3"
  },
  "language_info": {
   "codemirror_mode": {
    "name": "ipython",
    "version": 3
   },
   "file_extension": ".py",
   "mimetype": "text/x-python",
   "name": "python",
   "nbconvert_exporter": "python",
   "pygments_lexer": "ipython3",
   "version": "3.11.5"
  }
 },
 "nbformat": 4,
 "nbformat_minor": 5
}