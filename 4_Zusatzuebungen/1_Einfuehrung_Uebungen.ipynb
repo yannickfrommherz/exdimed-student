{
 "cells": [
  {
   "cell_type": "markdown",
   "id": "5ada76d9-9936-450f-bd54-24b49d1bd084",
   "metadata": {
    "deletable": false,
    "editable": false
   },
   "source": [
    "# Zusatzübungen zum Notebook \"Einführung\"\n",
    "\n",
    "Find den bzw. die Fehler in den nachfolgenden Code-Zellen. Stell sicher, dass sie... \n",
    "1) sich ausführen lassen,\n",
    "2) semantisch Sinn ergeben und\n",
    "3) den im Notebook \"Einführung\" beschriebenen Best Practices entsprechen.\n",
    "<br>\n",
    "<br>"
   ]
  },
  {
   "cell_type": "code",
   "execution_count": null,
   "id": "0ad8fdba-cc69-4fa8-9bb5-a11deb8d81e6",
   "metadata": {},
   "outputs": [],
   "source": [
    "print(\"wohl zu einfach.\")\n",
    "print(\"Diese Aufgabe ist\")"
   ]
  },
  {
   "cell_type": "code",
   "execution_count": null,
   "id": "10f558db-5337-4bdb-8385-7a20a758e345",
   "metadata": {},
   "outputs": [],
   "source": [
    "print(Das vermutlich auch noch.)"
   ]
  },
  {
   "cell_type": "code",
   "execution_count": null,
   "id": "faf045c2-4da8-45d8-913a-fb363db9bfbe",
   "metadata": {},
   "outputs": [],
   "source": [
    "print(\"Wie sieht es hiermit aus?')"
   ]
  },
  {
   "cell_type": "code",
   "execution_count": null,
   "id": "355b4799-7859-4936-bf64-8457eb2fcc75",
   "metadata": {},
   "outputs": [],
   "source": [
    "print(\"Haben wir mit \"\"-Zeichen ein Problem?\")"
   ]
  },
  {
   "cell_type": "code",
   "execution_count": null,
   "id": "f235d713-d203-4c5e-a5c5-f0848d04aa6e",
   "metadata": {},
   "outputs": [],
   "source": [
    "\"Das hier wollen wir ausgeben.\" = print_out\n",
    "print(print_out)"
   ]
  },
  {
   "cell_type": "code",
   "execution_count": null,
   "id": "023a5bbf-d65d-46f0-ba6c-a92d40708f99",
   "metadata": {},
   "outputs": [],
   "source": [
    "print = \"Was ist hier das Problem?\"\n",
    "print(print)"
   ]
  },
  {
   "cell_type": "code",
   "execution_count": null,
   "id": "8e52edc9-6c16-4034-8672-2d99f5c51dc9",
   "metadata": {},
   "outputs": [],
   "source": [
    "print_out = 8\n",
    "print(print_Out)"
   ]
  },
  {
   "cell_type": "code",
   "execution_count": null,
   "id": "76a3ba0d-2cde-414a-b5f1-fcd62a2bc9db",
   "metadata": {},
   "outputs": [],
   "source": [
    "print_it == \"Wo liegt hier der Hund begraben?\"\n",
    "print(print_it}"
   ]
  },
  {
   "cell_type": "code",
   "execution_count": null,
   "id": "fe907f66-09d6-4538-9dbb-dae5debda9c8",
   "metadata": {},
   "outputs": [],
   "source": [
    "variable_1 = \"Berlin\"\n",
    "variable_2 = \"Bern\"\n",
    "print(variable_1, variable_2)"
   ]
  },
  {
   "cell_type": "code",
   "execution_count": null,
   "id": "e1865193-84e1-49ce-9dff-51eac8407f28",
   "metadata": {},
   "outputs": [],
   "source": [
    "print(country = \"Germany\")"
   ]
  },
  {
   "cell_type": "code",
   "execution_count": null,
   "id": "7cc7a7f7-36f3-4634-b6eb-dc3e9a0d3c13",
   "metadata": {},
   "outputs": [],
   "source": [
    "a = 8\n",
    "b = 9\n",
    "a * b = c\n",
    "print(c)"
   ]
  },
  {
   "cell_type": "code",
   "execution_count": null,
   "id": "0622f2e0-1e9a-4d6d-aa86-1c6fbb4347fa",
   "metadata": {},
   "outputs": [],
   "source": [
    "#Was ergibt 1 plus 9?\n",
    "num1 = \"1\"\n",
    "num2 = \"9\"\n",
    "total = num1 + num2\n",
    "print(total)"
   ]
  },
  {
   "cell_type": "code",
   "execution_count": null,
   "id": "243ed167-a595-4c56-ab92-8d9407d9c466",
   "metadata": {},
   "outputs": [],
   "source": [
    "capitals = [\"Berlin\", \"Wien\", \"Bern\"]\n",
    "\n",
    "for capital in capitals:\n",
    "print(capital)"
   ]
  },
  {
   "cell_type": "code",
   "execution_count": null,
   "id": "5477be5e-c162-4722-a2c6-d27945096ad2",
   "metadata": {},
   "outputs": [],
   "source": [
    "num1 = 1O\n",
    "num2 = 1\n",
    "\n",
    "print(num1 + num2)"
   ]
  },
  {
   "cell_type": "code",
   "execution_count": null,
   "id": "50ceec1f-d6ce-40c2-a95b-9433134f0e64",
   "metadata": {},
   "outputs": [],
   "source": [
    "a, b, c, d, e = \"Warum\", \"geht\", \"das\", \"nicht?\"\n",
    "print(a,b,c,d)"
   ]
  },
  {
   "cell_type": "markdown",
   "id": "02919b24-f67b-4c6e-8fdf-c39021eb40ed",
   "metadata": {
    "deletable": false,
    "editable": false
   },
   "source": [
    "sentence = \"Langsam wird's lästig.\"\n",
    "print(sentence)"
   ]
  },
  {
   "cell_type": "code",
   "execution_count": null,
   "id": "ff3b45cb-0cfa-4c79-a75c-717e3a77dae7",
   "metadata": {
    "tags": []
   },
   "outputs": [],
   "source": [
    "Hier definieren wir eine Variable für den Satz.\n",
    "sentence = \"Es kann aber auch alles schiefgehen.\"\n",
    "print(sentence)"
   ]
  },
  {
   "cell_type": "code",
   "execution_count": null,
   "id": "38c30d80-05f1-4416-b9be-a89bd77cb9d5",
   "metadata": {},
   "outputs": [],
   "source": [
    "#print(satz)"
   ]
  },
  {
   "cell_type": "code",
   "execution_count": null,
   "id": "1f170097-58bf-4542-8bf5-0c52efeb875a",
   "metadata": {},
   "outputs": [],
   "source": [
    "#Hier ging so einiges schief.\n",
    "capitals = [\"Berlin\", \"Wien\", \"Bern']\n",
    "\n",
    "for capital in capitals:\n",
    "    if capital = \"Bern\":\n",
    "print(\"The capital of Switzerland\", capital, \"is on the list.')"
   ]
  },
  {
   "cell_type": "code",
   "execution_count": null,
   "id": "e1ad8586-819a-4bfd-88a9-9b4dd3271722",
   "metadata": {},
   "outputs": [],
   "source": [
    "#letzter fehlerhafter Code\n",
    "#print(capitals)"
   ]
  }
 ],
 "metadata": {
  "kernelspec": {
   "display_name": "Python 3 (ipykernel)",
   "language": "python",
   "name": "python3"
  },
  "language_info": {
   "codemirror_mode": {
    "name": "ipython",
    "version": 3
   },
   "file_extension": ".py",
   "mimetype": "text/x-python",
   "name": "python",
   "nbconvert_exporter": "python",
   "pygments_lexer": "ipython3",
   "version": "3.10.7"
  }
 },
 "nbformat": 4,
 "nbformat_minor": 5
}