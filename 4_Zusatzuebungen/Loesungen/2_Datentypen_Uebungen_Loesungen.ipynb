{
 "cells": [
  {
   "cell_type": "markdown",
   "id": "35e9fbf8-0f0e-4f94-9695-72444a1a2ea8",
   "metadata": {
    "deletable": false,
    "editable": false
   },
   "source": [
    "# Lösungen zu den Zusatzübungen zum Notebook \"Datentypen\"\n",
    "\n",
    "☝️ Beachte: Es gibt beim Programmieren fast immer verschiedene Lösungswege. Deine Lösung mag anders aussehen, aber dennoch zum gewünschten Resultat führen. Das richtige Resultat ist das Wichtigste. "
   ]
  },
  {
   "cell_type": "markdown",
   "id": "3b528d8c-58a3-4c9b-a8ef-71c1e4851f37",
   "metadata": {
    "deletable": false,
    "editable": false
   },
   "source": [
    "1. Identifizier die Datentypen sämtlicher Objekte im verschachtelten Object `nested_object`."
   ]
  },
  {
   "cell_type": "code",
   "execution_count": null,
   "id": "d3a27cb5-3200-4235-9706-8fbb215e342b",
   "metadata": {
    "tags": []
   },
   "outputs": [],
   "source": [
    "nested_object = [\"He sings 'oh my God'\", None, (\"she\", \"sang\", 'oh', 'my', 'God'), {\"can\": [\"you\", \"believe\", \"it\"], \"me\": False}, 100.0]"
   ]
  },
  {
   "cell_type": "markdown",
   "id": "3fffac71-8f51-4fd9-b4fa-e9b439673f18",
   "metadata": {
    "deletable": false,
    "editable": false
   },
   "source": [
    "- `nested_object` ist eine **Liste**, die fünf Elemente enthält. Das erste Element ist ein **string** (und zwar \"He sings 'oh my God'\" als Ganzes, die inneren Anführungszeichen grenzen keinen zusätzlichen string ab). Das zweite Element ist ein sog. ***NoneType***, wie Du über `type(None)` herausfinden kannst. Das dritte Element ist ein **Tupel** bestehend aus fünf **strings** (die unterschiedlichen Anführungszeichen spielen keine Rolle). Das vierte Element ist ein **dictionary** mit zwei Schlüssel-Werte-Paaren, wobei das erste einen **string** als Schlüssel und eine **Liste** bestehend aus drei **strings** als Wert hat. Das zweite Schlüssel-Werte-Paar besteht aus einem **string** als Schlüssel und dem **Boolschen** Wert `False` als Wert. Das fünfte Element auf der Liste ist eine **Dezimalzahl/float**."
   ]
  },
  {
   "cell_type": "markdown",
   "id": "3389f13a-4876-466e-983f-1bf012052bfc",
   "metadata": {
    "deletable": false,
    "editable": false
   },
   "source": [
    "2. Find den/die Fehler in der folgenden Code-Zelle:"
   ]
  },
  {
   "cell_type": "code",
   "execution_count": null,
   "id": "b42508b7-65cc-479a-9392-d7d46f43a518",
   "metadata": {
    "tags": []
   },
   "outputs": [],
   "source": [
    "summer = False #Boolsche Werte werden großgeschrieben.\n",
    "if summer == True: #Vergleichsoperator besteht aus zwei Gleichzeichen UND Boolsche Werte werden großgeschrieben\n",
    "    print(\"it is hot!\") #Falsche Einrückung (ein Leerschlag fehlte) UND string steht in Klammern"
   ]
  },
  {
   "cell_type": "markdown",
   "id": "af4128f8-cb1d-47ef-b762-22c727e10b6c",
   "metadata": {
    "deletable": false,
    "editable": false
   },
   "source": [
    "3. Ermittle erstens, wie lang `longest_word` ist. Find zweitens **mithilfe von Python** heraus, welche fünf Buchstaben des deutschen Alphabets (ohne Umlaute) nicht in `longest_word` vorkommen. Den Abgleich zwischen allen einzigartigen Buchstaben in `longest_word` und dem deutschen Alphabet kannst Du händisch vornehmen.\n",
    "\n",
    "    <details>\n",
    "      <summary>📌 Herausforderung </summary>\n",
    "      <br>Benutz anstelle des händischen Abgleichs einen im Notebook \"Einführung\" kennengelernten, multifunktionalen Operator sowie <code>alphabet</code>, um herauszufinden, welche fünf Buchstaben des deutschen Alphabets nicht in <code>longest_word</code> vorkommen.\n",
    "    </details>\n",
    "    <br>"
   ]
  },
  {
   "cell_type": "code",
   "execution_count": null,
   "id": "44dbad75-802e-435f-b280-83890d23e850",
   "metadata": {
    "tags": []
   },
   "outputs": [],
   "source": [
    "longest_word = \"Donaudampfschifffahrtselektrizitätenhauptbetriebswerkbauunternehmenbeamtengesellschaft\"\n",
    "\n",
    "longest_word_len = len(longest_word)\n",
    "\n",
    "#'set' auf einen string angewandt gibt eine Menge mit einzigartigen Buchstaben im string zurück\n",
    "longest_word_unique_letters = set(longest_word) \n",
    "print(longest_word_len)\n",
    "print(longest_word_unique_letters) #Zum händischen Abgleich\n",
    "#Antwort: 'j', 'q', 'v', 'x', 'y'\n",
    "\n",
    "#Herausforderung\n",
    "alphabet = \"abcdefghijklmnopqrstuvwxyz\"\n",
    "\n",
    "\"\"\"In diesem Fall funktioniert die Lösung so simpel wie unten; bei einem anderen Wort, in dem der\n",
    "großgeschriebene Anfangsbuchstabe nicht auch noch kleingeschrieben vorkommt, müsstest Du 'longest_word'\n",
    "erst noch kleinschreiben, was mit der Methode 'longest_word.lower' möglich wäre, vgl. Notebook\n",
    "\"Funktionen und Methoden Teil 1\".\"\"\"\n",
    "print(set(alphabet) - set(longest_word))"
   ]
  },
  {
   "cell_type": "markdown",
   "id": "c77bde41-573e-404c-8d06-5981e570ec45",
   "metadata": {
    "deletable": false,
    "editable": false
   },
   "source": [
    "4. Ein Supermarkt verkauft die in `products` gegebenen Produkte zu den gegebenen Preisen. Der Supermarkt will künftig keine Centbeträge mehr verrechnen und entscheidet sich dreisterweise dazu, alle Preise aufzurunden. Lass Dir die neuen Preise für alle Produkte ausrechnen. Was fällt Dir dabei auf?"
   ]
  },
  {
   "cell_type": "code",
   "execution_count": null,
   "id": "a76b5c24-0135-4b10-8039-0d52f1593942",
   "metadata": {
    "tags": []
   },
   "outputs": [],
   "source": [
    "products = {\"apple\": 0.89, \"pear\": 1.12, \"carrot\": 1.51, \"rocket\": 2.99, \"eggplant\": 4.02}\n",
    "\n",
    "print(int(products[\"apple\"]) + 1, int(products[\"pear\"]) + 1, \n",
    "      int(products[\"carrot\"]) + 1, int(products[\"rocket\"]) + 1, int(products[\"eggplant\"]) + 1)\n",
    "\n",
    "#Was fällt auf?\n",
    "#Beim Casting einer Dezimalzahl zu einer Ganzzahl wird immer abgerundet, deshalb rechnen wir plus eins bei allen Preisen. \n",
    "#Python ist kund:innenfreundlicher als dieser Supermarkt. 😅"
   ]
  },
  {
   "cell_type": "markdown",
   "id": "31008ebf-df78-48cf-b49d-1869580182e7",
   "metadata": {
    "deletable": false,
    "editable": false
   },
   "source": [
    "5. Lass Dir das erste Element von `products` ausgeben. \n",
    "\n",
    "- Das geht nicht! Bei `products` handelt es sich um ein Objekt des Datentyps dictionary und dictionaries haben keine Reihenfolge (vgl. Sequentialität im Notebook \"Datentypen\")."
   ]
  },
  {
   "cell_type": "markdown",
   "id": "e0a3cef1-ef1f-48e3-a36f-54dccc505f5b",
   "metadata": {
    "deletable": false,
    "editable": false
   },
   "source": [
    "6. Ermittle für jede Webadresse in `newspapers` anhand ihrer [Top-Level-Domain](https://de.wikipedia.org/wiki/Top-Level-Domain), aus welchem Land die jeweilige Zeitung stammt. Lass Dir die Ergebnisse wie folgt formatiert ausgeben:\n",
    "\n",
    "        https://www.bild.de: Deutschland\n",
    "        https://www.nzz.ch: Schweiz\n",
    "        http://www.derstandard.at: Österreich\n",
    "        https://www.vaterland.li: Liechtenstein\n",
    "        \n",
    "    <details>\n",
    "      <summary>📌 Herausforderung</summary>\n",
    "      <br>Verwend eine <code>for</code>-Schleife mit einem eingebauten <code>if</code>-Statement (dabei kannst Du dieselbe Struktur wie in der 5. Übung im Notebook \"Einführung\" verwenden), um herauszufinden, welche der Webadressen nicht sicher sind.\n",
    "    </details>\n"
   ]
  },
  {
   "cell_type": "code",
   "execution_count": null,
   "id": "05844689-375f-4014-a2bf-1986fee8fe93",
   "metadata": {
    "tags": []
   },
   "outputs": [],
   "source": [
    "tld_countries = {\"li\": \"Liechtenstein\", \"ch\": \"Schweiz\", \"de\": \"Deutschland\", \"at\": \"Österreich\"}\n",
    "newspapers = [\"https://www.bild.de\", \"https://www.nzz.ch\", \"http://www.derstandard.at\", \"https://www.vaterland.li\"]\n",
    "\n",
    "#Indexing, um auf Element (Webadresse) in der Liste newspapers zuzugreifen\n",
    "#Slicing, um Top-Level-Domain aus Webadresse herauszuschneiden und als Schlüssel in tld_countries zu verwenden, \n",
    "#um auf zugehörigen Wert zuzugreifen\n",
    "print(newspapers[0], \": \", tld_countries[newspapers[0][-2:]], sep=\"\")\n",
    "print(newspapers[1], \": \", tld_countries[newspapers[1][-2:]], sep=\"\")\n",
    "print(newspapers[2], \": \", tld_countries[newspapers[2][-2:]], sep=\"\")\n",
    "print(newspapers[3], \": \", tld_countries[newspapers[3][-2:]], sep=\"\")\n",
    "\n",
    "#Herausforderung:\n",
    "for address in newspapers:\n",
    "    #Wenn das fünfte Zeichen (mit Index 4!) in einer Adresse ungleich \"s\" ist, wird das print-Statement ausgegeben.\n",
    "    if address[4] != \"s\":\n",
    "        print(address, \"is not secure!\")"
   ]
  },
  {
   "cell_type": "markdown",
   "id": "c072256d-996d-4045-bd79-95ca5ec8b8d9",
   "metadata": {
    "deletable": false,
    "editable": false
   },
   "source": [
    "7. Palindrome sind Wörter, die sich vorwärts wie rückwärts gleich schreiben. Lass Dir alle Wörter auf `palindromes` rückwärts ausgeben. \n",
    "\n",
    "    Groß- und Kleinschreibung spielt bei Python ja eine Rolle. Überprüf mittels eines Vergleichsoperators bei allen Palindromen, ob sie auch im pythonischen Sinne Palindrome sind (also auch hinsichtlich der Groß- und Kleinschreibung rückwärts wie vorwärts gleich geschrieben werden). Lass Dir den Output für jedes Wort (genau!) wie folgt ausgeben:\n",
    "    \n",
    "        Neffen ist ein pythonisches Palindrom: Falsch\n",
    "        \n",
    "    und so weiter."
   ]
  },
  {
   "cell_type": "code",
   "execution_count": null,
   "id": "120f21ff-8631-4228-9170-33f2ec83607f",
   "metadata": {
    "tags": []
   },
   "outputs": [],
   "source": [
    "palindromes = [\"Neffen\", \"Ebbe\", \"Madam\", \"hangnah\", \"Neozoen\", \"Rentner\"]\n",
    "\n",
    "true_false_dict = {True: \"Wahr\", False: \"Falsch\"} #dictionary für die Übersetzung ins Deutsche\n",
    "\n",
    "#Indexing, um auf Element in palindromes zuzugreifen\n",
    "#Vergleich von Element und Element in umgekehrter Reihenfolge (mittels Slicing: [::-1]), ergibt entweder True oder False\n",
    "#True oder False werden wiederum als Schlüssel bei true_false_dict eingesetzt, um zugehörigen Wert, d. h. dt. Übersetzung zurückzukriegen\n",
    "print(palindromes[0], \"ist ein pythonisches Palindrom:\", true_false_dict[palindromes[0][::-1] == palindromes[0]])\n",
    "print(palindromes[1], \"ist ein pythonisches Palindrom:\", true_false_dict[palindromes[1][::-1] == palindromes[1]])\n",
    "print(palindromes[2], \"ist ein pythonisches Palindrom:\", true_false_dict[palindromes[2][::-1] == palindromes[2]])\n",
    "print(palindromes[3], \"ist ein pythonisches Palindrom:\", true_false_dict[palindromes[3][::-1] == palindromes[3]])\n",
    "print(palindromes[4], \"ist ein pythonisches Palindrom:\", true_false_dict[palindromes[4][::-1] == palindromes[4]])\n",
    "print(palindromes[5], \"ist ein pythonisches Palindrom:\", true_false_dict[palindromes[5][::-1] == palindromes[5]])"
   ]
  },
  {
   "cell_type": "markdown",
   "id": "b83d4198-212b-46ed-a551-4cee1747ee94",
   "metadata": {
    "deletable": false,
    "editable": false
   },
   "source": [
    "8. Fortgeschritten: Der folgende Code verwendet die bereits angeteaserten Kontrollstrukturen sowie weitere, uns noch unbekannte Methoden. Versuch ihn dennoch zu verstehen. Dazu lohnt es sich, ihn zu verändern, `print`-Befehle einzubauen und ihn immer wieder auszuführen, um so die einzelnen Schritte zu verstehen. Kommentier den Code anschließend, damit ihn auch andere verstehen."
   ]
  },
  {
   "cell_type": "code",
   "execution_count": null,
   "id": "fc24eb5a-2c2a-4610-9aa6-5940c5474edd",
   "metadata": {
    "tags": []
   },
   "outputs": [],
   "source": [
    "\"\"\"Initialisierung eines Kundenverzeichnisses in Form eines dictionary mit Schlüssel-Werte-Paaren, \n",
    "wobei der Schlüssel jeweils der Name des/der Kund:in ist und der Wert die entsprechenden Kontaktdetails. \n",
    "Letztere sind wiederum als dictionary gespeichert, bestehend aus verschiedenen Arten der Kontaktaufnahme  \n",
    "(Telefon/E-Mail) als Schlüssel und die entsprechenden Adressen (Telefonnummer/E-Mailadresse) als Werte.\"\"\"\n",
    "customers = {\"Petra\":  {\"tel\": 124039485, \"e-mail\": \"petra_bluemchen@hotmail.com\"},\n",
    "             \"Mads\":   {\"tel\": 399843632, \"e-mail\": \"mads1997@gmail.com\"},\n",
    "             \"Selima\": {\"tel\": 938489774, \"e-mail\": \"selima_berlin@web.de\"}, \n",
    "             \"Manni\":  {\"tel\": 938712023, \"e-mail\": \"manni234@web.de\"},\n",
    "             \"Gordon\": {\"tel\": 192738402, \"e-mail\": \"gordon_meister@gmx.de\"}}\n",
    "\n",
    "#Ausgabe einer Überschrift für den nachfolgenden Output\n",
    "print(\"Kund:innen aus der Umgebung (erkennbar an der Vorwahl 938) sind:\\n\")\n",
    "\n",
    "\"\"\"Iteration über das dictionary 'customers' unter Verwendung der items-Methode, die jeweils\n",
    "Schlüssel und Wert pro Paar zurückgibt. Der Schlüssel wird jeweils mit der Variable 'name' referenziert, \n",
    "der Wert jeweils mit 'details'.\"\"\"\n",
    "for name, details in customers.items():\n",
    "    \"\"\"Überprüfung, ob die ersten drei Ziffern der Telefonnummer 938 sind. \n",
    "    Dazu greifen wir über den Schlüssel 'tel' im jeweiligen Kontaktdaten-dictionary auf die Telefonnummer zu, \n",
    "    casten diese in einen string (da sich die nächste Technik, nämlich Slicing, nur auf sequentielle Objekte \n",
    "    anwenden lässt [vgl. Notebook \"Datentypen\"] und Ganzzahlen nicht sequentiell sind) und Slicen die ersten drei Zeichen heraus. \n",
    "    Anschließend prüfen wir, ob diese gleich dem string '938' sind, und wenn ja...\"\"\"\n",
    "    if str(details[\"tel\"])[0:3] == \"938\":\n",
    "        \"\"\"...lassen wir uns den jeweiligen Namen des/der Kund:in ausgeben sowie die gesamte Telefonnummer \n",
    "        des/der jeweiligen Kund:in mittels des Schlüssels 'tel' im dictionary 'details'.\"\"\"\n",
    "        print(name, \"mit der Telefonnummer\", details[\"tel\"])"
   ]
  },
  {
   "cell_type": "markdown",
   "id": "8927981e-6618-446b-8447-5f3e72100667",
   "metadata": {
    "deletable": false,
    "editable": false
   },
   "source": [
    "***\n",
    "<table>\n",
    "      <tr>\n",
    "        <td>\n",
    "            <img src=\"../../3_Dateien/Lizenz/CC-BY-SA.png\" width=\"400\">\n",
    "        </td> \n",
    "        <td>\n",
    "            <p>Dieses Notebook sowie sämtliche weiteren <a href=\"https://github.com/yannickfrommherz/exdimed-student/tree/main\">Materialien zum Programmierenlernen für Geistes- und Sozialwissenschaftler:innen</a> sind im Rahmen des Projekts <i>Experimentierraum Digitale Medienkompetenz</i> als Teil von <a href=\"https://tu-dresden.de/gsw/virtuos/\">virTUos</a> entstanden. Erstellt wurden sie von Yannick Frommherz unter Mitarbeit von Anne Josephine Matz. Sie stehen als Open Educational Resource nach <a href=\"https://creativecommons.org/licenses/by-sa/4.0/\">CC BY SA</a> zur freien Verfügung. Für Feedback und bei Fragen nutz bitte das <a href=\"https://forms.gle/VsYJgy4bZTSqKioA7\">Kontaktformular</a>.\n",
    "        </td>\n",
    "      </tr>\n",
    "</table>"
   ]
  }
 ],
 "metadata": {
  "kernelspec": {
   "display_name": "Python 3 (ipykernel)",
   "language": "python",
   "name": "python3"
  },
  "language_info": {
   "codemirror_mode": {
    "name": "ipython",
    "version": 3
   },
   "file_extension": ".py",
   "mimetype": "text/x-python",
   "name": "python",
   "nbconvert_exporter": "python",
   "pygments_lexer": "ipython3",
   "version": "3.11.5"
  }
 },
 "nbformat": 4,
 "nbformat_minor": 5
}