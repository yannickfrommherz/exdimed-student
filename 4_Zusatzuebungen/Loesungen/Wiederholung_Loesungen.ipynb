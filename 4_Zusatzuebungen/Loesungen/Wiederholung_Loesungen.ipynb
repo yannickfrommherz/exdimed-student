{
 "cells": [
  {
   "cell_type": "markdown",
   "id": "5ada76d9-9936-450f-bd54-24b49d1bd084",
   "metadata": {
    "deletable": false,
    "editable": false
   },
   "source": [
    "# Lösungen zu den Aufgaben zur Wiederholung\n",
    "\n",
    "Find den bzw. die Fehler in den nachfolgenden Code-Zellen. Stell sicher, dass sie... \n",
    "1) sich ausführen lassen,\n",
    "2) semantisch Sinn ergeben und\n",
    "3) den im Notebook \"Einführung\" beschriebenen Best Practices entsprechen.\n",
    "<br>\n",
    "<br>"
   ]
  },
  {
   "cell_type": "code",
   "execution_count": null,
   "id": "7909f684-68a1-4c1d-ba2a-613c3c5aabf9",
   "metadata": {
    "tags": []
   },
   "outputs": [],
   "source": [
    "#Hier wollen wir zwei Satzteile konkatenieren.\n",
    "print(\"Diese Aufgabe ist\") #Reihenfolge beachten, Anführungszeichen vervollständigen\n",
    "print(\"wohl zu einfach.\")"
   ]
  },
  {
   "cell_type": "code",
   "execution_count": null,
   "id": "83b57356-6a5a-4714-9e1e-39c1300e30c5",
   "metadata": {
    "tags": []
   },
   "outputs": [],
   "source": [
    "#Wieso funktioniert die Ausgabe nicht?\n",
    "print(\"Das vermutlich auch noch.\") #Strings erfordern Anführungszeichen."
   ]
  },
  {
   "cell_type": "code",
   "execution_count": null,
   "id": "eeb3f47f-8b44-4a88-a13f-8a62acebae4b",
   "metadata": {
    "tags": []
   },
   "outputs": [],
   "source": [
    "#Besser ist es, Inhalte in Variablen zu speichern:\n",
    "variable = \"Das hier wollen wir ausgeben.\" #Immer erst Variablenname, dann den Wert\n",
    "print(variable) #Groß- und Kleinschreibung beachten"
   ]
  },
  {
   "cell_type": "code",
   "execution_count": null,
   "id": "4079fb42-82aa-4df6-bf3a-31883464bf34",
   "metadata": {
    "tags": []
   },
   "outputs": [],
   "source": [
    "#Hat dieser Code vielleicht sogar langfristige Probleme zur Folge?\n",
    "print_out = \"Was ist hier das Problem?\" #Achtung: Umbenennen der Variable, sonst wird die print-Funktion überschrieben, wodurch sie danach nicht mehr nutzbar ist!\n",
    "print(print_out)\n",
    "\n",
    "#Wenn die Funktion überschrieben wurde: Kernel neu starten (dann sind aber alle gespeicherten Variablen weg!)."
   ]
  },
  {
   "cell_type": "code",
   "execution_count": null,
   "id": "fdeb6d75-2227-40a8-8d1c-9a0e97f4d133",
   "metadata": {
    "tags": []
   },
   "outputs": [],
   "source": [
    "#Können wir alle Zeichen in einem string nutzen?\n",
    "print(\"Haben wir mit ''-Zeichen ein Problem?\") #Einfache und doppelte Anführungszeichen lassen sich kombinieren."
   ]
  },
  {
   "cell_type": "code",
   "execution_count": null,
   "id": "c6ca6277-ab43-47d1-ba57-49f5d46fcdf2",
   "metadata": {
    "tags": []
   },
   "outputs": [],
   "source": [
    "#Wie sieht es mit verschiedenen Datentypen aus, die wir untereinander ausgeben wollen?\n",
    "variable_1 = \"Berlin \\n\" #Backslash\n",
    "variable_2 = \"Bern \\n\" \n",
    "variable_3 = 10\n",
    "\n",
    "print(variable_1 + variable_2, variable_3) \n",
    "#Strings können durch ein + konkateniert werden, allerdings nicht gemeinsam mit integers"
   ]
  },
  {
   "cell_type": "code",
   "execution_count": null,
   "id": "dab445aa-dc8f-49fe-b064-9a9b711ec9a3",
   "metadata": {
    "tags": []
   },
   "outputs": [],
   "source": [
    "#Was ergibt 1 plus 9?\n",
    "num1 = \"1\"\n",
    "num2 = \"9\"\n",
    "total = int(num1) + int(num2) #Casting vor dem Konkatenieren\n",
    "print(total)\n",
    "\n",
    "#Alternative:\n",
    "num1 = 1 #Zahlen als integers initialisieren\n",
    "num2 = 9\n",
    "total = int(num1) + int(num2)\n",
    "print(total)"
   ]
  },
  {
   "cell_type": "code",
   "execution_count": null,
   "id": "4743fc25-ab98-4fba-b1d0-44b0f027a14d",
   "metadata": {
    "tags": []
   },
   "outputs": [],
   "source": [
    "#Hier ein wenig Länderkunde:\n",
    "capitals = [\"Berlin\", \"Wien\", \"Bern\"]\n",
    "\n",
    "for capital in capitals:\n",
    "    if capital != \"Wien\": #Vergleichsoperator, Einrückung beachten\n",
    "        print(capital) #Auf Variablenname und Einrückung achten\n",
    "        "
   ]
  },
  {
   "cell_type": "code",
   "execution_count": null,
   "id": "50efbf5f-2bcb-4e55-99f5-64fbe73e9440",
   "metadata": {},
   "outputs": [],
   "source": [
    "#Hier definieren wir mehrere Variablen in einer Code-Zelle.\n",
    "a, b, c, d = \"Warum\", \"geht\", \"das\", \"nicht?\" #Anzahl der Variablen und deren Werte müssen übereinstimmen.\n",
    "print(a,b,c,d)"
   ]
  },
  {
   "cell_type": "code",
   "execution_count": null,
   "id": "568af7e1-4911-438c-a777-62ea8ec8f9a4",
   "metadata": {
    "tags": []
   },
   "outputs": [],
   "source": [
    "#Hier definieren wir eine Variable für den Satz. #Das ist ein Kommentar\n",
    "sentence = \"Es kann aber auch alles schiefgehen.\" #Auf die Nutzung gleicher Anführungszeichen achten.\n",
    "print(sentence)"
   ]
  },
  {
   "cell_type": "code",
   "execution_count": null,
   "id": "1b6bd43c-a3a3-4396-8e57-b9982585a333",
   "metadata": {
    "tags": []
   },
   "outputs": [],
   "source": [
    "#Wie heißt die Hauptstadt der Schweiz?\n",
    "capitals = [\"Berlin\", \"Wien\", \"Bern\"] #Auf die Nutzung gleicher Anführungszeichen achten.\n",
    "\n",
    "for capital in capitals:\n",
    "    if capital == \"Bern\": #Vergleichsoperator beachten\n",
    "        print(f\"The capital of Switzerland '{capital}' is on the list.\") #Einrückung beachten, Variablen in f-strings in geschweifte Klammern, darum einfache Anführungszeichen"
   ]
  },
  {
   "cell_type": "code",
   "execution_count": null,
   "id": "49a9f9b2-5b89-4821-972c-8e1b36b75cec",
   "metadata": {
    "tags": []
   },
   "outputs": [],
   "source": [
    "#Wie bekommen wir hier am schnellsten die Länge des Wortes heraus??\n",
    "longest_word = \"Donaudampfschifffahrtselektrizitätenhauptbetriebswerkbauunternehmenbeamtengesellschaft\"\n",
    "\n",
    "i = 0\n",
    "for letter in longest_word:\n",
    "    i += 1 #Zeichenreihenfolge beachten\n",
    "print(i) #Einrückung korrigieren\n",
    "\n",
    "#Schneller und einfacher:\n",
    "len(longest_word)"
   ]
  },
  {
   "cell_type": "code",
   "execution_count": null,
   "id": "5e875df3-a9ee-4f21-b949-7887e5dcdbd5",
   "metadata": {
    "tags": []
   },
   "outputs": [],
   "source": [
    "#Hier wollen wir den Preis gerundet ausgeben.\n",
    "price = 1.99 #Fließkommazahlen mit Punkt, nicht Komma\n",
    "int(price +1) #Beim Casten wird nicht direkt gerundet, sondern \"abgeschnitten\", deshalb plus eins rechnen"
   ]
  },
  {
   "cell_type": "code",
   "execution_count": null,
   "id": "0bbb2a6e-9f9c-4963-94c3-4222dd7482ab",
   "metadata": {},
   "outputs": [],
   "source": [
    "#Wie bekommen wir das Alphabet in die richtige Reihenfolge?\n",
    "alphabet = \"zyxwvutsrqponmlkjihgfedcba\"\n",
    "alphabet[::-1] #Slicing zum Umkehren der Reihenfolge"
   ]
  },
  {
   "cell_type": "code",
   "execution_count": null,
   "id": "094f56f3-e042-4f87-bd88-0529e90db087",
   "metadata": {
    "tags": []
   },
   "outputs": [],
   "source": [
    "#Wir wollen uns die verschiedenen Datentypen automatisiert ausgeben lassen:\n",
    "wild_mix = [\"Montag\", 1, 20.0, {\"Friday\": \"Freitag\", \"Saturday\": [\"Samstag\", \"Sonnabend\"]}]\n",
    "for element in wild_mix:\n",
    "    print(element, \":\", type(element))"
   ]
  },
  {
   "cell_type": "code",
   "execution_count": null,
   "id": "5260d42f-7bb5-4045-8d5c-d39f3b713fa1",
   "metadata": {
    "tags": []
   },
   "outputs": [],
   "source": [
    "#Indexing ist immer eine super Möglichkeit, bestimmte Elemente anzusprechen:\n",
    "days = [\"Montag\", \"Dienstag\", \"Mittwoch\", \"Donnerstag\", \"Freitag\", \"Samstag\", \"Sonntag\"]\n",
    "print(\"Der erste Tag der Woche heißt:\", days[0]) #Erstes Element hat den Index null"
   ]
  },
  {
   "cell_type": "code",
   "execution_count": null,
   "id": "d9ef2e2a-d612-407d-9e13-433835caba9d",
   "metadata": {
    "tags": []
   },
   "outputs": [],
   "source": [
    "#Wie können wir den \"Juli\" ausgeben lassen?\n",
    "#Achtung: wenn mehrere Werte zu einem Schlüssel gehören: Listen!\n",
    "saisons = {\"Frühling\": [\"März\", \"April\", \"Mai\"], \"Sommer\": [\"Juni\", \"Juli\", \"August\"], \"Herbst\": [\"September\", \"Oktober\", \"November\"], \"Winter\": [\"Dezember\", \"Januar\", \"Februar\"]}\n",
    "print(saisons[\"Sommer\"][1]) #Indexing nur von Listenelementen, nicht aber von Schlüssel-Werte-Paaren möglich"
   ]
  },
  {
   "cell_type": "markdown",
   "id": "121005ad-2ab6-4add-b00f-3ef212242b7a",
   "metadata": {
    "deletable": false,
    "editable": false
   },
   "source": [
    "***\n",
    "<table>\n",
    "      <tr>\n",
    "        <td>\n",
    "            <img src=\"../../3_Dateien/Lizenz/CC-BY-SA.png\" width=\"400\">\n",
    "        </td> \n",
    "        <td>\n",
    "            <p>Dieses Notebook sowie sämtliche weiteren <a href=\"https://github.com/yannickfrommherz/exdimed-student/tree/main\">Materialien zum Programmierenlernen für Geistes- und Sozialwissenschaftler:innen</a> sind im Rahmen des Projekts <i>Experimentierraum Digitale Medienkompetenz</i> als Teil von <a href=\"https://tu-dresden.de/gsw/virtuos/\">virTUos</a> entstanden. Erstellt wurden sie von Anne Josephine Matz und Yannick Frommherz. Sie stehen als Open Educational Resource nach <a href=\"https://creativecommons.org/licenses/by-sa/4.0/\">CC BY SA</a> zur freien Verfügung. Für Feedback und bei Fragen nutz bitte das <a href=\"https://forms.gle/VsYJgy4bZTSqKioA7\">Kontaktformular</a>.\n",
    "        </td>\n",
    "      </tr>\n",
    "</table>"
   ]
  }
 ],
 "metadata": {
  "kernelspec": {
   "display_name": "Python 3 (ipykernel)",
   "language": "python",
   "name": "python3"
  },
  "language_info": {
   "codemirror_mode": {
    "name": "ipython",
    "version": 3
   },
   "file_extension": ".py",
   "mimetype": "text/x-python",
   "name": "python",
   "nbconvert_exporter": "python",
   "pygments_lexer": "ipython3",
   "version": "3.11.5"
  }
 },
 "nbformat": 4,
 "nbformat_minor": 5
}