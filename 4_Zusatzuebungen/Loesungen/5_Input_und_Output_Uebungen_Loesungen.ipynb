{
 "cells": [
  {
   "cell_type": "markdown",
   "id": "b564f25e-d7f5-493e-89a0-0b4ed8053686",
   "metadata": {
    "deletable": false,
    "editable": false
   },
   "source": [
    "# Lösungen zu den Zusatzübungen zum Notebook \"Input und Output\"\n",
    "\n",
    "☝️ Beachte: es gibt beim Programmieren fast immer verschiedene Lösungswege. Deine Lösung mag anders aussehen, aber dennoch zum gewünschten Resultat führen. Das richtige Resultat ist das Wichtigste. "
   ]
  },
  {
   "cell_type": "markdown",
   "id": "648cb5f2-2e5e-43f5-8ad8-d06cf7a55a48",
   "metadata": {
    "deletable": false,
    "editable": false
   },
   "source": [
    "1. Lies das erste Kapitel von [Niels Holgersens wunderbare Reise mit den Wildgänsen](https://www.projekt-gutenberg.org/lagerloe/nielsho1/titlepage.html) von Selma Lagerlöf ein und weise es `niels_holgersen` zu. Entferne dabei sämtliche Zeilenumbrüche, sodass ein Fließtext entsteht. Lass Dir die ersten 1000 Zeichen ausgeben.\n",
    "\n",
    "   📌 Herausforderung: Löse die Übung mithilfe einer List Comprehension."
   ]
  },
  {
   "cell_type": "code",
   "execution_count": null,
   "id": "c0144d06-f541-4c3c-a729-8d1fcd9f6944",
   "metadata": {},
   "outputs": [],
   "source": [
    "#Achtung: anderer Pfad als im Notebook, da das Lösungsnotebook in einem anderen Verzeichnis liegt\n",
    "with open(\"../../3_Dateien/Niels_Holgersen/Kapitel_1.txt\", encoding=\"utf-8\") as read_file:\n",
    "    niels_holgersen = [] #Initialisieren einer leeren Liste, an die Zeilen ohne Umbrüche angehängt werden\n",
    "    for line in read_file:\n",
    "        #Überspringen, falls leere Zeile\n",
    "        if line.isspace():\n",
    "            continue\n",
    "        #Anhängen der von trailing whitespace befreiten Zeile an niels_holgersen\n",
    "        niels_holgersen.append(line.rstrip())\n",
    "\n",
    "    niels_holgersen = \" \".join(niels_holgersen) #Wiederzusammenfügen zu einem string\n",
    "\n",
    "    \"\"\"als List Comprehension: Achtung: funktioniert nur, wenn die gesamte for-Schleife oben auskommentiert wird!\n",
    "    Dies liegt daran, dass read_file beim Iterieren darüber aufgebraucht wird, d.h. jedes Element wird nach der Iteration \n",
    "    aus dem Arbeitsspeicher gelöscht, weswegen maximal einmal darüber iteriert werden kann.\"\"\"\n",
    "    #niels_holgersen = \" \".join([line.rstrip() for line in read_file if not line.isspace()])\n",
    "\n",
    "print(niels_holgersen[0:1000])"
   ]
  },
  {
   "cell_type": "markdown",
   "id": "855a5def-2c3e-4499-a8a8-b4e1317fa42f",
   "metadata": {
    "deletable": false,
    "editable": false
   },
   "source": [
    "2. Lass Dir `niels_holgersen` als Blocksatz mit jeweils 100 Zeichen pro Zeile ausgeben. Wörter dürfen sich über Zeilenumbrüche hinweg erstrecken, ein Bindestrich ist nicht nötig.\n",
    "\n",
    "    📌 Herausforderung: Löse die Übung mithilfe einer List Comprehension."
   ]
  },
  {
   "cell_type": "code",
   "execution_count": null,
   "id": "88a93031-699b-4b4f-ac51-9cfc8da6f4ee",
   "metadata": {},
   "outputs": [],
   "source": [
    "justified = [] #Initialisieren einer leeren Liste, um Zeilen bestehend aus jeweils 100 Zeichen anzuhängen\n",
    "max_chars = 100 #Definieren einer Variablen für die maximale Anzahl an Zeichen pro Zeile (möglichst wenig Harcoding!)\n",
    "\n",
    "#Iterieren über niels_holgersen mithilfe der range-Funktion, wobei jeweils max_chars übersprungen werden\n",
    "for i in range(0, len(niels_holgersen), max_chars):\n",
    "    justified.append(niels_holgersen[i:i+max_chars]) #Slicen eines Abschnitt der Länge max_chars und Anhängen an justified\n",
    "\n",
    "justified = \"\\n\".join(justified)\n",
    "print(justified[0:1010]) #Ausgabe der ersten 10 Zeilen (1010, da 10 Zeilenumbrüche mitgerechnet werden)\n",
    "\n",
    "#Herausforderung\n",
    "justified = \"\\n\".join([niels_holgersen[i:i+max_chars] for i in range(0, len(niels_holgersen), max_chars)])\n",
    "#print(justified)"
   ]
  },
  {
   "cell_type": "markdown",
   "id": "a7590024-3439-489e-8673-a9f9b8f21c70",
   "metadata": {
    "deletable": false,
    "editable": false
   },
   "source": [
    "3. Extrahiere sämtliche Fälle von direkter Rede aus `niels_holgersen` und speichere sie auf der Liste `direct_speech` ab. Ein zu extrahierendes Beispiel lautet \n",
    "    \n",
    "        »Wartet! Wartet! ich komme.«\n",
    "   </br>\n",
    "    Verwende hierfür keine regulären Ausdrücke (vgl. sechstes Notebook)."
   ]
  },
  {
   "cell_type": "code",
   "execution_count": null,
   "id": "29c36e5a-4332-4ee0-8ba2-459740a5947e",
   "metadata": {},
   "outputs": [],
   "source": [
    "direct_speech = [] #Initialisieren einer leeren Liste, an die wir Fälle von direkter Rede anhängen\n",
    "start_index, end_index = 0, 0 #Initialisieren von Variablen zum Speichern der Indizes des ersten und letzten Zeichens einer direkten Rede\n",
    "\n",
    "#Iterieren über die Zeichen in niels_holgersen mittels range-Funktion\n",
    "for i in range(len(niels_holgersen)):\n",
    "    #wenn das entsprechende Zeichen in niels_holgersen dem öffnenden Anführungszeichen entspricht, soll der Index als start_index gespeichert werden\n",
    "    if niels_holgersen[i] == \"»\":\n",
    "        start_index = i\n",
    "    #wenn das entsprechende Zeichen in niels_holgersen dem schließenden Anführungszeichen entspricht, soll der Index als end_index gespeichert werden\n",
    "    elif niels_holgersen[i] == \"«\":\n",
    "        end_index = i\n",
    "    #sofern start_index und end_index größer null, d.h. ein kompletter Fall bestehend aus öffnenden und schließenden Anführungszeichen wurde gefunden, dann...\n",
    "    if start_index > 0 and end_index > 0:\n",
    "        #...slicen wir diese Zeichen aus niels_holgersen heraus und hängen sie direct_speech an\n",
    "        direct_speech.append(niels_holgersen[start_index:end_index+1])\n",
    "        #Zurücksetzen der Indizes für nächsten Fall von direkter Rede\n",
    "        start_index, end_index = 0, 0\n",
    "\n",
    "direct_speech[0:3]"
   ]
  },
  {
   "cell_type": "markdown",
   "id": "1b48d0a4-7413-47d0-a0f2-2377db62ac5a",
   "metadata": {
    "deletable": false,
    "editable": false
   },
   "source": [
    "4. Schaffe einen irrwitzigen Dialog zwischen den Figuren auf `subjects` (füge gerne weitere amüsante Charaktere hinzu). Verwende dazu sämtliche Redebeiträge auf der Liste `direct_speech` aus der Übung 3 in zufälliger Reihenfolge. Die Figuren sollen abwechselnd zu Wort kommen, wobei sie ihren Redebeitrag über ein jeweils zufälliges Sprechaktverb der Liste `verbs` äußern (auch hier kannst Du gerne weitere Verben hinzufügen). Der Dialog soll wie folgt aussehen:\n",
    "\n",
    "    <img src=\"../../3_Dateien/Grafiken_und_Videos/Irrwitziger_Dialog.png\">\n",
    "\n",
    "    und so weiter.\n",
    "\n",
    "   Um eine zufällige Reihenfolge bzw. eine zufällige Auswahl zu generieren, musst Du ein Dir bekanntes Modul importieren. Lies ggf. in der Dokumentation des Moduls nach, welche Funktionen die benötigten Operationen implementieren."
   ]
  },
  {
   "cell_type": "code",
   "execution_count": null,
   "id": "9145a58a-26d0-43ba-bbf7-6916c17f9240",
   "metadata": {},
   "outputs": [],
   "source": [
    "subjects = [\"Der Witwer\", \"Die Diva\", \"Der Kobold (der heimlich zugegen war)\", \"Die misanthrope Ente\"]\n",
    "verbs = [\"meinte\", \"schrie\", \"flüsterte\", \"hielt dagegen\", \"verkündete\", \"jauchzte\", \"raunte\", \"soufflierte\", \"röchelte\"]\n",
    "\n",
    "import random #Importieren des Moduls random, um zufällige Reihenfolge der Redebeiträge sowie zufälliges Verb zu generieren\n",
    "\n",
    "random.shuffle(direct_speech) #zufälliges Umordnen der Elemente auf der Liste (geschieht in-place)\n",
    "\n",
    "dialog = [] #Initialisieren einer leeren Liste, um anschließend die einzelnen Redebeiträge anzuhängen\n",
    "\n",
    "i = 0 #Initialisieren einer Zählervariablen, um Figuren abwechselnd zu indizieren (s.u.)\n",
    "\n",
    "#Iterieren über die Redebeiträge\n",
    "for utterance in direct_speech:\n",
    "    random_verb = random.choice(verbs) #zufälliges Verb aus der Liste auswählen\n",
    "    \"\"\"Zusammenfügen von alternierendem Subjekt (indiziert via Zählervariable, die nach dem letzten Element auf Null zurückgesetzt wird (s.u.)),\n",
    "    zufälligem Verb und Redebeitrag zu einem string sowie Anhängen an Liste dialog\"\"\"\n",
    "    line = subjects[i] + \" \" + random_verb + \": \" + utterance + \".\"\n",
    "    dialog.append(line)\n",
    "\n",
    "    #Erhöhen der Zählervariablen um 1\n",
    "    i+=1\n",
    "    \"\"\"Zurücksetzen der Zählervariablen auf Null (d.h. im nächsten Redebeitrag spricht wieder die erste Figur der Liste), \n",
    "    falls sie größer als die Länge der Liste der Figuren minus eins ist (minus eins, da die Zählervariable bzw. Indizes bei Null beginnnen,\n",
    "    die Länge der Liste jedoch bei eins)\"\"\"\n",
    "    if i > len(subjects)-1:\n",
    "        i=0\n",
    "\n",
    "print(\"\\n\".join(dialog)) #Ausgabe des Dialogs"
   ]
  },
  {
   "cell_type": "markdown",
   "id": "63f32be4-9eef-4c47-84e6-4ec019223f61",
   "metadata": {
    "deletable": false,
    "editable": false
   },
   "source": [
    "5. Führe den Code, den Du in Übung 4 geschrieben hast, ein paar Mal aus, bis Du einen besonders lustigen Dialog erhältst. Speichere nun diesen Dialog als Textdatei im Ordner \"Output\". Formatiere dabei den Text wie ein Drama (vgl. *Nathan der Weise* im Lehrnotebook). Die Textdatei soll zudem einen Titel sowie eine Auflistung der Figuren beinhalten. "
   ]
  },
  {
   "cell_type": "code",
   "execution_count": null,
   "id": "ded6fdbb-71d8-4718-90d6-fb83560d216f",
   "metadata": {},
   "outputs": [],
   "source": [
    "title = \"Der wirre Witwer und die misanthrope Ente. Eine Posse.\" #Definieren eines frei gewählten Titels\n",
    "characters = \", \".join(subjects) #Zusammenfügen der Figuren zu einem string\n",
    "\n",
    "#(Schaffen) und Öffnen einer zu beschreibenden Datei im Ordner \"Output\"\n",
    "with open(\"../../3_Dateien/Output/irrwitzigster_dialog.txt\", \"w\", encoding=\"utf-8\") as write_file:\n",
    "\n",
    "    #Schreiben des Titels und der Figurenliste am Anfang der Datei\n",
    "    write_file.write(title + \"\\n\\n\")\n",
    "    write_file.write(\"Figuren: \" + characters + \".\\n\\n--------------\\n\\n\")\n",
    "\n",
    "    #Iterieren über Redebeiträge\n",
    "    for line in dialog:\n",
    "        \"\"\"Schreiben der einzelnen Redebeiträge in die Datei, jeweils mit doppeltem Zeilenumbruch abgeschlossen, um Redebeiträge (die in sich theoretisch\n",
    "        auch Zeilenumbrüche beinhalten könnten) voneinander klar abzugrenzen\"\"\"\n",
    "        write_file.write(line + \"\\n\\n\")"
   ]
  },
  {
   "cell_type": "markdown",
   "id": "748bf966-38f0-4df1-a95b-8467ca9013a9",
   "metadata": {
    "deletable": false,
    "editable": false
   },
   "source": [
    "6. Füge Deiner eben geschaffenen Datei (mithilfe von Python!) den Satz \"An dieser Stelle endet die die Zusammenkunft abrupt.\" an."
   ]
  },
  {
   "cell_type": "code",
   "execution_count": null,
   "id": "7424f011-29cc-48d1-9c39-193992d56e0a",
   "metadata": {},
   "outputs": [],
   "source": [
    "end = \"An dieser Stelle endet die die Zusammenkunft abrupt.\" #Definieren des strings, der am Ende der Datei stehen soll\n",
    "\n",
    "#Öffnen der bereits existierenden Datei im append-Modus (\"a\")\n",
    "with open(\"../../3_Dateien/Output/irrwitzigster_dialog.txt\", \"a\", encoding=\"utf-8\") as write_file:\n",
    "    write_file.write(end) #Anhängen des strings end am Ende der Datei"
   ]
  },
  {
   "cell_type": "markdown",
   "id": "a490e21c-c27d-42f9-a34b-e5a120047ff4",
   "metadata": {
    "deletable": false,
    "editable": false
   },
   "source": [
    "7. Lass Dir das aktuelles Arbeitsverzeichnis sowie die darin befindlichen Dateien und Verzeichnisse ausgeben.\n",
    "\n",
    "    📌 Herausforderung: Schaffe (mithilfe von Python) ein neues Verzeichnis namens \"new_dir\" im aktuellen Arbeitsverzeichnis und überprüfe anschließend, ob es geklappt hat."
   ]
  },
  {
   "cell_type": "code",
   "execution_count": null,
   "id": "7f6138c7-c5f0-4f0d-a60a-d90070adbd0f",
   "metadata": {},
   "outputs": [],
   "source": [
    "import os #Importieren des Moduls\n",
    "\n",
    "#Ausgeben von aktuellem Arbeitsverzeichnis sowie den darin befindlichen Dateien und Verzeichnisse\n",
    "print(os.getcwd()) #beachte: hier wird ein anderer Pfad als im Übungsnotebook ausgegeben, da sich das Lösungsnotebook in einem anderen Verzeichnis befindet\n",
    "print(os.listdir()) #entsprechend befinden sich auch andere Dateien und Verzeichnisse darin\n",
    "\n",
    "#Herausforderung\n",
    "os.makedirs(\"new_dir\") #Schaffen eines neuen Verzeichnisses (beachte: funktioniert nur einmal, danach FileExistsError!)\n",
    "print(os.listdir())"
   ]
  },
  {
   "cell_type": "markdown",
   "id": "23b4f56f-e924-4b5d-95e0-c85d30411877",
   "metadata": {
    "deletable": false,
    "editable": false
   },
   "source": [
    "8. Lies aufbauend auf der Zusatzübung 7 zum dritten Notebook die Datei \"de_sv.csv\" aus dem Ordner \"Tabellarische_Daten\" ein. Darin befinden sich nun mehr als nur eine Handvoll Vokabeln Deutsch-Schwedisch. Genauer gesagt, handelt es sich um die 100 wichtigsten Vokabeln gemäß ChatGPT. Überführe die Daten in ein geeignetes Objekt und \"füttere\" damit den bereits programmierten Vokabeltrainer. Beim Einlesen dürfte die Dir noch unbekannte `next`-Funktion hilfreich sein – erkundige selbständig, wie Du sie einsetzen kannst. Implementiere außerdem einen Mechanismus, über den Benutzer:innen die Lernsession vorzeitig beenden können, falls sie nicht alle 100 Vokabeln lernen möchten."
   ]
  },
  {
   "cell_type": "code",
   "execution_count": null,
   "id": "2e5013ac-bc8b-4255-b463-bf1c52df2c10",
   "metadata": {},
   "outputs": [],
   "source": [
    "#Achtung: anderer Pfad als im Notebook, da das Lösungsnotebook in einem anderen Verzeichnis liegt\n",
    "with open(\"../../3_Dateien/Tabellarische_Daten/de_sv.csv\", encoding=\"utf-8\") as read_file:\n",
    "    \n",
    "    de_sv = {} #Initialisieren eines leeren dictionaries, an das wir die Daten als Schlüssel-Werte-Paare anhängen\n",
    "\n",
    "    #die erste Zeile beinhält Spaltennamen, wir überspringen sie mit der Funktion next\n",
    "    next(read_file) \n",
    "\n",
    "    \"\"\"Iterieren über einzelne Zeilen in read_file, aufsplitten beim Trennzeichen (\",\") und schaffen von Schlüssel-Werte-Paaren.\n",
    "    An dieser Stelle könnten wir auch die reader-Funktion des csv-Moduls einsetzen.\"\"\"\n",
    "    for line in read_file:\n",
    "        de, sv = line.split(\",\")\n",
    "        de_sv[de] = sv.strip() #Entfernen von trailing whitespace (Zeilenumbruch)\n",
    "\n",
    "\"\"\"Hier wird der Vokabeltrainer (Dokumentation des Codes siehe Lösung zu Zusatzübung 7 zum dritten Notebook)\n",
    "in eine Funktion gepackt, damit wir die doppelte Schleife (while und for) auf einfache Weise beenden können, sobald Benutzer:innen\n",
    "die Lernsession abbrechen wollen. Dies erreichen wir unkompliziert mithilfe des return-Statements (s.u.).\n",
    "Ohne Funktion ließe sich dieser Mechanismus z.B. mit zwei break-Statements (eines in jeder Schleife) implementieren.\"\"\"\n",
    "def vocab_trainer():\n",
    "    \n",
    "    while True:\n",
    "\n",
    "        #zusätzliche Info, wie die Lernsession beendet werden kann\n",
    "        print(\"Hej! Mit mir kannst Du Schwedisch lernen! Wenn Du genug gelernt hast, gib einfach 'X' ein.\")\n",
    "    \n",
    "        learnt_during_iteration = []\n",
    "            \n",
    "        for word, translation in de_sv.items():\n",
    "            \n",
    "            prompt = \"Wie sagt man '\" + word + \"' auf Schwedisch?\" \n",
    "    \n",
    "            answer = input(prompt)\n",
    "\n",
    "            #zusätzliche Bedingung, die überprüft, ob Benutzer:in Lernsession beenden will (hier mittels Eingabe von \"X\")\n",
    "            if answer == \"X\":\n",
    "                return(\"Tschüss / Hejdå!\")\n",
    "            \n",
    "            if answer == translation:\n",
    "                print(\"Korrekt! 🥳\")\n",
    "                learnt_during_iteration.append(word)\n",
    "            else:\n",
    "                print(\"Das war leider falsch 😅. Richtig wäre '\" + translation + \"' gewesen!\")\n",
    "        \n",
    "        for learnt_word in learnt_during_iteration:\n",
    "            de_sv.pop(learnt_word)\n",
    "            \n",
    "        if len(de_sv) < 1:\n",
    "            print(\"Du kannst alle Vokabeln! 🎉\")\n",
    "            break\n",
    "\n",
    "vocab_trainer() #Aufrufen der Funktion"
   ]
  },
  {
   "cell_type": "markdown",
   "id": "e137dc06-de9c-42ed-a946-c7d89ba83a1c",
   "metadata": {
    "deletable": false,
    "editable": false
   },
   "source": [
    "9. Passe den Code aus Übung 8 derart an, dass Benutzer:innen eine Übersicht über die korrekt übersetzten bzw. falsch übersetzten Vokabeln gegeben wird, sobald sie die Lernsession beenden. Überleg Dir, wie Du diese Übersicht visuell ansprechend formatieren kannst. Folgender Screenshot ist eine Idee, Du kannst die Ausgabe auch gerne anders gestalten:\n",
    "   \n",
    "    <img src=\"../../3_Dateien/Grafiken_und_Videos/Formatierung.png\" width=\"300\"/>"
   ]
  },
  {
   "cell_type": "code",
   "execution_count": null,
   "id": "63a09fc6-3b58-4df4-9807-f9f13dec6074",
   "metadata": {},
   "outputs": [],
   "source": [
    "#Dokumentation s.o.\n",
    "with open(\"../../3_Dateien/Tabellarische_Daten/de_sv.csv\", encoding=\"utf-8\") as read_file:\n",
    "    \n",
    "    de_sv = {} \n",
    "\n",
    "    next(read_file) \n",
    "\n",
    "    for line in read_file:\n",
    "        de, sv = line.split(\",\")\n",
    "        de_sv[de] = sv.strip() \n",
    "\n",
    "def vocab_trainer():\n",
    "    \n",
    "    correctly_translated, incorrectly_translated = [], [] #Initialisieren zweier Listen für (in)korrekt übersetzte Vokabeln\n",
    "    \n",
    "    while True:\n",
    "\n",
    "        print(\"Hej! Mit mir kannst Du Schwedisch lernen! Wenn Du genug gelernt hast, gib einfach 'X' ein.\")\n",
    "    \n",
    "        learnt_during_iteration = []\n",
    "            \n",
    "        for word, translation in de_sv.items():\n",
    "            \n",
    "            prompt = \"Wie sagt man '\" + word + \"' auf Schwedisch?\" \n",
    "    \n",
    "            answer = input(prompt)\n",
    "\n",
    "            if answer == \"X\":\n",
    "                \n",
    "                \"\"\"Für eine ansprechende Übersicht von (in)korrekt übersetzten Vokabeln verwenden wir f-strings, und genauer,\n",
    "                die Angabe eines digit space von 20 Zeichen pro Wort und Sprache. Um eine Tabelle zu imitieren, lassen wir uns\n",
    "                am vertikalen Anfang und Ende der jeweiligen Übersicht '-' 40 Mal ausgeben (komplexer Ausdruck), \n",
    "                jeweils mit '|' am horizontalen Anfang, in der Mitte sowie am Ende.\"\"\"\n",
    "                \n",
    "                print(f\"\\nDiese Vokabeln hast Du korrekt übersetzt:\\n\")\n",
    "                print(f\"|{'–'*20}|{'-'*20}|\")\n",
    "                print(f\"| {'Deutsch':19}| {'Schwedisch':19}|\")\n",
    "                print(f\"|{'-'*20}|{'-'*20}|\")\n",
    "\n",
    "                for word in correctly_translated:\n",
    "                    print(f\"| {word:19}| {de_sv[word]:19}|\")\n",
    "\n",
    "                print(f\"|{'-'*20}|{'-'*20}|\")\n",
    "\n",
    "\n",
    "                print(f\"\\nDiese Vokabeln hast Du falsch übersetzt:\\n\")\n",
    "                print(f\"|{'–'*20}|{'-'*20}|\")\n",
    "                print(f\"| {'Deutsch':19}| {'Schwedisch':19}|\")\n",
    "                print(f\"|{'-'*20}|{'-'*20}|\")\n",
    "\n",
    "                for word in incorrectly_translated:\n",
    "                    print(f\"| {word:19}| {de_sv[word]:19}|\")\n",
    "\n",
    "                print(f\"|{'-'*20}|{'-'*20}|\")\n",
    "                \n",
    "                return(\"Tschüss / Hejdå!\")\n",
    "            \n",
    "            if answer == translation:\n",
    "                print(\"Korrekt! 🥳\")\n",
    "                learnt_during_iteration.append(word)\n",
    "                correctly_translated.append(word)\n",
    "            else:\n",
    "                print(\"Das war leider falsch 😅. Richtig wäre '\" + translation + \"' gewesen!\")\n",
    "                incorrectly_translated.append(word)\n",
    "        \n",
    "        for learnt_word in learnt_during_iteration:\n",
    "            de_sv.pop(learnt_word)\n",
    "            \n",
    "        if len(de_sv) < 1:\n",
    "            print(\"Du kannst alle Vokabeln! 🎉\")\n",
    "            break\n",
    "\n",
    "vocab_trainer() "
   ]
  },
  {
   "cell_type": "markdown",
   "id": "20108b18-0df7-4972-b9ed-c8b6a6cf9040",
   "metadata": {
    "deletable": false,
    "editable": false
   },
   "source": [
    "10. In dieser letzten Übung begeben wir uns in unbekanntes Terrain. Den Großteil der Arbeit erledigen wir nämlich nicht wie gewohnt aus JupypterLab heraus, sondern über die Command Line (Terminal unter macOS/Eingabeaufforderung unter Windows; Achtung: Übung funktioniert nicht innerhalb von GitHub Codespace). Manche Tools stehen nämlich nur für die Command Line bereit und nicht für Python. So auch [TreeTagger](https://www.cis.uni-muenchen.de/~schmid/tools/TreeTagger/), ein Tool, mit dem wir Text in verschiedenen Sprachen mit metalinguistischen Informationen wie Lemma (also die Form eines Wortes, die in einem Wörterbuch steht, z.B. \"Kindes\" > \"Kind\") oder Part-of-Speech-Tags (Wortarten; abgekürzt: *POS*) anreichern können.\n",
    "\n",
    "    1. Installiere TreeTagger über die Schritte 1-5 auf der oben verlinkten Seite. Bei den \"parameter files\" lädst Du das [German parameter file](https://www.cis.uni-muenchen.de/~schmid/tools/TreeTagger/data/german.par.gz) herunter. Speichere alle Dateien im gleichen Verzeichnis und achte darauf, dass der Dateipfad dorthin keine Leerschläge enthält. Entpacke keine der Dateien. Bei Schritt 5 ist es wichtig, dass Du die Command Line entweder direkt aus dem Verzeichnis mit den TreeTagger-Dateien heraus öffnest (i.d.R. möglich über Rechtsklick im Verzeichnis), oder mittels `cd path` zum Verzeichnis navigierst. Dadurch hat die Command Line das Verzeichnis der TreeTagger-Dateien als aktuelles Arbeitsverzeichnis.\n",
    "    3. Schau, ob die Installation geklappt hat, indem Du in der Command Line (mit dem TreeTagger-Verzeichnis als Arbeitsverzeichnis!) den Befehl `echo 'Hallo Welt!' | cmd/tree-tagger-german` eingibst. Ggf. verhindert Dein Betriebssystem die Ausführung des Befehls, weil TreeTagger nicht von einem verifizierten Entwickler stammt. Über die Einstellungen Deines Betriebssystems solltest Du diese Blockierung aufheben können. Die Ausgabe sollte folgendermaßen ausschauen:\n",
    "\n",
    "        <img src=\"../../3_Dateien/Grafiken_und_Videos/Terminal_Output.png\" width=\"450\"/>\n",
    "\n",
    "\n",
    "        Die erste Spalte enthält die ursprünglichen Wörter unserer Eingabe in tokenisierter Form (ein Token pro Zeile). Die zweite Spalte enthält die POS-Tags (die deutsche Legende findest Du [hier](https://www.cis.uni-muenchen.de/~schmid/tools/TreeTagger/data/STTS-Tagset.pdf)) und die dritte die Lemmata.\n",
    "    4. Nun wollen wir einen längeren Text taggen. Speichere dazu den in Übung 1 erstellten Fließtext mit Niels Holgersens erstem Kapitel im gleichen Verzeichnis wie die TreeTagger-Dateien unter dem Namen \"niels_holgersen.txt\" ab.\n",
    "    5. Führe den Befehl `cmd/tree-tagger-german niels_holgersen.txt > niels_holgersen_tagged.txt` in der Command Line (mit dem TreeTagger-Verzeichnis als Arbeitsverzeichnis!) aus. Dadurch übergeben wir \"niels_holgersen.txt\" dem Pogramm \"tree-tagger-german\" (das sich im Unterverzeichnis \"cmd/\" befindet). Das Programm tokenisiert, POS-taggt und lemmatisiert den Text in \"niels_holgersen.txt\" und speichert das Ergebnis in \"niels_holgersen_tagged.txt\". Öffne die neue Datei (z.B. mit Sublime Text) und inspiziere sie.\n",
    "    6. Lies die Datei hier in JupyterLab ein und finde heraus, welches POS-Tag am häufigsten vorkommt. Es sollte sich um Nomen (NN) handeln."
   ]
  },
  {
   "cell_type": "code",
   "execution_count": null,
   "id": "57db6fcc-bfa7-4f34-84f6-a3d1541eb1d1",
   "metadata": {},
   "outputs": [],
   "source": [
    "#Im folgenden Befehl fehlt der Pfad zum Verzeichnis mit den TreeTagger-Dateien, setze ihn bei path ein und entferne die Hashtags\n",
    "#with open(\"path/niels_holgersen.txt\", \"w\", encoding=\"utf-8\") as write_file:\n",
    "    #write_file.write(niels_holgersen)\n",
    "\n",
    "#an dieser Stelle führst Du Schritt D aus\n",
    "\n",
    "#hier lesen wir 'niels_holgersen_tagged.txt' ein, wobei der Pfad wiederum individuell ist, setze ihn bei path ein\n",
    "with open(\"path/niels_holgersen_tagged.txt\", encoding=\"utf-8\") as read_file:\n",
    "    \n",
    "    pos_tags = [] #Erstellen einer leeren Liste, an die wir alle POS-Tags aus der zweiten Spalte anhängen\n",
    "\n",
    "    #Iterieren über alle Zeilen, Splitten nach Tab und Anhängen des zweiten Elements (mit Index 1) an pos_tags\n",
    "    for line in read_file:\n",
    "        pos = line.split(\"\\t\")[1]\n",
    "        pos_tags.append(pos)\n",
    "\n",
    "    \"\"\"als List Comprehension: Achtung: funktioniert nur, wenn die gesamte for-Schleife oben auskommentiert wird!\n",
    "    Dies liegt daran, dass read_file beim Iterieren darüber aufgebraucht wird, d.h. jedes Element wird nach der Iteration \n",
    "    aus dem Arbeitsspeicher gelöscht, weswegen maximal einmal darüber iteriert werden kann.\"\"\"\n",
    "    #pos_tags = [line.split(\"\\t\")[1] for line in read_file]\n",
    "\n",
    "types = set(pos_tags) #Erstellen eines Sets an POS-Tags\n",
    "\n",
    "freq_dict = {} #Erstellen eines frequency dictionaries, an das wir POS-Tags sowie ihre Frequenzen als Schlüssel-Werte-Paare anhängen\n",
    "\n",
    "#Iterieren über alle Types und Zählen des jeweiligen Vorkommens in pos_tags sowie Schaffen eines Schlüssel-Werte-Paars\n",
    "for type_ in types:\n",
    "    freq_dict[type_] = pos_tags.count(type_)\n",
    "\n",
    "#Ausgabe des ersten Elements des nach Werten absteigend sortierten freq_dict\n",
    "print(sorted(freq_dict.items(), key = lambda x: x[1], reverse=True)[0])"
   ]
  }
 ],
 "metadata": {
  "kernelspec": {
   "display_name": "Python 3 (ipykernel)",
   "language": "python",
   "name": "python3"
  },
  "language_info": {
   "codemirror_mode": {
    "name": "ipython",
    "version": 3
   },
   "file_extension": ".py",
   "mimetype": "text/x-python",
   "name": "python",
   "nbconvert_exporter": "python",
   "pygments_lexer": "ipython3",
   "version": "3.10.7"
  }
 },
 "nbformat": 4,
 "nbformat_minor": 5
}