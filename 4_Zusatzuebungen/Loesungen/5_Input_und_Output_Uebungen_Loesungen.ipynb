{
 "cells": [
  {
   "cell_type": "markdown",
   "id": "b564f25e-d7f5-493e-89a0-0b4ed8053686",
   "metadata": {
    "deletable": false,
    "editable": false
   },
   "source": [
    "# Lösungen zu den Zusatzübungen zum Notebook \"Input und Output\"\n",
    "\n",
    "☝️ Beachte: Es gibt beim Programmieren fast immer verschiedene Lösungswege. Deine Lösung mag anders aussehen, aber dennoch zum gewünschten Resultat führen. Das richtige Resultat ist das Wichtigste. "
   ]
  },
  {
   "cell_type": "markdown",
   "id": "648cb5f2-2e5e-43f5-8ad8-d06cf7a55a48",
   "metadata": {
    "deletable": false,
    "editable": false
   },
   "source": [
    "✏️ **Übung 1:** Lies das erste Kapitel von [Niels Holgersens wunderbare Reise mit den Wildgänsen](https://www.projekt-gutenberg.org/lagerloe/nielsho1/titlepage.html) von Selma Lagerlöf ein und weis es ```niels_holgersen``` zu. Entfern dabei sämtliche Zeilenumbrüche, sodass ein Fließtext entsteht. Lass Dir die ersten 1000 Zeichen ausgeben.\n",
    "\n",
    "<details>\n",
    "    <summary>🦊 Herausforderung </summary>\n",
    "    <br>Lös die Übung mithilfe einer List Comprehension.\n",
    "</details>"
   ]
  },
  {
   "cell_type": "code",
   "execution_count": null,
   "id": "c0144d06-f541-4c3c-a729-8d1fcd9f6944",
   "metadata": {
    "tags": []
   },
   "outputs": [],
   "source": [
    "#Achtung: anderer Pfad als im Notebook, da das Lösungsnotebook in einem anderen Verzeichnis liegt\n",
    "with open(\"../../3_Dateien/Niels_Holgersen/Kapitel_1.txt\", encoding=\"utf-8\") as read_file:\n",
    "    niels_holgersen = [] #Initialisieren einer leeren Liste, an die Zeilen ohne Umbrüche angehängt werden\n",
    "    for line in read_file:\n",
    "        #Überspringen, falls leere Zeile\n",
    "        if line.isspace():\n",
    "            continue\n",
    "        #Anhängen der von trailing whitespace befreiten Zeile an 'niels_holgersen'\n",
    "        niels_holgersen.append(line.rstrip())\n",
    "\n",
    "    niels_holgersen = \" \".join(niels_holgersen) #Wiederzusammenfügen zu einem string\n",
    "\n",
    "    \"\"\"Als List Comprehension: Achtung: funktioniert nur, wenn die gesamte for-Schleife oben auskommentiert wird!\n",
    "    Dies liegt daran, dass 'read_file' beim Iterieren darüber aufgebraucht wird, d. h. jedes Element wird nach der Iteration \n",
    "    aus dem Arbeitsspeicher gelöscht, weswegen maximal einmal darüber iteriert werden kann.\"\"\"\n",
    "    #niels_holgersen = \" \".join([line.rstrip() for line in read_file if not line.isspace()])\n",
    "\n",
    "print(niels_holgersen[0:1000])"
   ]
  },
  {
   "cell_type": "markdown",
   "id": "855a5def-2c3e-4499-a8a8-b4e1317fa42f",
   "metadata": {
    "deletable": false,
    "editable": false
   },
   "source": [
    "***\n",
    "✏️ **Übung 2:** Lass Dir ```niels_holgersen``` als Blocksatz mit jeweils 100 Zeichen pro Zeile ausgeben. Wörter dürfen sich über Zeilenumbrüche hinweg erstrecken, ein Bindestrich ist nicht nötig.\n",
    "\n",
    "<details>\n",
    "    <summary>🦊 Herausforderung </summary>\n",
    "    <br>Lös die Übung mithilfe einer List Comprehension.\n",
    "</details>"
   ]
  },
  {
   "cell_type": "code",
   "execution_count": null,
   "id": "88a93031-699b-4b4f-ac51-9cfc8da6f4ee",
   "metadata": {
    "tags": []
   },
   "outputs": [],
   "source": [
    "justified = [] #Initialisieren einer leeren Liste, um Zeilen bestehend aus jeweils 100 Zeichen anzuhängen\n",
    "max_chars = 100 #Definieren einer Variablen für die maximale Anzahl an Zeichen pro Zeile (möglichst wenig Harcoding!)\n",
    "\n",
    "#Iterieren über 'niels_holgersen' mithilfe der 'range'-Funktion, wobei jeweils 'max_chars' übersprungen werden\n",
    "for i in range(0, len(niels_holgersen), max_chars):\n",
    "    justified.append(niels_holgersen[i:i+max_chars]) #Slicen eines Abschnittes der Länge 'max_chars' und anhängen an 'justified'\n",
    "\n",
    "justified = \"\\n\".join(justified)\n",
    "print(justified[0:1010]) #Ausgabe der ersten zehn Zeilen (1010, da zehn Zeilenumbrüche mitgerechnet werden)\n",
    "\n",
    "#Herausforderung:\n",
    "justified = \"\\n\".join([niels_holgersen[i:i+max_chars] for i in range(0, len(niels_holgersen), max_chars)])\n",
    "#print(justified)"
   ]
  },
  {
   "cell_type": "markdown",
   "id": "a7590024-3439-489e-8673-a9f9b8f21c70",
   "metadata": {
    "deletable": false,
    "editable": false
   },
   "source": [
    "***\n",
    "✏️ **Übung 3:** Extrahier sämtliche Fälle von direkter Rede aus ```niels_holgersen``` und speicher sie auf der Liste ```direct_speech``` ab. Ein zu extrahierendes Beispiel lautet \n",
    "    \n",
    "    »Wartet! Wartet! ich komme.«\n",
    "Nutz hierfür keine regulären Ausdrücke (vgl. Notebook \"Reguläre Ausdrücke\")."
   ]
  },
  {
   "cell_type": "code",
   "execution_count": null,
   "id": "29c36e5a-4332-4ee0-8ba2-459740a5947e",
   "metadata": {
    "tags": []
   },
   "outputs": [],
   "source": [
    "direct_speech = [] #Initialisieren einer leeren Liste, an die wir Fälle von direkter Rede anhängen\n",
    "\n",
    "#Iterieren über die Zeichen in 'niels_holgersen' mittels 'range'-Funktion\n",
    "for index in range(len(niels_holgersen)):\n",
    "    #Wenn das entsprechende Zeichen in 'niels_holgersen' dem öffnenden Anführungszeichen entspricht, soll der Index als 'start_index' gespeichert werden.\n",
    "    if niels_holgersen[index] == \"»\":\n",
    "        start_index = index\n",
    "    #Wenn das entsprechende Zeichen in 'niels_holgersen' dem schließenden Anführungszeichen entspricht, soll der Index als 'end_index' gespeichert werden.\n",
    "    elif niels_holgersen[index] == \"«\":\n",
    "        end_index = index  \n",
    "        #Nun haben wir 'start_index' und 'end_index' und können über die gespeicherten Indizes die direkte Rede aus 'niels_holgersen' herausslicen und 'direct_speech' anhängen\n",
    "        direct_speech.append(niels_holgersen[start_index:end_index])\n",
    "\n",
    "direct_speech[0:3] #Ausgabe der ersten drei Redebeiträge "
   ]
  },
  {
   "cell_type": "markdown",
   "id": "1b48d0a4-7413-47d0-a0f2-2377db62ac5a",
   "metadata": {
    "deletable": false,
    "editable": false
   },
   "source": [
    "***\n",
    "✏️ **Übung 4:** Schaff einen irrwitzigen Dialog zwischen den Figuren auf ```subjects``` (füg gerne weitere amüsante Charaktere hinzu). Verwend dazu sämtliche Redebeiträge auf der Liste ```direct_speech``` aus der Übung 3 in zufälliger Reihenfolge. Die Figuren sollen abwechselnd zu Wort kommen, wobei sie ihren Redebeitrag über ein jeweils zufälliges Sprechaktverb der Liste ```verbs``` äußern (auch hier kannst Du gerne weitere Verben hinzufügen). Der Dialog soll wie folgt aussehen:\n",
    "\n",
    "<img src=\"../../3_Dateien/Grafiken_und_Videos/Irrwitziger_Dialog.png\">\n",
    "\n",
    "und so weiter.\n",
    "\n",
    "   Um eine zufällige Reihenfolge bzw. eine zufällige Auswahl zu generieren, musst Du ein Dir bekanntes Modul importieren. Lies ggf. in der Dokumentation des Moduls nach, welche Funktionen die benötigten Operationen implementieren."
   ]
  },
  {
   "cell_type": "code",
   "execution_count": null,
   "id": "9145a58a-26d0-43ba-bbf7-6916c17f9240",
   "metadata": {
    "tags": []
   },
   "outputs": [],
   "source": [
    "subjects = [\"Der Witwer\", \"Die Diva\", \"Der Kobold (der heimlich zugegen war)\", \"Die misanthrope Ente\"]\n",
    "verbs = [\"meinte\", \"schrie\", \"flüsterte\", \"hielt dagegen\", \"verkündete\", \"jauchzte\", \"raunte\", \"soufflierte\", \"röchelte\"]\n",
    "\n",
    "import random #Importieren des Moduls 'random', um zufällige Reihenfolge der Redebeiträge sowie zufälliges Verb zu generieren\n",
    "\n",
    "random.shuffle(direct_speech) #Zufälliges Umordnen der Elemente auf der Liste (geschieht in-place)\n",
    "\n",
    "dialog = [] #Initialisieren einer leeren Liste, um anschließend die einzelnen Redebeiträge anzuhängen (direkte Ausgabe mittels 'print' in der Schleife ist auch in Ordnung)\n",
    "\n",
    "i = 0 #Initialisieren einer Zählervariablen, um Figuren abwechselnd zu indizieren (s. u.)\n",
    "\n",
    "#Iterieren über die Redebeiträge\n",
    "for utterance in direct_speech:\n",
    "    random_verb = random.choice(verbs) #Zufälliges Verb aus der Liste auswählen\n",
    "    \"\"\"Zusammenfügen von alternierendem Subjekt (indiziert via Zählervariable, die nach dem letzten Element auf null zurückgesetzt wird (s. u.)),\n",
    "    zufälligem Verb und Redebeitrag zu einem string sowie Anhängen an Liste 'dialog'\"\"\"\n",
    "    line = subjects[i] + \" \" + random_verb + \": \" + utterance + \".\"\n",
    "    dialog.append(line)\n",
    "\n",
    "    #Erhöhen der Zählervariablen um eins\n",
    "    i+=1\n",
    "    \"\"\"Zurücksetzen der Zählervariablen auf null (d. h. im nächsten Redebeitrag spricht wieder die erste Figur der Liste), \n",
    "    falls sie größer als die Länge der Liste der Figuren minus eins ist (minus eins, da die Zählervariable bzw. Indizes bei null beginnnen,\n",
    "    die Länge der Liste jedoch bei eins)\"\"\"\n",
    "    if i > len(subjects)-1:\n",
    "        i=0\n",
    "\n",
    "print(\"\\n\".join(dialog)) #Ausgabe des Dialogs"
   ]
  },
  {
   "cell_type": "markdown",
   "id": "63f32be4-9eef-4c47-84e6-4ec019223f61",
   "metadata": {
    "deletable": false,
    "editable": false
   },
   "source": [
    "***\n",
    "✏️ **Übung 5:** Führ den Code, den Du in Übung 4 geschrieben hast, ein paar Mal aus, bis Du einen besonders lustigen Dialog erhältst. Speicher nun diesen Dialog als Textdatei im Ordner \"Output\". Formatier dabei den Text wie ein Drama (vgl. *Nathan der Weise* im Notebook \"Input und Output Teil 1\"). Die Textdatei soll zudem einen Titel sowie eine Auflistung der Figuren beinhalten. "
   ]
  },
  {
   "cell_type": "code",
   "execution_count": null,
   "id": "ded6fdbb-71d8-4718-90d6-fb83560d216f",
   "metadata": {
    "tags": []
   },
   "outputs": [],
   "source": [
    "title = \"Der wirre Witwer und die misanthrope Ente. Eine Posse.\" #Definieren eines frei gewählten Titels\n",
    "characters = \", \".join(subjects) #Zusammenfügen der Figuren zu einem string\n",
    "\n",
    "#(Schaffen) und Öffnen einer zu beschreibenden Datei im Ordner \"Output\"\n",
    "with open(\"../../3_Dateien/Output/irrwitzigster_dialog.txt\", \"w\", encoding=\"utf-8\") as write_file:\n",
    "\n",
    "    #Schreiben des Titels und der Figurenliste am Anfang der Datei\n",
    "    write_file.write(title + \"\\n\\n\")\n",
    "    write_file.write(\"Figuren: \" + characters + \".\\n\\n--------------\\n\\n\")\n",
    "\n",
    "    #Iterieren über Redebeiträge\n",
    "    for line in dialog:\n",
    "        \"\"\"Schreiben der einzelnen Redebeiträge in die Datei, jeweils mit doppeltem Zeilenumbruch abgeschlossen, um Redebeiträge (die in sich theoretisch\n",
    "        auch Zeilenumbrüche beinhalten könnten) voneinander klar abzugrenzen\"\"\"\n",
    "        write_file.write(line + \"\\n\\n\")"
   ]
  },
  {
   "cell_type": "markdown",
   "id": "748bf966-38f0-4df1-a95b-8467ca9013a9",
   "metadata": {
    "deletable": false,
    "editable": false
   },
   "source": [
    "***\n",
    "✏️ **Übung 6:** Füg Deiner eben geschaffenen Datei (mithilfe von Python!) den Satz \"An dieser Stelle endet die Zusammenkunft abrupt.\" an."
   ]
  },
  {
   "cell_type": "code",
   "execution_count": null,
   "id": "7424f011-29cc-48d1-9c39-193992d56e0a",
   "metadata": {
    "tags": []
   },
   "outputs": [],
   "source": [
    "end = \"An dieser Stelle endet die die Zusammenkunft abrupt.\" #Definieren des string, der am Ende der Datei stehen soll\n",
    "\n",
    "#Öffnen der bereits existierenden Datei im 'append'-Modus (\"a\")\n",
    "with open(\"../../3_Dateien/Output/irrwitzigster_dialog.txt\", \"a\", encoding=\"utf-8\") as write_file:\n",
    "    write_file.write(end) #Anhängen des string 'end' am Ende der Datei"
   ]
  },
  {
   "cell_type": "markdown",
   "id": "a490e21c-c27d-42f9-a34b-e5a120047ff4",
   "metadata": {
    "deletable": false,
    "editable": false
   },
   "source": [
    "***\n",
    "✏️ **Übung 7:** Lass Dir das aktuelle Arbeitsverzeichnis sowie die darin befindlichen Dateien und Verzeichnisse ausgeben.\n",
    "\n",
    "<details>\n",
    "    <summary>🦊 Herausforderung </summary>\n",
    "    <br>Schaff mithilfe von Python ein neues Verzeichnis namens \"new_dir\" im aktuellen Arbeitsverzeichnis und überprüf anschließend ebenfalls mithilfe von Python, ob es geklappt hat.\n",
    "</details>"
   ]
  },
  {
   "cell_type": "code",
   "execution_count": null,
   "id": "7f6138c7-c5f0-4f0d-a60a-d90070adbd0f",
   "metadata": {
    "tags": []
   },
   "outputs": [],
   "source": [
    "import os #Importieren des Moduls\n",
    "\n",
    "#Ausgeben von aktuellem Arbeitsverzeichnis sowie den darin befindlichen Dateien und Verzeichnissen\n",
    "print(os.getcwd()) #Beachte: Hier wird ein anderer Pfad als im Übungsnotebook ausgegeben, da sich das Lösungsnotebook in einem anderen Verzeichnis befindet.\n",
    "print(os.listdir()) #Entsprechend befinden sich auch andere Dateien und Verzeichnisse darin.\n",
    "\n",
    "#Herausforderung\n",
    "os.makedirs(\"new_dir\") #Schaffen eines neuen Verzeichnisses (beachte: funktioniert nur einmal, danach 'FileExistsError!')\n",
    "print(os.listdir())"
   ]
  },
  {
   "cell_type": "markdown",
   "id": "23b4f56f-e924-4b5d-95e0-c85d30411877",
   "metadata": {
    "deletable": false,
    "editable": false
   },
   "source": [
    "***\n",
    "✏️ **Übung 8:** Lies aufbauend auf der Zusatzübung 7 bzw. 8 zum Notebook \"Kontrollstrukturen\" die Datei \"de_sv.csv\" aus dem Ordner \"Tabellarische_Daten\" ein. Darin befinden sich nun mehr als nur eine Handvoll Vokabeln Deutsch-Schwedisch. Genauer gesagt handelt es sich um die 100 wichtigsten Vokabeln gemäß ChatGPT. Überführ die Daten in ein geeignetes Objekt und \"fütter\" damit den bereits programmierten Vokabeltrainer. Beim Einlesen dürfte die Dir noch unbekannte `next`-Funktion hilfreich sein – erkunde selbständig, wie Du sie einsetzen kannst. Implementier außerdem einen Mechanismus, über den Benutzer:innen die Lernsession vorzeitig beenden können, falls sie nicht alle 100 Vokabeln lernen möchten."
   ]
  },
  {
   "cell_type": "code",
   "execution_count": null,
   "id": "2e5013ac-bc8b-4255-b463-bf1c52df2c10",
   "metadata": {
    "tags": []
   },
   "outputs": [],
   "source": [
    "#Achtung: anderer Pfad als im Notebook, da das Lösungsnotebook in einem anderen Verzeichnis liegt\n",
    "with open(\"../../3_Dateien/Tabellarische_Daten/de_sv.csv\", encoding=\"utf-8\") as read_file:\n",
    "    \n",
    "    de_sv = {} #Initialisieren eines leeren dictionary, an das wir die Daten als Schlüssel-Werte-Paare anhängen\n",
    "\n",
    "    #Die erste Zeile beinhaltet Spaltennamen, wir überspringen sie mit der Funktion 'next'\n",
    "    next(read_file) \n",
    "\n",
    "    \"\"\"Iterieren über einzelne Zeilen in 'read_file', aufsplitten beim Trennzeichen (\",\") und schaffen von Schlüssel-Werte-Paaren.\n",
    "    An dieser Stelle könnten wir auch die 'reader'-Funktion des 'csv-Moduls' einsetzen.\"\"\"\n",
    "    for line in read_file:\n",
    "        de, sv = line.split(\",\")\n",
    "        de_sv[de] = sv.strip() #Entfernen von trailing whitespace (Zeilenumbruch)\n",
    "\n",
    "\"\"\"Hier wird der Vokabeltrainer (Dokumentation des Codes siehe Lösung zu Zusatzübung 7 zum Notebook \"Kontrollstrukturen\")\n",
    "in eine Funktion gepackt, damit wir die doppelte Schleife (while und for) auf einfache Weise beenden können, sobald Benutzer:innen\n",
    "die Lernsession abbrechen wollen. Dies erreichen wir unkompliziert mithilfe des 'return'-Statements (s. u.).\n",
    "Ohne Funktion ließe sich dieser Mechanismus z. B. mit zwei 'break'-Statements (eines in jeder Schleife) implementieren.\"\"\"\n",
    "def vocab_trainer():\n",
    "    \n",
    "    while True:\n",
    "\n",
    "        #Zusätzliche Info, wie die Lernsession beendet werden kann\n",
    "        print(\"Hej! Mit mir kannst Du Schwedisch lernen! Wenn Du genug gelernt hast, gib einfach 'X' ein.\")\n",
    "    \n",
    "        learnt_during_iteration = []\n",
    "            \n",
    "        for word, translation in de_sv.items():\n",
    "            \n",
    "            prompt = \"Wie sagt man '\" + word + \"' auf Schwedisch?\" \n",
    "    \n",
    "            answer = input(prompt)\n",
    "\n",
    "            #Zusätzliche Bedingung, die überprüft, ob Benutzer:in Lernsession beenden will (hier mittels Eingabe von \"X\")\n",
    "            if answer == \"X\":\n",
    "                return(\"Tschüss / Hejdå!\")\n",
    "            \n",
    "            if answer == translation:\n",
    "                print(\"Korrekt! 🥳\")\n",
    "                learnt_during_iteration.append(word)\n",
    "            else:\n",
    "                print(\"Das war leider falsch 😅. Richtig wäre '\" + translation + \"' gewesen!\")\n",
    "        \n",
    "        for learnt_word in learnt_during_iteration:\n",
    "            de_sv.pop(learnt_word)\n",
    "            \n",
    "        if len(de_sv) < 1:\n",
    "            print(\"Du kannst alle Vokabeln! 🎉\")\n",
    "            break\n",
    "\n",
    "vocab_trainer() #Aufrufen der Funktion"
   ]
  },
  {
   "cell_type": "markdown",
   "id": "e137dc06-de9c-42ed-a946-c7d89ba83a1c",
   "metadata": {
    "deletable": false,
    "editable": false
   },
   "source": [
    "***\n",
    "✏️ **Übung 9:** Pass den Code aus Übung 8 derart an, dass Benutzer:innen eine Übersicht über die korrekt übersetzten bzw. falsch übersetzten Vokabeln gegeben wird, sobald sie die Lernsession beenden. Überleg Dir, wie Du diese Übersicht visuell ansprechend formatieren kannst. Folgender Screenshot ist eine Idee, Du kannst die Ausgabe auch gerne anders gestalten:\n",
    "   \n",
    "<img src=\"../../3_Dateien/Grafiken_und_Videos/Formatierung.png\" width=\"300\"/>"
   ]
  },
  {
   "cell_type": "code",
   "execution_count": null,
   "id": "63a09fc6-3b58-4df4-9807-f9f13dec6074",
   "metadata": {
    "tags": []
   },
   "outputs": [],
   "source": [
    "#Dokumentation s. o.\n",
    "with open(\"../../3_Dateien/Tabellarische_Daten/de_sv.csv\", encoding=\"utf-8\") as read_file:\n",
    "    \n",
    "    de_sv = {} \n",
    "\n",
    "    next(read_file) \n",
    "\n",
    "    for line in read_file:\n",
    "        de, sv = line.split(\",\")\n",
    "        de_sv[de] = sv.strip() \n",
    "\n",
    "def vocab_trainer():\n",
    "    \n",
    "    correctly_translated, incorrectly_translated = [], [] #Initialisieren zweier Listen für (in)korrekt übersetzte Vokabeln\n",
    "    \n",
    "    while True:\n",
    "\n",
    "        print(\"Hej! Mit mir kannst Du Schwedisch lernen! Wenn Du genug gelernt hast, gib einfach 'X' ein.\")\n",
    "    \n",
    "        learnt_during_iteration = []\n",
    "            \n",
    "        for word, translation in de_sv.items():\n",
    "            \n",
    "            prompt = \"Wie sagt man '\" + word + \"' auf Schwedisch?\" \n",
    "    \n",
    "            answer = input(prompt)\n",
    "\n",
    "            if answer == \"X\":\n",
    "                \n",
    "                \"\"\"Für eine ansprechende Übersicht von (in)korrekt übersetzten Vokabeln verwenden wir f-strings, und genauer,\n",
    "                die Angabe eines digit space von 20 Zeichen pro Wort und Sprache. Um eine Tabelle zu imitieren, lassen wir uns\n",
    "                am vertikalen Anfang und Ende der jeweiligen Übersicht '-' 40 Mal ausgeben (komplexer Ausdruck), \n",
    "                jeweils mit '|' am horizontalen Anfang, in der Mitte sowie am Ende.\"\"\"\n",
    "                \n",
    "                print(f\"\\nDiese Vokabeln hast Du korrekt übersetzt:\\n\")\n",
    "                print(f\"|{'–'*20}|{'-'*20}|\")\n",
    "                print(f\"| {'Deutsch':19}| {'Schwedisch':19}|\")\n",
    "                print(f\"|{'-'*20}|{'-'*20}|\")\n",
    "\n",
    "                for word in correctly_translated:\n",
    "                    print(f\"| {word:19}| {de_sv[word]:19}|\")\n",
    "\n",
    "                print(f\"|{'-'*20}|{'-'*20}|\")\n",
    "\n",
    "\n",
    "                print(f\"\\nDiese Vokabeln hast Du falsch übersetzt:\\n\")\n",
    "                print(f\"|{'–'*20}|{'-'*20}|\")\n",
    "                print(f\"| {'Deutsch':19}| {'Schwedisch':19}|\")\n",
    "                print(f\"|{'-'*20}|{'-'*20}|\")\n",
    "\n",
    "                for word in incorrectly_translated:\n",
    "                    print(f\"| {word:19}| {de_sv[word]:19}|\")\n",
    "\n",
    "                print(f\"|{'-'*20}|{'-'*20}|\")\n",
    "                \n",
    "                return(\"Tschüss / Hejdå!\")\n",
    "            \n",
    "            if answer == translation:\n",
    "                print(\"Korrekt! 🥳\")\n",
    "                learnt_during_iteration.append(word)\n",
    "                correctly_translated.append(word)\n",
    "            else:\n",
    "                print(\"Das war leider falsch 😅. Richtig wäre '\" + translation + \"' gewesen!\")\n",
    "                incorrectly_translated.append(word)\n",
    "        \n",
    "        for learnt_word in learnt_during_iteration:\n",
    "            de_sv.pop(learnt_word)\n",
    "            \n",
    "        if len(de_sv) < 1:\n",
    "            print(\"Du kannst alle Vokabeln! 🎉\")\n",
    "            break\n",
    "\n",
    "vocab_trainer() "
   ]
  },
  {
   "cell_type": "markdown",
   "id": "6d4bce57-09f2-49e0-bfc8-3a86988c9421",
   "metadata": {
    "deletable": false,
    "editable": false
   },
   "source": [
    "***\n",
    "✏️ **Übung 10:** Wirklich gute Texte bringen die Sache tatsächlich auch jeweils klar auf den Punkt.\n",
    "\n",
    "Dieser Satz ist wahr, aber schlecht formuliert, da fünf von dreizehn Wörtern Füllwörter sind. Füllwörter tragen wenig zur Aussage eines Satzes bei und schmälern dadurch insgesamt seine Aussagekraft. In dieser Übung kannst Du überprüfen, wie es um von Dir verfasste Texte in Bezug auf Füllwörter steht. Such Dir dazu einen längeren Text aus (z.&nbsp;B. eine Seminararbeit). Es soll sich um eine Microsoft Word-Datei handeln.\n",
    "    \n",
    "1. Installier das Modul `docx2txt` über das Terminal bzw. die Eingabeaufforderung (```pip3 install docx2txt```) und importier es anschließend hier. Deinen Text kannst Du mihilfe der Funktion `process` unter Angabe seines Dateipfads einlesen, also so: ```docx2txt.process(path)```. Splitte Deinen Text in Wörter und nimm sinnvolle Preprocessing-Schritte vor.\n",
    "2. Lies die Datei \"fuellwoerter.txt\" aus dem gleichnamigen Ordner ein und schaff eine Liste mit Füllwörtern.\n",
    "3. Zähl sämtliche Füllwörter in Deinem Text aus und lass Dir die zehn häufigsten Füllwörter inklusive ihrer Vorkommenshäufigkeit ausgeben.\n"
   ]
  },
  {
   "cell_type": "code",
   "execution_count": null,
   "id": "df7ee196-a69b-4ced-a3b7-a490214e605e",
   "metadata": {},
   "outputs": [],
   "source": [
    "import docx2txt\n",
    "\n",
    "text = docx2txt.process(\"path\") #Füg hier den Pfad zu Deinem Text ein.\n",
    "\n",
    "'''List Comprehension zum Preprocessing: Zuerst wird der Text kleingeschrieben und in Wörter aufgesplittet \n",
    "('lower' und 'split'), anschließend werden die Wörter von Satz- und Sonderzeichen ('strip') befreit und der \n",
    "Liste 'words_preprocessed' angefügt.'''\n",
    "words_preprocessed = [word.strip(\".?!,():;-/’`´-–\") for word in text.lower().split()]\n",
    "\n",
    "#Einlesen der Füllwörter\n",
    "with open(\"../../3_Dateien/Fuellwoerter/fuellwoerter.txt\") as f:\n",
    "    fillers = [word.strip().lower() for word in f.readlines()] #Anhängen der bereinigten Füllwörter an 'fillers'\n",
    "        \n",
    "fillers_dict = {} #Initialisieren eines leeren dictionary, dem wir nach und nach Füllwort-Vorkommen-Paare anhängen\n",
    "#Iterieren über die einzelnen Füllwörter \n",
    "for filler in fillers:\n",
    "    \"\"\"Schaffen eines neuen Schlüssel-Werte-Paars in 'filler_dict' mit dem jeweiligen Füllwort als Schlüssel \n",
    "    und dessen Vorkommen (ermittelt über 'count') als Wert\"\"\"\n",
    "    fillers_dict[filler] = words_preprocessed.count(filler)\n",
    "\n",
    "fillers_sorted = sorted(fillers_dict.items(), key=lambda x: x[1], reverse=True) #Absteigendes Sortieren von 'fillers_dict' nach Werten \n",
    "fillers_sorted[0:10] #Ausgabe der ersten zehn Elemente auf 'fillers_sorted'"
   ]
  },
  {
   "cell_type": "markdown",
   "id": "f1b8a102-e83a-4d91-9483-bed4e5168792",
   "metadata": {
    "deletable": false,
    "editable": false
   },
   "source": [
    "***\n",
    "✏️ **Übung 11:** Es gibt ja diese Theorie, dass man die Reihenfolge der Buchstaben in Wörtern zufällig mischen kann. Solange der erste und letzte Buchstabe erhalten bleiben, können wir das Wort trotzdem flüssig lesen. Überprüfen wir das an dieser Aufgabenstellung. Schreib dazu einen Code, der die Buchstaben in den Wörtern dieser Aufgabenstellung zufällig mischt, wobei der jeweilige Anfangs- und Endbuchstabe eines Wortes gleich bleiben sollen. Die Reihenfolge der Wörter soll natürlich ebenfalls gleich bleiben. Zur zufälligen Mischung kannst Du wie oben die Funktion ```shuffle``` des Moduls ```random``` benutzen. Zeig das Resultat einer uneingeweihten Person und schau, ob diese den manipulierten Text lesen kann."
   ]
  },
  {
   "cell_type": "code",
   "execution_count": null,
   "id": "c36ccb37-93ba-4da5-ad75-0a2291161bb7",
   "metadata": {},
   "outputs": [],
   "source": [
    "text = \"Es gibt ja diese Theorie, dass man die Reihenfolge der Buchstaben in Wörtern zufällig mischen kann. Solange der erste und letzte Buchstabe erhalten bleiben, können wir das Wort trotzdem flüssig lesen. Überprüfen wir das an dieser Aufgabenstellung. Schreib dazu einen Code, der die Buchstaben in den Wörtern dieser Aufgabenstellung zufällig mischt, wobei der jeweilige Anfangs- und Endbuchstabe eines Wortes gleich bleiben sollen. Die Reihenfolge der Wörter soll natürlich ebenfalls gleich bleiben. Zur zufälligen Mischung kannst Du wie oben die Funktion shuffle des Moduls random benutzen. Zeig das Resultat einer uneingeweihten Person und schau, ob diese den manipulierten Text lesen kann.\"\n",
    "\n",
    "import random\n",
    "\n",
    "#Splitten des Textes in Wörter sowie Entfernen von Satzzeichen bei sämtlichen Wörtern\n",
    "words = [word.strip(\",.-\") for word in text.split()] \n",
    "\n",
    "#Iterieren über die einzelnen Wörter\n",
    "for word in words:\n",
    "    \"\"\"Überprüfen, ob das Wort aus mehr als drei Buchstaben besteht (da wir ja nur wortinterne Buchstaben mischen wollen;\n",
    "    bei drei Buchstaben kann sich die Position des einzigen wortinternen Buchstaben ja nicht verändern)\"\"\"\n",
    "    if len(word) > 3:\n",
    "        first_letter = word[0] #Extrahieren des Anfangsbuchstabens\n",
    "        last_letter = word[-1] #Extrahieren des Endbuchstabens\n",
    "        internal_letters = list(word[1:-1]) #Splitten der wortinternen Buchstaben mithilfe von 'list'\n",
    "        random.shuffle(internal_letters) #Zufälliges Mischen der wortinternen Buchstaben\n",
    "        internal_letters = \"\".join(internal_letters) #Wiederzusammenfügen der gemischten Buchstaben zu einem string\n",
    "        #Konkatenation aller Buchstaben, wobei 'end=\"\"' spezifiziert, dass am Ende der Ausgabe kein Zeilenumbruch stehen soll\n",
    "        print(first_letter + internal_letters + last_letter + \" \", end=\"\") \n",
    "    else:\n",
    "        print(word + \" \", end=\"\") #Ausgabe von zu kurzen Wörtern"
   ]
  },
  {
   "cell_type": "markdown",
   "id": "8eb15684-4fca-4b78-a7a4-025c1f581693",
   "metadata": {
    "deletable": false,
    "editable": false
   },
   "source": [
    "***\n",
    "✏️ <b>Übung 12 (🦊 fortgeschritten):</b> Kennst Du das Spiel *Wordle*? Ziel ist es, ein Wort mit fünf Buchstaben in maximal sechs Versuchen zu erraten. Bei jedem geratenen Wort erfährt man, welche Buchstaben darin auch im gesuchten Wort vorkommen sowie, ob sie bereits an der richtigen Stelle stehen. Mit diesen Hinweisen kann man sich von Versuch zu Versuch dem Wort nähern. \n",
    "\n",
    "Programmier dieses Spiel selbst und lass andere Wörter raten. Mach Dich entweder ganz selbstständig an die Aufgabe oder lass Dich von den Tipps inspirieren."
   ]
  },
  {
   "cell_type": "code",
   "execution_count": null,
   "id": "c062e82c-f0de-4d63-9bdf-8e22930fc46f",
   "metadata": {},
   "outputs": [],
   "source": [
    "import random #Import von 'random' zur zufälligen Auswahl eines Wortes beim Ausführen des Codes\n",
    "\n",
    "#Definieren einer Liste an fünfbuchstabigen, zu erratenden Wörtern\n",
    "words = [\n",
    "    \"Apfel\", \"Sonne\", \"Katze\", \"Runde\", \"Lampe\",\n",
    "    \"Blatt\", \"Hunds\", \"Tisch\", \"Blume\", \"Ideal\",\n",
    "    \"Pferd\", \"Kohle\", \"Punkt\", \"Licht\", \"Zunge\",\n",
    "    \"Hafen\", \"Wiese\", \"Wurst\", \"Vogel\", \"Tonne\"]\n",
    "\n",
    "words = [word.lower() for word in words] #Kleinschreiben der Wörter, damit das Raten nicht an Groß-/Kleinschreibung scheitert\n",
    "word = random.choice(words) #Zufällige Auswahl eines zu erratenden Worts\n",
    "\n",
    "def worttiger(guess, word):\n",
    "    \"\"\"Funktion gibt Feedback zu eingegebenem Wort je nach zu erratendem Wort\"\"\"\n",
    "    output = \"\" #Zunächst leeres Feedback, das bei der Iteration über jeden Buchstaben des geratenen Worts 'guess' um das relevante \"Feedbackzeichen\" ergänzt wird\n",
    "    for i in range(len(guess)):\n",
    "        if guess[i] == word[i]:\n",
    "            output += \"🟩\" #bei korrektem Buchstaben an korrekter Stelle\n",
    "        elif guess[i] in word:\n",
    "            output += \"🟨\" #bei korrektem Buchstaben an falscher Stelle\n",
    "        elif guess[i] not in word:\n",
    "            output += \"⬜️\" #bei falschem Buchstaben\n",
    "    return output\n",
    "\n",
    "print(\"Hi! Du musst in sechs Versuchen ein fünfbuchstabiges Wort erraten.\") #Ausgabe von Begrüssung und Aufgabenstellung\n",
    "\n",
    "c = 1 #Definieren einer Zählervariablen, um Anzahl Versuche mit 'while'-Schleife auf sechs zu begrenzen\n",
    "while c < 7:\n",
    "    guess = input(f\"{c}. Versuch: \").lower() #Spieler:in wird zum Raten eines Worts aufgefordert, Wort wird kleingeschrieben in 'guess' gespeichert\n",
    "    \n",
    "    #Überprüfen, ob eingegebenes Wort wirklich fünf Buchstaben umfasst\n",
    "    if len(guess) != 5:\n",
    "        print(\"Kein gültiges Wort!\") #Information an Spieler:in\n",
    "        continue #Versuch kann wiederholt werden, daher 'continue'\n",
    "\n",
    "    trial = worttiger(guess, word) #Übergabe von 'guess' und 'word' an Funktion 'worttiger' für Feedback\n",
    "    print(trial) #Output der Funktion, also das Feedback, wird Spieler:in angezeigt\n",
    "    c += 1 #Erhöhen der Zählervariablen nach jedem Durchlauf\n",
    "    \n",
    "    if trial == \"🟩🟩🟩🟩🟩\": #Beenden des Spiels, wenn Wort erraten wurde (d. h. Abbruch der Schleife)\n",
    "        print(\"Super gemacht!\")\n",
    "        break\n",
    "\n",
    "#Wenn das Wort nicht innerhalb von sechs Versuchen erraten wurde: Ausgabe des gesuchten Worts\n",
    "if c == 7:\n",
    "    print(f\"Schade! Das gesuchte Wort war: {word.capitalize()}\")\n",
    "    "
   ]
  },
  {
   "cell_type": "markdown",
   "id": "9087b411-3b49-4b5f-bc5d-0670c8959ac7",
   "metadata": {
    "deletable": false,
    "editable": false
   },
   "source": [
    "***\n",
    "<table>\n",
    "      <tr>\n",
    "        <td>\n",
    "            <img src=\"../../3_Dateien/Lizenz/CC-BY-SA.png\" width=\"400\">\n",
    "        </td> \n",
    "        <td>\n",
    "            <p>Dieses Notebook sowie sämtliche weiteren <a href=\"https://github.com/yannickfrommherz/exdimed-student/tree/main\">Materialien zum Programmierenlernen für Geistes- und Sozialwissenschaftler:innen</a> sind im Rahmen des Projekts <i>Experimentierraum Digitale Medienkompetenz</i> als Teil von <a href=\"https://tu-dresden.de/gsw/virtuos/\">virTUos</a> entstanden. Erstellt wurden sie von Yannick Frommherz unter Mitarbeit von Anne Josephine Matz. Sie stehen als Open Educational Resource nach <a href=\"https://creativecommons.org/licenses/by-sa/4.0/\">CC BY SA</a> zur freien Verfügung. Für Feedback und bei Fragen nutz bitte das <a href=\"https://forms.gle/VsYJgy4bZTSqKioA7\">Kontaktformular</a>.\n",
    "        </td>\n",
    "      </tr>\n",
    "</table>"
   ]
  }
 ],
 "metadata": {
  "kernelspec": {
   "display_name": "Python 3 (ipykernel)",
   "language": "python",
   "name": "python3"
  },
  "language_info": {
   "codemirror_mode": {
    "name": "ipython",
    "version": 3
   },
   "file_extension": ".py",
   "mimetype": "text/x-python",
   "name": "python",
   "nbconvert_exporter": "python",
   "pygments_lexer": "ipython3",
   "version": "3.11.5"
  }
 },
 "nbformat": 4,
 "nbformat_minor": 5
}