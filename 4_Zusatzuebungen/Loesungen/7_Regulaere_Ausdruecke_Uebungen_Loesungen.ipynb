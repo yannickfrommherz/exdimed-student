{
 "cells": [
  {
   "cell_type": "markdown",
   "id": "b564f25e-d7f5-493e-89a0-0b4ed8053686",
   "metadata": {
    "deletable": false,
    "editable": false
   },
   "source": [
    "# Lösungen zu den Zusatzübungen zum Notebook \"Reguläre Ausdrücke\"\n",
    "\n",
    "☝️ Beachte: Es gibt beim Programmieren fast immer verschiedene Lösungswege. Deine Lösung mag anders aussehen, aber dennoch zum gewünschten Resultat führen. Das richtige Resultat ist das Wichtigste. \n",
    "\n",
    "⚠️ Trag auch hier Deine Mailadresse ein und führ anschließend folgenden Code aus."
   ]
  },
  {
   "cell_type": "code",
   "execution_count": null,
   "id": "154036fb-a993-4da5-b86e-2bec51a92f26",
   "metadata": {
    "tags": []
   },
   "outputs": [],
   "source": [
    "mail_address = \"\" #Trag hier Deine Mailadresse ein.\n",
    "\n",
    "import wikipediaapi, re #Kein Bindestrich beim Import\n",
    "\n",
    "#Initialisieren der Schnittstelle mittels Angabe von 'user_agent', Sprache und Extraktionsformat \n",
    "Wiki_API = wikipediaapi.Wikipedia(user_agent=f\"Programmierenlernen, {mail_address}\", language=\"de\", extract_format=wikipediaapi.ExtractFormat.WIKI)\n",
    "qp = Wiki_API.page('Quantenphysik').text #Eigentliche Abfrage des angegebenen Artikels"
   ]
  },
  {
   "cell_type": "markdown",
   "id": "f6ff9468-c8b4-449e-afda-689dc6836908",
   "metadata": {
    "deletable": false,
    "editable": false
   },
   "source": [
    "2. Nun steht uns der Inhalt des Artikels als string-Objekt in ```qp``` zur Verfügung und wir können reguläre Ausdrücke üben. \n",
    "\n",
    "    Extrahier als Erstes alle Wörter bestehend aus mindestens 20 Buchstaben.\n"
   ]
  },
  {
   "cell_type": "code",
   "execution_count": null,
   "id": "4feceb67-52e6-4d1e-b2b4-070c41329795",
   "metadata": {
    "tags": []
   },
   "outputs": [],
   "source": [
    "#Unter \"Wortzeichen\" werden im Folgenden alle Buchstaben des dt. Alphabets verstanden.\n",
    "regex = r\"[a-zäöüß]{20,}\" #Matcht 20 oder mehr aufeinanderfolgende Wortzeichen\n",
    "long_words = re.findall(regex, qp, re.I) #Keine Beachtung von Groß- und Kleinschreibung\n",
    "print(\", \".join(long_words))"
   ]
  },
  {
   "cell_type": "markdown",
   "id": "f0eb4a9f-8eb4-43e7-a70e-3fcb05af0c3a",
   "metadata": {
    "deletable": false,
    "editable": false
   },
   "source": [
    "3. Lass Dir nun alle einzigartigen kleingeschriebenen Wörter in ```qp``` bestehend aus zwei oder drei Buchstaben ausgeben."
   ]
  },
  {
   "cell_type": "code",
   "execution_count": null,
   "id": "2cfce3fb-0dbc-401b-95f1-015a606b2a42",
   "metadata": {
    "tags": []
   },
   "outputs": [],
   "source": [
    "regex = r\"\\b[a-zäöüß]{2,3}\\b\" #Matcht Wörter bestehend aus zwei oder drei Wortzeichen, umgeben von Wortgrenzen\n",
    "short_words = re.findall(regex, qp) #Keine Beachtung von Groß- und Kleinschreibung\n",
    "print(\", \".join(set(short_words))) #Ausgeben des Sets von short_words"
   ]
  },
  {
   "cell_type": "markdown",
   "id": "102c1d87-697d-4e83-a1d5-25b31c64e547",
   "metadata": {
    "deletable": false,
    "editable": false
   },
   "source": [
    "4. Schaff eine Liste mit allen Wörtern mit Bindestrich (z.&nbsp;B. \"Wikipedia-Artikel\") in ```qp```."
   ]
  },
  {
   "cell_type": "code",
   "execution_count": null,
   "id": "974e262a-efdc-4c2d-a693-e61c20c2d6c4",
   "metadata": {
    "tags": []
   },
   "outputs": [],
   "source": [
    "\"\"\"Matcht ein oder mehrere Wortzeichen, gefolgt von einem Bindestrich, gefolgt von einem oder mehreren Wortzeichen,\n",
    "optional gefolgt von einem Bindestrich, optional gefolgt von einem oder mehreren Wortzeichen\n",
    "(Optionen ermöglichen Matchen von dreigliedrigen Substantiven)\"\"\"\n",
    "regex = r\"[a-zäöüß]+-[a-zäöüß]+-?[a-zäöüß]*\" #Alternativ: regex = r\"\\S+-\\S+-?\\S*\\b\" (matcht aber auch ISBN-Nummern)\n",
    "hyphenated = re.findall(regex, qp, re.I) #Keine Beachtung von Groß- und Kleinschreibung\n",
    "print(\", \".join(hyphenated))"
   ]
  },
  {
   "cell_type": "markdown",
   "id": "456a3ad9-437a-495b-a4e6-91bb4be67200",
   "metadata": {
    "deletable": false,
    "editable": false
   },
   "source": [
    "5. Extrahier aus ```qp``` sämtliche Wörter mit Großbuchstaben am Anfang, die mindestens vier Buchstaben lang sind. Lass sie Dir alphabetisch ausgeben."
   ]
  },
  {
   "cell_type": "code",
   "execution_count": null,
   "id": "a1a84976-7e53-4514-a1cd-ef13676b5800",
   "metadata": {
    "tags": []
   },
   "outputs": [],
   "source": [
    "\"\"\"Matcht ein großgeschriebenes Wortzeichen, gefolgt von drei oder mehr kleingeschriebenen Zeichen,\n",
    "die nicht whitespace sind, gefolgt von einer Wortgrenze (um das Matchen von Kommata oder Punkten zu verhindern)\"\"\"\n",
    "regex = r\"[A-ZÄÖÜ]\\S{3,}\\b\"\n",
    "capitalized = re.findall(regex, qp) #Groß- und Kleinschreibung wird beachtet\n",
    "print(sorted(capitalized)[0:10]) #Alphabetische Ausgabe der ersten zehn Elemente"
   ]
  },
  {
   "cell_type": "markdown",
   "id": "c69bc0e9-c40d-4645-a4cb-cc2444464633",
   "metadata": {
    "deletable": false,
    "editable": false
   },
   "source": [
    "6. Identifizier alle Substantivpaare in ```qp```, die mit \"und\" verbunden sind (z.&nbsp; B. \"Phänomene und Effekte\")."
   ]
  },
  {
   "cell_type": "code",
   "execution_count": null,
   "id": "85a5e2ca-5ae4-4c0a-a2ed-6726cec29f8a",
   "metadata": {
    "tags": []
   },
   "outputs": [],
   "source": [
    "\"\"\"Matcht ein großgeschriebenes Wortzeichen, gefolgt von einem oder mehreren kleingeschriebenen Wortzeichen, whitespace,\n",
    "literal 'und', whitespace, gefolgt von einem großgeschriebenen Wortzeichen, gefolgt von einem oder mehreren \n",
    "kleingeschriebenen Wortzeichen\"\"\"\n",
    "regex = r\"[A-ZÄÖÜ][a-zäöüß]+\\sund\\s[A-ZÄÖÜ][a-zäöüß]+\"\n",
    "x_and_y = re.findall(regex, qp) #Groß- und Kleinschreibung wird beachtet\n",
    "print(x_and_y)"
   ]
  },
  {
   "cell_type": "markdown",
   "id": "52ae0eb7-d3ef-4a25-afcf-5624ed7de94f",
   "metadata": {
    "deletable": false,
    "editable": false
   },
   "source": [
    "7. Find sämtliche Klammerbemerkungen in ```qp```. \n",
    "\n",
    "    💡Erinnerung: Uneingeschränkte Quantifikatoren matchen so viele Zeichen wie möglich, d.&nbsp; h. ```re``` findet den längstmöglichen match. Kommt nach einer schließenden Klammer später im abzusuchenden Text noch einmal eine schließende Klammer (und unter der Voraussetzung, dass alles dazwischen ebenfalls gematcht werden kann), so matcht ```re``` den gesamten Abschnitt von der ersten öffnenden Klammer bis zur letzten schließenden Klammer. Um diese *Gier* zu bändigen (und die einzelnen Klammerbemerkungen separat zu matchen), können wir dem Quantifikator wie erwähnt ein ```?``` anfügen. Dann matcht ```re``` nur so viele Zeichen wie nötig, um einen vollständigen match zu erreichen."
   ]
  },
  {
   "cell_type": "code",
   "execution_count": null,
   "id": "623b5dbd-ef7c-4ff6-b928-a08acde1319a",
   "metadata": {
    "tags": []
   },
   "outputs": [],
   "source": [
    "\"\"\"Matcht eine öffnende Klammer (escaped mittels backslash), gefolgt von beliebig vielen beliebigen Zeichen \n",
    "(aber nur so viele, bis der erste vollständige match vorliegt, Gier wird durch ? im Anschluss an den Quantifikator *\n",
    "beschränkt), gefolgt von einer schließenden Klammer (escaped)\"\"\"\n",
    "regex = r\"\\(.*?\\)\"\n",
    "brackets = re.findall(regex, qp, re.I) #Keine Beachtung von Groß- und Kleinschreibung\n",
    "print(\", \".join(brackets))"
   ]
  },
  {
   "cell_type": "markdown",
   "id": "242664f2-b08c-4f28-b38b-a7147d960e40",
   "metadata": {
    "deletable": false,
    "editable": false
   },
   "source": [
    "8. An welcher Stelle und in welchem Wort in ```qp``` taucht \"theorie\" zum ersten Mal auf?"
   ]
  },
  {
   "cell_type": "code",
   "execution_count": null,
   "id": "4f6647db-6118-4b60-a68e-c4ee1cc02c23",
   "metadata": {
    "tags": []
   },
   "outputs": [],
   "source": [
    "regex = r\"\\S*theorie\" #Beliebig viele nicht-whitespace-Zeichen, gefolgt von literal \"theorie\"\n",
    "match = re.search(regex, qp) #'search' findet den ersten match\n",
    "print(match.span(), match.group()) #Ausgabe von Indizes und match"
   ]
  },
  {
   "cell_type": "markdown",
   "id": "e941fc78-a962-4859-a47e-e7d778d5812f",
   "metadata": {
    "deletable": false,
    "editable": false
   },
   "source": [
    "9. Erstell eine Häufigkeitsverteilung über alle Zahlen in ```qp```. "
   ]
  },
  {
   "cell_type": "code",
   "execution_count": null,
   "id": "00e6abbd-ca4b-4d5d-8e27-f4c244934a4a",
   "metadata": {
    "tags": []
   },
   "outputs": [],
   "source": [
    "numbers_regex = r\"\\d+\" #Matcht eine Zahl oder mehrere aufeinanderfolgende Zahlen\n",
    "numbers = re.findall(numbers_regex, qp)\n",
    "\n",
    "import pandas as pd\n",
    "\n",
    "numbers_df = pd.Series(numbers) #Konvertieren in eine Series (DataFrame wäre auch möglich)\n",
    "numbers_df.value_counts().head(10) #Erstellen einer Häufigkeitsverteilung und Ausgabe der obersten zehn Einträge"
   ]
  },
  {
   "cell_type": "markdown",
   "id": "0c41e28b-0453-49b6-8f34-073d0127d1e9",
   "metadata": {
    "deletable": false,
    "editable": false
   },
   "source": [
    "10. Tausch die Position der beiden Substantive in allen in Übung 6 ermittelten Substantivpaaren in `qp`. Statt \"Phänomene und Effekte\" soll \"Effekte und Phänomene\" im Text stehen etc."
   ]
  },
  {
   "cell_type": "code",
   "execution_count": null,
   "id": "75ece6d7-daa2-4e47-b99a-715540f1a49a",
   "metadata": {
    "tags": []
   },
   "outputs": [],
   "source": [
    "x_and_y_regex = r\"([A-ZÄÖÜ][a-zäöüß]+)\\sund\\s([A-ZÄÖÜ][a-zäöüß]+)\" #Gleicher Ausdruck wie oben, ergänzt um Klammern für Teilmatches \n",
    "replacement = r\"\\2 und \\1\"\n",
    "qp = re.sub(x_and_y_regex, replacement, qp) #Groß- und Kleinschreibung wird beachtet\n",
    "print(qp[0:100]) #Beachte: Bei jeder Ausführung wird die Reihenfolge erneut getauscht!"
   ]
  },
  {
   "cell_type": "markdown",
   "id": "a091a5f8-6feb-48b8-b3ed-1bbb4cb8469a",
   "metadata": {
    "deletable": false,
    "editable": false
   },
   "source": [
    "***\n",
    "<table>\n",
    "      <tr>\n",
    "        <td>\n",
    "            <img src=\"../../3_Dateien/Lizenz/CC-BY-SA.png\" width=\"400\">\n",
    "        </td> \n",
    "        <td>\n",
    "            <p>Dieses Notebook sowie sämtliche weiteren <a href=\"https://github.com/yannickfrommherz/exdimed-student/tree/main\">Materialien zum Programmierenlernen für Geistes- und Sozialwissenschaftler:innen</a> sind im Rahmen des Projekts <i>Experimentierraum Digitale Medienkompetenz</i> als Teil von <a href=\"https://tu-dresden.de/gsw/virtuos/\">virTUos</a> entstanden. Erstellt wurden sie von Yannick Frommherz unter Mitarbeit von Anne Josephine Matz. Sie stehen als Open Educational Resource nach <a href=\"https://creativecommons.org/licenses/by-sa/4.0/\">CC BY SA</a> zur freien Verfügung.\n",
    "        </td>\n",
    "      </tr>\n",
    "</table>"
   ]
  }
 ],
 "metadata": {
  "kernelspec": {
   "display_name": "Python 3 (ipykernel)",
   "language": "python",
   "name": "python3"
  },
  "language_info": {
   "codemirror_mode": {
    "name": "ipython",
    "version": 3
   },
   "file_extension": ".py",
   "mimetype": "text/x-python",
   "name": "python",
   "nbconvert_exporter": "python",
   "pygments_lexer": "ipython3",
   "version": "3.11.5"
  }
 },
 "nbformat": 4,
 "nbformat_minor": 5
}