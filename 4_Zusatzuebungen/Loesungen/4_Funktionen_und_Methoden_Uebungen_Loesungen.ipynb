{
 "cells": [
  {
   "cell_type": "markdown",
   "id": "bef6feaf-f8f4-4089-927b-e915698c0cc4",
   "metadata": {
    "deletable": false,
    "editable": false
   },
   "source": [
    "# Lösungen zu den Zusatzübungen zum Notebook \"Funktionen und Methoden\"\n",
    "\n",
    "☝️ Beachte: Es gibt beim Programmieren fast immer verschiedene Lösungswege. Deine Lösung mag anders aussehen, aber dennoch zum gewünschten Resultat führen. Das richtige Resultat ist das Wichtigste. "
   ]
  },
  {
   "cell_type": "markdown",
   "id": "6e9b6d75-1c71-4327-947c-f46118b7b2bb",
   "metadata": {
    "deletable": false,
    "editable": false
   },
   "source": [
    "1. Identifizier für sämtliche der folgenden Befehle, ob darin eine Funktion oder eine Methode verwendet wird. Überleg Dir zusätzlich, warum `reverse.count(\"e\")` nicht immer den gleichen Wert zurückgibt."
   ]
  },
  {
   "cell_type": "code",
   "execution_count": null,
   "id": "6dd0ed79-ddb0-44dc-91f2-e091249b7a6b",
   "metadata": {
    "tags": []
   },
   "outputs": [],
   "source": [
    "import random\n",
    "string  = \"Benutzen wir hier eine Funktion oder doch eine Methode?\"\n",
    "\n",
    "#Hier geht's los:\n",
    "length = len(string) #Funktion\n",
    "lowered = string.lower() #Methode\n",
    "a_list = list(lowered) #Funktion\n",
    "random.shuffle(a_list) \n",
    "\"\"\"Funktion! 'random' ist ein Modul, das oben importiert wurde,\n",
    "'shuffle' ist eine Funktion des Moduls. Damit Python weiß, wo sich die Funktion befindet, \n",
    "müssen wir erst den Modulnamen angeben, gefolgt von einem Punkt und dem Funktionsnamen.\"\"\"\n",
    "shuffled_string = \"\".join(a_list) #Methode\n",
    "titled = shuffled_string.title() #Methode\n",
    "reverse = titled[::-1] \n",
    "\"\"\"Weder Funktion noch Methode, sondern ganz einfach Slicing \n",
    "(das gleiche Resultat hätten wir aber mit der 'reverse'-Methode erreichen können)\"\"\"\n",
    "reverse.count(\"e\") #Methode"
   ]
  },
  {
   "cell_type": "markdown",
   "id": "f5484083-7b88-4d30-a741-69114dfa5de2",
   "metadata": {
    "deletable": false,
    "editable": false
   },
   "source": [
    "- Warum `reverse.count(\"e\")` unterschiedliche Werte zurückgibt: Die Werte variieren, da wir nur das kleingeschriebene \"e\" zählen. Je nach dem, welche Buchstaben durch `random.shuffle(a_list)` und `\"\".join(a_list)` am Anfang eines \"Wortes\" stehen, werden jeweils andere Buchstaben durch `shuffled_string.title()` großgeschrieben. Fallen ein oder mehrere \"e\" darunter, werden diese dann bei `reverse.count(\"e\")` nicht mitgezählt."
   ]
  },
  {
   "cell_type": "markdown",
   "id": "e1efbacb-000d-45d3-ac6a-794d170651b5",
   "metadata": {
    "deletable": false,
    "editable": false
   },
   "source": [
    "2. Find alle in Klammern stehenden Wörter im Koalitionsvertrag von 2021 (z.&nbsp;B. \"(SPD)\") und speicher sie ohne die Klammern auf einer Liste. Mehrere Wörter bzw. Sätze in Klammern kannst Du ignorieren. Die Länge der Liste sollte 104 betragen. Wie viele einzigartige Wörter in Klammern kommen im Text vor?\n",
    "\n",
    "    📌 Herausforderung: Formulier Deinen Code als List Comprehension **in einer einzigen Zeile**. Das Öffnen und Einlesen der Datei sowie die Ausgabe der Resultate sind von der Zeilenbegrenzung ausgenommen."
   ]
  },
  {
   "cell_type": "code",
   "execution_count": null,
   "id": "0298f9f4-a6d1-49e8-ba2c-28564b78e23d",
   "metadata": {
    "tags": []
   },
   "outputs": [],
   "source": [
    "#Achtung: anderer Pfad als im Notebook, da das Lösungsnotebook in einem anderen Verzeichnis liegt\n",
    "with open(\"../../3_Dateien/Koalitionsvertraege/koalitionsvertrag_2021.txt\", encoding=\"utf-8\") as g:\n",
    "    kv21 = g.read()\n",
    "    \n",
    "words = kv21.split() #Tokenisieren von 'kv21'\n",
    "\n",
    "in_parenthesis = [] #Initialisieren einer leeren Liste, an die wir Wörter in Klammern anhängen\n",
    "#Iteration über die einzelnen Wörter\n",
    "for word in words:\n",
    "    \"\"\"Überprüfen, ob erstes und letztes Zeichen des jeweiligen Wortes Klammern sind: \n",
    "    Wenn ja, wird das Wort von Klammern (mittels 'strip') befreit 'in_parenthesis' angehängt.\n",
    "    Anstatt Indexing könnten wir auch die Methoden 'startswith' und 'endswith' benutzen (s. u.).\"\"\"\n",
    "    if word[0] == \"(\" and word[-1] == \")\":\n",
    "        in_parenthesis.append(word.strip(\"()\"))\n",
    "\n",
    "#Ausgabe der Länge der Liste bzw. der Anzahl an einzigartigen Elementen auf der Liste\n",
    "print(len(in_parenthesis), len(set(in_parenthesis)))\n",
    "\n",
    "#Herausforderung\n",
    "in_parenthesis_lc = [word.strip(\"()\") for word in kv21.split() if word.startswith(\"(\") and word.endswith(\")\")]\n",
    "print(len(in_parenthesis_lc), len(set(in_parenthesis_lc)))"
   ]
  },
  {
   "cell_type": "markdown",
   "id": "a53e091e-5ccc-4319-8b87-87463cb00eb2",
   "metadata": {
    "deletable": false,
    "editable": false
   },
   "source": [
    "3. Schreib den Koalitionsvertrag von 2021 in umgekehrter Wortreihenfolge. Das letzte Wort soll an erster Stelle stehen, das zweitletzte an zweiter, etc. Lass Dir den umgekehrten Text bis einschließlich des ersten Vorkommens des Wortes \"Vorschlagsrecht\" ausgeben."
   ]
  },
  {
   "cell_type": "code",
   "execution_count": null,
   "id": "c274e500-3bb3-4906-a508-e6724a46dc03",
   "metadata": {
    "tags": []
   },
   "outputs": [],
   "source": [
    "#Achtung: anderer Pfad als im Notebook, da das Lösungsnotebook in einem anderen Verzeichnis liegt\n",
    "with open(\"../../3_Dateien/Koalitionsvertraege/koalitionsvertrag_2021.txt\", encoding=\"utf-8\") as g:\n",
    "    kv21 = g.read()\n",
    "    \n",
    "words = kv21.split() #Tokenisieren von 'kv21'\n",
    "words.reverse() #Umkehren der Reihenfolge der Wörter auf 'words'; alternativ: 'words = words[::-1]'\n",
    "reversed_kv = \" \".join(words) #Wiederzusammenfügen der Wörter zu einem einzigen string, konkateniert mit Leerschlägen dazwischen\n",
    "\n",
    "\"\"\"Ausgabe eines bestimmten Abschnitts des string mithilfe von Slicing, wobei für den 'end'-Parameter der von der 'find'-Methode zurückgegebene Index,\n",
    "erhöht um die Länge des Worts \"Vorschlagsrecht\", eingesetzt wird\"\"\"\n",
    "print(reversed_kv[:reversed_kv.find(\"Vorschlagsrecht\")+len(\"Vorschlagsgrecht\")])\n",
    "\n",
    "#Alternativer Lösungsweg (Hashtag vor 'print'-Befehl entfernen)\n",
    "for token in words:\n",
    "    #print(token, end=\" \") #Spezifizieren eines Leerschlags als 'end'-Parameter bei der Ausgabe (statt standardmäßig \"\\n\")\n",
    "    if token == \"Vorschlagsrecht\":\n",
    "        break"
   ]
  },
  {
   "cell_type": "markdown",
   "id": "9b696b4f-5b0b-48eb-affd-e9e843eb7950",
   "metadata": {
    "deletable": false,
    "editable": false
   },
   "source": [
    "4. Der folgende Code soll unabhängig von Groß- und Kleinschreibung das Vorkommen des Vokals \"U\" in `ubiquitous_u` zählen. Was läuft dabei schief? Und welche Antwort ist stattdessen korrekt?\n",
    "\n",
    "    `ubiquitous_u` wurde von ChatGPT entworfen und leicht modifiziert."
   ]
  },
  {
   "cell_type": "code",
   "execution_count": null,
   "id": "27710da6-be8a-44ca-92c8-707935b4f6e8",
   "metadata": {
    "tags": []
   },
   "outputs": [],
   "source": [
    "ubiquitous_u = \"\"\"Um uns ununterbrochene Unterstützung und unvergessliche Unterhaltung\n",
    "unterzujubeln, unternehmen unsere Unternehmungen unentwegt ungewöhnliche und unkonventionelle Unterfangen.\"\"\"\n",
    "\n",
    "\"\"\"Strings sind unveränderlich, wir müssen das Objekt also mit dem Resultat der Methode überschreiben,\n",
    "d. h. nicht die Methode 'upper' war falsch (denn wir suchen ja unten nach einem großgeschriebenen \"U\"), \n",
    "sondern die fehlende Zuweisung des Resultats der Methode.\"\"\"\n",
    "ubiquitous_u = ubiquitous_u.upper() \n",
    "print(ubiquitous_u.count(\"U\")) #Korrekt sind stattdessen 22 Vorkommen"
   ]
  },
  {
   "cell_type": "markdown",
   "id": "a2686223-ca43-4358-9487-4c5ece88ecb7",
   "metadata": {
    "deletable": false,
    "editable": false
   },
   "source": [
    "5. Aus wie vielen Sätzen besteht der Koalitionsvertrag von 2021? Bestehen mehr Sätze aus zehn und mehr Wörtern oder aus weniger als zehn Wörtern?\n",
    "\n",
    "    📌 Herausforderung: Formulier den Code mithilfe von List Comprehensions kompakter."
   ]
  },
  {
   "cell_type": "code",
   "execution_count": null,
   "id": "72367ace-d216-48d2-a447-3e27f4129220",
   "metadata": {
    "tags": []
   },
   "outputs": [],
   "source": [
    "#Achtung: anderer Pfad als im Notebook, da das Lösungsnotebook in einem anderen Verzeichnis liegt\n",
    "with open(\"../../3_Dateien/Koalitionsvertraege/koalitionsvertrag_2021.txt\", encoding=\"utf-8\") as g:\n",
    "    kv21 = g.read()\n",
    "    \n",
    "sentences = kv21.split(\".\") #Aufsplitten von 'kv21' in Sätze\n",
    "print(len(sentences)) #Ausgabe der Anzahl an Sätzen (d. h. Länge der Liste 'sentences')\n",
    "\n",
    "sentences_long, sentences_short = 0, 0 #Initialisieren zweier leerer Zählervariablen\n",
    "\n",
    "for sentence in sentences:\n",
    "    words = sentence.split() #Tokenisieren des jeweiligen Satzes\n",
    "    \"\"\"Überprüfen, ob die Anzahl Wörter des jeweiligen Satzes zehn oder höher ist oder nicht; abhängig davon \n",
    "    jeweilige Zählervariable um eins erhöhen\"\"\"\n",
    "    if len(words) >= 10:\n",
    "        sentences_long += 1\n",
    "    else:\n",
    "        sentences_short += 1\n",
    "        \n",
    "print(sentences_long, sentences_short)\n",
    "\n",
    "#Herausforderung\n",
    "sentences_long = [sentence for sentence in sentences if len(sentence.split())>= 10]\n",
    "sentences_short = [sentence for sentence in sentences if len(sentence.split())< 10]\n",
    "\n",
    "print(len(sentences_long), len(sentences_short)) "
   ]
  },
  {
   "cell_type": "markdown",
   "id": "e7088f39-ad94-48f1-8f03-0e8a43908756",
   "metadata": {
    "deletable": false,
    "editable": false
   },
   "source": [
    "- Es gibt (viel) mehr Sätze, die zehn und mehr Wörter umfassen."
   ]
  },
  {
   "cell_type": "markdown",
   "id": "f55e264f-2e39-4102-9af5-5228e4bf34ad",
   "metadata": {
    "deletable": false,
    "editable": false
   },
   "source": [
    "6. Welcher Buchstabe kommt am häufigsten im Koalitionsvertrag von 2021 vor?"
   ]
  },
  {
   "cell_type": "code",
   "execution_count": null,
   "id": "c0498d91-6d88-4f0a-8f97-f56fffc34648",
   "metadata": {
    "tags": []
   },
   "outputs": [],
   "source": [
    "#Achtung: anderer Pfad als im Notebook, da das Lösungsnotebook in einem anderen Verzeichnis liegt\n",
    "with open(\"../../3_Dateien/Koalitionsvertraege/koalitionsvertrag_2021.txt\", encoding=\"utf-8\") as g:\n",
    "    kv21 = g.read()\n",
    "    \n",
    "kv21 = kv21.lower() #Sämtliche Zeichen in 'kv21' kleinschreiben und Resultat der Methode 'kv21' zuweisen\n",
    "unique_letters = set(kv21) #Set an einzigartigen Zeichen schaffen\n",
    "\n",
    "freq_dict = {} #Initialisieren eines leeren dictionary, dem wir nach und nach Buchstaben-Vorkommen-Paare anhängen\n",
    "#Iteration über die einzelnen Zeichen\n",
    "for letter in unique_letters:\n",
    "    \"\"\"Schaffen eines neuen Schlüssel-Werte-Paars in 'freq_dict' mit dem jeweiligen Zeichen als Schlüssel \n",
    "    und dessen Vorkommen (ermittelt über 'count') als Wert\"\"\"\n",
    "    freq_dict[letter] = kv21.count(letter)\n",
    "\n",
    "freqs_sorted = sorted(freq_dict.items(), key=lambda x: x[1], reverse=True) #Absteigendes Sortieren von 'freq_dict' nach Werten \n",
    "print(freqs_sorted[0]) #Ausgabe des ersten Elements auf 'freqs_sorted'"
   ]
  },
  {
   "cell_type": "markdown",
   "id": "bc7b05d9-d70a-45ab-950f-250dab4dcc47",
   "metadata": {
    "deletable": false,
    "editable": false
   },
   "source": [
    "7. Du stehst vor der Aufgabe, `message` zu verschlüsseln. Dazu sollst Du einen einfachen Verschlüsselungscode verwenden, der ganz einfach jeden Buchstaben durch einen bestimmten anderen Buchstaben ersetzt. Die gleich langen Listen `encoding` und `decoding` enthalten jeden Buchstaben ein einziges Mal, in alphabetischer Reihenfolge (`encoding`) bzw. in zufälliger Reihenfolge (`decoding`). Verwend sie, um ein Objekt eines geeigneten Datentyps zu erstellen, in welchem zu jedem unverschlüsselten Buchstaben der Liste `encoding` der jeweilige verschlüsselte Buchstabe der Liste `decoding` eingetragen ist. Sorg anschließend dafür, dass `message` entsprechend Deines Verschlüsselungscodes kodiert wird. Welche zwei Schritte sind nötig, damit wirklich sämtliche Zeichen verschlüsselt werden? Lass Dir zum Schluss sowohl die kodierte Nachricht als auch den Verschlüsselungscode ausgeben.\n",
    "\n",
    "    📌 Herausforderung: Füg an zwanzig *zufälligen* Stellen in der verschlüsselten Nachricht *zufällige* Ablenkungszeichen ein, die einen potenziellen Codeknacker zusätzlich verwirren. Definier dazu eine Liste mit ca. zehn Ablenkungszeichen (z.&nbsp;B. \"&\" oder \"#\"). Um die zwanzig Stellen, an denen Du ein Ablenkungszeichen einfügst, *zufällig* auszuwählen, kannst Du die Funktion `sample` des Moduls `random` verwenden. Um *zufällig* ein Zeichen Deiner Ablenkungszeichen auszuwählen, kannst Du die Funktion `choice` desselben Moduls verwenden. Schau ggf. in der [Dokumentation](https://docs.python.org/3/library/random.html) nach, wie man diese Funktionen benutzt."
   ]
  },
  {
   "cell_type": "code",
   "execution_count": null,
   "id": "363cfebf-e18f-41e0-9b83-740ba767e31f",
   "metadata": {
    "tags": []
   },
   "outputs": [],
   "source": [
    "message = \"Der Goldbarren ist in der Tiefkühltruhe in einem IKEA-Frischhaltebeutel mit Brokkoliröschen versteckt.\"\n",
    "message = message.lower()\n",
    "\n",
    "import random\n",
    "\n",
    "alphabet = \"abcdefghijklmnopqrstuvwxyzäöüß\"\n",
    "encoding = list(alphabet)\n",
    "decoding = list(alphabet)\n",
    "random.shuffle(decoding)\n",
    "\n",
    "#Wir erstellen ein dictionary, das zu jedem unverschlüsselten Buchstaben den verschlüsselten enthält.\n",
    "decription_dict = {}\n",
    "for i in range(len(encoding)):\n",
    "    decription_dict[encoding[i]] = decoding[i]\n",
    "\n",
    "secret_message = \"\" #Wir initialisieren einen leeren string für die verschlüsselte Nachricht...\n",
    "\n",
    "#...und iterieren über die Buchstaben der unverschlüsselten Nachricht, um stattdessen jeweils sein verschlüsseltes Pendant an 'secret_message' anzuhängen.\n",
    "for letter in message:\n",
    "    \"\"\"Überprüfen, ob 'letter' in 'decription_dict': wenn ja, Anhängen des verschlüsselten Zeichens an 'secret_message';\n",
    "    wenn nein, Anhängen eines beliebigen anderen Zeichens (in unserem Fall für Leerzeichen) \n",
    "    \n",
    "    Anstatt einer if-else-Konstruktion (s. u.) könnten wir etwas eleganter die 'get'-Methode für dictionaries verwenden\n",
    "    (also: 'decription_dict.get(letter, \"$\")'), die den Wert zum jeweiligen Schlüssel ('letter') zurückgibt, falls dieser \n",
    "    vorhanden ist; wenn nicht, wird das als zweiter Parameter spezifizierte Zeichen (hier \"$\") zurückgegeben.\"\"\"\n",
    "    if letter in decription_dict: \n",
    "        secret_letter = decription_dict[letter]\n",
    "    else:\n",
    "        secret_letter = \"$\" #Oder ein anderes Zeichen, um Zeichen, die nicht in 'decription_dict' sind (hier: Leerschlag), zu verschlüsseln\n",
    "    secret_message += secret_letter\n",
    "\n",
    "#Ausgabe des Verschlüsselungscodes sowie der verschlüsselten Nachricht\n",
    "print(\"Verschlüsselungscode:\")\n",
    "for key, val in decription_dict.items():\n",
    "    print(key, val)\n",
    "print(\"\\nVerschlüsselte Nachricht:\", secret_message)\n",
    "\n",
    "#Herausforderung\n",
    "\n",
    "#Schaffen einer Liste mit beliebigen Ablenkungszeichen, wobei das Zeichen für den Leerschlag (s.  o.) nicht dabei sein darf!\n",
    "distractor_signs = list(\"?=)(/&%§*''¡“¶¢[]|{≠}\") \n",
    "#Hier generieren wir zufällige Indizes, an denen wir unten ein zufälliges Zeichen einfügen.\n",
    "random_indices = random.sample(range(len(message)), 20) \n",
    "\n",
    "#Das Einfügen von Elementen bei einem bestimmten Index geht am besten auf einer Liste, daher Casting:\n",
    "secret_message_list = list(secret_message)\n",
    "#Hier iterieren wir über die zufälligen Indizes,...\n",
    "for index in random_indices:\n",
    "    #...bestimmen jeweils ein zufälliges Ablenkungszeichen...\n",
    "    random_distractor = random.choice(distractor_signs)\n",
    "    #...und fügen dieses beim zufälligen Index ein.\n",
    "    secret_message_list.insert(index, random_distractor)\n",
    "\n",
    "#Abschließend konvertieren wir die Liste wieder in einen string.\n",
    "secret_message_with_distractor_signs = \"\".join(secret_message_list)\n",
    "\n",
    "print(\"\\nVerschlüsselte Nachricht mit Ablenkungszeichen:\", secret_message_with_distractor_signs)"
   ]
  },
  {
   "cell_type": "markdown",
   "id": "75d03ddb-5585-433b-b222-21f4cbb41d0b",
   "metadata": {
    "deletable": false,
    "editable": false
   },
   "source": [
    "- Welche zwei Schritte sind nötig, damit wirklich sämtliche Zeichen verschlüsselt werden?\n",
    "    - `message.lower()`, da Großbuchstaben nicht im Verschlüsselungscode enthalten sind\n",
    "    - Überprüfen, ob `letter` ein Schlüssel in `decription_dict` ist, bevor wir auf den zugehörigen Wert zugreifen (entweder mittels `if`-`else`-Konstruktion oder der `get`-Methode, s.&nbsp;o.); ansonsten erhalten wir einen `KeyError`"
   ]
  },
  {
   "cell_type": "markdown",
   "id": "454d1675-9ae0-4aad-9796-f476fa46f62c",
   "metadata": {
    "deletable": false,
    "editable": false
   },
   "source": [
    "8. Berechne alle Wort-Trigramme für die ersten hundert Sätze im Koalitionsvertrag von 2021 und lass Dir die ersten zehn davon ausgeben.\n",
    "\n",
    "    📌 Herausforderung: Verwend eine List Comprehension zum Erstellen der Liste mit Trigrammen."
   ]
  },
  {
   "cell_type": "code",
   "execution_count": null,
   "id": "62980027-7aa5-419a-9142-144cbda2c3b5",
   "metadata": {
    "tags": []
   },
   "outputs": [],
   "source": [
    "#Achtung: anderer Pfad als im Notebook, da das Lösungsnotebook in einem anderen Verzeichnis liegt\n",
    "with open(\"../../3_Dateien/Koalitionsvertraege/koalitionsvertrag_2021.txt\", encoding=\"utf-8\") as g:\n",
    "    kv21 = g.read()\n",
    "    \n",
    "first_100_sentences_list = kv21.split(\".\")[0:100] #Aufsplitten von 'kv21' in Sätze und Zugriff auf die ersten 100 mittels Slicing\n",
    "first_100_sentences = \" \".join(first_100_sentences_list) #Wiederzusammenfügen zu einem string\n",
    "first_100_sentences_words = first_100_sentences.split() #Tokenisieren des string\n",
    "\n",
    "#Initialisieren einer leeren Liste, an die wir Trigramme anhängen, sowie Definieren von n = 3\n",
    "trigrams = []\n",
    "n = 3\n",
    "\n",
    "#Mithilfe von 'range' iterieren wir über 'first_100_sentences_words' (wobei wir 'i' als Indizes zum Slicen der n-gramme benutzen, s. u.)\n",
    "for i in range(len(first_100_sentences_words)-n+1):\n",
    "    \"\"\"Mittels Slicing schneiden wir uns eine neue Liste von der Länge n aus 'first_100_sentences_words' heraus \n",
    "    und rücken bei jeder Iteration den Start- und Endindex für das Slicing um eine Position vor. \n",
    "    Die neue Liste fügen wir jeweils mit 'join' zu einem string zusammen und hängen diesen als n-gram 'trigrams' an.\"\"\"\n",
    "    trigrams.append(\" \".join(first_100_sentences_words[i:i+n]))\n",
    "\n",
    "print(trigrams[0:10]) #Ausgabe der ersten zehn Trigramme\n",
    "\n",
    "#Herausforderung: selbiger Code als List Comprehension\n",
    "trigrams = [\" \".join(first_100_sentences_words[i:i+n]) for i in range(len(first_100_sentences_words)-n+1)]\n",
    "\n",
    "print(trigrams[0:10]) #Ausgabe der ersten zehn Trigramme"
   ]
  },
  {
   "cell_type": "markdown",
   "id": "d4beb420-d875-4014-9206-abbcc078d81a",
   "metadata": {
    "deletable": false,
    "editable": false
   },
   "source": [
    "9. Schaff aufbauend auf Übung 8 eine Funktion namens `ngrammer`, die wir fortan zum Ausrechnen von n-grammen benutzen können. Die Funktion soll neben einem string, aus dem die n-gramme errechnet werden, auch eine Ganzzahl als Argument akzeptieren. Letztere definiert die Größe der n-gramme, sprich: n. Die Funktion soll die Liste mit n-grammen der gewünschten Größe zurückgeben. Wend sie anschließend auf `kv21` an und überprüf, ob die ersten zehn Trigramme dieselben wie die in der Übung 8 errechneten sind.\n",
    "\n",
    "    📌 Herausforderung: Begrenz den Funktionscode auf eine einzige Zeile."
   ]
  },
  {
   "cell_type": "code",
   "execution_count": null,
   "id": "153c388b-fcc1-4819-aa3e-77d31c864aed",
   "metadata": {
    "tags": []
   },
   "outputs": [],
   "source": [
    "#Beschreibung des Codes: siehe Lösung zur Übung 8\n",
    "\n",
    "def ngrammer(text, n):\n",
    "    \"\"\"Function takes string (text) and an integer (n) and returns list of n-grams of desired length n.\"\"\"\n",
    "    words = text.split() \n",
    "    ngrams = [] \n",
    "    for i in range(len(words)-n+1):\n",
    "        ngrams.append(\" \".join(words[i:i+n]))\n",
    "    return(ngrams)\n",
    "\n",
    "#Herausforderung\n",
    "def ngrammer(text, n):\n",
    "    \"\"\"Function takes string (text) and an integer (n) and returns list of n-grams of desired length n.\"\"\"\n",
    "    return([\" \".join(text.split()[i:i+n]) for i in range(len(text.split())-n+1)])\n",
    "\n",
    "words_for_first_ten_trigrams = \" \".join(kv21.split()[0:12]) #Berechnen der Wörter für die ersten zehn Trigramme\n",
    "#Übergabe dieser Wörter an die Funktion und Speichern des Resultats in 'trigrams_calculated_with_function'\n",
    "trigrams_calculated_with_function = ngrammer(words_for_first_ten_trigrams, 3) \n",
    "\n",
    "print(trigrams[0:10] == trigrams_calculated_with_function[0:10]) #Vergleich, ob Resultate gleich sind"
   ]
  },
  {
   "cell_type": "markdown",
   "id": "b36ee115-e595-434b-b42d-470d89befd9e",
   "metadata": {
    "deletable": false,
    "editable": false
   },
   "source": [
    "10. Der folgende Code soll die Liste `some_letters` alphabetisch sortieren. Was läuft schief?\n",
    "\n",
    "- Antwort: Resultate einer Funktion müssen stets einer Variablen zugewiesen werden, unabhängig von der (Un)veränderlichkeit des betreffenden Objekts (hier eine Liste, die grundsätzlich veränderlich ist, etwa via Methoden). So müsste der Code also stattdessen aussehen:"
   ]
  },
  {
   "cell_type": "code",
   "execution_count": null,
   "id": "da72a19d-ff32-4f98-acb0-26736da48119",
   "metadata": {
    "tags": []
   },
   "outputs": [],
   "source": [
    "some_letters = [\"b\", \"x\", \"k\", \"q\", \"d\"]\n",
    "some_letters = sorted(some_letters) \n",
    "print(some_letters)"
   ]
  },
  {
   "cell_type": "markdown",
   "id": "2718f0c5-53d8-41a7-b94b-2cfb2ba7b177",
   "metadata": {
    "deletable": false,
    "editable": false
   },
   "source": [
    "11. Verwend eine List Comprehension, um die string-Methode `title` nachzuprogrammieren und Dir `my_english_title` als englischsprachigen Titel gemäß der Methode ausgeben zu lassen. Bau zusätzlich eine Bedingung ein, sodass nur Wörter von einer Länge von über drei Buchstaben großgeschrieben werden. Damit nähern wir uns den komplizierten Regeln von [Title Case](https://en.wikipedia.org/wiki/Title_case) zumindest etwas mehr als die sehr brachiale `title`-Methode."
   ]
  },
  {
   "cell_type": "code",
   "execution_count": null,
   "id": "42590b79-ece6-4c5d-a25a-ecf73681c8f4",
   "metadata": {
    "tags": []
   },
   "outputs": [],
   "source": [
    "my_english_title = \"Handbook about the magic technique of list comprehensions\"\n",
    "\n",
    "\"\"\"Großschreiben des ersten Buchstaben jedes Worts in 'my_english_title' (bzw. einer daraus erstellten, nach\n",
    "Wörtern unterteilten Liste), wenn das Wort länger als drei Buchstaben ist, ansonsten unverändert lassen; \n",
    "abschließend Wörter mittels 'join' zu einem string zusammenfügen\"\"\"\n",
    "titled = \" \".join([word.capitalize() if len(word) > 3 else word for word in my_english_title.split(\" \")])\n",
    "print(titled) #Ausgabe des englischsprachigen Titels"
   ]
  },
  {
   "cell_type": "markdown",
   "id": "3735c764-d5a9-42aa-9b27-5aa7e2a753e2",
   "metadata": {
    "deletable": false,
    "editable": false
   },
   "source": [
    "12. Nicht nur ```for```-Schleifen können ineinander verschachtelt werden, sondern auch List Comprehensions. Der folgende (funktionierende) Code iteriert über drei Listen bestehend aus Vornamen, Nachnamen und E-Maildomänen und generiert daraus komplette, fiktive E-Mailadressen, wie sie für eine Spam-Mailattacke benutzt werden könnten. \n",
    "    \n",
    "    Wandle den gegebenen Code in **eine** List Comprehension um, um dasselbe Resultat zu erzielen.  "
   ]
  },
  {
   "cell_type": "code",
   "execution_count": null,
   "id": "3a07886e",
   "metadata": {},
   "outputs": [],
   "source": [
    "names = [\"Max\", \"Moritz\", \"Ute\", \"Catarina\"]\n",
    "surnames = [\"Schulze\", \"Rodriguez\", \"Meier\", \"Markov\"]\n",
    "domains = [\"gmx.de\", \"gmail.com\", \"icloud.com\", \"web.de\"]\n",
    "\n",
    "#Die drei Schleifen werden schlicht aneinandergehängt.\n",
    "emails = [name.lower() + \".\" + surname.lower() + \"@\" + domain for name in names for surname in surnames for domain in domains]\n",
    "len(emails)"
   ]
  },
  {
   "cell_type": "markdown",
   "id": "1c266a73-5396-42b7-b22e-87f5f490ef60",
   "metadata": {
    "deletable": false,
    "editable": false
   },
   "source": [
    "13. Copy-paste die im Notebook erstellte Funktion `get_freqs` in die Code-Zelle unten. Lösch den Part mit den Stoppwörtern, da wir diese bei der Berechnung von n-grammen nicht entfernen wollen (tatsächlich sind diese \"kleinen\" Wörter in n-grammen sehr bedeutungsvoll). \n",
    "\n",
    "    Kombinier den Code nun mit der Funktion `ngrammer` von oben, sodass wahlweise die Frequenzen von Wörtern (Unigrammen) oder n-grammen (mit n>1) berechnet und zurückgegeben werden. Lass Dir anschließend Quadrigramm-Frequenzen im Koalitionsvertrag von 2021 ausgeben (die Berechnung dauert womöglich eine Weile).\n",
    "\n",
    "    📌 Herausforderung: Find heraus, wie Du einen Standardwert für `n` von `1` festlegen kannst, sodass Wortfrequenzen berechnet werden, sofern beim Funktionsaufruf kein abweichender Wert für `n` übergeben wird. Implementier diesen Standardwert in Deine Funktion."
   ]
  },
  {
   "cell_type": "code",
   "execution_count": null,
   "id": "d0bd33c5-6dcc-4b7a-9102-1dd47c064f39",
   "metadata": {
    "tags": []
   },
   "outputs": [],
   "source": [
    "#Umgesetzt ohne List Comprehension\n",
    "def ngram_freqs(text, n):\n",
    "    \"\"\"Function takes a string (text) and an integer (n), computes ngrams of desired length n,\n",
    "    calculates frequencies for the ngrams in the string and outputs ngram-frequencies-tuples sorted in descending order.\"\"\"\n",
    "    \n",
    "    words = text.split() #Tokenisieren von 'text'\n",
    "\n",
    "    preprocessed_words = [] #Initialisieren einer leeren Liste, an die die bereinigten Wörter angehängt werden\n",
    "\n",
    "    #Iterieren über 'words', um jedes Wort zu bereinigen\n",
    "    for word in words:\n",
    "        word = word.lower() \n",
    "        word = word.strip(\".,():\")\n",
    "        preprocessed_words.append(word)\n",
    "        \n",
    "    ngrams = [] #Initialisieren einer leeren Liste, an die die n-gramme angehängt werden\n",
    "    \n",
    "    #Mithilfe von 'range' iterieren wir über 'preprocessed_words' (wobei wir 'i' als Indizes zum Slicen der n-gramme benutzen, s.u.)\n",
    "    for i in range(len(preprocessed_words)-n+1):\n",
    "        \"\"\"Mittels Slicing schneiden wir uns eine neue Liste von der Länge n aus 'preprocessed_words' heraus \n",
    "        und rücken bei jeder Iteration den Start- und Endindex für das Slicing um eine Position vor. \n",
    "        Die neue Liste fügen wir jeweils mit 'join' zu einem string zusammen und hängen diesen als n-gram 'ngrams' an.\"\"\"\n",
    "        ngrams.append(\" \".join(preprocessed_words[i:i+n]))\n",
    "\n",
    "    types = set(ngrams) #Erstellen eines Sets an einzigartigen n-grammen (Types)\n",
    "\n",
    "    freq_dict = {}  #Initialisieren eines leeren dictionary, dem wir unten n-gram-Frequenz-Paare hinzufügen\n",
    "\n",
    "    #Iterieren über jedes einzigartige n-gram (Type) und Schaffen eines n-gram-Frequenz-Paars mithilfe von 'count'\n",
    "    for type_ in types:\n",
    "        freq_dict[type_] = ngrams.count(type_)\n",
    "\n",
    "    #Sortieren des dictionary nach Werten in absteigender Reihenfolge\n",
    "    freq_sorted = sorted(freq_dict.items(), key = lambda x: x[1], reverse=True)\n",
    "\n",
    "    return freq_sorted #Zurückgeben von 'freq_sorted'\n",
    "\n",
    "#Herausforderung: mit implementiertem Standardwert '1' für n; zusätzlich umgesetzt mithilfe von List Comprehensions; Beschreibung des Codes s. o.\n",
    "def ngram_freqs(text, n=1):\n",
    "    \"\"\"Function takes a string (text) and an integer (n), computes ngrams of desired length n,\n",
    "    calculates frequencies for the ngrams in the string and outputs ngram-frequencies-tuples sorted in descending order.\"\"\"\n",
    "    \n",
    "    preprocessed_words = [word.lower().strip(\".,():\") for word in text.split()]       \n",
    "    ngrams = [\" \".join(preprocessed_words[i:i+n]) for i in range(len(preprocessed_words)-n+1)]\n",
    "    \n",
    "    types = set(ngrams)\n",
    "\n",
    "    freq_dict = {} \n",
    "\n",
    "    for type_ in types:\n",
    "        freq_dict[type_] = ngrams.count(type_)\n",
    "        \n",
    "    return sorted(freq_dict.items(), key = lambda x: x[1], reverse=True)\n",
    "\n",
    "#Achtung: anderer Pfad als im Notebook, da das Lösungsnotebook in einem anderen Verzeichnis liegt\n",
    "with open(\"../../3_Dateien/Koalitionsvertraege/koalitionsvertrag_2021.txt\", encoding=\"utf-8\") as g:\n",
    "    kv21 = g.read()\n",
    "    \n",
    "ngram_freqs(kv21, 4)[0:10]"
   ]
  },
  {
   "cell_type": "markdown",
   "id": "d8c15908-24a3-4348-b0cc-abaf512a623c",
   "metadata": {
    "deletable": false,
    "editable": false
   },
   "source": [
    "14. Speicher die in Übung 13 erstellte Funktion als Modul und importier sie.\n",
    "\n",
    "- Hier gibt es keine Lösung, da das Speichern außerhalb des Jupyter Notebooks geschieht, z.&nbsp;B. mithilfe von Sublime Text (vgl. Notebook). Der Import erfolgt über das Statement `from module_name import function_name`, wobei `module_name` durch den Namen des Moduls und `function_name` durch den Namen der Funktion zu ersetzen ist. Voraussetzung für den Import ist, dass sich das Modul im gleichen Verzeichnis wie dieses Notebook befindet. Alternativ kann über `sys.path.append(path)` der Pfad zum Verzeichnis, in dem das Modul gespeichert ist, zur aktuellen Arbeitsumgebung hinzugefügt werden. Python sucht dann auch dort nach zu importierenden Modulen. `sys` muss dafür erst importiert werden."
   ]
  }
 ],
 "metadata": {
  "kernelspec": {
   "display_name": "Python 3 (ipykernel)",
   "language": "python",
   "name": "python3"
  },
  "language_info": {
   "codemirror_mode": {
    "name": "ipython",
    "version": 3
   },
   "file_extension": ".py",
   "mimetype": "text/x-python",
   "name": "python",
   "nbconvert_exporter": "python",
   "pygments_lexer": "ipython3",
   "version": "3.10.7"
  }
 },
 "nbformat": 4,
 "nbformat_minor": 5
}