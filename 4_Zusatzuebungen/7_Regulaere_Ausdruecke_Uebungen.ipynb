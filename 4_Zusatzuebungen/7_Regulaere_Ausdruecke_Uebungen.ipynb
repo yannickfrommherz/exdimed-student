{
 "cells": [
  {
   "cell_type": "markdown",
   "id": "f07d363b-9fee-4793-87c8-a3739fe73b3b",
   "metadata": {
    "deletable": false,
    "editable": false
   },
   "source": [
    "# Zusatzübungen zum Notebook \"Reguläre Ausdrücke\"\n",
    "\n",
    "👆 Je komplexer die Suchaufträge, desto mehr Möglichkeiten gibt es, einen regulären Ausdruck dafür zu konstruieren. Bei der Abwägung zwischen Genauigkeit (decke ich alle gewünschten Fälle und nur diese ab?) und Effizienz (wie lange brauche ich, um den regulären Ausdruck zu konstruieren?) gibt es nicht immer Richtig und Falsch."
   ]
  },
  {
   "cell_type": "markdown",
   "id": "caf990ba-263a-404f-a1d5-01e52ce48c1a",
   "metadata": {
    "deletable": false,
    "editable": false
   },
   "source": [
    "1. Um das Formulieren von regulären Ausdrücken zu üben, laden wir uns den [Wikipedia-Artikel zur Quantenphysik](https://de.wikipedia.org/wiki/Quantenphysik) herunter. Dies tun wir mithilfe des Moduls ```wikipediaapi```, das die offizielle Schnittstelle von Wikipedia (die sog. *API*) für Python zugänglich macht. \n",
    "\n",
    "    Installier zuallererst das Modul über die Command Line (Terminal unter macOS und Linux/Eingabeaufforderung unter Windows): ```pip3 install wikipedia-api``` (beachte den Bindestrich!). Der Code zum Herunterladen des Artikels steht Dir bereits in der Code-Zelle zur Verfügung. Du musst bloß Deine Mailadresse bei ```mail_address``` angeben. Die Kontaktangabe beim \"Anzapfen\" einer Schnittstelle gehört nämlich zum guten Ton! \n",
    "    \n",
    "    Führ anschließend die Code-Zelle *einmal* aus. Da jede Abfrage die Server von Wikipedia beschäftigt, versuchen wir die Anzahl an Abfragen auf ein Minimum zu begrenzen. Im Extremfall (bei vielen Abfragen von der selben IP-Adresse innerhalb eines kurzen Zeitraums) sperrt Wikipedia Dich automatisch. "
   ]
  },
  {
   "cell_type": "code",
   "execution_count": null,
   "id": "26f4f41f-6b6b-4977-9551-9666e207b49c",
   "metadata": {},
   "outputs": [],
   "source": [
    "mail_address = \"\" #Trag hier Deine Mailadresse ein.\n",
    "\n",
    "import wikipediaapi #Kein Bindestrich beim Import\n",
    "\n",
    "#Initialisieren der Schnittstelle mittels Angabe von 'user_agent', Sprache und Extraktionsformat \n",
    "Wiki_API = wikipediaapi.Wikipedia(user_agent=f\"Programmierenlernen, {mail_address}\", language=\"de\", extract_format=wikipediaapi.ExtractFormat.WIKI)\n",
    "qp = Wiki_API.page('Quantenphysik').text #Eigentliche Abfrage des angegebenen Artikels\n",
    "print(\". \".join(qp.split(\".\")[0:3])) #Ausgabe der ersten drei Sätze"
   ]
  },
  {
   "cell_type": "markdown",
   "id": "28690510-c196-4c82-895f-a2958d1e6949",
   "metadata": {
    "deletable": false,
    "editable": false
   },
   "source": [
    "2. Nun steht uns der Inhalt des Artikels als string-Objekt in ```qp``` zur Verfügung und wir können reguläre Ausdrücke üben. \n",
    "\n",
    "    Extrahier als Erstes alle Wörter bestehend aus mindestens 20 Buchstaben.\n",
    "\n",
    "    💡 Tipp: Verwend hier und in den folgenden Übungen, wo sinnvoll, die ```re.I```-Flag, um die regulären Ausdrücke kurz zu halten."
   ]
  },
  {
   "cell_type": "code",
   "execution_count": null,
   "id": "8abe0f41-19da-4aaa-b2c5-48407aa3b5d8",
   "metadata": {},
   "outputs": [],
   "source": [
    "\n",
    "\n"
   ]
  },
  {
   "cell_type": "markdown",
   "id": "e18fd0bb-1ac1-401d-8e2d-5a9481b106ba",
   "metadata": {
    "deletable": false,
    "editable": false
   },
   "source": [
    "3. Lass Dir nun alle einzigartigen kleingeschriebenen Wörter in ```qp``` bestehend aus zwei oder drei Buchstaben ausgeben."
   ]
  },
  {
   "cell_type": "code",
   "execution_count": null,
   "id": "fa38718b-d81b-4bd8-90ee-38104acb821a",
   "metadata": {},
   "outputs": [],
   "source": [
    "\n",
    "\n"
   ]
  },
  {
   "cell_type": "markdown",
   "id": "c712a06e-5a0d-45e8-8a82-80c2ce4f87c3",
   "metadata": {
    "deletable": false,
    "editable": false
   },
   "source": [
    "4. Schaff eine Liste mit allen Wörtern mit Bindestrich (z.&nbsp;B. \"Wikipedia-Artikel\") in ```qp```."
   ]
  },
  {
   "cell_type": "code",
   "execution_count": null,
   "id": "dbcbe5f6-6ecb-4784-bd18-46aadaa27d4b",
   "metadata": {},
   "outputs": [],
   "source": [
    "\n",
    "\n"
   ]
  },
  {
   "cell_type": "markdown",
   "id": "9c9d7b56-63c2-48ee-84d7-2716592ec805",
   "metadata": {
    "deletable": false,
    "editable": false
   },
   "source": [
    "5. Extrahier aus ```qp``` sämtliche Wörter mit Großbuchstaben am Anfang, die mindestens vier Buchstaben lang sind. Lass sie Dir alphabetisch ausgeben."
   ]
  },
  {
   "cell_type": "code",
   "execution_count": null,
   "id": "8ebbe0df-3672-43ef-8461-75091d44e27e",
   "metadata": {},
   "outputs": [],
   "source": [
    "\n",
    "\n"
   ]
  },
  {
   "cell_type": "markdown",
   "id": "cc5e5fc6-9b5a-41d7-9f83-f54f5fe3054b",
   "metadata": {
    "deletable": false,
    "editable": false
   },
   "source": [
    "6. Identifizier alle Substantivpaare in ```qp```, die mit \"und\" verbunden sind (z.&nbsp; B. \"Phänomene und Effekte\")."
   ]
  },
  {
   "cell_type": "code",
   "execution_count": null,
   "id": "ee13ac78-5340-4987-ac85-fd4b40900d1d",
   "metadata": {},
   "outputs": [],
   "source": [
    "\n",
    "\n"
   ]
  },
  {
   "cell_type": "markdown",
   "id": "938100bc-002c-4b23-9600-81b67c191a32",
   "metadata": {
    "deletable": false,
    "editable": false
   },
   "source": [
    "7. Find sämtliche Klammerbemerkungen in ```qp```. \n",
    "\n",
    "    💡Erinnerung: Uneingeschränkte Quantifikatoren matchen so viele Zeichen wie möglich, d.&nbsp; h. ```re``` findet den längstmöglichen match. Kommt nach einer schließenden Klammer später im abzusuchenden Text noch einmal eine schließende Klammer (und unter der Voraussetzung, dass alles dazwischen ebenfalls gematcht werden kann), so matcht ```re``` den gesamten Abschnitt von der ersten öffnenden Klammer bis zur letzten schließenden Klammer. Um diese *Gier* zu bändigen (und die einzelnen Klammerbemerkungen separat zu matchen), können wir dem Quantifikator wie erwähnt ein ```?``` anfügen. Dann matcht ```re``` nur so viele Zeichen wie nötig, um einen vollständigen match zu erreichen."
   ]
  },
  {
   "cell_type": "code",
   "execution_count": null,
   "id": "8fa1118c-2d8a-430d-8ee3-df8e57f88a8b",
   "metadata": {},
   "outputs": [],
   "source": [
    "\n",
    "\n"
   ]
  },
  {
   "cell_type": "markdown",
   "id": "3d53668c-11e0-4318-abab-9be06327beaf",
   "metadata": {
    "deletable": false,
    "editable": false
   },
   "source": [
    "8. An welcher Stelle und in welchem Wort in ```qp``` taucht \"theorie\" zum ersten Mal auf?"
   ]
  },
  {
   "cell_type": "code",
   "execution_count": null,
   "id": "4f6647db-6118-4b60-a68e-c4ee1cc02c23",
   "metadata": {},
   "outputs": [],
   "source": [
    "\n",
    "\n"
   ]
  },
  {
   "cell_type": "markdown",
   "id": "a6721968-cf6a-4674-8411-a7de28a1ed82",
   "metadata": {
    "deletable": false,
    "editable": false
   },
   "source": [
    "9. Erstell eine Häufigkeitsverteilung über alle Zahlen in ```qp```. \n",
    "\n",
    "    💡 Tipp: Nutz pandas für den letzten Schritt."
   ]
  },
  {
   "cell_type": "code",
   "execution_count": null,
   "id": "592cf95a-231f-4554-81d7-b154321b7f28",
   "metadata": {},
   "outputs": [],
   "source": [
    "\n",
    "\n"
   ]
  },
  {
   "cell_type": "markdown",
   "id": "7a14c543-6c7a-4f6b-a9b5-029ea392daad",
   "metadata": {
    "deletable": false,
    "editable": false
   },
   "source": [
    "10. Tausch die Position der beiden Substantive in allen in Übung 6 ermittelten Substantivpaaren in `qp`. Statt \"Phänomene und Effekte\" soll \"Effekte und Phänomene\" im Text stehen etc."
   ]
  },
  {
   "cell_type": "code",
   "execution_count": null,
   "id": "75d2853c-0190-4506-8a88-584aae1d7b2d",
   "metadata": {},
   "outputs": [],
   "source": [
    "\n",
    "\n"
   ]
  }
 ],
 "metadata": {
  "kernelspec": {
   "display_name": "Python 3 (ipykernel)",
   "language": "python",
   "name": "python3"
  },
  "language_info": {
   "codemirror_mode": {
    "name": "ipython",
    "version": 3
   },
   "file_extension": ".py",
   "mimetype": "text/x-python",
   "name": "python",
   "nbconvert_exporter": "python",
   "pygments_lexer": "ipython3",
   "version": "3.10.7"
  }
 },
 "nbformat": 4,
 "nbformat_minor": 5
}