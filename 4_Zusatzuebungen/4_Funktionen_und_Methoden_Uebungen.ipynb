{
 "cells": [
  {
   "cell_type": "markdown",
   "id": "4d36e88f-b157-450f-9191-111fb656cfbd",
   "metadata": {
    "deletable": false,
    "editable": false
   },
   "source": [
    "# Zusatzübungen zum Notebook \"Funktionen und Methoden\""
   ]
  },
  {
   "cell_type": "markdown",
   "id": "ab92d6a7-8994-4f94-b840-89b827c6326f",
   "metadata": {
    "deletable": false,
    "editable": false
   },
   "source": [
    "1. Identifizier für sämtliche der folgenden Befehle, ob darin eine Funktion oder eine Methode verwendet wird. Überleg Dir zusätzlich, warum `reverse.count(\"e\")` nicht immer den gleichen Wert zurückgibt."
   ]
  },
  {
   "cell_type": "code",
   "execution_count": null,
   "id": "3cc7c8a1-023b-4a6e-bb02-55515c37f06f",
   "metadata": {
    "tags": []
   },
   "outputs": [],
   "source": [
    "import random\n",
    "string  = \"Benutzen wir hier eine Funktion oder doch eine Methode?\"\n",
    "\n",
    "#Hier geht's los:\n",
    "length = len(string)\n",
    "lowered = string.lower()\n",
    "a_list = list(lowered)\n",
    "random.shuffle(a_list)\n",
    "shuffled_string = \"\".join(a_list)\n",
    "titled = shuffled_string.title()\n",
    "reverse = titled[::-1]\n",
    "reverse.count(\"e\")"
   ]
  },
  {
   "cell_type": "markdown",
   "id": "f1f3ad0f-d7b7-4c37-b24e-66064ec89dc5",
   "metadata": {
    "deletable": false,
    "editable": false
   },
   "source": [
    "2. Find alle in Klammern stehenden Wörter im Koalitionsvertrag von 2021 (z.&nbsp;B. \"(SPD)\") und speicher sie ohne die Klammern auf einer Liste. Mehrere Wörter bzw. Sätze in Klammern kannst Du ignorieren. Die Länge der Liste sollte 104 betragen. Wie viele einzigartige Wörter in Klammern kommen im Text vor?\n",
    "\n",
    "    📌 Herausforderung: Formulier Deinen Code als List Comprehension **in einer einzigen Zeile**. Das Öffnen und Einlesen der Datei sowie die Ausgabe der Resultate sind von der Zeilenbegrenzung ausgenommen."
   ]
  },
  {
   "cell_type": "code",
   "execution_count": null,
   "id": "6ee4d017-1269-44a8-a0e7-e8cf31d7e875",
   "metadata": {
    "tags": []
   },
   "outputs": [],
   "source": [
    "with open(\"../3_Dateien/Koalitionsvertraege/koalitionsvertrag_2021.txt\", encoding=\"utf-8\") as g:\n",
    "    kv21 = g.read()\n",
    "    \n"
   ]
  },
  {
   "cell_type": "markdown",
   "id": "4967884f-d2f2-479c-8915-449333125b9f",
   "metadata": {
    "deletable": false,
    "editable": false
   },
   "source": [
    "3. Schreib den Koalitionsvertrag von 2021 in umgekehrter Wortreihenfolge. Das letzte Wort soll an erster Stelle stehen, das zweitletzte an zweiter, etc. Lass Dir den umgekehrten Text bis einschließlich des ersten Vorkommens des Wortes \"Vorschlagsrecht\" ausgeben."
   ]
  },
  {
   "cell_type": "code",
   "execution_count": null,
   "id": "ef2e914c-949e-41e6-a03d-4616e1f67399",
   "metadata": {
    "tags": []
   },
   "outputs": [],
   "source": [
    "with open(\"../3_Dateien/Koalitionsvertraege/koalitionsvertrag_2021.txt\", encoding=\"utf-8\") as g:\n",
    "    kv21 = g.read()\n",
    "    \n"
   ]
  },
  {
   "cell_type": "markdown",
   "id": "23769d6b-a48f-4af0-85d7-9ace3fdb4f5a",
   "metadata": {
    "deletable": false,
    "editable": false
   },
   "source": [
    "4. Der folgende Code soll unabhängig von Groß- und Kleinschreibung das Vorkommen des Vokals \"U\" in `ubiquitous_u` zählen. Was läuft dabei schief? Und welche Antwort ist stattdessen korrekt?\n",
    "\n",
    "    `ubiquitous_u` wurde von ChatGPT entworfen und leicht modifiziert."
   ]
  },
  {
   "cell_type": "code",
   "execution_count": null,
   "id": "acd13845-8ca6-4a25-871d-46e97dd8e96b",
   "metadata": {
    "tags": []
   },
   "outputs": [],
   "source": [
    "ubiquitous_u = \"\"\"Um uns ununterbrochene Unterstützung und unvergessliche Unterhaltung\n",
    "unterzujubeln, unternehmen unsere Unternehmungen unentwegt ungewöhnliche und unkonventionelle Unterfangen.\"\"\"\n",
    "ubiquitous_u.upper()\n",
    "print(ubiquitous_u.count(\"U\"))"
   ]
  },
  {
   "cell_type": "markdown",
   "id": "e660b8fd-fe27-4798-b458-a27cecf7f18e",
   "metadata": {
    "deletable": false,
    "editable": false
   },
   "source": [
    "5. Aus wie vielen Sätzen besteht der Koalitionsvertrag von 2021? Bestehen mehr Sätze aus zehn und mehr Wörtern oder aus weniger als zehn Wörtern?\n",
    "\n",
    "    📌 Herausforderung: Formulier den Code mithilfe von List Comprehensions kompakter."
   ]
  },
  {
   "cell_type": "code",
   "execution_count": null,
   "id": "8d9b4ba4-f557-4dde-898b-246d2a83c3b3",
   "metadata": {
    "tags": []
   },
   "outputs": [],
   "source": [
    "with open(\"../3_Dateien/Koalitionsvertraege/koalitionsvertrag_2021.txt\", encoding=\"utf-8\") as g:\n",
    "    kv21 = g.read()\n",
    "\n",
    "    "
   ]
  },
  {
   "cell_type": "markdown",
   "id": "642d5fa0-b527-46a6-90a1-782d90d55ea0",
   "metadata": {
    "deletable": false,
    "editable": false
   },
   "source": [
    "6. Welcher Buchstabe kommt am häufigsten im Koalitionsvertrag von 2021 vor?"
   ]
  },
  {
   "cell_type": "code",
   "execution_count": null,
   "id": "fb4826c3-0cb6-4d7c-bd86-65b85e28da07",
   "metadata": {
    "tags": []
   },
   "outputs": [],
   "source": [
    "with open(\"../3_Dateien/Koalitionsvertraege/koalitionsvertrag_2021.txt\", encoding=\"utf-8\") as g:\n",
    "    kv21 = g.read()\n",
    "    \n",
    "    "
   ]
  },
  {
   "cell_type": "markdown",
   "id": "e6561aec-1168-46f2-8ab4-86d650bad806",
   "metadata": {
    "deletable": false,
    "editable": false
   },
   "source": [
    "7. Du stehst vor der Aufgabe, `message` zu verschlüsseln. Dazu sollst Du einen einfachen Verschlüsselungscode verwenden, der ganz einfach jeden Buchstaben durch einen bestimmten anderen Buchstaben ersetzt. Die gleich langen Listen `encoding` und `decoding` enthalten jeden Buchstaben ein einziges Mal, in alphabetischer Reihenfolge (`encoding`) bzw. in zufälliger Reihenfolge (`decoding`). Verwend sie, um ein Objekt eines geeigneten Datentyps zu erstellen, in welchem zu jedem unverschlüsselten Buchstaben der Liste `encoding` der jeweilige verschlüsselte Buchstabe der Liste `decoding` eingetragen ist. Sorg anschließend dafür, dass `message` entsprechend Deines Verschlüsselungscodes kodiert wird. Welche zwei Schritte sind nötig, damit wirklich sämtliche Zeichen verschlüsselt werden? Lass Dir zum Schluss sowohl die kodierte Nachricht als auch den Verschlüsselungscode ausgeben.\n",
    "\n",
    "    📌 Herausforderung: Füg an zwanzig *zufälligen* Stellen in der verschlüsselten Nachricht *zufällige* Ablenkungszeichen ein, die einen potenziellen Codeknacker zusätzlich verwirren. Definier dazu eine Liste mit ca. zehn Ablenkungszeichen (z.&nbsp;B. \"&\" oder \"#\"). Um die zwanzig Stellen, an denen Du ein Ablenkungszeichen einfügst, *zufällig* auszuwählen, kannst Du die Funktion `sample` des Moduls `random` verwenden. Um *zufällig* ein Zeichen Deiner Ablenkungszeichen auszuwählen, kannst Du die Funktion `choice` desselben Moduls verwenden. Schau ggf. in der [Dokumentation](https://docs.python.org/3/library/random.html) nach, wie man diese Funktionen benutzt."
   ]
  },
  {
   "cell_type": "code",
   "execution_count": null,
   "id": "55bb825b-79d5-49b2-8dd5-b8ead3d57b18",
   "metadata": {
    "tags": []
   },
   "outputs": [],
   "source": [
    "message = \"Der Goldbarren ist in der Tiefkühltruhe in einem IKEA-Frischhaltebeutel mit Brokkoliröschen versteckt.\"\n",
    "\n",
    "import random\n",
    "\n",
    "alphabet = \"abcdefghijklmnopqrstuvwxyzäöüß\"\n",
    "encoding = list(alphabet)\n",
    "decoding = list(alphabet)\n",
    "random.shuffle(decoding)\n",
    "\n"
   ]
  },
  {
   "cell_type": "markdown",
   "id": "ab41bbfe-b742-4e91-8eac-e2560f46bf0e",
   "metadata": {
    "deletable": false,
    "editable": false
   },
   "source": [
    "8. Berechne alle Wort-Trigramme für die ersten hundert Sätze im Koalitionsvertrag von 2021 und lass Dir die ersten zehn davon ausgeben.\n",
    "\n",
    "    📌 Herausforderung: Verwend eine List Comprehension zum Erstellen der Liste mit Trigrammen."
   ]
  },
  {
   "cell_type": "code",
   "execution_count": null,
   "id": "4049b04c-8655-47f1-96bd-c1ba99b2cc5f",
   "metadata": {
    "tags": []
   },
   "outputs": [],
   "source": [
    "with open(\"../3_Dateien/Koalitionsvertraege/koalitionsvertrag_2021.txt\", encoding=\"utf-8\") as g:\n",
    "    kv21 = g.read()\n",
    "    \n"
   ]
  },
  {
   "cell_type": "markdown",
   "id": "1d496509-e92d-4e20-a844-49bfb061247d",
   "metadata": {
    "deletable": false,
    "editable": false
   },
   "source": [
    "9. Schaff aufbauend auf Übung 8 eine Funktion namens `ngrammer`, die wir fortan zum Ausrechnen von n-grammen benutzen können. Die Funktion soll neben einem string, aus dem die n-gramme errechnet werden, auch eine Ganzzahl als Argument akzeptieren. Letztere definiert die Größe der n-gramme, sprich: n. Die Funktion soll die Liste mit n-grammen der gewünschten Größe zurückgeben. Wend sie anschließend auf `kv21` an und überprüf, ob die ersten zehn Trigramme dieselben wie die in der Übung 8 errechneten sind.\n",
    "\n",
    "    📌 Herausforderung: Begrenz den Funktionscode auf eine einzige Zeile."
   ]
  },
  {
   "cell_type": "code",
   "execution_count": null,
   "id": "aeae9fc9-559c-49b8-ab9a-19f1c14be23a",
   "metadata": {},
   "outputs": [],
   "source": [
    "#In diese Zelle kannst Du den Code zur Übung schreiben.\n",
    "\n"
   ]
  },
  {
   "cell_type": "markdown",
   "id": "6fe43e1f-b23a-4199-967c-920dd0414c8d",
   "metadata": {
    "deletable": false,
    "editable": false
   },
   "source": [
    "10. Der folgende Code soll die Liste `some_letters` alphabetisch sortieren. Was läuft schief?"
   ]
  },
  {
   "cell_type": "code",
   "execution_count": null,
   "id": "020c987e-f87e-4fb5-bae3-75544d47d2b5",
   "metadata": {
    "tags": []
   },
   "outputs": [],
   "source": [
    "some_letters = [\"b\", \"x\", \"k\", \"q\", \"d\"]\n",
    "sorted(some_letters)\n",
    "print(some_letters)"
   ]
  },
  {
   "cell_type": "markdown",
   "id": "ffdc63e3-ad11-4fa2-8924-4b028438035c",
   "metadata": {
    "deletable": false,
    "editable": false
   },
   "source": [
    "11. Verwend eine List Comprehension, um die string-Methode `title` nachzuprogrammieren und Dir `my_english_title` als englischsprachigen Titel gemäß der Methode ausgeben zu lassen. Bau zusätzlich eine Bedingung ein, sodass nur Wörter von einer Länge von über drei Buchstaben großgeschrieben werden. Damit nähern wir uns den komplizierten Regeln von [Title Case](https://en.wikipedia.org/wiki/Title_case) zumindest etwas mehr als die sehr brachiale `title`-Methode."
   ]
  },
  {
   "cell_type": "code",
   "execution_count": null,
   "id": "99203596-43f0-4048-aa92-bbd6aa6fa138",
   "metadata": {
    "tags": []
   },
   "outputs": [],
   "source": [
    "my_english_title = \"Handbook about the magic technique of list comprehensions\"\n",
    "\n"
   ]
  },
  {
   "cell_type": "markdown",
   "id": "69711bdb-68b6-4759-bf06-39c53e15a118",
   "metadata": {
    "deletable": false,
    "editable": false
   },
   "source": [
    "12. Nicht nur ```for```-Schleifen können ineinander verschachtelt werden, sondern auch List Comprehensions. Der folgende (funktionierende) Code iteriert über drei Listen bestehend aus Vornamen, Nachnamen und E-Maildomänen und generiert daraus komplette, fiktive E-Mailadressen, wie sie für eine Spam-Mailattacke benutzt werden könnten. \n",
    "    \n",
    "    Wandle den gegebenen Code in **eine** List Comprehension um, um dasselbe Resultat zu erzielen.  "
   ]
  },
  {
   "cell_type": "code",
   "execution_count": null,
   "id": "ba8057c7",
   "metadata": {},
   "outputs": [],
   "source": [
    "names = [\"Max\", \"Moritz\", \"Ute\", \"Catarina\"]\n",
    "surnames = [\"Schulze\", \"Rodriguez\", \"Meier\", \"Markov\"]\n",
    "domains = [\"gmx.de\", \"gmail.com\", \"icloud.com\", \"web.de\"]\n",
    "\n",
    "\n",
    "emails = []\n",
    "for name in names:\n",
    "    for surname in surnames:\n",
    "        for domain in domains:\n",
    "            emails.append(name.lower() + \".\" + surname.lower() + \"@\" + domain)\n",
    "\n",
    "print(len(emails))"
   ]
  },
  {
   "cell_type": "markdown",
   "id": "50020706-5eaf-420a-b618-1e0f0c82d9ff",
   "metadata": {
    "deletable": false,
    "editable": false
   },
   "source": [
    "13. Copy-paste die im Notebook erstellte Funktion `get_freqs` in die Code-Zelle unten. Lösch den Part mit den Stoppwörtern, da wir diese bei der Berechnung von n-grammen nicht entfernen wollen (tatsächlich sind diese \"kleinen\" Wörter in n-grammen sehr bedeutungsvoll). \n",
    "\n",
    "    Kombinier den Code nun mit der Funktion `ngrammer` von oben, sodass wahlweise die Frequenzen von Wörtern (Unigrammen) oder n-grammen (mit n>1) berechnet und zurückgegeben werden. Lass Dir anschließend Quadrigramm-Frequenzen im Koalitionsvertrag von 2021 ausgeben (die Berechnung dauert womöglich eine Weile).\n",
    "\n",
    "    📌 Herausforderung: Find heraus, wie Du einen Standardwert für `n` von `1` festlegen kannst, sodass Wortfrequenzen berechnet werden, sofern beim Funktionsaufruf kein abweichender Wert für `n` übergeben wird. Implementier diesen Standardwert in Deine Funktion."
   ]
  },
  {
   "cell_type": "code",
   "execution_count": null,
   "id": "d9064e20-047e-47d8-95d4-f4051d027739",
   "metadata": {
    "tags": []
   },
   "outputs": [],
   "source": [
    "with open(\"../3_Dateien/Koalitionsvertraege/koalitionsvertrag_2021.txt\", encoding=\"utf-8\") as g:\n",
    "    kv21 = g.read()\n",
    "    \n",
    "    \n",
    "    "
   ]
  },
  {
   "cell_type": "markdown",
   "id": "9ed806fb-7089-4f60-9f32-796bc68f6266",
   "metadata": {
    "deletable": false,
    "editable": false
   },
   "source": [
    "14. Speicher die in Übung 13 erstellte Funktion als Modul und importier sie."
   ]
  },
  {
   "cell_type": "code",
   "execution_count": null,
   "id": "5dd89b31-317c-4852-90b2-2aa936900def",
   "metadata": {},
   "outputs": [],
   "source": [
    "#In diese Zelle kannst Du den Code zur Übung schreiben.\n",
    "\n"
   ]
  }
 ],
 "metadata": {
  "kernelspec": {
   "display_name": "Python 3 (ipykernel)",
   "language": "python",
   "name": "python3"
  },
  "language_info": {
   "codemirror_mode": {
    "name": "ipython",
    "version": 3
   },
   "file_extension": ".py",
   "mimetype": "text/x-python",
   "name": "python",
   "nbconvert_exporter": "python",
   "pygments_lexer": "ipython3",
   "version": "3.11.5"
  }
 },
 "nbformat": 4,
 "nbformat_minor": 5
}