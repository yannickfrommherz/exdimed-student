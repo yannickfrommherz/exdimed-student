{
 "cells": [
  {
   "cell_type": "markdown",
   "id": "f07d363b-9fee-4793-87c8-a3739fe73b3b",
   "metadata": {
    "deletable": false,
    "editable": false
   },
   "source": [
    "# Zusatzübungen zum Notebook \"Input und Output\""
   ]
  },
  {
   "cell_type": "markdown",
   "id": "666ccd0c-46de-4be6-b09d-c5849823b3e0",
   "metadata": {
    "deletable": false,
    "editable": false
   },
   "source": [
    "1. Lies das erste Kapitel von [Niels Holgersens wunderbare Reise mit den Wildgänsen](https://www.projekt-gutenberg.org/lagerloe/nielsho1/titlepage.html) von Selma Lagerlöf ein und weise es `niels_holgersen` zu. Entferne dabei sämtliche Zeilenumbrüche, sodass ein Fließtext entsteht. Lass Dir die ersten 1000 Zeichen ausgeben.\n",
    "\n",
    "   📌 Herausforderung: Löse die Übung mithilfe einer List Comprehension."
   ]
  },
  {
   "cell_type": "code",
   "execution_count": null,
   "id": "566a31b6-f44f-4528-8ad7-bf555beb0360",
   "metadata": {},
   "outputs": [],
   "source": [
    "\n",
    "\n",
    "\n"
   ]
  },
  {
   "cell_type": "markdown",
   "id": "819812e2-13b5-4dc5-a896-f8226781f7e4",
   "metadata": {
    "deletable": false,
    "editable": false
   },
   "source": [
    "2. Lass Dir `niels_holgersen` als Blocksatz mit jeweils 100 Zeichen pro Zeile ausgeben. Wörter dürfen sich über Zeilenumbrüche hinweg erstrecken, ein Bindestrich ist nicht nötig.\n",
    "\n",
    "    📌 Herausforderung: Löse die Übung mithilfe einer List Comprehension."
   ]
  },
  {
   "cell_type": "code",
   "execution_count": null,
   "id": "21b8f259-8f80-496d-b8a2-2c30a345c329",
   "metadata": {},
   "outputs": [],
   "source": [
    "\n",
    "\n",
    "\n"
   ]
  },
  {
   "cell_type": "markdown",
   "id": "0fa55e34-1b09-4eff-b028-2764c8115335",
   "metadata": {
    "deletable": false,
    "editable": false
   },
   "source": [
    "3. Extrahiere sämtliche Fälle von direkter Rede aus `niels_holgersen` und speichere sie auf der Liste `direct_speech` ab. Ein zu extrahierendes Beispiel lautet \n",
    "    \n",
    "        »Wartet! Wartet! ich komme.«\n",
    "   </br>\n",
    "    Verwende hierfür keine regulären Ausdrücke (vgl. sechstes Notebook)."
   ]
  },
  {
   "cell_type": "code",
   "execution_count": null,
   "id": "51d5a7f3-d1a2-433c-93f1-86e4c1470289",
   "metadata": {},
   "outputs": [],
   "source": [
    "\n",
    "\n",
    "\n"
   ]
  },
  {
   "cell_type": "markdown",
   "id": "b9705452-adce-4c3c-8d87-d68c243acf9e",
   "metadata": {
    "deletable": false,
    "editable": false
   },
   "source": [
    "4. Schaffe einen irrwitzigen Dialog zwischen den Figuren auf `subjects` (füge gerne weitere amüsante Charaktere hinzu). Verwende dazu sämtliche Redebeiträge auf der Liste `direct_speech` aus der Übung 3 in zufälliger Reihenfolge. Die Figuren sollen abwechselnd zu Wort kommen, wobei sie ihren Redebeitrag über ein jeweils zufälliges Sprechaktverb der Liste `verbs` äußern (auch hier kannst Du gerne weitere Verben hinzufügen). Der Dialog soll wie folgt aussehen:\n",
    "\n",
    "    <img src=\"../3_Dateien/Grafiken_und_Videos/Irrwitziger_Dialog.png\">\n",
    "\n",
    "    und so weiter.\n",
    "\n",
    "   Um eine zufällige Reihenfolge bzw. eine zufällige Auswahl zu generieren, musst Du ein Dir bekanntes Modul importieren. Lies ggf. in der Dokumentation des Moduls nach, welche Funktionen die benötigten Operationen implementieren."
   ]
  },
  {
   "cell_type": "code",
   "execution_count": null,
   "id": "380e3b73-2ab1-4ced-a73a-7cf67e330fcc",
   "metadata": {},
   "outputs": [],
   "source": [
    "\n",
    "\n",
    "\n"
   ]
  },
  {
   "cell_type": "markdown",
   "id": "07e04639-1f23-4670-b6f6-44827482c302",
   "metadata": {
    "deletable": false,
    "editable": false
   },
   "source": [
    "5. Führe den Code, den Du in Übung 4 geschrieben hast, ein paar Mal aus, bis Du einen besonders lustigen Dialog erhältst. Speichere nun diesen Dialog als Textdatei im Ordner \"Output\". Formatiere dabei den Text wie ein Drama (vgl. *Nathan der Weise* im Lehrnotebook). Die Textdatei soll zudem einen Titel sowie eine Auflistung der Figuren beinhalten. "
   ]
  },
  {
   "cell_type": "code",
   "execution_count": null,
   "id": "da266ccc-71ec-402d-8918-6d2c80b4cf2c",
   "metadata": {},
   "outputs": [],
   "source": [
    "\n",
    "\n",
    "\n"
   ]
  },
  {
   "cell_type": "markdown",
   "id": "c694ac81-9a3a-49c4-bc36-ff0b64462f84",
   "metadata": {
    "deletable": false,
    "editable": false
   },
   "source": [
    "6. Füge Deiner eben geschaffenen Datei (mithilfe von Python!) den Satz \"An dieser Stelle endet die die Zusammenkunft abrupt.\" an."
   ]
  },
  {
   "cell_type": "code",
   "execution_count": null,
   "id": "c0c8e83f-fc66-4a50-823a-e80f1e79fa86",
   "metadata": {},
   "outputs": [],
   "source": [
    "\n",
    "\n",
    "\n"
   ]
  },
  {
   "cell_type": "markdown",
   "id": "4b74b8e4-ff0c-4952-8762-85f4f08d090b",
   "metadata": {
    "deletable": false,
    "editable": false
   },
   "source": [
    "7. Lass Dir das aktuelles Arbeitsverzeichnis sowie die darin befindlichen Dateien und Verzeichnisse ausgeben.\n",
    "\n",
    "    📌 Herausforderung: Schaffe ein neues Verzeichnis namens \"new_dir\" im aktuellen Arbeitsverzeichnis und überprüfe anschließend (mithilfe von Python), ob es geklappt hat."
   ]
  },
  {
   "cell_type": "code",
   "execution_count": null,
   "id": "65a33bd6-6ddd-4d52-b487-7d096dd05a7d",
   "metadata": {},
   "outputs": [],
   "source": [
    "\n",
    "\n",
    "\n"
   ]
  },
  {
   "cell_type": "markdown",
   "id": "5f2471f0-7598-41b0-af0d-7821eb8948fb",
   "metadata": {
    "deletable": false,
    "editable": false
   },
   "source": [
    "8. Lies aufbauend auf der Zusatzübung 7 zum dritten Notebook die Datei \"de_sv.csv\" aus dem Ordner \"Tabellarische_Daten\" ein. Darin befinden sich nun mehr als nur eine Handvoll Vokabeln Deutsch-Schwedisch. Genauer gesagt, handelt es sich um die 100 wichtigsten Vokabeln gemäß ChatGPT. Überführe die Daten in ein geeignetes Objekt und \"füttere\" damit den bereits programmierten Vokabeltrainer. Beim Einlesen dürfte die Dir noch unbekannte `next`-Funktion hilfreich sein – erkundige selbständig, wie Du sie einsetzen kannst. Implementiere außerdem einen Mechanismus, über den Benutzer:innen die Lernsession vorzeitig beenden können, falls sie nicht alle 100 Vokabeln lernen möchten."
   ]
  },
  {
   "cell_type": "code",
   "execution_count": null,
   "id": "6e7c161f-6db6-4e77-b0cb-2d85850c0f11",
   "metadata": {},
   "outputs": [],
   "source": [
    "\n",
    "\n",
    "\n"
   ]
  },
  {
   "cell_type": "markdown",
   "id": "4718ec00-986f-474a-aa2d-3774260bc8df",
   "metadata": {
    "deletable": false,
    "editable": false
   },
   "source": [
    "9. Passe den Code aus Übung 8 derart an, dass Benutzer:innen eine Übersicht über die korrekt übersetzten bzw. falsch übersetzten Vokabeln gegeben wird, sobald sie die Lernsession beenden. Überleg Dir, wie Du diese Übersicht visuell ansprechend formatieren kannst. Folgender Screenshot ist eine Idee, Du kannst die Ausgabe auch gerne anders gestalten:\n",
    "   \n",
    "    <img src=\"../3_Dateien/Grafiken_und_Videos/Formatierung.png\" width=\"300\"/>"
   ]
  },
  {
   "cell_type": "code",
   "execution_count": null,
   "id": "6bb1869a-a1da-4386-8f7b-da2338e4eb30",
   "metadata": {},
   "outputs": [],
   "source": [
    "\n",
    "\n",
    "\n"
   ]
  },
  {
   "cell_type": "markdown",
   "id": "e8530b19-8d9f-450e-9d34-9abb2294b110",
   "metadata": {
    "deletable": false,
    "editable": false
   },
   "source": [
    "10. In dieser letzten Übung begeben wir uns in unbekanntes Terrain. Den Großteil der Arbeit erledigen wir nämlich nicht wie gewohnt aus JupypterLab heraus, sondern über die Command Line (Terminal unter macOS/Eingabeaufforderung unter Windows; Achtung: Übung funktioniert nicht innerhalb von GitHub Codespace). Manche Tools stehen nämlich nur für die Command Line bereit und nicht für Python. So auch [TreeTagger](https://www.cis.uni-muenchen.de/~schmid/tools/TreeTagger/), ein Tool, mit dem wir Text in verschiedenen Sprachen mit metalinguistischen Informationen wie Lemma (also die Form eines Wortes, die in einem Wörterbuch steht, z.B. \"Kindes\" > \"Kind\") oder Part-of-Speech-Tags (Wortarten; abgekürzt: *POS*) anreichern können.\n",
    "\n",
    "    1. Installiere TreeTagger über die Schritte 1-5 auf der oben verlinkten Seite. Bei den \"parameter files\" lädst Du das [German parameter file](https://www.cis.uni-muenchen.de/~schmid/tools/TreeTagger/data/german.par.gz) herunter. Speichere alle Dateien im gleichen Verzeichnis und achte darauf, dass der Dateipfad dorthin keine Leerschläge enthält. Entpacke keine der Dateien. Bei Schritt 5 ist es wichtig, dass Du die Command Line entweder direkt aus dem Verzeichnis mit den TreeTagger-Dateien heraus öffnest (i.d.R. möglich über Rechtsklick im Verzeichnis), oder mittels `cd path` zum Verzeichnis navigierst. Dadurch hat die Command Line das Verzeichnis der TreeTagger-Dateien als aktuelles Arbeitsverzeichnis.\n",
    "    3. Schau, ob die Installation geklappt hat, indem Du in der Command Line (mit dem TreeTagger-Verzeichnis als Arbeitsverzeichnis!) den Befehl `echo 'Hallo Welt!' | cmd/tree-tagger-german` eingibst. Ggf. verhindert Dein Betriebssystem die Ausführung des Befehls, weil TreeTagger nicht von einem verifizierten Entwickler stammt. Über die Einstellungen Deines Betriebssystems solltest Du diese Blockierung aufheben können. Die Ausgabe sollte folgendermaßen ausschauen:\n",
    "\n",
    "        <img src=\"../3_Dateien/Grafiken_und_Videos/Terminal_Output.png\" width=\"450\"/>\n",
    "\n",
    "\n",
    "        Die erste Spalte enthält die ursprünglichen Wörter unserer Eingabe in tokenisierter Form (ein Token pro Zeile). Die zweite Spalte enthält die POS-Tags (die deutsche Legende findest Du [hier](https://www.cis.uni-muenchen.de/~schmid/tools/TreeTagger/data/STTS-Tagset.pdf)) und die dritte die Lemmas.\n",
    "    4. Nun wollen wir einen längeren Text taggen. Speichere dazu den in Übung 1 erstellten Fließtext mit Niels Holgersens erstem Kapitel im gleichen Verzeichnis wie die TreeTagger-Dateien unter dem Namen \"niels_holgersen.txt\" ab.\n",
    "    5. Führe den Befehl `cmd/tree-tagger-german niels_holgersen.txt > niels_holgersen_tagged.txt` in der Command Line (mit dem TreeTagger-Verzeichnis als Arbeitsverzeichnis!) aus. Dadurch übergeben wir \"niels_holgersen.txt\" dem Pogramm \"tree-tagger-german\" (das sich im Unterverzeichnis \"cmd/\" befindet). Das Programm tokenisiert, POS-taggt und lemmatisiert den Text in \"niels_holgersen.txt\" und speichert das Ergebnis in \"niels_holgersen_tagged.txt\". Öffne die neue Datei (z.B. mit Sublime Text) und inspiziere sie.\n",
    "    6. Lies die Datei hier in JupyterLab ein und finde heraus, welches POS-Tag am häufigsten vorkommt. Es sollte sich um Nomen (NN) handeln."
   ]
  },
  {
   "cell_type": "code",
   "execution_count": null,
   "id": "33c908ac-8360-4ccb-a39b-3039a84c96f2",
   "metadata": {},
   "outputs": [],
   "source": [
    "\n",
    "\n",
    "\n"
   ]
  }
 ],
 "metadata": {
  "kernelspec": {
   "display_name": "Python 3 (ipykernel)",
   "language": "python",
   "name": "python3"
  },
  "language_info": {
   "codemirror_mode": {
    "name": "ipython",
    "version": 3
   },
   "file_extension": ".py",
   "mimetype": "text/x-python",
   "name": "python",
   "nbconvert_exporter": "python",
   "pygments_lexer": "ipython3",
   "version": "3.10.7"
  }
 },
 "nbformat": 4,
 "nbformat_minor": 5
}