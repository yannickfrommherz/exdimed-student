{
 "cells": [
  {
   "cell_type": "markdown",
   "id": "f07d363b-9fee-4793-87c8-a3739fe73b3b",
   "metadata": {
    "deletable": false,
    "editable": false
   },
   "source": [
    "# Zusatzübungen zum Notebook \"Input und Output\""
   ]
  },
  {
   "cell_type": "markdown",
   "id": "666ccd0c-46de-4be6-b09d-c5849823b3e0",
   "metadata": {
    "deletable": false,
    "editable": false
   },
   "source": [
    "1. Lies das erste Kapitel von [Niels Holgersens wunderbare Reise mit den Wildgänsen](https://www.projekt-gutenberg.org/lagerloe/nielsho1/titlepage.html) von Selma Lagerlöf ein und weis es ```niels_holgersen``` zu. Entfern dabei sämtliche Zeilenumbrüche, sodass ein Fließtext entsteht. Lass Dir die ersten 1000 Zeichen ausgeben.\n",
    "\n",
    "   📌 Herausforderung: Lös die Übung mithilfe einer List Comprehension."
   ]
  },
  {
   "cell_type": "code",
   "execution_count": null,
   "id": "566a31b6-f44f-4528-8ad7-bf555beb0360",
   "metadata": {},
   "outputs": [],
   "source": [
    "\n",
    "\n",
    "\n"
   ]
  },
  {
   "cell_type": "markdown",
   "id": "819812e2-13b5-4dc5-a896-f8226781f7e4",
   "metadata": {
    "deletable": false,
    "editable": false
   },
   "source": [
    "2. Lass Dir ```niels_holgersen``` als Blocksatz mit jeweils 100 Zeichen pro Zeile ausgeben. Wörter dürfen sich über Zeilenumbrüche hinweg erstrecken, ein Bindestrich ist nicht nötig.\n",
    "\n",
    "    📌 Herausforderung: Lös die Übung mithilfe einer List Comprehension."
   ]
  },
  {
   "cell_type": "code",
   "execution_count": null,
   "id": "f15337ad-7b11-4b81-a834-58c80f7cfae2",
   "metadata": {},
   "outputs": [],
   "source": [
    "\n",
    "\n",
    "\n"
   ]
  },
  {
   "cell_type": "markdown",
   "id": "0fa55e34-1b09-4eff-b028-2764c8115335",
   "metadata": {
    "deletable": false,
    "editable": false
   },
   "source": [
    "3. Extrahier sämtliche Fälle von direkter Rede aus ```niels_holgersen``` und speicher sie auf der Liste ```direct_speech``` ab. Ein zu extrahierendes Beispiel lautet \n",
    "    \n",
    "        »Wartet! Wartet! ich komme.«\n",
    "   </br>\n",
    "    Nutz hierfür keine regulären Ausdrücke (vgl. Notebook \"Reguläre Ausdrücke\")."
   ]
  },
  {
   "cell_type": "code",
   "execution_count": null,
   "id": "51d5a7f3-d1a2-433c-93f1-86e4c1470289",
   "metadata": {},
   "outputs": [],
   "source": [
    "\n",
    "\n",
    "\n"
   ]
  },
  {
   "cell_type": "markdown",
   "id": "b9705452-adce-4c3c-8d87-d68c243acf9e",
   "metadata": {
    "deletable": false,
    "editable": false
   },
   "source": [
    "4. Schaff einen irrwitzigen Dialog zwischen den Figuren auf ```subjects``` (füg gerne weitere amüsante Charaktere hinzu). Verwend dazu sämtliche Redebeiträge auf der Liste ```direct_speech``` aus der Übung 3 in zufälliger Reihenfolge. Die Figuren sollen abwechselnd zu Wort kommen, wobei sie ihren Redebeitrag über ein jeweils zufälliges Sprechaktverb der Liste ```verbs``` äußern (auch hier kannst Du gerne weitere Verben hinzufügen). Der Dialog soll wie folgt aussehen:\n",
    "\n",
    "    <img src=\"../3_Dateien/Grafiken_und_Videos/Irrwitziger_Dialog.png\">\n",
    "\n",
    "    und so weiter.\n",
    "\n",
    "   Um eine zufällige Reihenfolge bzw. eine zufällige Auswahl zu generieren, musst Du ein Dir bekanntes Modul importieren. Lies ggf. in der Dokumentation des Moduls nach, welche Funktionen die benötigten Operationen implementieren."
   ]
  },
  {
   "cell_type": "code",
   "execution_count": null,
   "id": "380e3b73-2ab1-4ced-a73a-7cf67e330fcc",
   "metadata": {},
   "outputs": [],
   "source": [
    "subjects = [\"Der Witwer\", \"Die Diva\", \"Der Kobold (der heimlich zugegen war)\", \"Die misanthrope Ente\"]\n",
    "verbs = [\"meinte\", \"schrie\", \"flüsterte\", \"hielt dagegen\", \"verkündete\", \"jauchzte\", \"raunte\", \"soufflierte\", \"röchelte\"]\n",
    "\n",
    "\n",
    "\n"
   ]
  },
  {
   "cell_type": "markdown",
   "id": "07e04639-1f23-4670-b6f6-44827482c302",
   "metadata": {
    "deletable": false,
    "editable": false
   },
   "source": [
    "5. Führ den Code, den Du in Übung 4 geschrieben hast, ein paar Mal aus, bis Du einen besonders lustigen Dialog erhältst. Speicher nun diesen Dialog als Textdatei im Ordner \"Output\". Formatier dabei den Text wie ein Drama (vgl. *Nathan der Weise* im Lehrnotebook). Die Textdatei soll zudem einen Titel sowie eine Auflistung der Figuren beinhalten. "
   ]
  },
  {
   "cell_type": "code",
   "execution_count": null,
   "id": "da266ccc-71ec-402d-8918-6d2c80b4cf2c",
   "metadata": {},
   "outputs": [],
   "source": [
    "\n",
    "\n",
    "\n"
   ]
  },
  {
   "cell_type": "markdown",
   "id": "c694ac81-9a3a-49c4-bc36-ff0b64462f84",
   "metadata": {
    "deletable": false,
    "editable": false
   },
   "source": [
    "6. Füg Deiner eben geschaffenen Datei (mithilfe von Python!) den Satz \"An dieser Stelle endet die Zusammenkunft abrupt.\" an."
   ]
  },
  {
   "cell_type": "code",
   "execution_count": null,
   "id": "c0c8e83f-fc66-4a50-823a-e80f1e79fa86",
   "metadata": {},
   "outputs": [],
   "source": [
    "\n",
    "\n",
    "\n"
   ]
  },
  {
   "cell_type": "markdown",
   "id": "4b74b8e4-ff0c-4952-8762-85f4f08d090b",
   "metadata": {
    "deletable": false,
    "editable": false
   },
   "source": [
    "7. Lass Dir das aktuelle Arbeitsverzeichnis sowie die darin befindlichen Dateien und Verzeichnisse ausgeben.\n",
    "\n",
    "    📌 Herausforderung: Schaff mithilfe von Python ein neues Verzeichnis namens \"new_dir\" im aktuellen Arbeitsverzeichnis und überprüf anschließend ebenfalls mithilfe von Python, ob es geklappt hat."
   ]
  },
  {
   "cell_type": "code",
   "execution_count": null,
   "id": "65a33bd6-6ddd-4d52-b487-7d096dd05a7d",
   "metadata": {},
   "outputs": [],
   "source": [
    "\n",
    "\n",
    "\n"
   ]
  },
  {
   "cell_type": "markdown",
   "id": "5f2471f0-7598-41b0-af0d-7821eb8948fb",
   "metadata": {
    "deletable": false,
    "editable": false
   },
   "source": [
    "8. Lies aufbauend auf der Zusatzübung 7 zum Notebook \"Kontrollstrukturen\" die Datei \"de_sv.csv\" aus dem Ordner \"Tabellarische_Daten\" ein. Darin befinden sich nun mehr als nur eine Handvoll Vokabeln Deutsch-Schwedisch. Genauer gesagt handelt es sich um die 100 wichtigsten Vokabeln gemäß ChatGPT. Überführ die Daten in ein geeignetes Objekt und \"fütter\" damit den bereits programmierten Vokabeltrainer. Beim Einlesen dürfte die Dir noch unbekannte `next`-Funktion hilfreich sein – erkunde selbständig, wie Du sie einsetzen kannst. Implementier außerdem einen Mechanismus, über den Benutzer:innen die Lernsession vorzeitig beenden können, falls sie nicht alle 100 Vokabeln lernen möchten."
   ]
  },
  {
   "cell_type": "code",
   "execution_count": null,
   "id": "6e7c161f-6db6-4e77-b0cb-2d85850c0f11",
   "metadata": {},
   "outputs": [],
   "source": [
    "\n",
    "\n",
    "\n"
   ]
  },
  {
   "cell_type": "markdown",
   "id": "4718ec00-986f-474a-aa2d-3774260bc8df",
   "metadata": {
    "deletable": false,
    "editable": false
   },
   "source": [
    "9. Pass den Code aus Übung 8 derart an, dass Benutzer:innen eine Übersicht über die korrekt übersetzten bzw. falsch übersetzten Vokabeln gegeben wird, sobald sie die Lernsession beenden. Überleg Dir, wie Du diese Übersicht visuell ansprechend formatieren kannst. Folgender Screenshot ist eine Idee, Du kannst die Ausgabe auch gerne anders gestalten:\n",
    "   \n",
    "    <img src=\"../3_Dateien/Grafiken_und_Videos/Formatierung.png\" width=\"300\"/>"
   ]
  },
  {
   "cell_type": "code",
   "execution_count": null,
   "id": "6bb1869a-a1da-4386-8f7b-da2338e4eb30",
   "metadata": {},
   "outputs": [],
   "source": [
    "\n",
    "\n",
    "\n"
   ]
  },
  {
   "cell_type": "markdown",
   "id": "08d1c42b-09b2-4f1a-b5e3-701354b443fb",
   "metadata": {
    "deletable": false,
    "editable": false
   },
   "source": [
    "10. Wirklich gute Texte bringen die Sache tatsächlich auch jeweils klar auf den Punkt.\n",
    "\n",
    "    Dieser Satz ist wahr, aber schlecht formuliert, da fünf von dreizehn Wörtern Füllwörter sind. Füllwörter tragen wenig zur Aussage eines Satzes bei und schmälern dadurch insgesamt seine Aussagekraft. In dieser Übung kannst Du überprüfen, wie es um von Dir verfasste Texte in Bezug auf Füllwörter steht. Such Dir dazu einen längeren Text aus (z.&nbsp;B. eine Seminararbeit). Es soll sich um eine Microsoft Word-Datei handeln.\n",
    "    \n",
    "    1. Installier das Modul `docx2txt` über das Terminal bzw. die Eingabeaufforderung (```pip3 install docx2txt```) und importier es anschließend hier. Deinen Text kannst Du mihilfe der Funktion `process` unter Angabe seines Dateipfads einlesen, also so: ```docx2txt.process(path)```. Splitte Deinen Text in Wörter und nimm sinnvolle Preprocessing-Schritte vor.\n",
    "    2. Lies die Datei \"fuellwoerter.txt\" aus dem gleichnamigen Ordner ein und schaff eine Liste mit Füllwörtern.\n",
    "    3. Zähl sämtliche Füllwörter in Deinem Text aus und lass Dir die zehn häufigsten Füllwörter inklusive ihrer Vorkommenshäufigkeit ausgeben."
   ]
  },
  {
   "cell_type": "code",
   "execution_count": null,
   "id": "5b1b08a4-8b9a-4e24-bc2a-8b06dcd1882a",
   "metadata": {},
   "outputs": [],
   "source": [
    "\n",
    "\n",
    "\n"
   ]
  },
  {
   "cell_type": "markdown",
   "id": "4b644b3e-11fb-4ff8-b890-0924ce4eb81a",
   "metadata": {
    "deletable": false,
    "editable": false
   },
   "source": [
    "11. Es gibt ja diese Theorie, dass man die Reihenfolge der Buchstaben in Wörtern zufällig mischen kann. Solange der erste und letzte Buchstabe erhalten bleiben, können wir das Wort trotzdem flüssig lesen. Überprüfen wir das an dieser Aufgabenstellung. Schreib dazu einen Code, der die Buchstaben in den Wörtern dieser Aufgabenstellung zufällig mischt, wobei der jeweilige Anfangs- und Endbuchstabe eines Wortes gleich bleiben sollen. Die Reihenfolge der Wörter soll natürlich ebenfalls gleich bleiben. Zur zufälligen Mischung kannst Du wie oben die Funktion ```shuffle``` des Moduls ```random``` benutzen. Zeig das Resultat einer uneingeweihten Person und schau, ob diese den manipulierten Text lesen kann."
   ]
  },
  {
   "cell_type": "code",
   "execution_count": null,
   "id": "bc1b3965-cfd6-4ad4-92af-a24744434725",
   "metadata": {},
   "outputs": [],
   "source": [
    "text = \"Es gibt ja diese Theorie, dass man die Reihenfolge der Buchstaben in Wörtern zufällig mischen kann. Solange der erste und letzte Buchstabe erhalten bleiben, können wir das Wort trotzdem flüssig lesen. Überprüfen wir das an dieser Aufgabenstellung. Schreib dazu einen Code, der die Buchstaben in den Wörtern dieser Aufgabenstellung zufällig mischt, wobei der jeweilige Anfangs- und Endbuchstabe eines Wortes gleich bleiben sollen. Die Reihenfolge der Wörter soll natürlich ebenfalls gleich bleiben. Zur zufälligen Mischung kannst Du wie oben die Funktion shuffle des Moduls random benutzen. Zeig das Resultat einer uneingeweihten Person und schau, ob diese den manipulierten Text lesen kann.\"\n",
    "\n",
    "\n"
   ]
  },
  {
   "cell_type": "markdown",
   "id": "e8530b19-8d9f-450e-9d34-9abb2294b110",
   "metadata": {
    "deletable": false,
    "editable": false
   },
   "source": [
    "12. In dieser letzten Übung begeben wir uns in unbekanntes Terrain. Den Großteil der Arbeit erledigen wir nämlich nicht wie gewohnt aus dem Jupyter Notebook heraus, sondern über die Command Line (Terminal unter macOS und Linux/Eingabeaufforderung unter Windows; Achtung: Übung funktioniert nicht innerhalb von GitHub Codespace). Manche Tools stehen nämlich nur für die Command Line bereit und nicht für Python. So auch [TreeTagger](https://www.cis.uni-muenchen.de/~schmid/tools/TreeTagger/), ein Tool, mit dem wir Text in verschiedenen Sprachen mit metalinguistischen Informationen wie Lemmata (also die jeweiligen Formen von Wörtern, die in einem Wörterbuch stehen, z.&nbsp;B. \"Kindes\" > \"Kind\") oder Part-of-Speech-Tags (Wortarten; abgekürzt: *POS*) anreichern können.\n",
    "\n",
    "    1. Installier TreeTagger über die Schritte 1-5 auf der oben verlinkten Seite. Bei den \"parameter files\" lädst Du das [German parameter file](https://www.cis.uni-muenchen.de/~schmid/tools/TreeTagger/data/german.par.gz) herunter. Speicher alle Dateien im gleichen Verzeichnis und achte darauf, dass der Dateipfad dorthin keine Leerschläge enthält. Entpack keine der Dateien. Bei Schritt 5 ist es wichtig, dass Du die Command Line entweder direkt aus dem Verzeichnis mit den TreeTagger-Dateien heraus öffnest (i.&nbsp;d.&nbsp;R. möglich über Rechtsklick im Verzeichnis), oder mittels ```cd path``` zum Verzeichnis navigierst. Dadurch hat die Command Line das Verzeichnis der TreeTagger-Dateien als aktuelles Arbeitsverzeichnis.\n",
    "    3. Schau, ob die Installation geklappt hat, indem Du in der Command Line (mit dem TreeTagger-Verzeichnis als Arbeitsverzeichnis!) den Befehl ```echo 'Hallo Welt!' | cmd/tree-tagger-german``` eingibst. Ggf. verhindert Dein Betriebssystem die Ausführung des Befehls, weil TreeTagger nicht von einem verifizierten Entwickler stammt. Über die Einstellungen Deines Betriebssystems solltest Du diese Blockierung aufheben können. Die Ausgabe sollte folgendermaßen ausschauen:\n",
    "\n",
    "        <img src=\"../3_Dateien/Grafiken_und_Videos/Terminal_Output.png\" width=\"450\"/>\n",
    "\n",
    "\n",
    "        Die erste Spalte enthält die ursprünglichen Wörter unserer Eingabe in tokenisierter Form (ein Token pro Zeile). Die zweite Spalte enthält die POS-Tags (die deutsche Legende findest Du [hier](https://www.cis.uni-muenchen.de/~schmid/tools/TreeTagger/data/STTS-Tagset.pdf)) und die dritte die Lemmata.\n",
    "    4. Nun wollen wir einen längeren Text taggen. Speicher dazu den in Übung 1 erstellten Fließtext mit Niels Holgersens erstem Kapitel im gleichen Verzeichnis wie die TreeTagger-Dateien unter dem Namen \"niels_holgersen.txt\" ab.\n",
    "    5. Führ den Befehl ```cmd/tree-tagger-german niels_holgersen.txt > niels_holgersen_tagged.txt``` in der Command Line (mit dem TreeTagger-Verzeichnis als Arbeitsverzeichnis!) aus. Dadurch übergeben wir \"niels_holgersen.txt\" dem Programm \"tree-tagger-german\" (das sich im Unterverzeichnis \"cmd/\" befindet). Das Programm tokenisiert, POS-taggt und lemmatisiert den Text in \"niels_holgersen.txt\" und speichert das Ergebnis in \"niels_holgersen_tagged.txt\". Öffne die neue Datei (z.&nbsp;B. mit Sublime Text) und inspizier sie.\n",
    "    6. Lies die Datei hier ein und find heraus, welches POS-Tag am häufigsten vorkommt. Es sollte sich um Nomen (NN) handeln."
   ]
  },
  {
   "cell_type": "code",
   "execution_count": null,
   "id": "33c908ac-8360-4ccb-a39b-3039a84c96f2",
   "metadata": {},
   "outputs": [],
   "source": [
    "\n",
    "\n",
    "\n"
   ]
  }
 ],
 "metadata": {
  "kernelspec": {
   "display_name": "Python 3 (ipykernel)",
   "language": "python",
   "name": "python3"
  },
  "language_info": {
   "codemirror_mode": {
    "name": "ipython",
    "version": 3
   },
   "file_extension": ".py",
   "mimetype": "text/x-python",
   "name": "python",
   "nbconvert_exporter": "python",
   "pygments_lexer": "ipython3",
   "version": "3.10.7"
  }
 },
 "nbformat": 4,
 "nbformat_minor": 5
}