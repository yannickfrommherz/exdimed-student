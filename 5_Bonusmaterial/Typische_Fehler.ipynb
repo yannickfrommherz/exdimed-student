{
 "cells": [
  {
   "cell_type": "markdown",
   "id": "ebc3cffe-b2ae-4e77-a780-d418137b6842",
   "metadata": {
    "deletable": false,
    "editable": false
   },
   "source": [
    "# Typische Fehlermeldungen beim Einstieg ins Programmieren\n",
    "\n",
    "Im Laufe Deiner Programmierkarriere wirst Du beim Ausführen von Code immer wieder auf Fehlermeldungen stoßen. In diesem Notebook findest Du deshalb eine Übersicht über häufige Fehler mit jeweiligen Erklärungen und Lösungen."
   ]
  },
  {
   "cell_type": "markdown",
   "id": "3bf39985-52d9-41aa-a022-cc3d72a49d82",
   "metadata": {
    "deletable": false,
    "editable": false
   },
   "source": [
    "## Allgemeines\n",
    "\n",
    "Zunächst ganz grundsätzlich: Sobald ein Fehler auftritt, lässt Dich Python nicht komplett im Stich. Fehlermeldungen geben Dir nämlich ein paar Hinweise darauf, was schief lief, u.&nbsp;a., um welche Art von Fehler es sich handelt  (z. B. ein `NameError`, lila umrundet im Screenshot einer Fehlermeldung unten). Auf die Fehlerart folgt i.&nbsp;d.&nbsp;R. eine kurze englischsprachige Erklärung (etwa `name 'texct is not defined`, hellgrün umrundet). Außerdem zeigt Dir Python, wo genau, also in welcher Zeile, der Fehler entstand (`----> 3 print(texct)`, orange umrundet). \n",
    "\n",
    "<img src=\"../3_Dateien/Grafiken_und_Videos/Fehlermeldung.png\">\n",
    "\n",
    "Wenngleich manche Fehlermeldungen etwas kryptisch klingen, solltest Du Dir diese wertvollen Hinweise bei jeder Fehlermeldung genau anschauen. In Kombination mit den untenstehenden Erklärungen werden sie Dir das Beheben zukünftiger Fehler erleichtern."
   ]
  },
  {
   "cell_type": "markdown",
   "id": "87467022-557c-49a9-854d-ad1180d44ebb",
   "metadata": {
    "deletable": false,
    "editable": false
   },
   "source": [
    "## Übersicht \n",
    "\n",
    "Auf folgende Arten von Fehlern stoßen wir bei bei Python regelmäßig:\n",
    "\n",
    "|Fehlerbezeichung|Ursache|\n",
    "|-----|-----|\n",
    "|`NameError`| - Tippfehler im Variablennamen <br> - Zugriff auf eine nicht initiierte Variable|\n",
    "|`TypeError`|- Anwenden von Operationen auf Objekte eines unerwarteten Datentyps <br> - Überschreiben einer vordefinierten Funktion|\n",
    "|`IndexError`|- Zugriff auf ein Element über einen ungültigen Index|\n",
    "|`KeyError`|- Aufrufen eines nicht-existierenden Schlüssels in einem dictionary|\n",
    "|`AttributeError`|- Anwenden einer nicht-definierten Methode auf ein Objekt|\n",
    "|`ModuleNotFoundError`|- zu importierendes Modul kann nicht gefunden werden (Gründe dafür s.&nbsp;u.)|"
   ]
  },
  {
   "cell_type": "markdown",
   "id": "652ce33c-1aa6-4f53-bd21-2dc62f6ce810",
   "metadata": {
    "deletable": false,
    "editable": false
   },
   "source": [
    "***\n",
    "\n",
    "## 1. `NameError`\n",
    "Ein `NameError` tritt auf, wenn Python **den Namen bzw. die Variable eines Objekts oder einer Funktion nicht identifizieren kann.**\n",
    "\n",
    "1. Tippfehler im Variablennamen:"
   ]
  },
  {
   "cell_type": "code",
   "execution_count": null,
   "id": "059e8325-9078-4bea-8e71-26bed21f71d7",
   "metadata": {
    "tags": []
   },
   "outputs": [],
   "source": [
    "#Fehlerhafter Code\n",
    "text = \"In diesem Beispiel liegt ein Tippfehler im Variablennamen vor.\"\n",
    "print(texct)\n",
    "\n",
    "#Korrektur: Variablennamen richtig schreiben\n",
    "#print(text)"
   ]
  },
  {
   "cell_type": "markdown",
   "id": "bcf5cfe9-ea9b-4406-b362-2831ee99b21a",
   "metadata": {
    "deletable": false,
    "editable": false
   },
   "source": [
    "2. Beim Versuch, auf eine nicht initiierte Variable zuzugreifen:"
   ]
  },
  {
   "cell_type": "code",
   "execution_count": null,
   "id": "51332431-578e-490d-ac48-bcdac0cfa0dc",
   "metadata": {
    "tags": []
   },
   "outputs": [],
   "source": [
    "#Fehlerhafter Code\n",
    "print(sentence)\n",
    "\n",
    "#Korrektur: 'sentence' muss zuerst definiert werden\n",
    "#sentence = \"Ich bin ein Satz.\"\n",
    "#print(sentence)"
   ]
  },
  {
   "cell_type": "markdown",
   "id": "c1e3e561-45d9-4ff7-b9d6-af993a921a0e",
   "metadata": {
    "deletable": false,
    "editable": false
   },
   "source": [
    "Die beiden Fälle sind aus Pythons Sicht natürlich identisch, da beide Male die fehlerhaften Variablen nicht im Arbeitsspeicher vorhanden sind. Die Fälle unterscheiden sich bloß aus unserer Optik.\n",
    "\n",
    "## 2. `TypeError`\n",
    "\n",
    "Ein `TypeError` tritt auf, wenn Du **Operationen auf Objekte eines unerwarteten Datentyps anwenden** willst. \n",
    "1. Wenn Du z.&nbsp;B. versuchst, einen string mit einer Zahl zu konkatenieren:"
   ]
  },
  {
   "cell_type": "code",
   "execution_count": null,
   "id": "c405251c-710f-4243-b174-42891453ca7c",
   "metadata": {
    "tags": []
   },
   "outputs": [],
   "source": [
    "#Fehlerhafter Code\n",
    "result = \"The answer is: \" + 42 #Man kann nur strings mit strings konkatenieren.\n",
    "print(result)\n",
    "\n",
    "#Korrektur auf zwei Arten möglich:\n",
    "#1. Datentyp ändern:\n",
    "#result_1 = \"The answer is: \" + \"42\" #Entweder Zahl in Anführungszeichen...\n",
    "#result_2 = \"The answer is: \"+ str(42) #...oder Casting in string.\n",
    "#print(result_1 + \"\\n\" + result_2)\n",
    "\n",
    "#2. Alternativ: Nutzung eines f-string:\n",
    "#result_3 = f\"The answer is: {42}\"\n",
    "#print(result_3)"
   ]
  },
  {
   "cell_type": "markdown",
   "id": "c379ee99-d292-443c-bbd0-18e63a34c35b",
   "metadata": {
    "deletable": false,
    "editable": false
   },
   "source": [
    "2. Wenn Du eine vordefinierte Funktion überschreibst, d.&nbsp;h. dem Namen der Funktion ein neues, anderes Objekt zuweist:"
   ]
  },
  {
   "cell_type": "code",
   "execution_count": null,
   "id": "8b87f93d-6182-4430-af5d-f5a227e3f738",
   "metadata": {
    "tags": []
   },
   "outputs": [],
   "source": [
    "liste = [\"a\", \"b\", \"c\", \"b\", \"a\", \"d\"]\n",
    "set = set(liste) #Hier wird die vordefinierte Funktion 'set' überschrieben und referenziert nun ein konkretes Set, statt der 'set'-Funktion (das löst aber noch keinen Fehler aus)\n",
    "\n",
    "liste2 = [\"1\", \"2\", \"3\", \"2\", \"4\"]\n",
    "print(set(liste2)) #Da 'set' nun keine Funktion mehr ist, wird ein `TypeError` ausgegeben.\n",
    "\n",
    "#Lösung: 1. Kernel neu starten, um überschriebene Variable 'set' aus dem Arbeitsspeicher zu löschen (beim Kernelneustart wird 'set' wieder normal als Funktion geladen)\n",
    "#2. anderen Variablennamen für konkretes Set verwenden und Code neu ausführen"
   ]
  },
  {
   "cell_type": "markdown",
   "id": "caf69a25-9dc9-414e-b11f-d7ae7b176d52",
   "metadata": {
    "deletable": false,
    "editable": false
   },
   "source": [
    "\"callable\" in der kurzen Erklärung dieses Fehlers ist übrigens ein Hinweis darauf, dass Python eine Funktion erwartet hat, denn Funktionen sind *aufrufbar* (wenn wir eine Funktion aufrufen, wird der in ihr enthaltene Code auf das übergebene Objekt angewendet).\n",
    "\n",
    "## 3. `IndexError`\n",
    "\n",
    "Ein `IndexError` tritt auf, wenn Du auf **ein Element einer Sequenz (z.&nbsp;B. einer Liste) über einen ungültigen Index zugreifen** willst."
   ]
  },
  {
   "cell_type": "code",
   "execution_count": null,
   "id": "5db8877c-31f5-434c-8bd0-5b94b5eb9535",
   "metadata": {
    "tags": []
   },
   "outputs": [],
   "source": [
    "#Fehlerhafter Code\n",
    "my_list = [1, 2, 3, 4, 5, 6]\n",
    "print(my_list[6]) #Ungültiger Index, denn Python beginnt bei Null zu zählen!\n",
    "\n",
    "#Korrektur\n",
    "#print(my_list[5])"
   ]
  },
  {
   "cell_type": "markdown",
   "id": "eb223dd2-0e99-418b-a0b7-7d365561865d",
   "metadata": {
    "deletable": false,
    "editable": false
   },
   "source": [
    "Überleg Dir kurz, was passiert, wenn Du anstatt einer Zahl einen string als Index übergibst? Dies führt zu einem Dir bereits bekannten Fehlertyp...\n",
    "\n",
    "## 4. `KeyError`\n",
    "\n",
    "Ein `KeyError` wird ausgelöst, wenn Du **in einem dictionary auf einen nicht vorhandenen Schlüssel zugreifen** willst. "
   ]
  },
  {
   "cell_type": "code",
   "execution_count": null,
   "id": "91b67e5d-99f7-4141-a537-1caeb42ecfe0",
   "metadata": {
    "tags": []
   },
   "outputs": [],
   "source": [
    "#Fehlerhafter Code\n",
    "my_dict = {\"ich\": \"1. Pers. Singular\", \"du\": \"2. Pers. Singular\", \"er/sie/es\": \"3. Pers. Singular\"}\n",
    "print(my_dict[\"er\"])\n",
    "\n",
    "#Korrektur\n",
    "#print(my_dict[\"er/sie/es\"]) #Der Schlüssel muss genau so im dictionary vorkommen."
   ]
  },
  {
   "cell_type": "markdown",
   "id": "e215ee31-bfbd-48d0-aa01-415e2789d85d",
   "metadata": {
    "deletable": false,
    "editable": false
   },
   "source": [
    "\n",
    "\n",
    "## 5. `AttributeError`\n",
    "\n",
    "Ein `AttributeError` tritt auf, wenn Du **eine Methode auf ein Objekt anwenden willst, für das die Methode nicht definiert ist**. "
   ]
  },
  {
   "cell_type": "code",
   "execution_count": null,
   "id": "1aa71c7d-c371-443c-8ad9-6d0ae3afa734",
   "metadata": {
    "tags": []
   },
   "outputs": [],
   "source": [
    "#Fehlerhafter Code\n",
    "my_string = \"Das ist ein string,\"\n",
    "my_string.append(\"der erweitert werden soll.\")\n",
    "\n",
    "#Korrektur: 'append'-Methode ist für Listen, aber nicht für strings definiert\n",
    "#Zwei strings werden mittels '+'-Operator konkateniert bzw. ein string kann mittels '+='-Operator erweitert werden\n",
    "#my_string += \"der erweitert werden soll.\"\n",
    "#print(my_string)"
   ]
  },
  {
   "cell_type": "markdown",
   "id": "0aeff033-22ac-49b7-ba7a-cf69ed735f89",
   "metadata": {
    "deletable": false,
    "editable": false
   },
   "source": [
    "Python meint hier mit *attribute* schlicht Methode.\n",
    "\n",
    "## 6. `ModuleNotFoundError`\n",
    "\n",
    "Ein `ModuleNotFoundError` wird ausgelöst, wenn Python ein **Modul nicht finden kann**. Mögliche Fehlerursachen:\n",
    "* Tippfehler im Modulnamen, siehe Beispiel unten\n",
    "* Modul ist nicht Teil der Standardbibliothek von Python und muss erst über die Command Line installiert werden (vgl. Notebook \"Funktionen und Methoden Teil 2\")\n",
    "* Bei selbst geschriebenen Modulen: Python muss erst instruiert werden, wo abgesehen vom Standardspeicherort nach Modulen gesucht werden soll (Pfad zum neuen Speicherort über `import sys` und `sys.path.append(\"path\")` angeben, vgl. Notebook \"Funktionen und Methoden Teil 2\")"
   ]
  },
  {
   "cell_type": "code",
   "execution_count": null,
   "id": "fca34532-2bb1-4e22-b27b-070d4129aae6",
   "metadata": {
    "tags": []
   },
   "outputs": [],
   "source": [
    "#Fehlerhafter Code\n",
    "import Pandas\n",
    "\n",
    "#Korrektur: Kleinschreibung beachten:\n",
    "#import pandas #funktioniert aber nur, wenn pandas vorher über die Command Line installiert wurde, da pandas nicht zur Standardbibliothek gehört!"
   ]
  }
 ],
 "metadata": {
  "kernelspec": {
   "display_name": "Python 3 (ipykernel)",
   "language": "python",
   "name": "python3"
  },
  "language_info": {
   "codemirror_mode": {
    "name": "ipython",
    "version": 3
   },
   "file_extension": ".py",
   "mimetype": "text/x-python",
   "name": "python",
   "nbconvert_exporter": "python",
   "pygments_lexer": "ipython3",
   "version": "3.11.5"
  }
 },
 "nbformat": 4,
 "nbformat_minor": 5
}