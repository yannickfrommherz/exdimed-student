{
 "cells": [
  {
   "cell_type": "markdown",
   "id": "b82dc5f1-0272-411e-ab0d-84600e94b337",
   "metadata": {
    "deletable": false,
    "editable": false
   },
   "source": [
    "# Datenvisualisierung\n",
    "\n",
    "In diesem Notebook lernen wir, Daten auf unterschiedliche Weisen zu visualisieren."
   ]
  },
  {
   "cell_type": "markdown",
   "id": "03060bba-cd07-4a18-a19c-183070d61fae",
   "metadata": {
    "deletable": false,
    "editable": false
   },
   "source": [
    "## Vorbemerkungen\n",
    "\n",
    "- Wir visualisieren grundsätzlich den Zusammenhang zwischen **zwei Variablen**, wobei je eine auf der horizontalen **x-Achse** bzw. der vertikalen **y-Achse** eines Diagramms dargestellt wird.\n",
    "- Variablen können verschieden skaliert sein (u. a. Nominal-, Ordinal-, Intervall- und Verhältnisskala, vgl. [Skalenniveaus](https://de.wikipedia.org/wiki/Skalenniveau)), wir differenzieren hier der Einfachheit halber nur zwischen\n",
    "  - **kategorialen Variablen**, bei denen jede Ausprägung einen *Namen* hat, z. B. \"männlich\", \"weiblich\", \"divers\" für Geschlechter, \"VVFIN\", \"NN\", \"ADJA\" für Part-of-Speech-Tags oder \"Testgruppe\", \"Kontrollgruppe\" bei Experimenten.\n",
    "  - **numerischen Variablen**, deren Ausprägungen in Zahlen ausgedrückt werden, z. B. 0 – 100 bei Häufigkeit oder 1950 – 2024 bei Jahreszahlen.\n",
    "- Wir unterscheiden meistens zwischen einer **unabhängigen Variablen**, die typischerweise auf der x-Achse dargestellt wird, und einer **abhängigen Variablen**, die typischerweise auf der y-Achse dargestellt wird. Die abhängige Variable ist fast immer numerisch skaliert.\n",
    "- Das verwendete Modul `matplotlib` kann auf zwei Arten eingesetzt werden, sog. statusbasiert und objektorientiert.\n",
    "    - Beim einfacheren statusbasierten Plotten erstellen wir Diagramme direkt mit Funktionen wie `plt.plot`.\n",
    "    - Beim flexibleren objektorientierten Plotten schaffen wir zunächst eine leere Diagrammfläche, das wir anschließend über Methoden befüllen.\n",
    "    - Wir verwenden hauptsächlich die statusbasierte Herangehensweise. In der [Dokumentation](https://matplotlib.org/stable/users/index.html) von `matplotlib`, in Foren sowie im Output von chatGPT wird häufig objektorientierter Code verwendet (zu erkennen an Objekten wie `fig`, `ax` o. ä. sowie Methoden, die mit `set` beginnen [z. B. `set_ylabel`]). \n",
    "\n",
    "Wir schauen uns in diesem Notebook folgende Diagrammtypen an.\n",
    "\n",
    "## Diagrammtypen\n"
   ]
  },
  {
   "cell_type": "markdown",
   "id": "c5a8e41c-1ca2-4169-b181-00ae27a88f4e",
   "metadata": {
    "deletable": false,
    "editable": false
   },
   "source": [
    "| **Typ** | **Zweck** | **Beispiel** | **Skalierung der unabhängigen Variablen (x-Achse)** | <b>Implementierung bei `matplotlib`<b>\n",
    "|:-:|:-|:-|:-|:-\n",
    "| [**Liniendiagramm**](#Liniendiagramm)<br>(line plot) | visualisiert Entwicklung einer numerischen Variable in Bezug auf eine andere numerische Variable | Wortverlaufskurve, Bevölkerungsentwicklung  | numerisch | `plt.plot(x, y)`\n",
    "| [**Histogramm**](#Histogramm) | visualisiert Verteilung von numerischen Werten innerhalb bestimmter Intervalle (sog. *bins*) | Verteilung von Anzahl Sprachen je Land | numerisch | `plt.hist(data)`\n",
    "| [**Streudiagramm**](#Streudiagramm)<br>(scatterplot) | visualisiert Beziehung zwischen zwei numerischen Variablen  | Anzahl an Landessprachen nach Anzahl an Monaten, in denen angepflanzt werden kann | numerisch | `plt.scatter(x, y)`\n",
    "| [**Balkendiagramm**](#Balkendiagramm)<br>(bar plot/bar chart) | ermöglicht Vergleich verschiedener kategorialer Variablen | Häufigkeitsverteilung von Modalverben in Wahlprogrammen | kategorial | `df.plot(kind=\"bar\")`, `plt.bar(x, y)`\n",
    "| [**Boxplot**](#Boxplot) | visualisiert interne Werteverteilung verschiedener Kategorien | Experimentelle Ergebnisse zum Vergleich von Verben des Denkens mit Blick auf semantische Spezifizität | kategorial | `plt.boxplot(data)`"
   ]
  },
  {
   "cell_type": "markdown",
   "id": "e49bc5c0-f2da-451b-8f18-919866a9d89c",
   "metadata": {
    "deletable": false,
    "editable": false
   },
   "source": [
    "Zunächst importieren wir die `pandas`, `numpy` sowie `matplotlib` für die Datenaufbereitung bzw. -visualisierung."
   ]
  },
  {
   "cell_type": "code",
   "execution_count": null,
   "id": "05267021-b004-4b8d-a6d2-ab5adc6026eb",
   "metadata": {},
   "outputs": [],
   "source": [
    "import pandas as pd, numpy as np, matplotlib.pyplot as plt\n",
    "pd.options.display.max_rows = 200"
   ]
  },
  {
   "cell_type": "markdown",
   "id": "9431f92b-30d8-432b-a6ae-10f081fc2bf5",
   "metadata": {
    "deletable": false,
    "editable": false
   },
   "source": [
    "## Liniendiagramm\n",
    "\n",
    "Beispiel: Wortverlaufskurven, basierend auf dem Songkorpus"
   ]
  },
  {
   "cell_type": "code",
   "execution_count": null,
   "id": "1f03b8ec-9c1b-4a0c-aa0b-774b7fb0e3b5",
   "metadata": {},
   "outputs": [],
   "source": [
    "#Vorbereitung\n",
    "songkorpus = pd.read_csv(\"../3_Dateien/Songkorpus/songkorpus_token.tsv\", encoding=\"utf-8\", sep=\"\\t\")\n",
    "songkorpus.columns = [\"Token\", \"Jahr\", \"Häufigkeit\"]\n",
    "songkorpus.head()"
   ]
  },
  {
   "cell_type": "code",
   "execution_count": null,
   "id": "5fcaa8eb-4100-41a2-9068-b997de137a27",
   "metadata": {},
   "outputs": [],
   "source": [
    "#Plotten\n",
    "\n",
    "#Definieren der Wörter, deren Häufigkeit über die Zeit geplottet werden soll\n",
    "words = [\"ich\", \"du\", \"er\", \"sie\"]\n",
    "\n",
    "#Iteratives Filtern des Songkorpus\n",
    "for word in words:\n",
    "    sub_df = songkorpus[songkorpus.Token == word]\n",
    "    #Plotten mit Angabe, was auf der x- bzw. y-Achse dargestellt werden soll\n",
    "    plt.plot(sub_df.Jahr, sub_df.Häufigkeit)"
   ]
  },
  {
   "cell_type": "markdown",
   "id": "da7cf949-351a-45d8-a45a-51c798da1399",
   "metadata": {
    "deletable": false,
    "editable": false
   },
   "source": [
    "## Exkurs: Verschönern von Plots\n",
    "\n",
    "Nun schauen wir uns Möglichkeiten an, diesen Plot wesentlich schöner und flexibler zu gestalten."
   ]
  },
  {
   "cell_type": "code",
   "execution_count": null,
   "id": "0f02491f-4f4e-4a39-80a0-567ffbea221c",
   "metadata": {},
   "outputs": [],
   "source": [
    "plt.figure(figsize=(15, 5), dpi=300) #Größe und Auflösung festlegen\n",
    "#plt.rcParams[\"font.family\"] = \"sans-serif\" #Schriftart festlegen\n",
    "#plt.rcParams[\"text.usetex\"] = True #LaTeX für Schriftsatz verwenden (setzt lokale Installation von LaTeX voraus)\n",
    "plt.grid(True) #Festlegen, ob Gitterlinien angezeigt werden sollen\n",
    "\n",
    "#Spezifizieren eines bestimmten Stils, z. B. \"ggplot\", \"bmh\", \"fivethirtyeight\", \"tableau-colorblind10\", vgl. 'print(plt.style.available)'\n",
    "plt.style.use(\"ggplot\")\n",
    "\n",
    "#Iteratives Filtern des Songkorpus\n",
    "for word in words:\n",
    "    sub_df = songkorpus[songkorpus.Token == word]\n",
    "    #Plotten mit Angabe, was auf der x- bzw. y-Achse dargestellt werden soll\n",
    "    plt.plot(sub_df.Jahr, sub_df.Häufigkeit, marker='o') #zusätzlich Symbol bei jedem Datenpunkt\n",
    "\n",
    "#Hinzufügen von Titel inkl. Schrifgröße und Padding, Achsenbeschriftungen und Legende\n",
    "plt.title(f\"Wortverlaufskurve für {', '.join([word for word in words])} im Songkorpus.\", fontsize=16, pad=20)\n",
    "plt.xlabel(\"Jahr\"), plt.ylabel(\"Häufigkeit\")\n",
    "plt.legend(words, loc=\"upper left\")\n",
    "\n",
    "#plt.xlim(1968, 2023) #Festlegen von Beschränkungen der x-Achse\n",
    "plt.ylim(0, 2500) #Festlegen von Beschränkungen der y-Achse\n",
    "\n",
    "plt.show() #Nicht zwingend notwendig in JupyterLab"
   ]
  },
  {
   "cell_type": "markdown",
   "id": "f2434cb8-34aa-44b9-bfda-0b537cdd78fe",
   "metadata": {
    "deletable": false,
    "editable": false
   },
   "source": [
    "## Histogramm\n",
    "\n",
    "Beispiel: Anzahl Sprachen nach Länder (aus [Winter 2020](https://appliedstatisticsforlinguists.org/bwinter_stats_proofs.pdf)) "
   ]
  },
  {
   "cell_type": "code",
   "execution_count": null,
   "id": "67ec8ade-3263-4bbd-b7c2-761a211de451",
   "metadata": {
    "scrolled": true
   },
   "outputs": [],
   "source": [
    "#Vorbereitung\n",
    "climate_lang = pd.read_csv(\"../3_Dateien/Tabellarische_Daten/nettle_1999_climate.csv\", encoding=\"utf8\")\n",
    "climate_lang"
   ]
  },
  {
   "cell_type": "code",
   "execution_count": null,
   "id": "2a771b66-f707-4f5f-bd73-f36f6b94d624",
   "metadata": {},
   "outputs": [],
   "source": [
    "#Plotten\n",
    "plt.figure(figsize=(10, 5), dpi=300)\n",
    "\n",
    "plt.style.use(\"ggplot\")\n",
    "\n",
    "#Automatische Berechnung von \"bin\"-Größen\n",
    "#plt.hist(climate_lang.Langs) \n",
    "\n",
    "#Manuelle Festlegung von \"bin\"-Größen\n",
    "bin_width = 100\n",
    "bins = np.arange(0, climate_lang.Langs.max() + bin_width, bin_width)\n",
    "plt.hist(climate_lang.Langs, bins=bins) \n",
    "plt.xticks(bins)\n",
    "\n",
    "plt.title(\"Sprachen und Länder\", fontsize=14)\n",
    "plt.xlabel(\"Anzahl an Sprachen\", fontsize=12)\n",
    "plt.ylabel(\"Häufigkeit\", fontsize=12)\n",
    "\n",
    "plt.show()"
   ]
  },
  {
   "cell_type": "markdown",
   "id": "0ea413e1-9af2-4b68-ae9f-fd580630f702",
   "metadata": {
    "deletable": false,
    "editable": false
   },
   "source": [
    "## Streudiagramm\n",
    "\n",
    "Beispiel: Anzahl an Landessprachen nach Anzahl an Monaten, in denen angepflanzt werden kann (aus [Winter 2020](https://appliedstatisticsforlinguists.org/bwinter_stats_proofs.pdf))"
   ]
  },
  {
   "cell_type": "code",
   "execution_count": null,
   "id": "3dc8c506-c2c8-4ab3-a098-f6db4ad2818b",
   "metadata": {},
   "outputs": [],
   "source": [
    "#Daten nochmal inspizieren\n",
    "climate_lang.describe()"
   ]
  },
  {
   "cell_type": "code",
   "execution_count": null,
   "id": "6e5c4955-99df-4772-bab7-5b19cbfc6420",
   "metadata": {},
   "outputs": [],
   "source": [
    "#Plotten\n",
    "plt.figure(figsize=(10, 5), dpi=300)\n",
    "\n",
    "plt.style.use(\"default\") #Zurücksetzen des 'style'-Parameters\n",
    "\n",
    "plt.scatter(climate_lang.MGS, climate_lang.Langs, marker=\"^\", color=\"#FF69B4\") #Hexadezimaler Farbcode\n",
    "\n",
    "plt.title(\"Anzahl an Sprachen nach Länge der Anbausaison\", fontsize=14)\n",
    "plt.xlabel(\"Länge der Anbausaison in Monaten\", fontsize=12)\n",
    "plt.ylabel(\"Anzahl an Sprachen pro Land\", fontsize=12)\n",
    "\n",
    "#Regressionsgerade fitten und plotten\n",
    "slope, intercept = np.polyfit(climate_lang.MGS, climate_lang.Langs, 1)\n",
    "plt.plot(climate_lang.MGS, slope*climate_lang.MGS + intercept, color=\"red\", linestyle=\":\", linewidth=1)\n",
    "\n",
    "plt.show()"
   ]
  },
  {
   "cell_type": "markdown",
   "id": "a9a76de3-5f49-483c-8894-92f9a7725b01",
   "metadata": {
    "deletable": false,
    "editable": false
   },
   "source": [
    "## Exkurs: Beschriften von Plots\n",
    "\n",
    "vgl. Dokumentation zu [Text](https://matplotlib.org/stable/users/explain/text/text_intro.html#text-intro) bzw. [Annotation](https://matplotlib.org/stable/users/explain/text/annotations.html#annotations)"
   ]
  },
  {
   "cell_type": "code",
   "execution_count": null,
   "id": "934b923b-7785-47f8-9fae-77b6cc6a231e",
   "metadata": {},
   "outputs": [],
   "source": [
    "plt.figure(figsize=(20,20), dpi=300)\n",
    "plt.scatter(climate_lang.MGS, climate_lang.Langs)\n",
    "\n",
    "plt.title(\"Anzahl an Sprachen nach Länge der Anbausaison\", fontsize=14)\n",
    "plt.xlabel(\"Länge der Anbausaison in Monaten\", fontsize=12)\n",
    "plt.ylabel(\"Anzahl an Sprachen pro Land\", fontsize=12)\n",
    "\n",
    "#Hinzufügen aller Labels\n",
    "for i, row in climate_lang.iterrows():\n",
    "    plt.text(x=row.MGS, y=row.Langs, s=row.Country, ha=\"left\", va=\"bottom\")\n",
    "\n",
    "#Hinzufügen weiterer Annotationen\n",
    "png = climate_lang[climate_lang.Country == \"Papua New Guinea\"]\n",
    "x, y = png.MGS.values[0], png.Langs.values[0]\n",
    "text = \"In diesem fast durchgängig fruchtbaren Land\\nwerden über 800 Sprachen gesprochen\"\n",
    "plt.annotate(text, xy=(x,y), xytext=(x-4, y-20), arrowprops=dict(arrowstyle=\"->\", color=\"purple\"), fontsize=12, color=\"purple\")\n",
    "\n",
    "text = \"In diesen eher fruchtbaren Ländern\\nwerden tendenziell mehr Sprachen gesprochen\"\n",
    "plt.annotate(text, xy=(8.8, 200), xytext=(6.5, 250), arrowprops=dict(arrowstyle=\"->\", color=\"green\"), fontsize=12, color=\"green\")\n",
    "\n",
    "text = \"In diesen eher unfruchtbaren Ländern\\nwerden tendenziell weniger Sprachen gesprochen\"\n",
    "plt.annotate(text, xy=(3, 120), xytext=(2.8, 200), arrowprops=dict(arrowstyle=\"->\", color=\"red\"), fontsize=12, color=\"red\")\n",
    "\n",
    "plt.show()"
   ]
  },
  {
   "cell_type": "markdown",
   "id": "f9c88e71-1069-4c71-b2a8-7072f59b8e5e",
   "metadata": {
    "deletable": false,
    "editable": false
   },
   "source": [
    "## Balkendiagramm\n",
    "\n",
    "Beispiel: Verteilung von Modalverben nach Wahlprogrammen"
   ]
  },
  {
   "cell_type": "code",
   "execution_count": null,
   "id": "daf9f85b-ba0b-4eaa-891a-05cd50cd633e",
   "metadata": {},
   "outputs": [],
   "source": [
    "#Vorbereitung\n",
    "tokens = pd.read_csv(\"../3_Dateien/Tabellarische_Daten/tokens.csv\", encoding=\"utf8\")\n",
    "\n",
    "#Filtern nach Modalverben\n",
    "modal_verbs = tokens[tokens.lemma.isin([\"müssen\", \"sollen\", \"dürfen\", \"können\", \"wollen\", \"mögen\"])]\n",
    "\n",
    "#Gruppieren des gefilteren DataFrames nach Partei und errechnen der relativen Häufigkeiten der Modalverben\n",
    "modal_verbs_by_party = modal_verbs.groupby(\"party\").lemma.value_counts(normalize=True).unstack().fillna(0)\n",
    "modal_verbs_by_party"
   ]
  },
  {
   "cell_type": "code",
   "execution_count": null,
   "id": "70d22049-d896-4fc4-81d2-a58747dd4246",
   "metadata": {},
   "outputs": [],
   "source": [
    "#Plotten\n",
    "\n",
    "#Kombination aus 'pandas'-Plotting mit Syntax 'df.plot', objektorientierter und statusbasierter Herangehensweise\n",
    "fig, ax = plt.subplots(figsize=(10, 6), dpi=300) \n",
    "modal_verbs_by_party.plot(kind=\"bar\", ax=ax) #\"barh\" für horizontal, vgl. https://pandas.pydata.org/docs/reference/api/pandas.DataFrame.plot.html\n",
    "\n",
    "plt.xlabel(\"Partei\")\n",
    "plt.ylabel(\"Relative Häufigkeit\")\n",
    "plt.title(\"Modalverbverteilung nach Partei\")\n",
    "plt.legend(title=\"Lemma\")\n",
    "plt.grid(True)\n",
    "plt.show()"
   ]
  },
  {
   "cell_type": "markdown",
   "id": "fbd9ca85-91d0-41cf-960d-1c706c2d0940",
   "metadata": {
    "deletable": false,
    "editable": false
   },
   "source": [
    "### Gestapeltes Balkendiagramm"
   ]
  },
  {
   "cell_type": "code",
   "execution_count": null,
   "id": "19dd3705-bbda-4a56-aa84-e418f4c08a4f",
   "metadata": {},
   "outputs": [],
   "source": [
    "fig, ax = plt.subplots(figsize=(10, 6), dpi=300)\n",
    "\n",
    "#'pandas'-Plotting mit Syntax 'df.plot' und Angabe der Achse\n",
    "modal_verbs_by_party.plot(kind=\"bar\", stacked=True, ax=ax)\n",
    "\n",
    "plt.xlabel(\"Partei\")\n",
    "plt.ylabel(\"Relative Häufigkeit\")\n",
    "plt.title(\"Modalverbverteilung nach Partei\")\n",
    "plt.legend(title=\"Lemma\", bbox_to_anchor=(1.05, 1), loc=\"upper left\")\n",
    "\n",
    "#Diagrammverschönerung über objektorientierte Syntax (gleicher Effekt)\n",
    "#ax.set_xlabel(\"Partei\")\n",
    "#ax.set_ylabel(\"Relative Häufigkeit\")\n",
    "#ax.set_title(\"Modalverbverteilung nach Partei\")\n",
    "#ax.legend(title=\"Lemma\", bbox_to_anchor=(1.05, 1), loc=\"upper left\")\n",
    "\n",
    "plt.show()"
   ]
  },
  {
   "cell_type": "markdown",
   "id": "45afc69b-5816-4898-90d8-813a6f011e47",
   "metadata": {
    "deletable": false,
    "editable": false
   },
   "source": [
    "### Abweichungsbalkendiagramm"
   ]
  },
  {
   "cell_type": "code",
   "execution_count": null,
   "id": "df533dda-53d8-44a8-8256-3c6422dcb853",
   "metadata": {},
   "outputs": [],
   "source": [
    "#Vorbereitung I\n",
    "\n",
    "#Durchschnitt pro Modalverb errechnen\n",
    "lemma_means = modal_verbs_by_party.mean(axis=0) \n",
    "lemma_means"
   ]
  },
  {
   "cell_type": "code",
   "execution_count": null,
   "id": "285dc521-9968-4693-933a-45ae53dcd64e",
   "metadata": {},
   "outputs": [],
   "source": [
    "#Vorbereitung II\n",
    "\n",
    "#Durchschnitt pro Modalverb von Parteiwerten abziehen, um Über-/Unternutzung zu errechnen\n",
    "adjusted_counts = modal_verbs_by_party.subtract(lemma_means)\n",
    "adjusted_counts.style.background_gradient(cmap='RdYlGn') #Einfärben des DataFrames"
   ]
  },
  {
   "cell_type": "code",
   "execution_count": null,
   "id": "9e302ac2-0f3d-4f96-9ded-55852f38ce68",
   "metadata": {},
   "outputs": [],
   "source": [
    "#Plotten\n",
    "fig, ax = plt.subplots(figsize=(10, 6), dpi=300)\n",
    "\n",
    "adjusted_counts.plot(kind=\"bar\", ax=ax)\n",
    "\n",
    "#Diagrammverschönerung über objektorientierte Syntax\n",
    "ax.axhline(0, color=\"black\", linewidth=0.8) #Horizontale Line bei Null hinzufügen\n",
    "ax.set_xlabel(\"Partei\")\n",
    "ax.set_ylabel(\"Über- bzw. Unternutzung\")\n",
    "ax.set_title(\"Über- bzw. Unternutzung bestimmter Modalverben nach Partei\")\n",
    "ax.legend(title=\"Lemma\", bbox_to_anchor=(1.05, 1), loc=\"upper left\")\n",
    "\n",
    "#plt.savefig(\"../3_Dateien/Output/modal_verbs_per_party.png\") #Externes Speichern\n",
    "plt.show()"
   ]
  },
  {
   "cell_type": "markdown",
   "id": "f197d5a7-c0fb-40f5-b2fc-6ccc83c05cb3",
   "metadata": {
    "deletable": false,
    "editable": false
   },
   "source": [
    "## Boxplot\n",
    "\n",
    "Beispiel: Vergleich von Verben des Denkens im Deutschen vs. Schwedischen mit Blick auf semantische Spezifizität ([Masterarbeit von Yannick](https://onlinelibrary.wiley.com/doi/10.1111/stul.12179))"
   ]
  },
  {
   "cell_type": "code",
   "execution_count": null,
   "id": "29622b80-217b-462e-86f0-5066a31eb23d",
   "metadata": {
    "scrolled": true
   },
   "outputs": [],
   "source": [
    "#Vorbereitung\n",
    "thinking_verbs = pd.read_csv(\"../3_Dateien/Tabellarische_Daten/thinking_verbs_GER_SWE.csv\", encoding=\"utf8\")\n",
    "thinking_verbs.index.name = \"Participants\"\n",
    "\n",
    "results_german, results_swedish = thinking_verbs.filter(regex=\"^GER\"), thinking_verbs.filter(regex=\"^SWE\")\n",
    "results_german"
   ]
  },
  {
   "cell_type": "code",
   "execution_count": null,
   "id": "cfe9d701-b1c4-4c2f-a49e-787b38f5478d",
   "metadata": {},
   "outputs": [],
   "source": [
    "#Plotten\n",
    "plt.figure(figsize=(10,10), dpi=300)\n",
    "\n",
    "\"\"\"Da die beiden Sprachen für die vier \"Conditions\" nebeneinander geplottet werden sollen,\n",
    "definieren wir die Positionen entlang der x-Achse manuell.\"\"\"\n",
    "positions_german, positions_swedish = [0,3,6,9], [1,4,7,10]\n",
    "\n",
    "#Sequentielles Plotten mit 'hatch'-Parameter\n",
    "plt.boxplot(results_german, positions=positions_german, patch_artist=True, showmeans=True, boxprops=dict(facecolor=\"plum\", hatch=\"//\"))\n",
    "plt.boxplot(results_swedish, positions=positions_swedish, patch_artist=True, showmeans=True, boxprops=dict(facecolor=\"lightskyblue\", hatch=\"..\"))\n",
    "\n",
    "#Manuelles Hinzufügen einer Legende entsprechend der Muster\n",
    "plt.legend(handles=[plt.Rectangle((0, 0), 1, 1, facecolor=\"plum\", edgecolor=\"black\", hatch=\"//\", label=\"Deutsch\"),\n",
    "                    plt.Rectangle((0, 0), 1, 1, facecolor=\"lightskyblue\", edgecolor=\"black\", hatch=\"..\", label=\"Schwedisch\")], loc=\"upper center\")\n",
    "\n",
    "\n",
    "plt.xlabel(\"Conditions\")\n",
    "plt.xticks([0.5, 3.5, 6.5, 9.5], labels=[\"Condition 1\", \"Condition 2\", \"Condition 3\", \"Condition 4\"])\n",
    "plt.ylabel(\"Ø für sinnvoll befundene Verben pro Teilnehmenden\")\n",
    "plt.show()"
   ]
  },
  {
   "cell_type": "markdown",
   "id": "17ad5aba-bd7e-4791-8822-cdafe7953ffa",
   "metadata": {
    "deletable": false,
    "editable": false
   },
   "source": [
    "## Mehrere Diagramme\n",
    "\n",
    "Mit objektorientierter Herangehensweise."
   ]
  },
  {
   "cell_type": "code",
   "execution_count": null,
   "id": "78740e0f-2622-4715-83c4-5dbb5aba811c",
   "metadata": {},
   "outputs": [],
   "source": [
    "#Erstellen einer Diagrammfläche inkl. Subplots\n",
    "fig, axs = plt.subplots(2, 3, figsize=(20, 15), dpi=300)\n",
    "fig.suptitle(\"Mehrere Diagramme\", fontsize=20, y=1.02) #'y'-Parameter sorgt für Padding\n",
    "\n",
    "\"\"\"Liniendiagramm\"\"\"\n",
    "for word in words:\n",
    "    sub_df = songkorpus[songkorpus.Token == word]\n",
    "    axs[0, 0].plot(sub_df.Jahr, sub_df.Häufigkeit)\n",
    "\n",
    "axs[0, 0].set_title(\"Liniendiagramm\")\n",
    "axs[0, 0].legend(words, loc=\"best\")\n",
    "\n",
    "\"\"\"Histogramm\"\"\"\n",
    "axs[0, 1].hist(climate_lang.Langs) \n",
    "axs[0, 1].set_title(\"Histogramm\")\n",
    "\n",
    "\"\"\"Streudiagramm\"\"\"\n",
    "axs[0, 2].scatter(climate_lang.MGS, climate_lang.Langs, marker=\".\", color=\"#FF69B4\")\n",
    "axs[0, 2].set_title(\"Streudiagramm\")\n",
    "axs[0, 2].plot(climate_lang.MGS, slope*climate_lang.MGS + intercept, color=\"red\", linestyle=\":\", linewidth=1)\n",
    "\n",
    "\"\"\"Balkendiagramm (mit 'pandas'-Plotting-Syntax)\"\"\"\n",
    "modal_verbs_by_party.plot(kind=\"bar\", ax=axs[1,0])\n",
    "axs[1, 0].set_title(\"Balkendiagramm\")\n",
    "axs[1,0].set_xlabel(\"Partei\")\n",
    "\n",
    "\"\"\"Abweichungsbalkendiagramm (mit 'pandas'-Plotting-Syntax)\"\"\"\n",
    "adjusted_counts.plot(kind=\"bar\", ax=axs[1,1])\n",
    "axs[1,1].set_title(\"Abweichungsbalkendiagramm\")\n",
    "axs[1,1].set_xlabel(\"Partei\")\n",
    "axs[1,1].axhline(0, color=\"black\", linewidth=0.8)\n",
    "\n",
    "\"\"\"Boxplot\"\"\"\n",
    "axs[1, 2].boxplot(results_german, positions=positions_german, patch_artist=True, showmeans=True, boxprops=dict(facecolor=\"plum\", hatch=\"//\"))\n",
    "axs[1, 2].boxplot(results_swedish, positions=positions_swedish, patch_artist=True, showmeans=True, boxprops=dict(facecolor=\"lightskyblue\", hatch=\"..\"))\n",
    "axs[1, 2].set_title(\"Boxplot\")\n",
    "axs[1, 2].set_xticks([0.5, 3.5, 6.5, 9.5], labels=[\"Condition 1\", \"Condition 2\", \"Condition 3\", \"Condition 4\"])\n",
    "axs[1, 2].legend(handles=[plt.Rectangle((0, 0), 1, 1, facecolor=\"plum\", edgecolor=\"black\", hatch=\"//\", label=\"Deutsch\"),\n",
    "                          plt.Rectangle((0, 0), 1, 1, facecolor=\"lightskyblue\", edgecolor=\"black\", hatch=\"..\", label=\"Schwedisch\")], loc=\"upper center\")\n",
    "\n",
    "plt.tight_layout()\n",
    "plt.show()"
   ]
  },
  {
   "cell_type": "code",
   "execution_count": null,
   "id": "87be1f21-d250-4b17-9227-640b92ef0f59",
   "metadata": {},
   "outputs": [],
   "source": [
    "#Speichern eines objektorientierten Plots\n",
    "fig.savefig(\"../3_Dateien/Output/multiple_figures.png\") #'fig'!"
   ]
  }
 ],
 "metadata": {
  "kernelspec": {
   "display_name": "ex",
   "language": "python",
   "name": "ex"
  },
  "language_info": {
   "codemirror_mode": {
    "name": "ipython",
    "version": 3
   },
   "file_extension": ".py",
   "mimetype": "text/x-python",
   "name": "python",
   "nbconvert_exporter": "python",
   "pygments_lexer": "ipython3",
   "version": "3.11.7"
  }
 },
 "nbformat": 4,
 "nbformat_minor": 5
}
