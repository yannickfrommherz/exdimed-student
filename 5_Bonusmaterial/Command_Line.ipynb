{
 "cells": [
  {
   "cell_type": "markdown",
   "id": "8e7dfca5-db01-4c6a-b36d-4d54942ec852",
   "metadata": {
    "deletable": false,
    "editable": false
   },
   "source": [
    "# Einführung in die Command Line"
   ]
  },
  {
   "cell_type": "markdown",
   "id": "950bb9d6-ddd4-4fe8-8831-cfeab8b1b1fc",
   "metadata": {
    "deletable": false,
    "editable": false
   },
   "source": [
    "Die Command Line (deutsch: *Kommandozeile*) stellt eine sehr direkte Form der Interaktion mit dem Computer dar. Wenn wir sie benutzen, begeben wir uns hinter die Kulissen der grafischen Benutzeroberfläche unseres Rechners. So geben wir Befehle nicht mehr in Form von Mausklicks ab (z.&nbsp;B. der Klick auf den Button \"Herunterfahren\" zum Abschalten des Computers), sondern in Form eines Befehls über die Tastatur. In diesem Notebook lernst Du, was die Command Line ist und wie Du sie sinnvoll einsetzen kannst."
   ]
  },
  {
   "cell_type": "markdown",
   "id": "1c5f221d-e96f-427b-a577-fb090ad82dab",
   "metadata": {
    "deletable": false,
    "editable": false
   },
   "source": [
    "## Terminologie\n",
    "Für die Command Line gibt es verschiedene Begriffe, sie unterscheiden sich u. a. je nach Betriebssystem. Bei Windows heißt sie \"Eingabeaufforderung\", unter macOS und Linux \"Terminal\". Darüber hinaus gibt es weitere Begriffe wie \"Shell\" oder \"Konsole\" mit ähnlicher Bedeutung. In diesem Notebook verwenden wir den betriebssystemübergreifenden Begriff **Command Line**."
   ]
  },
  {
   "cell_type": "markdown",
   "id": "ccc5d60a-f1aa-4552-baf5-08933b3744cb",
   "metadata": {
    "deletable": false,
    "editable": false
   },
   "source": [
    "## Was kann die Command Line?\n",
    "Die meiste Zeit hast Du Deinen Rechner vermutlich über die **grafische Benutzeroberfläche** (engl. *graphical user interface*, kurz: GUI) bedient. Diese bietet die Möglichkeit, mit Symbolen, Grafiken und visuellen Elementen zu interagieren, um Aufgaben auszuführen und Programme zu steuern. Eine typische GUI auf einem Computer umfasst Icons, Fenster, Menüs und Dialogboxen, die es den Nutzenden ermöglichen, Programme zu starten, Dateien zu öffnen, Einstellungen anzupassen und verschiedene Aktionen durchzuführen."
   ]
  },
  {
   "cell_type": "markdown",
   "id": "9f0fa924-48a0-4f64-beda-90385e500271",
   "metadata": {
    "deletable": false,
    "editable": false
   },
   "source": [
    "Die Command Line ermöglicht uns das Arbeiten auf unserem Rechner, ohne den \"Umweg\" über die grafische Benutzeroberfläche. Damit können wir **Befehle direkt eingeben** und sind nicht mehr auf die visuelle Darstellung angewiesen. Die Command Line bietet so mehr Kontrolle und Flexibilität. Außerdem kann sie effizienter sein als die grafische Benutzeroberfläche, besonders für repetitive oder spezialisierte Aufgaben oder aber zum Installieren und Starten von Programmen. Erfahreneren Nutzer:innen ermöglicht sie, komplexe Aufgaben automatisiert auszuführen, Skripte zu schreiben und tiefergehende Systemkonfigurationen vorzunehmen."
   ]
  },
  {
   "cell_type": "markdown",
   "id": "1b291e3b-45f0-406a-b3e1-962290dd6f4c",
   "metadata": {
    "deletable": false,
    "editable": false
   },
   "source": [
    "## Erste Schritte mit der Command Line\n",
    "\n",
    "Beginnen wir damit, die Command Line zu starten und uns anzuschauen, wie sie aufgebaut ist. Je nach Betriebssystem unterscheidet sich das Starten etwas:\n",
    "* Windows: Drück die Windows-Taste, gib \"cmd\" (für \"command\") ein und bestätige mit ```Enter```.\n",
    "* macOS: Gib in der Spotlight-Suche (```⌘```+ Leertaste) \"Terminal\" ein und bestätige mit ```Enter```. \n",
    "* Linux: Drück die Command-Taste, gib \"Terminal\" ein und bestätige mit ```Enter```. (Unter Ubuntu kannst Du auch gleichzeitig die Tasten ```str```, ```alt``` und ```T``` drücken.)"
   ]
  },
  {
   "cell_type": "markdown",
   "id": "80eb85c1-007a-488a-81c8-1c57fc964af9",
   "metadata": {
    "deletable": false,
    "editable": false
   },
   "source": [
    "Schauen wir uns an, wie die Command Line aufgebaut ist. "
   ]
  },
  {
   "cell_type": "markdown",
   "id": "994f54d3-9e29-46c1-ab3b-6b642518f37a",
   "metadata": {
    "deletable": false,
    "editable": false
   },
   "source": [
    "![](../3_Dateien/CL/Screenshots_CL.png)"
   ]
  },
  {
   "cell_type": "markdown",
   "id": "869db269-0cf9-4220-a4ca-a6154ad87390",
   "metadata": {
    "deletable": false,
    "editable": false
   },
   "source": [
    "Direkt nach dem Start der Command Line wird uns bei allen Betriebssystemen das aktuelle Verzeichnis angezeigt, in dem wir uns befinden. Bei macOS und Linux steht  die Tilde ```~``` für das Stammverzeichnis des aktuellen Laufwerks, also die oberste Ebene, in der wir uns im aktuellen Laufwerk befinden können.\n",
    "\n",
    "Hinter dem aktuellen Verzeichnis blinkt oder steht der Cursor. An dieser Stelle geben wir Befehle über die Tastatur ein. Um diese auszuführen, drücken wir anschließend immer ```Enter```."
   ]
  },
  {
   "cell_type": "markdown",
   "id": "2b30d6b6-280f-4815-abb2-a196e167cd91",
   "metadata": {
    "deletable": false,
    "editable": false
   },
   "source": [
    "## Navigation mit der Command Line"
   ]
  },
  {
   "cell_type": "markdown",
   "id": "f7c6a476-8fde-427f-87c8-f4cc7232bf62",
   "metadata": {
    "deletable": false,
    "editable": false
   },
   "source": [
    "Als erstes machen wir uns mit der Navigation durch unsere Verzeichnisse vertraut. Dies sind grundlegende Kenntnisse, die jede:r Programmierer:in zugute kommen. Beim Öffnen der Command Line wird uns wie erwähnt das aktuelle Verzeichnis angezeigt, in dem wir uns befinden. Von dort aus navigieren wir nun in Unterverzeichnisse, indem wir den Befehl ```cd``` und dahinter entweder einen absoluten oder relativen Dateipfad eingeben (vgl. Notebook \"Input und Output Teil 1\"), z.&nbsp;B. gelangen wir mit ```cd Downloads``` in den Ordner \"Downloads\" (vorausgesetzt ein solcher besteht als Unterordner im aktuellen Verzeichnis). "
   ]
  },
  {
   "cell_type": "markdown",
   "id": "14fd1b8a-ed98-45cc-a5c8-77e6424d3778",
   "metadata": {
    "deletable": false,
    "editable": false
   },
   "source": [
    "💡 Tipp: Hilfreich bei der Navigation ist die **Autovervollständigung**. So musst Du nicht immer den ganzen Ordnernamen (oder später Befehlsnamen) schreiben, sondern kannst nach den ersten Buchstaben auf ```Tab``` drücken. Wenn es einen Ordner gibt, der mit der eingegebenen Buchstabenabfolge übereinstimmt, wird der Ordner direkt vervollständigt. Gibt es mehrere Ordner, die mit der eingegebenen Buchstabenfolge beginnen, werden Dir diese zur Auswahl angezeigt."
   ]
  },
  {
   "cell_type": "markdown",
   "id": "07d99ff5-d56b-4d8b-acd9-c1b4ce46d67b",
   "metadata": {
    "deletable": false,
    "editable": false
   },
   "source": [
    "Um von einem bestimmten Verzeichnis in das darüberliegende Verzeichnis zu navigieren, gibst Du ```cd ..``` ein. Die beiden Punkte entsprechen einer Verzeichnisebene, durch Verkettung können wir mehrere Ebenen nach oben wechseln (```cd ../../..```). Probier es selbst aus: Navigier vom aktuellen Verzeichnis möglichst weit \"nach unten\" und anschließend, wie eben gelernt, wieder \"nach oben\"."
   ]
  },
  {
   "cell_type": "markdown",
   "id": "32857304-b3f6-4fe0-8cbf-847a60d7800d",
   "metadata": {
    "deletable": false,
    "editable": false
   },
   "source": [
    "Diese und weitere Befehle zur Navigation über die Command Line werden in der Tabelle unten zusammengefasst und am Beispiel des im Screenshot gezeigten Verzeichnisses exemplifiziert.\n",
    "\n",
    "![](../3_Dateien/CL/Screenshot_Ordnerstruktur.png)"
   ]
  },
  {
   "cell_type": "markdown",
   "id": "c11a6145-e848-403a-a03c-9f2d7380a660",
   "metadata": {
    "deletable": false,
    "editable": false
   },
   "source": [
    "| Befehle   | Bedeutung | Beispiele und Erläuterung |\n",
    "| ---- | ---- | ---- |\n",
    "| ```cd``` (Windows) <br> ```pwd``` (macOS/Linux) | Ausgabe des aktuellen Verzeichnisses | | \n",
    "| ```dir```  | Ausgabe einer Übersicht über alle Unterverzeichnisse und Dateien, die sich im aktuellen Verzeichnis befinden | ```dir``` gibt uns das Verzeichnis \"Dateien\" und die Dateien \"NGramme.ipynb\" sowie \"Sprachmodell_trainieren.ipynb\" aus.<br><br> 💡 Tipp: Je nach Anwendungsfall ist das Nutzen einer sog. *Wildcard* sinnvoll. Diese ist ein Platzhalter für eine beliebig lange Sequenz aus Zeichen. Bsp.: ```dir \"*.ipynb\"``` gibt die Dateien aus, die mit der Dateiendung \".ipynb\" enden (also nicht das Verzeichnis \"Dateien\"). Das liegt daran, dass der Asterisk als Wildcard für alle Zeichenketten steht, welche vor dem Punkt und der Dateiendung \"ipynb\" stehen.  | \n",
    "| ```cd [Unterverzeichnis]``` | Wechseln in ein Unterverzeichnis | ```cd \"Dateien\" ``` wechselt in das Unterverzeichnis \"Dateien\" | \n",
    "| ```cd ..``` | Wechseln zum übergeordneten Verzeichnis | ```cd ..``` wechselt in das eine Ebene höher liegende Verzeichnis \"Programmieren_lernen\"<br> ```cd ../..``` wechselt in das zwei Ebenen höher liegende Verzeichnis \"Datenpartition\" |\n",
    "| ```cd\\``` (Windows) <br> ```\\cd``` (macOS/Linux)   | Navigieren zum Stammverzeichnis des aktuellen Laufwerks|  |"
   ]
  },
  {
   "cell_type": "markdown",
   "id": "c870a44f-0885-47c8-9125-026095893640",
   "metadata": {
    "deletable": false,
    "editable": false
   },
   "source": [
    "## Dateien verwalten mit der Command Line"
   ]
  },
  {
   "cell_type": "markdown",
   "id": "36d63d08-690e-423d-b0ad-41eb388afc21",
   "metadata": {
    "deletable": false,
    "editable": false
   },
   "source": [
    "Doch warum ist das Navigieren mit der Command Line nun so wichtig? Immerhin könnten wir auch einfach ein Verzeichnis im grafischen Dateimanager öffnen und uns anschauen, welche Ordner darin sind. Die Antwort liegt darin begründet, dass wir so eine Möglichkeit haben, Befehle nur auf bestimmte Verzeichnisse anzuwenden. Nehmen wir an, wir haben einen Ordner mit 200 Dateien verschiedener Dateitypen (mit den Dateiendungen \".txt\", \".docx\" und \".pdf\"). Nun wollen wir alle TXT-Dateien löschen. Wenn wir das händisch machen wollen, dauert das lange und ist nervenaufreibend. Diese repetitive Tätigkeit kann uns die Command Line erheblich vereinfachen. \n",
    "\n",
    "Dazu müssen wir lediglich in das Verzeichnis mit den Dateien navigieren und einen kurzen, passenden Befehl eingeben, der in Sekundenschnelle alle entsprechenden Dateien löscht."
   ]
  },
  {
   "cell_type": "markdown",
   "id": "60b4cd3f-9078-4473-bbf1-f08fa9483836",
   "metadata": {
    "deletable": false,
    "editable": false
   },
   "source": [
    "Eine Übersicht über nützliche Befehle zum Verwalten von Dateien findest Du hier. Beachte die Wahl der richtigen Befehle je nach Betriebssystem. Wir gehen wieder von obiger Ordnerstruktur aus, die Beispiele beziehen sich auf macOS/Linux, Windows-Nutzende müssen nur den Befehlsnamen austauschen."
   ]
  },
  {
   "cell_type": "markdown",
   "id": "6f954848-2ba5-4a9b-a3ae-d2c7b395f015",
   "metadata": {
    "deletable": false,
    "editable": false
   },
   "source": [
    "|Befehle (Windows)| Befehle (macOS/Linux)  |  Bedeutung/Funktion | Beispiele und Erläuterung |\n",
    "| ---- | ---- |----| ---- |\n",
    "| ```mkdir [Verzeichnisname]``` | ```mkdir [Verzeichnisname]```|  Anlegen eines neuen Unterverzeichnisses im aktuellen Verzeichnis | ```mkdir Uebungen```  | \n",
    "|  ```copy [Quelldatei] [neuer Name]``` |```cp [Quelldatei] [neuer Name]``` | Kopieren einer Datei | ```cp Sprachmodell_trainieren.ipynb Sprachmodell_trainieren_neu.ipynb``` kopiert \"Sprachmodell_trainieren.ipynb\" und speichert sie unter dem Namen \"Sprachmodell_trainieren_neu.ipynb\" im selben Verzeichnis | \n",
    "| ```move [Quelldatei/-verzeichnis] [Zielverzeichnis]``` | ```mv [Quelldatei/Verzeichnis] [Zielverzeichnis]``` | Verschieben einer Datei/eines Verzeichnisses | ```mv Sprachmodell_trainieren.ipynb Dateien``` verschiebt die Datei in das Verzeichnis \"Dateien\" |\n",
    "| ```ren [aktueller Name] [neuer Name]``` | ```mv [alter Name] [neuer Name]``` | Umbenennen von Dateien <br><br> Bei MacOS und Linux wird dies mit dem ```mv```-Befehl realisiert. Wenn kein Zielverzeichnis, sondern nur ein neuer Dateiname angegeben wird, kann die Datei logischerweise nicht verschoben werden, sondern sie wird automatisch umbenannt. | ```mv Sprachmodell_trainieren.ipynb Sprachmodell.ipynb```| \n",
    "| ```find [\"Zeichenfolge\"] [Datei]``` |  ```grep -rl [\"Zeichenfolge\"] [Datei]``` | Durchsuchen einer oder mehrerer Dateien nach einer Zeichenfolge. Achtung: Leichte Unterschiede im Output je nach Betriebssystem! | ```find \"Command Line\" *.ipynb``` gibt aus, **ob** sich die Zeichenfolge \"Command Line\" in den Dateien befindet oder nicht <br><br>```grep -rl \"Command Line\" *.ipynb``` durchsucht alle Dateien des Dateityps \".ipynb\" im aktuellen Verzeichnis und gibt **nur die Namen** derjenigen aus, die die Zeichenfolge enthalten; ```grep -rl \"Command Line\" *``` sucht in allen Dateien des Verzeichnisses |\n",
    "| ```del [Datei]``` | ```rm [Datei]```| Löschen einer Datei| ```rm Sprachmodell_trainieren.ipynb``` löscht die angegebene Datei <br>```rm *.ipynb``` löscht alle Dateien mit der Dateiendung \".ipynb\" <br><br> ⚠️ Achtung: Achte beim Löschen über die Command Line immer darauf, dass Du im richtigen Ordner bist und der Befehl korrekt ist. So gelöschte Dateien/Ordner können nämlich nicht mehr wiederhergestellt werden!| \n",
    "| ```rmdir [Verzeichnis]```  | ```rmdir [Verzeichnis]```   | Löschen eines *leeren* Verzeichnisses| ```rmdir Dateien```|\n"
   ]
  },
  {
   "cell_type": "markdown",
   "id": "0ffc5101-8624-4e79-b11a-8761e9bcd232",
   "metadata": {
    "deletable": false,
    "editable": false
   },
   "source": [
    "Beachte, dass Du in den Befehlen **immer** die Dateiendung (z.&nbsp;B. \".txt\" oder \".ipynb\") mitschreiben musst. Wenn Du Windows nutzt und Dir die Dateiendung nicht im Explorer angezeigt wird, lohnt es sich, Deine Einstellungen so anzupassen, dass die Endung des Dateityps immer angezeigt wird. Öffne dazu den Explorer und setz bei \"Ansicht\" bzw. \"Anzeige\" das Häkchen bei \"Dateinamenerweiterungen\" (ggf. musst Du dazu zunächst auf den Menüpunkt \"Einblenden\" klicken). "
   ]
  },
  {
   "cell_type": "markdown",
   "id": "8b7587fa-adda-4b59-8b11-a2508ddcad3e",
   "metadata": {
    "deletable": false,
    "editable": false
   },
   "source": [
    "## Installieren und aktualisieren von Modulen und Packages für Python\n",
    "\n",
    "Vor einiger Zeit hast Du auf Deinem Rechner Python installiert. Die Programmiersprache entwickelt sich kontinuierlich weiter, weshalb es sich lohnen kann, Deine Python-Version im Blick zu behalten und bei Bedarf zu aktualisieren. Wenn Du mit Python arbeitest, wirst Du außerdem irgendwann an einen Punkt kommen, an dem Du ein Modul oder Package installieren musst (vgl. Notebook \"Funktionen und Methoden Teil 2\"). Module und Packages, die nicht zur Standardbibliothek von Python gehören, können schnell und unkompliziert über die Command Line nachinstalliert werden."
   ]
  },
  {
   "cell_type": "markdown",
   "id": "b876226d-9d95-4578-be82-9f4c88c3774f",
   "metadata": {
    "deletable": false,
    "editable": false
   },
   "source": [
    "Folgende Übersicht gibt Dir einen Einblick in das Installieren und Aktualisieren von Modulen und Packages mithilfe der Command Line."
   ]
  },
  {
   "cell_type": "markdown",
   "id": "13a23781-2ac1-49c8-84e6-f67e2fa230ff",
   "metadata": {
    "deletable": false,
    "editable": false
   },
   "source": [
    "| Befehle |  Bedeutung/Funktion | Beispiele und Erläuterung |\n",
    "| ---- | ----| ---- |\n",
    "| ```python3 -V``` | Anzeigen der installierten Python-Version | *Um die Python-Version zu aktualisieren, schau z.&nbsp;B.auf [dieser](https://phoenixnap.com/kb/upgrade-python) Internetseite nach.*   | \n",
    "| ```pip3 install [Modul]``` | Installieren eines Moduls/Packages |  ```pip3 install pandas``` installiert aus ```pip``` (dem Paketmanager von Python) das Modul ```pandas```. | \n",
    "| ```pip3 show [Modul]``` | Anzeigen der Version eines Moduls/Packages | ```pip3 show pandas```  |\n",
    "| ```pip3 install [Modul] --upgrade``` | Aktualisieren eines Moduls/Packages |  ```pip3 install pandas --upgrade``` | \n",
    "| ```pip3 install [Modul]==[Version]``` | Installieren einer bestimmten Version eines Moduls/Packages | ```pip3 install pandas==1.3.4```  installiert die Version 1.3.4 von ```pandas```. Wenn die aktuelle Version niedriger ist, wird das Modul/Package aktualisiert, wenn sie höher ist, wird ```pandas``` zurückgestuft.|\n"
   ]
  },
  {
   "cell_type": "markdown",
   "id": "6c54f73f-01ce-4e3c-b527-c9ef8c5df290",
   "metadata": {
    "deletable": false,
    "editable": false
   },
   "source": [
    "## Nice to know\n",
    "Abschließend findest Du an dieser Stelle noch ein paar Tipps, die Dir die Arbeit mit der Command Line vereinfachen können. \n"
   ]
  },
  {
   "cell_type": "markdown",
   "id": "771d4b91-d862-456f-aa3a-b4759013e015",
   "metadata": {
    "deletable": false,
    "editable": false
   },
   "source": [
    "💡 Tipp 1\n",
    "<br><br> Um Dir das Navigieren durch Deine Verzeichnisse zu sparen, kannst Du die Command Line direkt im Zielverzeichnis öffnen. Dies funktioniert wie folgt: Öffne das Zielverzeichnis im grafischen Dateimanager. Öffne das Menü über einen Rechtsklick im Verzeichnis. Nun sollte Dir \"Terminal öffnen\" (oder eine ähnliche Schaltfläche) angezeigt werden. Ggf. musst Du vorher den Punkt \"Weitere Optionen anzeigen\" auswählen."
   ]
  },
  {
   "cell_type": "markdown",
   "id": "13900295-fefc-41d0-b5ef-fa1a7e8b283d",
   "metadata": {
    "deletable": false,
    "editable": false
   },
   "source": [
    "💡 Tipp 2\n",
    "<br> <br>Wenn Du unsicher bist, welche Parameter/Optionen einem Befehl übergeben werden können (z.&nbsp;B. wenn Du unsicher bist, wie sich die Version eines Programms anzeigen lässt), kannst Du die Hilfe zum Befehl aufrufen, indem Du ein ```--help``` hinter den Befehl anfügst (z.&nbsp;B. ```python3 --help```)."
   ]
  },
  {
   "cell_type": "markdown",
   "id": "9f26114f-c99b-4cd9-8b04-e3632a29d0ac",
   "metadata": {
    "deletable": false,
    "editable": false
   },
   "source": [
    "💡 Tipp 3 \n",
    "<br><br> Wer Linux nutzt, kann mit der Tastenkombination ```Str``` + ```C``` bzw. ```Str``` + ```V``` keine Befehle ins Terminal einfügen oder daraus kopieren. Dazu muss jeweils noch eine dritte Taste, nämlich ```Shift``` betätigt werden. Um z.&nbsp;B einen auf einer Internetseite gefundenen und in die Zwischenablage kopierten Befehl ins Terminal einzufügen, musst Du also die Tastenkombination ```Str``` + ```Shift``` + ```V``` nutzen.\n"
   ]
  },
  {
   "cell_type": "markdown",
   "id": "6df97b60-c487-409b-ab23-e72aa422258f",
   "metadata": {
    "deletable": false,
    "editable": false
   },
   "source": [
    "Du hast nun einige Befehle für die Command Line kennengelernt, die Dir das Verwalten Deiner Dateien erleichtern können und die auch grundlegend für die Arbeit mit Python sind. Über die Command Line lassen sich im Allgemeinen die gleichen Aktionen auf Deinem Rechner ausführen wie mit der grafischen Benutzeroberfläche, manchmal auch mehr. Aufgrund der visuellen Andersartigkeit im Vergleich zur gewohnten grafischen Oberfläche mit Fenstern, Buttons usw. wirkt die Command Line womöglich zunächst einschüchternd. Du wirst Dich schnell an sie gewöhnen. Bau die Nutzung der Command Line nach und nach in Deine Routinen am Rechner ein, um zunehmend mit ihr vertraut zu werden und ihre Vorteile zu entdecken. Als erfolgreiche:r Programmierer:in kommst Du um ihre Nutzung nicht herum."
   ]
  },
  {
   "cell_type": "markdown",
   "id": "ec1f2a3b-0828-490a-ab7f-a83078ffbd4e",
   "metadata": {
    "deletable": false,
    "editable": false
   },
   "source": [
    "***\n",
    "<table>\n",
    "      <tr>\n",
    "        <td>\n",
    "            <img src=\"../3_Dateien/Lizenz/CC-BY-SA.png\" width=\"400\">\n",
    "        </td> \n",
    "        <td>\n",
    "            <p>Dieses Notebook sowie sämtliche weiteren <a href=\"https://github.com/yannickfrommherz/exdimed-student/tree/main\">Materialien zum Programmierenlernen für Geistes- und Sozialwissenschaftler:innen</a> sind im Rahmen des Projekts <i>Experimentierraum Digitale Medienkompetenz</i> als Teil von <a href=\"https://tu-dresden.de/gsw/virtuos/\">virTUos</a> entstanden. Erstellt wurden sie von Anne Josephine Matz und Yannick Frommherz. Sie stehen als Open Educational Resource nach <a href=\"https://creativecommons.org/licenses/by-sa/4.0/\">CC BY SA</a> zur freien Verfügung. Für Feedback und bei Fragen nutz bitte das <a href=\"https://forms.gle/VsYJgy4bZTSqKioA7\">Kontaktformular</a>.\n",
    "        </td>\n",
    "      </tr>\n",
    "</table>"
   ]
  }
 ],
 "metadata": {
  "kernelspec": {
   "display_name": "Python 3 (ipykernel)",
   "language": "python",
   "name": "python3"
  },
  "language_info": {
   "codemirror_mode": {
    "name": "ipython",
    "version": 3
   },
   "file_extension": ".py",
   "mimetype": "text/x-python",
   "name": "python",
   "nbconvert_exporter": "python",
   "pygments_lexer": "ipython3",
   "version": "3.11.5"
  }
 },
 "nbformat": 4,
 "nbformat_minor": 5
}