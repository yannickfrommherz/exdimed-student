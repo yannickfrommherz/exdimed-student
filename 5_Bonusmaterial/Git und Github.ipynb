{
 "cells": [
  {
   "cell_type": "markdown",
   "id": "ab6d8934-3486-4e61-8206-d9b703385932",
   "metadata": {
    "deletable": false,
    "editable": false
   },
   "source": [
    "# Einführung in Git und GitHub"
   ]
  },
  {
   "cell_type": "markdown",
   "id": "aaf63307-3408-47d5-9b17-b574ae2a1e0c",
   "metadata": {
    "deletable": false,
    "editable": false
   },
   "source": [
    "Mit zunehmender Programmiererfahrung und komplexeren Problemstellungen nimmt auch der zeitliche Aufwand zu, der in das Erstellen eines Programms fließt. Zugleich ist denkbar, dass mehrere Personen an demselben Projekt beteiligt sind. Um bei der Vielzahl an Datenbeständen und Skripten nicht den Überblick zu verlieren, lohnt sich der Einsatz einer Versionsverwaltung. Vielleicht kennst Du eine solche schon von Cloudsystemen: Beispielsweise Nextcloud hat oftmals eine Versionsverwaltung integriert, mit welcher die Bearbeitung der Dokumente nachvollzogen werden kann und bei Bedarf auch eine Zurückstufung auf einen früheren Arbeitsstand möglich ist. In der Welt des Programmierens wird zur Versionsverwaltung dahingegen **Git** genutzt."
   ]
  },
  {
   "cell_type": "markdown",
   "id": "4cfebba5-761f-4ada-86e8-24858e4d66ca",
   "metadata": {
    "deletable": false,
    "editable": false
   },
   "source": [
    "## Was ist Git?\n",
    "Git ist ein frei verfügbares (Open Source) Versionskontrollsystem, das Deine Arbeitsschritte dokumentieren kann. Am besten stellst Du Dir Git wie ein Logbuch vor: Durch das Abspeichern der Zeit, der vorgenommenen Änderungen und Deiner Kommentare zu diesen sind Entwicklungsschritte im Nachhinein viel leichter nachvollziehbar. Darüber hinaus kannst Du unkompliziert und automatisiert Deine Arbeitsstände miteinander vergleichen lassen und sogar einen früheren Arbeitsstand wiederherstellen. Dies sind Anwendungsfälle, die Dir das Arbeiten an Deinen Skripten sehr erleichtern und absichern können. Und wenn Du mal mit anderen Personen gemeinsam auf mehreren Computern an einem Projekt arbeitest, übernimmt Git das Abgleichen und Zusammenführen der unterschiedlichen Versionen für euch. "
   ]
  },
  {
   "cell_type": "markdown",
   "id": "d2d1e02e-315d-4ce7-a7eb-929f4f61dc51",
   "metadata": {
    "deletable": false,
    "editable": false
   },
   "source": [
    "## Nutzung von Git über die Command Line\n",
    "Als erstes musst Du Git auf Deinem Rechner installieren. Dazu wählst Du auf der [Download-Seite von Git](https://git-scm.com/book/de/v2/Erste-Schritte-Git-installieren) die für Dein Betriebssystem passende Version aus. Wenn Git auf Deinem Rechner installiert ist, kannst Du fortan die Versionsverwaltung vollständig über die Command Line (Terminal bei macOS/Linux bzw. Eingabeaufforderung bei Windows) bedienen. Dazu brauchst Du nicht einmal zwingend Erfahrungen in der Bedienung der Command Line, Du musst lediglich die passenden Gitbefehle eingeben, welche Du hier im Notebook findest."
   ]
  },
  {
   "cell_type": "markdown",
   "id": "97c2392f-aea6-49c2-9313-86b89bd0cc4a",
   "metadata": {
    "deletable": false,
    "editable": false
   },
   "source": [
    "#### **Erste Schritte zum Start in Git** \n",
    "Hier findest Du die wichtigsten Schritte, um Git auf Deinem Rechner zu nutzen. Im Anschluss daran findest Du außerdem ein Anwendungsbeispiel zum Mitmachen, um die hier vorgestellten Schritte selbst ausprobieren zu können.\n",
    "\n",
    "1. Zunächst musst Du ein lokales Repositorium (kurz: *Repo*) erstellen. Dies ist ein Verzeichnis, welches auf Deinem Gerät unter die Versionsverwaltung gestellt wird, also von ihr überwacht wird. In der Logbuch-Metapher entspricht das Initialisieren in Git dem Moment, in dem Du ein neues, leeres Logbuch für ein bestimmtes Projekt erstellst. Es ist der erste Schritt, um Änderungen aufzuzeichnen und die Geschichte Deines Projekts zu dokumentieren. Damit  legst Du also den Grundstein für die Versionskontrolle. <br><br> Navigier dazu mit der Command Line zu dem Verzeichnis (```cd path```) oder öffne das Terminal im Zielverzeichnis, wo das Repositorium erstellt werden soll und gib den Befehl ```git init``` ein. Es wird ein verstecktes Vereichnis angelegt mit dem Namen \".git\". Diesen Git-Ordner solltest Du **nie verändern**, außer wenn Du ihn löschen willst. Du kannst ihn Dir anzeigen lassen, indem Du in Deinem Dateimanager das Anzeigen versteckter Dateien aktivierst: <br><br>\n",
    "![](../3_Dateien/Git/Screenshot_versteckter_Gitordner.png)"
   ]
  },
  {
   "cell_type": "markdown",
   "id": "c1261deb-9cda-4fc8-964f-d8e749aeef1d",
   "metadata": {
    "deletable": false,
    "editable": false
   },
   "source": [
    "2. Wenn Du nun Dateien auf Deinem Rechner erstellst und bearbeitest, musst Du Git anschließend sagen, dass es diese Dateien in die Versionsverwaltung aufnehmen soll. Dazu navigierst Du wieder in das Verzeichnis, in dem das Repositorium sowie die Dateien liegen und führst den Befehl ```git add <dateiname.dateiendung>``` aus. Es können natürlich auch mehrere Dateien hinzugefügt werden. Wenn Du alle geänderten Dateien aufnehmen willst, kannst Du ```git add .``` ausführen. "
   ]
  },
  {
   "cell_type": "markdown",
   "id": "e9e2021c-9ecf-48fb-a707-402228df4cc0",
   "metadata": {
    "deletable": false,
    "editable": false
   },
   "source": [
    "3. Anschließend führst Du mit ```git commit -m <\"message\">``` einen *Commit* durch. Dieser speichert den Zwischenstand (genauer gesagt werden nur die geänderten Zeilen gespeichert) automatisch unter einer eindeutigen Nummer ab, um später darauf zurückgreifen zu können. Als Message solltest Du treffend beschreiben, welche Änderungen Du vorgenommen hast. Das Committing in Git ähnelt metaphorisch gesprochen dem Schreiben des Eintrags in Dein Logbuch: Wenn Du Änderungen an dem Projekt vornimmst und sie in die Versionsgeschichte aufnehmen möchtest, fügst Du sie dem Logbuch hinzu. Ein Commit speichert also einen Snapshot der aktuellen Änderungen, der dann in die Geschichte des Projekts aufgenommen wird."
   ]
  },
  {
   "cell_type": "markdown",
   "id": "49aacf48-a28c-492b-a1fe-8f0f99990a70",
   "metadata": {
    "deletable": false,
    "editable": false
   },
   "source": [
    "#### **🔧 Anwendungsbeispiel zum Mitmachen**\n",
    "Vollziehen wir die einzelnen Schritte an einem konkreten Beispiel nach. \n",
    "- Als erstes legen wir einen Testordner an, z. B. mit dem Namen \"Testordner_Git\".\n",
    "- Nun öffnen wir die Command Line und navigieren zum neuen Ordner (```cd path```).\n",
    "- Als nächstes initiieren wir ein leeres, lokales Repositorium für die Versionsverwaltung mit ```git init```.\n",
    "- Nun musst Du einige Dateien im Testordner anlegen, die versionsverwaltet werden sollen. Zum Testen kannst Du z.&nbsp;B. zwei Textdateien anlegen.  \n",
    "- Anschließend sagen wir Git, dass es die beiden Dateien aufnehmen soll. Dazu gibst Du ```git add .``` in die Command Line ein. Wenn Du nur eine Datei davon nachverfolgen willst, kannst Du stattdessen den Namen der Datei ohne Anführungszeichen eingeben.\n",
    "- Anschließend fehlt noch der Commit. Diesen erstellen wir, indem wir ```git commit -m \"Erster Arbeitsstand: XYZ\"``` eingeben.\n",
    "- Damit haben wir die Dateien unserem \"Logbuch\" hinzugefügt. Nehmen wir an, wir arbeiten nun an den beiden Dateien und wollen einen weiteren Zwischenstand abspeichern. Dann fügen wir sie zunächst wieder mit ```git add .``` hinzu (das nennt sich übrigens *stagen*, die Datei wird dann für den nächsten Commit vorgemerkt). Wenn wir zufrieden mit unserem Arbeitsstand sind, können wir die vorgemerkten Datei anschließend committen."
   ]
  },
  {
   "cell_type": "markdown",
   "id": "f6bac462-35cf-4b2d-9dcb-6053a00af969",
   "metadata": {
    "deletable": false,
    "editable": false
   },
   "source": [
    "Eine Übersicht über wichtige Befehle zum Einstieg findest Du hier zusammengestellt:\n",
    "| Kommando | Bedeutung/Funktion | Hinweise |\n",
    "| ---- | ---- | ---- |\n",
    "| ```git init```| Initialisieren eines neuen Repositoriums für die Versionskontrolle | Dabei wird eine versteckte Datei angelegt | \n",
    "| ```git add <dateiname.dateiendung>``` bzw. ```git add .``` | Hinzufügen von Dateien zur Versionsverwaltung | Keine Anführungszeichen um Dateinamen | \n",
    "| ```git commit -m <\"message\">``` | Beschreiben der vorgenommenen Änderungen als kurzen Kommentar | Message muss in Anführungszeichen geschrieben werden|\n"
   ]
  },
  {
   "cell_type": "markdown",
   "id": "a5185b2c-c14d-4bb5-9785-7e168a1f562a",
   "metadata": {
    "deletable": false,
    "editable": false
   },
   "source": [
    "Weitere nützliche Befehle sind:\n",
    "| Kommando | Bedeutung/Funktion | Hinweise |\n",
    "| ---- | ---- | ---- |\n",
    "| ```git status```| Erhalten eines Überblicks über den Zustand des Repositoriums | Liefert Informationen über Branch (s.&nbsp;u.), ob Dateien noch nicht mit ```git add``` hinzugefügt wurden bzw. ob es Dateien zu committen gibt | \n",
    "| ```git diff``` | Anzeigen von Änderungen zwischen einer noch nicht hinzugefügten Datei und der bereits gespeicherten Version | Funktioniert nur, wenn die zu vergleichende Datei **noch nicht** mit ```git add``` hinzugefügt wurde!  | \n",
    "| ```git log``` | Anzeigen der Versionsgeschichte, also aller Commits | Die Command Line gibt die Änderungen so aus, dass der jüngste Commit immer als oberster steht |\n"
   ]
  },
  {
   "cell_type": "markdown",
   "id": "cab32d90-6a30-40c3-9371-f77b57f94e72",
   "metadata": {
    "deletable": false,
    "editable": false
   },
   "source": [
    "Das sind die wichtigsten Befehle, um schnell in Git einzusteigen. Doch die Versionsverwaltung ist weitaus mächtiger. So ist es möglich, auf verschiedenen Zweigen - sog. *Branches* - zu arbeiten. Dabei handelt es sich um fortgeschritteneres Wissen zu Git. Wenn Du Dich zunächst einmal langsam herantasten und nur mit den grundlegenden Funktionen der Versionsverwaltung vertraut machen willst, kannst Du diesen Teil überspringen und später darauf zurückkommen. "
   ]
  },
  {
   "cell_type": "markdown",
   "id": "392bd725-77b6-43f7-b637-7f3e4b3c8be1",
   "metadata": {
    "deletable": false,
    "editable": false
   },
   "source": [
    "#### **Fortgeschritten: Branches**\n",
    "Jeder Zweig repräsentiert eine eigenständige Linie der Arbeit und ermöglicht es, an verschiedenen Funktionen oder Ideen unabhängig voneinander zu arbeiten, ohne die Hauptgeschichte zu beeinflussen. Zu Beginn steht lediglich ein main-Branch zur Verfügung. Auf diesem werden standardmäßig alle Änderungen vorgenommen. Wenn man nur an kleineren Änderungen und Weiterentwicklungen arbeitet, reicht dieser Branch meist aus. Sobald es aber an das Vornehmen umfangreicher Änderungen geht, sollte zunächst ein neuer Branch erzeugt und auf diesem gearbeitet werden. Der Vorteil ist recht offensichtlich: Alle Änderungen, die auf dem neuen Branch vorgenommen werden, sind unabhängig von der Version auf dem main-Branch. Dadurch wird der alte Arbeitsfortschritt nicht überschrieben und im Fall, dass die Version auf dem neuen Branch nicht funktioniert, kann diese einfach verworfen werden. Zur Arbeit mit verschiedenen Branches gibt es eine Reihe von Befehlen, die Du jederzeit hier nachschlagen kannst:\n",
    "| Kommando | Bedeutung/Funktion | Hinweise |\n",
    "| ---- | ---- | ---- |\n",
    "| ```git branch <name>```| Anlegen eines neuen Branch als Kopie von main | Angabe des Namens immer ohne Anführungszeichen | \n",
    "| ```git checkout <name> ``` | Auschecken aus dem aktuellen Branch und wechseln in einen anderen Branch, der unter ```<name>``` angegeben wird | Unbedingt Änderungen an den Dateien vorher committen | \n",
    "| ```git merge <name>``` | Übertragen der Änderungen von dem mit ```<name>``` angegebenen Branch in den Hauptbranch (i.&nbsp;d.&nbsp;R. main) | Die Übertragung erfolgt zeilenweise, es werden also immer veränderte Zeilen gelöscht und neu eingefügt. Es kommt so zu keinen Konflikten, selbst wenn zwischenzeitlich auch am main-Branch gearbeitet wurde. Konflikte treten nur dann auf, wenn die gleichen Zeilen geändert wurden. Dann stoppt das Mergen und es ist manuelle Nacharbeit notwendig (s.&nbsp;u.).| \n",
    "\n",
    "**Lösen von Konflikten:** Wenn dieselben Zeilen auf beiden Branches geändert wurden, wirst Du über einen Konflikt informiert. Dann werden beim Mergen zunächst beide Versionen untereinander in die betroffene Datei eingetragen. Das Lösen des Konfliktes kann mit einem Texteditor vorgenommen werden. Mit diesem öffnest Du die Datei und löschst den Teil manuell, welcher nicht benötigt wird. Such dazu nach den Markierungen *HEAD* und *MAIN*. Erstere steht für die Version aus dem abgezweigten Branch, letztere für jene aus main. Die nicht benötigten Zeilen kannst Du samt der beiden Markierungen löschen. Anschließend muss die Datei committed werden, um den Merge erfolgreich zu beenden. "
   ]
  },
  {
   "cell_type": "markdown",
   "id": "3c669c8c-ebb5-44f0-949a-0a06a798dc0e",
   "metadata": {
    "deletable": false,
    "editable": false
   },
   "source": [
    "## Git in einer Entwicklungsumgebung nutzen\n",
    "Git kann nicht nur über die Command Line bedient, sondern auch als Erweiterung in Deine Entwicklungsumgebungen eingebunden werden. Aber auch für diesen Weg musst Du Git zunächst auf Deinem Rechner installieren – die Anleitung findest Du oben. Eine Anleitung zur anschließenden Installation für JupyterLab findest Du [hier](https://humtechlab.gitbook.io/redcar/1-reproducible/1.3-git-extension-jupyterlab). Wenn Du Visual Studio Code nutzt, musst Du nichts installieren, die Git-Unterstützung ist bereits standardmäßig integriert.\n",
    "\n",
    "Git bei JupyterLab sieht beispielsweise so aus: <br><br>\n",
    "![](../3_Dateien/Git/Screenshot_Git_in_JupyterLab.png)\n",
    "\n",
    "Die Bedienung von Git variiert leicht je nach installierter Erweiterung bzw. Entwicklungsumgebung. Anleitungen und Dokumentationen findest Du im Internet. Die Nutzung von Git in der Entwicklungsumgebung ist oft etwas einfacher als über die Command Line, bietet aber meist nicht alle Funktionen, die über die Command Line möglich sind. Deshalb solltest Du die Möglichkeiten der Command Line stets im Hinterkopf behalten. <br>"
   ]
  },
  {
   "cell_type": "markdown",
   "id": "014ec3d7-75f9-45f2-850f-242bcdc7b94f",
   "metadata": {
    "deletable": false,
    "editable": false
   },
   "source": [
    "## GitHub\n",
    "\n",
    "Git kennst Du nun – eine lokal auf Deinem Rechner nutzbare Versionsverwaltung. Doch wie eingangs beschrieben ist es bei einigen Projekten nötig, mit mehreren Personen gemeinsam an Skripten zu arbeiten. Auch dabei kommt Git wieder ins Spiel. Die Zwischenstände werden dazu auf einer gemeinsamen Plattform hochgeladen, auf die berechtigte Personen Zugriff haben. Auch die Möglichkeit des Teilens und gemeinsamen Bearbeitens von Dateien kennst Du vielleicht bereits von Cloudsystemen wie Nextcloud. Solche Plattformen in der Programmier-Community sind bspw. GitLab oder GitHub, letzteres schauen wir uns nun genauer an."
   ]
  },
  {
   "cell_type": "markdown",
   "id": "68a0d1e6-0ff5-4e06-ab87-c167a2b8b0a3",
   "metadata": {
    "deletable": false,
    "editable": false
   },
   "source": [
    "Öffne [GitHub](https://github.com/) und such in der Suchleiste rechts oben nach dem Repositorium \"exdimed-student\". Wenn Du darauf klickst, gelangst Du zu folgendem öffentlichen Repositorium:"
   ]
  },
  {
   "cell_type": "markdown",
   "id": "1569b3ff-099d-4d4c-8c5f-2bf79dc7284d",
   "metadata": {
    "deletable": false,
    "editable": false
   },
   "source": [
    "![](../3_Dateien/Git/Screenshot_GitHub.png)"
   ]
  },
  {
   "cell_type": "markdown",
   "id": "65eb8c23-c2db-4ba0-b033-36d3ac9fc365",
   "metadata": {
    "deletable": false,
    "editable": false
   },
   "source": [
    "Hier befinden sich alle Notebooks zum Programmierenlernen, so auch dieses. Das Repositorium ist öffentlich, d.&nbsp;h. Du kannst es lokal auf Deinem Rechner speichern. Dazu gibt es drei Wege, die im Folgenden kurz vorgestellt werden. Probier sie alle aus und entscheid dann, welcher Dir am besten gefällt."
   ]
  },
  {
   "cell_type": "markdown",
   "id": "5b0ae464-8333-430e-a6bc-a983f0c0b58e",
   "metadata": {
    "deletable": false,
    "editable": false
   },
   "source": [
    "#### Nutzung der Command Line\n",
    "Ein Repositorium kann mit dem Befehl ```git clone <URL>``` von GitHub in ein lokales Arbeitsverzeichnis auf Deinem Rechner kopiert werden. Dazu benötigst Du nicht einmal ein Profil auf GitHub. Navigier dazu einfach in der Command Line zum gewünschten lokalen Speicherort des Repositoriums, gib den obigen Befehl ein und ersetz \\<URL> durch die URL des Repositorium von GitHub. Das war's auch schon, Du hast nun sämtliche Dateien auf Deinem Rechner und kannst mit ihnen lokal arbeiten. Probier es doch gleich einmal aus. <br><br>\n",
    "Wenn Änderungen an dem Repositorium auf GitHub vorgenommen werden, werden diese nicht automatisch mit den Dateien in Deinem Arbeitsverzeichnis synchronisiert. Stattdessen musst Du sie vom Server herunterladen. Dies funktioniert allgemein über den Befehl ```git pull <URL> <branch>```. In unserem Beispiel gibt es nur den main-Branch, daher musst Du den Befehl wie folgt eingeben: ```git pull https://github.com/yannickfrommherz/exdimed-student main```. \n",
    "\n",
    "Wenn Du gemeinsam mit anderen Entwickler:innen an Programmen arbeitest, musst Du früher oder später Deine Änderungen auch wieder auf GitHub hochladen. Dazu musst Du Dir zunächst ein kostenloses Profil auf GitHub anlegen. Das Hochladen (sog. *pushen*) funktioniert mit dem Befehl ```git push```. Die Änderungen werden dann in die Quelle, von der sie stammen, hochgeladen. Voraussetzung hierfür ist, dass Du die entsprechenden Schreibrechte seitens der/des Besitzer:in des Repositoriums erhalten hast."
   ]
  },
  {
   "cell_type": "markdown",
   "id": "35ee24ac-03d8-4644-aa73-c99717e97960",
   "metadata": {
    "deletable": false,
    "editable": false
   },
   "source": [
    "#### Nutzung von GitHub Desktop\n",
    "GitHub Desktop ist eine Anwendung, die von GitHub entwickelt wurde, um Entwickler:innen das Arbeiten mit Git-Repositories auf eine benutzerfreundliche Art und Weise zu ermöglichen. Insbesondere für diejenigen, die nicht so vertraut mit der Command Line sind, kann GitHub Desktop eine gute Alternative zum Einstieg darstellen. GitHub Desktop ist eine grafische Benutzeroberfläche (eine sog. *GUI*), die es für die Betriebssysteme [Windows, Mac](https://desktop.github.com/) und [Linux](https://www.githubdesktop.com/github-desktop-linux-install/) herunterzuladen gibt. \n",
    "\n",
    "Die Benutzeroberfläche sieht wie folgt aus: <br>\n",
    "<img src=\"../3_Dateien/Git/Übersicht_Funktionen_GitHub_Desktop.jpg\" alt=\"drawing\" width=\"500\"/>\n"
   ]
  },
  {
   "cell_type": "markdown",
   "id": "315a02eb-2a48-40ee-802c-26b007ed4c0d",
   "metadata": {
    "deletable": false,
    "editable": false
   },
   "source": [
    "*Bildquelle: Jünger/Gärtner 2023, S. 213*"
   ]
  },
  {
   "cell_type": "markdown",
   "id": "9fd8acc8-b24b-4218-8cfd-889c9cd29d6d",
   "metadata": {
    "deletable": false,
    "editable": false
   },
   "source": [
    "Kurz zur Bedienung von GitHub Desktop:<br>\n",
    "* Über das File-Menü oben links kannst Du ein neues Repositorium anlegen oder ein bestehendes auswählen und verwalten.\n",
    "* Das Herunterladen eines Repositoriums z.&nbsp;B. von GitHub funktioniert ebenfalls über das File-Menü, wähl dazu \"Clone Repository\" aus und gib als Adresse die URL ein sowie den Ort auf Deinem Rechner, wo es gespeichert werden soll. \n",
    "* Über die Schaltfläche \"Fetch\" wird Dein lokales mit dem Online-Repositorium abgeglichen. Diese Schaltfläche ändert sich je nachdem, ob Du einen Pull oder Push durchführen musst. \n",
    "* Nachdem Du Ordner oder Dateien bearbeitet hast, kannst Du die Änderungen ins Feld \"Summary\" (unten links) eintragen und committen. \n",
    "* Wenn Du nach dem Committen auf die Schaltfläche \"Fetch\" schaust, steht dort \"Push origin\". Damit kannst Du Deine Änderungen ins Online-Repositorium übertragen (wiederum vorausgesetzt Du verfügst über die entsprechenden Rechte)."
   ]
  },
  {
   "cell_type": "markdown",
   "id": "e47736c2-4309-434f-ab18-2ecc6baec3cf",
   "metadata": {
    "deletable": false,
    "editable": false
   },
   "source": [
    "#### Nutzung von GitHub über den Browser\n",
    "Zuletzt kurz zur Nutzung von GitHub über den Browser. Du hast Dich vielleicht bereits gefragt, warum dieser offensichtlich erscheinende Weg nicht als erster hier vorgestellt wurde. Das liegt am minimierten Funktionsumfang und der Unkonventionalität dieses Vorgehens. Grundlegende Aktionen kannst Du dennoch über den Browser ausführen, wie etwa das Herunterladen der Dateien. Diese kannst Du alternativ zum Clonen über die Command Line auch als ZIP-Archiv downloaden. Klick dazu auf den grünen Button \"Code\" und wähl \"Download ZIP\":\n",
    "\n",
    "![](../3_Dateien/Git/Screenshot_Github_2.png)\n",
    "\n",
    "Du hast im Browser auch die Möglichkeit, Dateien hochzuladen, zu committen und zusammenzuführen, allerdings kannst Du nicht Deinen lokalen Arbeitsstand mit dem auf GitHub abgleichen oder Dir die neu hinzugekommene Änderungen herunterladen (vgl. ```pull```-Befehl), stattdessen kannst Du nur alle Dateien auf einmal downloaden.  "
   ]
  },
  {
   "cell_type": "markdown",
   "id": "b1c4c2c5-e0ee-4a93-b007-10d3b505f50d",
   "metadata": {
    "deletable": false,
    "editable": false
   },
   "source": [
    "## Motivation\n",
    "Du hast verschiedene Wege gesehen, wie Du die Versionsverwaltung Git bzw. die Plattform GitHub nutzen kannst und einen Überblick über wichtige Befehle bekommen. Die Vielzahl an Möglichkeiten und Funktionen ist im ersten Moment vermutlich erschlagend. Taste Dich langsam heran. Du kannst mit den hier dargestellten Befehlen nichts falsch machen oder gar einen Schaden anrichten. Besonders die Arbeit mit der Konsole kann am Anfang ungewohnt sein, Du wirst aber schnell ein Gefühl dafür bekommen. \n",
    "<br><br>\n",
    "Versuch für den Einstieg doch einfach, die Versionsverwaltung schrittweise in Deinen (Arbeits)-Alltag einzubauen. So kannst Du z.&nbsp:B. einfach Textdokumente mit Git verwalten. Schrittweise wirst Du so mehr Sicherheit gewinnen und Git/GitHub bald schon routiniert nutzen. Bei Fragen und Problemen lohnt es sich, im Internet nachzuschauen. Git und GitHub sind in der Programmier-Community sehr weit verbreitet, weshalb Du dazu viel finden wirst.\n",
    "\n",
    "**Viel Spaß und Erfolg beim Einstieg in Git und GitHub!**\n",
    "\n",
    "-----\n",
    "#### Referenz und Empfehlung zur Vertiefung:\n",
    "Jünger, Jakob / Gärtner, Chantal (2023): Computational Methods für die Sozial- und Geisteswissenschaften. Wiesbaden: Springer VS. DOI: https://doi.org/10.1007/978-3-658-37747-2.\n",
    "<br><br><br>\n",
    "\n",
    "\n",
    "<table>\n",
    "      <tr>\n",
    "        <td>\n",
    "            <img src=\"../3_Dateien/Lizenz/CC-BY-SA.png\" width=\"400\">\n",
    "        </td> \n",
    "        <td>\n",
    "            <p>Dieses Notebook sowie sämtliche weiteren <a href=\"https://github.com/yannickfrommherz/exdimed-student/tree/main\">Materialien zum Programmierenlernen für Geistes- und Sozialwissenschaftler:innen</a> sind im Rahmen des Projekts <i>Experimentierraum Digitale Medienkompetenz</i> als Teil von <a href=\"https://tu-dresden.de/gsw/virtuos/\">virTUos</a> entstanden. Erstellt wurden sie von Anne Josephine Matz und Yannick Frommherz. Sie stehen als Open Educational Resource nach <a href=\"https://creativecommons.org/licenses/by-sa/4.0/\">CC BY SA</a> zur freien Verfügung.\n",
    "        </td>\n",
    "      </tr>\n",
    "</table>"
   ]
  }
 ],
 "metadata": {
  "kernelspec": {
   "display_name": "Python 3 (ipykernel)",
   "language": "python",
   "name": "python3"
  },
  "language_info": {
   "codemirror_mode": {
    "name": "ipython",
    "version": 3
   },
   "file_extension": ".py",
   "mimetype": "text/x-python",
   "name": "python",
   "nbconvert_exporter": "python",
   "pygments_lexer": "ipython3",
   "version": "3.11.5"
  }
 },
 "nbformat": 4,
 "nbformat_minor": 5
}