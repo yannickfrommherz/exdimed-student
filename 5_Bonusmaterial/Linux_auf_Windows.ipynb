{
 "cells": [
  {
   "cell_type": "markdown",
   "id": "45bf07b4-f443-4530-ac19-ff28e0225b52",
   "metadata": {
    "deletable": false,
    "editable": false
   },
   "source": [
    "# Linux als Subsystem auf Windows installieren"
   ]
  },
  {
   "cell_type": "markdown",
   "id": "15a06817-1cc4-47a7-b8aa-1cff2e12c04b",
   "metadata": {
    "deletable": false,
    "editable": false
   },
   "source": [
    "In diesem Notebook lernst Du, wie Du Linux als Subsystem auf Deinem Windows-Rechner installieren kannst. Der Anwendungsfall ist die Nutzung des `RNNTagger`, der sich so am einfachsten unter Windows ausführen lässt.\n",
    "\n",
    "Die folgende Anleitung wirkt recht umständlich, allerdings handelt es sich um ganz grundlegende Schritte, wenn man sich in der Welt des Programmierens bewegt. Trau Dich, die Schritte aus der Anleitung zu befolgen. Es handelt sich gleichzeitig um eine schöne Übung, um mit der Command Line weiter vertraut zu werden sowie in das Betriebssystem Linux hineinzuschnuppern."
   ]
  },
  {
   "cell_type": "markdown",
   "id": "19d78174-6d2e-426b-be97-25e8da43ed34",
   "metadata": {
    "deletable": false,
    "editable": false
   },
   "source": [
    "## Installation des Linux-Subsystems auf Windows"
   ]
  },
  {
   "cell_type": "markdown",
   "id": "8fa6debb-fe2d-455e-a452-fbc32a04e01c",
   "metadata": {
    "deletable": false,
    "editable": false
   },
   "source": [
    "1. Öffne die Windows-PowerShell (Windows-Taste drücken, in der Suche \"PowerShell\" eintippen). Gib den Befehl <code>wsl --install</code> ein und bestätige mit `Enter`. Damit wird die Linux-Distribution *Ubuntu* installiert, welche auch für Einstieger:innen in Linux gut geeignet ist. Die Installation dauert je nach Leistungsfähigkeit Deines Computers mehrere Minuten. Es kann vorkommen, dass der Fortschrittsbalken zwischenzeitlich \"stecken bleibt\", die Installation soltle dennoch klappen.\n",
    "2. Sobald am Beginn der Zeile in der PowerShell wieder das aktuelle Arbeitsverzeichnis angezeigt wird (z. B. <code>PS C:\\Users\\name -></code>) und der Cursor blinkt, musst Du Windows neu starten. Nach dem Neustart wird die Installation fertiggestellt.\n",
    "3. Sollte sich nach dem Neustart die Command Line in Ubuntu nicht von selbst öffnen, musst Du lediglich \"Ubuntu\" in die Suchleiste eingeben, dann wird das Sub-Betriebssystem als App vorgeschlagen. Starte die App – damit öffnet sich die Command Line. Nun musst Du wahrscheinlich einen Benutzernamen und ein Passwort für Ubuntu festlegen. Danach kannst Du die Command Line in Ihrem vollen Funktionsumfang nutzen."
   ]
  },
  {
   "cell_type": "markdown",
   "id": "8b821b6d-401a-4494-9505-3bbb2915608c",
   "metadata": {
    "deletable": false,
    "editable": false
   },
   "source": [
    "## Aktualisieren, Nachinstallieren von <code>pip</code> und Installieren von Modulen"
   ]
  },
  {
   "cell_type": "markdown",
   "id": "07d7e938-b329-48e7-b21d-35bf29c4e6f2",
   "metadata": {
    "deletable": false,
    "editable": false
   },
   "source": [
    "Bei der Installation von Linux wird Python standardmäßig mitinstalliert, da bestimmte Systemkomponenten diese Programmiersprache voraussetzen. Führ nun folgende Schritte aus, um sicherzustellen, dass Du außerdem über alle benötigten Module verfügst. \n",
    "1. Öffne die Command Line durch Starten der Ubuntu-App (siehe Schritt 3 des vorigen Abschnitts). Da wir im Folgenden in der Command Line von Linux arbeiten, wird Dir die Syntax der Befehle wahrscheinlich zunächst etwas fremd vorkommen.\n",
    "2. Tipp den Befehl <code>apt-get update</code> ein und, sobald er ausgeführt wurde, <code>apt install python3-pip</code> (wenn es Dich interessiert: <code>apt</code> ist ein Paketverwaltungssystem von Linux, welches durch den Code zunächst auf die aktuelle Version gebracht wird, anschließend wird aus diesem <code>pip</code> installiert).\n",
    "3. Nun installieren wir noch <code>numpy</code> und <code>torch</code>, da diese für den `RNNTagger` benötigt werden. Dies erfolgt über folgende Codes, die Du nacheinander in die Command Line eingibst: <code>pip3 install numpy</code> und <code>pip3 install torch</code>. Die Ausführung insbesondere des zweiten Codes kann einige Zeit in Anspruch nehmen. "
   ]
  },
  {
   "cell_type": "markdown",
   "id": "0d7c0c65-30f4-486b-b343-9a1cd3cf7eb2",
   "metadata": {
    "deletable": false,
    "editable": false
   },
   "source": [
    "## Downloaden, Installieren und Nutzen des `RNNTagger`"
   ]
  },
  {
   "cell_type": "markdown",
   "id": "18d0b11f-52da-4468-8d01-629409953762",
   "metadata": {
    "deletable": false,
    "editable": false
   },
   "source": [
    "Nun müssen wir noch den `RNNTagger` installieren. \n",
    "\n",
    "1. Lad den `RNNTagger` über [diesen Link](https://www.cis.lmu.de/~schmid/tools/RNNTagger/data/RNNTagger-1.4.7.zip) (oder von [dieser Webseite](https://www.cis.lmu.de/~schmid/tools/RNNTagger/)) herunter. Die Datei ist fast 4 GB groß, stell also sicher, dass Du eine stabile Internetverbindung sowie ausreichend Speicherplatz auf Deinem Rechner hast.\n",
    "2. Entpack die heruntergeladene Datei und speicher sie im bereits existierenden Ordner \"3_Dateien/RNNTagger\". Stell sicher, dass sich die entpackten Ordner \"cmd\", \"lib\", etc. im Ordner \"3_Dateien/RNNTagger\" befinden und nicht in einem Unterordner desselben (vgl. auch Screenshot der Ordnerstruktur auf einem Mac im Notebook \"Tagging\").\n",
    "3. Da Du den `RNNTagger` nur innerhalb des Subsystems benutzen kannst, musst Du nun den Ordner \"3_Dateien\" an einen Ort verschieben, der für Linux zugänglich ist. Kopier den gesamten Ordner im Explorer, navigier in der Seitenleiste zu \"Linux\" (vermutlich ganz unten), öffne den Ordner \"Ubuntu\" und füg den Ordner dort ein. Das sollte dann wie folgt aussehen:\n",
    "\n",
    "    <img src=\"../3_Dateien/Grafiken_und_Videos/Ubuntu_in_Windows.jpeg\">\n",
    "    <br><br>\n",
    "4. Öffne die Command Line durch Öffnen der Ubuntu-App und navigier mit folgendem Befehl in den Ordner mit dem `RNNTagger`: <code>cd ../3_Dateien/RNNTagger</code>\n",
    "5. Nun kannst Du die Befehle aus dem Notebook \"Tagging\" ausführen, allerdings jeweils ohne das initiale \"!\". Beachte, dass Du die Befehle abtippen musst, weil Du in die Command Line nichts einfügen kannst. <br><br>\n",
    "⚠️ **Wichtig:** Wenn bei <code>cmd/rnn-tagger-german.sh ../Output/test.txt</code> die Meldung <code>Permission denied</code> kommt, führ den Befehl <code>sudo chmod a+rwx cmd/rnn-tagger-german.sh</code> aus. Bei der Meldung <code>./scripts/lemma-lookup.pl: Permission denied</code> gibst Du den Befehl <code>sudo chmod a+rwx ./scripts/lemma-lookup.pl</code> ein. Damit werden die benötigten Berechtigungen freigegeben, auf die Dateien zuzugreifen. Das Freigeben der Berechtigungen reicht i. d. R. einmalig aus. Anschließend sollten sich alle Codes ausführen lassen.<br>"
   ]
  },
  {
   "cell_type": "markdown",
   "id": "cc9e77e8-12e5-488d-a1cf-eb5a5488ee38",
   "metadata": {
    "deletable": false,
    "editable": false
   },
   "source": [
    "***\n",
    "<table>\n",
    "      <tr>\n",
    "        <td>\n",
    "            <img src=\"../3_Dateien/Lizenz/CC-BY-SA.png\" width=\"400\">\n",
    "        </td> \n",
    "        <td>\n",
    "            <p>Dieses Notebook sowie sämtliche weiteren <a href=\"https://github.com/yannickfrommherz/exdimed-student/tree/main\">Materialien zum Programmierenlernen für Geistes- und Sozialwissenschaftler:innen</a> sind im Rahmen des Projekts <i>Experimentierraum Digitale Medienkompetenz</i> als Teil von <a href=\"https://tu-dresden.de/gsw/virtuos/\">virTUos</a> entstanden. Erstellt wurden sie von Anne Josephine Matz und Yannick Frommherz. Sie stehen als Open Educational Resource nach <a href=\"https://creativecommons.org/licenses/by-sa/4.0/\">CC BY SA</a> zur freien Verfügung. Für Feedback und bei Fragen nutz bitte das <a href=\"https://forms.gle/VsYJgy4bZTSqKioA7\">Kontaktformular</a>.\n",
    "        </td>\n",
    "      </tr>\n",
    "</table>"
   ]
  }
 ],
 "metadata": {
  "kernelspec": {
   "display_name": "Python 3 (ipykernel)",
   "language": "python",
   "name": "python3"
  },
  "language_info": {
   "codemirror_mode": {
    "name": "ipython",
    "version": 3
   },
   "file_extension": ".py",
   "mimetype": "text/x-python",
   "name": "python",
   "nbconvert_exporter": "python",
   "pygments_lexer": "ipython3",
   "version": "3.11.5"
  }
 },
 "nbformat": 4,
 "nbformat_minor": 5
}