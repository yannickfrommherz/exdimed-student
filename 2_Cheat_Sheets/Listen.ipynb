{
 "cells": [
  {
   "cell_type": "code",
   "execution_count": 1,
   "id": "c4e6d470-1802-4793-b36a-993e5a5a7d69",
   "metadata": {},
   "outputs": [
    {
     "name": "stdout",
     "output_type": "stream",
     "text": [
      "\n"
     ]
    }
   ],
   "source": [
    "%%script echo \n",
    "\n",
    "liste.append(element) #hängt das Element ans Ende der Liste; gleichbedeutend mit:\n",
    "liste += [element] #beachte die eckigen Klammern!\n",
    "liste.insert(index, element) #fügt das Element an der Stelle des angegebenen Index auf der Liste ein \n",
    "liste.extend(element) #hängt die Element eines iterierbaren Objekts einzeln an die Liste an (z.B. alle Elemente einer Liste oder alle Zeichen eines strings als einzelne Listenelemente, anstatt die Liste/den string als ein einziges Listenelement)\n",
    "liste[start:end] = [new_element1, new_element2] #ersetzt die Werte zwischen Start- und Endindex auf der Liste mit neuen Werten\n",
    "liste.remove(element) #entfernt das (erste) angegenene Element von der Liste\n",
    "liste.pop() #gibt das letzte Element der Liste zurück und entfernt es gleichzeitig von der Liste\n",
    "liste.pop(index) #gibt das Element an der Stelle des angegebenen Index zurück und entfernt es gleichzeitig von der Liste\n",
    "liste2 = liste1[:] #kopiert die Elemente von liste1 auf eine neue Liste liste2 (anstatt nur eine zweite Variable einzuführen, die auf das gleiche Objekt zeigt), Änderungen an liste2 verändern nichts an liste1 (vgl. Datentypen/Veränderlichkeit)\n",
    "liste.index(\"value\") #gibt den Index des ersten Vorkommens des angegebenen Werts zurück\n",
    "liste.reverse() #kehrt die Reihenfolge der Liste um\n",
    "liste.sort(key=... [, reverse=True]) #sortiert die Liste (in place, d.h. das Objekt wird dadurch verändert); key definiert wonach sortiert wird (z.B. len, oder eine lambda-Funktion); der optionale Parameter reverse=True bedeutet absteigende Reihenfolge\n",
    "liste2 = sorted(liste1, key=... [, reverse=True]) #gibt die Liste sortiert zurück (nicht in place, d.h. das Objekt wird dadurch nicht verändert, daher auf neue Variable schreiben, um weiter mit sortierter Liste zu arbeiten); key definiert wonach sortiert wird (z.B. len, oder eine lambda-Funktion); der optionale Parameter reverse=True bedeutet absteigende Reihenfolge\n",
    "liste.count(\"value\") #zählt das Vorkommen des angegebenen Werts auf der Liste\n",
    "\n",
    "#erstellt eine Frequenzliste basierend auf dem Vorkommen von Elementen auf einer Liste\n",
    "freq_dict = {}\n",
    "for element in set(liste):\n",
    "    freq_dict[element] = liste.count(element)\n",
    "freq_dict = sorted(freq_dict.items(), key = lambda: x: x[1])"
   ]
  }
 ],
 "metadata": {
  "kernelspec": {
   "display_name": "Python 3 (ipykernel)",
   "language": "python",
   "name": "python3"
  },
  "language_info": {
   "codemirror_mode": {
    "name": "ipython",
    "version": 3
   },
   "file_extension": ".py",
   "mimetype": "text/x-python",
   "name": "python",
   "nbconvert_exporter": "python",
   "pygments_lexer": "ipython3",
   "version": "3.10.8"
  }
 },
 "nbformat": 4,
 "nbformat_minor": 5
}
