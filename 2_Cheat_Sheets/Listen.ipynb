{
 "cells": [
  {
   "cell_type": "code",
   "execution_count": 1,
   "id": "c4e6d470-1802-4793-b36a-993e5a5a7d69",
   "metadata": {},
   "outputs": [
    {
     "name": "stdout",
     "output_type": "stream",
     "text": [
      "\n"
     ]
    }
   ],
   "source": [
    "%%script echo \n",
    "\n",
    "liste.append(element) #hängt das Element ans Ende der Liste; gleichbedeutend mit:\n",
    "liste += [element] #beachte die eckigen Klammern!\n",
    "liste.insert(index, element) #fügt das Element an der Stelle des angegebenen Index auf der Liste ein \n",
    "liste.extend(element) #hängt die Element eines iterierbaren Objekts einzeln an die Liste an (z.B. alle Elemente einer Liste oder alle Zeichen eines strings als einzelne Listenelemente, anstatt die Liste/den string als ein einziges Listenelement)\n",
    "liste[start:end] = [new_element1, new_element2] #ersetzt die Werte zwischen Start- und Endindex auf der Liste mit neuen Werten\n",
    "liste.remove(element) #entfernt das (erste) angegenene Element von der Liste\n",
    "liste.pop() #gibt das letzte Element der Liste zurück und entfernt es gleichzeitig von der Liste\n",
    "liste.pop(index) #gibt das Element an der Stelle des angegebenen Index zurück und entfernt es gleichzeitig von der Liste\n",
    "liste2 = liste1[:] #kopiert die Elemente von liste1 auf eine neue Liste liste2 (anstatt nur eine zweite Variable einzuführen, die auf das gleiche Objekt zeigt), Änderungen an liste2 verändern nichts an liste1 (vgl. Datentypen/Veränderlichkeit)\n",
    "liste.index(\"value\") #gibt den Index des ersten Vorkommens des angegebenen Werts zurück\n",
    "liste.reverse() #kehrt die Reihenfolge der Liste um\n",
    "liste.sort(key=... [, reverse=True]) #sortiert die Liste (in place, d.h. das Objekt wird dadurch verändert); key definiert wonach sortiert wird (z.B. len, oder eine lambda-Funktion); der optionale Parameter reverse=True bedeutet absteigende Reihenfolge\n",
    "liste2 = sorted(liste1, key=... [, reverse=True]) #gibt die Liste sortiert zurück (nicht in place, d.h. das Objekt wird dadurch nicht verändert, daher auf neue Variable schreiben, um weiter mit sortierter Liste zu arbeiten); key definiert wonach sortiert wird (z.B. len, oder eine lambda-Funktion); der optionale Parameter reverse=True bedeutet absteigende Reihenfolge\n",
    "liste.count(\"value\") #zählt das Vorkommen des angegebenen Werts auf der Liste\n",
    "\n",
    "#erstellt eine Frequenzliste basierend auf dem Vorkommen von Elementen auf einer Liste\n",
    "freq_dict = {}\n",
    "for element in set(liste):\n",
    "    freq_dict[element] = liste.count(element)\n",
    "freq_dict = sorted(freq_dict.items(), key = lambda: x: x[1])"
   ]
  },
  {
   "cell_type": "code",
   "execution_count": 12,
   "id": "b58a34fd-5d58-4f31-a451-2a308fb65124",
   "metadata": {},
   "outputs": [
    {
     "name": "stdout",
     "output_type": "stream",
     "text": [
      "['b', 'a']\n"
     ]
    }
   ],
   "source": [
    "my_list = [\"a\", \"b\"]\n",
    "my_list.reverse()\n",
    "print(my_list)"
   ]
  },
  {
   "cell_type": "code",
   "execution_count": 8,
   "id": "7cdc8536-7a33-4c1d-ab0e-5a63bf21f0da",
   "metadata": {},
   "outputs": [
    {
     "name": "stdout",
     "output_type": "stream",
     "text": [
      "['grape', 'orange', 'banana', 'apple']\n"
     ]
    }
   ],
   "source": [
    "my_list = [\"apple\", \"banana\", \"orange\", \"grape\"]\n",
    "my_list.reverse()\n",
    "print(my_list)"
   ]
  },
  {
   "cell_type": "markdown",
   "id": "cc9c9737-fdc1-4330-8012-3a8c2e642783",
   "metadata": {},
   "source": [
    "\n",
    "***\n",
    "<table>\n",
    "      <tr>\n",
    "        <td>\n",
    "            <img src=\"../3_Dateien/Lizenz/CC-BY-SA.png\" width=\"400\">\n",
    "        </td> \n",
    "        <td>\n",
    "            <p>Dieses Notebook sowie sämtliche weiteren <a href=\"https://github.com/yannickfrommherz/exdimed-student/tree/main\">Materialien zum Programmierenlernen für Geistes- und Sozialwissenschaftler:innen</a> sind im Rahmen des Projekts <i>Experimentierraum Digitale Medienkompetenz</i> als Teil von <a href=\"https://tu-dresden.de/gsw/virtuos/\">virTUos</a> entstanden. Erstellt wurden sie von Yannick Frommherz. Sie stehen als Open Educational Resource nach <a href=\"https://creativecommons.org/licenses/by-sa/4.0/\">CC BY SA</a> zur freien Verfügung. Für Feedback und bei Fragen nutz bitte das <a href=\"https://forms.gle/VsYJgy4bZTSqKioA7\">Kontaktformular</a>.\n",
    "        </td>\n",
    "      </tr>\n",
    "</table>"
   ]
  }
 ],
 "metadata": {
  "kernelspec": {
   "display_name": "Python 3 (ipykernel)",
   "language": "python",
   "name": "python3"
  },
  "language_info": {
   "codemirror_mode": {
    "name": "ipython",
    "version": 3
   },
   "file_extension": ".py",
   "mimetype": "text/x-python",
   "name": "python",
   "nbconvert_exporter": "python",
   "pygments_lexer": "ipython3",
   "version": "3.10.8"
  }
 },
 "nbformat": 4,
 "nbformat_minor": 5
}
