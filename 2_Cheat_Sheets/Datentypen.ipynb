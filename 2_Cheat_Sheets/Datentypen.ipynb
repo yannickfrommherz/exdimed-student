{
 "cells": [
  {
   "cell_type": "code",
   "execution_count": null,
   "id": "03b359c7-5323-4cf4-a369-ccba6c0e9cea",
   "metadata": {},
   "outputs": [],
   "source": [
    "%%script echo\n",
    "\n",
    "#Datentyp         #Kurzf. #Beispiel             #Eigenschaften\n",
    "Zeichenketten:    str:    \"hello world\"         #unveränderlich, sequentiell, iterierbar\n",
    "Ganzzahlen:       int:    20                    #unveränderlich\n",
    "Dezimalzahlen:    float:  20.5                  #unveränderlich, Dezimalzeichen: \".\"\n",
    "Listen:           list:   [0,1,2]               #veränderlicher Objektbehälter, sequentiell, iterierbar, kann Objekte jeglichen Typs enthalten\n",
    "Dictionaries:     dict:   {\"key1\": \"value1\", /\n",
    "                           \"key2\": \"value2\"}    #veränderlicher Objektbehälter, iterierbar, jeder Schlüssel kann nur einmal existieren und muss unveränderlich sein, Werte können mehrfach existieren\n",
    "Mengen:           set:    {0,1,2}               #veränderlicher Objektbehälter, iterierbar, enthält nur einzigartige (unveränderliche) Objekte\n",
    "Tupel:            tuple:  (0,1,2)               #unveränderlicher Objektbehälter, sequentiell, iterierbar, kann Objekte jeglichen Typs enthalten\n",
    "Boolsche Werte:   bool:   True / False          #unveränderlich, beachte Großschreibung"
   ]
  },
  {
   "cell_type": "markdown",
   "id": "4b3e6b5c-8452-4138-a1ad-8dc357adc670",
   "metadata": {},
   "source": [
    "<br><br>\n",
    "***\n",
    "<table>\n",
    "      <tr>\n",
    "        <td>\n",
    "            <img src=\"../3_Dateien/Lizenz/CC-BY-SA.png\" width=\"400\">\n",
    "        </td> \n",
    "        <td>\n",
    "            <p>Dieses Notebook sowie sämtliche weiteren <a href=\"https://github.com/yannickfrommherz/exdimed-student/tree/main\">Materialien zum Programmierenlernen für Geistes- und Sozialwissenschaftler:innen</a> sind im Rahmen des Projekts <i>Experimentierraum Digitale Medienkompetenz</i> als Teil von <a href=\"https://tu-dresden.de/gsw/virtuos/\">virTUos</a> entstanden. Erstellt wurden sie von Yannick Frommherz. Sie stehen als Open Educational Resource nach <a href=\"https://creativecommons.org/licenses/by-sa/4.0/\">CC BY SA</a> zur freien Verfügung.\n",
    "        </td>\n",
    "      </tr>\n",
    "</table>"
   ]
  }
 ],
 "metadata": {
  "kernelspec": {
   "display_name": "Python 3 (ipykernel)",
   "language": "python",
   "name": "python3"
  },
  "language_info": {
   "codemirror_mode": {
    "name": "ipython",
    "version": 3
   },
   "file_extension": ".py",
   "mimetype": "text/x-python",
   "name": "python",
   "nbconvert_exporter": "python",
   "pygments_lexer": "ipython3",
   "version": "3.10.12"
  }
 },
 "nbformat": 4,
 "nbformat_minor": 5
}
