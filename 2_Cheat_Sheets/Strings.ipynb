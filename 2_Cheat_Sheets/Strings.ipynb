{
 "cells": [
  {
   "cell_type": "code",
   "execution_count": 1,
   "id": "785683a0-b66f-489d-84d6-6a1619010522",
   "metadata": {},
   "outputs": [
    {
     "name": "stdout",
     "output_type": "stream",
     "text": [
      "\n"
     ]
    }
   ],
   "source": [
    "%%script echo\n",
    "\n",
    "#Sequenzoperationen\n",
    "word in string #gibt True zurück, falls sich word in string befindet\n",
    "word not in string #gibt True zurück, falls sich word nicht in string befindet\n",
    "len(string) #gibt die Länge in Zeichen des strings zurück\n",
    "string = string1 + string2 #konkateniert die beiden strings (d.h., sie werden aneinander gehängt) \n",
    "string[1] #gibt das Zeichen mit Index 1 zurück (d.h. in natürlicher Sprache das zweite Zeichen), vgl. Indexing\n",
    "string[2:4] #gibt die Zeichen mit Indizes 2 und 3 zurück, vgl. Slicing\n",
    "\n",
    "#Groß- und Kleinbuchstaben (casing)\n",
    "string = string.lower() #ändert alle Zeichen in Kleinbuchstaben (lowercasing)\n",
    "string = string.upper() #ändert alle Zeichen in Großbuchstaben (uppercasing) \n",
    "string = string.capitalize() #ändert das erste Zeichen in Großbuchstaben (capitalizing)\n",
    "string = string.title() #ändert alle Buchstaben an jedem Wortanfang in Großbuchstaben (wie üblich in englischsprachigen Titel)\n",
    "string = string.swapcase() #ändert sämtliche großgeschriebenen Buchstaben in Kleinbuchstaben und umgekehrt\n",
    "string.islower() #gibt True zurück, falls alle Zeichen Kleinbuchstaben sind\n",
    "string.isupper() #gibt True zurück, falls alle Zeichen Großbuchstaben sind\n",
    "string.istitle() #gibt True zurück, falls alle Buchstaben am Wortanfang Großbuchstaben sind\n",
    "\n",
    "#whitespace\n",
    "string = string.strip() #entfernt whitespace am Anfang und Ende vom string\n",
    "string = string.strip(\".\") #entfernt . am Anfang und Ende vom string; beliebige andere Zeichen (auch mehrere) können dadurch entfernt werden\n",
    "string = string.lstrip() #entfernt whitespace am Anfang vom string\n",
    "string = string.rstrip() #entfernt whitespace am Ende vom string\n",
    "string.isspace() #gibt True zurück, falls der string nur whitespace enthält \n",
    "\n",
    "#split \n",
    "string = string.split(sep [, maxsplit]) #spaltet den string bei jedem Separator (sep) und gibt eine Liste zurück; Standardseparator ist whitespace; optional kann eine maximale Anzahl von splits (gerechnet von links) angegeben werden (maxsplit), alles danach kommt ins letzte Element auf der Liste\n",
    "string = string.partition(sep) #partitioniert den string beim Separator (sep) und gibt einen 3-Tuple zurück mit dem Part vor dem Separator, dem Separator selbst und dem Part danach\n",
    "\n",
    "#Zählen, finden, ersetzen\n",
    "string.count(\"x\") # zählt das Vorkommen von x im string\n",
    "string = string.find(\"x\") #gibt den Index des ersten Vorkommens von x im string zurück\n",
    "string.index(\"x\" [, start, end]) #gibt Index des ersten Vorkommens von x innerhalb von (optionalen) Start- und Endindizes im string zurück\n",
    "string = string.replace(\"to_be_replaced\", \"replace_by\") #ersetzt alle \"to_be_replaced\" mit \"replace_by\" im string\n",
    "\n",
    "#startswith, endswith\n",
    "string.startswith(\"word\") #gibt True zurück, wenn der string mit word anfängt, wird i.d.R. in if-statements eingesetzt\n",
    "string.endsswith(\"word\") #gibt True zurück, wenn der string mit word aufhört, wird i.d.R. in if-statements eingesetzt\n",
    "\n",
    "#von einer Liste (oder einem anderen iterierbaren Objekt) zu einem string\n",
    "string = \" \".join(list) #gibt einen string zurück, indem sämtliche Elemente auf der Liste mit einem Leerschlag (andere Zwischenzeichen möglich) konkateniert werden"
   ]
  },
  {
   "cell_type": "markdown",
   "id": "e0554c01-05bd-4219-8bc5-2766fa711110",
   "metadata": {},
   "source": [
    "\n",
    "***\n",
    "<table>\n",
    "      <tr>\n",
    "        <td>\n",
    "            <img src=\"../3_Dateien/Lizenz/CC-BY-SA.png\" width=\"400\">\n",
    "        </td> \n",
    "        <td>\n",
    "            <p>Dieses Notebook sowie sämtliche weiteren <a href=\"https://github.com/yannickfrommherz/exdimed-student/tree/main\">Materialien zum Programmierenlernen für Geistes- und Sozialwissenschaftler:innen</a> sind im Rahmen des Projekts <i>Experimentierraum Digitale Medienkompetenz</i> als Teil von <a href=\"https://tu-dresden.de/gsw/virtuos/\">virTUos</a> entstanden. Erstellt wurden sie von Yannick Frommherz. Sie stehen als Open Educational Resource nach <a href=\"https://creativecommons.org/licenses/by-sa/4.0/\">CC BY SA</a> zur freien Verfügung. Für Feedback und bei Fragen nutz bitte das <a href=\"https://forms.gle/VsYJgy4bZTSqKioA7\">Kontaktformular</a>.\n",
    "        </td>\n",
    "      </tr>\n",
    "</table>"
   ]
  }
 ],
 "metadata": {
  "kernelspec": {
   "display_name": "Python 3 (ipykernel)",
   "language": "python",
   "name": "python3"
  },
  "language_info": {
   "codemirror_mode": {
    "name": "ipython",
    "version": 3
   },
   "file_extension": ".py",
   "mimetype": "text/x-python",
   "name": "python",
   "nbconvert_exporter": "python",
   "pygments_lexer": "ipython3",
   "version": "3.10.12"
  }
 },
 "nbformat": 4,
 "nbformat_minor": 5
}
