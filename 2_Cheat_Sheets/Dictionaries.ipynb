{
 "cells": [
  {
   "cell_type": "code",
   "execution_count": 1,
   "id": "8d5ddde1-cf89-410c-826b-aa7cccf1d67a",
   "metadata": {},
   "outputs": [
    {
     "name": "stdout",
     "output_type": "stream",
     "text": [
      "\n"
     ]
    }
   ],
   "source": [
    "%%script echo\n",
    "\n",
    "dictionary[\"key\"] #gibt den Wert zum angegebenen Schlüssel zurück; gibt einen Fehler zurück, wenn der Schlüssel nicht existiert\n",
    "dictionary.get(\"key\" [, \"default\"]) #gibt den Wert zum angegebenen Schlüssel zurück; gibt None oder den angegebenen \"default\" zurück, wenn der Schlüssel nicht existiert\n",
    "\"key\" in dictionary #gibt True zurück, wenn der angegebene Schlüssel existiert\n",
    "dictionary[\"key\"] = value #fügt dem dictionary ein neues Schlüssel-Werte-Paar hinzu oder überschreibt ein bestehendes (wenn der Schlüssel bereits existiert)\n",
    "del dictionary[\"key\"] #löscht das Schlüssel-Werte-Paar mit dem angegebenen Schlüssel\n",
    "dictionary.clear() #löscht alle Schlüssel-Werte-Paare im dictionary\n",
    "dictionary.pop(\"key\" [, \"default\"]) #gibt den Wert zum angegebenen Schlüssel zurück und entfernt gleichzeitig das entsprechende Schlüssel-Werte-Paar aus dem dictionary; wenn der Schlüssel nicht existiert wird der angegebene \"default\" zurückgegeben\n",
    "dictionary.popitem() #gibt zufälliges Schlüssel-Werte-Paar zurück und entfernt es aus dem dictionary\n",
    "dictionary.update(dictionary2) #fügt die Schlüssel-Werte-Paare aus dictionary2 zu dictionary hinzu, wobei bei identischem Schlüssel die Werte in dictionary durch Werte aus dictionary2 überschrieben werden\n",
    "dictionary2 = dictionary.copy() #schafft eine Kopie vom dictionary mit eigener id; da dictionaries veränderlich sind, würde das Referenzieren eines bestehenden dictionaries mit einer neuen Variable nur zu einer zweiten Referenz auf das gleiche Objekt mit der gleichen id führen\n",
    "list(dictionary.keys()) #gibt eine Liste mit allen Schlüsseln im dictionary zurück (ohne casting zu einer Liste wird ein \"set-like objekt\" zurückgegeben, das einen \"view\" auf die Schlüssel ermöglicht); gleichbedeutend mit:\n",
    "list(dictionary) #gibt eine Liste mit allen Schlüsseln zurück\n",
    "list(dictionary.values()) #gibt eine Liste mit allen Werten zurück (ohne casting zu einer Liste wird ein \"set-like objekt\" zurückgegeben, das einen \"view\" auf die Werte ermöglicht)\n",
    "list(dictionary.items()) #gibt eine Liste mit Tupeln bestehend aus allen Schlüssel-Werte-Paaren zurück\n",
    "\n",
    "#über Schlüssel-Werte-Paare iterieren (zwei Wege):\n",
    "for key_value_pair in dictionary.items(): \n",
    "    print(key_value_pair) #gibt Tupel zurück\n",
    "for key, value in dictionary.items():\n",
    "    print(key, value) #gibt Schlüssel und Wert einzeln zurück\n",
    "    \n",
    "#über Schlüssel iterieren (zwei Wege):\n",
    "for key in dictionary:\n",
    "    print(key)\n",
    "for key in dictionary.keys():\n",
    "    print(key)\n",
    "\n",
    "#über Werte iterieren:\n",
    "for value in dictionary.values():\n",
    "    print(value)\n",
    "    \n",
    "#sortieren (nicht in place, d.h. der Output muss einer neuen Variablen zugewiesen werden, um weiter damit arbeiten zu können)\n",
    "dictionary2 = sorted(dictionary.items(), key=lambda x: x[1], reverse=True) #sortiert das dictionary nach Werten in absteigender Reihenfolge, Ergebnis ist eine Liste!"
   ]
  },
  {
   "cell_type": "markdown",
   "id": "a54830ef-21c0-4258-90e8-d236f50a4368",
   "metadata": {},
   "source": [
    "\n",
    "***\n",
    "<table>\n",
    "      <tr>\n",
    "        <td>\n",
    "            <img src=\"../3_Dateien/Lizenz/CC-BY-SA.png\" width=\"400\">\n",
    "        </td> \n",
    "        <td>\n",
    "            <p>Dieses Notebook sowie sämtliche weiteren <a href=\"https://github.com/yannickfrommherz/exdimed-student/tree/main\">Materialien zum Programmierenlernen für Geistes- und Sozialwissenschaftler:innen</a> sind im Rahmen des Projekts <i>Experimentierraum Digitale Medienkompetenz</i> als Teil von <a href=\"https://tu-dresden.de/gsw/virtuos/\">virTUos</a> entstanden. Erstellt wurden sie von Yannick Frommherz. Sie stehen als Open Educational Resource nach <a href=\"https://creativecommons.org/licenses/by-sa/4.0/\">CC BY SA</a> zur freien Verfügung.\n",
    "        </td>\n",
    "      </tr>\n",
    "</table>"
   ]
  }
 ],
 "metadata": {
  "kernelspec": {
   "display_name": "Python 3 (ipykernel)",
   "language": "python",
   "name": "python3"
  },
  "language_info": {
   "codemirror_mode": {
    "name": "ipython",
    "version": 3
   },
   "file_extension": ".py",
   "mimetype": "text/x-python",
   "name": "python",
   "nbconvert_exporter": "python",
   "pygments_lexer": "ipython3",
   "version": "3.10.12"
  }
 },
 "nbformat": 4,
 "nbformat_minor": 5
}
