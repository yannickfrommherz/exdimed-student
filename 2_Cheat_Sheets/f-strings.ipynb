{
 "cells": [
  {
   "cell_type": "markdown",
   "id": "02d94b6a-92b6-43a8-9720-307261b53010",
   "metadata": {},
   "source": [
    "# f-strings\n",
    "\n",
    "F-strings sind strings, denen ein \"f\" oder \"F\" unmittelbar vor das öffnende Anführungszeichen gestellt wird. Innerhalb des strings können in geschweiften Klammern beliebig viele Werte stehen stehen. Befinden sich strings innerhalb der geschweiften Klammern, so müssen diese von den jeweils anderen Anführungszeichen (als der f-string) umrahmt werden. Die Werte in den geschweiften Klammern können vielseitig formatiert werden (s.u.).\n",
    "\n",
    "## Einbauen von Werten in strings"
   ]
  },
  {
   "cell_type": "code",
   "execution_count": 26,
   "id": "5d0b3292-0c63-4dc3-af67-755806ab62a5",
   "metadata": {},
   "outputs": [
    {
     "name": "stdout",
     "output_type": "stream",
     "text": [
      "Mein Name ist Max und ich bin 17 Jahre alt.\n"
     ]
    }
   ],
   "source": [
    "name, age = \"max\", 17\n",
    "\n",
    "#Variable, auf die eine Methode angewandt wird (erste geschweifte Klammer), sowie einfache Variable (zweite geschweifte Klamemr)\n",
    "print(f\"Mein Name ist {name.capitalize()} und ich bin {age} Jahre alt.\")"
   ]
  },
  {
   "cell_type": "code",
   "execution_count": 27,
   "id": "f36b22f3-3e3a-4b27-9d1b-f70bc78e8fdd",
   "metadata": {},
   "outputs": [
    {
     "name": "stdout",
     "output_type": "stream",
     "text": [
      "Mein Name ist Max und ich bin 17 Jahre alt.\n",
      "Mein Name ist Moritz und ich bin 18 Jahre alt.\n",
      "Mein Name ist Max und ich bin 17 Jahre alt.\n"
     ]
    }
   ],
   "source": [
    "persons = {\"max\": 17, \"moritz\": 18}\n",
    "\n",
    "#dictionary-Abfrage in eine for-Schleife eingebaut\n",
    "for key, value in persons.items():\n",
    "    print(f\"Mein Name ist {key.capitalize()} und ich bin {value} Jahre alt.\")\n",
    "    \n",
    "#Wertabfrage zu einem bestimmten Schlüssel im dictionary (in der zweiten geschweiften Klammer)\n",
    "print(f\"Mein Name ist {name.capitalize()} und ich bin {persons[name]} Jahre alt.\")"
   ]
  },
  {
   "cell_type": "code",
   "execution_count": 28,
   "id": "c5bcda87-021b-4c0c-b075-aa802dba0247",
   "metadata": {},
   "outputs": [
    {
     "name": "stdout",
     "output_type": "stream",
     "text": [
      "11 mal 11 ist 121.\n"
     ]
    }
   ],
   "source": [
    "num = 11\n",
    "\n",
    "#arithmetischer Ausdruck in der zweiten geschweiften Klammer\n",
    "print(f\"{num} mal {num} ist {num*11}.\")"
   ]
  },
  {
   "cell_type": "code",
   "execution_count": 29,
   "id": "e6be512a-d934-4998-b3a1-8ab853de06c6",
   "metadata": {},
   "outputs": [
    {
     "name": "stdout",
     "output_type": "stream",
     "text": [
      "'cba' in alphabetischer Reihenfolge ist 'abc'.\n"
     ]
    }
   ],
   "source": [
    "#Funktionsaufruf sowie auf Resultat angewandte Methode in der geschweiften Klammer\n",
    "#Achtung: strings für Methode und Funktion müssen in den jeweils anderen Anführungszeichen definiert werden!\n",
    "print(f\"'cba' in alphabetischer Reihenfolge ist '{''.join(sorted('cba'))}'.\")"
   ]
  },
  {
   "cell_type": "code",
   "execution_count": 30,
   "id": "70b3cb74-0974-49d7-97a2-91e97a844d31",
   "metadata": {},
   "outputs": [
    {
     "name": "stdout",
     "output_type": "stream",
     "text": [
      "Max ist minderjährig\n"
     ]
    }
   ],
   "source": [
    "#bedingte Anweisung in der geschweiften Klammer\n",
    "print(f\"{name.capitalize()} ist {'erwachsen' if age>18 else 'minderjährig'}\")"
   ]
  },
  {
   "cell_type": "markdown",
   "id": "51b5d87f-5882-48fe-9da6-708f823e5534",
   "metadata": {},
   "source": [
    "## Formatierungsoptionen für Werte\n",
    "\n",
    "Werte in den geschweiften Klammern können auf verschiedene Weise formatiert werden. Nach dem Wert steht ein Doppelpunkt, danach die gewünschten Formatbefehle:"
   ]
  },
  {
   "cell_type": "code",
   "execution_count": 31,
   "id": "8f89be04-fb13-4d83-abe7-8eae4e2e0041",
   "metadata": {},
   "outputs": [
    {
     "name": "stdout",
     "output_type": "stream",
     "text": [
      "\n"
     ]
    }
   ],
   "source": [
    "%%script echo\n",
    "\n",
    "#Grundlegende Syntax (eckige Klammern nur zur klareren Abtrennung!)\n",
    "\n",
    "f\"{value:[alignment][digit_space].[decimals][data_type]}\"\n",
    "\n",
    "#[alignment] definiert ob der Wert rechts-, linksbündig oder zentriert innerhalb des [digit_space] ausgerichtet werden soll\n",
    "< #linksbündig (Standard, wenn Wert ein string ist)\n",
    "> #rechtsbündig (Standard, wenn Wert eine Zahl ist)\n",
    "^ #zentriert\n",
    "\n",
    "#[digit_space] definiert innerhalb wievieler Zeichen der Wert ausgegeben werden soll\n",
    "#greift nur, wenn len(value) < [digit_space]\n",
    "f\"{value:7}\" #gibt den Wert innerhalb eines Raums von 7 Zeichen zurück\n",
    "f\"{value:07}\" #gleich wie oben, wobei leere Stellen (i.d.R. links, da Zahlen rechstbündig aligniert werden) mit Nullen aufgefüllt werden (zero padding)\n",
    "\n",
    "#[decimals] definiert auf wieviele Nachkommastellen der Wert gerundet werden soll (funktioniert natürlich nur bei Zahlen)\n",
    "#[data_type] definiert den Datentypen des Werts (f für float, d für Ganzzahlen), wird i.d.R. als \"f\" angegeben, wenn Nachkommastellen definiert werden [decimals]\n",
    "#beachte den obligatorischen Punkt vor [decimals], bzw. zwischen [digit_space] und [decimals]\n",
    "f\"{value:.2f}\" #Wert wird auf zwei Nachkommastellen gerundet"
   ]
  },
  {
   "cell_type": "markdown",
   "id": "e7d79c73-27f9-4bb0-9d80-60af56f8e362",
   "metadata": {},
   "source": [
    "***\n",
    "<table>\n",
    "      <tr>\n",
    "        <td>\n",
    "            <img src=\"../3_Dateien/Lizenz/CC-BY-SA.png\" width=\"400\">\n",
    "        </td> \n",
    "        <td>\n",
    "            <p>Dieses Notebook sowie sämtliche weiteren <a href=\"https://github.com/yannickfrommherz/exdimed-student/tree/main\">Materialien zum Programmierenlernen für Geistes- und Sozialwissenschaftler:innen</a> sind im Rahmen des Projekts <i>Experimentierraum Digitale Medienkompetenz</i> als Teil von <a href=\"https://tu-dresden.de/gsw/virtuos/\">virTUos</a> entstanden. Erstellt wurden sie von Yannick Frommherz. Sie stehen als Open Educational Resource nach <a href=\"https://creativecommons.org/licenses/by-sa/4.0/\">CC BY SA</a> zur freien Verfügung. Für Feedback und bei Fragen nutz bitte das <a href=\"https://forms.gle/VsYJgy4bZTSqKioA7\">Kontaktformular</a>.\n",
    "        </td>\n",
    "      </tr>\n",
    "</table>"
   ]
  }
 ],
 "metadata": {
  "kernelspec": {
   "display_name": "Python 3 (ipykernel)",
   "language": "python",
   "name": "python3"
  },
  "language_info": {
   "codemirror_mode": {
    "name": "ipython",
    "version": 3
   },
   "file_extension": ".py",
   "mimetype": "text/x-python",
   "name": "python",
   "nbconvert_exporter": "python",
   "pygments_lexer": "ipython3",
   "version": "3.10.12"
  }
 },
 "nbformat": 4,
 "nbformat_minor": 5
}
